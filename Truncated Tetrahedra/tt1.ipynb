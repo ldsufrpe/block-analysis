{
 "cells": [
  {
   "cell_type": "markdown",
   "metadata": {},
   "source": [
    "## Analyzing the block 1 Truncated Tetrahedra"
   ]
  },
  {
   "cell_type": "code",
   "execution_count": 1,
   "metadata": {
    "collapsed": false,
    "jupyter": {
     "outputs_hidden": false
    }
   },
   "outputs": [],
   "source": [
    "load(\"../util.sage\")"
   ]
  },
  {
   "cell_type": "code",
   "execution_count": 2,
   "metadata": {},
   "outputs": [],
   "source": [
    "var('t, c')\n",
    "assume(c>0)\n",
    "assume(t>0, t<1/2)\n",
    "p11 = 384*c*t - 192*c - 2*sqrt(2)*t/(4*t^2 - 4*t + 1)^(3/2) - sqrt(2)*t/(t^2 - 2*t + 1)^(3/2) - sqrt(2)*t/(t^2)^(3/2) - 24*t/(6*t^2 - 6*t + 2)^(3/2) - 8*t/(4*t^2 - 4*t + 2)^(3/2) + sqrt(2)/(4*t^2 - 4*t + 1)^(3/2) + sqrt(2)/(t^2 - 2*t + 1)^(3/2) + 12/(6*t^2 - 6*t + 2)^(3/2) + 4/(4*t^2 - 4*t + 2)^(3/2)\n",
    "p12 = 96*c + sqrt(2)*t/(t^2 - 2*t + 1)^(3/2) - sqrt(2)*t/(t^2)^(3/2) - sqrt(2)/(t^2 - 2*t + 1)^(3/2) - 4/(6*t^2 - 6*t + 2)^(3/2) - 4/(4*t^2 - 4*t + 2)^(3/2)"
   ]
  },
  {
   "cell_type": "code",
   "execution_count": 3,
   "metadata": {},
   "outputs": [],
   "source": [
    "solc = solve(p12, c)[0].rhs()\n",
    "p1 = p11(c=solc)\n",
    "p1_sim = p1.simplify_real().expand().combine()"
   ]
  },
  {
   "cell_type": "code",
   "execution_count": 4,
   "metadata": {},
   "outputs": [
    {
     "data": {
      "text/html": [
       "<html>\\(\\displaystyle -\\frac{4 \\, {\\left(2 \\, t - 1\\right)}}{{\\left(6 \\, t^{2} - 6 \\, t + 2\\right)}^{\\frac{3}{2}}} + \\frac{4 \\, {\\left(2 \\, t - 1\\right)}}{{\\left(4 \\, t^{2} - 4 \\, t + 2\\right)}^{\\frac{3}{2}}} + \\frac{4 \\, \\sqrt{2}}{t} - \\frac{3 \\, \\sqrt{2}}{t^{2}} + \\frac{2 \\, \\sqrt{2} t - \\sqrt{2}}{{\\left(2 \\, t - 1\\right)}^{3}} + \\frac{4 \\, \\sqrt{2} t^{2} - 5 \\, \\sqrt{2} t + \\sqrt{2}}{{\\left(t - 1\\right)}^{3}}\\)</html>"
      ],
      "text/latex": [
       "$\\displaystyle -\\frac{4 \\, {\\left(2 \\, t - 1\\right)}}{{\\left(6 \\, t^{2} - 6 \\, t + 2\\right)}^{\\frac{3}{2}}} + \\frac{4 \\, {\\left(2 \\, t - 1\\right)}}{{\\left(4 \\, t^{2} - 4 \\, t + 2\\right)}^{\\frac{3}{2}}} + \\frac{4 \\, \\sqrt{2}}{t} - \\frac{3 \\, \\sqrt{2}}{t^{2}} + \\frac{2 \\, \\sqrt{2} t - \\sqrt{2}}{{\\left(2 \\, t - 1\\right)}^{3}} + \\frac{4 \\, \\sqrt{2} t^{2} - 5 \\, \\sqrt{2} t + \\sqrt{2}}{{\\left(t - 1\\right)}^{3}}$"
      ],
      "text/plain": [
       "-4*(2*t - 1)/(6*t^2 - 6*t + 2)^(3/2) + 4*(2*t - 1)/(4*t^2 - 4*t + 2)^(3/2) + 4*sqrt(2)/t - 3*sqrt(2)/t^2 + (2*sqrt(2)*t - sqrt(2))/(2*t - 1)^3 + (4*sqrt(2)*t^2 - 5*sqrt(2)*t + sqrt(2))/(t - 1)^3"
      ]
     },
     "metadata": {},
     "output_type": "display_data"
    }
   ],
   "source": [
    "p1_sim_pow = simplify_fractional_radicals(p1_sim); show(p1_sim_pow)"
   ]
  },
  {
   "cell_type": "code",
   "execution_count": 5,
   "metadata": {},
   "outputs": [],
   "source": [
    "p1_new = -4*sqrt(2)*t^2/(1-t)^3 - 2*sqrt(2)*t/(1-2*t)^3 + 5*sqrt(2)*t/(1-t)^3 + 4*sqrt(2)/t - 8*t/(6*t^2 - 6*t + 2)^(3/2) + 8*t/(4*t^2 - 4*t + 2)^(3/2) + sqrt(2)/(1-2*t)^(3) - sqrt(2)/(1-t)^3+ 4/(6*t^2 - 6*t + 2)^(3/2) - 4/(4*t^2 - 4*t + 2)^(3/2) - 3*sqrt(2)/t^2"
   ]
  },
  {
   "cell_type": "code",
   "execution_count": 29,
   "metadata": {},
   "outputs": [],
   "source": [
    "#plot(p1_sim_pow,0.01, 0.5, color=\"red\", detect_poles='show', ymax=100, ymin=-100) + plot(p1_sim,0.1, 0.5, color=\"green\") + plot(p1_new,0.1, 0.5, color=\"blue\") "
   ]
  },
  {
   "cell_type": "markdown",
   "metadata": {},
   "source": [
    "##### Calculate the values of $u$ for $t = 0$ and $t = 1$\n"
   ]
  },
  {
   "cell_type": "code",
   "execution_count": 7,
   "metadata": {},
   "outputs": [],
   "source": [
    "#variable_ranges = [(u0, u1), (v0, v1), (0, 1)]"
   ]
  },
  {
   "cell_type": "markdown",
   "metadata": {},
   "source": [
    "##### Change of variables:  $v^2 = 6t^2 - 6t + 2$, $u^2=4t^2 - 4t + 2$"
   ]
  },
  {
   "cell_type": "code",
   "execution_count": 7,
   "metadata": {
    "collapsed": false,
    "jupyter": {
     "outputs_hidden": false
    }
   },
   "outputs": [],
   "source": [
    "p1_new_diff = diff(p1_sim_pow, t)\n",
    "p1_new_diff_numerator = p1_new_diff.numerator().simplify_real().expand().combine()\n",
    "p1_uvt_numerator = p1_new_diff_numerator.subs({4*t^2 - 4*t + 2:u^2, 6*t^2 - 6*t + 2:v^2}).simplify_real().expand().combine()"
   ]
  },
  {
   "cell_type": "code",
   "execution_count": 8,
   "metadata": {},
   "outputs": [
    {
     "data": {
      "text/html": [
       "<html>\\(\\displaystyle -21233664 \\, \\sqrt{2} t^{23} + 242860032 \\, \\sqrt{2} t^{22} - 995328 \\, t^{19} u^{3} + 82944 \\, t^{17} u^{5} + 294912 \\, t^{19} v^{3} - 16384 \\, t^{17} v^{5} - 1404518400 \\, \\sqrt{2} t^{21} + 9455616 \\, t^{18} u^{3} - 705024 \\, t^{16} u^{5} - 2801664 \\, t^{18} v^{3} + 139264 \\, t^{16} v^{5} + 5422104576 \\, \\sqrt{2} t^{20} - 42135552 \\, t^{17} u^{3} + 2785536 \\, t^{15} u^{5} + 12681216 \\, t^{17} v^{3} - 561152 \\, t^{15} v^{5} - 15565160448 \\, \\sqrt{2} t^{19} + 117033984 \\, t^{16} u^{3} - 6791040 \\, t^{14} u^{5} - 36347904 \\, t^{16} v^{3} + 1423360 \\, t^{14} v^{5} + 35115614208 \\, \\sqrt{2} t^{18} - 226996992 \\, t^{15} u^{3} + 11428992 \\, t^{13} u^{5} + 73893888 \\, t^{15} v^{3} - 2541568 \\, t^{13} v^{5} - 64313278464 \\, \\sqrt{2} t^{17} + 326270592 \\, t^{14} u^{3} - 14062464 \\, t^{12} u^{5} - 113015808 \\, t^{14} v^{3} + 3381248 \\, t^{12} v^{5} + 97617346560 \\, \\sqrt{2} t^{16} - 359740800 \\, t^{13} u^{3} + 13058688 \\, t^{11} u^{5} + 134525952 \\, t^{13} v^{3} - 3457024 \\, t^{11} v^{5} - 124499451904 \\, \\sqrt{2} t^{15} + 310557312 \\, t^{12} u^{3} - 9305472 \\, t^{10} u^{5} - 127116288 \\, t^{12} v^{3} + 2759680 \\, t^{10} v^{5} + 134671895552 \\, \\sqrt{2} t^{14} - 212246400 \\, t^{11} u^{3} + 5117056 \\, t^{9} u^{5} + 96344064 \\, t^{11} v^{3} - 1728512 \\, t^{9} v^{5} - 124315407360 \\, \\sqrt{2} t^{13} + 115268736 \\, t^{10} u^{3} - 2162304 \\, t^{8} u^{5} - 58747392 \\, t^{10} v^{3} + 845312 \\, t^{8} v^{5} + 98284432384 \\, \\sqrt{2} t^{12} - 49597824 \\, t^{9} u^{3} + 691584 \\, t^{7} u^{5} + 28712448 \\, t^{9} v^{3} - 317696 \\, t^{7} v^{5} - 66646376448 \\, \\sqrt{2} t^{11} + 16735104 \\, t^{8} u^{3} - 162432 \\, t^{6} u^{5} - 11123712 \\, t^{8} v^{3} + 88960 \\, t^{6} v^{5} + 38735914496 \\, \\sqrt{2} t^{10} - 4341888 \\, t^{7} u^{3} + 26496 \\, t^{5} u^{5} + 3346560 \\, t^{7} v^{3} - 17536 \\, t^{5} v^{5} - 19242929664 \\, \\sqrt{2} t^{9} + 837504 \\, t^{6} u^{3} - 2688 \\, t^{4} u^{5} - 755136 \\, t^{6} v^{3} + 2176 \\, t^{4} v^{5} + 8127776256 \\, \\sqrt{2} t^{8} - 113280 \\, t^{5} u^{3} + 128 \\, t^{3} u^{5} + 120384 \\, t^{5} v^{3} - 128 \\, t^{3} v^{5} - 2895145984 \\, \\sqrt{2} t^{7} + 9600 \\, t^{4} u^{3} - 12096 \\, t^{4} v^{3} + 859373056 \\, \\sqrt{2} t^{6} - 384 \\, t^{3} u^{3} + 576 \\, t^{3} v^{3} - 208949760 \\, \\sqrt{2} t^{5} + 40585728 \\, \\sqrt{2} t^{4} - 6063104 \\, \\sqrt{2} t^{3} + 654848 \\, \\sqrt{2} t^{2} - 45568 \\, \\sqrt{2} t + 1536 \\, \\sqrt{2}\\)</html>"
      ],
      "text/latex": [
       "$\\displaystyle -21233664 \\, \\sqrt{2} t^{23} + 242860032 \\, \\sqrt{2} t^{22} - 995328 \\, t^{19} u^{3} + 82944 \\, t^{17} u^{5} + 294912 \\, t^{19} v^{3} - 16384 \\, t^{17} v^{5} - 1404518400 \\, \\sqrt{2} t^{21} + 9455616 \\, t^{18} u^{3} - 705024 \\, t^{16} u^{5} - 2801664 \\, t^{18} v^{3} + 139264 \\, t^{16} v^{5} + 5422104576 \\, \\sqrt{2} t^{20} - 42135552 \\, t^{17} u^{3} + 2785536 \\, t^{15} u^{5} + 12681216 \\, t^{17} v^{3} - 561152 \\, t^{15} v^{5} - 15565160448 \\, \\sqrt{2} t^{19} + 117033984 \\, t^{16} u^{3} - 6791040 \\, t^{14} u^{5} - 36347904 \\, t^{16} v^{3} + 1423360 \\, t^{14} v^{5} + 35115614208 \\, \\sqrt{2} t^{18} - 226996992 \\, t^{15} u^{3} + 11428992 \\, t^{13} u^{5} + 73893888 \\, t^{15} v^{3} - 2541568 \\, t^{13} v^{5} - 64313278464 \\, \\sqrt{2} t^{17} + 326270592 \\, t^{14} u^{3} - 14062464 \\, t^{12} u^{5} - 113015808 \\, t^{14} v^{3} + 3381248 \\, t^{12} v^{5} + 97617346560 \\, \\sqrt{2} t^{16} - 359740800 \\, t^{13} u^{3} + 13058688 \\, t^{11} u^{5} + 134525952 \\, t^{13} v^{3} - 3457024 \\, t^{11} v^{5} - 124499451904 \\, \\sqrt{2} t^{15} + 310557312 \\, t^{12} u^{3} - 9305472 \\, t^{10} u^{5} - 127116288 \\, t^{12} v^{3} + 2759680 \\, t^{10} v^{5} + 134671895552 \\, \\sqrt{2} t^{14} - 212246400 \\, t^{11} u^{3} + 5117056 \\, t^{9} u^{5} + 96344064 \\, t^{11} v^{3} - 1728512 \\, t^{9} v^{5} - 124315407360 \\, \\sqrt{2} t^{13} + 115268736 \\, t^{10} u^{3} - 2162304 \\, t^{8} u^{5} - 58747392 \\, t^{10} v^{3} + 845312 \\, t^{8} v^{5} + 98284432384 \\, \\sqrt{2} t^{12} - 49597824 \\, t^{9} u^{3} + 691584 \\, t^{7} u^{5} + 28712448 \\, t^{9} v^{3} - 317696 \\, t^{7} v^{5} - 66646376448 \\, \\sqrt{2} t^{11} + 16735104 \\, t^{8} u^{3} - 162432 \\, t^{6} u^{5} - 11123712 \\, t^{8} v^{3} + 88960 \\, t^{6} v^{5} + 38735914496 \\, \\sqrt{2} t^{10} - 4341888 \\, t^{7} u^{3} + 26496 \\, t^{5} u^{5} + 3346560 \\, t^{7} v^{3} - 17536 \\, t^{5} v^{5} - 19242929664 \\, \\sqrt{2} t^{9} + 837504 \\, t^{6} u^{3} - 2688 \\, t^{4} u^{5} - 755136 \\, t^{6} v^{3} + 2176 \\, t^{4} v^{5} + 8127776256 \\, \\sqrt{2} t^{8} - 113280 \\, t^{5} u^{3} + 128 \\, t^{3} u^{5} + 120384 \\, t^{5} v^{3} - 128 \\, t^{3} v^{5} - 2895145984 \\, \\sqrt{2} t^{7} + 9600 \\, t^{4} u^{3} - 12096 \\, t^{4} v^{3} + 859373056 \\, \\sqrt{2} t^{6} - 384 \\, t^{3} u^{3} + 576 \\, t^{3} v^{3} - 208949760 \\, \\sqrt{2} t^{5} + 40585728 \\, \\sqrt{2} t^{4} - 6063104 \\, \\sqrt{2} t^{3} + 654848 \\, \\sqrt{2} t^{2} - 45568 \\, \\sqrt{2} t + 1536 \\, \\sqrt{2}$"
      ],
      "text/plain": [
       "-21233664*sqrt(2)*t^23 + 242860032*sqrt(2)*t^22 - 995328*t^19*u^3 + 82944*t^17*u^5 + 294912*t^19*v^3 - 16384*t^17*v^5 - 1404518400*sqrt(2)*t^21 + 9455616*t^18*u^3 - 705024*t^16*u^5 - 2801664*t^18*v^3 + 139264*t^16*v^5 + 5422104576*sqrt(2)*t^20 - 42135552*t^17*u^3 + 2785536*t^15*u^5 + 12681216*t^17*v^3 - 561152*t^15*v^5 - 15565160448*sqrt(2)*t^19 + 117033984*t^16*u^3 - 6791040*t^14*u^5 - 36347904*t^16*v^3 + 1423360*t^14*v^5 + 35115614208*sqrt(2)*t^18 - 226996992*t^15*u^3 + 11428992*t^13*u^5 + 73893888*t^15*v^3 - 2541568*t^13*v^5 - 64313278464*sqrt(2)*t^17 + 326270592*t^14*u^3 - 14062464*t^12*u^5 - 113015808*t^14*v^3 + 3381248*t^12*v^5 + 97617346560*sqrt(2)*t^16 - 359740800*t^13*u^3 + 13058688*t^11*u^5 + 134525952*t^13*v^3 - 3457024*t^11*v^5 - 124499451904*sqrt(2)*t^15 + 310557312*t^12*u^3 - 9305472*t^10*u^5 - 127116288*t^12*v^3 + 2759680*t^10*v^5 + 134671895552*sqrt(2)*t^14 - 212246400*t^11*u^3 + 5117056*t^9*u^5 + 96344064*t^11*v^3 - 1728512*t^9*v^5 - 124315407360*sqrt(2)*t^13 + 115268736*t^10*u^3 - 2162304*t^8*u^5 - 58747392*t^10*v^3 + 845312*t^8*v^5 + 98284432384*sqrt(2)*t^12 - 49597824*t^9*u^3 + 691584*t^7*u^5 + 28712448*t^9*v^3 - 317696*t^7*v^5 - 66646376448*sqrt(2)*t^11 + 16735104*t^8*u^3 - 162432*t^6*u^5 - 11123712*t^8*v^3 + 88960*t^6*v^5 + 38735914496*sqrt(2)*t^10 - 4341888*t^7*u^3 + 26496*t^5*u^5 + 3346560*t^7*v^3 - 17536*t^5*v^5 - 19242929664*sqrt(2)*t^9 + 837504*t^6*u^3 - 2688*t^4*u^5 - 755136*t^6*v^3 + 2176*t^4*v^5 + 8127776256*sqrt(2)*t^8 - 113280*t^5*u^3 + 128*t^3*u^5 + 120384*t^5*v^3 - 128*t^3*v^5 - 2895145984*sqrt(2)*t^7 + 9600*t^4*u^3 - 12096*t^4*v^3 + 859373056*sqrt(2)*t^6 - 384*t^3*u^3 + 576*t^3*v^3 - 208949760*sqrt(2)*t^5 + 40585728*sqrt(2)*t^4 - 6063104*sqrt(2)*t^3 + 654848*sqrt(2)*t^2 - 45568*sqrt(2)*t + 1536*sqrt(2)"
      ]
     },
     "metadata": {},
     "output_type": "display_data"
    }
   ],
   "source": [
    "show(p1_uvt_numerator)"
   ]
  },
  {
   "cell_type": "code",
   "execution_count": 9,
   "metadata": {},
   "outputs": [
    {
     "data": {
      "text/plain": [
       "(1, sqrt(2), sqrt(1/2), sqrt(2))"
      ]
     },
     "execution_count": 9,
     "metadata": {},
     "output_type": "execute_result"
    }
   ],
   "source": [
    "# Calculate the values of u for t = 0 and t = 1\n",
    "\n",
    "# Solve 3*t^2 + 2*t + 3 = u^2 for u}\n",
    "sol_u = solve(u**2 == 4*t^2 - 4*t + 2, u)[0].rhs()\n",
    "\n",
    "# Solve 3*t^2 - 2*t + 3 = v^2 for v\n",
    "sol_v = solve(v**2 == 6*t^2 - 6*t + 2, v)[0].rhs()\n",
    "\n",
    "# Get the values of u for t=0 and t=1\n",
    "u0 = sol_u(t=1/2)\n",
    "u1 = sol_u(t=1)\n",
    "\n",
    "# Get the values of v for t=1/3 and t=1\n",
    "v0 = sol_v(t=1/2)\n",
    "v1 = sol_v(t=1)\n",
    "\n",
    "u0, u1, v0, v1"
   ]
  },
  {
   "cell_type": "code",
   "execution_count": 10,
   "metadata": {},
   "outputs": [],
   "source": [
    "variable_ranges = [(u0, u1), (v0, v1), (0, 1)]"
   ]
  },
  {
   "cell_type": "markdown",
   "metadata": {},
   "source": [
    "##### Calculates the Möbius coefficient"
   ]
  },
  {
   "cell_type": "code",
   "execution_count": 11,
   "metadata": {},
   "outputs": [],
   "source": [
    "coefficient_dict = polynomial_to_dict(p1_uvt_numerator)"
   ]
  },
  {
   "cell_type": "code",
   "execution_count": 12,
   "metadata": {},
   "outputs": [],
   "source": [
    "variables = p1_uvt_numerator.variables()\n",
    "total_degree  =  [p1_uvt_numerator.degree(j) for j in variables]\n",
    "n_uplas = [\n",
    "    [i, j, k]\n",
    "    for i in range(total_degree[0] + 1)\n",
    "    for j in range(total_degree[1] + 1)\n",
    "    for k in range(total_degree[2] + 1)\n",
    "]"
   ]
  },
  {
   "cell_type": "code",
   "execution_count": 13,
   "metadata": {},
   "outputs": [],
   "source": [
    "coeff = []\n",
    "for i, degree_per_variable in enumerate(n_uplas):    \n",
    "    c = moebius_coefficient(p1_uvt_numerator, degree_per_variable, total_degree, variable_ranges, coefficient_dict)\n",
    "    coeff.append(c)"
   ]
  },
  {
   "cell_type": "markdown",
   "metadata": {},
   "source": [
    "#####  Checking the sign of Möbius coefficients"
   ]
  },
  {
   "cell_type": "code",
   "execution_count": 14,
   "metadata": {
    "collapsed": false,
    "jupyter": {
     "outputs_hidden": false
    }
   },
   "outputs": [],
   "source": [
    "coefficient_signs = set([sign(c) for c in coeff])"
   ]
  },
  {
   "cell_type": "code",
   "execution_count": 15,
   "metadata": {},
   "outputs": [
    {
     "data": {
      "text/plain": [
       "{-1}"
      ]
     },
     "execution_count": 15,
     "metadata": {},
     "output_type": "execute_result"
    }
   ],
   "source": [
    "set(coefficient_signs)"
   ]
  },
  {
   "cell_type": "markdown",
   "metadata": {},
   "source": [
    "##### Limit at the extremes"
   ]
  },
  {
   "cell_type": "code",
   "execution_count": 16,
   "metadata": {},
   "outputs": [
    {
     "data": {
      "text/plain": [
       "(True, True)"
      ]
     },
     "execution_count": 16,
     "metadata": {},
     "output_type": "execute_result"
    }
   ],
   "source": [
    "bool(limit(p1_new_diff, t=0, dir='+')> 0), bool(limit(p1_new_diff, t=1, dir='-') > 0)"
   ]
  },
  {
   "cell_type": "code",
   "execution_count": 23,
   "metadata": {},
   "outputs": [
    {
     "data": {
      "text/plain": [
       "(True, True)"
      ]
     },
     "execution_count": 23,
     "metadata": {},
     "output_type": "execute_result"
    }
   ],
   "source": [
    "bool(limit(p1_new, t=0, dir='+')< 0), bool(limit(p1_new, t=1, dir='-') > 0)"
   ]
  },
  {
   "cell_type": "code",
   "execution_count": null,
   "metadata": {},
   "outputs": [],
   "source": []
  }
 ],
 "metadata": {
  "kernelspec": {
   "display_name": "SageMath 10.3",
   "language": "sage",
   "name": "sagemath"
  },
  "language_info": {
   "codemirror_mode": {
    "name": "ipython",
    "version": 3
   },
   "file_extension": ".py",
   "mimetype": "text/x-python",
   "name": "python",
   "nbconvert_exporter": "python",
   "pygments_lexer": "ipython3",
   "version": "3.12.3"
  },
  "widgets": {
   "application/vnd.jupyter.widget-state+json": {
    "state": {},
    "version_major": 2,
    "version_minor": 0
   }
  }
 },
 "nbformat": 4,
 "nbformat_minor": 4
}
