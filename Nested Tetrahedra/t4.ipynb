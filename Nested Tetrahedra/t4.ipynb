{
 "cells": [
  {
   "cell_type": "markdown",
   "metadata": {
    "pycharm": {
     "name": "#%% md\n"
    }
   },
   "source": [
    "## Analyzing the block $t_4$ for the Tetrahedron"
   ]
  },
  {
   "cell_type": "code",
   "execution_count": 1,
   "metadata": {
    "pycharm": {
     "name": "#%%\n"
    }
   },
   "outputs": [],
   "source": [
    "load(\"../util.sage\")"
   ]
  },
  {
   "cell_type": "code",
   "execution_count": 2,
   "metadata": {
    "pycharm": {
     "name": "#%%\n"
    }
   },
   "outputs": [
    {
     "data": {
      "text/html": [
       "<html>\\(\\displaystyle \\left(\\begin{array}{rr}\n",
       "0 & -\\frac{2 \\, {\\left(t - 1\\right)}}{{\\left(3 \\, t^{2} + 2 \\, t + 3\\right)}^{\\frac{3}{2}}} - \\frac{2 \\, {\\left(\\sqrt{3} t - \\sqrt{3}\\right)}}{9 \\, {\\left(t - 1\\right)}^{3}} \\\\\n",
       "-4 \\, c + \\frac{1}{8} \\, \\sqrt{2} & -4 \\, c t + \\frac{3 \\, t + 1}{{\\left(3 \\, t^{2} + 2 \\, t + 3\\right)}^{\\frac{3}{2}}} - \\frac{\\sqrt{3} t - \\sqrt{3}}{9 \\, {\\left(t - 1\\right)}^{3}} \\\\\n",
       "\\frac{2 \\, {\\left(t - 1\\right)}}{{\\left(3 \\, t^{2} + 2 \\, t + 3\\right)}^{\\frac{3}{2}}} + \\frac{2 \\, {\\left(\\sqrt{3} t - \\sqrt{3}\\right)}}{9 \\, {\\left(t - 1\\right)}^{3}} & 0 \\\\\n",
       "-4 \\, c + \\frac{t + 3}{{\\left(3 \\, t^{2} + 2 \\, t + 3\\right)}^{\\frac{3}{2}}} + \\frac{\\sqrt{3} t - \\sqrt{3}}{9 \\, {\\left(t - 1\\right)}^{3}} & -4 \\, c t + \\frac{\\sqrt{2}}{8 \\, t^{2}}\n",
       "\\end{array}\\right)\\)</html>"
      ],
      "text/latex": [
       "$\\displaystyle \\left(\\begin{array}{rr}\n",
       "0 & -\\frac{2 \\, {\\left(t - 1\\right)}}{{\\left(3 \\, t^{2} + 2 \\, t + 3\\right)}^{\\frac{3}{2}}} - \\frac{2 \\, {\\left(\\sqrt{3} t - \\sqrt{3}\\right)}}{9 \\, {\\left(t - 1\\right)}^{3}} \\\\\n",
       "-4 \\, c + \\frac{1}{8} \\, \\sqrt{2} & -4 \\, c t + \\frac{3 \\, t + 1}{{\\left(3 \\, t^{2} + 2 \\, t + 3\\right)}^{\\frac{3}{2}}} - \\frac{\\sqrt{3} t - \\sqrt{3}}{9 \\, {\\left(t - 1\\right)}^{3}} \\\\\n",
       "\\frac{2 \\, {\\left(t - 1\\right)}}{{\\left(3 \\, t^{2} + 2 \\, t + 3\\right)}^{\\frac{3}{2}}} + \\frac{2 \\, {\\left(\\sqrt{3} t - \\sqrt{3}\\right)}}{9 \\, {\\left(t - 1\\right)}^{3}} & 0 \\\\\n",
       "-4 \\, c + \\frac{t + 3}{{\\left(3 \\, t^{2} + 2 \\, t + 3\\right)}^{\\frac{3}{2}}} + \\frac{\\sqrt{3} t - \\sqrt{3}}{9 \\, {\\left(t - 1\\right)}^{3}} & -4 \\, c t + \\frac{\\sqrt{2}}{8 \\, t^{2}}\n",
       "\\end{array}\\right)$"
      ],
      "text/plain": [
       "[                                                                               0         -2*(t - 1)/(3*t^2 + 2*t + 3)^(3/2) - 2/9*(sqrt(3)*t - sqrt(3))/(t - 1)^3]\n",
       "[                                                              -4*c + 1/8*sqrt(2) -4*c*t + (3*t + 1)/(3*t^2 + 2*t + 3)^(3/2) - 1/9*(sqrt(3)*t - sqrt(3))/(t - 1)^3]\n",
       "[         2*(t - 1)/(3*t^2 + 2*t + 3)^(3/2) + 2/9*(sqrt(3)*t - sqrt(3))/(t - 1)^3                                                                                0]\n",
       "[    -4*c + (t + 3)/(3*t^2 + 2*t + 3)^(3/2) + 1/9*(sqrt(3)*t - sqrt(3))/(t - 1)^3                                                         -4*c*t + 1/8*sqrt(2)/t^2]"
      ]
     },
     "metadata": {},
     "output_type": "display_data"
    }
   ],
   "source": [
    "t4 = load('blocks/linear_block_4'); \n",
    "t4 = t4.apply_map(lambda x: x.simplify_real().combine())\n",
    "show(t4)"
   ]
  },
  {
   "cell_type": "code",
   "execution_count": 3,
   "metadata": {
    "pycharm": {
     "name": "#%%\n"
    }
   },
   "outputs": [],
   "source": [
    "# List of all 2 x 2 minors of t4\n",
    "minors = t4.minors(2) "
   ]
  },
  {
   "cell_type": "code",
   "execution_count": 4,
   "metadata": {
    "collapsed": false,
    "jupyter": {
     "outputs_hidden": false
    },
    "pycharm": {
     "name": "#%%\n"
    }
   },
   "outputs": [],
   "source": [
    "# Choose one of the minors of t4 and obtain the simplified expression\n",
    "p4 = minors[1].simplify_real()"
   ]
  },
  {
   "cell_type": "code",
   "execution_count": 5,
   "metadata": {
    "collapsed": false,
    "jupyter": {
     "outputs_hidden": false
    },
    "pycharm": {
     "name": "#%%\n"
    }
   },
   "outputs": [],
   "source": [
    "#q4 = 4/81*(9*t/(3*t^2 + 2*t + 3)^(3/2) - 9/(3*t^2 + 2*t + 3)^(3/2) + sqrt(3)*t/(t - 1)^3 - sqrt(3)/(t - 1)^3)"
   ]
  },
  {
   "cell_type": "code",
   "execution_count": null,
   "metadata": {},
   "outputs": [],
   "source": []
  },
  {
   "cell_type": "markdown",
   "metadata": {
    "collapsed": false,
    "jupyter": {
     "outputs_hidden": false
    },
    "pycharm": {
     "name": "#%% md\n"
    }
   },
   "source": [
    "##### Change of variables: $t=\\frac{1}{3} \\, \\sqrt{2} {\\left(u - \\frac{1}{u}\\right)} - \\frac{1}{3}$"
   ]
  },
  {
   "cell_type": "code",
   "execution_count": 6,
   "metadata": {
    "collapsed": false,
    "jupyter": {
     "outputs_hidden": false
    },
    "pycharm": {
     "name": "#%%\n"
    }
   },
   "outputs": [],
   "source": [
    "# Change variable to express α1(t) in terms of u and simplify\n",
    "var('u')\n",
    "p4_u = p4.simplify_full().subs(t=(sqrt(8)/6)*(u-1/u) - 1/3) \n",
    "p4_u_numerator = p4_u.expand().factor().canonicalize_radical().numerator()"
   ]
  },
  {
   "cell_type": "code",
   "execution_count": 7,
   "metadata": {
    "pycharm": {
     "name": "#%%\n"
    }
   },
   "outputs": [
    {
     "data": {
      "text/plain": [
       "(sqrt(2), 1/2*sqrt(2)*(sqrt(6) + 2))"
      ]
     },
     "execution_count": 7,
     "metadata": {},
     "output_type": "execute_result"
    }
   ],
   "source": [
    "# Calculate the values of u for t = 0 and t = 1\n",
    "st0 = solve(0 == (sqrt(8)/6)*(u-1/u) - 1/3, u)\n",
    "st1 = solve(1 == (sqrt(8)/6)*(u-1/u) - 1/3, u)\n",
    "#Extract the positive values for u0 and u1\n",
    "u0 = st0[0].rhs()\n",
    "u1 = st1[0].rhs() \n",
    "\n",
    "u0, u1"
   ]
  },
  {
   "cell_type": "markdown",
   "metadata": {
    "pycharm": {
     "name": "#%% md\n"
    }
   },
   "source": [
    "##### Apply Sturm's Theorem"
   ]
  },
  {
   "cell_type": "code",
   "execution_count": 8,
   "metadata": {
    "pycharm": {
     "name": "#%%\n"
    }
   },
   "outputs": [],
   "source": [
    "# Converts an expression to a polynomial in Ring AA \n",
    "p4_u_numerator_AA = expr_to_poly(p4_u_numerator, AA)          "
   ]
  },
  {
   "cell_type": "code",
   "execution_count": 9,
   "metadata": {
    "pycharm": {
     "name": "#%%\n"
    }
   },
   "outputs": [
    {
     "data": {
      "text/plain": [
       "1"
      ]
     },
     "execution_count": 9,
     "metadata": {},
     "output_type": "execute_result"
    }
   ],
   "source": [
    "# Apply Sturm's theorem to determine the number of roots of p4_u_numerator_AA in (13/10, u1)\n",
    "sturm(p4_u_numerator_AA , 13/10, AA(u1))"
   ]
  },
  {
   "cell_type": "code",
   "execution_count": 10,
   "metadata": {},
   "outputs": [
    {
     "data": {
      "text/plain": [
       "True"
      ]
     },
     "execution_count": 10,
     "metadata": {},
     "output_type": "execute_result"
    }
   ],
   "source": [
    "bool(u0 > 13/10) # u0 in (13/10, u1)"
   ]
  },
  {
   "cell_type": "code",
   "execution_count": 11,
   "metadata": {
    "pycharm": {
     "name": "#%%\n"
    }
   },
   "outputs": [
    {
     "data": {
      "text/plain": [
       "True"
      ]
     },
     "execution_count": 11,
     "metadata": {},
     "output_type": "execute_result"
    }
   ],
   "source": [
    "p4_u_numerator_AA(u0).is_zero() # u0 is root of p4_AA"
   ]
  },
  {
   "cell_type": "markdown",
   "metadata": {},
   "source": [
    "##### Limit at the extremes"
   ]
  },
  {
   "cell_type": "code",
   "execution_count": 12,
   "metadata": {},
   "outputs": [
    {
     "data": {
      "text/plain": [
       "(0, +Infinity)"
      ]
     },
     "execution_count": 12,
     "metadata": {},
     "output_type": "execute_result"
    }
   ],
   "source": [
    "limit(p4 , t=0, dir='+'), limit(p4, t=1, dir='-')"
   ]
  },
  {
   "cell_type": "code",
   "execution_count": null,
   "metadata": {},
   "outputs": [],
   "source": []
  }
 ],
 "metadata": {
  "kernelspec": {
   "display_name": "SageMath 10.3",
   "language": "sage",
   "name": "sagemath"
  },
  "language_info": {
   "codemirror_mode": {
    "name": "ipython",
    "version": 3
   },
   "file_extension": ".py",
   "mimetype": "text/x-python",
   "name": "python",
   "nbconvert_exporter": "python",
   "pygments_lexer": "ipython3",
   "version": "3.12.3"
  },
  "widgets": {
   "application/vnd.jupyter.widget-state+json": {
    "state": {},
    "version_major": 2,
    "version_minor": 0
   }
  }
 },
 "nbformat": 4,
 "nbformat_minor": 4
}
