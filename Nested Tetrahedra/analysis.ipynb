{
 "cells": [
  {
   "cell_type": "markdown",
   "id": "c3c7b6f9-1686-441f-82d0-5edcdf62ea1c",
   "metadata": {},
   "source": [
    "## Analyzing the blocks for the Tetrahedron"
   ]
  },
  {
   "cell_type": "code",
   "execution_count": 3,
   "id": "78921c47-9930-4ad6-8e6d-eea0a71fa806",
   "metadata": {},
   "outputs": [],
   "source": [
    "load(\"../util.sage\")"
   ]
  },
  {
   "cell_type": "markdown",
   "id": "507703b0-3604-4b83-9586-2733ab9f6cc0",
   "metadata": {},
   "source": [
    "### Block $T_1$"
   ]
  },
  {
   "cell_type": "code",
   "execution_count": 4,
   "id": "d6da534e-54e2-4076-9688-fb452cd8eb7c",
   "metadata": {},
   "outputs": [
    {
     "name": "stdout",
     "output_type": "stream",
     "text": [
      "True\n"
     ]
    }
   ],
   "source": [
    "B1 = load('blocks/linear_block_1')\n",
    "p1 = simplify_expression(B1.det())\n",
    "print(bool(p1==B1.det()))"
   ]
  },
  {
   "cell_type": "markdown",
   "id": "8875a3eb-d3ad-4aff-bb30-4ad1a426e459",
   "metadata": {},
   "source": [
    "### Proof Lemma 5:\n",
    "#### 1. $\\alpha_1(t)$ is negative for $t$ in $(0,1)$."
   ]
  },
  {
   "cell_type": "code",
   "execution_count": 12,
   "id": "ce3f5c8b-f5f9-43bd-ae83-3814f882234f",
   "metadata": {},
   "outputs": [],
   "source": [
    "α1 = p1.coefficients()[1][0]"
   ]
  },
  {
   "cell_type": "markdown",
   "id": "a2b582da-478f-4569-aba4-1741141c4e99",
   "metadata": {},
   "source": [
    "##### Change of variables:  $t=\\frac{1}{3} \\, \\sqrt{2} {\\left(u - \\frac{1}{u}\\right)} - \\frac{1}{3}$"
   ]
  },
  {
   "cell_type": "code",
   "execution_count": 13,
   "id": "f135e785-4022-4e23-b5e2-5be5e64cad67",
   "metadata": {},
   "outputs": [],
   "source": [
    "var('u')\n",
    "α1_u = α1.subs(t=(sqrt(8)/6)*(u-1/u) - 1/3)\n",
    "α1_u = α1_u.expand().factor().canonicalize_radical().numerator()"
   ]
  },
  {
   "cell_type": "code",
   "execution_count": 14,
   "id": "7d42a8cd-094c-40ae-8a5c-2e5e4f6cbf7d",
   "metadata": {},
   "outputs": [],
   "source": [
    "α1_AA = expr_to_poly(α1_u, AA) # transforma os coeficientes para AA\n",
    "st0 = solve(0 == (sqrt(8)/6)*(u-1/u) - 1/3, u) # obtem os valores de u para t=0\n",
    "st1 = solve(1 == (sqrt(8)/6)*(u-1/u) - 1/3, u) # obtem os valores de u para t=1"
   ]
  },
  {
   "cell_type": "markdown",
   "id": "e9f589f8-01f8-4190-a28c-faa222d5a614",
   "metadata": {},
   "source": [
    "##### Apply Sturm's Theorem"
   ]
  },
  {
   "cell_type": "code",
   "execution_count": 15,
   "id": "1b9afbc1-bd18-4108-be9c-0c094c3bd719",
   "metadata": {},
   "outputs": [
    {
     "data": {
      "text/plain": [
       "0"
      ]
     },
     "execution_count": 15,
     "metadata": {},
     "output_type": "execute_result"
    }
   ],
   "source": [
    "u0 = st0[1].rhs() # positivo\n",
    "u1 = st1[1].rhs() # positivo\n",
    "sturm(α1_AA, AA(u0), AA(u1))"
   ]
  },
  {
   "cell_type": "markdown",
   "id": "e1019944-1b4d-4493-9c47-bfa673afecf6",
   "metadata": {},
   "source": [
    "##### Limit at the extremes"
   ]
  },
  {
   "cell_type": "code",
   "execution_count": 16,
   "id": "603ef93e-3935-4eee-94a0-d45f8a7e729c",
   "metadata": {},
   "outputs": [
    {
     "data": {
      "text/plain": [
       "(-Infinity, -Infinity)"
      ]
     },
     "execution_count": 16,
     "metadata": {},
     "output_type": "execute_result"
    }
   ],
   "source": [
    "limit(α1, t=0, dir='+'), limit(α1, t=1, dir='-')"
   ]
  },
  {
   "cell_type": "markdown",
   "id": "a7f60d55-774c-4eea-b493-d3905e716149",
   "metadata": {},
   "source": [
    "#### 2. $\\alpha_0(t)$ is positive for $t$ in $(0,1)$."
   ]
  },
  {
   "cell_type": "code",
   "execution_count": 17,
   "id": "49d18588-41c7-4657-8b2e-4936ccb89347",
   "metadata": {},
   "outputs": [],
   "source": [
    "α0 = p1.coefficients()[0][0]"
   ]
  },
  {
   "cell_type": "markdown",
   "id": "420895f9-c37f-4a26-8684-6ff374da27b9",
   "metadata": {},
   "source": [
    "##### Change of variables:  $t=\\frac{1}{3} \\, \\sqrt{2} {\\left(u - \\frac{1}{u}\\right)} - \\frac{1}{3}$"
   ]
  },
  {
   "cell_type": "code",
   "execution_count": 18,
   "id": "ccec47ab-31a9-4930-a254-58b8033977eb",
   "metadata": {},
   "outputs": [],
   "source": [
    "α0_u = α0.subs(t=(sqrt(8)/6)*(u-1/u) - 1/3)\n",
    "α0_u = α0_u.expand().factor().canonicalize_radical().numerator()"
   ]
  },
  {
   "cell_type": "code",
   "execution_count": 19,
   "id": "487b2752-d73e-41c2-b126-6437e8a2fb43",
   "metadata": {},
   "outputs": [],
   "source": [
    "α0_AA = expr_to_poly(α0_u, AA) "
   ]
  },
  {
   "cell_type": "markdown",
   "id": "00c1bb00-b019-4646-ba6e-6eaf342bfd4b",
   "metadata": {},
   "source": [
    "##### Apply Sturm's Theorem"
   ]
  },
  {
   "cell_type": "code",
   "execution_count": 20,
   "id": "4081d12f-d366-41a1-bd25-410f4cd52711",
   "metadata": {},
   "outputs": [
    {
     "data": {
      "text/plain": [
       "1"
      ]
     },
     "execution_count": 20,
     "metadata": {},
     "output_type": "execute_result"
    }
   ],
   "source": [
    "u00 = st0[1].rhs() # positivo\n",
    "u10 = st1[1].rhs()\n",
    "sturm(α0_AA, AA(u00), AA(4))"
   ]
  },
  {
   "cell_type": "code",
   "execution_count": 21,
   "id": "ba9e5493-fba3-4add-b5fe-ec519ad13dc2",
   "metadata": {},
   "outputs": [
    {
     "data": {
      "text/plain": [
       "True"
      ]
     },
     "execution_count": 21,
     "metadata": {},
     "output_type": "execute_result"
    }
   ],
   "source": [
    "α0_AA(u10).is_zero() # u= (1/2)sqrt(2)*(sqrt(6) + 2) é um zero"
   ]
  },
  {
   "cell_type": "code",
   "execution_count": null,
   "id": "cc9e8f09-61ab-4fd5-a50e-b4984caa1b52",
   "metadata": {},
   "outputs": [],
   "source": []
  }
 ],
 "metadata": {
  "kernelspec": {
   "display_name": "SageMath 9.5",
   "language": "sage",
   "name": "sagemath"
  },
  "language_info": {
   "codemirror_mode": {
    "name": "ipython",
    "version": 3
   },
   "file_extension": ".py",
   "mimetype": "text/x-python",
   "name": "python",
   "nbconvert_exporter": "python",
   "pygments_lexer": "ipython3",
   "version": "3.10.12"
  }
 },
 "nbformat": 4,
 "nbformat_minor": 5
}
