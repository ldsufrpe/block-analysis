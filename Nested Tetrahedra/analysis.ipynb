{
 "cells": [
  {
   "cell_type": "markdown",
   "metadata": {},
   "source": [
    "## Analyzing the block $T_1$ for the Tetrahedron"
   ]
  },
  {
   "cell_type": "code",
   "execution_count": 40,
   "metadata": {},
   "outputs": [],
   "source": [
    "load(\"../util.sage\")"
   ]
  },
  {
   "cell_type": "code",
   "execution_count": 41,
   "metadata": {},
   "outputs": [
    {
     "name": "stderr",
     "output_type": "stream",
     "text": [
      "<ipython-input-41-9785f71e685c>:1: DeprecationWarning: PY_SSIZE_T_CLEAN will be required for '#' formats\n",
      "  T1 = load('blocks/linear_block_1')\n"
     ]
    }
   ],
   "source": [
    "T1 = load('blocks/linear_block_1')"
   ]
  },
  {
   "cell_type": "code",
   "execution_count": 42,
   "metadata": {},
   "outputs": [
    {
     "name": "stdout",
     "output_type": "stream",
     "text": [
      "True\n"
     ]
    }
   ],
   "source": [
    "p1 = simplify_expression(T1.det())\n",
    "print(bool(p1==T1.det()))"
   ]
  },
  {
   "cell_type": "markdown",
   "metadata": {},
   "source": [
    "### Proof Lemma 5:\n",
    "#### 1. $\\alpha_1(t)$ is negative for $t$ in $(0,1)$."
   ]
  },
  {
   "cell_type": "code",
   "execution_count": 43,
   "metadata": {},
   "outputs": [],
   "source": [
    "α1 = p1.coefficients()[1][0]"
   ]
  },
  {
   "cell_type": "markdown",
   "metadata": {},
   "source": [
    "##### Change of variables:  $t=\\frac{1}{3} \\, \\sqrt{2} {\\left(u - \\frac{1}{u}\\right)} - \\frac{1}{3}$"
   ]
  },
  {
   "cell_type": "code",
   "execution_count": 44,
   "metadata": {},
   "outputs": [],
   "source": [
    "var('u')\n",
    "α1_u = α1.subs(t=(sqrt(8)/6)*(u-1/u) - 1/3)\n",
    "α1_u = α1_u.expand().factor().canonicalize_radical().numerator()"
   ]
  },
  {
   "cell_type": "code",
   "execution_count": 77,
   "metadata": {},
   "outputs": [
    {
     "data": {
      "text/html": [
       "<html><script type=\"math/tex; mode=display\">\\newcommand{\\Bold}[1]{\\mathbf{#1}}\\sqrt{2}</script></html>"
      ],
      "text/latex": [
       "\\begin{math}\n",
       "\\newcommand{\\Bold}[1]{\\mathbf{#1}}\\sqrt{2}\n",
       "\\end{math}"
      ],
      "text/plain": [
       "sqrt(2)"
      ]
     },
     "metadata": {},
     "output_type": "display_data"
    },
    {
     "data": {
      "text/html": [
       "<html><script type=\"math/tex; mode=display\">\\newcommand{\\Bold}[1]{\\mathbf{#1}}\\frac{1}{2} \\, \\sqrt{2} {\\left(\\sqrt{6} + 2\\right)}</script></html>"
      ],
      "text/latex": [
       "\\begin{math}\n",
       "\\newcommand{\\Bold}[1]{\\mathbf{#1}}\\frac{1}{2} \\, \\sqrt{2} {\\left(\\sqrt{6} + 2\\right)}\n",
       "\\end{math}"
      ],
      "text/plain": [
       "1/2*sqrt(2)*(sqrt(6) + 2)"
      ]
     },
     "metadata": {},
     "output_type": "display_data"
    }
   ],
   "source": [
    "st0 = solve(0 == (sqrt(8)/6)*(u-1/u) - 1/3, u) # obtem os valores de u para t=0\n",
    "st1 = solve(1 == (sqrt(8)/6)*(u-1/u) - 1/3, u) # obtem os valores de u para t=1\n",
    "u0 = st0[1].rhs() # positivo\n",
    "u1 = st1[1].rhs() # positivo\n",
    "\n",
    "show(u0); show(u1)"
   ]
  },
  {
   "cell_type": "code",
   "execution_count": 73,
   "metadata": {},
   "outputs": [
    {
     "data": {
      "text/plain": [
       "True"
      ]
     },
     "execution_count": 73,
     "metadata": {},
     "output_type": "execute_result"
    }
   ],
   "source": [
    "bool(u1==sqrt(2)+sqrt(3)) # 1/2*sqrt(2)*(sqrt(6) + 2)=sqrt(2)+sqrt(3)"
   ]
  },
  {
   "cell_type": "markdown",
   "metadata": {},
   "source": [
    "##### Apply Sturm's Theorem"
   ]
  },
  {
   "cell_type": "code",
   "execution_count": 46,
   "metadata": {},
   "outputs": [
    {
     "data": {
      "text/plain": [
       "0"
      ]
     },
     "execution_count": 46,
     "metadata": {},
     "output_type": "execute_result"
    }
   ],
   "source": [
    "α1_AA = expr_to_poly(α1_u, AA) # transforma os coeficientes para AA\n",
    "sturm(α1_AA, AA(u0), AA(u1))"
   ]
  },
  {
   "cell_type": "markdown",
   "metadata": {},
   "source": [
    "##### Limit at the extremes"
   ]
  },
  {
   "cell_type": "code",
   "execution_count": 47,
   "metadata": {},
   "outputs": [
    {
     "data": {
      "text/plain": [
       "(-Infinity, -Infinity)"
      ]
     },
     "execution_count": 47,
     "metadata": {},
     "output_type": "execute_result"
    }
   ],
   "source": [
    "limit(α1, t=0, dir='+'), limit(α1, t=1, dir='-')"
   ]
  },
  {
   "cell_type": "markdown",
   "metadata": {},
   "source": [
    "#### 2. $\\alpha_0(t)$ is positive for $t$ in $(0,1)$."
   ]
  },
  {
   "cell_type": "code",
   "execution_count": 48,
   "metadata": {},
   "outputs": [],
   "source": [
    "α0 = p1.coefficients()[0][0]"
   ]
  },
  {
   "cell_type": "markdown",
   "metadata": {},
   "source": [
    "##### Change of variables:  $t=\\frac{1}{3} \\, \\sqrt{2} {\\left(u - \\frac{1}{u}\\right)} - \\frac{1}{3}$"
   ]
  },
  {
   "cell_type": "code",
   "execution_count": 49,
   "metadata": {},
   "outputs": [],
   "source": [
    "α0_u = α0.subs(t=(sqrt(8)/6)*(u-1/u) - 1/3)\n",
    "α0_u = α0_u.expand().factor().canonicalize_radical().numerator()"
   ]
  },
  {
   "cell_type": "markdown",
   "metadata": {},
   "source": [
    "##### Apply Sturm's Theorem"
   ]
  },
  {
   "cell_type": "code",
   "execution_count": 50,
   "metadata": {},
   "outputs": [
    {
     "data": {
      "text/plain": [
       "1"
      ]
     },
     "execution_count": 50,
     "metadata": {},
     "output_type": "execute_result"
    }
   ],
   "source": [
    "sturm(α0_AA, AA(u0), AA(4))"
   ]
  },
  {
   "cell_type": "code",
   "execution_count": 51,
   "metadata": {},
   "outputs": [
    {
     "data": {
      "text/plain": [
       "True"
      ]
     },
     "execution_count": 51,
     "metadata": {},
     "output_type": "execute_result"
    }
   ],
   "source": [
    "α0_AA(u1).is_zero() # u= (1/2)sqrt(2)*(sqrt(6) + 2) é um zero"
   ]
  },
  {
   "cell_type": "markdown",
   "metadata": {},
   "source": [
    "##### Limit at the extremes"
   ]
  },
  {
   "cell_type": "code",
   "execution_count": 52,
   "metadata": {},
   "outputs": [
    {
     "data": {
      "text/plain": [
       "(+Infinity, +Infinity)"
      ]
     },
     "execution_count": 52,
     "metadata": {},
     "output_type": "execute_result"
    }
   ],
   "source": [
    "limit(α0, t=0, dir='+'), limit(α0, t=1, dir='-') # sempre positivo nos extremos"
   ]
  },
  {
   "cell_type": "markdown",
   "metadata": {},
   "source": [
    "#### 3. $(T_1)_{11}(c(t),t)$ is positive for  $t$ in $(0,1)$."
   ]
  },
  {
   "cell_type": "markdown",
   "metadata": {},
   "source": [
    "##### Change of variables:  $t=\\frac{1}{3} \\, \\sqrt{2} {\\left(u - \\frac{1}{u}\\right)} - \\frac{1}{3}$"
   ]
  },
  {
   "cell_type": "code",
   "execution_count": 53,
   "metadata": {},
   "outputs": [],
   "source": [
    "T11 = B1[0,0].subs(c = -α0/α1); \n",
    "T11_u = T11.simplify_full().subs(t=(sqrt(8)/6)*(u-1/u) - 1/3) \n",
    "T11_u = T11_u.expand().factor().canonicalize_radical().numerator()"
   ]
  },
  {
   "cell_type": "markdown",
   "metadata": {},
   "source": [
    "##### Apply Sturm's Theorem"
   ]
  },
  {
   "cell_type": "code",
   "execution_count": 93,
   "metadata": {},
   "outputs": [],
   "source": [
    "a11_AA = expr_to_poly(a11_u, AA)                # transforma os coeficientes para AA"
   ]
  },
  {
   "cell_type": "code",
   "execution_count": 94,
   "metadata": {},
   "outputs": [
    {
     "data": {
      "text/plain": [
       "1"
      ]
     },
     "execution_count": 94,
     "metadata": {},
     "output_type": "execute_result"
    }
   ],
   "source": [
    "sturm(a11_AA, AA(13/10), AA(u1)) # possui raíz em a= u011"
   ]
  },
  {
   "cell_type": "code",
   "execution_count": 57,
   "metadata": {},
   "outputs": [
    {
     "data": {
      "text/plain": [
       "True"
      ]
     },
     "execution_count": 57,
     "metadata": {},
     "output_type": "execute_result"
    }
   ],
   "source": [
    "a11_AA(u0).is_zero()"
   ]
  },
  {
   "cell_type": "markdown",
   "metadata": {},
   "source": [
    "##### 5. There exits a $\\delta<1$ such $(T_1)_{12}(c(t),t)$ is negative for $t$ in $(0,\\delta)$ and is positive for $t$ in $(\\delta,1)$ ."
   ]
  },
  {
   "cell_type": "code",
   "execution_count": 87,
   "metadata": {},
   "outputs": [],
   "source": [
    "T1_12 = T1[0,1].subs(c = -α0/α1)"
   ]
  },
  {
   "cell_type": "markdown",
   "metadata": {},
   "source": [
    "##### Change of variables:  $t=\\frac{1}{3} \\, \\sqrt{2} {\\left(u - \\frac{1}{u}\\right)} - \\frac{1}{3}$"
   ]
  },
  {
   "cell_type": "code",
   "execution_count": 88,
   "metadata": {},
   "outputs": [],
   "source": [
    "T1_12u = T1_12.simplify_full().subs(t=(sqrt(8)/6)*(u-1/u) - 1/3) #show(simplify_local(a11))\n",
    "T1_12u = T1_12u.expand().factor().canonicalize_radical().numerator()"
   ]
  },
  {
   "cell_type": "markdown",
   "metadata": {},
   "source": [
    "##### Apply Sturm's Theorem"
   ]
  },
  {
   "cell_type": "code",
   "execution_count": 90,
   "metadata": {},
   "outputs": [],
   "source": [
    "T1_12u_AA = expr_to_poly(T1_12u, AA)    "
   ]
  },
  {
   "cell_type": "code",
   "execution_count": 91,
   "metadata": {},
   "outputs": [
    {
     "data": {
      "text/plain": [
       "1"
      ]
     },
     "execution_count": 91,
     "metadata": {},
     "output_type": "execute_result"
    }
   ],
   "source": [
    "sturm(T1_12u_AA, AA(u0), AA(u1))"
   ]
  },
  {
   "cell_type": "markdown",
   "metadata": {},
   "source": [
    "##### Limit at the extremes"
   ]
  },
  {
   "cell_type": "code",
   "execution_count": 80,
   "metadata": {},
   "outputs": [
    {
     "data": {
      "text/plain": [
       "(True, True)"
      ]
     },
     "execution_count": 80,
     "metadata": {},
     "output_type": "execute_result"
    }
   ],
   "source": [
    "l1, l2 = limit(T1_12, t=0, dir='+'), limit(T1_12, t=1, dir='-') \n",
    "bool(l1<0), bool(l2>0)"
   ]
  },
  {
   "cell_type": "code",
   "execution_count": null,
   "metadata": {},
   "outputs": [],
   "source": []
  }
 ],
 "metadata": {
  "kernelspec": {
   "display_name": "SageMath 9.2",
   "language": "sage",
   "name": "sagemath"
  },
  "language_info": {
   "codemirror_mode": {
    "name": "ipython",
    "version": 3
   },
   "file_extension": ".py",
   "mimetype": "text/x-python",
   "name": "python",
   "nbconvert_exporter": "python",
   "pygments_lexer": "ipython3",
   "version": "3.9.1"
  },
  "widgets": {
   "application/vnd.jupyter.widget-state+json": {
    "state": {},
    "version_major": 2,
    "version_minor": 0
   }
  }
 },
 "nbformat": 4,
 "nbformat_minor": 5
}
