{
 "cells": [
  {
   "cell_type": "markdown",
   "id": "a917718a",
   "metadata": {
    "pycharm": {
     "name": "#%% md\n"
    }
   },
   "source": [
    "## Analyzing the block $T_1$ for the Tetrahedron"
   ]
  },
  {
   "cell_type": "code",
   "execution_count": 5,
   "id": "8883f44f",
   "metadata": {
    "pycharm": {
     "name": "#%%\n"
    }
   },
   "outputs": [],
   "source": [
    "load(\"../util.sage\")"
   ]
  },
  {
   "cell_type": "code",
   "execution_count": 6,
   "id": "7bead3ac",
   "metadata": {
    "pycharm": {
     "name": "#%%\n"
    }
   },
   "outputs": [],
   "source": [
    "T1 = load('blocks/linear_block_1')"
   ]
  },
  {
   "cell_type": "code",
   "execution_count": 7,
   "id": "4e9563e5",
   "metadata": {
    "pycharm": {
     "name": "#%%\n"
    }
   },
   "outputs": [
    {
     "name": "stdout",
     "output_type": "stream",
     "text": [
      "True\n"
     ]
    }
   ],
   "source": [
    "p1 = simplify_expression(T1.det())\n",
    "\n",
    "# checks if p1 was modified after simplification\n",
    "print(bool(p1==T1.det()))"
   ]
  },
  {
   "cell_type": "markdown",
   "id": "b4334b44",
   "metadata": {
    "pycharm": {
     "name": "#%% md\n"
    }
   },
   "source": [
    "### Proof Lemma 5:\n",
    "#### 1. $\\alpha_1(t)$ is negative for $t$ in $(0,1)$."
   ]
  },
  {
   "cell_type": "code",
   "execution_count": 8,
   "id": "e73ef31b",
   "metadata": {
    "pycharm": {
     "name": "#%%\n"
    }
   },
   "outputs": [],
   "source": [
    "α1 = p1.coefficients()[1][0] # α1(t)"
   ]
  },
  {
   "cell_type": "markdown",
   "id": "d7b2205f",
   "metadata": {
    "pycharm": {
     "name": "#%% md\n"
    }
   },
   "source": [
    "##### Change of variables:  $t=\\frac{1}{3} \\, \\sqrt{2} {\\left(u - \\frac{1}{u}\\right)} - \\frac{1}{3}$"
   ]
  },
  {
   "cell_type": "code",
   "execution_count": 9,
   "id": "75c73886",
   "metadata": {
    "pycharm": {
     "name": "#%%\n"
    }
   },
   "outputs": [],
   "source": [
    "# Change variable to express α1(t) in terms of u and simplify\n",
    "var('u')\n",
    "α1_u = α1.subs(t=(sqrt(8)/6)*(u-1/u) - 1/3)\n",
    "α1_u = α1_u.expand().factor().canonicalize_radical().numerator()"
   ]
  },
  {
   "cell_type": "code",
   "execution_count": null,
   "outputs": [],
   "source": [
    "# Calculate the values of u for t = 0 and t = 1\n",
    "st0 = solve(0 == (sqrt(8)/6)*(u-1/u) - 1/3, u)\n",
    "st1 = solve(1 == (sqrt(8)/6)*(u-1/u) - 1/3, u)\n",
    "\n",
    "# Extract the positive values for u0 and u1\n",
    "u0 = st0[1].rhs()\n",
    "u1 = st1[1].rhs() \n",
    "\n",
    "show(u0); show(u1)"
   ],
   "metadata": {
    "collapsed": false,
    "pycharm": {
     "name": "#%%\n"
    }
   }
  },
  {
   "cell_type": "code",
   "execution_count": null,
   "outputs": [],
   "source": [
    "# Verify if u1 is equal to sqrt(2) + sqrt(3)\n",
    "bool(u1==sqrt(2)+sqrt(3)) "
   ],
   "metadata": {
    "collapsed": false,
    "pycharm": {
     "name": "#%%\n"
    }
   }
  },
  {
   "cell_type": "markdown",
   "source": [
    "##### Apply Sturm's Theorem"
   ],
   "metadata": {
    "collapsed": false,
    "pycharm": {
     "name": "#%% md\n"
    }
   }
  },
  {
   "cell_type": "code",
   "execution_count": null,
   "outputs": [],
   "source": [
    "# Converts an expression to a polynomial in Ring AA \n",
    "α1_AA = expr_to_poly(α1_u, AA)"
   ],
   "metadata": {
    "collapsed": false,
    "pycharm": {
     "name": "#%%\n"
    }
   }
  },
  {
   "cell_type": "code",
   "execution_count": null,
   "outputs": [],
   "source": [
    "# Apply Sturm's theorem to determine the number of roots of α1_AA in (u0, u1)\n",
    "sturm(α1_AA, AA(u0), AA(u1))"
   ],
   "metadata": {
    "collapsed": false,
    "pycharm": {
     "name": "#%%\n"
    }
   }
  },
  {
   "cell_type": "markdown",
   "source": [
    "##### Limit at the extremes"
   ],
   "metadata": {
    "collapsed": false,
    "pycharm": {
     "name": "#%% md\n"
    }
   }
  },
  {
   "cell_type": "code",
   "execution_count": null,
   "outputs": [],
   "source": [
    "limit(α1, t=0, dir='+'), limit(α1, t=1, dir='-')"
   ],
   "metadata": {
    "collapsed": false,
    "pycharm": {
     "name": "#%%\n"
    }
   }
  },
  {
   "cell_type": "markdown",
   "source": [
    "#### 2. $\\alpha_0(t)$ is positive for $t$ in $(0,1)$."
   ],
   "metadata": {
    "collapsed": false,
    "pycharm": {
     "name": "#%% md\n"
    }
   }
  },
  {
   "cell_type": "code",
   "execution_count": null,
   "outputs": [],
   "source": [
    "α0 = p1.coefficients()[0][0] # α0(t) "
   ],
   "metadata": {
    "collapsed": false,
    "pycharm": {
     "name": "#%%\n"
    }
   }
  },
  {
   "cell_type": "markdown",
   "source": [
    "##### Change of variables:  $t=\\frac{1}{3} \\, \\sqrt{2} {\\left(u - \\frac{1}{u}\\right)} - \\frac{1}{3}$"
   ],
   "metadata": {
    "collapsed": false,
    "pycharm": {
     "name": "#%% md\n"
    }
   }
  },
  {
   "cell_type": "code",
   "execution_count": null,
   "outputs": [],
   "source": [
    "# Change variable to express α0(t) in terms of u and simplify\n",
    "α0_u = α0.subs(t=(sqrt(8)/6)*(u-1/u) - 1/3)\n",
    "α0_u_numerator = α0_u.expand().factor().canonicalize_radical().numerator()"
   ],
   "metadata": {
    "collapsed": false,
    "pycharm": {
     "name": "#%%\n"
    }
   }
  },
  {
   "cell_type": "markdown",
   "source": [
    "##### Apply Sturm's Theorem"
   ],
   "metadata": {
    "collapsed": false,
    "pycharm": {
     "name": "#%% md\n"
    }
   }
  },
  {
   "cell_type": "code",
   "execution_count": null,
   "outputs": [],
   "source": [
    "# Converts an expression to a polynomial in Ring AA \n",
    "α0_AA = expr_to_poly(α0_u_numerator, AA)  "
   ],
   "metadata": {
    "collapsed": false,
    "pycharm": {
     "name": "#%%\n"
    }
   }
  },
  {
   "cell_type": "code",
   "execution_count": null,
   "outputs": [],
   "source": [
    "# Apply Sturm's theorem to determine the number of roots of α0_AA in (u0, 4)\n",
    "sturm(α0_AA, AA(u0), AA(4))"
   ],
   "metadata": {
    "collapsed": false,
    "pycharm": {
     "name": "#%%\n"
    }
   }
  },
  {
   "cell_type": "code",
   "execution_count": null,
   "outputs": [],
   "source": [
    "# Check if u1 is a root of α0\n",
    "α0_AA(u1).is_zero() "
   ],
   "metadata": {
    "collapsed": false,
    "pycharm": {
     "name": "#%%\n"
    }
   }
  },
  {
   "cell_type": "markdown",
   "source": [
    "##### Limit at the extremes"
   ],
   "metadata": {
    "collapsed": false,
    "pycharm": {
     "name": "#%% md\n"
    }
   }
  },
  {
   "cell_type": "code",
   "execution_count": null,
   "outputs": [],
   "source": [
    "limit(α0, t=0, dir='+'), limit(α0, t=1, dir='-') "
   ],
   "metadata": {
    "collapsed": false,
    "pycharm": {
     "name": "#%%\n"
    }
   }
  },
  {
   "cell_type": "markdown",
   "source": [
    "#### 3. $(T_1)_{11}(c(t),t)$ is positive for  $t$ in $(0,1)$."
   ],
   "metadata": {
    "collapsed": false,
    "pycharm": {
     "name": "#%% md\n"
    }
   }
  },
  {
   "cell_type": "markdown",
   "source": [
    "##### Change of variables:  $t=\\frac{1}{3} \\, \\sqrt{2} {\\left(u - \\frac{1}{u}\\right)} - \\frac{1}{3}$"
   ],
   "metadata": {
    "collapsed": false,
    "pycharm": {
     "name": "#%% md\n"
    }
   }
  },
  {
   "cell_type": "code",
   "execution_count": null,
   "outputs": [],
   "source": [
    "T11 = T1[0,0].subs(c = -α0/α1)  # (T1)11(c(t), t)"
   ],
   "metadata": {
    "collapsed": false,
    "pycharm": {
     "name": "#%%\n"
    }
   }
  },
  {
   "cell_type": "code",
   "execution_count": null,
   "outputs": [],
   "source": [
    "# Change variable to express T11 in terms of u and simplify\n",
    "T11_u = T11.simplify_full().subs(t=(sqrt(8)/6)*(u-1/u) - 1/3) \n",
    "T11_u_numerator = T11_u.expand().factor().canonicalize_radical().numerator()"
   ],
   "metadata": {
    "collapsed": false,
    "pycharm": {
     "name": "#%%\n"
    }
   }
  },
  {
   "cell_type": "markdown",
   "source": [
    "##### Apply Sturm's Theorem"
   ],
   "metadata": {
    "collapsed": false,
    "pycharm": {
     "name": "#%% md\n"
    }
   }
  },
  {
   "cell_type": "code",
   "execution_count": null,
   "outputs": [],
   "source": [
    "# Converts an expression to a polynomial in Ring AA \n",
    "T11_u_AA = expr_to_poly(T11_u_numerator, AA)  "
   ],
   "metadata": {
    "collapsed": false,
    "pycharm": {
     "name": "#%%\n"
    }
   }
  },
  {
   "cell_type": "code",
   "execution_count": null,
   "outputs": [],
   "source": [
    "# Apply Sturm's theorem to determine the number of roots of T11_u_AA in (3/10, u1)\n",
    "sturm(T11_u_AA, AA(13/10), AA(u1)) "
   ],
   "metadata": {
    "collapsed": false,
    "pycharm": {
     "name": "#%%\n"
    }
   }
  },
  {
   "cell_type": "code",
   "execution_count": null,
   "outputs": [],
   "source": [
    "# Check if u0 is a root of T11\n",
    "T11_u_AA(u0).is_zero() "
   ],
   "metadata": {
    "collapsed": false,
    "pycharm": {
     "name": "#%%\n"
    }
   }
  },
  {
   "cell_type": "markdown",
   "source": [
    "##### Limit at the extremes"
   ],
   "metadata": {
    "collapsed": false,
    "pycharm": {
     "name": "#%% md\n"
    }
   }
  },
  {
   "cell_type": "code",
   "execution_count": null,
   "outputs": [],
   "source": [
    "limit(T11, t=0, dir='+'), limit(T11, t=1, dir='-') "
   ],
   "metadata": {
    "collapsed": false,
    "pycharm": {
     "name": "#%%\n"
    }
   }
  },
  {
   "cell_type": "markdown",
   "id": "4022fe15-6393-4cc3-a655-a6944c2bd0f5",
   "metadata": {},
   "source": [
    "##### Limit at the extremes"
   ]
  },
  {
   "cell_type": "code",
   "execution_count": 35,
   "id": "72b6657b-a1ed-4bcd-b3eb-2e0f372b8efd",
   "metadata": {},
   "outputs": [
    {
     "data": {
      "text/plain": [
       "(0, +Infinity)"
      ]
     },
     "execution_count": 35,
     "metadata": {},
     "output_type": "execute_result"
    }
   ],
   "source": [
    "limit(T11, t=0, dir='+'), limit(T11, t=1, dir='-') "
   ]
  },
  {
   "cell_type": "markdown",
   "id": "c74dac77",
   "metadata": {
    "pycharm": {
     "name": "#%% md\n"
    }
   },
   "source": [
    "##### 5. There exits a $\\delta<1$ such $(T_1)_{12}(c(t),t)$ is negative for $t$ in $(0,\\delta)$ and is positive for $t$ in $(\\delta,1)$ ."
   ]
  },
  {
   "cell_type": "code",
   "execution_count": 26,
   "id": "ed6e3973",
   "metadata": {
    "pycharm": {
     "name": "#%%\n"
    }
   },
   "outputs": [],
   "source": [
    "T1_12 = T1[0,1].subs(c = -α0/α1) # (T1)12(c(t), t)"
   ]
  },
  {
   "cell_type": "markdown",
   "id": "c8eb9a01",
   "metadata": {
    "pycharm": {
     "name": "#%% md\n"
    }
   },
   "source": [
    "##### Change of variables:  $t=\\frac{1}{3} \\, \\sqrt{2} {\\left(u - \\frac{1}{u}\\right)} - \\frac{1}{3}$"
   ]
  },
  {
   "cell_type": "code",
   "execution_count": 27,
   "id": "1826f67f",
   "metadata": {
    "pycharm": {
     "name": "#%%\n"
    }
   },
   "outputs": [],
   "source": [
    "# Change variable to express T11 in terms of u and simplify\n",
    "T1_12u = T1_12.simplify_full().subs(t=(sqrt(8)/6)*(u-1/u) - 1/3) \n",
    "T1_12u_numerator = T1_12u.expand().factor().canonicalize_radical().numerator()"
   ]
  },
  {
   "cell_type": "markdown",
   "id": "13666c28",
   "metadata": {
    "pycharm": {
     "name": "#%% md\n"
    }
   },
   "source": [
    "##### Apply Sturm's Theorem"
   ]
  },
  {
   "cell_type": "code",
   "execution_count": 28,
   "id": "1d1a6dd9",
   "metadata": {
    "pycharm": {
     "name": "#%%\n"
    }
   },
   "outputs": [],
   "source": [
    "#Converts an expression to a polynomial in Ring AA \n",
    "T1_12u_AA = expr_to_poly(T1_12u_numerator, AA) "
   ]
  },
  {
   "cell_type": "code",
   "execution_count": 29,
   "id": "6689edf0",
   "metadata": {
    "pycharm": {
     "name": "#%%\n"
    }
   },
   "outputs": [
    {
     "data": {
      "text/plain": [
       "1"
      ]
     },
     "execution_count": 29,
     "metadata": {},
     "output_type": "execute_result"
    }
   ],
   "source": [
    "#Apply Sturm's theorem to determine the number of roots of T1_12u_AA in (u0, u1)\n",
    "sturm(T1_12u_AA, AA(u0), AA(u1)) "
   ]
  },
  {
   "cell_type": "markdown",
   "id": "c4ea085a",
   "metadata": {
    "pycharm": {
     "name": "#%% md\n"
    }
   },
   "source": [
    "##### Limit at the extremes"
   ]
  },
  {
   "cell_type": "code",
   "execution_count": 30,
   "id": "526723b2",
   "metadata": {
    "pycharm": {
     "name": "#%%\n"
    }
   },
   "outputs": [],
   "source": [
    "l1, l2 = limit(T1_12, t=0, dir='+'), limit(T1_12, t=1, dir='-') "
   ]
  },
  {
   "cell_type": "code",
   "execution_count": 31,
   "id": "f4da0ec1",
   "metadata": {
    "pycharm": {
     "name": "#%%\n"
    }
   },
   "outputs": [
    {
     "data": {
      "text/plain": [
       "(True, True)"
      ]
     },
     "execution_count": 31,
     "metadata": {},
     "output_type": "execute_result"
    }
   ],
   "source": [
    "# check the limit sign at the extremes of the interval\n",
    "bool(l1<0), bool(l2>0)"
   ]
  }
 ],
 "metadata": {
  "kernelspec": {
   "display_name": "SageMath 9.5",
   "language": "sage",
   "name": "sagemath"
  },
  "language_info": {
   "codemirror_mode": {
    "name": "ipython",
    "version": 3
   },
   "file_extension": ".py",
   "mimetype": "text/x-python",
   "name": "python",
   "nbconvert_exporter": "python",
   "pygments_lexer": "ipython3",
   "version": "3.10.12"
  },
  "widgets": {
   "application/vnd.jupyter.widget-state+json": {
    "state": {},
    "version_major": 2,
    "version_minor": 0
   }
  }
 },
 "nbformat": 4,
 "nbformat_minor": 5
}