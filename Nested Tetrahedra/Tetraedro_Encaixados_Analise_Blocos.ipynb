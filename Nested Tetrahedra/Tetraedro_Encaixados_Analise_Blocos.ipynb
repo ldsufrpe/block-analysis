{
 "cells": [
  {
   "cell_type": "code",
   "execution_count": 7,
   "metadata": {
    "collapsed": false,
    "jupyter": {
     "outputs_hidden": false
    }
   },
   "outputs": [],
   "source": [
    "def poly_to_expression(p):\n",
    "    p = SR(p)\n",
    "    cc = p.coefficients()\n",
    "    q = 0\n",
    "    y = var('y')\n",
    "    for c, i in cc:        \n",
    "        q+= AA(c).radical_expression()*(y^i)\n",
    "    return q"
   ]
  },
  {
   "cell_type": "code",
   "execution_count": 8,
   "metadata": {
    "collapsed": false,
    "jupyter": {
     "outputs_hidden": false
    }
   },
   "outputs": [],
   "source": [
    "var('c')\n",
    "var('t')\n",
    "assume(t>0,t<1)\n",
    "assume(c>0)\n",
    "\n",
    "def simplify_local(p, repeat=2):\n",
    "    c = var('c')    \n",
    "    i=0\n",
    "    while i<repeat:\n",
    "        p = p.collect(c).combine(deep=True).simplify_real()\n",
    "        lst0 = p.coefficients(c)    \n",
    "        lst = []    \n",
    "        for l0 in lst0:\n",
    "            expr0, k = l0\n",
    "            lst1 = expr0.operands()\n",
    "            if len(lst1)<2:\n",
    "                lst.append(expr0*c^k)\n",
    "            for expr1 in lst1:\n",
    "                try:\n",
    "                    expr1 = expr1.canonicalize_radical().factor()\n",
    "                except AttributeError:\n",
    "                    continue\n",
    "                #if len(p.variables())==1:\n",
    "                #    pass\n",
    "                expr1 = expr1*c^k\n",
    "                lst.append(expr1)\n",
    "        p = sum(lst).collect(c).combine(deep=True)\n",
    "        i+=1\n",
    "    return p\n",
    "\n",
    "def count_sign_changes(p):\n",
    "    l = [c for c in p if not c.is_zero()]\n",
    "    changes = [l[i]*l[i + 1] < 0 for i in range(len(l) - 1)]\n",
    "\n",
    "    return changes.count(True)\n",
    "\n",
    "def sturm(p, a, b):\n",
    "    assert p.degree()> 2\n",
    "    assert not (p(a) == 0)\n",
    "    assert not (p(b) == 0)\n",
    "    assert a <= b\n",
    "    remains = [p, diff(p)]\n",
    "    \n",
    "    for i in range(p.degree() - 1):\n",
    "        r = -(remains[i] % remains[i + 1])\n",
    "        if r.is_zero():\n",
    "            #print (r)\n",
    "            break\n",
    "            \n",
    "        remains.append(r)\n",
    "    evals = [[], []]\n",
    "    for q in remains:\n",
    "        evals[0].append(q(a))\n",
    "        evals[1].append(q(b))\n",
    "    return count_sign_changes(evals[0])-count_sign_changes(evals[1])\n",
    "\n",
    "\n",
    "def expr_to_poly(p, ring):    \n",
    "    cc = p.coefficients()\n",
    "    Q = 0\n",
    "    y = polygen(ring, 'y')\n",
    "    for c, i in cc:        \n",
    "        Q+= ring(c)*y^i\n",
    "    return Q"
   ]
  },
  {
   "cell_type": "markdown",
   "metadata": {},
   "source": [
    "#### Bloco 1"
   ]
  },
  {
   "cell_type": "code",
   "execution_count": 9,
   "metadata": {
    "collapsed": false,
    "jupyter": {
     "outputs_hidden": false
    }
   },
   "outputs": [
    {
     "name": "stderr",
     "output_type": "stream",
     "text": [
      "<ipython-input-9-9bda1abbd480>:1: DeprecationWarning: PY_SSIZE_T_CLEAN will be required for '#' formats\n",
      "  B1 = load('blocks/linear_block_1'); show(B1)\n"
     ]
    },
    {
     "data": {
      "text/html": [
       "<html><script type=\"math/tex; mode=display\">\\newcommand{\\Bold}[1]{\\mathbf{#1}}\\left(\\begin{array}{rr}\n",
       "12 \\, c - \\frac{3}{8} \\, \\sqrt{2} & 12 \\, c - \\frac{3 \\, t}{{\\left(3 \\, t^{2} + 2 \\, t + 3\\right)}^{\\frac{3}{2}}} - \\frac{9}{{\\left(3 \\, t^{2} + 2 \\, t + 3\\right)}^{\\frac{3}{2}}} + \\frac{\\frac{1}{3} \\, \\sqrt{3} t}{{\\left| t - 1 \\right|}^{3}} - \\frac{\\frac{1}{3} \\, \\sqrt{3}}{{\\left| t - 1 \\right|}^{3}} \\\\\n",
       "12 \\, c t - \\frac{9 \\, t}{{\\left(3 \\, t^{2} + 2 \\, t + 3\\right)}^{\\frac{3}{2}}} - \\frac{3}{{\\left(3 \\, t^{2} + 2 \\, t + 3\\right)}^{\\frac{3}{2}}} - \\frac{\\frac{1}{3} \\, \\sqrt{3} t}{{\\left| t - 1 \\right|}^{3}} + \\frac{\\frac{1}{3} \\, \\sqrt{3}}{{\\left| t - 1 \\right|}^{3}} & 12 \\, c t - \\frac{\\frac{3}{8} \\, \\sqrt{2}}{t^{2}}\n",
       "\\end{array}\\right)</script></html>"
      ],
      "text/latex": [
       "\\begin{math}\n",
       "\\newcommand{\\Bold}[1]{\\mathbf{#1}}\\left(\\begin{array}{rr}\n",
       "12 \\, c - \\frac{3}{8} \\, \\sqrt{2} & 12 \\, c - \\frac{3 \\, t}{{\\left(3 \\, t^{2} + 2 \\, t + 3\\right)}^{\\frac{3}{2}}} - \\frac{9}{{\\left(3 \\, t^{2} + 2 \\, t + 3\\right)}^{\\frac{3}{2}}} + \\frac{\\frac{1}{3} \\, \\sqrt{3} t}{{\\left| t - 1 \\right|}^{3}} - \\frac{\\frac{1}{3} \\, \\sqrt{3}}{{\\left| t - 1 \\right|}^{3}} \\\\\n",
       "12 \\, c t - \\frac{9 \\, t}{{\\left(3 \\, t^{2} + 2 \\, t + 3\\right)}^{\\frac{3}{2}}} - \\frac{3}{{\\left(3 \\, t^{2} + 2 \\, t + 3\\right)}^{\\frac{3}{2}}} - \\frac{\\frac{1}{3} \\, \\sqrt{3} t}{{\\left| t - 1 \\right|}^{3}} + \\frac{\\frac{1}{3} \\, \\sqrt{3}}{{\\left| t - 1 \\right|}^{3}} & 12 \\, c t - \\frac{\\frac{3}{8} \\, \\sqrt{2}}{t^{2}}\n",
       "\\end{array}\\right)\n",
       "\\end{math}"
      ],
      "text/plain": [
       "[                                                                                                      12*c - 3/8*sqrt(2)   12*c - 3*t/(3*t^2 + 2*t + 3)^(3/2) - 9/(3*t^2 + 2*t + 3)^(3/2) + 1/3*sqrt(3)*t/abs(t - 1)^3 - 1/3*sqrt(3)/abs(t - 1)^3]\n",
       "[12*c*t - 9*t/(3*t^2 + 2*t + 3)^(3/2) - 3/(3*t^2 + 2*t + 3)^(3/2) - 1/3*sqrt(3)*t/abs(t - 1)^3 + 1/3*sqrt(3)/abs(t - 1)^3                                                                                                 12*c*t - 3/8*sqrt(2)/t^2]"
      ]
     },
     "metadata": {},
     "output_type": "display_data"
    }
   ],
   "source": [
    "B1 = load('blocks/linear_block_1'); show(B1)"
   ]
  },
  {
   "cell_type": "code",
   "execution_count": 10,
   "metadata": {
    "collapsed": false,
    "jupyter": {
     "outputs_hidden": false
    }
   },
   "outputs": [],
   "source": [
    "# a00, a01, a10, a11 = B1[0,0], B1[0,1], B1[1,0], B1[1,1]\n",
    "# f = -a01/a00\n",
    "# f_simpl = simplify_local(-a01)/a00\n",
    "# show(f_simpl.expand())\n",
    "# print(latex(f_simpl.expand()))\n",
    "#bool(f==f_simpl)\n",
    "# print(latex(simplify_local(b01))); print(bool(simplify_local(b01)==b01))\n",
    "# print(latex((b10.combine().simplify()))); bool(b10.combine().simplify()==b10)"
   ]
  },
  {
   "cell_type": "code",
   "execution_count": 11,
   "metadata": {
    "collapsed": false,
    "jupyter": {
     "outputs_hidden": false
    }
   },
   "outputs": [
    {
     "name": "stdout",
     "output_type": "stream",
     "text": [
      "True\n"
     ]
    },
    {
     "data": {
      "text/html": [
       "<html><script type=\"math/tex; mode=display\">\\newcommand{\\Bold}[1]{\\mathbf{#1}}-\\frac{1}{2} \\, {\\left(9 \\, \\sqrt{2} t - \\frac{72 \\, {\\left(t^{2} + 6 \\, t + 1\\right)}}{{\\left(3 \\, t^{2} + 2 \\, t + 3\\right)}^{\\frac{3}{2}}} - \\frac{8 \\, \\sqrt{3}}{t - 1} + \\frac{9 \\, \\sqrt{2}}{t^{2}}\\right)} c - \\frac{9 \\, {\\left(3 \\, t + 1\\right)} {\\left(t + 3\\right)}}{{\\left(3 \\, t^{2} + 2 \\, t + 3\\right)}^{3}} - \\frac{2 \\, \\sqrt{3}}{{\\left(3 \\, t^{2} + 2 \\, t + 3\\right)}^{\\frac{3}{2}} {\\left(t - 1\\right)}} + \\frac{9}{32 \\, t^{2}} + \\frac{1}{3 \\, {\\left(t - 1\\right)}^{4}}</script></html>"
      ],
      "text/latex": [
       "\\begin{math}\n",
       "\\newcommand{\\Bold}[1]{\\mathbf{#1}}-\\frac{1}{2} \\, {\\left(9 \\, \\sqrt{2} t - \\frac{72 \\, {\\left(t^{2} + 6 \\, t + 1\\right)}}{{\\left(3 \\, t^{2} + 2 \\, t + 3\\right)}^{\\frac{3}{2}}} - \\frac{8 \\, \\sqrt{3}}{t - 1} + \\frac{9 \\, \\sqrt{2}}{t^{2}}\\right)} c - \\frac{9 \\, {\\left(3 \\, t + 1\\right)} {\\left(t + 3\\right)}}{{\\left(3 \\, t^{2} + 2 \\, t + 3\\right)}^{3}} - \\frac{2 \\, \\sqrt{3}}{{\\left(3 \\, t^{2} + 2 \\, t + 3\\right)}^{\\frac{3}{2}} {\\left(t - 1\\right)}} + \\frac{9}{32 \\, t^{2}} + \\frac{1}{3 \\, {\\left(t - 1\\right)}^{4}}\n",
       "\\end{math}"
      ],
      "text/plain": [
       "-1/2*(9*sqrt(2)*t - 72*(t^2 + 6*t + 1)/(3*t^2 + 2*t + 3)^(3/2) - 8*sqrt(3)/(t - 1) + 9*sqrt(2)/t^2)*c - 9*(3*t + 1)*(t + 3)/(3*t^2 + 2*t + 3)^3 - 2*sqrt(3)/((3*t^2 + 2*t + 3)^(3/2)*(t - 1)) + 9/32/t^2 + 1/3/(t - 1)^4"
      ]
     },
     "metadata": {},
     "output_type": "display_data"
    }
   ],
   "source": [
    "p1 = simplify_local(B1.det());print(bool(p1==B1.det())); show(p1)\n",
    "save(p1, 'p1_tetraedro')"
   ]
  },
  {
   "cell_type": "markdown",
   "metadata": {},
   "source": [
    "### Provar Lema 2\n",
    "\n",
    "1. Estudar se $\\alpha_1$ se anula e onde."
   ]
  },
  {
   "cell_type": "code",
   "execution_count": 12,
   "metadata": {
    "collapsed": false,
    "jupyter": {
     "outputs_hidden": false
    }
   },
   "outputs": [
    {
     "data": {
      "text/html": [
       "<html><script type=\"math/tex; mode=display\">\\newcommand{\\Bold}[1]{\\mathbf{#1}}-\\frac{9 \\, {\\left(3 \\, t + 1\\right)} {\\left(t + 3\\right)}}{{\\left(3 \\, t^{2} + 2 \\, t + 3\\right)}^{3}} - \\frac{2 \\, \\sqrt{3}}{{\\left(3 \\, t^{2} + 2 \\, t + 3\\right)}^{\\frac{3}{2}} {\\left(t - 1\\right)}} + \\frac{9}{32 \\, t^{2}} + \\frac{1}{3 \\, {\\left(t - 1\\right)}^{4}}</script></html>"
      ],
      "text/latex": [
       "\\begin{math}\n",
       "\\newcommand{\\Bold}[1]{\\mathbf{#1}}-\\frac{9 \\, {\\left(3 \\, t + 1\\right)} {\\left(t + 3\\right)}}{{\\left(3 \\, t^{2} + 2 \\, t + 3\\right)}^{3}} - \\frac{2 \\, \\sqrt{3}}{{\\left(3 \\, t^{2} + 2 \\, t + 3\\right)}^{\\frac{3}{2}} {\\left(t - 1\\right)}} + \\frac{9}{32 \\, t^{2}} + \\frac{1}{3 \\, {\\left(t - 1\\right)}^{4}}\n",
       "\\end{math}"
      ],
      "text/plain": [
       "-9*(3*t + 1)*(t + 3)/(3*t^2 + 2*t + 3)^3 - 2*sqrt(3)/((3*t^2 + 2*t + 3)^(3/2)*(t - 1)) + 9/32/t^2 + 1/3/(t - 1)^4"
      ]
     },
     "metadata": {},
     "output_type": "display_data"
    },
    {
     "data": {
      "text/html": [
       "<html><script type=\"math/tex; mode=display\">\\newcommand{\\Bold}[1]{\\mathbf{#1}}-\\frac{9}{2} \\, \\sqrt{2} t + \\frac{36 \\, {\\left(t^{2} + 6 \\, t + 1\\right)}}{{\\left(3 \\, t^{2} + 2 \\, t + 3\\right)}^{\\frac{3}{2}}} + \\frac{4 \\, \\sqrt{3}}{t - 1} - \\frac{9 \\, \\sqrt{2}}{2 \\, t^{2}}</script></html>"
      ],
      "text/latex": [
       "\\begin{math}\n",
       "\\newcommand{\\Bold}[1]{\\mathbf{#1}}-\\frac{9}{2} \\, \\sqrt{2} t + \\frac{36 \\, {\\left(t^{2} + 6 \\, t + 1\\right)}}{{\\left(3 \\, t^{2} + 2 \\, t + 3\\right)}^{\\frac{3}{2}}} + \\frac{4 \\, \\sqrt{3}}{t - 1} - \\frac{9 \\, \\sqrt{2}}{2 \\, t^{2}}\n",
       "\\end{math}"
      ],
      "text/plain": [
       "-9/2*sqrt(2)*t + 36*(t^2 + 6*t + 1)/(3*t^2 + 2*t + 3)^(3/2) + 4*sqrt(3)/(t - 1) - 9/2*sqrt(2)/t^2"
      ]
     },
     "metadata": {},
     "output_type": "display_data"
    }
   ],
   "source": [
    "α0 = p1.coefficients()[0][0]\n",
    "α1 = p1.coefficients()[1][0]\n",
    "\n",
    "show(α0); show(α1)\n",
    "#print(α0); print(α1)"
   ]
  },
  {
   "cell_type": "markdown",
   "metadata": {},
   "source": [
    "#### O gráfico de $\\alpha_1$:"
   ]
  },
  {
   "cell_type": "code",
   "execution_count": 13,
   "metadata": {
    "collapsed": false,
    "jupyter": {
     "outputs_hidden": false
    }
   },
   "outputs": [
    {
     "data": {
      "image/png": "[encoded data removed]",
      "text/plain": [
       "Graphics object consisting of 1 graphics primitive"
      ]
     },
     "metadata": {},
     "output_type": "display_data"
    }
   ],
   "source": [
    "show(plot(α1, (x,0.1, 0.9), legend_label=r'$\\alpha$'))"
   ]
  },
  {
   "cell_type": "markdown",
   "metadata": {},
   "source": [
    "#### Usando limites"
   ]
  },
  {
   "cell_type": "code",
   "execution_count": 14,
   "metadata": {
    "collapsed": false,
    "jupyter": {
     "outputs_hidden": false
    }
   },
   "outputs": [
    {
     "data": {
      "text/plain": [
       "(-Infinity, -Infinity)"
      ]
     },
     "execution_count": 14,
     "metadata": {},
     "output_type": "execute_result"
    }
   ],
   "source": [
    "limit(α1, t=0, dir='+'), limit(α1, t=1, dir='-') # positivos nos extremos"
   ]
  },
  {
   "cell_type": "markdown",
   "metadata": {},
   "source": [
    "#### Mudança de variável:  $t=\\frac{1}{3} \\, \\sqrt{2} {\\left(u - \\frac{1}{u}\\right)} - \\frac{1}{3}$"
   ]
  },
  {
   "cell_type": "code",
   "execution_count": 15,
   "metadata": {
    "collapsed": false,
    "jupyter": {
     "outputs_hidden": false
    }
   },
   "outputs": [
    {
     "data": {
      "text/html": [
       "<html><script type=\"math/tex; mode=display\">\\newcommand{\\Bold}[1]{\\mathbf{#1}}-6 \\, \\sqrt{3} \\sqrt{2} u^{14} + 42 \\, \\sqrt{3} u^{13} - 3 \\, {\\left(13 \\, \\sqrt{3} \\sqrt{2} - 48\\right)} u^{12} - 6 \\, u^{11} {\\left(7 \\, \\sqrt{3} - 48 \\, \\sqrt{2}\\right)} + 3 \\, {\\left(43 \\, \\sqrt{3} \\sqrt{2} - 1224\\right)} u^{10} - 30 \\, u^{9} {\\left(7 \\, \\sqrt{3} - 60 \\, \\sqrt{2}\\right)} + 36 \\, {\\left(15 \\, \\sqrt{3} \\sqrt{2} + 236\\right)} u^{8} - 4320 \\, \\sqrt{2} u^{7} + 36 \\, {\\left(15 \\, \\sqrt{3} \\sqrt{2} - 238\\right)} u^{6} + 6 \\, u^{5} {\\left(35 \\, \\sqrt{3} + 348 \\, \\sqrt{2}\\right)} + 3 \\, {\\left(43 \\, \\sqrt{3} \\sqrt{2} + 1296\\right)} u^{4} + 6 \\, u^{3} {\\left(7 \\, \\sqrt{3} + 72 \\, \\sqrt{2}\\right)} - 39 \\, \\sqrt{3} \\sqrt{2} u^{2} - 42 \\, \\sqrt{3} u - 6 \\, \\sqrt{3} \\sqrt{2}</script></html>"
      ],
      "text/latex": [
       "\\begin{math}\n",
       "\\newcommand{\\Bold}[1]{\\mathbf{#1}}-6 \\, \\sqrt{3} \\sqrt{2} u^{14} + 42 \\, \\sqrt{3} u^{13} - 3 \\, {\\left(13 \\, \\sqrt{3} \\sqrt{2} - 48\\right)} u^{12} - 6 \\, u^{11} {\\left(7 \\, \\sqrt{3} - 48 \\, \\sqrt{2}\\right)} + 3 \\, {\\left(43 \\, \\sqrt{3} \\sqrt{2} - 1224\\right)} u^{10} - 30 \\, u^{9} {\\left(7 \\, \\sqrt{3} - 60 \\, \\sqrt{2}\\right)} + 36 \\, {\\left(15 \\, \\sqrt{3} \\sqrt{2} + 236\\right)} u^{8} - 4320 \\, \\sqrt{2} u^{7} + 36 \\, {\\left(15 \\, \\sqrt{3} \\sqrt{2} - 238\\right)} u^{6} + 6 \\, u^{5} {\\left(35 \\, \\sqrt{3} + 348 \\, \\sqrt{2}\\right)} + 3 \\, {\\left(43 \\, \\sqrt{3} \\sqrt{2} + 1296\\right)} u^{4} + 6 \\, u^{3} {\\left(7 \\, \\sqrt{3} + 72 \\, \\sqrt{2}\\right)} - 39 \\, \\sqrt{3} \\sqrt{2} u^{2} - 42 \\, \\sqrt{3} u - 6 \\, \\sqrt{3} \\sqrt{2}\n",
       "\\end{math}"
      ],
      "text/plain": [
       "-6*sqrt(3)*sqrt(2)*u^14 + 42*sqrt(3)*u^13 - 3*(13*sqrt(3)*sqrt(2) - 48)*u^12 - 6*u^11*(7*sqrt(3) - 48*sqrt(2)) + 3*(43*sqrt(3)*sqrt(2) - 1224)*u^10 - 30*u^9*(7*sqrt(3) - 60*sqrt(2)) + 36*(15*sqrt(3)*sqrt(2) + 236)*u^8 - 4320*sqrt(2)*u^7 + 36*(15*sqrt(3)*sqrt(2) - 238)*u^6 + 6*u^5*(35*sqrt(3) + 348*sqrt(2)) + 3*(43*sqrt(3)*sqrt(2) + 1296)*u^4 + 6*u^3*(7*sqrt(3) + 72*sqrt(2)) - 39*sqrt(3)*sqrt(2)*u^2 - 42*sqrt(3)*u - 6*sqrt(3)*sqrt(2)"
      ]
     },
     "metadata": {},
     "output_type": "display_data"
    }
   ],
   "source": [
    "var('u')\n",
    "α1_u = α1.subs(t=(sqrt(8)/6)*(u-1/u) - 1/3)\n",
    "α1_u = α1_u.expand().factor().canonicalize_radical().numerator(); show(α1_u.canonicalize_radical().simplify_full())\n"
   ]
  },
  {
   "cell_type": "code",
   "execution_count": 16,
   "metadata": {
    "collapsed": false,
    "jupyter": {
     "outputs_hidden": false
    }
   },
   "outputs": [
    {
     "data": {
      "text/html": [
       "<html><script type=\"math/tex; mode=display\">\\newcommand{\\Bold}[1]{\\mathbf{#1}}\\left[u = -\\frac{1}{2} \\, \\sqrt{2}, u = \\sqrt{2}\\right]</script></html>"
      ],
      "text/latex": [
       "\\begin{math}\n",
       "\\newcommand{\\Bold}[1]{\\mathbf{#1}}\\left[u = -\\frac{1}{2} \\, \\sqrt{2}, u = \\sqrt{2}\\right]\n",
       "\\end{math}"
      ],
      "text/plain": [
       "[u == -1/2*sqrt(2), u == sqrt(2)]"
      ]
     },
     "metadata": {},
     "output_type": "display_data"
    },
    {
     "data": {
      "text/html": [
       "<html><script type=\"math/tex; mode=display\">\\newcommand{\\Bold}[1]{\\mathbf{#1}}\\left[u = -\\frac{1}{2} \\, \\sqrt{2} {\\left(\\sqrt{6} - 2\\right)}, u = \\frac{1}{2} \\, \\sqrt{2} {\\left(\\sqrt{6} + 2\\right)}\\right]</script></html>"
      ],
      "text/latex": [
       "\\begin{math}\n",
       "\\newcommand{\\Bold}[1]{\\mathbf{#1}}\\left[u = -\\frac{1}{2} \\, \\sqrt{2} {\\left(\\sqrt{6} - 2\\right)}, u = \\frac{1}{2} \\, \\sqrt{2} {\\left(\\sqrt{6} + 2\\right)}\\right]\n",
       "\\end{math}"
      ],
      "text/plain": [
       "[u == -1/2*sqrt(2)*(sqrt(6) - 2), u == 1/2*sqrt(2)*(sqrt(6) + 2)]"
      ]
     },
     "metadata": {},
     "output_type": "display_data"
    }
   ],
   "source": [
    "α1_AA = expr_to_poly(α1_u, AA) # transforma os coeficientes para AA\n",
    "st0 = solve(0 == (sqrt(8)/6)*(u-1/u) - 1/3, u) # obtem os valores de u para t=0\n",
    "st1 = solve(1 == (sqrt(8)/6)*(u-1/u) - 1/3, u) # obtem os valores de u para t=1\n",
    "show(st0); show(st1)"
   ]
  },
  {
   "cell_type": "markdown",
   "metadata": {},
   "source": [
    "### Teorema de Sturn"
   ]
  },
  {
   "cell_type": "code",
   "execution_count": 17,
   "metadata": {
    "collapsed": false,
    "jupyter": {
     "outputs_hidden": false
    }
   },
   "outputs": [
    {
     "data": {
      "text/plain": [
       "0"
      ]
     },
     "execution_count": 17,
     "metadata": {},
     "output_type": "execute_result"
    }
   ],
   "source": [
    "u0 = st0[1].rhs() # positivo\n",
    "u1 = st1[1].rhs() # positivo\n",
    "sturm(α1_AA, AA(u0), AA(u1))"
   ]
  },
  {
   "cell_type": "markdown",
   "metadata": {},
   "source": [
    "### Conclusão"
   ]
  },
  {
   "cell_type": "markdown",
   "metadata": {},
   "source": [
    "-  Após a mudança de variável $t=\\frac{1}{3} \\, \\sqrt{2} {\\left(u - \\frac{1}{u}\\right)} - \\frac{1}{3}$ obtemos um polinômio  na variável $u$. **Teorema de Sturm** afirma que não existe raízes entre $\\sqrt{2}$ e $\\frac{\\sqrt{2}}{2} {\\left(\\sqrt{6} + 2\\right)}$. Consequentemente, não se anula entre $0 < t < 1$. Além disso, $\\alpha_1(t)<0$ nesse intervalo, já que $\\displaystyle\\lim_{t \\to 0^+}\\alpha_1(t)=\\displaystyle\\lim_{t \\to 1^-}\\alpha_1(t)=-\\infty$."
   ]
  },
  {
   "cell_type": "markdown",
   "metadata": {},
   "source": [
    "#### Provar Lema 1\n",
    "2. Provar que $c(t) = -\\dfrac{\\alpha_0(t)}{\\alpha_1(t)}>0$ em $(0,1)$."
   ]
  },
  {
   "cell_type": "code",
   "execution_count": 18,
   "metadata": {
    "collapsed": false,
    "jupyter": {
     "outputs_hidden": false
    }
   },
   "outputs": [
    {
     "data": {
      "image/png": "[encoded data removed]",
      "text/plain": [
       "Graphics object consisting of 1 graphics primitive"
      ]
     },
     "metadata": {},
     "output_type": "display_data"
    }
   ],
   "source": [
    "show(plot(α0, (x,0, 0.9), ymax=100, legend_label=r'$\\alpha_0(t)$'))"
   ]
  },
  {
   "cell_type": "markdown",
   "metadata": {},
   "source": [
    "#### Usando limites"
   ]
  },
  {
   "cell_type": "code",
   "execution_count": 19,
   "metadata": {
    "collapsed": false,
    "jupyter": {
     "outputs_hidden": false
    }
   },
   "outputs": [
    {
     "data": {
      "text/plain": [
       "(+Infinity, +Infinity)"
      ]
     },
     "execution_count": 19,
     "metadata": {},
     "output_type": "execute_result"
    }
   ],
   "source": [
    "limit(α0, t=0, dir='+'), limit(α0, t=1, dir='-') # sempre positivo nos extremos"
   ]
  },
  {
   "cell_type": "markdown",
   "metadata": {},
   "source": [
    "#### Mudança de variável:  $t=\\frac{1}{3} \\, \\sqrt{2} {\\left(u - \\frac{1}{u}\\right)} - \\frac{1}{3}$"
   ]
  },
  {
   "cell_type": "code",
   "execution_count": 20,
   "metadata": {
    "collapsed": false,
    "jupyter": {
     "outputs_hidden": false
    }
   },
   "outputs": [
    {
     "data": {
      "text/html": [
       "<html><script type=\"math/tex; mode=display\">\\newcommand{\\Bold}[1]{\\mathbf{#1}}-81 \\, u^{24} + 810 \\, \\sqrt{2} u^{23} - 4833 \\, u^{22} - 972 \\, \\sqrt{2} u^{21} + 9477 \\, u^{20} + 256770 \\, \\sqrt{2} u^{19} - 1733643 \\, u^{18} + 1413936 \\, \\sqrt{2} u^{17} + 3448278 \\, u^{16} - 5534892 \\, \\sqrt{2} u^{15} - 3077514 \\, u^{14} + 8276472 \\, \\sqrt{2} u^{13} + 2820906 \\, u^{12} - 5711148 \\, \\sqrt{2} u^{11} - 3340278 \\, u^{10} + 1548720 \\, \\sqrt{2} u^{9} + 1995435 \\, u^{8} + 426114 \\, \\sqrt{2} u^{7} + 96795 \\, u^{6} + 14580 \\, \\sqrt{2} u^{5} + 6561 \\, u^{4} + 810 \\, \\sqrt{2} u^{3} + 81 \\, u^{2}</script></html>"
      ],
      "text/latex": [
       "\\begin{math}\n",
       "\\newcommand{\\Bold}[1]{\\mathbf{#1}}-81 \\, u^{24} + 810 \\, \\sqrt{2} u^{23} - 4833 \\, u^{22} - 972 \\, \\sqrt{2} u^{21} + 9477 \\, u^{20} + 256770 \\, \\sqrt{2} u^{19} - 1733643 \\, u^{18} + 1413936 \\, \\sqrt{2} u^{17} + 3448278 \\, u^{16} - 5534892 \\, \\sqrt{2} u^{15} - 3077514 \\, u^{14} + 8276472 \\, \\sqrt{2} u^{13} + 2820906 \\, u^{12} - 5711148 \\, \\sqrt{2} u^{11} - 3340278 \\, u^{10} + 1548720 \\, \\sqrt{2} u^{9} + 1995435 \\, u^{8} + 426114 \\, \\sqrt{2} u^{7} + 96795 \\, u^{6} + 14580 \\, \\sqrt{2} u^{5} + 6561 \\, u^{4} + 810 \\, \\sqrt{2} u^{3} + 81 \\, u^{2}\n",
       "\\end{math}"
      ],
      "text/plain": [
       "-81*u^24 + 810*sqrt(2)*u^23 - 4833*u^22 - 972*sqrt(2)*u^21 + 9477*u^20 + 256770*sqrt(2)*u^19 - 1733643*u^18 + 1413936*sqrt(2)*u^17 + 3448278*u^16 - 5534892*sqrt(2)*u^15 - 3077514*u^14 + 8276472*sqrt(2)*u^13 + 2820906*u^12 - 5711148*sqrt(2)*u^11 - 3340278*u^10 + 1548720*sqrt(2)*u^9 + 1995435*u^8 + 426114*sqrt(2)*u^7 + 96795*u^6 + 14580*sqrt(2)*u^5 + 6561*u^4 + 810*sqrt(2)*u^3 + 81*u^2"
      ]
     },
     "metadata": {},
     "output_type": "display_data"
    }
   ],
   "source": [
    "var('u')\n",
    "α0_u = α0.subs(t=(sqrt(8)/6)*(u-1/u) - 1/3)\n",
    "α0_u = α0_u.expand().factor().canonicalize_radical().numerator(); show(α0_u)"
   ]
  },
  {
   "cell_type": "code",
   "execution_count": 21,
   "metadata": {
    "collapsed": false,
    "jupyter": {
     "outputs_hidden": false
    }
   },
   "outputs": [
    {
     "data": {
      "text/html": [
       "<html><script type=\"math/tex; mode=display\">\\newcommand{\\Bold}[1]{\\mathbf{#1}}\\left[u = -\\frac{1}{2} \\, \\sqrt{2}, u = \\sqrt{2}\\right]</script></html>"
      ],
      "text/latex": [
       "\\begin{math}\n",
       "\\newcommand{\\Bold}[1]{\\mathbf{#1}}\\left[u = -\\frac{1}{2} \\, \\sqrt{2}, u = \\sqrt{2}\\right]\n",
       "\\end{math}"
      ],
      "text/plain": [
       "[u == -1/2*sqrt(2), u == sqrt(2)]"
      ]
     },
     "metadata": {},
     "output_type": "display_data"
    },
    {
     "data": {
      "text/html": [
       "<html><script type=\"math/tex; mode=display\">\\newcommand{\\Bold}[1]{\\mathbf{#1}}\\left[u = -\\frac{1}{2} \\, \\sqrt{2} {\\left(\\sqrt{6} - 2\\right)}, u = \\frac{1}{2} \\, \\sqrt{2} {\\left(\\sqrt{6} + 2\\right)}\\right]</script></html>"
      ],
      "text/latex": [
       "\\begin{math}\n",
       "\\newcommand{\\Bold}[1]{\\mathbf{#1}}\\left[u = -\\frac{1}{2} \\, \\sqrt{2} {\\left(\\sqrt{6} - 2\\right)}, u = \\frac{1}{2} \\, \\sqrt{2} {\\left(\\sqrt{6} + 2\\right)}\\right]\n",
       "\\end{math}"
      ],
      "text/plain": [
       "[u == -1/2*sqrt(2)*(sqrt(6) - 2), u == 1/2*sqrt(2)*(sqrt(6) + 2)]"
      ]
     },
     "metadata": {},
     "output_type": "display_data"
    }
   ],
   "source": [
    "α0_AA = expr_to_poly(α0_u, AA)                 # transforma os coeficientes para AA\n",
    "st0 = solve(0 == (sqrt(8)/6)*(u-1/u) - 1/3, u) # obtem os valores de u para t=0\n",
    "st1 = solve(1 == (sqrt(8)/6)*(u-1/u) - 1/3, u) # obtem os valores de u para t=1\n",
    "show(st0); show(st1)"
   ]
  },
  {
   "cell_type": "markdown",
   "metadata": {},
   "source": [
    "#### Teorema de Sturn"
   ]
  },
  {
   "cell_type": "code",
   "execution_count": 22,
   "metadata": {
    "collapsed": false,
    "jupyter": {
     "outputs_hidden": false
    }
   },
   "outputs": [
    {
     "data": {
      "text/plain": [
       "1"
      ]
     },
     "execution_count": 22,
     "metadata": {},
     "output_type": "execute_result"
    }
   ],
   "source": [
    "u00 = st0[1].rhs() # positivo\n",
    "u10 = st1[1].rhs()\n",
    "sturm(α0_AA, AA(u00), AA(4)) # aumentei o intervalo a direita de (1/2)sqrt(2)*(sqrt(6) + 2). No caso, (sqrt(2), 4)."
   ]
  },
  {
   "cell_type": "code",
   "execution_count": 23,
   "metadata": {
    "collapsed": false,
    "jupyter": {
     "outputs_hidden": false
    }
   },
   "outputs": [
    {
     "data": {
      "text/plain": [
       "True"
      ]
     },
     "execution_count": 23,
     "metadata": {},
     "output_type": "execute_result"
    }
   ],
   "source": [
    "α0_AA(u10).is_zero() # u= (1/2)sqrt(2)*(sqrt(6) + 2) é um zero"
   ]
  },
  {
   "cell_type": "code",
   "execution_count": 24,
   "metadata": {
    "collapsed": false,
    "jupyter": {
     "outputs_hidden": false
    }
   },
   "outputs": [
    {
     "data": {
      "text/plain": [
       "True"
      ]
     },
     "execution_count": 24,
     "metadata": {},
     "output_type": "execute_result"
    }
   ],
   "source": [
    "bool(u10==sqrt(2)+sqrt(3))"
   ]
  },
  {
   "cell_type": "code",
   "execution_count": 25,
   "metadata": {
    "collapsed": false,
    "jupyter": {
     "outputs_hidden": false
    }
   },
   "outputs": [
    {
     "data": {
      "text/html": [
       "<html><script type=\"math/tex; mode=display\">\\newcommand{\\Bold}[1]{\\mathbf{#1}}-81 y^{24} + 1145.512985522207? y^{23} - 4833 y^{22} - 1374.615582626649? y^{21} + 9477 y^{20} + 363127.6164105397? y^{19} - 1733643 y^{18} + 1.999607467527565?e6 y^{17} + 3448278 y^{16} - 7.827519332670345?e6 y^{15} - 3077514 y^{14} + 1.170469895100118?e7 y^{13} + 2820906 y^{12} - 8.076782958319977?e6 y^{11} - 3340278 y^{10} + 2.190220828318460?e6 y^{9} + 1995435 y^{8} + 602616.1979170490? y^{7} + 96795 y^{6} + 20619.23373939973? y^{5} + 6561 y^{4} + 1145.512985522207? y^{3} + 81 y^{2}</script></html>"
      ],
      "text/latex": [
       "\\begin{math}\n",
       "\\newcommand{\\Bold}[1]{\\mathbf{#1}}-81 y^{24} + 1145.512985522207? y^{23} - 4833 y^{22} - 1374.615582626649? y^{21} + 9477 y^{20} + 363127.6164105397? y^{19} - 1733643 y^{18} + 1.999607467527565?e6 y^{17} + 3448278 y^{16} - 7.827519332670345?e6 y^{15} - 3077514 y^{14} + 1.170469895100118?e7 y^{13} + 2820906 y^{12} - 8.076782958319977?e6 y^{11} - 3340278 y^{10} + 2.190220828318460?e6 y^{9} + 1995435 y^{8} + 602616.1979170490? y^{7} + 96795 y^{6} + 20619.23373939973? y^{5} + 6561 y^{4} + 1145.512985522207? y^{3} + 81 y^{2}\n",
       "\\end{math}"
      ],
      "text/plain": [
       "-81*y^24 + 1145.512985522207?*y^23 - 4833*y^22 - 1374.615582626649?*y^21 + 9477*y^20 + 363127.6164105397?*y^19 - 1733643*y^18 + 1.999607467527565?e6*y^17 + 3448278*y^16 - 7.827519332670345?e6*y^15 - 3077514*y^14 + 1.170469895100118?e7*y^13 + 2820906*y^12 - 8.076782958319977?e6*y^11 - 3340278*y^10 + 2.190220828318460?e6*y^9 + 1995435*y^8 + 602616.1979170490?*y^7 + 96795*y^6 + 20619.23373939973?*y^5 + 6561*y^4 + 1145.512985522207?*y^3 + 81*y^2"
      ]
     },
     "metadata": {},
     "output_type": "display_data"
    },
    {
     "data": {
      "text/html": [
       "<html><script type=\"math/tex; mode=display\">\\newcommand{\\Bold}[1]{\\mathbf{#1}}-81 \\, y^{24} + 810 \\, \\sqrt{2} y^{23} - 4833 \\, y^{22} - 972 \\, \\sqrt{2} y^{21} + 9477 \\, y^{20} + 256770 \\, \\sqrt{2} y^{19} - 1733643 \\, y^{18} + 1413936 \\, \\sqrt{2} y^{17} + 3448278 \\, y^{16} - 5534892 \\, \\sqrt{2} y^{15} - 3077514 \\, y^{14} + 8276472 \\, \\sqrt{2} y^{13} + 2820906 \\, y^{12} - 5711148 \\, \\sqrt{2} y^{11} - 3340278 \\, y^{10} + 1548720 \\, \\sqrt{2} y^{9} + 1995435 \\, y^{8} + 426114 \\, \\sqrt{2} y^{7} + 96795 \\, y^{6} + 14580 \\, \\sqrt{2} y^{5} + 6561 \\, y^{4} + 810 \\, \\sqrt{2} y^{3} + 81 \\, y^{2}</script></html>"
      ],
      "text/latex": [
       "\\begin{math}\n",
       "\\newcommand{\\Bold}[1]{\\mathbf{#1}}-81 \\, y^{24} + 810 \\, \\sqrt{2} y^{23} - 4833 \\, y^{22} - 972 \\, \\sqrt{2} y^{21} + 9477 \\, y^{20} + 256770 \\, \\sqrt{2} y^{19} - 1733643 \\, y^{18} + 1413936 \\, \\sqrt{2} y^{17} + 3448278 \\, y^{16} - 5534892 \\, \\sqrt{2} y^{15} - 3077514 \\, y^{14} + 8276472 \\, \\sqrt{2} y^{13} + 2820906 \\, y^{12} - 5711148 \\, \\sqrt{2} y^{11} - 3340278 \\, y^{10} + 1548720 \\, \\sqrt{2} y^{9} + 1995435 \\, y^{8} + 426114 \\, \\sqrt{2} y^{7} + 96795 \\, y^{6} + 14580 \\, \\sqrt{2} y^{5} + 6561 \\, y^{4} + 810 \\, \\sqrt{2} y^{3} + 81 \\, y^{2}\n",
       "\\end{math}"
      ],
      "text/plain": [
       "-81*y^24 + 810*sqrt(2)*y^23 - 4833*y^22 - 972*sqrt(2)*y^21 + 9477*y^20 + 256770*sqrt(2)*y^19 - 1733643*y^18 + 1413936*sqrt(2)*y^17 + 3448278*y^16 - 5534892*sqrt(2)*y^15 - 3077514*y^14 + 8276472*sqrt(2)*y^13 + 2820906*y^12 - 5711148*sqrt(2)*y^11 - 3340278*y^10 + 1548720*sqrt(2)*y^9 + 1995435*y^8 + 426114*sqrt(2)*y^7 + 96795*y^6 + 14580*sqrt(2)*y^5 + 6561*y^4 + 810*sqrt(2)*y^3 + 81*y^2"
      ]
     },
     "metadata": {},
     "output_type": "display_data"
    },
    {
     "data": {
      "text/html": [
       "<html><script type=\"math/tex; mode=display\">\\newcommand{\\Bold}[1]{\\mathbf{#1}}y - 3.146264369941973?</script></html>"
      ],
      "text/latex": [
       "\\begin{math}\n",
       "\\newcommand{\\Bold}[1]{\\mathbf{#1}}y - 3.146264369941973?\n",
       "\\end{math}"
      ],
      "text/plain": [
       "y - 3.146264369941973?"
      ]
     },
     "metadata": {},
     "output_type": "display_data"
    }
   ],
   "source": [
    "y = polygen(AA, 'y');\n",
    "show(α0_AA)\n",
    "show(poly_to_expression(α0_AA))\n",
    "g=y-AA(sqrt(2)+sqrt(3));\n",
    "show(g)"
   ]
  },
  {
   "cell_type": "code",
   "execution_count": 26,
   "metadata": {
    "collapsed": false,
    "jupyter": {
     "outputs_hidden": false
    }
   },
   "outputs": [
    {
     "ename": "AttributeError",
     "evalue": "'sage.symbolic.expression.Expression' object has no attribute 'quo_rem'",
     "output_type": "error",
     "traceback": [
      "\u001b[0;31m---------------------------------------------------------------------------\u001b[0m",
      "\u001b[0;31mAttributeError\u001b[0m                            Traceback (most recent call last)",
      "\u001b[0;32m<ipython-input-26-229f3605da56>\u001b[0m in \u001b[0;36m<module>\u001b[0;34m\u001b[0m\n\u001b[0;32m----> 1\u001b[0;31m \u001b[0mh\u001b[0m\u001b[0;34m=\u001b[0m\u001b[0;34m(\u001b[0m\u001b[0mα0_AA\u001b[0m\u001b[0;34m)\u001b[0m\u001b[0;34m.\u001b[0m\u001b[0mquo_rem\u001b[0m\u001b[0;34m(\u001b[0m\u001b[0mg\u001b[0m\u001b[0;34m)\u001b[0m\u001b[0;34m;\u001b[0m\u001b[0;34m\u001b[0m\u001b[0;34m\u001b[0m\u001b[0m\n\u001b[0m\u001b[1;32m      2\u001b[0m \u001b[0mshow\u001b[0m\u001b[0;34m(\u001b[0m\u001b[0mh\u001b[0m\u001b[0;34m)\u001b[0m\u001b[0;34m\u001b[0m\u001b[0;34m\u001b[0m\u001b[0m\n",
      "\u001b[0;32m~/miniconda3/envs/sage/lib/python3.9/site-packages/sage/structure/element.pyx\u001b[0m in \u001b[0;36msage.structure.element.coerce_binop.new_method (build/cythonized/sage/structure/element.c:27821)\u001b[0;34m()\u001b[0m\n\u001b[1;32m   4353\u001b[0m                 \u001b[0;32mreturn\u001b[0m \u001b[0mmethod\u001b[0m\u001b[0;34m(\u001b[0m\u001b[0ma\u001b[0m\u001b[0;34m,\u001b[0m \u001b[0mb\u001b[0m\u001b[0;34m,\u001b[0m \u001b[0;34m*\u001b[0m\u001b[0margs\u001b[0m\u001b[0;34m,\u001b[0m \u001b[0;34m**\u001b[0m\u001b[0mkwargs\u001b[0m\u001b[0;34m)\u001b[0m\u001b[0;34m\u001b[0m\u001b[0;34m\u001b[0m\u001b[0m\n\u001b[1;32m   4354\u001b[0m             \u001b[0;32melse\u001b[0m\u001b[0;34m:\u001b[0m\u001b[0;34m\u001b[0m\u001b[0;34m\u001b[0m\u001b[0m\n\u001b[0;32m-> 4355\u001b[0;31m                 \u001b[0;32mreturn\u001b[0m \u001b[0mgetattr\u001b[0m\u001b[0;34m(\u001b[0m\u001b[0ma\u001b[0m\u001b[0;34m,\u001b[0m \u001b[0mmethod\u001b[0m\u001b[0;34m.\u001b[0m\u001b[0m__name__\u001b[0m\u001b[0;34m)\u001b[0m\u001b[0;34m(\u001b[0m\u001b[0mb\u001b[0m\u001b[0;34m,\u001b[0m \u001b[0;34m*\u001b[0m\u001b[0margs\u001b[0m\u001b[0;34m,\u001b[0m \u001b[0;34m**\u001b[0m\u001b[0mkwargs\u001b[0m\u001b[0;34m)\u001b[0m\u001b[0;34m\u001b[0m\u001b[0;34m\u001b[0m\u001b[0m\n\u001b[0m\u001b[1;32m   4356\u001b[0m     \u001b[0;32mreturn\u001b[0m \u001b[0mnew_method\u001b[0m\u001b[0;34m\u001b[0m\u001b[0;34m\u001b[0m\u001b[0m\n",
      "\u001b[0;32m~/miniconda3/envs/sage/lib/python3.9/site-packages/sage/structure/element.pyx\u001b[0m in \u001b[0;36msage.structure.element.Element.__getattr__ (build/cythonized/sage/structure/element.c:4701)\u001b[0;34m()\u001b[0m\n\u001b[1;32m    491\u001b[0m             \u001b[0mAttributeError\u001b[0m\u001b[0;34m:\u001b[0m \u001b[0;34m'LeftZeroSemigroup_with_category.element_class'\u001b[0m \u001b[0mobject\u001b[0m \u001b[0mhas\u001b[0m \u001b[0mno\u001b[0m \u001b[0mattribute\u001b[0m \u001b[0;34m'blah_blah'\u001b[0m\u001b[0;34m\u001b[0m\u001b[0;34m\u001b[0m\u001b[0m\n\u001b[1;32m    492\u001b[0m         \"\"\"\n\u001b[0;32m--> 493\u001b[0;31m         \u001b[0;32mreturn\u001b[0m \u001b[0mself\u001b[0m\u001b[0;34m.\u001b[0m\u001b[0mgetattr_from_category\u001b[0m\u001b[0;34m(\u001b[0m\u001b[0mname\u001b[0m\u001b[0;34m)\u001b[0m\u001b[0;34m\u001b[0m\u001b[0;34m\u001b[0m\u001b[0m\n\u001b[0m\u001b[1;32m    494\u001b[0m \u001b[0;34m\u001b[0m\u001b[0m\n\u001b[1;32m    495\u001b[0m     \u001b[0mcdef\u001b[0m \u001b[0mgetattr_from_category\u001b[0m\u001b[0;34m(\u001b[0m\u001b[0mself\u001b[0m\u001b[0;34m,\u001b[0m \u001b[0mname\u001b[0m\u001b[0;34m)\u001b[0m\u001b[0;34m:\u001b[0m\u001b[0;34m\u001b[0m\u001b[0;34m\u001b[0m\u001b[0m\n",
      "\u001b[0;32m~/miniconda3/envs/sage/lib/python3.9/site-packages/sage/structure/element.pyx\u001b[0m in \u001b[0;36msage.structure.element.Element.getattr_from_category (build/cythonized/sage/structure/element.c:4813)\u001b[0;34m()\u001b[0m\n\u001b[1;32m    504\u001b[0m         \u001b[0;32melse\u001b[0m\u001b[0;34m:\u001b[0m\u001b[0;34m\u001b[0m\u001b[0;34m\u001b[0m\u001b[0m\n\u001b[1;32m    505\u001b[0m             \u001b[0mcls\u001b[0m \u001b[0;34m=\u001b[0m \u001b[0mP\u001b[0m\u001b[0;34m.\u001b[0m\u001b[0m_abstract_element_class\u001b[0m\u001b[0;34m\u001b[0m\u001b[0;34m\u001b[0m\u001b[0m\n\u001b[0;32m--> 506\u001b[0;31m         \u001b[0;32mreturn\u001b[0m \u001b[0mgetattr_from_other_class\u001b[0m\u001b[0;34m(\u001b[0m\u001b[0mself\u001b[0m\u001b[0;34m,\u001b[0m \u001b[0mcls\u001b[0m\u001b[0;34m,\u001b[0m \u001b[0mname\u001b[0m\u001b[0;34m)\u001b[0m\u001b[0;34m\u001b[0m\u001b[0;34m\u001b[0m\u001b[0m\n\u001b[0m\u001b[1;32m    507\u001b[0m \u001b[0;34m\u001b[0m\u001b[0m\n\u001b[1;32m    508\u001b[0m     \u001b[0;32mdef\u001b[0m \u001b[0m__dir__\u001b[0m\u001b[0;34m(\u001b[0m\u001b[0mself\u001b[0m\u001b[0;34m)\u001b[0m\u001b[0;34m:\u001b[0m\u001b[0;34m\u001b[0m\u001b[0;34m\u001b[0m\u001b[0m\n",
      "\u001b[0;32m~/miniconda3/envs/sage/lib/python3.9/site-packages/sage/cpython/getattr.pyx\u001b[0m in \u001b[0;36msage.cpython.getattr.getattr_from_other_class (build/cythonized/sage/cpython/getattr.c:2619)\u001b[0;34m()\u001b[0m\n\u001b[1;32m    370\u001b[0m         \u001b[0mdummy_error_message\u001b[0m\u001b[0;34m.\u001b[0m\u001b[0mcls\u001b[0m \u001b[0;34m=\u001b[0m \u001b[0mtype\u001b[0m\u001b[0;34m(\u001b[0m\u001b[0mself\u001b[0m\u001b[0;34m)\u001b[0m\u001b[0;34m\u001b[0m\u001b[0;34m\u001b[0m\u001b[0m\n\u001b[1;32m    371\u001b[0m         \u001b[0mdummy_error_message\u001b[0m\u001b[0;34m.\u001b[0m\u001b[0mname\u001b[0m \u001b[0;34m=\u001b[0m \u001b[0mname\u001b[0m\u001b[0;34m\u001b[0m\u001b[0;34m\u001b[0m\u001b[0m\n\u001b[0;32m--> 372\u001b[0;31m         \u001b[0;32mraise\u001b[0m \u001b[0mAttributeError\u001b[0m\u001b[0;34m(\u001b[0m\u001b[0mdummy_error_message\u001b[0m\u001b[0;34m)\u001b[0m\u001b[0;34m\u001b[0m\u001b[0;34m\u001b[0m\u001b[0m\n\u001b[0m\u001b[1;32m    373\u001b[0m     \u001b[0mattribute\u001b[0m \u001b[0;34m=\u001b[0m \u001b[0;34m<\u001b[0m\u001b[0mobject\u001b[0m\u001b[0;34m>\u001b[0m\u001b[0mattr\u001b[0m\u001b[0;34m\u001b[0m\u001b[0;34m\u001b[0m\u001b[0m\n\u001b[1;32m    374\u001b[0m     \u001b[0;31m# Check for a descriptor (__get__ in Python)\u001b[0m\u001b[0;34m\u001b[0m\u001b[0;34m\u001b[0m\u001b[0;34m\u001b[0m\u001b[0m\n",
      "\u001b[0;31mAttributeError\u001b[0m: 'sage.symbolic.expression.Expression' object has no attribute 'quo_rem'"
     ]
    }
   ],
   "source": [
    "h=(α0_AA).quo_rem(g);\n",
    "show(h)"
   ]
  },
  {
   "cell_type": "code",
   "execution_count": null,
   "metadata": {
    "collapsed": false,
    "jupyter": {
     "outputs_hidden": false
    }
   },
   "outputs": [],
   "source": [
    "show(poly_to_expression(h[0]))"
   ]
  },
  {
   "cell_type": "code",
   "execution_count": null,
   "metadata": {
    "collapsed": false,
    "jupyter": {
     "outputs_hidden": false
    }
   },
   "outputs": [],
   "source": [
    "latex(poly_to_expression(h[0]))\n"
   ]
  },
  {
   "cell_type": "markdown",
   "metadata": {},
   "source": [
    "#### Conclusão\n",
    "-  Após a mudança de variável $t=\\frac{1}{3} \\, \\sqrt{2} {\\left(u - \\frac{1}{u}\\right)} - \\frac{1}{3}$ obtemos um polinômio  na variável $u$. Nota-se que  $u=\\frac{1}{2}\\sqrt{2}(\\sqrt{6}+2)$ é raíz do polinômio $\\alpha_0\\verb|_|AA(u)$. O **Teorema de Sturn** garante que existe apenas uma raiz entre $\\sqrt{2}\\,$ e $4 >\\,\\frac{\\sqrt{2}}{2}(\\sqrt{6}+2).$ Logo, não existe raiz entre  $\\sqrt{2}\\,$ e $\\,\\frac{\\sqrt{2}}{2}(\\sqrt{6}+2)$. Consequentemente, $\\alpha_1(t)$ não se anula em  $t\\in (0,1)$. Além disso, $\\alpha_1(t)>0$ nesse intervalo, já que $\\displaystyle\\lim_{t \\to 0^+}\\alpha_0(t)=\\displaystyle\\lim_{t \\to 1^-}\\alpha_0(t)=+\\infty$. Portanto, uma vez que $\\alpha_1(t)<0$ nesse intervalo, provamos que $c(t) = -\\dfrac{\\alpha_0(t)}{\\alpha_1(t)}>0$ em $(0,1)$."
   ]
  },
  {
   "cell_type": "markdown",
   "metadata": {},
   "source": [
    "#### Provar Lema 2.\n",
    "\n",
    "3. Provar que $a_{11}(c,t)$ é diferente de zero para todo $t\\in (0, 1)$.\n"
   ]
  },
  {
   "cell_type": "markdown",
   "metadata": {},
   "source": [
    "#### Mudança de variável:  $t=\\frac{1}{3} \\, \\sqrt{2} {\\left(u - \\frac{1}{u}\\right)} - \\frac{1}{3}$"
   ]
  },
  {
   "cell_type": "code",
   "execution_count": null,
   "metadata": {
    "collapsed": false,
    "jupyter": {
     "outputs_hidden": false
    }
   },
   "outputs": [],
   "source": [
    "a11 = B1[0,0].subs(c = -α0/α1); \n",
    "a11_u = a11.simplify_full().subs(t=(sqrt(8)/6)*(u-1/u) - 1/3) #show(simplify_local(a11))\n",
    "a11_u = a11_u.expand().factor().canonicalize_radical().numerator(); show(a11_u)"
   ]
  },
  {
   "cell_type": "code",
   "execution_count": 27,
   "metadata": {
    "collapsed": false,
    "jupyter": {
     "outputs_hidden": false
    }
   },
   "outputs": [
    {
     "ename": "NameError",
     "evalue": "name 'a11_u' is not defined",
     "output_type": "error",
     "traceback": [
      "\u001b[0;31m---------------------------------------------------------------------------\u001b[0m",
      "\u001b[0;31mNameError\u001b[0m                                 Traceback (most recent call last)",
      "\u001b[0;32m<ipython-input-27-f169f1894401>\u001b[0m in \u001b[0;36m<module>\u001b[0;34m\u001b[0m\n\u001b[0;32m----> 1\u001b[0;31m \u001b[0ma11_AA\u001b[0m \u001b[0;34m=\u001b[0m \u001b[0mexpr_to_poly\u001b[0m\u001b[0;34m(\u001b[0m\u001b[0ma11_u\u001b[0m\u001b[0;34m,\u001b[0m \u001b[0mAA\u001b[0m\u001b[0;34m)\u001b[0m                 \u001b[0;31m# transforma os coeficientes para AA\u001b[0m\u001b[0;34m\u001b[0m\u001b[0;34m\u001b[0m\u001b[0m\n\u001b[0m\u001b[1;32m      2\u001b[0m \u001b[0mst0\u001b[0m \u001b[0;34m=\u001b[0m \u001b[0msolve\u001b[0m\u001b[0;34m(\u001b[0m\u001b[0mInteger\u001b[0m\u001b[0;34m(\u001b[0m\u001b[0;36m0\u001b[0m\u001b[0;34m)\u001b[0m \u001b[0;34m==\u001b[0m \u001b[0;34m(\u001b[0m\u001b[0msqrt\u001b[0m\u001b[0;34m(\u001b[0m\u001b[0mInteger\u001b[0m\u001b[0;34m(\u001b[0m\u001b[0;36m8\u001b[0m\u001b[0;34m)\u001b[0m\u001b[0;34m)\u001b[0m\u001b[0;34m/\u001b[0m\u001b[0mInteger\u001b[0m\u001b[0;34m(\u001b[0m\u001b[0;36m6\u001b[0m\u001b[0;34m)\u001b[0m\u001b[0;34m)\u001b[0m\u001b[0;34m*\u001b[0m\u001b[0;34m(\u001b[0m\u001b[0mu\u001b[0m\u001b[0;34m-\u001b[0m\u001b[0mInteger\u001b[0m\u001b[0;34m(\u001b[0m\u001b[0;36m1\u001b[0m\u001b[0;34m)\u001b[0m\u001b[0;34m/\u001b[0m\u001b[0mu\u001b[0m\u001b[0;34m)\u001b[0m \u001b[0;34m-\u001b[0m \u001b[0mInteger\u001b[0m\u001b[0;34m(\u001b[0m\u001b[0;36m1\u001b[0m\u001b[0;34m)\u001b[0m\u001b[0;34m/\u001b[0m\u001b[0mInteger\u001b[0m\u001b[0;34m(\u001b[0m\u001b[0;36m3\u001b[0m\u001b[0;34m)\u001b[0m\u001b[0;34m,\u001b[0m \u001b[0mu\u001b[0m\u001b[0;34m)\u001b[0m \u001b[0;31m# obtem os valores de u para t=0\u001b[0m\u001b[0;34m\u001b[0m\u001b[0;34m\u001b[0m\u001b[0m\n\u001b[1;32m      3\u001b[0m \u001b[0mst1\u001b[0m \u001b[0;34m=\u001b[0m \u001b[0msolve\u001b[0m\u001b[0;34m(\u001b[0m\u001b[0mInteger\u001b[0m\u001b[0;34m(\u001b[0m\u001b[0;36m1\u001b[0m\u001b[0;34m)\u001b[0m \u001b[0;34m==\u001b[0m \u001b[0;34m(\u001b[0m\u001b[0msqrt\u001b[0m\u001b[0;34m(\u001b[0m\u001b[0mInteger\u001b[0m\u001b[0;34m(\u001b[0m\u001b[0;36m8\u001b[0m\u001b[0;34m)\u001b[0m\u001b[0;34m)\u001b[0m\u001b[0;34m/\u001b[0m\u001b[0mInteger\u001b[0m\u001b[0;34m(\u001b[0m\u001b[0;36m6\u001b[0m\u001b[0;34m)\u001b[0m\u001b[0;34m)\u001b[0m\u001b[0;34m*\u001b[0m\u001b[0;34m(\u001b[0m\u001b[0mu\u001b[0m\u001b[0;34m-\u001b[0m\u001b[0mInteger\u001b[0m\u001b[0;34m(\u001b[0m\u001b[0;36m1\u001b[0m\u001b[0;34m)\u001b[0m\u001b[0;34m/\u001b[0m\u001b[0mu\u001b[0m\u001b[0;34m)\u001b[0m \u001b[0;34m-\u001b[0m \u001b[0mInteger\u001b[0m\u001b[0;34m(\u001b[0m\u001b[0;36m1\u001b[0m\u001b[0;34m)\u001b[0m\u001b[0;34m/\u001b[0m\u001b[0mInteger\u001b[0m\u001b[0;34m(\u001b[0m\u001b[0;36m3\u001b[0m\u001b[0;34m)\u001b[0m\u001b[0;34m,\u001b[0m \u001b[0mu\u001b[0m\u001b[0;34m)\u001b[0m \u001b[0;31m# obtem os valores de u para t=1\u001b[0m\u001b[0;34m\u001b[0m\u001b[0;34m\u001b[0m\u001b[0m\n\u001b[1;32m      4\u001b[0m \u001b[0mshow\u001b[0m\u001b[0;34m(\u001b[0m\u001b[0mst0\u001b[0m\u001b[0;34m)\u001b[0m\u001b[0;34m;\u001b[0m \u001b[0mshow\u001b[0m\u001b[0;34m(\u001b[0m\u001b[0mst1\u001b[0m\u001b[0;34m)\u001b[0m\u001b[0;34m\u001b[0m\u001b[0;34m\u001b[0m\u001b[0m\n",
      "\u001b[0;31mNameError\u001b[0m: name 'a11_u' is not defined"
     ]
    }
   ],
   "source": [
    "a11_AA = expr_to_poly(a11_u, AA)                 # transforma os coeficientes para AA\n",
    "st0 = solve(0 == (sqrt(8)/6)*(u-1/u) - 1/3, u) # obtem os valores de u para t=0\n",
    "st1 = solve(1 == (sqrt(8)/6)*(u-1/u) - 1/3, u) # obtem os valores de u para t=1\n",
    "show(st0); show(st1)"
   ]
  },
  {
   "cell_type": "markdown",
   "metadata": {},
   "source": [
    "#### Teorema de Sturn"
   ]
  },
  {
   "cell_type": "code",
   "execution_count": null,
   "metadata": {
    "collapsed": false,
    "jupyter": {
     "outputs_hidden": false
    }
   },
   "outputs": [],
   "source": [
    "u011 = st0[1].rhs() # positivo\n",
    "u111 = st1[1].rhs()\n",
    "sturm(a11_AA, AA(13/10), AA(u111)) # possui raíz em a= u011"
   ]
  },
  {
   "cell_type": "code",
   "execution_count": null,
   "metadata": {
    "collapsed": false,
    "jupyter": {
     "outputs_hidden": false
    }
   },
   "outputs": [],
   "source": [
    "bool(a11_AA(u011)==0) # u=sqrt(2)~~1.41421356237310 é raíz do polinômio."
   ]
  },
  {
   "cell_type": "markdown",
   "metadata": {},
   "source": [
    "#### Conclusão\n",
    "\n",
    "- $u=\\sqrt{2}$ é raíz do polinômio a11_AA(u). O **Teorema de Sturn** garante que existe apenas uma raiz entre $\\frac{13}{10} < \\sqrt{2}\\,$ e $\\,\\frac{\\sqrt{2}}{2}(\\sqrt{6}+2)$. Logo, não existe raiz entre  $\\sqrt{2}\\,$ e $\\,\\frac{\\sqrt{2}}{2}(\\sqrt{6}+2)$. Consequentemente, $a_{11}(c(t),t)$ não se anula em  $t\\in (0,1)$."
   ]
  },
  {
   "cell_type": "markdown",
   "metadata": {},
   "source": [
    "### Prova Lema 2\n",
    "4. Estudar o sinal de $a_{12}(c(t), t)$."
   ]
  },
  {
   "cell_type": "code",
   "execution_count": 28,
   "metadata": {
    "collapsed": false,
    "jupyter": {
     "outputs_hidden": false
    }
   },
   "outputs": [],
   "source": [
    "a12 = B1[0,1].subs(c = -α0/α1);"
   ]
  },
  {
   "cell_type": "markdown",
   "metadata": {},
   "source": [
    "##### Analisando os limites"
   ]
  },
  {
   "cell_type": "code",
   "execution_count": 29,
   "metadata": {
    "collapsed": false,
    "jupyter": {
     "outputs_hidden": false
    }
   },
   "outputs": [
    {
     "data": {
      "text/plain": [
       "(True, True)"
      ]
     },
     "execution_count": 29,
     "metadata": {},
     "output_type": "execute_result"
    }
   ],
   "source": [
    "l1, l2 = limit(a12, t=0, dir='+'), limit(a12, t=1, dir='-') # sempre positivo nos extremos\n",
    "bool(l1<0), bool(l2>0)"
   ]
  },
  {
   "cell_type": "code",
   "execution_count": 30,
   "metadata": {
    "collapsed": false,
    "jupyter": {
     "outputs_hidden": false
    }
   },
   "outputs": [
    {
     "data": {
      "image/png": "[encoded data removed]",
      "text/plain": [
       "Graphics object consisting of 1 graphics primitive"
      ]
     },
     "execution_count": 30,
     "metadata": {},
     "output_type": "execute_result"
    }
   ],
   "source": [
    "plot(a12, (x,0,1), ymin=-2, ymax=60)"
   ]
  },
  {
   "cell_type": "code",
   "execution_count": null,
   "metadata": {
    "collapsed": false,
    "jupyter": {
     "outputs_hidden": false
    }
   },
   "outputs": [],
   "source": [
    "a12_u = a12.simplify_full().subs(t=(sqrt(8)/6)*(u-1/u) - 1/3) #show(simplify_local(a11))\n",
    "a12_u = a12_u.expand().factor().canonicalize_radical().numerator(); show(a11_u)"
   ]
  },
  {
   "cell_type": "code",
   "execution_count": null,
   "metadata": {
    "collapsed": false,
    "jupyter": {
     "outputs_hidden": false
    }
   },
   "outputs": [],
   "source": [
    "a12_AA = expr_to_poly(a12_u, AA)                 # transforma os coeficientes para AA\n",
    "st0 = solve(0 == (sqrt(8)/6)*(u-1/u) - 1/3, u) # obtem os valores de u para t=0\n",
    "st1 = solve(1 == (sqrt(8)/6)*(u-1/u) - 1/3, u) # obtem os valores de u para t=1\n",
    "show(st0); show(st1)"
   ]
  },
  {
   "cell_type": "code",
   "execution_count": null,
   "metadata": {
    "collapsed": false,
    "jupyter": {
     "outputs_hidden": false
    }
   },
   "outputs": [],
   "source": [
    "u012 = st0[1].rhs() # positivo\n",
    "u112 = st1[1].rhs()\n",
    "sturm(a12_AA, AA(u012), AA(u112)) # possui raíz r em (sqrt(2), (1/2)*sqrt(2)*(sqrt(6)+2))"
   ]
  },
  {
   "cell_type": "markdown",
   "metadata": {},
   "source": [
    "#### Conclusão\n",
    "\n",
    "- O polinômio a12_AA tem apenas uma raiz $r_u$ entre $\\sqrt{2}\\,$ e $\\,\\frac{\\sqrt{2}}{2}(\\sqrt{6}+2)$. Consequentemente, existe um único $r$ que anula $a_{11}(c(t),t)$ para $0 < t < 1$.  Já que $\\displaystyle\\lim_{t \\to 0^+}a_{11}(c(t),t)<0$ e $\\displaystyle\\lim_{t \\to 1^-}a_{11}(c(t),t)=+\\infty$, então $a_{11}(c(t),t)<0$ em (0, r) e $a_{11}(c(t),t)>0$ em $(r, 1)$."
   ]
  },
  {
   "cell_type": "markdown",
   "metadata": {},
   "source": [
    "#### Bloco 2"
   ]
  },
  {
   "cell_type": "code",
   "execution_count": null,
   "metadata": {
    "collapsed": false,
    "jupyter": {
     "outputs_hidden": false
    }
   },
   "outputs": [],
   "source": [
    "B2 = load('bloco_2_linear_tetraedro'); show(B2)"
   ]
  },
  {
   "cell_type": "markdown",
   "metadata": {},
   "source": [
    "Simplificando as entradas da matriz para adicionar ao texto do artigo."
   ]
  },
  {
   "cell_type": "code",
   "execution_count": null,
   "metadata": {
    "collapsed": false,
    "jupyter": {
     "outputs_hidden": false
    },
    "scrolled": true
   },
   "outputs": [],
   "source": [
    "show(B2.apply_map(lambda a: a.simplify_real().combine()))"
   ]
  },
  {
   "cell_type": "code",
   "execution_count": null,
   "metadata": {
    "collapsed": false,
    "jupyter": {
     "outputs_hidden": false
    }
   },
   "outputs": [],
   "source": [
    "submatrizes_2x2_dets = B2.minors(2)"
   ]
  },
  {
   "cell_type": "code",
   "execution_count": null,
   "metadata": {
    "collapsed": false,
    "jupyter": {
     "outputs_hidden": false
    }
   },
   "outputs": [],
   "source": [
    "for m in submatrizes_2x2_dets:\n",
    "    show(m)"
   ]
  },
  {
   "cell_type": "code",
   "execution_count": null,
   "metadata": {
    "collapsed": false,
    "jupyter": {
     "outputs_hidden": false
    }
   },
   "outputs": [],
   "source": [
    "p2 = submatrizes_2x2_dets[1].simplify();show(p2)"
   ]
  },
  {
   "cell_type": "code",
   "execution_count": null,
   "metadata": {
    "collapsed": false,
    "jupyter": {
     "outputs_hidden": false
    }
   },
   "outputs": [],
   "source": [
    "q2 = 4/81*(9*t/(3*t^2 + 2*t + 3)^(3/2) - 9/(3*t^2 + 2*t + 3)^(3/2) + sqrt(3)*t/(t - 1)^3 - sqrt(3)/(t - 1)^3); show(simplify(q2))\n",
    "# p2 = 4/81*q2(t)*q2(t)"
   ]
  },
  {
   "cell_type": "code",
   "execution_count": null,
   "metadata": {
    "collapsed": false,
    "jupyter": {
     "outputs_hidden": false
    }
   },
   "outputs": [],
   "source": [
    "q2_u = q2.simplify_full().subs(t=(sqrt(8)/6)*(u-1/u) - 1/3) \n",
    "q2_u = q2_u.expand().factor().canonicalize_radical().numerator(); show(q2_u)"
   ]
  },
  {
   "cell_type": "code",
   "execution_count": null,
   "metadata": {
    "collapsed": false,
    "jupyter": {
     "outputs_hidden": false
    }
   },
   "outputs": [],
   "source": [
    "q2_AA = expr_to_poly(q2_u, AA)                 # transforma os coeficientes para AA\n",
    "st0 = solve(0 == (sqrt(8)/6)*(u-1/u) - 1/3, u) # obtem os valores de u para t=0\n",
    "st1 = solve(1 == (sqrt(8)/6)*(u-1/u) - 1/3, u) # obtem os valores de u para t=1\n",
    "show(st0); show(st1)"
   ]
  },
  {
   "cell_type": "code",
   "execution_count": null,
   "metadata": {
    "collapsed": false,
    "jupyter": {
     "outputs_hidden": false
    }
   },
   "outputs": [],
   "source": [
    "u0 = st0[1].rhs() # positivo\n",
    "u1 = st1[1].rhs() # positivo\n",
    "sturm(q2_AA, 13/10, AA(u1))"
   ]
  },
  {
   "cell_type": "markdown",
   "metadata": {},
   "source": [
    "#### Conclusão Bloco 2\n",
    "- $u=\\sqrt{2}$ é raíz do polinômio q2(u). O **Teorema de Sturn** garante que existe apenas uma raiz entre $\\frac{13}{10} < \\sqrt{2}\\,$ e $\\,\\frac{\\sqrt{2}}{2}(\\sqrt{6}+2)$. Logo, não existe raiz entre  $\\sqrt{2}\\,$ e $\\,\\frac{\\sqrt{2}}{2}(\\sqrt{6}+2)$. Consequentemente, $p2(t)$ não se anula em  $t\\in (0,1)$."
   ]
  }
 ],
 "metadata": {
  "kernelspec": {
   "display_name": "SageMath 9.2",
   "language": "sage",
   "name": "sagemath"
  },
  "language_info": {
   "codemirror_mode": {
    "name": "ipython",
    "version": 3
   },
   "file_extension": ".py",
   "mimetype": "text/x-python",
   "name": "python",
   "nbconvert_exporter": "python",
   "pygments_lexer": "ipython3",
   "version": "3.9.1"
  },
  "widgets": {
   "application/vnd.jupyter.widget-state+json": {
    "state": {},
    "version_major": 2,
    "version_minor": 0
   }
  }
 },
 "nbformat": 4,
 "nbformat_minor": 4
}
