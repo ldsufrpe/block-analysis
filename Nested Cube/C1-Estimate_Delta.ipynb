{
 "cells": [
  {
   "cell_type": "markdown",
   "id": "633496ff",
   "metadata": {
    "pycharm": {
     "name": "#%% md\n"
    }
   },
   "source": [
    "## Analyzing the block $C_1$ for the Cube"
   ]
  },
  {
   "cell_type": "code",
   "execution_count": 1,
   "id": "597a5f63",
   "metadata": {
    "pycharm": {
     "is_executing": true,
     "name": "#%%\n"
    }
   },
   "outputs": [],
   "source": [
    "load(\"../util.sage\")"
   ]
  },
  {
   "cell_type": "code",
   "execution_count": 2,
   "id": "1b9dd1cf",
   "metadata": {
    "pycharm": {
     "name": "#%%\n"
    }
   },
   "outputs": [],
   "source": [
    "C1 = load('blocks/linear_block_1')"
   ]
  },
  {
   "cell_type": "code",
   "execution_count": 3,
   "id": "f19a18a7-7ff1-4b7d-9c38-ef680318a044",
   "metadata": {
    "pycharm": {
     "name": "#%%\n"
    }
   },
   "outputs": [
    {
     "data": {
      "text/html": [
       "<html><script type=\"math/tex; mode=display\">\\newcommand{\\Bold}[1]{\\mathbf{#1}}\\left(\\begin{array}{rr}\n",
       "24 \\, c - \\frac{1}{12} \\, \\sqrt{3} - \\frac{3}{8} \\, \\sqrt{2} - \\frac{3}{4} & 24 \\, c - \\frac{\\sqrt{3} t + \\sqrt{3}}{3 \\, {\\left(t^{3} + 3 \\, t^{2} + 3 \\, t + 1\\right)}} - \\frac{3 \\, {\\left(t + 3\\right)}}{{\\left(3 \\, t^{2} + 2 \\, t + 3\\right)}^{\\frac{3}{2}}} + \\frac{3 \\, {\\left(t - 3\\right)}}{{\\left(3 \\, t^{2} - 2 \\, t + 3\\right)}^{\\frac{3}{2}}} - \\frac{\\sqrt{3} t - \\sqrt{3}}{3 \\, {\\left(t - 1\\right)}^{3}} \\\\\n",
       "24 \\, c t - \\frac{\\sqrt{3} t + \\sqrt{3}}{3 \\, {\\left(t^{3} + 3 \\, t^{2} + 3 \\, t + 1\\right)}} - \\frac{3 \\, {\\left(3 \\, t + 1\\right)}}{{\\left(3 \\, t^{2} + 2 \\, t + 3\\right)}^{\\frac{3}{2}}} - \\frac{3 \\, {\\left(3 \\, t - 1\\right)}}{{\\left(3 \\, t^{2} - 2 \\, t + 3\\right)}^{\\frac{3}{2}}} + \\frac{\\sqrt{3} t - \\sqrt{3}}{3 \\, {\\left(t - 1\\right)}^{3}} & 24 \\, c t - \\frac{2 \\, \\sqrt{3} + 9 \\, \\sqrt{2} + 18}{24 \\, t^{2}}\n",
       "\\end{array}\\right)</script></html>"
      ],
      "text/latex": [
       "$$\\newcommand{\\Bold}[1]{\\mathbf{#1}}\\left(\\begin{array}{rr}\n",
       "24 \\, c - \\frac{1}{12} \\, \\sqrt{3} - \\frac{3}{8} \\, \\sqrt{2} - \\frac{3}{4} & 24 \\, c - \\frac{\\sqrt{3} t + \\sqrt{3}}{3 \\, {\\left(t^{3} + 3 \\, t^{2} + 3 \\, t + 1\\right)}} - \\frac{3 \\, {\\left(t + 3\\right)}}{{\\left(3 \\, t^{2} + 2 \\, t + 3\\right)}^{\\frac{3}{2}}} + \\frac{3 \\, {\\left(t - 3\\right)}}{{\\left(3 \\, t^{2} - 2 \\, t + 3\\right)}^{\\frac{3}{2}}} - \\frac{\\sqrt{3} t - \\sqrt{3}}{3 \\, {\\left(t - 1\\right)}^{3}} \\\\\n",
       "24 \\, c t - \\frac{\\sqrt{3} t + \\sqrt{3}}{3 \\, {\\left(t^{3} + 3 \\, t^{2} + 3 \\, t + 1\\right)}} - \\frac{3 \\, {\\left(3 \\, t + 1\\right)}}{{\\left(3 \\, t^{2} + 2 \\, t + 3\\right)}^{\\frac{3}{2}}} - \\frac{3 \\, {\\left(3 \\, t - 1\\right)}}{{\\left(3 \\, t^{2} - 2 \\, t + 3\\right)}^{\\frac{3}{2}}} + \\frac{\\sqrt{3} t - \\sqrt{3}}{3 \\, {\\left(t - 1\\right)}^{3}} & 24 \\, c t - \\frac{2 \\, \\sqrt{3} + 9 \\, \\sqrt{2} + 18}{24 \\, t^{2}}\n",
       "\\end{array}\\right)$$"
      ],
      "text/plain": [
       "[                                                                                                                                     24*c - 1/12*sqrt(3) - 3/8*sqrt(2) - 3/4       24*c - 1/3*(sqrt(3)*t + sqrt(3))/(t^3 + 3*t^2 + 3*t + 1) - 3*(t + 3)/(3*t^2 + 2*t + 3)^(3/2) + 3*(t - 3)/(3*t^2 - 2*t + 3)^(3/2) - 1/3*(sqrt(3)*t - sqrt(3))/(t - 1)^3]\n",
       "[24*c*t - 1/3*(sqrt(3)*t + sqrt(3))/(t^3 + 3*t^2 + 3*t + 1) - 3*(3*t + 1)/(3*t^2 + 2*t + 3)^(3/2) - 3*(3*t - 1)/(3*t^2 - 2*t + 3)^(3/2) + 1/3*(sqrt(3)*t - sqrt(3))/(t - 1)^3                                                                                                                               24*c*t - 1/24*(2*sqrt(3) + 9*sqrt(2) + 18)/t^2]"
      ]
     },
     "metadata": {},
     "output_type": "display_data"
    }
   ],
   "source": [
    "# simplify the expression of each block input\n",
    "C1 = C1.apply_map(lambda x: x.simplify_real().combine()); show(C1)"
   ]
  },
  {
   "cell_type": "code",
   "execution_count": 4,
   "id": "cbfce732-d788-4685-ba8a-3e0f06265721",
   "metadata": {
    "pycharm": {
     "name": "#%%\n"
    }
   },
   "outputs": [],
   "source": [
    "# Obtain the simplified expression\n",
    "p1 = C1.det()"
   ]
  },
  {
   "cell_type": "code",
   "execution_count": 5,
   "id": "0aee9ab8",
   "metadata": {
    "pycharm": {
     "name": "#%%\n"
    }
   },
   "outputs": [
    {
     "data": {
      "text/html": [
       "<html><script type=\"math/tex; mode=display\">\\newcommand{\\Bold}[1]{\\mathbf{#1}}\\frac{1}{576} \\, {\\left(576 \\, c t - \\frac{2 \\, \\sqrt{3} + 9 \\, \\sqrt{2} + 18}{t^{2}}\\right)} {\\left(576 \\, c - 2 \\, \\sqrt{3} - 9 \\, \\sqrt{2} - 18\\right)} - \\frac{1}{9} \\, {\\left(72 \\, c t - \\frac{\\sqrt{3} t + \\sqrt{3}}{t^{3} + 3 \\, t^{2} + 3 \\, t + 1} - \\frac{9 \\, {\\left(3 \\, t + 1\\right)}}{{\\left(3 \\, t^{2} + 2 \\, t + 3\\right)}^{\\frac{3}{2}}} - \\frac{9 \\, {\\left(3 \\, t - 1\\right)}}{{\\left(3 \\, t^{2} - 2 \\, t + 3\\right)}^{\\frac{3}{2}}} + \\frac{\\sqrt{3} t - \\sqrt{3}}{{\\left(t - 1\\right)}^{3}}\\right)} {\\left(72 \\, c - \\frac{\\sqrt{3} t + \\sqrt{3}}{t^{3} + 3 \\, t^{2} + 3 \\, t + 1} - \\frac{9 \\, {\\left(t + 3\\right)}}{{\\left(3 \\, t^{2} + 2 \\, t + 3\\right)}^{\\frac{3}{2}}} + \\frac{9 \\, {\\left(t - 3\\right)}}{{\\left(3 \\, t^{2} - 2 \\, t + 3\\right)}^{\\frac{3}{2}}} - \\frac{\\sqrt{3} t - \\sqrt{3}}{{\\left(t - 1\\right)}^{3}}\\right)}</script></html>"
      ],
      "text/latex": [
       "$$\\newcommand{\\Bold}[1]{\\mathbf{#1}}\\frac{1}{576} \\, {\\left(576 \\, c t - \\frac{2 \\, \\sqrt{3} + 9 \\, \\sqrt{2} + 18}{t^{2}}\\right)} {\\left(576 \\, c - 2 \\, \\sqrt{3} - 9 \\, \\sqrt{2} - 18\\right)} - \\frac{1}{9} \\, {\\left(72 \\, c t - \\frac{\\sqrt{3} t + \\sqrt{3}}{t^{3} + 3 \\, t^{2} + 3 \\, t + 1} - \\frac{9 \\, {\\left(3 \\, t + 1\\right)}}{{\\left(3 \\, t^{2} + 2 \\, t + 3\\right)}^{\\frac{3}{2}}} - \\frac{9 \\, {\\left(3 \\, t - 1\\right)}}{{\\left(3 \\, t^{2} - 2 \\, t + 3\\right)}^{\\frac{3}{2}}} + \\frac{\\sqrt{3} t - \\sqrt{3}}{{\\left(t - 1\\right)}^{3}}\\right)} {\\left(72 \\, c - \\frac{\\sqrt{3} t + \\sqrt{3}}{t^{3} + 3 \\, t^{2} + 3 \\, t + 1} - \\frac{9 \\, {\\left(t + 3\\right)}}{{\\left(3 \\, t^{2} + 2 \\, t + 3\\right)}^{\\frac{3}{2}}} + \\frac{9 \\, {\\left(t - 3\\right)}}{{\\left(3 \\, t^{2} - 2 \\, t + 3\\right)}^{\\frac{3}{2}}} - \\frac{\\sqrt{3} t - \\sqrt{3}}{{\\left(t - 1\\right)}^{3}}\\right)}$$"
      ],
      "text/plain": [
       "1/576*(576*c*t - (2*sqrt(3) + 9*sqrt(2) + 18)/t^2)*(576*c - 2*sqrt(3) - 9*sqrt(2) - 18) - 1/9*(72*c*t - (sqrt(3)*t + sqrt(3))/(t^3 + 3*t^2 + 3*t + 1) - 9*(3*t + 1)/(3*t^2 + 2*t + 3)^(3/2) - 9*(3*t - 1)/(3*t^2 - 2*t + 3)^(3/2) + (sqrt(3)*t - sqrt(3))/(t - 1)^3)*(72*c - (sqrt(3)*t + sqrt(3))/(t^3 + 3*t^2 + 3*t + 1) - 9*(t + 3)/(3*t^2 + 2*t + 3)^(3/2) + 9*(t - 3)/(3*t^2 - 2*t + 3)^(3/2) - (sqrt(3)*t - sqrt(3))/(t - 1)^3)"
      ]
     },
     "metadata": {},
     "output_type": "display_data"
    }
   ],
   "source": [
    "# checks if p1 was modified after simplification\n",
    "#print(bool(p1==C1.det()))\n",
    "show(p1)"
   ]
  },
  {
   "cell_type": "code",
   "execution_count": 6,
   "id": "4d876458",
   "metadata": {
    "jupyter": {
     "outputs_hidden": false
    },
    "pycharm": {
     "name": "#%%\n"
    }
   },
   "outputs": [
    {
     "data": {
      "text/html": [
       "<html><script type=\"math/tex; mode=display\">\\newcommand{\\Bold}[1]{\\mathbf{#1}}-2 \\, \\sqrt{3} t - 9 \\, \\sqrt{2} t + \\frac{8 \\, \\sqrt{3} t^{2}}{t^{3} + 3 \\, t^{2} + 3 \\, t + 1} + \\frac{8 \\, \\sqrt{3} t^{2}}{t^{3} - 3 \\, t^{2} + 3 \\, t - 1} - 18 \\, t + \\frac{16 \\, \\sqrt{3} t}{t^{3} + 3 \\, t^{2} + 3 \\, t + 1} - \\frac{16 \\, \\sqrt{3} t}{t^{3} - 3 \\, t^{2} + 3 \\, t - 1} + \\frac{72 \\, t^{2}}{{\\left(3 \\, t^{2} + 2 \\, t + 3\\right)}^{\\frac{3}{2}}} - \\frac{72 \\, t^{2}}{{\\left(3 \\, t^{2} - 2 \\, t + 3\\right)}^{\\frac{3}{2}}} + \\frac{8 \\, \\sqrt{3}}{t^{3} + 3 \\, t^{2} + 3 \\, t + 1} + \\frac{8 \\, \\sqrt{3}}{t^{3} - 3 \\, t^{2} + 3 \\, t - 1} + \\frac{432 \\, t}{{\\left(3 \\, t^{2} + 2 \\, t + 3\\right)}^{\\frac{3}{2}}} + \\frac{432 \\, t}{{\\left(3 \\, t^{2} - 2 \\, t + 3\\right)}^{\\frac{3}{2}}} + \\frac{72}{{\\left(3 \\, t^{2} + 2 \\, t + 3\\right)}^{\\frac{3}{2}}} - \\frac{72}{{\\left(3 \\, t^{2} - 2 \\, t + 3\\right)}^{\\frac{3}{2}}} - \\frac{2 \\, \\sqrt{3}}{t^{2}} - \\frac{9 \\, \\sqrt{2}}{t^{2}} - \\frac{18}{t^{2}}</script></html>"
      ],
      "text/latex": [
       "$$\\newcommand{\\Bold}[1]{\\mathbf{#1}}-2 \\, \\sqrt{3} t - 9 \\, \\sqrt{2} t + \\frac{8 \\, \\sqrt{3} t^{2}}{t^{3} + 3 \\, t^{2} + 3 \\, t + 1} + \\frac{8 \\, \\sqrt{3} t^{2}}{t^{3} - 3 \\, t^{2} + 3 \\, t - 1} - 18 \\, t + \\frac{16 \\, \\sqrt{3} t}{t^{3} + 3 \\, t^{2} + 3 \\, t + 1} - \\frac{16 \\, \\sqrt{3} t}{t^{3} - 3 \\, t^{2} + 3 \\, t - 1} + \\frac{72 \\, t^{2}}{{\\left(3 \\, t^{2} + 2 \\, t + 3\\right)}^{\\frac{3}{2}}} - \\frac{72 \\, t^{2}}{{\\left(3 \\, t^{2} - 2 \\, t + 3\\right)}^{\\frac{3}{2}}} + \\frac{8 \\, \\sqrt{3}}{t^{3} + 3 \\, t^{2} + 3 \\, t + 1} + \\frac{8 \\, \\sqrt{3}}{t^{3} - 3 \\, t^{2} + 3 \\, t - 1} + \\frac{432 \\, t}{{\\left(3 \\, t^{2} + 2 \\, t + 3\\right)}^{\\frac{3}{2}}} + \\frac{432 \\, t}{{\\left(3 \\, t^{2} - 2 \\, t + 3\\right)}^{\\frac{3}{2}}} + \\frac{72}{{\\left(3 \\, t^{2} + 2 \\, t + 3\\right)}^{\\frac{3}{2}}} - \\frac{72}{{\\left(3 \\, t^{2} - 2 \\, t + 3\\right)}^{\\frac{3}{2}}} - \\frac{2 \\, \\sqrt{3}}{t^{2}} - \\frac{9 \\, \\sqrt{2}}{t^{2}} - \\frac{18}{t^{2}}$$"
      ],
      "text/plain": [
       "-2*sqrt(3)*t - 9*sqrt(2)*t + 8*sqrt(3)*t^2/(t^3 + 3*t^2 + 3*t + 1) + 8*sqrt(3)*t^2/(t^3 - 3*t^2 + 3*t - 1) - 18*t + 16*sqrt(3)*t/(t^3 + 3*t^2 + 3*t + 1) - 16*sqrt(3)*t/(t^3 - 3*t^2 + 3*t - 1) + 72*t^2/(3*t^2 + 2*t + 3)^(3/2) - 72*t^2/(3*t^2 - 2*t + 3)^(3/2) + 8*sqrt(3)/(t^3 + 3*t^2 + 3*t + 1) + 8*sqrt(3)/(t^3 - 3*t^2 + 3*t - 1) + 432*t/(3*t^2 + 2*t + 3)^(3/2) + 432*t/(3*t^2 - 2*t + 3)^(3/2) + 72/(3*t^2 + 2*t + 3)^(3/2) - 72/(3*t^2 - 2*t + 3)^(3/2) - 2*sqrt(3)/t^2 - 9*sqrt(2)/t^2 - 18/t^2"
      ]
     },
     "metadata": {},
     "output_type": "display_data"
    }
   ],
   "source": [
    "γ1 = p1.coefficients()[1][0]; show(γ1)"
   ]
  },
  {
   "cell_type": "code",
   "execution_count": 7,
   "id": "8a018389",
   "metadata": {
    "jupyter": {
     "outputs_hidden": false
    },
    "pycharm": {
     "name": "#%%\n"
    },
    "slideshow": {
     "slide_type": ""
    },
    "tags": []
   },
   "outputs": [],
   "source": [
    "t = var('t')\n"
   ]
  },
  {
   "cell_type": "code",
   "execution_count": 8,
   "id": "73f883ff",
   "metadata": {
    "pycharm": {
     "name": "#%%\n"
    }
   },
   "outputs": [],
   "source": [
    "γ0 = p1.coefficients()[0][0] ; #show(γ0)"
   ]
  },
  {
   "cell_type": "code",
   "execution_count": 9,
   "id": "e91a65d6",
   "metadata": {
    "jupyter": {
     "outputs_hidden": false
    },
    "pycharm": {
     "name": "#%%\n"
    },
    "slideshow": {
     "slide_type": ""
    },
    "tags": []
   },
   "outputs": [
    {
     "data": {
      "text/html": [
       "<html><script type=\"math/tex; mode=display\">\\newcommand{\\Bold}[1]{\\mathbf{#1}}-\\frac{\\sqrt{3} t + \\sqrt{3}}{3 \\, {\\left(t^{3} + 3 \\, t^{2} + 3 \\, t + 1\\right)}} - \\frac{\\frac{32 \\, t^{2}}{{\\left(t^{3} + 3 \\, t^{2} + 3 \\, t + 1\\right)}^{2}} - \\frac{32 \\, t^{2}}{{\\left(t^{3} - 3 \\, t^{2} + 3 \\, t - 1\\right)}^{2}} + \\frac{384 \\, \\sqrt{3} t^{2}}{{\\left(t^{3} + 3 \\, t^{2} + 3 \\, t + 1\\right)} {\\left(3 \\, t^{2} + 2 \\, t + 3\\right)}^{\\frac{3}{2}}} + \\frac{192 \\, \\sqrt{3} t^{2}}{{\\left(t^{3} - 3 \\, t^{2} + 3 \\, t - 1\\right)} {\\left(3 \\, t^{2} + 2 \\, t + 3\\right)}^{\\frac{3}{2}}} + \\frac{192 \\, \\sqrt{3} t^{2}}{{\\left(t^{3} + 3 \\, t^{2} + 3 \\, t + 1\\right)} {\\left(3 \\, t^{2} - 2 \\, t + 3\\right)}^{\\frac{3}{2}}} + \\frac{384 \\, \\sqrt{3} t^{2}}{{\\left(t^{3} - 3 \\, t^{2} + 3 \\, t - 1\\right)} {\\left(3 \\, t^{2} - 2 \\, t + 3\\right)}^{\\frac{3}{2}}} - \\frac{6 \\, \\sqrt{3} \\sqrt{2}}{t^{2}} + \\frac{64 \\, t}{{\\left(t^{3} + 3 \\, t^{2} + 3 \\, t + 1\\right)}^{2}} + \\frac{64 \\, t}{{\\left(t^{3} - 3 \\, t^{2} + 3 \\, t - 1\\right)}^{2}} + \\frac{768 \\, \\sqrt{3} t}{{\\left(t^{3} + 3 \\, t^{2} + 3 \\, t + 1\\right)} {\\left(3 \\, t^{2} + 2 \\, t + 3\\right)}^{\\frac{3}{2}}} - \\frac{384 \\, \\sqrt{3} t}{{\\left(t^{3} - 3 \\, t^{2} + 3 \\, t - 1\\right)} {\\left(3 \\, t^{2} + 2 \\, t + 3\\right)}^{\\frac{3}{2}}} + \\frac{384 \\, \\sqrt{3} t}{{\\left(t^{3} + 3 \\, t^{2} + 3 \\, t + 1\\right)} {\\left(3 \\, t^{2} - 2 \\, t + 3\\right)}^{\\frac{3}{2}}} - \\frac{768 \\, \\sqrt{3} t}{{\\left(t^{3} - 3 \\, t^{2} + 3 \\, t - 1\\right)} {\\left(3 \\, t^{2} - 2 \\, t + 3\\right)}^{\\frac{3}{2}}} + \\frac{2592 \\, t^{2}}{{\\left(3 \\, t^{2} + 2 \\, t + 3\\right)}^{3}} - \\frac{2592 \\, t^{2}}{{\\left(3 \\, t^{2} - 2 \\, t + 3\\right)}^{3}} - \\frac{12 \\, \\sqrt{3}}{t^{2}} - \\frac{54 \\, \\sqrt{2}}{t^{2}} + \\frac{32}{{\\left(t^{3} + 3 \\, t^{2} + 3 \\, t + 1\\right)}^{2}} - \\frac{32}{{\\left(t^{3} - 3 \\, t^{2} + 3 \\, t - 1\\right)}^{2}} + \\frac{384 \\, \\sqrt{3}}{{\\left(t^{3} + 3 \\, t^{2} + 3 \\, t + 1\\right)} {\\left(3 \\, t^{2} + 2 \\, t + 3\\right)}^{\\frac{3}{2}}} + \\frac{192 \\, \\sqrt{3}}{{\\left(t^{3} - 3 \\, t^{2} + 3 \\, t - 1\\right)} {\\left(3 \\, t^{2} + 2 \\, t + 3\\right)}^{\\frac{3}{2}}} + \\frac{192 \\, \\sqrt{3}}{{\\left(t^{3} + 3 \\, t^{2} + 3 \\, t + 1\\right)} {\\left(3 \\, t^{2} - 2 \\, t + 3\\right)}^{\\frac{3}{2}}} + \\frac{384 \\, \\sqrt{3}}{{\\left(t^{3} - 3 \\, t^{2} + 3 \\, t - 1\\right)} {\\left(3 \\, t^{2} - 2 \\, t + 3\\right)}^{\\frac{3}{2}}} - \\frac{83}{t^{2}} + \\frac{8640 \\, t}{{\\left(3 \\, t^{2} + 2 \\, t + 3\\right)}^{3}} + \\frac{8640 \\, t}{{\\left(3 \\, t^{2} - 2 \\, t + 3\\right)}^{3}} + \\frac{13824 \\, t}{{\\left(3 \\, t^{2} + 2 \\, t + 3\\right)}^{\\frac{3}{2}} {\\left(3 \\, t^{2} - 2 \\, t + 3\\right)}^{\\frac{3}{2}}} + \\frac{2592}{{\\left(3 \\, t^{2} + 2 \\, t + 3\\right)}^{3}} - \\frac{2592}{{\\left(3 \\, t^{2} - 2 \\, t + 3\\right)}^{3}}}{4 \\, {\\left(2 \\, \\sqrt{3} t + 9 \\, \\sqrt{2} t - \\frac{8 \\, \\sqrt{3} t^{2}}{t^{3} + 3 \\, t^{2} + 3 \\, t + 1} - \\frac{8 \\, \\sqrt{3} t^{2}}{t^{3} - 3 \\, t^{2} + 3 \\, t - 1} + 18 \\, t - \\frac{16 \\, \\sqrt{3} t}{t^{3} + 3 \\, t^{2} + 3 \\, t + 1} + \\frac{16 \\, \\sqrt{3} t}{t^{3} - 3 \\, t^{2} + 3 \\, t - 1} - \\frac{72 \\, t^{2}}{{\\left(3 \\, t^{2} + 2 \\, t + 3\\right)}^{\\frac{3}{2}}} + \\frac{72 \\, t^{2}}{{\\left(3 \\, t^{2} - 2 \\, t + 3\\right)}^{\\frac{3}{2}}} - \\frac{8 \\, \\sqrt{3}}{t^{3} + 3 \\, t^{2} + 3 \\, t + 1} - \\frac{8 \\, \\sqrt{3}}{t^{3} - 3 \\, t^{2} + 3 \\, t - 1} - \\frac{432 \\, t}{{\\left(3 \\, t^{2} + 2 \\, t + 3\\right)}^{\\frac{3}{2}}} - \\frac{432 \\, t}{{\\left(3 \\, t^{2} - 2 \\, t + 3\\right)}^{\\frac{3}{2}}} - \\frac{72}{{\\left(3 \\, t^{2} + 2 \\, t + 3\\right)}^{\\frac{3}{2}}} + \\frac{72}{{\\left(3 \\, t^{2} - 2 \\, t + 3\\right)}^{\\frac{3}{2}}} + \\frac{2 \\, \\sqrt{3}}{t^{2}} + \\frac{9 \\, \\sqrt{2}}{t^{2}} + \\frac{18}{t^{2}}\\right)}} - \\frac{3 \\, {\\left(t + 3\\right)}}{{\\left(3 \\, t^{2} + 2 \\, t + 3\\right)}^{\\frac{3}{2}}} + \\frac{3 \\, {\\left(t - 3\\right)}}{{\\left(3 \\, t^{2} - 2 \\, t + 3\\right)}^{\\frac{3}{2}}} - \\frac{\\sqrt{3} t - \\sqrt{3}}{3 \\, {\\left(t - 1\\right)}^{3}}</script></html>"
      ],
      "text/latex": [
       "$$\\newcommand{\\Bold}[1]{\\mathbf{#1}}-\\frac{\\sqrt{3} t + \\sqrt{3}}{3 \\, {\\left(t^{3} + 3 \\, t^{2} + 3 \\, t + 1\\right)}} - \\frac{\\frac{32 \\, t^{2}}{{\\left(t^{3} + 3 \\, t^{2} + 3 \\, t + 1\\right)}^{2}} - \\frac{32 \\, t^{2}}{{\\left(t^{3} - 3 \\, t^{2} + 3 \\, t - 1\\right)}^{2}} + \\frac{384 \\, \\sqrt{3} t^{2}}{{\\left(t^{3} + 3 \\, t^{2} + 3 \\, t + 1\\right)} {\\left(3 \\, t^{2} + 2 \\, t + 3\\right)}^{\\frac{3}{2}}} + \\frac{192 \\, \\sqrt{3} t^{2}}{{\\left(t^{3} - 3 \\, t^{2} + 3 \\, t - 1\\right)} {\\left(3 \\, t^{2} + 2 \\, t + 3\\right)}^{\\frac{3}{2}}} + \\frac{192 \\, \\sqrt{3} t^{2}}{{\\left(t^{3} + 3 \\, t^{2} + 3 \\, t + 1\\right)} {\\left(3 \\, t^{2} - 2 \\, t + 3\\right)}^{\\frac{3}{2}}} + \\frac{384 \\, \\sqrt{3} t^{2}}{{\\left(t^{3} - 3 \\, t^{2} + 3 \\, t - 1\\right)} {\\left(3 \\, t^{2} - 2 \\, t + 3\\right)}^{\\frac{3}{2}}} - \\frac{6 \\, \\sqrt{3} \\sqrt{2}}{t^{2}} + \\frac{64 \\, t}{{\\left(t^{3} + 3 \\, t^{2} + 3 \\, t + 1\\right)}^{2}} + \\frac{64 \\, t}{{\\left(t^{3} - 3 \\, t^{2} + 3 \\, t - 1\\right)}^{2}} + \\frac{768 \\, \\sqrt{3} t}{{\\left(t^{3} + 3 \\, t^{2} + 3 \\, t + 1\\right)} {\\left(3 \\, t^{2} + 2 \\, t + 3\\right)}^{\\frac{3}{2}}} - \\frac{384 \\, \\sqrt{3} t}{{\\left(t^{3} - 3 \\, t^{2} + 3 \\, t - 1\\right)} {\\left(3 \\, t^{2} + 2 \\, t + 3\\right)}^{\\frac{3}{2}}} + \\frac{384 \\, \\sqrt{3} t}{{\\left(t^{3} + 3 \\, t^{2} + 3 \\, t + 1\\right)} {\\left(3 \\, t^{2} - 2 \\, t + 3\\right)}^{\\frac{3}{2}}} - \\frac{768 \\, \\sqrt{3} t}{{\\left(t^{3} - 3 \\, t^{2} + 3 \\, t - 1\\right)} {\\left(3 \\, t^{2} - 2 \\, t + 3\\right)}^{\\frac{3}{2}}} + \\frac{2592 \\, t^{2}}{{\\left(3 \\, t^{2} + 2 \\, t + 3\\right)}^{3}} - \\frac{2592 \\, t^{2}}{{\\left(3 \\, t^{2} - 2 \\, t + 3\\right)}^{3}} - \\frac{12 \\, \\sqrt{3}}{t^{2}} - \\frac{54 \\, \\sqrt{2}}{t^{2}} + \\frac{32}{{\\left(t^{3} + 3 \\, t^{2} + 3 \\, t + 1\\right)}^{2}} - \\frac{32}{{\\left(t^{3} - 3 \\, t^{2} + 3 \\, t - 1\\right)}^{2}} + \\frac{384 \\, \\sqrt{3}}{{\\left(t^{3} + 3 \\, t^{2} + 3 \\, t + 1\\right)} {\\left(3 \\, t^{2} + 2 \\, t + 3\\right)}^{\\frac{3}{2}}} + \\frac{192 \\, \\sqrt{3}}{{\\left(t^{3} - 3 \\, t^{2} + 3 \\, t - 1\\right)} {\\left(3 \\, t^{2} + 2 \\, t + 3\\right)}^{\\frac{3}{2}}} + \\frac{192 \\, \\sqrt{3}}{{\\left(t^{3} + 3 \\, t^{2} + 3 \\, t + 1\\right)} {\\left(3 \\, t^{2} - 2 \\, t + 3\\right)}^{\\frac{3}{2}}} + \\frac{384 \\, \\sqrt{3}}{{\\left(t^{3} - 3 \\, t^{2} + 3 \\, t - 1\\right)} {\\left(3 \\, t^{2} - 2 \\, t + 3\\right)}^{\\frac{3}{2}}} - \\frac{83}{t^{2}} + \\frac{8640 \\, t}{{\\left(3 \\, t^{2} + 2 \\, t + 3\\right)}^{3}} + \\frac{8640 \\, t}{{\\left(3 \\, t^{2} - 2 \\, t + 3\\right)}^{3}} + \\frac{13824 \\, t}{{\\left(3 \\, t^{2} + 2 \\, t + 3\\right)}^{\\frac{3}{2}} {\\left(3 \\, t^{2} - 2 \\, t + 3\\right)}^{\\frac{3}{2}}} + \\frac{2592}{{\\left(3 \\, t^{2} + 2 \\, t + 3\\right)}^{3}} - \\frac{2592}{{\\left(3 \\, t^{2} - 2 \\, t + 3\\right)}^{3}}}{4 \\, {\\left(2 \\, \\sqrt{3} t + 9 \\, \\sqrt{2} t - \\frac{8 \\, \\sqrt{3} t^{2}}{t^{3} + 3 \\, t^{2} + 3 \\, t + 1} - \\frac{8 \\, \\sqrt{3} t^{2}}{t^{3} - 3 \\, t^{2} + 3 \\, t - 1} + 18 \\, t - \\frac{16 \\, \\sqrt{3} t}{t^{3} + 3 \\, t^{2} + 3 \\, t + 1} + \\frac{16 \\, \\sqrt{3} t}{t^{3} - 3 \\, t^{2} + 3 \\, t - 1} - \\frac{72 \\, t^{2}}{{\\left(3 \\, t^{2} + 2 \\, t + 3\\right)}^{\\frac{3}{2}}} + \\frac{72 \\, t^{2}}{{\\left(3 \\, t^{2} - 2 \\, t + 3\\right)}^{\\frac{3}{2}}} - \\frac{8 \\, \\sqrt{3}}{t^{3} + 3 \\, t^{2} + 3 \\, t + 1} - \\frac{8 \\, \\sqrt{3}}{t^{3} - 3 \\, t^{2} + 3 \\, t - 1} - \\frac{432 \\, t}{{\\left(3 \\, t^{2} + 2 \\, t + 3\\right)}^{\\frac{3}{2}}} - \\frac{432 \\, t}{{\\left(3 \\, t^{2} - 2 \\, t + 3\\right)}^{\\frac{3}{2}}} - \\frac{72}{{\\left(3 \\, t^{2} + 2 \\, t + 3\\right)}^{\\frac{3}{2}}} + \\frac{72}{{\\left(3 \\, t^{2} - 2 \\, t + 3\\right)}^{\\frac{3}{2}}} + \\frac{2 \\, \\sqrt{3}}{t^{2}} + \\frac{9 \\, \\sqrt{2}}{t^{2}} + \\frac{18}{t^{2}}\\right)}} - \\frac{3 \\, {\\left(t + 3\\right)}}{{\\left(3 \\, t^{2} + 2 \\, t + 3\\right)}^{\\frac{3}{2}}} + \\frac{3 \\, {\\left(t - 3\\right)}}{{\\left(3 \\, t^{2} - 2 \\, t + 3\\right)}^{\\frac{3}{2}}} - \\frac{\\sqrt{3} t - \\sqrt{3}}{3 \\, {\\left(t - 1\\right)}^{3}}$$"
      ],
      "text/plain": [
       "-1/3*(sqrt(3)*t + sqrt(3))/(t^3 + 3*t^2 + 3*t + 1) - 1/4*(32*t^2/(t^3 + 3*t^2 + 3*t + 1)^2 - 32*t^2/(t^3 - 3*t^2 + 3*t - 1)^2 + 384*sqrt(3)*t^2/((t^3 + 3*t^2 + 3*t + 1)*(3*t^2 + 2*t + 3)^(3/2)) + 192*sqrt(3)*t^2/((t^3 - 3*t^2 + 3*t - 1)*(3*t^2 + 2*t + 3)^(3/2)) + 192*sqrt(3)*t^2/((t^3 + 3*t^2 + 3*t + 1)*(3*t^2 - 2*t + 3)^(3/2)) + 384*sqrt(3)*t^2/((t^3 - 3*t^2 + 3*t - 1)*(3*t^2 - 2*t + 3)^(3/2)) - 6*sqrt(3)*sqrt(2)/t^2 + 64*t/(t^3 + 3*t^2 + 3*t + 1)^2 + 64*t/(t^3 - 3*t^2 + 3*t - 1)^2 + 768*sqrt(3)*t/((t^3 + 3*t^2 + 3*t + 1)*(3*t^2 + 2*t + 3)^(3/2)) - 384*sqrt(3)*t/((t^3 - 3*t^2 + 3*t - 1)*(3*t^2 + 2*t + 3)^(3/2)) + 384*sqrt(3)*t/((t^3 + 3*t^2 + 3*t + 1)*(3*t^2 - 2*t + 3)^(3/2)) - 768*sqrt(3)*t/((t^3 - 3*t^2 + 3*t - 1)*(3*t^2 - 2*t + 3)^(3/2)) + 2592*t^2/(3*t^2 + 2*t + 3)^3 - 2592*t^2/(3*t^2 - 2*t + 3)^3 - 12*sqrt(3)/t^2 - 54*sqrt(2)/t^2 + 32/(t^3 + 3*t^2 + 3*t + 1)^2 - 32/(t^3 - 3*t^2 + 3*t - 1)^2 + 384*sqrt(3)/((t^3 + 3*t^2 + 3*t + 1)*(3*t^2 + 2*t + 3)^(3/2)) + 192*sqrt(3)/((t^3 - 3*t^2 + 3*t - 1)*(3*t^2 + 2*t + 3)^(3/2)) + 192*sqrt(3)/((t^3 + 3*t^2 + 3*t + 1)*(3*t^2 - 2*t + 3)^(3/2)) + 384*sqrt(3)/((t^3 - 3*t^2 + 3*t - 1)*(3*t^2 - 2*t + 3)^(3/2)) - 83/t^2 + 8640*t/(3*t^2 + 2*t + 3)^3 + 8640*t/(3*t^2 - 2*t + 3)^3 + 13824*t/((3*t^2 + 2*t + 3)^(3/2)*(3*t^2 - 2*t + 3)^(3/2)) + 2592/(3*t^2 + 2*t + 3)^3 - 2592/(3*t^2 - 2*t + 3)^3)/(2*sqrt(3)*t + 9*sqrt(2)*t - 8*sqrt(3)*t^2/(t^3 + 3*t^2 + 3*t + 1) - 8*sqrt(3)*t^2/(t^3 - 3*t^2 + 3*t - 1) + 18*t - 16*sqrt(3)*t/(t^3 + 3*t^2 + 3*t + 1) + 16*sqrt(3)*t/(t^3 - 3*t^2 + 3*t - 1) - 72*t^2/(3*t^2 + 2*t + 3)^(3/2) + 72*t^2/(3*t^2 - 2*t + 3)^(3/2) - 8*sqrt(3)/(t^3 + 3*t^2 + 3*t + 1) - 8*sqrt(3)/(t^3 - 3*t^2 + 3*t - 1) - 432*t/(3*t^2 + 2*t + 3)^(3/2) - 432*t/(3*t^2 - 2*t + 3)^(3/2) - 72/(3*t^2 + 2*t + 3)^(3/2) + 72/(3*t^2 - 2*t + 3)^(3/2) + 2*sqrt(3)/t^2 + 9*sqrt(2)/t^2 + 18/t^2) - 3*(t + 3)/(3*t^2 + 2*t + 3)^(3/2) + 3*(t - 3)/(3*t^2 - 2*t + 3)^(3/2) - 1/3*(sqrt(3)*t - sqrt(3))/(t - 1)^3"
      ]
     },
     "metadata": {},
     "output_type": "display_data"
    }
   ],
   "source": [
    "C12 = C1[0,1].subs(c = -γ0/γ1)\n",
    "show(C12)"
   ]
  },
  {
   "cell_type": "markdown",
   "id": "8959b27b-d573-42a6-9130-5b4e1f7bffc0",
   "metadata": {},
   "source": [
    "##### Estimate by using the plot."
   ]
  },
  {
   "cell_type": "code",
   "execution_count": 10,
   "id": "dd79668b-90c6-4c71-8b5f-9a95224f97e0",
   "metadata": {},
   "outputs": [
    {
     "data": {
      "image/png": "[encoded data removed]",
      "text/plain": [
       "Graphics object consisting of 1 graphics primitive"
      ]
     },
     "execution_count": 10,
     "metadata": {},
     "output_type": "execute_result"
    }
   ],
   "source": [
    "plot(C12, (t, 0.6, 0.65), ymax=10, ymin=-1)"
   ]
  }
 ],
 "metadata": {
  "kernelspec": {
   "display_name": "SageMath 9.5",
   "language": "sage",
   "name": "sagemath"
  },
  "language_info": {
   "codemirror_mode": {
    "name": "ipython",
    "version": 3
   },
   "file_extension": ".py",
   "mimetype": "text/x-python",
   "name": "python",
   "nbconvert_exporter": "python",
   "pygments_lexer": "ipython3",
   "version": "3.10.12"
  },
  "widgets": {
   "application/vnd.jupyter.widget-state+json": {
    "state": {},
    "version_major": 2,
    "version_minor": 0
   }
  }
 },
 "nbformat": 4,
 "nbformat_minor": 5
}
