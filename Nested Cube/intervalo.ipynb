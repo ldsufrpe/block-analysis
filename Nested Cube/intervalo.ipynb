{
 "cells": [
  {
   "cell_type": "markdown",
   "metadata": {},
   "source": [
    "### Nesse arquivo obtenho um polinomio mais simples. Rodo a ideia da particao colocando as raizes no maximos e minimos.\n",
    "\n",
    "##### Nesse arquivo rodo bem a ideia da particao. No entanto uma raiz para t=1 impede a finalizacao. Tentando solucionar.\n",
    "##### Aparentemente nao da certo inverter o intervalo para deixar semiaberto no 1."
   ]
  },
  {
   "cell_type": "code",
   "execution_count": 22,
   "metadata": {},
   "outputs": [
    {
     "data": {
      "text/html": [
       "<html><script type=\"math/tex; mode=display\">\\newcommand{\\Bold}[1]{\\mathbf{#1}}\\left(\\begin{array}{rr}\n",
       "24 \\, c - \\frac{1}{12} \\, \\sqrt{3} - \\frac{3}{8} \\, \\sqrt{2} - \\frac{3}{4} & 24 \\, c - \\frac{\\sqrt{3} t + \\sqrt{3}}{3 \\, {\\left(t^{3} + 3 \\, t^{2} + 3 \\, t + 1\\right)}} - \\frac{3 \\, {\\left(t + 3\\right)}}{{\\left(3 \\, t^{2} + 2 \\, t + 3\\right)}^{\\frac{3}{2}}} + \\frac{3 \\, {\\left(t - 3\\right)}}{{\\left(3 \\, t^{2} - 2 \\, t + 3\\right)}^{\\frac{3}{2}}} - \\frac{\\sqrt{3} t - \\sqrt{3}}{3 \\, {\\left(t - 1\\right)}^{3}} \\\\\n",
       "24 \\, c t - \\frac{\\sqrt{3} t + \\sqrt{3}}{3 \\, {\\left(t^{3} + 3 \\, t^{2} + 3 \\, t + 1\\right)}} - \\frac{3 \\, {\\left(3 \\, t + 1\\right)}}{{\\left(3 \\, t^{2} + 2 \\, t + 3\\right)}^{\\frac{3}{2}}} - \\frac{3 \\, {\\left(3 \\, t - 1\\right)}}{{\\left(3 \\, t^{2} - 2 \\, t + 3\\right)}^{\\frac{3}{2}}} + \\frac{\\sqrt{3} t - \\sqrt{3}}{3 \\, {\\left(t - 1\\right)}^{3}} & 24 \\, c t - \\frac{2 \\, \\sqrt{3} + 9 \\, \\sqrt{2} + 18}{24 \\, t^{2}}\n",
       "\\end{array}\\right)</script></html>"
      ],
      "text/latex": [
       "$$\\newcommand{\\Bold}[1]{\\mathbf{#1}}\\left(\\begin{array}{rr}\n",
       "24 \\, c - \\frac{1}{12} \\, \\sqrt{3} - \\frac{3}{8} \\, \\sqrt{2} - \\frac{3}{4} & 24 \\, c - \\frac{\\sqrt{3} t + \\sqrt{3}}{3 \\, {\\left(t^{3} + 3 \\, t^{2} + 3 \\, t + 1\\right)}} - \\frac{3 \\, {\\left(t + 3\\right)}}{{\\left(3 \\, t^{2} + 2 \\, t + 3\\right)}^{\\frac{3}{2}}} + \\frac{3 \\, {\\left(t - 3\\right)}}{{\\left(3 \\, t^{2} - 2 \\, t + 3\\right)}^{\\frac{3}{2}}} - \\frac{\\sqrt{3} t - \\sqrt{3}}{3 \\, {\\left(t - 1\\right)}^{3}} \\\\\n",
       "24 \\, c t - \\frac{\\sqrt{3} t + \\sqrt{3}}{3 \\, {\\left(t^{3} + 3 \\, t^{2} + 3 \\, t + 1\\right)}} - \\frac{3 \\, {\\left(3 \\, t + 1\\right)}}{{\\left(3 \\, t^{2} + 2 \\, t + 3\\right)}^{\\frac{3}{2}}} - \\frac{3 \\, {\\left(3 \\, t - 1\\right)}}{{\\left(3 \\, t^{2} - 2 \\, t + 3\\right)}^{\\frac{3}{2}}} + \\frac{\\sqrt{3} t - \\sqrt{3}}{3 \\, {\\left(t - 1\\right)}^{3}} & 24 \\, c t - \\frac{2 \\, \\sqrt{3} + 9 \\, \\sqrt{2} + 18}{24 \\, t^{2}}\n",
       "\\end{array}\\right)$$"
      ],
      "text/plain": [
       "[                                                                                                                                     24*c - 1/12*sqrt(3) - 3/8*sqrt(2) - 3/4       24*c - 1/3*(sqrt(3)*t + sqrt(3))/(t^3 + 3*t^2 + 3*t + 1) - 3*(t + 3)/(3*t^2 + 2*t + 3)^(3/2) + 3*(t - 3)/(3*t^2 - 2*t + 3)^(3/2) - 1/3*(sqrt(3)*t - sqrt(3))/(t - 1)^3]\n",
       "[24*c*t - 1/3*(sqrt(3)*t + sqrt(3))/(t^3 + 3*t^2 + 3*t + 1) - 3*(3*t + 1)/(3*t^2 + 2*t + 3)^(3/2) - 3*(3*t - 1)/(3*t^2 - 2*t + 3)^(3/2) + 1/3*(sqrt(3)*t - sqrt(3))/(t - 1)^3                                                                                                                               24*c*t - 1/24*(2*sqrt(3) + 9*sqrt(2) + 18)/t^2]"
      ]
     },
     "metadata": {},
     "output_type": "display_data"
    }
   ],
   "source": [
    "load(\"../util.sage\")\n",
    "C1 = load('blocks/linear_block_1')\n",
    "C1 = C1.apply_map(lambda x: x.simplify_real().combine()); show(C1)\n",
    "p1 = simplify_expression(C1.det())"
   ]
  },
  {
   "cell_type": "code",
   "execution_count": 23,
   "metadata": {},
   "outputs": [],
   "source": [
    "c, t =var('c t');\n",
    "assume(t>0)\n",
    "assume(t<1)\n",
    "#t = var('t')\n",
    "def extremos_uv_particionados(p , extremos_t):\n",
    "    \"\"\" INPUT - UM POLINOMIO QUADRATICO NA VARIAVEL t DA FORMA\n",
    "   p --> p(t)=a*t^2 + b*t+c \n",
    "   extremos_t ----> Os extremos para o t, (deve ser um subintervalo do INTERVALO [0,1])\n",
    "   OUTPUT - OS VALORES MAXIMOS E MINIMOS DE p NO INTERVALO [t0,t1].\n",
    "    \"\"\"\n",
    "    t0 =  extremos_t[0]\n",
    "    t1 =  extremos_t[1]\n",
    "    coefs = reversed(p.coefficients(t))\n",
    "    a, b , c = map(lambda x: x[0], coefs )\n",
    "    \n",
    "    if t0 <=-b/(2*a) <=t1:\n",
    "        \n",
    "        lst = [p(t=t0), p(t=t1), p(t=-b/(2*a))]\n",
    "        \n",
    "    else:\n",
    "        lst = [p(t=t0), p(t=t1)]\n",
    "        \n",
    "    return min(lst), max(lst)\n",
    "\n",
    "###TESTAR SE f e g é um par u e v.\n",
    "def teste_par_u_v(lista):\n",
    "    \"\"\"INPUT- Uma lista com o possivel par f e g para v e u(nesta ordem).\n",
    "    OUTPUT- Um booleano Falso ou verdadeiro se f e g forma um par para a substituição\"\"\"\n",
    "    f_lista = lista[0]\n",
    "    \n",
    "    g_lista = lista[1]\n",
    "    \n",
    "    b = (g_lista.coefficients()[1][0])\n",
    "    \n",
    "    return bool(((g_lista-f_lista)/(2*b)).full_simplify()== t)\n",
    "\n"
   ]
  },
  {
   "cell_type": "code",
   "execution_count": 24,
   "metadata": {},
   "outputs": [],
   "source": [
    "\n",
    "poly_u_v_ico_num =load('poly_C11')"
   ]
  },
  {
   "cell_type": "code",
   "execution_count": 25,
   "metadata": {},
   "outputs": [
    {
     "name": "stdout",
     "output_type": "stream",
     "text": [
      "(t, u, v)\n",
      "(t, u, v)\n"
     ]
    }
   ],
   "source": [
    "### Respeitar a ordem da variaveis eh importante\n",
    "print(poly_u_v_ico_num.free_variables())\n",
    "print(poly_u_v_ico_num.variables())"
   ]
  },
  {
   "cell_type": "code",
   "execution_count": 26,
   "metadata": {},
   "outputs": [
    {
     "name": "stdout",
     "output_type": "stream",
     "text": [
      "[24, 4, 4]\n"
     ]
    }
   ],
   "source": [
    "graus_u_v_t  =  [poly_u_v_ico_num.degree(t),poly_u_v_ico_num.degree(u), poly_u_v_ico_num.degree(v)]\n",
    "print(graus_u_v_t)"
   ]
  },
  {
   "cell_type": "code",
   "execution_count": 27,
   "metadata": {},
   "outputs": [],
   "source": [
    "from functools import reduce\n",
    "\n",
    "def dicionario_geral(poly):\n",
    "    \"\"\"INPUT - poly- Um polinomio como expressão simbolica na classe <class 'sage.symbolic.expression.Expression'>\n",
    "    OUTPUT - Um dicionario com CHAVE do tipo tupla multigrau (d1,d2,...,dl) correpondendo ao monomio \n",
    "    variavel1^(d1)*variavel2^(d2)*...*variavell^(dl) e VALOR sendo o coeficiente deste monomio.\n",
    "    OBSERVACAO- A ordem das variaveis imspota pelo SAGE manda na ordem das chaves do dicionario. \n",
    "    Exemplo-\n",
    "    sage: z, y, x, u = var('z y x u')\n",
    "    sage: p = (2100*u^2*x+2020*u^2*y^2)*z^0+(3031*u^3*y^3+1101*u*x)*z+(3022*u^3*y^2+202*x^2)*z^2\n",
    "    sage: variaveis = p.free_variables(); variaveis\n",
    "        (u,x,y,z)\n",
    "    sage: dicionario_geral(p)\n",
    "        {(0, 2, 0, 2): 202,\n",
    "         (1, 1, 0, 1): 1101,\n",
    "         (2, 0, 2, 0): 2020,\n",
    "         (2, 1, 0, 0): 2100,\n",
    "         (3, 0, 2, 2): 3022,\n",
    "         (3, 0, 3, 1): 3031}\n",
    "        \n",
    "        \n",
    "    sage: u,v = var('u v')\n",
    "    sage: p3 = 23*u^2*v^3+21*u^2*v+11*u*v+10*u+4;\n",
    "    sage: dicionario_geral(p3)\n",
    "      {(0, 0): 4, (1, 0): 10, (1, 1): 11, (2, 1): 21, (2, 3): 23}\n",
    "    \"\"\"\n",
    "    def nova_lista(lista, var):\n",
    "        new_lista = [];\n",
    "        for item in lista:\n",
    "            sublista = item[0].coefficients(var)\n",
    "            for subitem in sublista:\n",
    "                subitem = [subitem[0],subitem[1:]+item[-1]]\n",
    "                new_lista.append(subitem)\n",
    "        return  new_lista\n",
    "\n",
    "    #variaveis = (poly).free_variables(); Modifiquei aqui\n",
    "    variaveis = (poly).variables()\n",
    "#####################################################################\n",
    "    variavel_1 = variaveis[0];\n",
    "    l_variavel_1 = (poly).coefficients(variavel_1);\n",
    "    l = [[item[0],item[1:]] for item in l_variavel_1]\n",
    "    for var in variaveis[1:]:\n",
    "        l = nova_lista(l, var)\n",
    "    dicionario = {tuple(list(reversed(j[1]))) : j[0] for j in l}\n",
    "    return dicionario\n",
    "\n",
    "#novo_coefsxy = dicionario_geral(poly_u_v) # virar variável global\n",
    "def coeficientes_de_moebius_simbolico_varias_variaveis(poly, graus, extremos, novo_coefsxy ):\n",
    "    \"\"\"INPUTS -\n",
    "    poly- Um polinomio como expressão simbolica na classe  <class 'sage.symbolic.expression.Expression'>;\n",
    "    graus - Uma lista com naturais representando o multigrau do monomio que voce quer o coeficiente.\n",
    "            Importante - A sua lista de graus deve estar na ordem que o Sage ordena as variaveis.\n",
    "    extremos - Uma lista com pares (a_i,b_i) que dão o intervalo da substituição de Moebius para\n",
    "    a variavel x_i, isto é,    x_i---> x_i = (a_i*u_i+b_i)/(u_i+1) para a variavel u_i.\n",
    "    OUTPUT - O coeficiente do monomio com multigrau dado pela lista graus depois da substituicao de Moebius\n",
    "    Exemplo - 1\n",
    "    sage: poly_teste = 23*u^2*v^3 + 21*u^2*v + 11*u*v + 10*u + 4;\n",
    "    sage: graus_teste = [1,2]; ## para acahar o coeficiente de (x_1)^1*(x_2)^2\n",
    "    sage: extremos_teste = [(3, 5), (7, 11)];\n",
    "    sage: novo_coefsxy_teste = dicionario_geral(poly_teste); # virar variável global;\n",
    "    sage: c = coeficientes_de_moebius_simbolico_varias_variaveis(poly_teste, graus_teste, extremos_teste, novo_coefsxy_teste)\n",
    "        1133944\n",
    "    Exemplo - 2\n",
    "    sage: poly = (2100*u^2*x+2020*u^2*y^2)*z^0+(3031*u^3*y^3+1101*u*x)*z+(3022*u^3*y^2+202*x^2)*z^2\n",
    "    sage: variaveis = poly.free_variables(); variaveis\n",
    "    sage: extremos_teste_2 = [(3,5),(7,11),(13,17),(19,23)];\n",
    "    sage: ru, rx, ry, rz = var('ru, rx, ry, rz')\n",
    "    sage: variaveis_r = [ru, rx, ry, rz]\n",
    "    sage: novo_coefsxy_teste_2 = dicionario_geral(poly); \n",
    "    sage: c = coeficientes_de_moebius_simbolico_varias_variaveis(poly, [0, 0, 1, 0], extremos_teste_2, novo_coefsxy_teste_2) ## Procurando o coeficiente de ru^0 * rx^0 * ry^1 * rz^0\n",
    "    sage: show(c)\n",
    "     244374065874\n",
    "       \n",
    "       OBSERVACAO: Para mais detalhes veja o arquivo /Artigo_de_Aplicacoes/Reuniao-casa-marcelo-26-07/Icosaedro-bloco-2-reunião-casa-marcelo/Funcao_Para_Coeficientes_Com_Varias_Variaveis_Versao_Final.ipynb\n",
    "        \"\"\"\n",
    "    #variaveis = (poly).free_variables(); Modifiquei aqui\n",
    "    variaveis = (poly).variables()\n",
    "    graus_total = [poly.degree(x) for x in variaveis];\n",
    "    chaves = novo_coefsxy.keys()\n",
    "    soma_total = 0\n",
    "    for chave in chaves:\n",
    "        somas = []\n",
    "        for k in range(len(chave)):\n",
    "            somak = 0\n",
    "            ck = chave[k]\n",
    "            gt = graus_total[k]\n",
    "            gks = graus[k]\n",
    "            a_k = extremos[k][0]\n",
    "            b_k = extremos[k][1]\n",
    "            for pp in range(ck+1):\n",
    "                somak = somak+((binomial(ck,pp))*(binomial(gt-ck, gks-pp))*((a_k)^(pp))*((b_k)^(ck-pp)))\n",
    "            somas.append(somak)\n",
    "        somas_e_valor = somas + [novo_coefsxy[chave]]\n",
    "        soma_total = soma_total + reduce(lambda a, b: a*b, somas_e_valor)\n",
    "    return soma_total\n",
    "### Alias\n",
    "cmsvv = coeficientes_de_moebius_simbolico_varias_variaveis\n"
   ]
  },
  {
   "cell_type": "code",
   "execution_count": 28,
   "metadata": {},
   "outputs": [],
   "source": [
    "n_uplas = [[i,j,k] for i in range(graus_u_v_t[0]+1) for j in range(graus_u_v_t[1]+1) for k in range(graus_u_v_t[2]+1)]"
   ]
  },
  {
   "cell_type": "code",
   "execution_count": 29,
   "metadata": {},
   "outputs": [
    {
     "data": {
      "text/plain": [
       "625"
      ]
     },
     "execution_count": 29,
     "metadata": {},
     "output_type": "execute_result"
    }
   ],
   "source": [
    "len(n_uplas)"
   ]
  },
  {
   "cell_type": "code",
   "execution_count": 30,
   "metadata": {},
   "outputs": [
    {
     "name": "stdout",
     "output_type": "stream",
     "text": [
      "CPU times: user 1 µs, sys: 0 ns, total: 1 µs\n",
      "Wall time: 2.62 µs\n"
     ]
    }
   ],
   "source": [
    "%time\n",
    "dicionario = dicionario_geral(poly_u_v_ico_num);"
   ]
  },
  {
   "cell_type": "markdown",
   "metadata": {},
   "source": [
    "### Adicionando Ideia da Particao"
   ]
  },
  {
   "cell_type": "code",
   "execution_count": 31,
   "metadata": {},
   "outputs": [],
   "source": [
    "### Vou fazer gambiarra para incluir a curva inicial \n",
    "def extremos_parcial_curvas(intervalo, curvas):\n",
    "    \"\"\"INPUT - Um intervalo, no formato de lista [a,b] ou tupla [a,b]. Com a<b.\n",
    "    OUTPUT - Os  extremos de uma caixa que contem o traço da curva parametrizada\n",
    "    por t---> (t, g(t), h(t)), para t variando no intervalo [a,b].\n",
    "    \"\"\"\n",
    "    ### Caso geral o t_0 =-b/(2*a) do polinomio do segundo grau que representa as variaveis\n",
    "    m = intervalo[0];\n",
    "    M = intervalo[1];\n",
    "    extremos_parcial = [];\n",
    "    for curva in curvas:\n",
    "        coe = curva.coefficients()\n",
    "        c,b,a = coe[0][0],coe[1][0],coe[2][0];\n",
    "        t_0 = -b/(2*a);\n",
    "        if m <= t_0 and t_0 <= M:\n",
    "            minimo = min([curva(t = m), curva(t = t_0), curva(t = M)])\n",
    "            maximo = max([curva(t = m), curva(t = t_0), curva(t = M)])\n",
    "        elif t_0 <= m and M <= t_0:\n",
    "            minimo = min([curva(t = m), curva(t = t_0), curva(t = M)])\n",
    "            maximo = max([curva(t = m), curva(t = t_0), curva(t = M)])\n",
    "        else:\n",
    "            minimo = min([curva(t = m), curva(t = M)])\n",
    "            maximo = max([curva(t = m), curva(t = M)])\n",
    "        extremos_parcial.append((sqrt(minimo),sqrt(maximo))) #Coloquei raiz\n",
    "    return extremos_parcial\n",
    "\n",
    "\n",
    "def particao5(lista_de_intervalos, curvas):\n",
    "    \"\"\"INPUT - Lista de Pares do tipo [((a_1,b_1), False), ...,((a_n,b_n), True)] \n",
    "    Onde o intervalo i será usado se o seu par for False, e não será usado se seu par for True.\n",
    "    No caso False, calcula a mudança de coeficientes e se todos tiverem o mesmo sinal muda o False para True.\n",
    "    Caso haja mudança de sinal nos coeficientes bissecta o intervalo e coloca False nos dois intervalos gerados.\n",
    "    \"\"\"\n",
    "    um_e_menos_um = Set({1,-1});\n",
    "    n_l_i = []\n",
    "    for i in range(len(lista_de_intervalos)):\n",
    "        if lista_de_intervalos[i][-1]:\n",
    "            n_l_i.append(lista_de_intervalos[i])\n",
    "            continue\n",
    "        else:\n",
    "            intervalo = lista_de_intervalos[i][0];\n",
    "            m = intervalo[0];\n",
    "            M = intervalo[1];\n",
    "            e_p = extremos_parcial_curvas(intervalo, curvas); ###Mudou aqui [f,g,h] trocou por curvas.\n",
    "            e_p = [(m,M)] + e_p ### Gambiarra aqui para nao incluir a curva t no codigo\n",
    "            coefs = Set([]);\n",
    "            n_l_i = n_l_i +[((m,M),True)]\n",
    "            for graus in n_uplas:\n",
    "                ultimo_coeficiente = cmsvv(poly, graus, e_p, dicionario);\n",
    "                u_c = Set([sign(ultimo_coeficiente)]);\n",
    "                coefs = coefs.union(u_c);\n",
    "                if um_e_menos_um.issubset(coefs):\n",
    "                    n_l_i = n_l_i[:-1] + [((m,(1/2)*(m+M)), False), (((1/2)*(m+M),M), False)];\n",
    "                    break\n",
    "    return n_l_i"
   ]
  },
  {
   "cell_type": "code",
   "execution_count": 60,
   "metadata": {},
   "outputs": [],
   "source": [
    "### Curvas\n",
    "f(t) = t;\n",
    "f_1t(t) = 3*t^2 + 2*t + 3 # v1**2\n",
    "f_2t(t) = 3*t^2 - 2*t + 3 # v2**2\n"
   ]
  },
  {
   "cell_type": "code",
   "execution_count": 61,
   "metadata": {},
   "outputs": [],
   "source": [
    "curvas = [f_1t, f_2t]\n",
    "poly = poly_u_v_ico_num"
   ]
  },
  {
   "cell_type": "code",
   "execution_count": 62,
   "metadata": {},
   "outputs": [],
   "source": [
    "#### RODA ATE AQUI E PAUSA"
   ]
  },
  {
   "cell_type": "code",
   "execution_count": 63,
   "metadata": {},
   "outputs": [
    {
     "name": "stdout",
     "output_type": "stream",
     "text": [
      "CPU times: user 35.5 s, sys: 39.9 ms, total: 35.5 s\n",
      "Wall time: 35.5 s\n"
     ]
    }
   ],
   "source": [
    "%time s5 = particao5([((0, 1), False)], curvas);"
   ]
  },
  {
   "cell_type": "code",
   "execution_count": 64,
   "metadata": {
    "scrolled": true
   },
   "outputs": [
    {
     "name": "stdout",
     "output_type": "stream",
     "text": [
      "[((0, 1/2), False), ((1/2, 1), False)]\n"
     ]
    }
   ],
   "source": [
    "print(s5)"
   ]
  },
  {
   "cell_type": "code",
   "execution_count": 65,
   "metadata": {},
   "outputs": [
    {
     "name": "stdout",
     "output_type": "stream",
     "text": [
      "CPU times: user 1min 23s, sys: 89.9 ms, total: 1min 23s\n",
      "Wall time: 1min 23s\n"
     ]
    }
   ],
   "source": [
    "%time s6 = particao5(s5, curvas)"
   ]
  },
  {
   "cell_type": "code",
   "execution_count": 66,
   "metadata": {},
   "outputs": [
    {
     "name": "stdout",
     "output_type": "stream",
     "text": [
      "[((0, 1/4), False), ((1/4, 1/2), False), ((1/2, 1), True)]\n"
     ]
    }
   ],
   "source": [
    "print(s6)"
   ]
  },
  {
   "cell_type": "code",
   "execution_count": 67,
   "metadata": {},
   "outputs": [
    {
     "name": "stdout",
     "output_type": "stream",
     "text": [
      "CPU times: user 1min 24s, sys: 39.8 ms, total: 1min 24s\n",
      "Wall time: 1min 24s\n"
     ]
    }
   ],
   "source": [
    "%time s7 = particao5(s6, curvas)"
   ]
  },
  {
   "cell_type": "code",
   "execution_count": 68,
   "metadata": {},
   "outputs": [
    {
     "name": "stdout",
     "output_type": "stream",
     "text": [
      "[((0, 1/8), False), ((1/8, 1/4), False), ((1/4, 1/2), True), ((1/2, 1), True)]\n"
     ]
    }
   ],
   "source": [
    "print(s7)"
   ]
  },
  {
   "cell_type": "code",
   "execution_count": 71,
   "metadata": {},
   "outputs": [
    {
     "name": "stdout",
     "output_type": "stream",
     "text": [
      "CPU times: user 1min 36s, sys: 49.9 ms, total: 1min 36s\n",
      "Wall time: 1min 36s\n"
     ]
    }
   ],
   "source": [
    "%time s8 = particao5(s7, curvas)"
   ]
  },
  {
   "cell_type": "code",
   "execution_count": 72,
   "metadata": {},
   "outputs": [
    {
     "name": "stdout",
     "output_type": "stream",
     "text": [
      "[((0, 1/16), False), ((1/16, 1/8), False), ((1/8, 1/4), True), ((1/4, 1/2), True), ((1/2, 1), True)]\n"
     ]
    }
   ],
   "source": [
    "print(s8)"
   ]
  },
  {
   "cell_type": "code",
   "execution_count": 73,
   "metadata": {},
   "outputs": [
    {
     "name": "stdout",
     "output_type": "stream",
     "text": [
      "CPU times: user 1min 23s, sys: 29.9 ms, total: 1min 23s\n",
      "Wall time: 1min 23s\n"
     ]
    }
   ],
   "source": [
    "%time s9 = particao5(s8, curvas)"
   ]
  },
  {
   "cell_type": "code",
   "execution_count": 74,
   "metadata": {},
   "outputs": [
    {
     "name": "stdout",
     "output_type": "stream",
     "text": [
      "[((0, 1/32), False), ((1/32, 1/16), False), ((1/16, 1/8), True), ((1/8, 1/4), True), ((1/4, 1/2), True), ((1/2, 1), True)]\n"
     ]
    }
   ],
   "source": [
    "print(s9)"
   ]
  },
  {
   "cell_type": "code",
   "execution_count": 33,
   "metadata": {},
   "outputs": [
    {
     "name": "stdout",
     "output_type": "stream",
     "text": [
      "CPU times: user 1min 29s, sys: 69.9 ms, total: 1min 29s\n",
      "Wall time: 1min 29s\n"
     ]
    }
   ],
   "source": [
    "%time s10 = particao5(s9, curvas)"
   ]
  },
  {
   "cell_type": "code",
   "execution_count": 34,
   "metadata": {},
   "outputs": [
    {
     "name": "stdout",
     "output_type": "stream",
     "text": [
      "[((0, 1/64), False), ((1/64, 1/32), False), ((1/32, 1/16), True), ((1/16, 1/8), True), ((1/8, 1/4), True), ((1/4, 1/2), True), ((1/2, 1), True)]\n"
     ]
    }
   ],
   "source": [
    "print(s10)"
   ]
  },
  {
   "cell_type": "code",
   "execution_count": 35,
   "metadata": {},
   "outputs": [
    {
     "name": "stdout",
     "output_type": "stream",
     "text": [
      "CPU times: user 1min 54s, sys: 29.9 ms, total: 1min 54s\n",
      "Wall time: 1min 54s\n"
     ]
    }
   ],
   "source": [
    "%time s11 = particao5(s10, curvas)"
   ]
  },
  {
   "cell_type": "code",
   "execution_count": 36,
   "metadata": {},
   "outputs": [
    {
     "name": "stdout",
     "output_type": "stream",
     "text": [
      "[((0, 1/128), False), ((1/128, 1/64), False), ((1/64, 1/32), True), ((1/32, 1/16), True), ((1/16, 1/8), True), ((1/8, 1/4), True), ((1/4, 1/2), True), ((1/2, 1), True)]\n"
     ]
    }
   ],
   "source": [
    "print(s11)"
   ]
  },
  {
   "cell_type": "code",
   "execution_count": 38,
   "metadata": {},
   "outputs": [
    {
     "name": "stdout",
     "output_type": "stream",
     "text": [
      "CPU times: user 1min 54s, sys: 49.9 ms, total: 1min 54s\n",
      "Wall time: 1min 54s\n"
     ]
    }
   ],
   "source": [
    "%time s12 = particao5(s11, curvas)"
   ]
  },
  {
   "cell_type": "code",
   "execution_count": 39,
   "metadata": {},
   "outputs": [
    {
     "name": "stdout",
     "output_type": "stream",
     "text": [
      "[((0, 1/256), False), ((1/256, 1/128), False), ((1/128, 1/64), True), ((1/64, 1/32), True), ((1/32, 1/16), True), ((1/16, 1/8), True), ((1/8, 1/4), True), ((1/4, 1/2), True), ((1/2, 1), True)]\n"
     ]
    }
   ],
   "source": [
    "print(s12)"
   ]
  },
  {
   "cell_type": "code",
   "execution_count": 44,
   "metadata": {},
   "outputs": [
    {
     "name": "stdout",
     "output_type": "stream",
     "text": [
      "CPU times: user 1min 47s, sys: 70 ms, total: 1min 47s\n",
      "Wall time: 1min 47s\n"
     ]
    }
   ],
   "source": [
    "%time s13 = particao5(s12, curvas)"
   ]
  },
  {
   "cell_type": "code",
   "execution_count": 45,
   "metadata": {},
   "outputs": [
    {
     "name": "stdout",
     "output_type": "stream",
     "text": [
      "[((0, 1/512), False), ((1/512, 1/256), False), ((1/256, 1/128), True), ((1/128, 1/64), True), ((1/64, 1/32), True), ((1/32, 1/16), True), ((1/16, 1/8), True), ((1/8, 1/4), True), ((1/4, 1/2), True), ((1/2, 1), True)]\n"
     ]
    }
   ],
   "source": [
    "print(s13)"
   ]
  },
  {
   "cell_type": "code",
   "execution_count": 47,
   "metadata": {},
   "outputs": [
    {
     "name": "stdout",
     "output_type": "stream",
     "text": [
      "CPU times: user 1min 29s, sys: 70 ms, total: 1min 29s\n",
      "Wall time: 1min 29s\n"
     ]
    }
   ],
   "source": [
    "%time s14 = particao5(s13, curvas)"
   ]
  },
  {
   "cell_type": "code",
   "execution_count": 48,
   "metadata": {},
   "outputs": [
    {
     "name": "stdout",
     "output_type": "stream",
     "text": [
      "[((0, 1/1024), False), ((1/1024, 1/512), False), ((1/512, 1/256), True), ((1/256, 1/128), True), ((1/128, 1/64), True), ((1/64, 1/32), True), ((1/32, 1/16), True), ((1/16, 1/8), True), ((1/8, 1/4), True), ((1/4, 1/2), True), ((1/2, 1), True)]\n"
     ]
    }
   ],
   "source": [
    "print(s14)"
   ]
  },
  {
   "cell_type": "code",
   "execution_count": 46,
   "metadata": {},
   "outputs": [
    {
     "data": {
      "text/plain": [
       "0"
      ]
     },
     "execution_count": 46,
     "metadata": {},
     "output_type": "execute_result"
    }
   ],
   "source": [
    "### Fato importante. Isso garante que o ultimo subintervalo continuara sempre subdividindo.\n",
    "poly(t=0, u = sqrt(f_1t(0)), v = sqrt(f_2t(0)))"
   ]
  },
  {
   "cell_type": "markdown",
   "metadata": {},
   "source": [
    "#### Tentando inverter o lado."
   ]
  },
  {
   "cell_type": "code",
   "execution_count": 27,
   "metadata": {},
   "outputs": [
    {
     "name": "stdout",
     "output_type": "stream",
     "text": [
      "CPU times: user 3min 7s, sys: 196 ms, total: 3min 7s\n",
      "Wall time: 3min 7s\n"
     ]
    }
   ],
   "source": [
    "%time s5inv = particao5([((1,31/32), False)], curvas);"
   ]
  },
  {
   "cell_type": "code",
   "execution_count": 28,
   "metadata": {},
   "outputs": [
    {
     "data": {
      "text/html": [
       "<html><script type=\"math/tex; mode=display\">\\newcommand{\\Bold}[1]{\\mathbf{#1}}\\left[\\left(\\left(1, \\frac{63}{64}\\right), \\mathrm{False}\\right), \\left(\\left(\\frac{63}{64}, \\frac{31}{32}\\right), \\mathrm{False}\\right)\\right]</script></html>"
      ],
      "text/latex": [
       "$$\\newcommand{\\Bold}[1]{\\mathbf{#1}}\\left[\\left(\\left(1, \\frac{63}{64}\\right), \\mathrm{False}\\right), \\left(\\left(\\frac{63}{64}, \\frac{31}{32}\\right), \\mathrm{False}\\right)\\right]$$"
      ],
      "text/plain": [
       "[((1, 63/64), False), ((63/64, 31/32), False)]"
      ]
     },
     "metadata": {},
     "output_type": "display_data"
    }
   ],
   "source": [
    "show(s5inv)"
   ]
  },
  {
   "cell_type": "code",
   "execution_count": 29,
   "metadata": {},
   "outputs": [
    {
     "name": "stdout",
     "output_type": "stream",
     "text": [
      "CPU times: user 10min 36s, sys: 836 ms, total: 10min 37s\n",
      "Wall time: 10min 37s\n"
     ]
    }
   ],
   "source": [
    "%time s6inv = particao5(s5inv, curvas);"
   ]
  },
  {
   "cell_type": "code",
   "execution_count": 30,
   "metadata": {},
   "outputs": [
    {
     "data": {
      "text/html": [
       "<html><script type=\"math/tex; mode=display\">\\newcommand{\\Bold}[1]{\\mathbf{#1}}\\left[\\left(\\left(1, \\frac{127}{128}\\right), \\mathrm{False}\\right), \\left(\\left(\\frac{127}{128}, \\frac{63}{64}\\right), \\mathrm{False}\\right), \\left(\\left(\\frac{63}{64}, \\frac{31}{32}\\right), \\mathrm{True}\\right)\\right]</script></html>"
      ],
      "text/latex": [
       "$$\\newcommand{\\Bold}[1]{\\mathbf{#1}}\\left[\\left(\\left(1, \\frac{127}{128}\\right), \\mathrm{False}\\right), \\left(\\left(\\frac{127}{128}, \\frac{63}{64}\\right), \\mathrm{False}\\right), \\left(\\left(\\frac{63}{64}, \\frac{31}{32}\\right), \\mathrm{True}\\right)\\right]$$"
      ],
      "text/plain": [
       "[((1, 127/128), False), ((127/128, 63/64), False), ((63/64, 31/32), True)]"
      ]
     },
     "metadata": {},
     "output_type": "display_data"
    }
   ],
   "source": [
    "show(s6inv)"
   ]
  },
  {
   "cell_type": "code",
   "execution_count": 31,
   "metadata": {},
   "outputs": [
    {
     "name": "stdout",
     "output_type": "stream",
     "text": [
      "CPU times: user 10min 34s, sys: 764 ms, total: 10min 34s\n",
      "Wall time: 10min 34s\n"
     ]
    }
   ],
   "source": [
    "%time s7inv = particao5(s6inv, curvas);"
   ]
  },
  {
   "cell_type": "code",
   "execution_count": 32,
   "metadata": {},
   "outputs": [
    {
     "data": {
      "text/html": [
       "<html><script type=\"math/tex; mode=display\">\\newcommand{\\Bold}[1]{\\mathbf{#1}}\\left[\\left(\\left(1, \\frac{255}{256}\\right), \\mathrm{False}\\right), \\left(\\left(\\frac{255}{256}, \\frac{127}{128}\\right), \\mathrm{False}\\right), \\left(\\left(\\frac{127}{128}, \\frac{63}{64}\\right), \\mathrm{True}\\right), \\left(\\left(\\frac{63}{64}, \\frac{31}{32}\\right), \\mathrm{True}\\right)\\right]</script></html>"
      ],
      "text/latex": [
       "$$\\newcommand{\\Bold}[1]{\\mathbf{#1}}\\left[\\left(\\left(1, \\frac{255}{256}\\right), \\mathrm{False}\\right), \\left(\\left(\\frac{255}{256}, \\frac{127}{128}\\right), \\mathrm{False}\\right), \\left(\\left(\\frac{127}{128}, \\frac{63}{64}\\right), \\mathrm{True}\\right), \\left(\\left(\\frac{63}{64}, \\frac{31}{32}\\right), \\mathrm{True}\\right)\\right]$$"
      ],
      "text/plain": [
       "[((1, 255/256), False),\n",
       " ((255/256, 127/128), False),\n",
       " ((127/128, 63/64), True),\n",
       " ((63/64, 31/32), True)]"
      ]
     },
     "metadata": {},
     "output_type": "display_data"
    }
   ],
   "source": [
    "show(s7inv)"
   ]
  },
  {
   "cell_type": "code",
   "execution_count": null,
   "metadata": {},
   "outputs": [],
   "source": []
  },
  {
   "cell_type": "markdown",
   "metadata": {},
   "source": [
    "### Pra baixo eh lixo"
   ]
  },
  {
   "cell_type": "code",
   "execution_count": 37,
   "metadata": {},
   "outputs": [
    {
     "data": {
      "text/html": [
       "<html><script type=\"math/tex; mode=display\">\\newcommand{\\Bold}[1]{\\mathbf{#1}}-10995116277760 \\, \\sqrt{5} t^{4} {\\left(\\sqrt{5} - 3\\right)}^{3} {\\left(\\sqrt{5} - 5\\right)}^{3} + 32985348833280 \\, t^{4} {\\left(\\sqrt{5} - 3\\right)}^{3} {\\left(\\sqrt{5} - 5\\right)}^{3} + 21990232555520 \\, \\sqrt{5} t^{3} {\\left(\\sqrt{5} - 3\\right)}^{3} {\\left(\\sqrt{5} - 5\\right)}^{3} - 65970697666560 \\, t^{3} {\\left(\\sqrt{5} - 3\\right)}^{3} {\\left(\\sqrt{5} - 5\\right)}^{3} - 10995116277760 \\, \\sqrt{5} t^{2} {\\left(\\sqrt{5} - 3\\right)}^{3} {\\left(\\sqrt{5} - 5\\right)}^{3} + 32985348833280 \\, t^{2} {\\left(\\sqrt{5} - 3\\right)}^{3} {\\left(\\sqrt{5} - 5\\right)}^{3}</script></html>"
      ],
      "text/latex": [
       "$$\\newcommand{\\Bold}[1]{\\mathbf{#1}}-10995116277760 \\, \\sqrt{5} t^{4} {\\left(\\sqrt{5} - 3\\right)}^{3} {\\left(\\sqrt{5} - 5\\right)}^{3} + 32985348833280 \\, t^{4} {\\left(\\sqrt{5} - 3\\right)}^{3} {\\left(\\sqrt{5} - 5\\right)}^{3} + 21990232555520 \\, \\sqrt{5} t^{3} {\\left(\\sqrt{5} - 3\\right)}^{3} {\\left(\\sqrt{5} - 5\\right)}^{3} - 65970697666560 \\, t^{3} {\\left(\\sqrt{5} - 3\\right)}^{3} {\\left(\\sqrt{5} - 5\\right)}^{3} - 10995116277760 \\, \\sqrt{5} t^{2} {\\left(\\sqrt{5} - 3\\right)}^{3} {\\left(\\sqrt{5} - 5\\right)}^{3} + 32985348833280 \\, t^{2} {\\left(\\sqrt{5} - 3\\right)}^{3} {\\left(\\sqrt{5} - 5\\right)}^{3}$$"
      ],
      "text/plain": [
       "-10995116277760*sqrt(5)*t^4*(sqrt(5) - 3)^3*(sqrt(5) - 5)^3 + 32985348833280*t^4*(sqrt(5) - 3)^3*(sqrt(5) - 5)^3 + 21990232555520*sqrt(5)*t^3*(sqrt(5) - 3)^3*(sqrt(5) - 5)^3 - 65970697666560*t^3*(sqrt(5) - 3)^3*(sqrt(5) - 5)^3 - 10995116277760*sqrt(5)*t^2*(sqrt(5) - 3)^3*(sqrt(5) - 5)^3 + 32985348833280*t^2*(sqrt(5) - 3)^3*(sqrt(5) - 5)^3"
      ]
     },
     "metadata": {},
     "output_type": "display_data"
    }
   ],
   "source": [
    "show(polinomio_simples( v1 = sqrt(f_1t(1)), u1 = sqrt(g_1t(1)), v2 = sqrt(f_2t(1)), u2 = sqrt(g_2t(1))))"
   ]
  },
  {
   "cell_type": "code",
   "execution_count": 38,
   "metadata": {},
   "outputs": [],
   "source": [
    "p=polinomio_simples( v1 = sqrt(f_1t(1)), u1 = sqrt(g_1t(1)), v2 = sqrt(f_2t(1)), u2 = sqrt(g_2t(1)));"
   ]
  },
  {
   "cell_type": "code",
   "execution_count": 41,
   "metadata": {},
   "outputs": [
    {
     "data": {
      "text/html": [
       "<html><script type=\"math/tex; mode=display\">\\newcommand{\\Bold}[1]{\\mathbf{#1}}-3518437208883200 \\, {\\left(t - 1\\right)}^{2} t^{2} {\\left(199 \\, \\sqrt{5} - 445\\right)}</script></html>"
      ],
      "text/latex": [
       "$$\\newcommand{\\Bold}[1]{\\mathbf{#1}}-3518437208883200 \\, {\\left(t - 1\\right)}^{2} t^{2} {\\left(199 \\, \\sqrt{5} - 445\\right)}$$"
      ],
      "text/plain": [
       "-3518437208883200*(t - 1)^2*t^2*(199*sqrt(5) - 445)"
      ]
     },
     "metadata": {},
     "output_type": "display_data"
    }
   ],
   "source": [
    "show(p.full_simplify().factor())"
   ]
  },
  {
   "cell_type": "code",
   "execution_count": null,
   "metadata": {},
   "outputs": [],
   "source": []
  },
  {
   "cell_type": "code",
   "execution_count": null,
   "metadata": {},
   "outputs": [],
   "source": []
  },
  {
   "cell_type": "code",
   "execution_count": null,
   "metadata": {},
   "outputs": [],
   "source": []
  },
  {
   "cell_type": "code",
   "execution_count": null,
   "metadata": {},
   "outputs": [],
   "source": []
  },
  {
   "cell_type": "markdown",
   "metadata": {},
   "source": []
  },
  {
   "cell_type": "code",
   "execution_count": null,
   "metadata": {},
   "outputs": [],
   "source": [
    "\n",
    "\n"
   ]
  }
 ],
 "metadata": {
  "kernelspec": {
   "display_name": "SageMath 10.4",
   "language": "sage",
   "name": "sagemath"
  },
  "language_info": {
   "codemirror_mode": {
    "name": "ipython",
    "version": 3
   },
   "file_extension": ".py",
   "mimetype": "text/x-python",
   "name": "python",
   "nbconvert_exporter": "python",
   "pygments_lexer": "ipython3",
   "version": "3.11.10"
  },
  "widgets": {
   "application/vnd.jupyter.widget-state+json": {
    "state": {},
    "version_major": 2,
    "version_minor": 0
   }
  }
 },
 "nbformat": 4,
 "nbformat_minor": 4
}
