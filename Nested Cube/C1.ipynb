{
 "cells": [
  {
   "cell_type": "markdown",
   "id": "633496ff",
   "metadata": {
    "pycharm": {
     "name": "#%% md\n"
    }
   },
   "source": [
    "## Analyzing the block $C_1$ for the Cube"
   ]
  },
  {
   "cell_type": "code",
   "execution_count": 1,
   "id": "597a5f63",
   "metadata": {
    "pycharm": {
     "is_executing": true,
     "name": "#%%\n"
    }
   },
   "outputs": [],
   "source": [
    "load(\"../util.sage\")"
   ]
  },
  {
   "cell_type": "code",
   "execution_count": 2,
   "id": "1b9dd1cf",
   "metadata": {
    "pycharm": {
     "name": "#%%\n"
    }
   },
   "outputs": [],
   "source": [
    "C1 = load('blocks/linear_block_1')"
   ]
  },
  {
   "cell_type": "code",
   "execution_count": 3,
   "id": "f19a18a7-7ff1-4b7d-9c38-ef680318a044",
   "metadata": {
    "pycharm": {
     "name": "#%%\n"
    }
   },
   "outputs": [
    {
     "data": {
      "text/html": [
       "<html><script type=\"math/tex; mode=display\">\\newcommand{\\Bold}[1]{\\mathbf{#1}}\\left(\\begin{array}{rr}\n",
       "24 \\, c - \\frac{1}{12} \\, \\sqrt{3} - \\frac{3}{8} \\, \\sqrt{2} - \\frac{3}{4} & 24 \\, c - \\frac{\\sqrt{3} t + \\sqrt{3}}{3 \\, {\\left(t^{3} + 3 \\, t^{2} + 3 \\, t + 1\\right)}} - \\frac{3 \\, {\\left(t + 3\\right)}}{{\\left(3 \\, t^{2} + 2 \\, t + 3\\right)}^{\\frac{3}{2}}} + \\frac{3 \\, {\\left(t - 3\\right)}}{{\\left(3 \\, t^{2} - 2 \\, t + 3\\right)}^{\\frac{3}{2}}} - \\frac{\\sqrt{3} t - \\sqrt{3}}{3 \\, {\\left(t - 1\\right)}^{3}} \\\\\n",
       "24 \\, c t - \\frac{\\sqrt{3} t + \\sqrt{3}}{3 \\, {\\left(t^{3} + 3 \\, t^{2} + 3 \\, t + 1\\right)}} - \\frac{3 \\, {\\left(3 \\, t + 1\\right)}}{{\\left(3 \\, t^{2} + 2 \\, t + 3\\right)}^{\\frac{3}{2}}} - \\frac{3 \\, {\\left(3 \\, t - 1\\right)}}{{\\left(3 \\, t^{2} - 2 \\, t + 3\\right)}^{\\frac{3}{2}}} + \\frac{\\sqrt{3} t - \\sqrt{3}}{3 \\, {\\left(t - 1\\right)}^{3}} & 24 \\, c t - \\frac{2 \\, \\sqrt{3} + 9 \\, \\sqrt{2} + 18}{24 \\, t^{2}}\n",
       "\\end{array}\\right)</script></html>"
      ],
      "text/latex": [
       "$$\\newcommand{\\Bold}[1]{\\mathbf{#1}}\\left(\\begin{array}{rr}\n",
       "24 \\, c - \\frac{1}{12} \\, \\sqrt{3} - \\frac{3}{8} \\, \\sqrt{2} - \\frac{3}{4} & 24 \\, c - \\frac{\\sqrt{3} t + \\sqrt{3}}{3 \\, {\\left(t^{3} + 3 \\, t^{2} + 3 \\, t + 1\\right)}} - \\frac{3 \\, {\\left(t + 3\\right)}}{{\\left(3 \\, t^{2} + 2 \\, t + 3\\right)}^{\\frac{3}{2}}} + \\frac{3 \\, {\\left(t - 3\\right)}}{{\\left(3 \\, t^{2} - 2 \\, t + 3\\right)}^{\\frac{3}{2}}} - \\frac{\\sqrt{3} t - \\sqrt{3}}{3 \\, {\\left(t - 1\\right)}^{3}} \\\\\n",
       "24 \\, c t - \\frac{\\sqrt{3} t + \\sqrt{3}}{3 \\, {\\left(t^{3} + 3 \\, t^{2} + 3 \\, t + 1\\right)}} - \\frac{3 \\, {\\left(3 \\, t + 1\\right)}}{{\\left(3 \\, t^{2} + 2 \\, t + 3\\right)}^{\\frac{3}{2}}} - \\frac{3 \\, {\\left(3 \\, t - 1\\right)}}{{\\left(3 \\, t^{2} - 2 \\, t + 3\\right)}^{\\frac{3}{2}}} + \\frac{\\sqrt{3} t - \\sqrt{3}}{3 \\, {\\left(t - 1\\right)}^{3}} & 24 \\, c t - \\frac{2 \\, \\sqrt{3} + 9 \\, \\sqrt{2} + 18}{24 \\, t^{2}}\n",
       "\\end{array}\\right)$$"
      ],
      "text/plain": [
       "[                                                                                                                                     24*c - 1/12*sqrt(3) - 3/8*sqrt(2) - 3/4       24*c - 1/3*(sqrt(3)*t + sqrt(3))/(t^3 + 3*t^2 + 3*t + 1) - 3*(t + 3)/(3*t^2 + 2*t + 3)^(3/2) + 3*(t - 3)/(3*t^2 - 2*t + 3)^(3/2) - 1/3*(sqrt(3)*t - sqrt(3))/(t - 1)^3]\n",
       "[24*c*t - 1/3*(sqrt(3)*t + sqrt(3))/(t^3 + 3*t^2 + 3*t + 1) - 3*(3*t + 1)/(3*t^2 + 2*t + 3)^(3/2) - 3*(3*t - 1)/(3*t^2 - 2*t + 3)^(3/2) + 1/3*(sqrt(3)*t - sqrt(3))/(t - 1)^3                                                                                                                               24*c*t - 1/24*(2*sqrt(3) + 9*sqrt(2) + 18)/t^2]"
      ]
     },
     "metadata": {},
     "output_type": "display_data"
    }
   ],
   "source": [
    "# simplify the expression of each block input\n",
    "C1 = C1.apply_map(lambda x: x.simplify_real().combine()); show(C1)"
   ]
  },
  {
   "cell_type": "code",
   "execution_count": 4,
   "id": "cbfce732-d788-4685-ba8a-3e0f06265721",
   "metadata": {
    "pycharm": {
     "name": "#%%\n"
    }
   },
   "outputs": [],
   "source": [
    "# Obtain the simplified expression\n",
    "p1 = simplify_expression(C1.det())"
   ]
  },
  {
   "cell_type": "code",
   "execution_count": 5,
   "id": "0aee9ab8",
   "metadata": {
    "pycharm": {
     "name": "#%%\n"
    }
   },
   "outputs": [
    {
     "name": "stdout",
     "output_type": "stream",
     "text": [
      "True\n"
     ]
    }
   ],
   "source": [
    "# checks if p1 was modified after simplification\n",
    "print(bool(p1==C1.det()))\n"
   ]
  },
  {
   "cell_type": "code",
   "execution_count": 6,
   "id": "ae6a67fa",
   "metadata": {
    "collapsed": false,
    "jupyter": {
     "outputs_hidden": false
    },
    "pycharm": {
     "name": "#%%\n"
    }
   },
   "outputs": [
    {
     "data": {
      "text/plain": [
       "(1/2*sqrt(19), 2*sqrt(2), 2*sqrt(2/3), 2)"
      ]
     },
     "execution_count": 6,
     "metadata": {},
     "output_type": "execute_result"
    }
   ],
   "source": [
    "# Calculate the values of u for t = 0 and t = 1\n",
    "\n",
    "# Solve 3*t^2 + 2*t + 3 = u^2 for u\n",
    "sol_u = solve(u**2 == 3*t^2 + 2*t + 3, u)[0].rhs()\n",
    "\n",
    "# Solve 3*t^2 - 2*t + 3 = v^2 for v\n",
    "sol_v = solve(v**2 == 3*t^2 - 2*t + 3, v)[0].rhs()\n",
    "\n",
    "# Get the values of u for t=0 and t=1\n",
    "u0 = sol_u(t=1/2)\n",
    "u1 = sol_u(t=1)\n",
    "\n",
    "# Get the values of v for t=1/3 and t=1\n",
    "v0 = sol_v(t=1/3)\n",
    "v1 = sol_v(t=1)\n",
    "\n",
    "u0, u1, v0, v1"
   ]
  },
  {
   "cell_type": "markdown",
   "id": "fc392216",
   "metadata": {
    "collapsed": false,
    "jupyter": {
     "outputs_hidden": false
    },
    "pycharm": {
     "name": "#%% md\n"
    }
   },
   "source": [
    "### Proof Lemma 5:\n",
    "#### 1. $\\gamma_1(t)$ is negative for $t$ in $(0,1)$."
   ]
  },
  {
   "cell_type": "markdown",
   "id": "8f613284",
   "metadata": {
    "collapsed": false,
    "jupyter": {
     "outputs_hidden": false
    },
    "pycharm": {
     "name": "#%% md\n"
    }
   },
   "source": [
    "##### Change of variables:  $v^2 = 3t^2 - 2t + 3$, $u^2=3t^2 + 2t + 3$ "
   ]
  },
  {
   "cell_type": "code",
   "execution_count": 7,
   "id": "4d876458",
   "metadata": {
    "collapsed": false,
    "jupyter": {
     "outputs_hidden": false
    },
    "pycharm": {
     "name": "#%%\n"
    }
   },
   "outputs": [
    {
     "data": {
      "text/html": [
       "<html><script type=\"math/tex; mode=display\">\\newcommand{\\Bold}[1]{\\mathbf{#1}}-2 \\, \\sqrt{3} t - 9 \\, \\sqrt{2} t - 18 \\, t + \\frac{72 \\, {\\left(t^{2} + 6 \\, t + 1\\right)}}{{\\left(3 \\, t^{2} + 2 \\, t + 3\\right)}^{\\frac{3}{2}}} - \\frac{72 \\, {\\left(t^{2} - 6 \\, t + 1\\right)}}{{\\left(3 \\, t^{2} - 2 \\, t + 3\\right)}^{\\frac{3}{2}}} + \\frac{8 \\, \\sqrt{3}}{t + 1} + \\frac{8 \\, \\sqrt{3}}{t - 1} - \\frac{2 \\, \\sqrt{3} + 9 \\, \\sqrt{2} + 18}{t^{2}}</script></html>"
      ],
      "text/latex": [
       "$$\\newcommand{\\Bold}[1]{\\mathbf{#1}}-2 \\, \\sqrt{3} t - 9 \\, \\sqrt{2} t - 18 \\, t + \\frac{72 \\, {\\left(t^{2} + 6 \\, t + 1\\right)}}{{\\left(3 \\, t^{2} + 2 \\, t + 3\\right)}^{\\frac{3}{2}}} - \\frac{72 \\, {\\left(t^{2} - 6 \\, t + 1\\right)}}{{\\left(3 \\, t^{2} - 2 \\, t + 3\\right)}^{\\frac{3}{2}}} + \\frac{8 \\, \\sqrt{3}}{t + 1} + \\frac{8 \\, \\sqrt{3}}{t - 1} - \\frac{2 \\, \\sqrt{3} + 9 \\, \\sqrt{2} + 18}{t^{2}}$$"
      ],
      "text/plain": [
       "-2*sqrt(3)*t - 9*sqrt(2)*t - 18*t + 72*(t^2 + 6*t + 1)/(3*t^2 + 2*t + 3)^(3/2) - 72*(t^2 - 6*t + 1)/(3*t^2 - 2*t + 3)^(3/2) + 8*sqrt(3)/(t + 1) + 8*sqrt(3)/(t - 1) - (2*sqrt(3) + 9*sqrt(2) + 18)/t^2"
      ]
     },
     "metadata": {},
     "output_type": "display_data"
    }
   ],
   "source": [
    "γ1 = p1.coefficients()[1][0]; show(γ1)"
   ]
  },
  {
   "cell_type": "code",
   "execution_count": 8,
   "id": "8a018389",
   "metadata": {
    "collapsed": false,
    "jupyter": {
     "outputs_hidden": false
    },
    "pycharm": {
     "name": "#%%\n"
    }
   },
   "outputs": [],
   "source": [
    "t, u, v = var('t, u, v')\n",
    "assume(u>0); assume(v>0)\n",
    "γ1_uvt_numerator = γ1.subs({(3*t^2 - 2*t + 3):v^2}).subs({(3*t^2 + 2*t + 3):u^2}).factor().numerator()"
   ]
  },
  {
   "cell_type": "markdown",
   "id": "03c9aa6a",
   "metadata": {
    "collapsed": false,
    "jupyter": {
     "outputs_hidden": false
    },
    "pycharm": {
     "name": "#%% md\n"
    }
   },
   "source": [
    "##### Calculates the Möbius coefficient"
   ]
  },
  {
   "cell_type": "code",
   "execution_count": 9,
   "id": "72a0b0cb",
   "metadata": {
    "collapsed": false,
    "jupyter": {
     "outputs_hidden": false
    },
    "pycharm": {
     "name": "#%%\n"
    }
   },
   "outputs": [],
   "source": [
    "coefficient_dict = polynomial_to_dict(γ1_uvt_numerator)"
   ]
  },
  {
   "cell_type": "code",
   "execution_count": 10,
   "id": "03907320",
   "metadata": {
    "collapsed": false,
    "jupyter": {
     "outputs_hidden": false
    },
    "pycharm": {
     "name": "#%%\n"
    }
   },
   "outputs": [],
   "source": [
    "variables = γ1_uvt_numerator.variables()\n",
    "total_degree  =  [γ1_uvt_numerator.degree(j) for j in variables]\n",
    "n_uplas = [\n",
    "    [i, j, k]\n",
    "    for i in range(total_degree[0] + 1)\n",
    "    for j in range(total_degree[1] + 1)\n",
    "    for k in range(total_degree[2] + 1)\n",
    "]"
   ]
  },
  {
   "cell_type": "code",
   "execution_count": 11,
   "id": "c87e48f0",
   "metadata": {
    "pycharm": {
     "name": "#%%\n"
    }
   },
   "outputs": [],
   "source": [
    "#Creating the partition\n",
    "\n",
    "q1 = 3*t^2 + 2*t + 3\n",
    "q2 = 3*t^2 - 2*t + 3\n",
    "\n",
    "# Calculate the values of u and v for t = 0 and t = 1/2\n",
    "(u0, u1) = quadratic_extrema_on_interval(q1, (0, 1/2))\n",
    "(v0, v1) = quadratic_extrema_on_interval(q2, (0,1/2))\n",
    "variable_ranges_0 = [ (0, 1/2), (u0, u1), (v0, v1)]\n",
    "\n",
    "# Calculate the values of u and  for t = 1/2 and t = 1\n",
    "(u0, u1) = quadratic_extrema_on_interval(q1, (1/2, 1))\n",
    "(v0, v1) = quadratic_extrema_on_interval(q2, (1/2, 1) )\n",
    "variable_ranges_1 = [ (1/2, 1), (u0, u1), (v0, v1)]\n",
    "\n",
    "\n",
    "all_variable_ranges = [variable_ranges_0, variable_ranges_1]"
   ]
  },
  {
   "cell_type": "code",
   "execution_count": 12,
   "id": "10c45131",
   "metadata": {
    "pycharm": {
     "name": "#%%\n"
    }
   },
   "outputs": [
    {
     "name": "stdout",
     "output_type": "stream",
     "text": [
      "Final set of coefficients for t in (0, 1/2): {1}.\n",
      "Final set of coefficients for t in (1/2, 1): {1}.\n"
     ]
    }
   ],
   "source": [
    "\n",
    "import time\n",
    "\n",
    "# Inicialize a lista de coeficientes\n",
    "\n",
    "# Capture o tempo de início\n",
    "start_time = time.time()\n",
    "\n",
    "for variable_ranges in all_variable_ranges:\n",
    "    sign_coeff_set = set()\n",
    "    for i, degree_per_variable in enumerate(n_uplas):\n",
    "        \n",
    "        c = moebius_coefficient(γ1_uvt_numerator, degree_per_variable, total_degree, variable_ranges, coefficient_dict)\n",
    "    \n",
    "        # if i % 1000 == 0:\n",
    "        #     elapsed_time = time.time() - start_time\n",
    "        #     elapsed_time_minutes = elapsed_time / 60\n",
    "        #     print(f\"Iteração: {i}, Tempo decorrido: {elapsed_time_minutes:.2f} minutos\")\n",
    "        #     print(\"Conjunto parcial de coeficientes:\", sign_coeff_set)  \n",
    "        #     print(\"\\n\")\n",
    "        \n",
    "        \n",
    "        if c.is_zero():         \n",
    "             continue\n",
    "    \n",
    "        else:\n",
    "            sign_coeff = sign(c.simplify_full())\n",
    "            sign_coeff_set.add(sign_coeff)\n",
    "    \n",
    "        if 1 in sign_coeff_set and -1 in sign_coeff_set:\n",
    "            \n",
    "            print(f\"Terminating at iteration {i} because the set contains 1 and -1.\")\n",
    "            break\n",
    "\n",
    "    print(\"Final set of coefficients for t in {}: {}.\".format(variable_ranges[0], sign_coeff_set))\n",
    "\n"
   ]
  },
  {
   "cell_type": "code",
   "execution_count": 13,
   "id": "a9583d51",
   "metadata": {
    "pycharm": {
     "name": "#%%\n"
    }
   },
   "outputs": [],
   "source": [
    "# coeff_variable_ranges_0 = []\n",
    "# for i, degree_per_variable in enumerate(n_uplas):    \n",
    "#     c = moebius_coefficient(γ1_uvt_numerator, degree_per_variable, total_degree, variable_ranges, coefficient_dict)\n",
    "#     coeff_variable_ranges_0.append(c)"
   ]
  },
  {
   "cell_type": "code",
   "execution_count": 14,
   "id": "21618356",
   "metadata": {
    "pycharm": {
     "name": "#%%\n"
    }
   },
   "outputs": [],
   "source": [
    "# coefficient_signs = set([sign(c) for c in coeff])"
   ]
  },
  {
   "cell_type": "code",
   "execution_count": 15,
   "id": "463b2170",
   "metadata": {
    "pycharm": {
     "name": "#%%\n"
    }
   },
   "outputs": [],
   "source": [
    "# set(coefficient_signs)"
   ]
  },
  {
   "cell_type": "markdown",
   "id": "27f69bce",
   "metadata": {
    "pycharm": {
     "name": "#%% md\n"
    }
   },
   "source": [
    "##### Limit at the extremes"
   ]
  },
  {
   "cell_type": "code",
   "execution_count": 16,
   "id": "bfab5ff7",
   "metadata": {
    "pycharm": {
     "name": "#%%\n"
    }
   },
   "outputs": [
    {
     "data": {
      "text/plain": [
       "(-Infinity, -Infinity)"
      ]
     },
     "execution_count": 16,
     "metadata": {},
     "output_type": "execute_result"
    }
   ],
   "source": [
    "limit(γ1, t=0, dir='+'), limit(γ1, t=1, dir='-')"
   ]
  },
  {
   "cell_type": "markdown",
   "id": "84b2bd6d",
   "metadata": {
    "pycharm": {
     "name": "#%% md\n"
    }
   },
   "source": [
    "#### 2. $\\gamma_0(t)$ is positive for $t$ in $(0,1)$."
   ]
  },
  {
   "cell_type": "code",
   "execution_count": 17,
   "id": "73f883ff",
   "metadata": {
    "pycharm": {
     "name": "#%%\n"
    }
   },
   "outputs": [],
   "source": [
    "γ0 = p1.coefficients()[0][0]"
   ]
  },
  {
   "cell_type": "markdown",
   "id": "30b2ad54",
   "metadata": {
    "pycharm": {
     "name": "#%% md\n"
    }
   },
   "source": [
    "##### Change of variables:  $v^2 = 3t^2 - 2t + 3$, $u^2=3t^2 + 2t + 3$ and $t=(u^2-v^2)/4$"
   ]
  },
  {
   "cell_type": "code",
   "execution_count": 22,
   "id": "a97f326c",
   "metadata": {
    "pycharm": {
     "name": "#%%\n"
    }
   },
   "outputs": [],
   "source": [
    "γ0_uvt_numerator = γ0.subs({(3*t^2 - 2*t + 3):v^2}).subs({(3*t^2 + 2*t + 3):u^2}).factor().numerator(); #show(α10_u_v)"
   ]
  },
  {
   "cell_type": "markdown",
   "id": "ae5888d9",
   "metadata": {
    "pycharm": {
     "name": "#%% md\n"
    }
   },
   "source": [
    "##### Calculates the Möbius coefficient"
   ]
  },
  {
   "cell_type": "code",
   "execution_count": 23,
   "id": "5038cdfe",
   "metadata": {
    "pycharm": {
     "name": "#%%\n"
    }
   },
   "outputs": [],
   "source": [
    "coefficient_dict = polynomial_to_dict(γ0_uvt_numerator)"
   ]
  },
  {
   "cell_type": "code",
   "execution_count": 24,
   "id": "c8918d00",
   "metadata": {
    "pycharm": {
     "name": "#%%\n"
    }
   },
   "outputs": [],
   "source": [
    "variables = γ0_uvt_numerator.variables()\n",
    "total_degree  =  [γ0_uvt_numerator.degree(j) for j in variables]\n",
    "n_uplas = [\n",
    "    [i, j, k]\n",
    "    for i in range(total_degree[0] + 1)\n",
    "    for j in range(total_degree[1] + 1)\n",
    "    for k in range(total_degree[2] + 1)\n",
    "]"
   ]
  },
  {
   "cell_type": "code",
   "execution_count": 25,
   "id": "902e70c7",
   "metadata": {
    "pycharm": {
     "name": "#%%\n"
    }
   },
   "outputs": [],
   "source": [
    "\n",
    "## Creating the partition\n",
    "\n",
    "q1 = 3*t^2 + 2*t + 3\n",
    "q2 = 3*t^2 - 2*t + 3\n",
    "\n",
    "# Calculate the values of u and v for t = 0 and t = 1\n",
    "(u0, u1) = quadratic_extrema_on_interval(q1, (0, 1))\n",
    "(v0, v1) = quadratic_extrema_on_interval(q2, (0, 1))\n",
    "variable_ranges_0 = [(0, 1), (u0, u1), (v0, v1)]\n",
    "all_variable_ranges = [variable_ranges_0]"
   ]
  },
  {
   "cell_type": "code",
   "execution_count": 26,
   "id": "5ca27f3c",
   "metadata": {
    "pycharm": {
     "name": "#%%\n"
    }
   },
   "outputs": [
    {
     "name": "stdout",
     "output_type": "stream",
     "text": [
      "Conjunto final de coeficientes para t em (0, 1): {1}.\n"
     ]
    }
   ],
   "source": [
    "import time\n",
    "\n",
    "# Inicialize a lista de coeficientes\n",
    "\n",
    "# Capture o tempo de início\n",
    "start_time = time.time()\n",
    "\n",
    "for variable_ranges in all_variable_ranges:\n",
    "    sign_coeff_set = set()\n",
    "    for i, degree_per_variable in enumerate(n_uplas):\n",
    "        \n",
    "        c = moebius_coefficient(γ0_uvt_numerator, degree_per_variable, total_degree, variable_ranges, coefficient_dict)\n",
    "       \n",
    "        # if i % 1000 == 0:\n",
    "        #     elapsed_time = time.time() - start_time\n",
    "        #     elapsed_time_minutes = elapsed_time / 60\n",
    "        #     print(f\"Iteração: {i}, Tempo decorrido: {elapsed_time_minutes:.2f} minutos\")\n",
    "        #     print(\"Conjunto parcial de coeficientes:\", sign_coeff_set)  \n",
    "        #     print(\"\\n\")\n",
    "        \n",
    "        \n",
    "        if c.is_zero():         \n",
    "             continue\n",
    "    \n",
    "        else:\n",
    "            sign_coeff = sign(c.simplify_full())\n",
    "            sign_coeff_set.add(sign_coeff)\n",
    "    \n",
    "        if 1 in sign_coeff_set and -1 in sign_coeff_set:\n",
    "            \n",
    "            print(f\"Encerrando na iteração {i} pois o conjunto contém 1 e -1.\")\n",
    "            break\n",
    "            \n",
    "        \n",
    "    print(\"Conjunto final de coeficientes para t em {}: {}.\".format(variable_ranges[0], sign_coeff_set) )\n"
   ]
  },
  {
   "cell_type": "markdown",
   "id": "e0d9c39d",
   "metadata": {
    "pycharm": {
     "name": "#%% md\n"
    }
   },
   "source": [
    "#####  Checking the sign of Möbius coefficients"
   ]
  },
  {
   "cell_type": "code",
   "execution_count": null,
   "id": "1c38330c",
   "metadata": {
    "pycharm": {
     "name": "#%%\n"
    }
   },
   "outputs": [],
   "source": [
    "#coefficient_signs = set([sign(c) for c in coeff])"
   ]
  },
  {
   "cell_type": "code",
   "execution_count": null,
   "id": "a7e195ba",
   "metadata": {
    "pycharm": {
     "name": "#%%\n"
    }
   },
   "outputs": [],
   "source": [
    "#set(coefficient_signs)"
   ]
  },
  {
   "cell_type": "markdown",
   "id": "e3b036e6",
   "metadata": {
    "pycharm": {
     "name": "#%% md\n"
    }
   },
   "source": [
    "##### Limit at the extremes"
   ]
  },
  {
   "cell_type": "code",
   "execution_count": 27,
   "id": "de309aaa",
   "metadata": {
    "pycharm": {
     "name": "#%%\n"
    }
   },
   "outputs": [
    {
     "data": {
      "text/plain": [
       "(+Infinity, +Infinity)"
      ]
     },
     "execution_count": 27,
     "metadata": {},
     "output_type": "execute_result"
    }
   ],
   "source": [
    "limit(γ0, t=0, dir='+'), limit(γ0, t=1, dir='-')"
   ]
  },
  {
   "cell_type": "markdown",
   "id": "41826b06",
   "metadata": {
    "pycharm": {
     "name": "#%% md\n"
    }
   },
   "source": [
    "#### 3. $(C_1)_{11}(c(t),t)$ is positive for  $t$ in $(0,1)$."
   ]
  },
  {
   "cell_type": "markdown",
   "id": "1c2df056",
   "metadata": {
    "pycharm": {
     "name": "#%% md\n"
    }
   },
   "source": [
    "##### Change of variables:  $v^2 = 3t^2 - 2t + 3$, $u^2=3t^2 + 2t + 3$."
   ]
  },
  {
   "cell_type": "code",
   "execution_count": 28,
   "id": "0003f840",
   "metadata": {
    "pycharm": {
     "name": "#%%\n"
    }
   },
   "outputs": [],
   "source": [
    "C11 = C1[0,0].subs(c = -γ0/γ1)\n",
    "C11_numerator = C11.numerator().simplify_real()"
   ]
  },
  {
   "cell_type": "code",
   "execution_count": null,
   "id": "7bfa78f4",
   "metadata": {
    "pycharm": {
     "name": "#%%\n"
    }
   },
   "outputs": [],
   "source": []
  },
  {
   "cell_type": "code",
   "execution_count": null,
   "id": "f12bdc58",
   "metadata": {
    "collapsed": false,
    "jupyter": {
     "outputs_hidden": false
    },
    "pycharm": {
     "name": "#%%\n"
    }
   },
   "outputs": [],
   "source": [
    "var('u,v')\n",
    "assume(u>0)\n",
    "assume(v>0)\n",
    "C11_uvt_numerator = C11_numerator.subs({q2:v^2}).subs({q1:u^2}).simplify_real().combine()"
   ]
  },
  {
   "cell_type": "code",
   "execution_count": null,
   "id": "c5043373",
   "metadata": {
    "collapsed": false,
    "jupyter": {
     "outputs_hidden": false
    },
    "pycharm": {
     "name": "#%%\n"
    }
   },
   "outputs": [],
   "source": [
    "C11_uvt_numerator = C11_uvt_numerator.expand().combine()"
   ]
  },
  {
   "cell_type": "code",
   "execution_count": null,
   "id": "4c56c136",
   "metadata": {
    "collapsed": false,
    "jupyter": {
     "outputs_hidden": false
    },
    "pycharm": {
     "name": "#%%\n"
    }
   },
   "outputs": [],
   "source": [
    "def test_zero(p):\n",
    "    u0 = sqrt(q1.subs(t=0))\n",
    "    v0 = sqrt(q2.subs(t=0))\n",
    "    return p.subs(t=0, u=u0, v=v0)\n",
    "#test_zero(C11_uvt_numerator)"
   ]
  },
  {
   "cell_type": "code",
   "execution_count": null,
   "id": "f1ee2e51",
   "metadata": {
    "collapsed": false,
    "jupyter": {
     "outputs_hidden": false
    },
    "pycharm": {
     "name": "#%%\n"
    }
   },
   "outputs": [],
   "source": [
    "C11_uvt_numerator_sympy =  C11_uvt_numerator._sympy_()\n",
    "import sympy\n",
    "C11_numerator_sympy = sympy.factor(C11_uvt_numerator_sympy/t**(2))"
   ]
  },
  {
   "cell_type": "code",
   "execution_count": null,
   "id": "c9cc35b4",
   "metadata": {
    "collapsed": false,
    "jupyter": {
     "outputs_hidden": false
    },
    "pycharm": {
     "name": "#%%\n"
    }
   },
   "outputs": [],
   "source": [
    "C11_numerator_sympy.factor()"
   ]
  },
  {
   "cell_type": "code",
   "execution_count": null,
   "id": "1a1fcb8f",
   "metadata": {
    "collapsed": false,
    "jupyter": {
     "outputs_hidden": false
    },
    "pycharm": {
     "name": "#%%\n"
    }
   },
   "outputs": [],
   "source": []
  },
  {
   "cell_type": "markdown",
   "id": "dd9cf7cb",
   "metadata": {
    "collapsed": false,
    "jupyter": {
     "outputs_hidden": false
    },
    "pycharm": {
     "name": "#%% md\n"
    }
   },
   "source": [
    "##### Calculates the Möbius coefficient"
   ]
  },
  {
   "cell_type": "code",
   "execution_count": null,
   "id": "f8761d54",
   "metadata": {
    "collapsed": false,
    "jupyter": {
     "outputs_hidden": false
    },
    "pycharm": {
     "name": "#%%\n"
    }
   },
   "outputs": [],
   "source": [
    "coefficient_dict = polynomial_to_dict(C11_uvt_numerator)"
   ]
  },
  {
   "cell_type": "code",
   "execution_count": null,
   "id": "57a1e59b",
   "metadata": {
    "collapsed": false,
    "jupyter": {
     "outputs_hidden": false
    },
    "pycharm": {
     "name": "#%%\n"
    }
   },
   "outputs": [],
   "source": [
    "variables = C11_uvt_numerator.variables()\n",
    "total_degree  =  [C11_uvt_numerator.degree(j) for j in variables]\n",
    "n_uplas = [\n",
    "    [i, j]\n",
    "    for i in range(total_degree[0] + 1)\n",
    "    for j in range(total_degree[1] + 1)\n",
    "    \n",
    "]"
   ]
  },
  {
   "cell_type": "markdown",
   "id": "cb6515db",
   "metadata": {
    "pycharm": {
     "name": "#%% md\n"
    }
   },
   "source": [
    "##### Calculates the Möbius coefficient"
   ]
  },
  {
   "cell_type": "code",
   "execution_count": 32,
   "id": "af9e7291",
   "metadata": {
    "pycharm": {
     "name": "#%%\n"
    }
   },
   "outputs": [],
   "source": [
    "coefficient_dict = polynomial_to_dict(C11_uvt_numerator)"
   ]
  },
  {
   "cell_type": "code",
   "execution_count": 35,
   "id": "4fffbd1f",
   "metadata": {
    "pycharm": {
     "name": "#%%\n"
    }
   },
   "outputs": [],
   "source": [
    "variables = C11_uvt_numerator.variables()\n",
    "total_degree  =  [C11_uvt_numerator.degree(j) for j in variables]\n",
    "n_uplas = [\n",
    "    [i, j]\n",
    "    for i in range(total_degree[0] + 1)\n",
    "    for j in range(total_degree[1] + 1)\n",
    "    \n",
    "]"
   ]
  },
  {
   "cell_type": "code",
   "execution_count": null,
   "id": "d8d507fa",
   "metadata": {
    "pycharm": {
     "name": "#%%\n"
    }
   },
   "outputs": [],
   "source": [
    "#variable_ranges_2 = [ (1/8, 1), (u0, u1), (v0, v1)]\n",
    "#variable_ranges_1 = [ (1/64, 1/8), (u0, u1), (v0, v1)]\n",
    "#variable_ranges_0 = [ (0, 1/64), (u0, u1), (v0, v1)]\n",
    "#all_variable_ranges_3 = [variable_ranges_1]\n",
    "\n",
    "\n",
    "q1 = 3*t^2 + 2*t + 3 #u\n",
    "q2 = 3*t^2 - 2*t + 3 #v\n",
    "\n",
    "# Calculate the values of u and v for t = 0 and t = 1/2\n",
    "(u0, u1) = quadratic_extrema_on_interval(q1, (1/16, 1/4))\n",
    "(v0, v1) = quadratic_extrema_on_interval(q2, (1/16, 1/4))\n",
    "variable_ranges_0 = [(1/16, 1/4), (u0, u1), (v0, v1)]\n",
    "\n",
    "# Calculate the values of u and v for t = 1/4 and t = 1/2\n",
    "(u0, u1) = quadratic_extrema_on_interval(q1, (1/4, 1/2))\n",
    "(v0, v1) = quadratic_extrema_on_interval(q2, (1/4, 1/2))\n",
    "variable_ranges_1 = [(1/4, 1/2), (u0, u1), (v0, v1)]\n",
    "\n",
    "# Calculate the values of u and  for t = 1/2 and t = 1\n",
    "(u0, u1) = quadratic_extrema_on_interval(q1, (1/2, 1))\n",
    "(v0, v1) = quadratic_extrema_on_interval(q2, (1/2, 1) )\n",
    "variable_ranges_2 = [ (1/2, 1), (u0, u1), (v0, v1)]\n",
    "\n",
    "\n",
    "all_variable_ranges = [variable_ranges_0 ]"
   ]
  },
  {
   "cell_type": "code",
   "execution_count": null,
   "id": "04cc3e4e",
   "metadata": {
    "pycharm": {
     "name": "#%%\n"
    }
   },
   "outputs": [],
   "source": [
    "plot([q1, q2])"
   ]
  },
  {
   "cell_type": "code",
   "execution_count": null,
   "id": "ee3a113a",
   "metadata": {
    "pycharm": {
     "name": "#%%\n"
    }
   },
   "outputs": [],
   "source": [
    "\n",
    "import time\n",
    "\n",
    "# Inicialize a lista de coeficientes\n",
    "\n",
    "# Capture o tempo de início\n",
    "start_time = time.time()\n",
    "\n",
    "for variable_ranges in all_variable_ranges:\n",
    "    sign_coeff_set = set()\n",
    "    for i, degree_per_variable in enumerate(n_uplas):\n",
    "        \n",
    "        c = moebius_coefficient(C11_uvt_numerator, degree_per_variable, total_degree, variable_ranges, coefficient_dict)\n",
    "    \n",
    "        if i % 100 == 0:\n",
    "            elapsed_time = time.time() - start_time\n",
    "            elapsed_time_minutes = elapsed_time / 60\n",
    "            print(f\"Iteração: {i}, Tempo decorrido: {elapsed_time_minutes:.2f} minutos\")\n",
    "            print(\"Conjunto parcial de coeficientes:\", sign_coeff_set)  \n",
    "            print(\"\\n\")\n",
    "        \n",
    "        \n",
    "        if c.is_zero():         \n",
    "             continue\n",
    "    \n",
    "        else:\n",
    "            sign_coeff = sign(c.simplify_full())\n",
    "            sign_coeff_set.add(sign_coeff)\n",
    "    \n",
    "        if 1 in sign_coeff_set and -1 in sign_coeff_set:\n",
    "            \n",
    "            print(f\"Encerrando na iteração {i} pois o conjunto contém 1 e -1.\")\n",
    "            break\n",
    "            \n",
    "        \n",
    "    print(\"Conjunto final de coeficientes para t em {}: {}.\".format(variable_ranges[0], sign_coeff_set) )\n"
   ]
  },
  {
   "cell_type": "code",
   "execution_count": null,
   "id": "6350f0af",
   "metadata": {
    "pycharm": {
     "name": "#%%\n"
    }
   },
   "outputs": [],
   "source": [
    "uu = q1(t=0)\n",
    "vv= q2(t=0)\n",
    "C11_uvt_numerator.subs(t=0, u=uu, v=vv)"
   ]
  },
  {
   "cell_type": "code",
   "execution_count": 60,
   "id": "a7b211fc",
   "metadata": {
    "collapsed": false,
    "jupyter": {
     "outputs_hidden": false
    },
    "pycharm": {
     "name": "#%%\n"
    }
   },
   "outputs": [],
   "source": [
    "variables = C11_uvt_numerator.variables()\n",
    "total_degree  =  [C11_uvt_numerator.degree(j) for j in variables]\n",
    "n_uplas = [\n",
    "    [i, j, k]\n",
    "    for i in range(total_degree[0] + 1)\n",
    "    for j in range(total_degree[1] + 1)\n",
    "    for k in range(total_degree[2] + 1)\n",
    "]"
   ]
  },
  {
   "cell_type": "code",
   "execution_count": 80,
   "id": "3c0d0178",
   "metadata": {
    "collapsed": false,
    "jupyter": {
     "outputs_hidden": false
    },
    "pycharm": {
     "name": "#%%\n"
    }
   },
   "outputs": [],
   "source": [
    "#variable_ranges_2 = [ (1/8, 1), (u0, u1), (v0, v1)]\n",
    "#variable_ranges_1 = [ (1/64, 1/8), (u0, u1), (v0, v1)]\n",
    "#variable_ranges_0 = [ (0, 1/64), (u0, u1), (v0, v1)]\n",
    "#all_variable_ranges_3 = [variable_ranges_1]\n",
    "\n",
    "\n",
    "q1 = 3*t^2 + 2*t + 3 #u\n",
    "q2 = 3*t^2 - 2*t + 3 #v\n",
    "\n",
    "# Calculate the values of u and v for t = 0 and t = 1/2\n",
    "(u0, u1) = quadratic_extrema_on_interval(q1, (1/16, 1/4))\n",
    "(v0, v1) = quadratic_extrema_on_interval(q2, (1/16, 1/4))\n",
    "variable_ranges_0 = [(1/16, 1/4), (u0, u1), (v0, v1)]\n",
    "\n",
    "# Calculate the values of u and v for t = 1/4 and t = 1/2\n",
    "(u0, u1) = quadratic_extrema_on_interval(q1, (1/4, 1/2))\n",
    "(v0, v1) = quadratic_extrema_on_interval(q2, (1/4, 1/2))\n",
    "variable_ranges_1 = [(1/4, 1/2), (u0, u1), (v0, v1)]\n",
    "\n",
    "# Calculate the values of u and  for t = 1/2 and t = 1\n",
    "(u0, u1) = quadratic_extrema_on_interval(q1, (1/2, 1))\n",
    "(v0, v1) = quadratic_extrema_on_interval(q2, (1/2, 1) )\n",
    "variable_ranges_2 = [ (1/2, 1), (u0, u1), (v0, v1)]\n",
    "\n",
    "\n",
    "all_variable_ranges = [variable_ranges_0 ]"
   ]
  },
  {
   "cell_type": "code",
   "execution_count": 108,
   "id": "13b3ca74",
   "metadata": {
    "pycharm": {
     "name": "#%%\n"
    }
   },
   "outputs": [
    {
     "data": {
      "image/png": "[encoded data removed]",
      "text/plain": [
       "Graphics object consisting of 2 graphics primitives"
      ]
     },
     "execution_count": 108,
     "metadata": {},
     "output_type": "execute_result"
    }
   ],
   "source": [
    "plot([q1, q2])"
   ]
  },
  {
   "cell_type": "code",
   "execution_count": 81,
   "id": "577f1dfc",
   "metadata": {
    "collapsed": false,
    "jupyter": {
     "outputs_hidden": false
    },
    "pycharm": {
     "name": "#%%\n"
    }
   },
   "outputs": [
    {
     "name": "stdout",
     "output_type": "stream",
     "text": [
      "Iteração: 0, Tempo decorrido: 0.00 minutos\n",
      "Conjunto parcial de coeficientes: set()\n",
      "\n",
      "\n",
      "Iteração: 100, Tempo decorrido: 0.21 minutos\n",
      "Conjunto parcial de coeficientes: {1}\n",
      "\n",
      "\n",
      "Iteração: 200, Tempo decorrido: 0.41 minutos\n",
      "Conjunto parcial de coeficientes: {1}\n",
      "\n",
      "\n",
      "Iteração: 300, Tempo decorrido: 0.62 minutos\n",
      "Conjunto parcial de coeficientes: {1}\n",
      "\n",
      "\n",
      "Iteração: 400, Tempo decorrido: 0.89 minutos\n",
      "Conjunto parcial de coeficientes: {1}\n",
      "\n",
      "\n",
      "Iteração: 500, Tempo decorrido: 1.16 minutos\n",
      "Conjunto parcial de coeficientes: {1}\n",
      "\n",
      "\n",
      "Iteração: 600, Tempo decorrido: 1.43 minutos\n",
      "Conjunto parcial de coeficientes: {1}\n",
      "\n",
      "\n",
      "Conjunto final de coeficientes para t em (1/16, 1/4): {1}.\n"
     ]
    }
   ],
   "source": [
    "\n",
    "import time\n",
    "\n",
    "# Inicialize a lista de coeficientes\n",
    "\n",
    "# Capture o tempo de início\n",
    "start_time = time.time()\n",
    "\n",
    "for variable_ranges in all_variable_ranges:\n",
    "    sign_coeff_set = set()\n",
    "    for i, degree_per_variable in enumerate(n_uplas):\n",
    "        \n",
    "        c = moebius_coefficient(C11_uvt_numerator, degree_per_variable, total_degree, variable_ranges, coefficient_dict)\n",
    "    \n",
    "        if i % 100 == 0:\n",
    "            elapsed_time = time.time() - start_time\n",
    "            elapsed_time_minutes = elapsed_time / 60\n",
    "            print(f\"Iteração: {i}, Tempo decorrido: {elapsed_time_minutes:.2f} minutos\")\n",
    "            print(\"Conjunto parcial de coeficientes:\", sign_coeff_set)  \n",
    "            print(\"\\n\")\n",
    "        \n",
    "        \n",
    "        if c.is_zero():         \n",
    "             continue\n",
    "    \n",
    "        else:\n",
    "            sign_coeff = sign(c.simplify_full())\n",
    "            sign_coeff_set.add(sign_coeff)\n",
    "    \n",
    "        if 1 in sign_coeff_set and -1 in sign_coeff_set:\n",
    "            \n",
    "            print(f\"Encerrando na iteração {i} pois o conjunto contém 1 e -1.\")\n",
    "            break\n",
    "            \n",
    "        \n",
    "    print(\"Conjunto final de coeficientes para t em {}: {}.\".format(variable_ranges[0], sign_coeff_set) )\n"
   ]
  },
  {
   "cell_type": "code",
   "execution_count": 72,
   "id": "3fba4534",
   "metadata": {
    "pycharm": {
     "name": "#%%\n"
    }
   },
   "outputs": [
    {
     "data": {
      "text/plain": [
       "0"
      ]
     },
     "execution_count": 72,
     "metadata": {},
     "output_type": "execute_result"
    }
   ],
   "source": [
    "uu = q1(t=0)\n",
    "vv= q2(t=0)\n",
    "C11_uvt_numerator.subs(t=0, u=uu, v=vv)"
   ]
  },
  {
   "cell_type": "code",
   "execution_count": null,
   "id": "7cb37a87",
   "metadata": {
    "collapsed": false,
    "jupyter": {
     "outputs_hidden": false
    },
    "pycharm": {
     "name": "#%%\n"
    }
   },
   "outputs": [],
   "source": [
    "# coeff = []\n",
    "# for i, degree_per_variable in enumerate(n_uplas):\n",
    "    \n",
    "#     c = moebius_coefficient(C11_uvt_numerator, degree_per_variable, total_degree, variable_ranges, coefficient_dict)\n",
    "#     coeff.append(c)"
   ]
  },
  {
   "cell_type": "code",
   "execution_count": null,
   "id": "4338f4d2",
   "metadata": {
    "collapsed": false,
    "jupyter": {
     "outputs_hidden": false
    },
    "pycharm": {
     "name": "#%%\n"
    }
   },
   "outputs": [],
   "source": [
    "variable_ranges_2 = [ (1/8, 1), (u0, u1), (v0, v1)]\n",
    "variable_ranges_1 = [ (1/64, 1/8), (u0, u1), (v0, v1)]\n",
    "variable_ranges_0 = [ (0, 1/64), (u0, u1), (v0, v1)]\n",
    "all_variable_ranges_3 = [variable_ranges_1]"
   ]
  },
  {
   "cell_type": "code",
   "execution_count": null,
   "id": "51524a9c",
   "metadata": {
    "collapsed": false,
    "jupyter": {
     "outputs_hidden": false
    },
    "pycharm": {
     "name": "#%%\n"
    }
   },
   "outputs": [],
   "source": [
    "\n",
    "import time\n",
    "\n",
    "# Inicialize a lista de coeficientes\n",
    "\n",
    "# Capture o tempo de início\n",
    "start_time = time.time()\n",
    "\n",
    "for variable_ranges in all_variable_ranges_3:\n",
    "    sign_coeff_set = set()\n",
    "    for i, degree_per_variable in enumerate(n_uplas):\n",
    "        \n",
    "        c = moebius_coefficient(C11_uvt_numerator, degree_per_variable, total_degree, variable_ranges, coefficient_dict)\n",
    "    \n",
    "        # if i % 1000 == 0:\n",
    "        #     elapsed_time = time.time() - start_time\n",
    "        #     elapsed_time_minutes = elapsed_time / 60\n",
    "        #     print(f\"Iteração: {i}, Tempo decorrido: {elapsed_time_minutes:.2f} minutos\")\n",
    "        #     print(\"Conjunto parcial de coeficientes:\", sign_coeff_set)  \n",
    "        #     print(\"\\n\")\n",
    "        \n",
    "        \n",
    "        if c.is_zero():         \n",
    "             continue\n",
    "    \n",
    "        else:\n",
    "            sign_coeff = sign(c.simplify_full())\n",
    "            sign_coeff_set.add(sign_coeff)\n",
    "    \n",
    "        if 1 in sign_coeff_set and -1 in sign_coeff_set:\n",
    "            \n",
    "            print(f\"Encerrando na iteração {i} pois o conjunto contém 1 e -1.\")\n",
    "            break\n",
    "            \n",
    "        \n",
    "    print(\"Conjunto final de coeficientes para t em {}: {}.\".format(variable_ranges[0], sign_coeff_set) )\n"
   ]
  },
  {
   "cell_type": "code",
   "execution_count": null,
   "id": "2ea7fef5",
   "metadata": {
    "collapsed": false,
    "jupyter": {
     "outputs_hidden": false
    },
    "pycharm": {
     "name": "#%%\n"
    }
   },
   "outputs": [],
   "source": [
    "# coeff = []\n",
    "# for i, degree_per_variable in enumerate(n_uplas):\n",
    "    \n",
    "#     c = moebius_coefficient(C11_uvt_numerator, degree_per_variable, total_degree, variable_ranges, coefficient_dict)\n",
    "#     coeff.append(c)"
   ]
  },
  {
   "cell_type": "code",
   "execution_count": null,
   "id": "42bffe9e-7dd0-4516-a3a1-226ebcc8622e",
   "metadata": {
    "pycharm": {
     "name": "#%%\n"
    }
   },
   "outputs": [],
   "source": [
    "variable_ranges_2 = [ (1/64, 1/32), (u0, u1), (v0, v1)]\n",
    "variable_ranges_1 = [ (1/4, 3/4), (u0, u1), (v0, v1)]\n",
    "variable_ranges_0 = [ (0, 1/64), (u0, u1), (v0, v1)]\n",
    "all_variable_ranges_3 = [variable_ranges_0, variable_ranges_1, variable_ranges_2]"
   ]
  },
  {
   "cell_type": "code",
   "execution_count": null,
   "id": "58800135-0ad0-489d-86d3-9dc15c2acc65",
   "metadata": {
    "pycharm": {
     "name": "#%%\n"
    }
   },
   "outputs": [],
   "source": [
    "\n",
    "import time\n",
    "\n",
    "# Inicialize a lista de coeficientes\n",
    "\n",
    "# Capture o tempo de início\n",
    "start_time = time.time()\n",
    "sign_coeff_set = set()\n",
    "for variable_ranges in all_variable_ranges_3:\n",
    "    for i, degree_per_variable in enumerate(n_uplas):\n",
    "        \n",
    "        c = moebius_coefficient(C11_uvt_numerator, degree_per_variable, total_degree, variable_ranges, coefficient_dict)\n",
    "    \n",
    "        # if i % 1000 == 0:\n",
    "        #     elapsed_time = time.time() - start_time\n",
    "        #     elapsed_time_minutes = elapsed_time / 60\n",
    "        #     print(f\"Iteração: {i}, Tempo decorrido: {elapsed_time_minutes:.2f} minutos\")\n",
    "        #     print(\"Conjunto parcial de coeficientes:\", sign_coeff_set)  \n",
    "        #     print(\"\\n\")\n",
    "        \n",
    "        \n",
    "        if c.is_zero():         \n",
    "             continue\n",
    "    \n",
    "        else:\n",
    "            sign_coeff = sign(c.simplify_full())\n",
    "            sign_coeff_set.add(sign_coeff)\n",
    "    \n",
    "        if 1 in sign_coeff_set and -1 in sign_coeff_set:\n",
    "            \n",
    "            print(f\"Encerrando na iteração {i} pois o conjunto contém 1 e -1.\")\n",
    "            break\n",
    "            \n",
    "        \n",
    "    print(\"Conjunto final de coeficientes para t em {}: {}.\".format(variable_ranges[0], sign_coeff_set) )\n"
   ]
  },
  {
   "cell_type": "code",
   "execution_count": null,
   "id": "a9792e72",
   "metadata": {
    "collapsed": false,
    "jupyter": {
     "outputs_hidden": false
    },
    "pycharm": {
     "name": "#%%\n"
    }
   },
   "outputs": [],
   "source": [
    "# coeff = []\n",
    "# for i, degree_per_variable in enumerate(n_uplas):\n",
    "    \n",
    "#     c = moebius_coefficient(C11_uvt_numerator, degree_per_variable, total_degree, variable_ranges, coefficient_dict)\n",
    "#     coeff.append(c)"
   ]
  },
  {
   "cell_type": "markdown",
   "id": "cbbeddcf",
   "metadata": {
    "collapsed": false,
    "jupyter": {
     "outputs_hidden": false
    },
    "pycharm": {
     "name": "#%% md\n"
    }
   },
   "source": [
    "#####  Checking the sign of Möbius coefficients"
   ]
  },
  {
   "cell_type": "code",
   "execution_count": null,
   "id": "26af5d0b",
   "metadata": {
    "collapsed": false,
    "jupyter": {
     "outputs_hidden": false
    },
    "pycharm": {
     "name": "#%%\n"
    }
   },
   "outputs": [],
   "source": [
    "coefficient_signs = set([sign(c) for c in coeff])"
   ]
  },
  {
   "cell_type": "code",
   "execution_count": null,
   "id": "012c9a53",
   "metadata": {
    "collapsed": false,
    "jupyter": {
     "outputs_hidden": false
    },
    "pycharm": {
     "name": "#%%\n"
    }
   },
   "outputs": [],
   "source": [
    "set(coefficient_signs)"
   ]
  },
  {
   "cell_type": "markdown",
   "id": "6c8dcde6",
   "metadata": {
    "collapsed": false,
    "jupyter": {
     "outputs_hidden": false
    },
    "pycharm": {
     "name": "#%% md\n"
    }
   },
   "source": [
    "##### Limit at the extremes"
   ]
  },
  {
   "cell_type": "code",
   "execution_count": null,
   "id": "1591c9d6",
   "metadata": {
    "collapsed": false,
    "jupyter": {
     "outputs_hidden": false
    },
    "pycharm": {
     "name": "#%%\n"
    }
   },
   "outputs": [],
   "source": [
    "limit(C11, t=0, dir='+'), limit(C11, t=1, dir='-')"
   ]
  },
  {
   "cell_type": "markdown",
   "id": "9df67ebd",
   "metadata": {
    "collapsed": false,
    "jupyter": {
     "outputs_hidden": false
    },
    "pycharm": {
     "name": "#%% md\n"
    }
   },
   "source": [
    "##### 5. There exits a $\\delta<1$ such $(O_1)_{12}(c(t),t)$ is negative for $t$ in $(0,\\delta)$ and is positive for $t$ in $(\\delta,1)$ ."
   ]
  },
  {
   "cell_type": "code",
   "execution_count": null,
   "id": "e91a65d6",
   "metadata": {
    "collapsed": false,
    "jupyter": {
     "outputs_hidden": false
    },
    "pycharm": {
     "name": "#%%\n"
    }
   },
   "outputs": [],
   "source": [
    "C12 = C1[0,1].subs(c = -γ0/γ1)\n",
    "C12_diff = diff(C12, t) # derivative"
   ]
  },
  {
   "cell_type": "code",
   "execution_count": null,
   "id": "92c8c27d",
   "metadata": {
    "collapsed": false,
    "jupyter": {
     "outputs_hidden": false
    },
    "pycharm": {
     "name": "#%%\n"
    }
   },
   "outputs": [],
   "source": [
    "C12_diff_numerator = C12_diff.numerator().simplify_real().expand().combine()"
   ]
  },
  {
   "cell_type": "code",
   "execution_count": null,
   "id": "395108f2",
   "metadata": {
    "collapsed": false,
    "jupyter": {
     "outputs_hidden": false
    },
    "pycharm": {
     "name": "#%%\n"
    }
   },
   "outputs": [],
   "source": [
    "C12_diff_numerator_uvt = C12_diff_numerator.subs({(3*t^2 - 2*t + 3):v^2}).subs({(3*t^2 + 2*t + 3):u^2}).simplify_real().expand().combine()"
   ]
  },
  {
   "cell_type": "markdown",
   "id": "e71aa5ba",
   "metadata": {
    "collapsed": false,
    "jupyter": {
     "outputs_hidden": false
    },
    "pycharm": {
     "name": "#%% md\n"
    }
   },
   "source": [
    "##### Calculates the Möbius coefficient"
   ]
  },
  {
   "cell_type": "code",
   "execution_count": null,
   "id": "260a4006",
   "metadata": {
    "collapsed": false,
    "jupyter": {
     "outputs_hidden": false
    },
    "pycharm": {
     "name": "#%%\n"
    }
   },
   "outputs": [],
   "source": [
    "coefficient_dict = polynomial_to_dict(C12_diff_numerator_uvt)"
   ]
  },
  {
   "cell_type": "code",
   "execution_count": null,
   "id": "76059453",
   "metadata": {
    "collapsed": false,
    "jupyter": {
     "outputs_hidden": false
    },
    "pycharm": {
     "name": "#%%\n"
    }
   },
   "outputs": [],
   "source": [
    "variables = C12_diff_numerator_uvt.variables()\n",
    "total_degree  =  [C12_diff_numerator_uvt.degree(j) for j in variables]\n",
    "n_uplas = [\n",
    "    [i, j, k]\n",
    "    for i in range(total_degree[0] + 1)\n",
    "    for j in range(total_degree[1] + 1)\n",
    "    for k in range(total_degree[2] + 1)\n",
    "]\n",
    "len(n_uplas)"
   ]
  },
  {
   "cell_type": "code",
   "execution_count": null,
   "id": "daa19a67",
   "metadata": {
    "collapsed": false,
    "jupyter": {
     "outputs_hidden": false
    },
    "pycharm": {
     "name": "#%%\n"
    }
   },
   "outputs": [],
   "source": [
    "# coeff = []\n",
    "# for i, degree_per_variable in enumerate(n_uplas):    \n",
    "#     c = moebius_coefficient(C12_diff_numerator_uvt, degree_per_variable, total_degree, variable_ranges, coefficient_dict)\n",
    "#     coeff.append(c)"
   ]
  },
  {
   "cell_type": "code",
   "execution_count": null,
   "id": "2b9f5424",
   "metadata": {
    "collapsed": false,
    "jupyter": {
     "outputs_hidden": false
    },
    "pycharm": {
     "name": "#%%\n"
    }
   },
   "outputs": [],
   "source": [
    "import time\n",
    "\n",
    "# Inicialize a lista de coeficientes\n",
    "\n",
    "# Capture o tempo de início\n",
    "start_time = time.time()\n",
    "sign_coeff_set = set()\n",
    "variable_ranges = [(0, 1), (u0, u1), (v0, v1)]\n",
    "for i, degree_per_variable in enumerate(n_uplas):\n",
    "    \n",
    "    c = moebius_coefficient(C12_diff_numerator_uvt, degree_per_variable, total_degree, variable_ranges, coefficient_dict)\n",
    "\n",
    "    if i % 1000 == 0:\n",
    "        elapsed_time = time.time() - start_time\n",
    "        elapsed_time_minutes = elapsed_time / 60\n",
    "        print(f\"Iteração: {i}, Tempo decorrido: {elapsed_time_minutes:.2f} minutos\")\n",
    "        print(\"Conjunto parcial de coeficientes:\", sign_coeff_set)  \n",
    "        print(\"\\n\")\n",
    "    \n",
    "    \n",
    "    if c.is_zero():         \n",
    "         continue\n",
    "\n",
    "    else:\n",
    "        sign_coeff = sign(c.simplify_full())\n",
    "        sign_coeff_set.add(sign_coeff)\n",
    "\n",
    "    if 1 in sign_coeff_set and -1 in sign_coeff_set:\n",
    "        \n",
    "        print(f\"Encerrando na iteração {i} pois o conjunto contém 1 e -1.\")\n",
    "        break\n",
    "        \n",
    "    \n",
    "print(\"Conjunto final de coeficientes:\", sign_coeff_set)  "
   ]
  },
  {
   "cell_type": "code",
   "execution_count": null,
   "id": "ec11e59e-f5f4-42f9-9716-404d4610396b",
   "metadata": {
    "pycharm": {
     "name": "#%%\n"
    }
   },
   "outputs": [],
   "source": [
    "import time\n",
    "\n",
    "# Inicialize a lista de coeficientes\n",
    "\n",
    "# Capture o tempo de início\n",
    "start_time = time.time()\n",
    "sign_coeff_set = set()\n",
    "\n",
    "for i, degree_per_variable in enumerate(n_uplas):\n",
    "    \n",
    "    c = moebius_coefficient(C12_diff_numerator_uvt, degree_per_variable, total_degree, variable_ranges, coefficient_dict)\n",
    "\n",
    "    if i % 100 == 0:\n",
    "        elapsed_time = time.time() - start_time\n",
    "        elapsed_time_minutes = elapsed_time / 60\n",
    "        print(f\"Iteração: {i}, Tempo decorrido: {elapsed_time_minutes:.2f} minutos\")\n",
    "        print(\"Conjunto parcial de coeficientes:\", sign_coeff_set)  \n",
    "        print(\"\\n\")\n",
    "    \n",
    "    \n",
    "    if c.is_zero():         \n",
    "         continue\n",
    "\n",
    "    else:\n",
    "        sign_coeff = sign(c.simplify_full())\n",
    "        sign_coeff_set.add(sign_coeff)\n",
    "\n",
    "    if 1 in sign_coeff_set and -1 in sign_coeff_set:\n",
    "        \n",
    "        print(f\"Encerrando na iteração {i} pois o conjunto contém 1 e -1.\")\n",
    "        break\n",
    "        \n",
    "    \n",
    "print(\"Conjunto final de coeficientes:\", sign_coeff_set)  "
   ]
  },
  {
   "cell_type": "markdown",
   "id": "b20993b0-e487-49f4-8b43-ecbc3e491e45",
   "metadata": {
    "pycharm": {
     "name": "#%% md\n"
    }
   },
   "source": [
    "#####  Checking the sign of Möbius coefficients"
   ]
  },
  {
   "cell_type": "code",
   "execution_count": null,
   "id": "9352b4de-2dc5-48b7-9695-ae81d0ee6cc8",
   "metadata": {
    "pycharm": {
     "name": "#%%\n"
    }
   },
   "outputs": [],
   "source": [
    "coefficient_signs = set([sign(c) for c in coeff])"
   ]
  },
  {
   "cell_type": "code",
   "execution_count": null,
   "id": "842a34a3-215f-4011-aca1-228848a9b1dd",
   "metadata": {
    "pycharm": {
     "name": "#%%\n"
    }
   },
   "outputs": [],
   "source": [
    "set(coefficient_signs)"
   ]
  },
  {
   "cell_type": "markdown",
   "id": "be6d7c2b-87a4-4a5a-bf80-6ad7105a2935",
   "metadata": {
    "pycharm": {
     "name": "#%% md\n"
    }
   },
   "source": [
    "##### Limit at the extremes"
   ]
  },
  {
   "cell_type": "code",
   "execution_count": null,
   "id": "e07f8947-43b2-49a2-8047-9861e4ded6bf",
   "metadata": {
    "pycharm": {
     "name": "#%%\n"
    }
   },
   "outputs": [],
   "source": [
    "bool(limit(C12, t=0, dir='+')< 0), bool(limit(C11, t=1, dir='-') > 0)"
   ]
  },
  {
   "cell_type": "code",
   "execution_count": null,
   "id": "cd890752-ef96-431f-a74d-db14437dec40",
   "metadata": {
    "pycharm": {
     "name": "#%%\n"
    }
   },
   "outputs": [],
   "source": []
  }
 ],
 "metadata": {
  "kernelspec": {
   "display_name": "SageMath 10.4",
   "language": "sage",
   "name": "sagemath"
  },
  "language_info": {
   "codemirror_mode": {
    "name": "ipython",
    "version": 3
   },
   "file_extension": ".py",
   "mimetype": "text/x-python",
   "name": "python",
   "nbconvert_exporter": "python",
   "pygments_lexer": "ipython3",
   "version": "3.11.10"
  },
  "widgets": {
   "application/vnd.jupyter.widget-state+json": {
    "state": {},
    "version_major": 2,
    "version_minor": 0
   }
  }
 },
 "nbformat": 4,
 "nbformat_minor": 5
}