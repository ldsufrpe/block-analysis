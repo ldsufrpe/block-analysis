{
 "cells": [
  {
   "cell_type": "markdown",
   "id": "633496ff",
   "metadata": {
    "pycharm": {
     "name": "#%% md\n"
    }
   },
   "source": [
    "## Analyzing the block $C_1$ for the Cube"
   ]
  },
  {
   "cell_type": "code",
   "execution_count": 1,
   "id": "597a5f63",
   "metadata": {
    "pycharm": {
     "is_executing": true,
     "name": "#%%\n"
    }
   },
   "outputs": [],
   "source": [
    "load(\"../util.sage\")"
   ]
  },
  {
   "cell_type": "code",
   "execution_count": 2,
   "id": "1b9dd1cf",
   "metadata": {
    "pycharm": {
     "name": "#%%\n"
    }
   },
   "outputs": [],
   "source": [
    "C1 = load('blocks/linear_block_1')"
   ]
  },
  {
   "cell_type": "code",
   "execution_count": 3,
   "id": "f19a18a7-7ff1-4b7d-9c38-ef680318a044",
   "metadata": {
    "pycharm": {
     "name": "#%%\n"
    }
   },
   "outputs": [
    {
     "data": {
      "text/html": [
       "<html>\\(\\displaystyle \\left(\\begin{array}{rr}\n",
       "24 \\, c - \\frac{1}{12} \\, \\sqrt{3} - \\frac{3}{8} \\, \\sqrt{2} - \\frac{3}{4} & 24 \\, c - \\frac{\\sqrt{3} t + \\sqrt{3}}{3 \\, {\\left(t^{3} + 3 \\, t^{2} + 3 \\, t + 1\\right)}} - \\frac{3 \\, {\\left(t + 3\\right)}}{{\\left(3 \\, t^{2} + 2 \\, t + 3\\right)}^{\\frac{3}{2}}} + \\frac{3 \\, {\\left(t - 3\\right)}}{{\\left(3 \\, t^{2} - 2 \\, t + 3\\right)}^{\\frac{3}{2}}} - \\frac{\\sqrt{3} t - \\sqrt{3}}{3 \\, {\\left(t - 1\\right)}^{3}} \\\\\n",
       "24 \\, c t - \\frac{\\sqrt{3} t + \\sqrt{3}}{3 \\, {\\left(t^{3} + 3 \\, t^{2} + 3 \\, t + 1\\right)}} - \\frac{3 \\, {\\left(3 \\, t + 1\\right)}}{{\\left(3 \\, t^{2} + 2 \\, t + 3\\right)}^{\\frac{3}{2}}} - \\frac{3 \\, {\\left(3 \\, t - 1\\right)}}{{\\left(3 \\, t^{2} - 2 \\, t + 3\\right)}^{\\frac{3}{2}}} + \\frac{\\sqrt{3} t - \\sqrt{3}}{3 \\, {\\left(t - 1\\right)}^{3}} & 24 \\, c t - \\frac{2 \\, \\sqrt{3} + 9 \\, \\sqrt{2} + 18}{24 \\, t^{2}}\n",
       "\\end{array}\\right)\\)</html>"
      ],
      "text/latex": [
       "$\\displaystyle \\left(\\begin{array}{rr}\n",
       "24 \\, c - \\frac{1}{12} \\, \\sqrt{3} - \\frac{3}{8} \\, \\sqrt{2} - \\frac{3}{4} & 24 \\, c - \\frac{\\sqrt{3} t + \\sqrt{3}}{3 \\, {\\left(t^{3} + 3 \\, t^{2} + 3 \\, t + 1\\right)}} - \\frac{3 \\, {\\left(t + 3\\right)}}{{\\left(3 \\, t^{2} + 2 \\, t + 3\\right)}^{\\frac{3}{2}}} + \\frac{3 \\, {\\left(t - 3\\right)}}{{\\left(3 \\, t^{2} - 2 \\, t + 3\\right)}^{\\frac{3}{2}}} - \\frac{\\sqrt{3} t - \\sqrt{3}}{3 \\, {\\left(t - 1\\right)}^{3}} \\\\\n",
       "24 \\, c t - \\frac{\\sqrt{3} t + \\sqrt{3}}{3 \\, {\\left(t^{3} + 3 \\, t^{2} + 3 \\, t + 1\\right)}} - \\frac{3 \\, {\\left(3 \\, t + 1\\right)}}{{\\left(3 \\, t^{2} + 2 \\, t + 3\\right)}^{\\frac{3}{2}}} - \\frac{3 \\, {\\left(3 \\, t - 1\\right)}}{{\\left(3 \\, t^{2} - 2 \\, t + 3\\right)}^{\\frac{3}{2}}} + \\frac{\\sqrt{3} t - \\sqrt{3}}{3 \\, {\\left(t - 1\\right)}^{3}} & 24 \\, c t - \\frac{2 \\, \\sqrt{3} + 9 \\, \\sqrt{2} + 18}{24 \\, t^{2}}\n",
       "\\end{array}\\right)$"
      ],
      "text/plain": [
       "[                                                                                                                                     24*c - 1/12*sqrt(3) - 3/8*sqrt(2) - 3/4       24*c - 1/3*(sqrt(3)*t + sqrt(3))/(t^3 + 3*t^2 + 3*t + 1) - 3*(t + 3)/(3*t^2 + 2*t + 3)^(3/2) + 3*(t - 3)/(3*t^2 - 2*t + 3)^(3/2) - 1/3*(sqrt(3)*t - sqrt(3))/(t - 1)^3]\n",
       "[24*c*t - 1/3*(sqrt(3)*t + sqrt(3))/(t^3 + 3*t^2 + 3*t + 1) - 3*(3*t + 1)/(3*t^2 + 2*t + 3)^(3/2) - 3*(3*t - 1)/(3*t^2 - 2*t + 3)^(3/2) + 1/3*(sqrt(3)*t - sqrt(3))/(t - 1)^3                                                                                                                               24*c*t - 1/24*(2*sqrt(3) + 9*sqrt(2) + 18)/t^2]"
      ]
     },
     "metadata": {},
     "output_type": "display_data"
    }
   ],
   "source": [
    "# simplify the expression of each block input\n",
    "C1 = C1.apply_map(lambda x: x.simplify_real().combine()); show(C1)"
   ]
  },
  {
   "cell_type": "code",
   "execution_count": 4,
   "id": "cbfce732-d788-4685-ba8a-3e0f06265721",
   "metadata": {
    "pycharm": {
     "name": "#%%\n"
    }
   },
   "outputs": [],
   "source": [
    "# Obtain the simplified expression\n",
    "p1 = C1.det()"
   ]
  },
  {
   "cell_type": "code",
   "execution_count": 6,
   "id": "0aee9ab8",
   "metadata": {
    "pycharm": {
     "name": "#%%\n"
    }
   },
   "outputs": [
    {
     "data": {
      "text/html": [
       "<html>\\(\\displaystyle \\frac{1}{576} \\, {\\left(576 \\, c t - \\frac{2 \\, \\sqrt{3} + 9 \\, \\sqrt{2} + 18}{t^{2}}\\right)} {\\left(576 \\, c - 2 \\, \\sqrt{3} - 9 \\, \\sqrt{2} - 18\\right)} - \\frac{1}{9} \\, {\\left(72 \\, c t - \\frac{\\sqrt{3} t + \\sqrt{3}}{t^{3} + 3 \\, t^{2} + 3 \\, t + 1} - \\frac{9 \\, {\\left(3 \\, t + 1\\right)}}{{\\left(3 \\, t^{2} + 2 \\, t + 3\\right)}^{\\frac{3}{2}}} - \\frac{9 \\, {\\left(3 \\, t - 1\\right)}}{{\\left(3 \\, t^{2} - 2 \\, t + 3\\right)}^{\\frac{3}{2}}} + \\frac{\\sqrt{3} t - \\sqrt{3}}{{\\left(t - 1\\right)}^{3}}\\right)} {\\left(72 \\, c - \\frac{\\sqrt{3} t + \\sqrt{3}}{t^{3} + 3 \\, t^{2} + 3 \\, t + 1} - \\frac{9 \\, {\\left(t + 3\\right)}}{{\\left(3 \\, t^{2} + 2 \\, t + 3\\right)}^{\\frac{3}{2}}} + \\frac{9 \\, {\\left(t - 3\\right)}}{{\\left(3 \\, t^{2} - 2 \\, t + 3\\right)}^{\\frac{3}{2}}} - \\frac{\\sqrt{3} t - \\sqrt{3}}{{\\left(t - 1\\right)}^{3}}\\right)}\\)</html>"
      ],
      "text/latex": [
       "$\\displaystyle \\frac{1}{576} \\, {\\left(576 \\, c t - \\frac{2 \\, \\sqrt{3} + 9 \\, \\sqrt{2} + 18}{t^{2}}\\right)} {\\left(576 \\, c - 2 \\, \\sqrt{3} - 9 \\, \\sqrt{2} - 18\\right)} - \\frac{1}{9} \\, {\\left(72 \\, c t - \\frac{\\sqrt{3} t + \\sqrt{3}}{t^{3} + 3 \\, t^{2} + 3 \\, t + 1} - \\frac{9 \\, {\\left(3 \\, t + 1\\right)}}{{\\left(3 \\, t^{2} + 2 \\, t + 3\\right)}^{\\frac{3}{2}}} - \\frac{9 \\, {\\left(3 \\, t - 1\\right)}}{{\\left(3 \\, t^{2} - 2 \\, t + 3\\right)}^{\\frac{3}{2}}} + \\frac{\\sqrt{3} t - \\sqrt{3}}{{\\left(t - 1\\right)}^{3}}\\right)} {\\left(72 \\, c - \\frac{\\sqrt{3} t + \\sqrt{3}}{t^{3} + 3 \\, t^{2} + 3 \\, t + 1} - \\frac{9 \\, {\\left(t + 3\\right)}}{{\\left(3 \\, t^{2} + 2 \\, t + 3\\right)}^{\\frac{3}{2}}} + \\frac{9 \\, {\\left(t - 3\\right)}}{{\\left(3 \\, t^{2} - 2 \\, t + 3\\right)}^{\\frac{3}{2}}} - \\frac{\\sqrt{3} t - \\sqrt{3}}{{\\left(t - 1\\right)}^{3}}\\right)}$"
      ],
      "text/plain": [
       "1/576*(576*c*t - (2*sqrt(3) + 9*sqrt(2) + 18)/t^2)*(576*c - 2*sqrt(3) - 9*sqrt(2) - 18) - 1/9*(72*c*t - (sqrt(3)*t + sqrt(3))/(t^3 + 3*t^2 + 3*t + 1) - 9*(3*t + 1)/(3*t^2 + 2*t + 3)^(3/2) - 9*(3*t - 1)/(3*t^2 - 2*t + 3)^(3/2) + (sqrt(3)*t - sqrt(3))/(t - 1)^3)*(72*c - (sqrt(3)*t + sqrt(3))/(t^3 + 3*t^2 + 3*t + 1) - 9*(t + 3)/(3*t^2 + 2*t + 3)^(3/2) + 9*(t - 3)/(3*t^2 - 2*t + 3)^(3/2) - (sqrt(3)*t - sqrt(3))/(t - 1)^3)"
      ]
     },
     "metadata": {},
     "output_type": "display_data"
    }
   ],
   "source": [
    "# checks if p1 was modified after simplification\n",
    "show(p1)"
   ]
  },
  {
   "cell_type": "markdown",
   "id": "fc392216",
   "metadata": {
    "collapsed": false,
    "jupyter": {
     "outputs_hidden": false
    },
    "pycharm": {
     "name": "#%% md\n"
    }
   },
   "source": [
    "### Proof Lemma 5:\n",
    "#### 1. $\\gamma_1(t)$ is negative for $t$ in $(0,1)$."
   ]
  },
  {
   "cell_type": "markdown",
   "id": "8f613284",
   "metadata": {
    "collapsed": false,
    "jupyter": {
     "outputs_hidden": false
    },
    "pycharm": {
     "name": "#%% md\n"
    }
   },
   "source": [
    "##### Change of variables:  $v^2 = 3t^2 - 2t + 3$, $u^2=3t^2 + 2t + 3$ "
   ]
  },
  {
   "cell_type": "code",
   "execution_count": 7,
   "id": "4d876458",
   "metadata": {
    "collapsed": false,
    "jupyter": {
     "outputs_hidden": false
    },
    "pycharm": {
     "name": "#%%\n"
    }
   },
   "outputs": [
    {
     "data": {
      "text/html": [
       "<html>\\(\\displaystyle -2 \\, \\sqrt{3} t - 9 \\, \\sqrt{2} t + \\frac{8 \\, \\sqrt{3} t^{2}}{t^{3} + 3 \\, t^{2} + 3 \\, t + 1} + \\frac{8 \\, \\sqrt{3} t^{2}}{t^{3} - 3 \\, t^{2} + 3 \\, t - 1} - 18 \\, t + \\frac{16 \\, \\sqrt{3} t}{t^{3} + 3 \\, t^{2} + 3 \\, t + 1} - \\frac{16 \\, \\sqrt{3} t}{t^{3} - 3 \\, t^{2} + 3 \\, t - 1} + \\frac{72 \\, t^{2}}{{\\left(3 \\, t^{2} + 2 \\, t + 3\\right)}^{\\frac{3}{2}}} - \\frac{72 \\, t^{2}}{{\\left(3 \\, t^{2} - 2 \\, t + 3\\right)}^{\\frac{3}{2}}} + \\frac{8 \\, \\sqrt{3}}{t^{3} + 3 \\, t^{2} + 3 \\, t + 1} + \\frac{8 \\, \\sqrt{3}}{t^{3} - 3 \\, t^{2} + 3 \\, t - 1} + \\frac{432 \\, t}{{\\left(3 \\, t^{2} + 2 \\, t + 3\\right)}^{\\frac{3}{2}}} + \\frac{432 \\, t}{{\\left(3 \\, t^{2} - 2 \\, t + 3\\right)}^{\\frac{3}{2}}} + \\frac{72}{{\\left(3 \\, t^{2} + 2 \\, t + 3\\right)}^{\\frac{3}{2}}} - \\frac{72}{{\\left(3 \\, t^{2} - 2 \\, t + 3\\right)}^{\\frac{3}{2}}} - \\frac{2 \\, \\sqrt{3}}{t^{2}} - \\frac{9 \\, \\sqrt{2}}{t^{2}} - \\frac{18}{t^{2}}\\)</html>"
      ],
      "text/latex": [
       "$\\displaystyle -2 \\, \\sqrt{3} t - 9 \\, \\sqrt{2} t + \\frac{8 \\, \\sqrt{3} t^{2}}{t^{3} + 3 \\, t^{2} + 3 \\, t + 1} + \\frac{8 \\, \\sqrt{3} t^{2}}{t^{3} - 3 \\, t^{2} + 3 \\, t - 1} - 18 \\, t + \\frac{16 \\, \\sqrt{3} t}{t^{3} + 3 \\, t^{2} + 3 \\, t + 1} - \\frac{16 \\, \\sqrt{3} t}{t^{3} - 3 \\, t^{2} + 3 \\, t - 1} + \\frac{72 \\, t^{2}}{{\\left(3 \\, t^{2} + 2 \\, t + 3\\right)}^{\\frac{3}{2}}} - \\frac{72 \\, t^{2}}{{\\left(3 \\, t^{2} - 2 \\, t + 3\\right)}^{\\frac{3}{2}}} + \\frac{8 \\, \\sqrt{3}}{t^{3} + 3 \\, t^{2} + 3 \\, t + 1} + \\frac{8 \\, \\sqrt{3}}{t^{3} - 3 \\, t^{2} + 3 \\, t - 1} + \\frac{432 \\, t}{{\\left(3 \\, t^{2} + 2 \\, t + 3\\right)}^{\\frac{3}{2}}} + \\frac{432 \\, t}{{\\left(3 \\, t^{2} - 2 \\, t + 3\\right)}^{\\frac{3}{2}}} + \\frac{72}{{\\left(3 \\, t^{2} + 2 \\, t + 3\\right)}^{\\frac{3}{2}}} - \\frac{72}{{\\left(3 \\, t^{2} - 2 \\, t + 3\\right)}^{\\frac{3}{2}}} - \\frac{2 \\, \\sqrt{3}}{t^{2}} - \\frac{9 \\, \\sqrt{2}}{t^{2}} - \\frac{18}{t^{2}}$"
      ],
      "text/plain": [
       "-2*sqrt(3)*t - 9*sqrt(2)*t + 8*sqrt(3)*t^2/(t^3 + 3*t^2 + 3*t + 1) + 8*sqrt(3)*t^2/(t^3 - 3*t^2 + 3*t - 1) - 18*t + 16*sqrt(3)*t/(t^3 + 3*t^2 + 3*t + 1) - 16*sqrt(3)*t/(t^3 - 3*t^2 + 3*t - 1) + 72*t^2/(3*t^2 + 2*t + 3)^(3/2) - 72*t^2/(3*t^2 - 2*t + 3)^(3/2) + 8*sqrt(3)/(t^3 + 3*t^2 + 3*t + 1) + 8*sqrt(3)/(t^3 - 3*t^2 + 3*t - 1) + 432*t/(3*t^2 + 2*t + 3)^(3/2) + 432*t/(3*t^2 - 2*t + 3)^(3/2) + 72/(3*t^2 + 2*t + 3)^(3/2) - 72/(3*t^2 - 2*t + 3)^(3/2) - 2*sqrt(3)/t^2 - 9*sqrt(2)/t^2 - 18/t^2"
      ]
     },
     "metadata": {},
     "output_type": "display_data"
    }
   ],
   "source": [
    "γ1 = p1.coefficients()[1][0]; show(γ1)"
   ]
  },
  {
   "cell_type": "code",
   "execution_count": 8,
   "id": "8a018389",
   "metadata": {
    "collapsed": false,
    "editable": true,
    "jupyter": {
     "outputs_hidden": false
    },
    "pycharm": {
     "name": "#%%\n"
    },
    "slideshow": {
     "slide_type": ""
    },
    "tags": []
   },
   "outputs": [],
   "source": [
    "t, u, v = var('t, u, v')\n",
    "assume(u>0); assume(v>0)"
   ]
  },
  {
   "cell_type": "code",
   "execution_count": 9,
   "id": "1f3aafb7-27d8-423a-9145-6e325e9e359c",
   "metadata": {},
   "outputs": [
    {
     "data": {
      "text/html": [
       "<html>\\(\\displaystyle -2 \\, \\sqrt{3} t^{5} u^{3} v^{3} - 9 \\, \\sqrt{2} t^{5} u^{3} v^{3} - 18 \\, t^{5} u^{3} v^{3} + 18 \\, \\sqrt{3} t^{3} u^{3} v^{3} + 9 \\, \\sqrt{2} t^{3} u^{3} v^{3} - 72 \\, t^{6} u^{3} + 72 \\, t^{6} v^{3} + 18 \\, t^{3} u^{3} v^{3} - 2 \\, \\sqrt{3} t^{2} u^{3} v^{3} - 9 \\, \\sqrt{2} t^{2} u^{3} v^{3} + 432 \\, t^{5} u^{3} + 432 \\, t^{5} v^{3} - 18 \\, t^{2} u^{3} v^{3} + 2 \\, \\sqrt{3} u^{3} v^{3} + 9 \\, \\sqrt{2} u^{3} v^{3} - 432 \\, t^{3} u^{3} - 432 \\, t^{3} v^{3} + 18 \\, u^{3} v^{3} + 72 \\, t^{2} u^{3} - 72 \\, t^{2} v^{3}\\)</html>"
      ],
      "text/latex": [
       "$\\displaystyle -2 \\, \\sqrt{3} t^{5} u^{3} v^{3} - 9 \\, \\sqrt{2} t^{5} u^{3} v^{3} - 18 \\, t^{5} u^{3} v^{3} + 18 \\, \\sqrt{3} t^{3} u^{3} v^{3} + 9 \\, \\sqrt{2} t^{3} u^{3} v^{3} - 72 \\, t^{6} u^{3} + 72 \\, t^{6} v^{3} + 18 \\, t^{3} u^{3} v^{3} - 2 \\, \\sqrt{3} t^{2} u^{3} v^{3} - 9 \\, \\sqrt{2} t^{2} u^{3} v^{3} + 432 \\, t^{5} u^{3} + 432 \\, t^{5} v^{3} - 18 \\, t^{2} u^{3} v^{3} + 2 \\, \\sqrt{3} u^{3} v^{3} + 9 \\, \\sqrt{2} u^{3} v^{3} - 432 \\, t^{3} u^{3} - 432 \\, t^{3} v^{3} + 18 \\, u^{3} v^{3} + 72 \\, t^{2} u^{3} - 72 \\, t^{2} v^{3}$"
      ],
      "text/plain": [
       "-2*sqrt(3)*t^5*u^3*v^3 - 9*sqrt(2)*t^5*u^3*v^3 - 18*t^5*u^3*v^3 + 18*sqrt(3)*t^3*u^3*v^3 + 9*sqrt(2)*t^3*u^3*v^3 - 72*t^6*u^3 + 72*t^6*v^3 + 18*t^3*u^3*v^3 - 2*sqrt(3)*t^2*u^3*v^3 - 9*sqrt(2)*t^2*u^3*v^3 + 432*t^5*u^3 + 432*t^5*v^3 - 18*t^2*u^3*v^3 + 2*sqrt(3)*u^3*v^3 + 9*sqrt(2)*u^3*v^3 - 432*t^3*u^3 - 432*t^3*v^3 + 18*u^3*v^3 + 72*t^2*u^3 - 72*t^2*v^3"
      ]
     },
     "metadata": {},
     "output_type": "display_data"
    }
   ],
   "source": [
    "γ1_uvt_numerator = γ1.subs({(3*t^2 - 2*t + 3):v^2}).subs({(3*t^2 + 2*t + 3):u^2}).factor().numerator(); show(γ1_uvt_numerator)"
   ]
  },
  {
   "cell_type": "markdown",
   "id": "03c9aa6a",
   "metadata": {
    "collapsed": false,
    "jupyter": {
     "outputs_hidden": false
    },
    "pycharm": {
     "name": "#%% md\n"
    }
   },
   "source": [
    "##### Calculates the Möbius coefficient"
   ]
  },
  {
   "cell_type": "code",
   "execution_count": 10,
   "id": "72a0b0cb",
   "metadata": {
    "collapsed": false,
    "jupyter": {
     "outputs_hidden": false
    },
    "pycharm": {
     "name": "#%%\n"
    }
   },
   "outputs": [],
   "source": [
    "coefficient_dict = polynomial_to_dict(γ1_uvt_numerator)"
   ]
  },
  {
   "cell_type": "code",
   "execution_count": 11,
   "id": "03907320",
   "metadata": {
    "collapsed": false,
    "editable": true,
    "jupyter": {
     "outputs_hidden": false
    },
    "pycharm": {
     "name": "#%%\n"
    },
    "slideshow": {
     "slide_type": ""
    },
    "tags": []
   },
   "outputs": [],
   "source": [
    "variables = γ1_uvt_numerator.variables()\n",
    "total_degree  =  [γ1_uvt_numerator.degree(j) for j in variables]\n",
    "n_uplas = [\n",
    "    [i, j, k]\n",
    "    for i in range(total_degree[0] + 1)\n",
    "    for j in range(total_degree[1] + 1)\n",
    "    for k in range(total_degree[2] + 1)\n",
    "]"
   ]
  },
  {
   "cell_type": "code",
   "execution_count": 12,
   "id": "c87e48f0",
   "metadata": {
    "editable": true,
    "pycharm": {
     "name": "#%%\n"
    },
    "slideshow": {
     "slide_type": ""
    },
    "tags": []
   },
   "outputs": [],
   "source": [
    "#Creating the partition\n",
    "\n",
    "q1 = 3*t^2 + 2*t + 3\n",
    "q2 = 3*t^2 - 2*t + 3\n",
    "\n",
    "# Calculate the maximum and minimum values of u for interval with endpoints and  for t = 0 and t = 1/2.\n",
    "(u0, u1) = quadratic_extrema_on_interval(q1, (0, 1/2))\n",
    "(v0, v1) = quadratic_extrema_on_interval(q2, (0,1/2))\n",
    "variable_ranges_0 = [ (0, 1/2), (u0, u1), (v0, v1)]\n",
    "\n",
    "# Calculate the maximum and minimum values of u for interval with endpoints and  for t = 1/2 and t = 1.\n",
    "(u0, u1) = quadratic_extrema_on_interval(q1, (1/2, 1))\n",
    "(v0, v1) = quadratic_extrema_on_interval(q2, (1/2, 1) )\n",
    "variable_ranges_1 = [ (1/2, 1), (u0, u1), (v0, v1)]\n",
    "\n",
    "\n",
    "all_variable_ranges = [variable_ranges_0, variable_ranges_1]\n"
   ]
  },
  {
   "cell_type": "code",
   "execution_count": 12,
   "id": "8987368c-f2a0-451d-bd73-80939dd26106",
   "metadata": {
    "editable": true,
    "slideshow": {
     "slide_type": ""
    },
    "tags": []
   },
   "outputs": [
    {
     "name": "stdout",
     "output_type": "stream",
     "text": [
      "Starting to calculate the signs of the Möbius coefficients for t in (0, 1/2)\n",
      "\n",
      "\n",
      "Iteration: 100, Elapsed time: 0.03 minutes\n",
      "Partial set of signs of the Möbius coefficients: {1}\n",
      "\n",
      "\n",
      "Final iteration: 111. Elapsed time: 0.03 minutes\n",
      "Set of signs of the Möbius coefficients for t in (0, 1/2): {1}.\n",
      "\n",
      "\n",
      "Starting to calculate the signs of the Möbius coefficients for t in (1/2, 1)\n",
      "\n",
      "\n",
      "Iteration: 100, Elapsed time: 0.06 minutes\n",
      "Partial set of signs of the Möbius coefficients: {1}\n",
      "\n",
      "\n",
      "Final iteration: 111. Elapsed time: 0.07 minutes\n",
      "Set of signs of the Möbius coefficients for t in (1/2, 1): {1}.\n",
      "\n",
      "\n"
     ]
    }
   ],
   "source": [
    "#Determines the sign of Möbius coefficients for a given polynomial expression.\n",
    "moebius_sign(γ1_uvt_numerator, n_uplas, total_degree, all_variable_ranges, coefficient_dict)"
   ]
  },
  {
   "cell_type": "markdown",
   "id": "27f69bce",
   "metadata": {
    "pycharm": {
     "name": "#%% md\n"
    }
   },
   "source": [
    "##### Limit at the extremes"
   ]
  },
  {
   "cell_type": "code",
   "execution_count": 13,
   "id": "bfab5ff7",
   "metadata": {
    "pycharm": {
     "name": "#%%\n"
    }
   },
   "outputs": [
    {
     "data": {
      "text/plain": [
       "(-Infinity, -Infinity)"
      ]
     },
     "execution_count": 13,
     "metadata": {},
     "output_type": "execute_result"
    }
   ],
   "source": [
    "limit(γ1, t=0, dir='+'), limit(γ1, t=1, dir='-')"
   ]
  },
  {
   "cell_type": "markdown",
   "id": "84b2bd6d",
   "metadata": {
    "pycharm": {
     "name": "#%% md\n"
    }
   },
   "source": [
    "#### 2. $\\gamma_0(t)$ is positive for $t$ in $(0,1)$."
   ]
  },
  {
   "cell_type": "code",
   "execution_count": 14,
   "id": "73f883ff",
   "metadata": {
    "pycharm": {
     "name": "#%%\n"
    }
   },
   "outputs": [
    {
     "data": {
      "text/html": [
       "<html>\\(\\displaystyle -\\frac{t^{2}}{3 \\, {\\left(t^{3} + 3 \\, t^{2} + 3 \\, t + 1\\right)}^{2}} + \\frac{t^{2}}{3 \\, {\\left(t^{3} - 3 \\, t^{2} + 3 \\, t - 1\\right)}^{2}} - \\frac{4 \\, \\sqrt{3} t^{2}}{{\\left(t^{3} + 3 \\, t^{2} + 3 \\, t + 1\\right)} {\\left(3 \\, t^{2} + 2 \\, t + 3\\right)}^{\\frac{3}{2}}} - \\frac{2 \\, \\sqrt{3} t^{2}}{{\\left(t^{3} - 3 \\, t^{2} + 3 \\, t - 1\\right)} {\\left(3 \\, t^{2} + 2 \\, t + 3\\right)}^{\\frac{3}{2}}} - \\frac{2 \\, \\sqrt{3} t^{2}}{{\\left(t^{3} + 3 \\, t^{2} + 3 \\, t + 1\\right)} {\\left(3 \\, t^{2} - 2 \\, t + 3\\right)}^{\\frac{3}{2}}} - \\frac{4 \\, \\sqrt{3} t^{2}}{{\\left(t^{3} - 3 \\, t^{2} + 3 \\, t - 1\\right)} {\\left(3 \\, t^{2} - 2 \\, t + 3\\right)}^{\\frac{3}{2}}} + \\frac{\\sqrt{3} \\sqrt{2}}{16 \\, t^{2}} - \\frac{2 \\, t}{3 \\, {\\left(t^{3} + 3 \\, t^{2} + 3 \\, t + 1\\right)}^{2}} - \\frac{2 \\, t}{3 \\, {\\left(t^{3} - 3 \\, t^{2} + 3 \\, t - 1\\right)}^{2}} - \\frac{8 \\, \\sqrt{3} t}{{\\left(t^{3} + 3 \\, t^{2} + 3 \\, t + 1\\right)} {\\left(3 \\, t^{2} + 2 \\, t + 3\\right)}^{\\frac{3}{2}}} + \\frac{4 \\, \\sqrt{3} t}{{\\left(t^{3} - 3 \\, t^{2} + 3 \\, t - 1\\right)} {\\left(3 \\, t^{2} + 2 \\, t + 3\\right)}^{\\frac{3}{2}}} - \\frac{4 \\, \\sqrt{3} t}{{\\left(t^{3} + 3 \\, t^{2} + 3 \\, t + 1\\right)} {\\left(3 \\, t^{2} - 2 \\, t + 3\\right)}^{\\frac{3}{2}}} + \\frac{8 \\, \\sqrt{3} t}{{\\left(t^{3} - 3 \\, t^{2} + 3 \\, t - 1\\right)} {\\left(3 \\, t^{2} - 2 \\, t + 3\\right)}^{\\frac{3}{2}}} - \\frac{27 \\, t^{2}}{{\\left(3 \\, t^{2} + 2 \\, t + 3\\right)}^{3}} + \\frac{27 \\, t^{2}}{{\\left(3 \\, t^{2} - 2 \\, t + 3\\right)}^{3}} + \\frac{\\sqrt{3}}{8 \\, t^{2}} + \\frac{9 \\, \\sqrt{2}}{16 \\, t^{2}} - \\frac{1}{3 \\, {\\left(t^{3} + 3 \\, t^{2} + 3 \\, t + 1\\right)}^{2}} + \\frac{1}{3 \\, {\\left(t^{3} - 3 \\, t^{2} + 3 \\, t - 1\\right)}^{2}} - \\frac{4 \\, \\sqrt{3}}{{\\left(t^{3} + 3 \\, t^{2} + 3 \\, t + 1\\right)} {\\left(3 \\, t^{2} + 2 \\, t + 3\\right)}^{\\frac{3}{2}}} - \\frac{2 \\, \\sqrt{3}}{{\\left(t^{3} - 3 \\, t^{2} + 3 \\, t - 1\\right)} {\\left(3 \\, t^{2} + 2 \\, t + 3\\right)}^{\\frac{3}{2}}} - \\frac{2 \\, \\sqrt{3}}{{\\left(t^{3} + 3 \\, t^{2} + 3 \\, t + 1\\right)} {\\left(3 \\, t^{2} - 2 \\, t + 3\\right)}^{\\frac{3}{2}}} - \\frac{4 \\, \\sqrt{3}}{{\\left(t^{3} - 3 \\, t^{2} + 3 \\, t - 1\\right)} {\\left(3 \\, t^{2} - 2 \\, t + 3\\right)}^{\\frac{3}{2}}} + \\frac{83}{96 \\, t^{2}} - \\frac{90 \\, t}{{\\left(3 \\, t^{2} + 2 \\, t + 3\\right)}^{3}} - \\frac{90 \\, t}{{\\left(3 \\, t^{2} - 2 \\, t + 3\\right)}^{3}} - \\frac{144 \\, t}{{\\left(3 \\, t^{2} + 2 \\, t + 3\\right)}^{\\frac{3}{2}} {\\left(3 \\, t^{2} - 2 \\, t + 3\\right)}^{\\frac{3}{2}}} - \\frac{27}{{\\left(3 \\, t^{2} + 2 \\, t + 3\\right)}^{3}} + \\frac{27}{{\\left(3 \\, t^{2} - 2 \\, t + 3\\right)}^{3}}\\)</html>"
      ],
      "text/latex": [
       "$\\displaystyle -\\frac{t^{2}}{3 \\, {\\left(t^{3} + 3 \\, t^{2} + 3 \\, t + 1\\right)}^{2}} + \\frac{t^{2}}{3 \\, {\\left(t^{3} - 3 \\, t^{2} + 3 \\, t - 1\\right)}^{2}} - \\frac{4 \\, \\sqrt{3} t^{2}}{{\\left(t^{3} + 3 \\, t^{2} + 3 \\, t + 1\\right)} {\\left(3 \\, t^{2} + 2 \\, t + 3\\right)}^{\\frac{3}{2}}} - \\frac{2 \\, \\sqrt{3} t^{2}}{{\\left(t^{3} - 3 \\, t^{2} + 3 \\, t - 1\\right)} {\\left(3 \\, t^{2} + 2 \\, t + 3\\right)}^{\\frac{3}{2}}} - \\frac{2 \\, \\sqrt{3} t^{2}}{{\\left(t^{3} + 3 \\, t^{2} + 3 \\, t + 1\\right)} {\\left(3 \\, t^{2} - 2 \\, t + 3\\right)}^{\\frac{3}{2}}} - \\frac{4 \\, \\sqrt{3} t^{2}}{{\\left(t^{3} - 3 \\, t^{2} + 3 \\, t - 1\\right)} {\\left(3 \\, t^{2} - 2 \\, t + 3\\right)}^{\\frac{3}{2}}} + \\frac{\\sqrt{3} \\sqrt{2}}{16 \\, t^{2}} - \\frac{2 \\, t}{3 \\, {\\left(t^{3} + 3 \\, t^{2} + 3 \\, t + 1\\right)}^{2}} - \\frac{2 \\, t}{3 \\, {\\left(t^{3} - 3 \\, t^{2} + 3 \\, t - 1\\right)}^{2}} - \\frac{8 \\, \\sqrt{3} t}{{\\left(t^{3} + 3 \\, t^{2} + 3 \\, t + 1\\right)} {\\left(3 \\, t^{2} + 2 \\, t + 3\\right)}^{\\frac{3}{2}}} + \\frac{4 \\, \\sqrt{3} t}{{\\left(t^{3} - 3 \\, t^{2} + 3 \\, t - 1\\right)} {\\left(3 \\, t^{2} + 2 \\, t + 3\\right)}^{\\frac{3}{2}}} - \\frac{4 \\, \\sqrt{3} t}{{\\left(t^{3} + 3 \\, t^{2} + 3 \\, t + 1\\right)} {\\left(3 \\, t^{2} - 2 \\, t + 3\\right)}^{\\frac{3}{2}}} + \\frac{8 \\, \\sqrt{3} t}{{\\left(t^{3} - 3 \\, t^{2} + 3 \\, t - 1\\right)} {\\left(3 \\, t^{2} - 2 \\, t + 3\\right)}^{\\frac{3}{2}}} - \\frac{27 \\, t^{2}}{{\\left(3 \\, t^{2} + 2 \\, t + 3\\right)}^{3}} + \\frac{27 \\, t^{2}}{{\\left(3 \\, t^{2} - 2 \\, t + 3\\right)}^{3}} + \\frac{\\sqrt{3}}{8 \\, t^{2}} + \\frac{9 \\, \\sqrt{2}}{16 \\, t^{2}} - \\frac{1}{3 \\, {\\left(t^{3} + 3 \\, t^{2} + 3 \\, t + 1\\right)}^{2}} + \\frac{1}{3 \\, {\\left(t^{3} - 3 \\, t^{2} + 3 \\, t - 1\\right)}^{2}} - \\frac{4 \\, \\sqrt{3}}{{\\left(t^{3} + 3 \\, t^{2} + 3 \\, t + 1\\right)} {\\left(3 \\, t^{2} + 2 \\, t + 3\\right)}^{\\frac{3}{2}}} - \\frac{2 \\, \\sqrt{3}}{{\\left(t^{3} - 3 \\, t^{2} + 3 \\, t - 1\\right)} {\\left(3 \\, t^{2} + 2 \\, t + 3\\right)}^{\\frac{3}{2}}} - \\frac{2 \\, \\sqrt{3}}{{\\left(t^{3} + 3 \\, t^{2} + 3 \\, t + 1\\right)} {\\left(3 \\, t^{2} - 2 \\, t + 3\\right)}^{\\frac{3}{2}}} - \\frac{4 \\, \\sqrt{3}}{{\\left(t^{3} - 3 \\, t^{2} + 3 \\, t - 1\\right)} {\\left(3 \\, t^{2} - 2 \\, t + 3\\right)}^{\\frac{3}{2}}} + \\frac{83}{96 \\, t^{2}} - \\frac{90 \\, t}{{\\left(3 \\, t^{2} + 2 \\, t + 3\\right)}^{3}} - \\frac{90 \\, t}{{\\left(3 \\, t^{2} - 2 \\, t + 3\\right)}^{3}} - \\frac{144 \\, t}{{\\left(3 \\, t^{2} + 2 \\, t + 3\\right)}^{\\frac{3}{2}} {\\left(3 \\, t^{2} - 2 \\, t + 3\\right)}^{\\frac{3}{2}}} - \\frac{27}{{\\left(3 \\, t^{2} + 2 \\, t + 3\\right)}^{3}} + \\frac{27}{{\\left(3 \\, t^{2} - 2 \\, t + 3\\right)}^{3}}$"
      ],
      "text/plain": [
       "-1/3*t^2/(t^3 + 3*t^2 + 3*t + 1)^2 + 1/3*t^2/(t^3 - 3*t^2 + 3*t - 1)^2 - 4*sqrt(3)*t^2/((t^3 + 3*t^2 + 3*t + 1)*(3*t^2 + 2*t + 3)^(3/2)) - 2*sqrt(3)*t^2/((t^3 - 3*t^2 + 3*t - 1)*(3*t^2 + 2*t + 3)^(3/2)) - 2*sqrt(3)*t^2/((t^3 + 3*t^2 + 3*t + 1)*(3*t^2 - 2*t + 3)^(3/2)) - 4*sqrt(3)*t^2/((t^3 - 3*t^2 + 3*t - 1)*(3*t^2 - 2*t + 3)^(3/2)) + 1/16*sqrt(3)*sqrt(2)/t^2 - 2/3*t/(t^3 + 3*t^2 + 3*t + 1)^2 - 2/3*t/(t^3 - 3*t^2 + 3*t - 1)^2 - 8*sqrt(3)*t/((t^3 + 3*t^2 + 3*t + 1)*(3*t^2 + 2*t + 3)^(3/2)) + 4*sqrt(3)*t/((t^3 - 3*t^2 + 3*t - 1)*(3*t^2 + 2*t + 3)^(3/2)) - 4*sqrt(3)*t/((t^3 + 3*t^2 + 3*t + 1)*(3*t^2 - 2*t + 3)^(3/2)) + 8*sqrt(3)*t/((t^3 - 3*t^2 + 3*t - 1)*(3*t^2 - 2*t + 3)^(3/2)) - 27*t^2/(3*t^2 + 2*t + 3)^3 + 27*t^2/(3*t^2 - 2*t + 3)^3 + 1/8*sqrt(3)/t^2 + 9/16*sqrt(2)/t^2 - 1/3/(t^3 + 3*t^2 + 3*t + 1)^2 + 1/3/(t^3 - 3*t^2 + 3*t - 1)^2 - 4*sqrt(3)/((t^3 + 3*t^2 + 3*t + 1)*(3*t^2 + 2*t + 3)^(3/2)) - 2*sqrt(3)/((t^3 - 3*t^2 + 3*t - 1)*(3*t^2 + 2*t + 3)^(3/2)) - 2*sqrt(3)/((t^3 + 3*t^2 + 3*t + 1)*(3*t^2 - 2*t + 3)^(3/2)) - 4*sqrt(3)/((t^3 - 3*t^2 + 3*t - 1)*(3*t^2 - 2*t + 3)^(3/2)) + 83/96/t^2 - 90*t/(3*t^2 + 2*t + 3)^3 - 90*t/(3*t^2 - 2*t + 3)^3 - 144*t/((3*t^2 + 2*t + 3)^(3/2)*(3*t^2 - 2*t + 3)^(3/2)) - 27/(3*t^2 + 2*t + 3)^3 + 27/(3*t^2 - 2*t + 3)^3"
      ]
     },
     "metadata": {},
     "output_type": "display_data"
    }
   ],
   "source": [
    "γ0 = p1.coefficients()[0][0] ; show(γ0)"
   ]
  },
  {
   "cell_type": "markdown",
   "id": "30b2ad54",
   "metadata": {
    "pycharm": {
     "name": "#%% md\n"
    }
   },
   "source": [
    "##### Change of variables:  $v^2 = 3t^2 - 2t + 3$, $u^2=3t^2 + 2t + 3$ "
   ]
  },
  {
   "cell_type": "code",
   "execution_count": 15,
   "id": "a97f326c",
   "metadata": {
    "pycharm": {
     "name": "#%%\n"
    }
   },
   "outputs": [
    {
     "data": {
      "text/html": [
       "<html>\\(\\displaystyle 6 \\, \\sqrt{3} \\sqrt{2} t^{8} u^{6} v^{6} + 12 \\, \\sqrt{3} t^{8} u^{6} v^{6} + 54 \\, \\sqrt{2} t^{8} u^{6} v^{6} + 83 \\, t^{8} u^{6} v^{6} - 24 \\, \\sqrt{3} \\sqrt{2} t^{6} u^{6} v^{6} - 576 \\, \\sqrt{3} t^{9} u^{6} v^{3} - 576 \\, \\sqrt{3} t^{9} u^{3} v^{6} - 48 \\, \\sqrt{3} t^{6} u^{6} v^{6} - 216 \\, \\sqrt{2} t^{6} u^{6} v^{6} + 2592 \\, t^{12} u^{6} - 2592 \\, t^{12} v^{6} - 332 \\, t^{6} u^{6} v^{6} - 192 \\, \\sqrt{3} t^{8} u^{6} v^{3} + 192 \\, \\sqrt{3} t^{8} u^{3} v^{6} - 8640 \\, t^{11} u^{6} - 13824 \\, t^{11} u^{3} v^{3} - 8640 \\, t^{11} v^{6} + 36 \\, \\sqrt{3} \\sqrt{2} t^{4} u^{6} v^{6} + 256 \\, t^{5} u^{6} v^{6} + 1728 \\, \\sqrt{3} t^{7} u^{6} v^{3} + 1728 \\, \\sqrt{3} t^{7} u^{3} v^{6} + 72 \\, \\sqrt{3} t^{4} u^{6} v^{6} + 324 \\, \\sqrt{2} t^{4} u^{6} v^{6} - 7776 \\, t^{10} u^{6} + 7776 \\, t^{10} v^{6} + 498 \\, t^{4} u^{6} v^{6} + 576 \\, \\sqrt{3} t^{6} u^{6} v^{3} - 576 \\, \\sqrt{3} t^{6} u^{3} v^{6} + 34560 \\, t^{9} u^{6} + 55296 \\, t^{9} u^{3} v^{3} + 34560 \\, t^{9} v^{6} - 24 \\, \\sqrt{3} \\sqrt{2} t^{2} u^{6} v^{6} + 256 \\, t^{3} u^{6} v^{6} - 1728 \\, \\sqrt{3} t^{5} u^{6} v^{3} - 1728 \\, \\sqrt{3} t^{5} u^{3} v^{6} - 48 \\, \\sqrt{3} t^{2} u^{6} v^{6} - 216 \\, \\sqrt{2} t^{2} u^{6} v^{6} + 5184 \\, t^{8} u^{6} - 5184 \\, t^{8} v^{6} - 332 \\, t^{2} u^{6} v^{6} - 576 \\, \\sqrt{3} t^{4} u^{6} v^{3} + 576 \\, \\sqrt{3} t^{4} u^{3} v^{6} - 51840 \\, t^{7} u^{6} - 82944 \\, t^{7} u^{3} v^{3} - 51840 \\, t^{7} v^{6} + 6 \\, \\sqrt{3} \\sqrt{2} u^{6} v^{6} + 576 \\, \\sqrt{3} t^{3} u^{6} v^{3} + 576 \\, \\sqrt{3} t^{3} u^{3} v^{6} + 12 \\, \\sqrt{3} u^{6} v^{6} + 54 \\, \\sqrt{2} u^{6} v^{6} + 5184 \\, t^{6} u^{6} - 5184 \\, t^{6} v^{6} + 83 \\, u^{6} v^{6} + 192 \\, \\sqrt{3} t^{2} u^{6} v^{3} - 192 \\, \\sqrt{3} t^{2} u^{3} v^{6} + 34560 \\, t^{5} u^{6} + 55296 \\, t^{5} u^{3} v^{3} + 34560 \\, t^{5} v^{6} - 7776 \\, t^{4} u^{6} + 7776 \\, t^{4} v^{6} - 8640 \\, t^{3} u^{6} - 13824 \\, t^{3} u^{3} v^{3} - 8640 \\, t^{3} v^{6} + 2592 \\, t^{2} u^{6} - 2592 \\, t^{2} v^{6}\\)</html>"
      ],
      "text/latex": [
       "$\\displaystyle 6 \\, \\sqrt{3} \\sqrt{2} t^{8} u^{6} v^{6} + 12 \\, \\sqrt{3} t^{8} u^{6} v^{6} + 54 \\, \\sqrt{2} t^{8} u^{6} v^{6} + 83 \\, t^{8} u^{6} v^{6} - 24 \\, \\sqrt{3} \\sqrt{2} t^{6} u^{6} v^{6} - 576 \\, \\sqrt{3} t^{9} u^{6} v^{3} - 576 \\, \\sqrt{3} t^{9} u^{3} v^{6} - 48 \\, \\sqrt{3} t^{6} u^{6} v^{6} - 216 \\, \\sqrt{2} t^{6} u^{6} v^{6} + 2592 \\, t^{12} u^{6} - 2592 \\, t^{12} v^{6} - 332 \\, t^{6} u^{6} v^{6} - 192 \\, \\sqrt{3} t^{8} u^{6} v^{3} + 192 \\, \\sqrt{3} t^{8} u^{3} v^{6} - 8640 \\, t^{11} u^{6} - 13824 \\, t^{11} u^{3} v^{3} - 8640 \\, t^{11} v^{6} + 36 \\, \\sqrt{3} \\sqrt{2} t^{4} u^{6} v^{6} + 256 \\, t^{5} u^{6} v^{6} + 1728 \\, \\sqrt{3} t^{7} u^{6} v^{3} + 1728 \\, \\sqrt{3} t^{7} u^{3} v^{6} + 72 \\, \\sqrt{3} t^{4} u^{6} v^{6} + 324 \\, \\sqrt{2} t^{4} u^{6} v^{6} - 7776 \\, t^{10} u^{6} + 7776 \\, t^{10} v^{6} + 498 \\, t^{4} u^{6} v^{6} + 576 \\, \\sqrt{3} t^{6} u^{6} v^{3} - 576 \\, \\sqrt{3} t^{6} u^{3} v^{6} + 34560 \\, t^{9} u^{6} + 55296 \\, t^{9} u^{3} v^{3} + 34560 \\, t^{9} v^{6} - 24 \\, \\sqrt{3} \\sqrt{2} t^{2} u^{6} v^{6} + 256 \\, t^{3} u^{6} v^{6} - 1728 \\, \\sqrt{3} t^{5} u^{6} v^{3} - 1728 \\, \\sqrt{3} t^{5} u^{3} v^{6} - 48 \\, \\sqrt{3} t^{2} u^{6} v^{6} - 216 \\, \\sqrt{2} t^{2} u^{6} v^{6} + 5184 \\, t^{8} u^{6} - 5184 \\, t^{8} v^{6} - 332 \\, t^{2} u^{6} v^{6} - 576 \\, \\sqrt{3} t^{4} u^{6} v^{3} + 576 \\, \\sqrt{3} t^{4} u^{3} v^{6} - 51840 \\, t^{7} u^{6} - 82944 \\, t^{7} u^{3} v^{3} - 51840 \\, t^{7} v^{6} + 6 \\, \\sqrt{3} \\sqrt{2} u^{6} v^{6} + 576 \\, \\sqrt{3} t^{3} u^{6} v^{3} + 576 \\, \\sqrt{3} t^{3} u^{3} v^{6} + 12 \\, \\sqrt{3} u^{6} v^{6} + 54 \\, \\sqrt{2} u^{6} v^{6} + 5184 \\, t^{6} u^{6} - 5184 \\, t^{6} v^{6} + 83 \\, u^{6} v^{6} + 192 \\, \\sqrt{3} t^{2} u^{6} v^{3} - 192 \\, \\sqrt{3} t^{2} u^{3} v^{6} + 34560 \\, t^{5} u^{6} + 55296 \\, t^{5} u^{3} v^{3} + 34560 \\, t^{5} v^{6} - 7776 \\, t^{4} u^{6} + 7776 \\, t^{4} v^{6} - 8640 \\, t^{3} u^{6} - 13824 \\, t^{3} u^{3} v^{3} - 8640 \\, t^{3} v^{6} + 2592 \\, t^{2} u^{6} - 2592 \\, t^{2} v^{6}$"
      ],
      "text/plain": [
       "6*sqrt(3)*sqrt(2)*t^8*u^6*v^6 + 12*sqrt(3)*t^8*u^6*v^6 + 54*sqrt(2)*t^8*u^6*v^6 + 83*t^8*u^6*v^6 - 24*sqrt(3)*sqrt(2)*t^6*u^6*v^6 - 576*sqrt(3)*t^9*u^6*v^3 - 576*sqrt(3)*t^9*u^3*v^6 - 48*sqrt(3)*t^6*u^6*v^6 - 216*sqrt(2)*t^6*u^6*v^6 + 2592*t^12*u^6 - 2592*t^12*v^6 - 332*t^6*u^6*v^6 - 192*sqrt(3)*t^8*u^6*v^3 + 192*sqrt(3)*t^8*u^3*v^6 - 8640*t^11*u^6 - 13824*t^11*u^3*v^3 - 8640*t^11*v^6 + 36*sqrt(3)*sqrt(2)*t^4*u^6*v^6 + 256*t^5*u^6*v^6 + 1728*sqrt(3)*t^7*u^6*v^3 + 1728*sqrt(3)*t^7*u^3*v^6 + 72*sqrt(3)*t^4*u^6*v^6 + 324*sqrt(2)*t^4*u^6*v^6 - 7776*t^10*u^6 + 7776*t^10*v^6 + 498*t^4*u^6*v^6 + 576*sqrt(3)*t^6*u^6*v^3 - 576*sqrt(3)*t^6*u^3*v^6 + 34560*t^9*u^6 + 55296*t^9*u^3*v^3 + 34560*t^9*v^6 - 24*sqrt(3)*sqrt(2)*t^2*u^6*v^6 + 256*t^3*u^6*v^6 - 1728*sqrt(3)*t^5*u^6*v^3 - 1728*sqrt(3)*t^5*u^3*v^6 - 48*sqrt(3)*t^2*u^6*v^6 - 216*sqrt(2)*t^2*u^6*v^6 + 5184*t^8*u^6 - 5184*t^8*v^6 - 332*t^2*u^6*v^6 - 576*sqrt(3)*t^4*u^6*v^3 + 576*sqrt(3)*t^4*u^3*v^6 - 51840*t^7*u^6 - 82944*t^7*u^3*v^3 - 51840*t^7*v^6 + 6*sqrt(3)*sqrt(2)*u^6*v^6 + 576*sqrt(3)*t^3*u^6*v^3 + 576*sqrt(3)*t^3*u^3*v^6 + 12*sqrt(3)*u^6*v^6 + 54*sqrt(2)*u^6*v^6 + 5184*t^6*u^6 - 5184*t^6*v^6 + 83*u^6*v^6 + 192*sqrt(3)*t^2*u^6*v^3 - 192*sqrt(3)*t^2*u^3*v^6 + 34560*t^5*u^6 + 55296*t^5*u^3*v^3 + 34560*t^5*v^6 - 7776*t^4*u^6 + 7776*t^4*v^6 - 8640*t^3*u^6 - 13824*t^3*u^3*v^3 - 8640*t^3*v^6 + 2592*t^2*u^6 - 2592*t^2*v^6"
      ]
     },
     "metadata": {},
     "output_type": "display_data"
    }
   ],
   "source": [
    "γ0_uvt_numerator = γ0.subs({(3*t^2 - 2*t + 3):v^2}).subs({(3*t^2 + 2*t + 3):u^2}).factor().numerator(); show(γ0_uvt_numerator)"
   ]
  },
  {
   "cell_type": "markdown",
   "id": "ae5888d9",
   "metadata": {
    "pycharm": {
     "name": "#%% md\n"
    }
   },
   "source": [
    "##### Calculates the Möbius coefficient"
   ]
  },
  {
   "cell_type": "code",
   "execution_count": 16,
   "id": "5038cdfe",
   "metadata": {
    "pycharm": {
     "name": "#%%\n"
    }
   },
   "outputs": [],
   "source": [
    "coefficient_dict = polynomial_to_dict(γ0_uvt_numerator)"
   ]
  },
  {
   "cell_type": "code",
   "execution_count": 17,
   "id": "c8918d00",
   "metadata": {
    "pycharm": {
     "name": "#%%\n"
    }
   },
   "outputs": [],
   "source": [
    "variables = γ0_uvt_numerator.variables()\n",
    "total_degree  =  [γ0_uvt_numerator.degree(j) for j in variables]\n",
    "n_uplas = [\n",
    "    [i, j, k]\n",
    "    for i in range(total_degree[0] + 1)\n",
    "    for j in range(total_degree[1] + 1)\n",
    "    for k in range(total_degree[2] + 1)\n",
    "]"
   ]
  },
  {
   "cell_type": "code",
   "execution_count": 18,
   "id": "902e70c7",
   "metadata": {
    "pycharm": {
     "name": "#%%\n"
    }
   },
   "outputs": [],
   "source": [
    "## Creating the partition\n",
    "\n",
    "q1 = 3*t^2 + 2*t + 3\n",
    "q2 = 3*t^2 - 2*t + 3\n",
    "\n",
    "# Calculate the maximum and minimum values of u for interval with endpoints and  for t = 0 and t = 1.\n",
    "(u0, u1) = quadratic_extrema_on_interval(q1, (0, 1))\n",
    "(v0, v1) = quadratic_extrema_on_interval(q2, (0, 1))\n",
    "variable_ranges_0 = [(0, 1), (u0, u1), (v0, v1)]\n",
    "all_variable_ranges = [variable_ranges_0]"
   ]
  },
  {
   "cell_type": "code",
   "execution_count": 19,
   "id": "996a7b71-0bb6-4314-a59f-add335adce8b",
   "metadata": {},
   "outputs": [
    {
     "name": "stdout",
     "output_type": "stream",
     "text": [
      "Starting to calculate the signs of the Möbius coefficients for t in (0, 1)\n",
      "\n",
      "\n",
      "Iteration: 100, Elapsed time: 0.03 minutes\n",
      "Partial set of signs of the Möbius coefficients: {1}\n",
      "\n",
      "\n",
      "Iteration: 200, Elapsed time: 0.07 minutes\n",
      "Partial set of signs of the Möbius coefficients: {1}\n",
      "\n",
      "\n",
      "Iteration: 300, Elapsed time: 0.13 minutes\n",
      "Partial set of signs of the Möbius coefficients: {1}\n",
      "\n",
      "\n",
      "Iteration: 400, Elapsed time: 0.18 minutes\n",
      "Partial set of signs of the Möbius coefficients: {1}\n",
      "\n",
      "\n",
      "Iteration: 500, Elapsed time: 0.24 minutes\n",
      "Partial set of signs of the Möbius coefficients: {1}\n",
      "\n",
      "\n",
      "Iteration: 600, Elapsed time: 0.29 minutes\n",
      "Partial set of signs of the Möbius coefficients: {1}\n",
      "\n",
      "\n",
      "Final iteration: 636. Elapsed time: 0.30 minutes\n",
      "Set of signs of the Möbius coefficients for t in (0, 1): {1}.\n",
      "\n",
      "\n"
     ]
    }
   ],
   "source": [
    "# Determines the sign of Möbius coefficients for a given polynomial expression.\n",
    "moebius_sign(γ0_uvt_numerator, n_uplas, total_degree, all_variable_ranges, coefficient_dict)"
   ]
  },
  {
   "cell_type": "markdown",
   "id": "e3b036e6",
   "metadata": {
    "pycharm": {
     "name": "#%% md\n"
    }
   },
   "source": [
    "##### Limit at the extremes"
   ]
  },
  {
   "cell_type": "code",
   "execution_count": 19,
   "id": "de309aaa",
   "metadata": {
    "pycharm": {
     "name": "#%%\n"
    }
   },
   "outputs": [
    {
     "data": {
      "text/plain": [
       "(+Infinity, +Infinity)"
      ]
     },
     "execution_count": 19,
     "metadata": {},
     "output_type": "execute_result"
    }
   ],
   "source": [
    "limit(γ0, t=0, dir='+'), limit(γ0, t=1, dir='-')"
   ]
  },
  {
   "cell_type": "markdown",
   "id": "41826b06",
   "metadata": {
    "pycharm": {
     "name": "#%% md\n"
    }
   },
   "source": [
    "#### 4. $(C_1)_{11}(c(t),t)$ is positive for  $t$ in $(0,1)$."
   ]
  },
  {
   "cell_type": "markdown",
   "id": "149b237c-8154-4c9b-b484-304b4c1ae8a7",
   "metadata": {},
   "source": [
    "##### Change of variables:  $3t^2 - 2t + 3 =(3t^2 - 2t + 3)^{\\frac{2}{3}}u^{\\frac{2}{3}} ,\\,\\,\\,3t^2 + 2t + 3=(3t^2 + 2t + 3)^{\\frac{2}{3}}v^{\\frac{2}{3}}$ for $C_1$."
   ]
  },
  {
   "cell_type": "code",
   "execution_count": 20,
   "id": "56259bd9-5e4b-484b-afcb-c7ef9b7fb2a5",
   "metadata": {},
   "outputs": [
    {
     "data": {
      "text/html": [
       "<html>\\(\\displaystyle \\left(\\begin{array}{rr}\n",
       "24 \\, c - \\frac{1}{12} \\, \\sqrt{3} - \\frac{3}{8} \\, \\sqrt{2} - \\frac{3}{4} & 24 \\, c - \\frac{\\sqrt{3} t + \\sqrt{3}}{3 \\, {\\left(t^{3} + 3 \\, t^{2} + 3 \\, t + 1\\right)}} - \\frac{3 \\, {\\left(t + 3\\right)}}{{\\left(3 \\, t^{2} + 2 \\, t + 3\\right)} u} + \\frac{3 \\, {\\left(t - 3\\right)}}{{\\left(3 \\, t^{2} - 2 \\, t + 3\\right)} v} - \\frac{\\sqrt{3} t - \\sqrt{3}}{3 \\, {\\left(t - 1\\right)}^{3}} \\\\\n",
       "24 \\, c t - \\frac{\\sqrt{3} t + \\sqrt{3}}{3 \\, {\\left(t^{3} + 3 \\, t^{2} + 3 \\, t + 1\\right)}} - \\frac{3 \\, {\\left(3 \\, t + 1\\right)}}{{\\left(3 \\, t^{2} + 2 \\, t + 3\\right)} u} - \\frac{3 \\, {\\left(3 \\, t - 1\\right)}}{{\\left(3 \\, t^{2} - 2 \\, t + 3\\right)} v} + \\frac{\\sqrt{3} t - \\sqrt{3}}{3 \\, {\\left(t - 1\\right)}^{3}} & 24 \\, c t - \\frac{2 \\, \\sqrt{3} + 9 \\, \\sqrt{2} + 18}{24 \\, t^{2}}\n",
       "\\end{array}\\right)\\)</html>"
      ],
      "text/latex": [
       "$\\displaystyle \\left(\\begin{array}{rr}\n",
       "24 \\, c - \\frac{1}{12} \\, \\sqrt{3} - \\frac{3}{8} \\, \\sqrt{2} - \\frac{3}{4} & 24 \\, c - \\frac{\\sqrt{3} t + \\sqrt{3}}{3 \\, {\\left(t^{3} + 3 \\, t^{2} + 3 \\, t + 1\\right)}} - \\frac{3 \\, {\\left(t + 3\\right)}}{{\\left(3 \\, t^{2} + 2 \\, t + 3\\right)} u} + \\frac{3 \\, {\\left(t - 3\\right)}}{{\\left(3 \\, t^{2} - 2 \\, t + 3\\right)} v} - \\frac{\\sqrt{3} t - \\sqrt{3}}{3 \\, {\\left(t - 1\\right)}^{3}} \\\\\n",
       "24 \\, c t - \\frac{\\sqrt{3} t + \\sqrt{3}}{3 \\, {\\left(t^{3} + 3 \\, t^{2} + 3 \\, t + 1\\right)}} - \\frac{3 \\, {\\left(3 \\, t + 1\\right)}}{{\\left(3 \\, t^{2} + 2 \\, t + 3\\right)} u} - \\frac{3 \\, {\\left(3 \\, t - 1\\right)}}{{\\left(3 \\, t^{2} - 2 \\, t + 3\\right)} v} + \\frac{\\sqrt{3} t - \\sqrt{3}}{3 \\, {\\left(t - 1\\right)}^{3}} & 24 \\, c t - \\frac{2 \\, \\sqrt{3} + 9 \\, \\sqrt{2} + 18}{24 \\, t^{2}}\n",
       "\\end{array}\\right)$"
      ],
      "text/plain": [
       "[                                                                                                                                 24*c - 1/12*sqrt(3) - 3/8*sqrt(2) - 3/4       24*c - 1/3*(sqrt(3)*t + sqrt(3))/(t^3 + 3*t^2 + 3*t + 1) - 3*(t + 3)/((3*t^2 + 2*t + 3)*u) + 3*(t - 3)/((3*t^2 - 2*t + 3)*v) - 1/3*(sqrt(3)*t - sqrt(3))/(t - 1)^3]\n",
       "[24*c*t - 1/3*(sqrt(3)*t + sqrt(3))/(t^3 + 3*t^2 + 3*t + 1) - 3*(3*t + 1)/((3*t^2 + 2*t + 3)*u) - 3*(3*t - 1)/((3*t^2 - 2*t + 3)*v) + 1/3*(sqrt(3)*t - sqrt(3))/(t - 1)^3                                                                                                                           24*c*t - 1/24*(2*sqrt(3) + 9*sqrt(2) + 18)/t^2]"
      ]
     },
     "metadata": {},
     "output_type": "display_data"
    }
   ],
   "source": [
    "q1 = 3*t^2 + 2*t + 3\n",
    "q2 = 3*t^2 - 2*t + 3\n",
    "C1_tuv = C1.apply_map(lambda x: x.subs({q2:(q2^(2/3)*(v^(2/3)))}).subs({q1:(q1^(2/3)*(u^(2/3))) })); show(C1_tuv) \n"
   ]
  },
  {
   "cell_type": "code",
   "execution_count": 21,
   "id": "5d91e2ce-bc75-4043-9a49-bacbb669c5fe",
   "metadata": {},
   "outputs": [],
   "source": [
    "p1_tvu = C1_tuv.det()"
   ]
  },
  {
   "cell_type": "code",
   "execution_count": 22,
   "id": "e409083a-bfe6-46e2-ae34-84f8a8c003df",
   "metadata": {},
   "outputs": [
    {
     "data": {
      "text/html": [
       "<html>\\(\\displaystyle -\\frac{t^{2}}{3 \\, {\\left(t^{3} + 3 \\, t^{2} + 3 \\, t + 1\\right)}^{2}} + \\frac{t^{2}}{3 \\, {\\left(t^{3} - 3 \\, t^{2} + 3 \\, t - 1\\right)}^{2}} - \\frac{4 \\, \\sqrt{3} t^{2}}{{\\left(t^{3} + 3 \\, t^{2} + 3 \\, t + 1\\right)} {\\left(3 \\, t^{2} + 2 \\, t + 3\\right)} u} - \\frac{2 \\, \\sqrt{3} t^{2}}{{\\left(t^{3} - 3 \\, t^{2} + 3 \\, t - 1\\right)} {\\left(3 \\, t^{2} + 2 \\, t + 3\\right)} u} - \\frac{2 \\, \\sqrt{3} t^{2}}{{\\left(t^{3} + 3 \\, t^{2} + 3 \\, t + 1\\right)} {\\left(3 \\, t^{2} - 2 \\, t + 3\\right)} v} - \\frac{4 \\, \\sqrt{3} t^{2}}{{\\left(t^{3} - 3 \\, t^{2} + 3 \\, t - 1\\right)} {\\left(3 \\, t^{2} - 2 \\, t + 3\\right)} v} + \\frac{\\sqrt{3} \\sqrt{2}}{16 \\, t^{2}} - \\frac{2 \\, t}{3 \\, {\\left(t^{3} + 3 \\, t^{2} + 3 \\, t + 1\\right)}^{2}} - \\frac{2 \\, t}{3 \\, {\\left(t^{3} - 3 \\, t^{2} + 3 \\, t - 1\\right)}^{2}} + \\frac{\\sqrt{3}}{8 \\, t^{2}} + \\frac{9 \\, \\sqrt{2}}{16 \\, t^{2}} - \\frac{8 \\, \\sqrt{3} t}{{\\left(t^{3} + 3 \\, t^{2} + 3 \\, t + 1\\right)} {\\left(3 \\, t^{2} + 2 \\, t + 3\\right)} u} + \\frac{4 \\, \\sqrt{3} t}{{\\left(t^{3} - 3 \\, t^{2} + 3 \\, t - 1\\right)} {\\left(3 \\, t^{2} + 2 \\, t + 3\\right)} u} - \\frac{4 \\, \\sqrt{3} t}{{\\left(t^{3} + 3 \\, t^{2} + 3 \\, t + 1\\right)} {\\left(3 \\, t^{2} - 2 \\, t + 3\\right)} v} + \\frac{8 \\, \\sqrt{3} t}{{\\left(t^{3} - 3 \\, t^{2} + 3 \\, t - 1\\right)} {\\left(3 \\, t^{2} - 2 \\, t + 3\\right)} v} - \\frac{1}{3 \\, {\\left(t^{3} + 3 \\, t^{2} + 3 \\, t + 1\\right)}^{2}} + \\frac{1}{3 \\, {\\left(t^{3} - 3 \\, t^{2} + 3 \\, t - 1\\right)}^{2}} + \\frac{83}{96 \\, t^{2}} - \\frac{27 \\, t^{2}}{{\\left(3 \\, t^{2} + 2 \\, t + 3\\right)}^{2} u^{2}} + \\frac{27 \\, t^{2}}{{\\left(3 \\, t^{2} - 2 \\, t + 3\\right)}^{2} v^{2}} - \\frac{4 \\, \\sqrt{3}}{{\\left(t^{3} + 3 \\, t^{2} + 3 \\, t + 1\\right)} {\\left(3 \\, t^{2} + 2 \\, t + 3\\right)} u} - \\frac{2 \\, \\sqrt{3}}{{\\left(t^{3} - 3 \\, t^{2} + 3 \\, t - 1\\right)} {\\left(3 \\, t^{2} + 2 \\, t + 3\\right)} u} - \\frac{2 \\, \\sqrt{3}}{{\\left(t^{3} + 3 \\, t^{2} + 3 \\, t + 1\\right)} {\\left(3 \\, t^{2} - 2 \\, t + 3\\right)} v} - \\frac{4 \\, \\sqrt{3}}{{\\left(t^{3} - 3 \\, t^{2} + 3 \\, t - 1\\right)} {\\left(3 \\, t^{2} - 2 \\, t + 3\\right)} v} - \\frac{90 \\, t}{{\\left(3 \\, t^{2} + 2 \\, t + 3\\right)}^{2} u^{2}} - \\frac{90 \\, t}{{\\left(3 \\, t^{2} - 2 \\, t + 3\\right)}^{2} v^{2}} - \\frac{144 \\, t}{{\\left(3 \\, t^{2} + 2 \\, t + 3\\right)} {\\left(3 \\, t^{2} - 2 \\, t + 3\\right)} u v} - \\frac{27}{{\\left(3 \\, t^{2} + 2 \\, t + 3\\right)}^{2} u^{2}} + \\frac{27}{{\\left(3 \\, t^{2} - 2 \\, t + 3\\right)}^{2} v^{2}}\\)</html>"
      ],
      "text/latex": [
       "$\\displaystyle -\\frac{t^{2}}{3 \\, {\\left(t^{3} + 3 \\, t^{2} + 3 \\, t + 1\\right)}^{2}} + \\frac{t^{2}}{3 \\, {\\left(t^{3} - 3 \\, t^{2} + 3 \\, t - 1\\right)}^{2}} - \\frac{4 \\, \\sqrt{3} t^{2}}{{\\left(t^{3} + 3 \\, t^{2} + 3 \\, t + 1\\right)} {\\left(3 \\, t^{2} + 2 \\, t + 3\\right)} u} - \\frac{2 \\, \\sqrt{3} t^{2}}{{\\left(t^{3} - 3 \\, t^{2} + 3 \\, t - 1\\right)} {\\left(3 \\, t^{2} + 2 \\, t + 3\\right)} u} - \\frac{2 \\, \\sqrt{3} t^{2}}{{\\left(t^{3} + 3 \\, t^{2} + 3 \\, t + 1\\right)} {\\left(3 \\, t^{2} - 2 \\, t + 3\\right)} v} - \\frac{4 \\, \\sqrt{3} t^{2}}{{\\left(t^{3} - 3 \\, t^{2} + 3 \\, t - 1\\right)} {\\left(3 \\, t^{2} - 2 \\, t + 3\\right)} v} + \\frac{\\sqrt{3} \\sqrt{2}}{16 \\, t^{2}} - \\frac{2 \\, t}{3 \\, {\\left(t^{3} + 3 \\, t^{2} + 3 \\, t + 1\\right)}^{2}} - \\frac{2 \\, t}{3 \\, {\\left(t^{3} - 3 \\, t^{2} + 3 \\, t - 1\\right)}^{2}} + \\frac{\\sqrt{3}}{8 \\, t^{2}} + \\frac{9 \\, \\sqrt{2}}{16 \\, t^{2}} - \\frac{8 \\, \\sqrt{3} t}{{\\left(t^{3} + 3 \\, t^{2} + 3 \\, t + 1\\right)} {\\left(3 \\, t^{2} + 2 \\, t + 3\\right)} u} + \\frac{4 \\, \\sqrt{3} t}{{\\left(t^{3} - 3 \\, t^{2} + 3 \\, t - 1\\right)} {\\left(3 \\, t^{2} + 2 \\, t + 3\\right)} u} - \\frac{4 \\, \\sqrt{3} t}{{\\left(t^{3} + 3 \\, t^{2} + 3 \\, t + 1\\right)} {\\left(3 \\, t^{2} - 2 \\, t + 3\\right)} v} + \\frac{8 \\, \\sqrt{3} t}{{\\left(t^{3} - 3 \\, t^{2} + 3 \\, t - 1\\right)} {\\left(3 \\, t^{2} - 2 \\, t + 3\\right)} v} - \\frac{1}{3 \\, {\\left(t^{3} + 3 \\, t^{2} + 3 \\, t + 1\\right)}^{2}} + \\frac{1}{3 \\, {\\left(t^{3} - 3 \\, t^{2} + 3 \\, t - 1\\right)}^{2}} + \\frac{83}{96 \\, t^{2}} - \\frac{27 \\, t^{2}}{{\\left(3 \\, t^{2} + 2 \\, t + 3\\right)}^{2} u^{2}} + \\frac{27 \\, t^{2}}{{\\left(3 \\, t^{2} - 2 \\, t + 3\\right)}^{2} v^{2}} - \\frac{4 \\, \\sqrt{3}}{{\\left(t^{3} + 3 \\, t^{2} + 3 \\, t + 1\\right)} {\\left(3 \\, t^{2} + 2 \\, t + 3\\right)} u} - \\frac{2 \\, \\sqrt{3}}{{\\left(t^{3} - 3 \\, t^{2} + 3 \\, t - 1\\right)} {\\left(3 \\, t^{2} + 2 \\, t + 3\\right)} u} - \\frac{2 \\, \\sqrt{3}}{{\\left(t^{3} + 3 \\, t^{2} + 3 \\, t + 1\\right)} {\\left(3 \\, t^{2} - 2 \\, t + 3\\right)} v} - \\frac{4 \\, \\sqrt{3}}{{\\left(t^{3} - 3 \\, t^{2} + 3 \\, t - 1\\right)} {\\left(3 \\, t^{2} - 2 \\, t + 3\\right)} v} - \\frac{90 \\, t}{{\\left(3 \\, t^{2} + 2 \\, t + 3\\right)}^{2} u^{2}} - \\frac{90 \\, t}{{\\left(3 \\, t^{2} - 2 \\, t + 3\\right)}^{2} v^{2}} - \\frac{144 \\, t}{{\\left(3 \\, t^{2} + 2 \\, t + 3\\right)} {\\left(3 \\, t^{2} - 2 \\, t + 3\\right)} u v} - \\frac{27}{{\\left(3 \\, t^{2} + 2 \\, t + 3\\right)}^{2} u^{2}} + \\frac{27}{{\\left(3 \\, t^{2} - 2 \\, t + 3\\right)}^{2} v^{2}}$"
      ],
      "text/plain": [
       "-1/3*t^2/(t^3 + 3*t^2 + 3*t + 1)^2 + 1/3*t^2/(t^3 - 3*t^2 + 3*t - 1)^2 - 4*sqrt(3)*t^2/((t^3 + 3*t^2 + 3*t + 1)*(3*t^2 + 2*t + 3)*u) - 2*sqrt(3)*t^2/((t^3 - 3*t^2 + 3*t - 1)*(3*t^2 + 2*t + 3)*u) - 2*sqrt(3)*t^2/((t^3 + 3*t^2 + 3*t + 1)*(3*t^2 - 2*t + 3)*v) - 4*sqrt(3)*t^2/((t^3 - 3*t^2 + 3*t - 1)*(3*t^2 - 2*t + 3)*v) + 1/16*sqrt(3)*sqrt(2)/t^2 - 2/3*t/(t^3 + 3*t^2 + 3*t + 1)^2 - 2/3*t/(t^3 - 3*t^2 + 3*t - 1)^2 + 1/8*sqrt(3)/t^2 + 9/16*sqrt(2)/t^2 - 8*sqrt(3)*t/((t^3 + 3*t^2 + 3*t + 1)*(3*t^2 + 2*t + 3)*u) + 4*sqrt(3)*t/((t^3 - 3*t^2 + 3*t - 1)*(3*t^2 + 2*t + 3)*u) - 4*sqrt(3)*t/((t^3 + 3*t^2 + 3*t + 1)*(3*t^2 - 2*t + 3)*v) + 8*sqrt(3)*t/((t^3 - 3*t^2 + 3*t - 1)*(3*t^2 - 2*t + 3)*v) - 1/3/(t^3 + 3*t^2 + 3*t + 1)^2 + 1/3/(t^3 - 3*t^2 + 3*t - 1)^2 + 83/96/t^2 - 27*t^2/((3*t^2 + 2*t + 3)^2*u^2) + 27*t^2/((3*t^2 - 2*t + 3)^2*v^2) - 4*sqrt(3)/((t^3 + 3*t^2 + 3*t + 1)*(3*t^2 + 2*t + 3)*u) - 2*sqrt(3)/((t^3 - 3*t^2 + 3*t - 1)*(3*t^2 + 2*t + 3)*u) - 2*sqrt(3)/((t^3 + 3*t^2 + 3*t + 1)*(3*t^2 - 2*t + 3)*v) - 4*sqrt(3)/((t^3 - 3*t^2 + 3*t - 1)*(3*t^2 - 2*t + 3)*v) - 90*t/((3*t^2 + 2*t + 3)^2*u^2) - 90*t/((3*t^2 - 2*t + 3)^2*v^2) - 144*t/((3*t^2 + 2*t + 3)*(3*t^2 - 2*t + 3)*u*v) - 27/((3*t^2 + 2*t + 3)^2*u^2) + 27/((3*t^2 - 2*t + 3)^2*v^2)"
      ]
     },
     "metadata": {},
     "output_type": "display_data"
    }
   ],
   "source": [
    "γ0_tuv = p1_tvu.coefficients()[0][0] ; show(γ0_tuv)"
   ]
  },
  {
   "cell_type": "code",
   "execution_count": 23,
   "id": "1bbb6457-1d06-43eb-b55b-6df887da953c",
   "metadata": {},
   "outputs": [
    {
     "data": {
      "text/html": [
       "<html>\\(\\displaystyle -2 \\, \\sqrt{3} t - 9 \\, \\sqrt{2} t + \\frac{8 \\, \\sqrt{3} t^{2}}{t^{3} + 3 \\, t^{2} + 3 \\, t + 1} + \\frac{8 \\, \\sqrt{3} t^{2}}{t^{3} - 3 \\, t^{2} + 3 \\, t - 1} - 18 \\, t + \\frac{16 \\, \\sqrt{3} t}{t^{3} + 3 \\, t^{2} + 3 \\, t + 1} - \\frac{16 \\, \\sqrt{3} t}{t^{3} - 3 \\, t^{2} + 3 \\, t - 1} + \\frac{72 \\, t^{2}}{{\\left(3 \\, t^{2} + 2 \\, t + 3\\right)} u} - \\frac{72 \\, t^{2}}{{\\left(3 \\, t^{2} - 2 \\, t + 3\\right)} v} + \\frac{8 \\, \\sqrt{3}}{t^{3} + 3 \\, t^{2} + 3 \\, t + 1} + \\frac{8 \\, \\sqrt{3}}{t^{3} - 3 \\, t^{2} + 3 \\, t - 1} + \\frac{432 \\, t}{{\\left(3 \\, t^{2} + 2 \\, t + 3\\right)} u} + \\frac{432 \\, t}{{\\left(3 \\, t^{2} - 2 \\, t + 3\\right)} v} - \\frac{2 \\, \\sqrt{3}}{t^{2}} - \\frac{9 \\, \\sqrt{2}}{t^{2}} - \\frac{18}{t^{2}} + \\frac{72}{{\\left(3 \\, t^{2} + 2 \\, t + 3\\right)} u} - \\frac{72}{{\\left(3 \\, t^{2} - 2 \\, t + 3\\right)} v}\\)</html>"
      ],
      "text/latex": [
       "$\\displaystyle -2 \\, \\sqrt{3} t - 9 \\, \\sqrt{2} t + \\frac{8 \\, \\sqrt{3} t^{2}}{t^{3} + 3 \\, t^{2} + 3 \\, t + 1} + \\frac{8 \\, \\sqrt{3} t^{2}}{t^{3} - 3 \\, t^{2} + 3 \\, t - 1} - 18 \\, t + \\frac{16 \\, \\sqrt{3} t}{t^{3} + 3 \\, t^{2} + 3 \\, t + 1} - \\frac{16 \\, \\sqrt{3} t}{t^{3} - 3 \\, t^{2} + 3 \\, t - 1} + \\frac{72 \\, t^{2}}{{\\left(3 \\, t^{2} + 2 \\, t + 3\\right)} u} - \\frac{72 \\, t^{2}}{{\\left(3 \\, t^{2} - 2 \\, t + 3\\right)} v} + \\frac{8 \\, \\sqrt{3}}{t^{3} + 3 \\, t^{2} + 3 \\, t + 1} + \\frac{8 \\, \\sqrt{3}}{t^{3} - 3 \\, t^{2} + 3 \\, t - 1} + \\frac{432 \\, t}{{\\left(3 \\, t^{2} + 2 \\, t + 3\\right)} u} + \\frac{432 \\, t}{{\\left(3 \\, t^{2} - 2 \\, t + 3\\right)} v} - \\frac{2 \\, \\sqrt{3}}{t^{2}} - \\frac{9 \\, \\sqrt{2}}{t^{2}} - \\frac{18}{t^{2}} + \\frac{72}{{\\left(3 \\, t^{2} + 2 \\, t + 3\\right)} u} - \\frac{72}{{\\left(3 \\, t^{2} - 2 \\, t + 3\\right)} v}$"
      ],
      "text/plain": [
       "-2*sqrt(3)*t - 9*sqrt(2)*t + 8*sqrt(3)*t^2/(t^3 + 3*t^2 + 3*t + 1) + 8*sqrt(3)*t^2/(t^3 - 3*t^2 + 3*t - 1) - 18*t + 16*sqrt(3)*t/(t^3 + 3*t^2 + 3*t + 1) - 16*sqrt(3)*t/(t^3 - 3*t^2 + 3*t - 1) + 72*t^2/((3*t^2 + 2*t + 3)*u) - 72*t^2/((3*t^2 - 2*t + 3)*v) + 8*sqrt(3)/(t^3 + 3*t^2 + 3*t + 1) + 8*sqrt(3)/(t^3 - 3*t^2 + 3*t - 1) + 432*t/((3*t^2 + 2*t + 3)*u) + 432*t/((3*t^2 - 2*t + 3)*v) - 2*sqrt(3)/t^2 - 9*sqrt(2)/t^2 - 18/t^2 + 72/((3*t^2 + 2*t + 3)*u) - 72/((3*t^2 - 2*t + 3)*v)"
      ]
     },
     "metadata": {},
     "output_type": "display_data"
    }
   ],
   "source": [
    "γ1_tuv = p1_tvu.coefficients()[1][0]; show(γ1_tuv)"
   ]
  },
  {
   "cell_type": "code",
   "execution_count": 24,
   "id": "0003f840",
   "metadata": {
    "pycharm": {
     "name": "#%%\n"
    }
   },
   "outputs": [],
   "source": [
    "C11 = C1[0,0].subs(c = -γ0_tuv/γ1_tuv)\n",
    "C11_uvt_numerator = C11.numerator().simplify_real()"
   ]
  },
  {
   "cell_type": "code",
   "execution_count": 25,
   "id": "7bfa78f4",
   "metadata": {
    "pycharm": {
     "name": "#%%\n"
    }
   },
   "outputs": [
    {
     "data": {
      "text/html": [
       "<html>\\(\\displaystyle -2916 \\, \\sqrt{3} \\sqrt{2} t^{19} u^{2} v^{2} - 5832 \\, \\sqrt{3} t^{19} u^{2} v^{2} - 26244 \\, \\sqrt{2} t^{19} u^{2} v^{2} - 40338 \\, t^{19} u^{2} v^{2} + 14256 \\, \\sqrt{3} \\sqrt{2} t^{17} u^{2} v^{2} - 3888 \\, \\sqrt{3} t^{18} u^{2} v - 17496 \\, \\sqrt{2} t^{18} u^{2} v + 3888 \\, \\sqrt{3} t^{18} u v^{2} + 17496 \\, \\sqrt{2} t^{18} u v^{2} + 28512 \\, \\sqrt{3} t^{17} u^{2} v^{2} + 23328 \\, \\sqrt{2} t^{17} u^{2} v^{2} - 34992 \\, t^{18} u^{2} v + 34992 \\, t^{18} u v^{2} + 43632 \\, t^{17} u^{2} v^{2} + 20736 \\, \\sqrt{3} t^{17} u^{2} v + 93312 \\, \\sqrt{2} t^{17} u^{2} v + 20736 \\, \\sqrt{3} t^{17} u v^{2} + 93312 \\, \\sqrt{2} t^{17} u v^{2} + 186624 \\, t^{17} u^{2} v + 186624 \\, t^{17} u v^{2} + 7200 \\, \\sqrt{3} \\sqrt{2} t^{15} u^{2} v^{2} + 17280 \\, \\sqrt{3} t^{16} u^{2} v + 77760 \\, \\sqrt{2} t^{16} u^{2} v - 17280 \\, \\sqrt{3} t^{16} u v^{2} - 77760 \\, \\sqrt{2} t^{16} u v^{2} + 14400 \\, \\sqrt{3} t^{15} u^{2} v^{2} + 53136 \\, \\sqrt{2} t^{15} u^{2} v^{2} + 155520 \\, t^{16} u^{2} v - 155520 \\, t^{16} u v^{2} + 82536 \\, t^{15} u^{2} v^{2} - 123264 \\, \\sqrt{3} t^{15} u^{2} v - 134784 \\, \\sqrt{2} t^{15} u^{2} v - 123264 \\, \\sqrt{3} t^{15} u v^{2} - 134784 \\, \\sqrt{2} t^{15} u v^{2} + 139968 \\, t^{16} u^{2} - 269568 \\, t^{15} u^{2} v - 139968 \\, t^{16} v^{2} - 269568 \\, t^{15} u v^{2} - 22608 \\, \\sqrt{3} \\sqrt{2} t^{13} u^{2} v^{2} - 119232 \\, \\sqrt{3} t^{14} u^{2} v - 116640 \\, \\sqrt{2} t^{14} u^{2} v + 119232 \\, \\sqrt{3} t^{14} u v^{2} + 116640 \\, \\sqrt{2} t^{14} u v^{2} - 45216 \\, \\sqrt{3} t^{13} u^{2} v^{2} - 2592 \\, \\sqrt{2} t^{13} u^{2} v^{2} - 279936 \\, t^{15} u^{2} - 746496 \\, t^{15} u v - 233280 \\, t^{14} u^{2} v - 279936 \\, t^{15} v^{2} + 233280 \\, t^{14} u v^{2} + 105552 \\, t^{13} u^{2} v^{2} - 13824 \\, \\sqrt{3} t^{13} u^{2} v - 155520 \\, \\sqrt{2} t^{13} u^{2} v - 13824 \\, \\sqrt{3} t^{13} u v^{2} - 155520 \\, \\sqrt{2} t^{13} u v^{2} - 699840 \\, t^{14} u^{2} - 311040 \\, t^{13} u^{2} v + 699840 \\, t^{14} v^{2} - 311040 \\, t^{13} u v^{2} - 31752 \\, \\sqrt{3} \\sqrt{2} t^{11} u^{2} v^{2} + 114048 \\, \\sqrt{3} t^{12} u^{2} v + 46656 \\, \\sqrt{2} t^{12} u^{2} v - 114048 \\, \\sqrt{3} t^{12} u v^{2} - 46656 \\, \\sqrt{2} t^{12} u v^{2} - 63504 \\, \\sqrt{3} t^{11} u^{2} v^{2} - 95256 \\, \\sqrt{2} t^{11} u^{2} v^{2} + 352512 \\, t^{13} u^{2} + 1824768 \\, t^{13} u v + 93312 \\, t^{12} u^{2} v + 352512 \\, t^{13} v^{2} - 93312 \\, t^{12} u v^{2} + 350964 \\, t^{11} u^{2} v^{2} + 270720 \\, \\sqrt{3} t^{11} u^{2} v + 196992 \\, \\sqrt{2} t^{11} u^{2} v + 270720 \\, \\sqrt{3} t^{11} u v^{2} + 196992 \\, \\sqrt{2} t^{11} u v^{2} + 1259712 \\, t^{12} u^{2} + 393984 \\, t^{11} u^{2} v - 1259712 \\, t^{12} v^{2} + 393984 \\, t^{11} u v^{2} + 20880 \\, \\sqrt{3} \\sqrt{2} t^{9} u^{2} v^{2} + 111456 \\, \\sqrt{3} t^{10} u^{2} v + 19440 \\, \\sqrt{2} t^{10} u^{2} v - 111456 \\, \\sqrt{3} t^{10} u v^{2} - 19440 \\, \\sqrt{2} t^{10} u v^{2} + 41760 \\, \\sqrt{3} t^{9} u^{2} v^{2} - 2592 \\, \\sqrt{2} t^{9} u^{2} v^{2} + 1109376 \\, t^{11} u^{2} - 580608 \\, t^{11} u v + 38880 \\, t^{10} u^{2} v + 1109376 \\, t^{11} v^{2} - 38880 \\, t^{10} u v^{2} + 947088 \\, t^{9} u^{2} v^{2} + 57600 \\, \\sqrt{3} t^{9} u^{2} v + 196992 \\, \\sqrt{2} t^{9} u^{2} v + 57600 \\, \\sqrt{3} t^{9} u v^{2} + 196992 \\, \\sqrt{2} t^{9} u v^{2} - 699840 \\, t^{10} u^{2} + 393984 \\, t^{9} u^{2} v + 699840 \\, t^{10} v^{2} + 393984 \\, t^{9} u v^{2} + 28224 \\, \\sqrt{3} \\sqrt{2} t^{7} u^{2} v^{2} - 31104 \\, \\sqrt{3} t^{8} u^{2} v + 46656 \\, \\sqrt{2} t^{8} u^{2} v + 31104 \\, \\sqrt{3} t^{8} u v^{2} - 46656 \\, \\sqrt{2} t^{8} u v^{2} + 56448 \\, \\sqrt{3} t^{7} u^{2} v^{2} + 53136 \\, \\sqrt{2} t^{7} u^{2} v^{2} - 2363904 \\, t^{9} u^{2} - 995328 \\, t^{9} u v + 93312 \\, t^{8} u^{2} v - 2363904 \\, t^{9} v^{2} - 93312 \\, t^{8} u v^{2} + 1033512 \\, t^{7} u^{2} v^{2} - 245376 \\, \\sqrt{3} t^{7} u^{2} v - 155520 \\, \\sqrt{2} t^{7} u^{2} v - 245376 \\, \\sqrt{3} t^{7} u v^{2} - 155520 \\, \\sqrt{2} t^{7} u v^{2} - 699840 \\, t^{8} u^{2} - 311040 \\, t^{7} u^{2} v + 699840 \\, t^{8} v^{2} - 311040 \\, t^{7} u v^{2} + 1296 \\, \\sqrt{3} \\sqrt{2} t^{5} u^{2} v^{2} - 181440 \\, \\sqrt{3} t^{6} u^{2} v - 116640 \\, \\sqrt{2} t^{6} u^{2} v + 181440 \\, \\sqrt{3} t^{6} u v^{2} + 116640 \\, \\sqrt{2} t^{6} u v^{2} + 2592 \\, \\sqrt{3} t^{5} u^{2} v^{2} + 23328 \\, \\sqrt{2} t^{5} u^{2} v^{2} + 1109376 \\, t^{7} u^{2} - 580608 \\, t^{7} u v - 233280 \\, t^{6} u^{2} v + 1109376 \\, t^{7} v^{2} + 233280 \\, t^{6} u v^{2} + 546480 \\, t^{5} u^{2} v^{2} - 101376 \\, \\sqrt{3} t^{5} u^{2} v - 134784 \\, \\sqrt{2} t^{5} u^{2} v - 101376 \\, \\sqrt{3} t^{5} u v^{2} - 134784 \\, \\sqrt{2} t^{5} u v^{2} + 1259712 \\, t^{6} u^{2} - 269568 \\, t^{5} u^{2} v - 1259712 \\, t^{6} v^{2} - 269568 \\, t^{5} u v^{2} - 14580 \\, \\sqrt{3} \\sqrt{2} t^{3} u^{2} v^{2} + 65664 \\, \\sqrt{3} t^{4} u^{2} v + 77760 \\, \\sqrt{2} t^{4} u^{2} v - 65664 \\, \\sqrt{3} t^{4} u v^{2} - 77760 \\, \\sqrt{2} t^{4} u v^{2} - 29160 \\, \\sqrt{3} t^{3} u^{2} v^{2} - 26244 \\, \\sqrt{2} t^{3} u^{2} v^{2} + 352512 \\, t^{5} u^{2} + 1824768 \\, t^{5} u v + 155520 \\, t^{4} u^{2} v + 352512 \\, t^{5} v^{2} - 155520 \\, t^{4} u v^{2} + 76302 \\, t^{3} u^{2} v^{2} + 134784 \\, \\sqrt{3} t^{3} u^{2} v + 93312 \\, \\sqrt{2} t^{3} u^{2} v + 134784 \\, \\sqrt{3} t^{3} u v^{2} + 93312 \\, \\sqrt{2} t^{3} u v^{2} - 699840 \\, t^{4} u^{2} + 186624 \\, t^{3} u^{2} v + 699840 \\, t^{4} v^{2} + 186624 \\, t^{3} u v^{2} + 27216 \\, \\sqrt{3} t^{2} u^{2} v - 17496 \\, \\sqrt{2} t^{2} u^{2} v - 27216 \\, \\sqrt{3} t^{2} u v^{2} + 17496 \\, \\sqrt{2} t^{2} u v^{2} - 279936 \\, t^{3} u^{2} - 746496 \\, t^{3} u v - 34992 \\, t^{2} u^{2} v - 279936 \\, t^{3} v^{2} + 34992 \\, t^{2} u v^{2} + 139968 \\, t^{2} u^{2} - 139968 \\, t^{2} v^{2}\\)</html>"
      ],
      "text/latex": [
       "$\\displaystyle -2916 \\, \\sqrt{3} \\sqrt{2} t^{19} u^{2} v^{2} - 5832 \\, \\sqrt{3} t^{19} u^{2} v^{2} - 26244 \\, \\sqrt{2} t^{19} u^{2} v^{2} - 40338 \\, t^{19} u^{2} v^{2} + 14256 \\, \\sqrt{3} \\sqrt{2} t^{17} u^{2} v^{2} - 3888 \\, \\sqrt{3} t^{18} u^{2} v - 17496 \\, \\sqrt{2} t^{18} u^{2} v + 3888 \\, \\sqrt{3} t^{18} u v^{2} + 17496 \\, \\sqrt{2} t^{18} u v^{2} + 28512 \\, \\sqrt{3} t^{17} u^{2} v^{2} + 23328 \\, \\sqrt{2} t^{17} u^{2} v^{2} - 34992 \\, t^{18} u^{2} v + 34992 \\, t^{18} u v^{2} + 43632 \\, t^{17} u^{2} v^{2} + 20736 \\, \\sqrt{3} t^{17} u^{2} v + 93312 \\, \\sqrt{2} t^{17} u^{2} v + 20736 \\, \\sqrt{3} t^{17} u v^{2} + 93312 \\, \\sqrt{2} t^{17} u v^{2} + 186624 \\, t^{17} u^{2} v + 186624 \\, t^{17} u v^{2} + 7200 \\, \\sqrt{3} \\sqrt{2} t^{15} u^{2} v^{2} + 17280 \\, \\sqrt{3} t^{16} u^{2} v + 77760 \\, \\sqrt{2} t^{16} u^{2} v - 17280 \\, \\sqrt{3} t^{16} u v^{2} - 77760 \\, \\sqrt{2} t^{16} u v^{2} + 14400 \\, \\sqrt{3} t^{15} u^{2} v^{2} + 53136 \\, \\sqrt{2} t^{15} u^{2} v^{2} + 155520 \\, t^{16} u^{2} v - 155520 \\, t^{16} u v^{2} + 82536 \\, t^{15} u^{2} v^{2} - 123264 \\, \\sqrt{3} t^{15} u^{2} v - 134784 \\, \\sqrt{2} t^{15} u^{2} v - 123264 \\, \\sqrt{3} t^{15} u v^{2} - 134784 \\, \\sqrt{2} t^{15} u v^{2} + 139968 \\, t^{16} u^{2} - 269568 \\, t^{15} u^{2} v - 139968 \\, t^{16} v^{2} - 269568 \\, t^{15} u v^{2} - 22608 \\, \\sqrt{3} \\sqrt{2} t^{13} u^{2} v^{2} - 119232 \\, \\sqrt{3} t^{14} u^{2} v - 116640 \\, \\sqrt{2} t^{14} u^{2} v + 119232 \\, \\sqrt{3} t^{14} u v^{2} + 116640 \\, \\sqrt{2} t^{14} u v^{2} - 45216 \\, \\sqrt{3} t^{13} u^{2} v^{2} - 2592 \\, \\sqrt{2} t^{13} u^{2} v^{2} - 279936 \\, t^{15} u^{2} - 746496 \\, t^{15} u v - 233280 \\, t^{14} u^{2} v - 279936 \\, t^{15} v^{2} + 233280 \\, t^{14} u v^{2} + 105552 \\, t^{13} u^{2} v^{2} - 13824 \\, \\sqrt{3} t^{13} u^{2} v - 155520 \\, \\sqrt{2} t^{13} u^{2} v - 13824 \\, \\sqrt{3} t^{13} u v^{2} - 155520 \\, \\sqrt{2} t^{13} u v^{2} - 699840 \\, t^{14} u^{2} - 311040 \\, t^{13} u^{2} v + 699840 \\, t^{14} v^{2} - 311040 \\, t^{13} u v^{2} - 31752 \\, \\sqrt{3} \\sqrt{2} t^{11} u^{2} v^{2} + 114048 \\, \\sqrt{3} t^{12} u^{2} v + 46656 \\, \\sqrt{2} t^{12} u^{2} v - 114048 \\, \\sqrt{3} t^{12} u v^{2} - 46656 \\, \\sqrt{2} t^{12} u v^{2} - 63504 \\, \\sqrt{3} t^{11} u^{2} v^{2} - 95256 \\, \\sqrt{2} t^{11} u^{2} v^{2} + 352512 \\, t^{13} u^{2} + 1824768 \\, t^{13} u v + 93312 \\, t^{12} u^{2} v + 352512 \\, t^{13} v^{2} - 93312 \\, t^{12} u v^{2} + 350964 \\, t^{11} u^{2} v^{2} + 270720 \\, \\sqrt{3} t^{11} u^{2} v + 196992 \\, \\sqrt{2} t^{11} u^{2} v + 270720 \\, \\sqrt{3} t^{11} u v^{2} + 196992 \\, \\sqrt{2} t^{11} u v^{2} + 1259712 \\, t^{12} u^{2} + 393984 \\, t^{11} u^{2} v - 1259712 \\, t^{12} v^{2} + 393984 \\, t^{11} u v^{2} + 20880 \\, \\sqrt{3} \\sqrt{2} t^{9} u^{2} v^{2} + 111456 \\, \\sqrt{3} t^{10} u^{2} v + 19440 \\, \\sqrt{2} t^{10} u^{2} v - 111456 \\, \\sqrt{3} t^{10} u v^{2} - 19440 \\, \\sqrt{2} t^{10} u v^{2} + 41760 \\, \\sqrt{3} t^{9} u^{2} v^{2} - 2592 \\, \\sqrt{2} t^{9} u^{2} v^{2} + 1109376 \\, t^{11} u^{2} - 580608 \\, t^{11} u v + 38880 \\, t^{10} u^{2} v + 1109376 \\, t^{11} v^{2} - 38880 \\, t^{10} u v^{2} + 947088 \\, t^{9} u^{2} v^{2} + 57600 \\, \\sqrt{3} t^{9} u^{2} v + 196992 \\, \\sqrt{2} t^{9} u^{2} v + 57600 \\, \\sqrt{3} t^{9} u v^{2} + 196992 \\, \\sqrt{2} t^{9} u v^{2} - 699840 \\, t^{10} u^{2} + 393984 \\, t^{9} u^{2} v + 699840 \\, t^{10} v^{2} + 393984 \\, t^{9} u v^{2} + 28224 \\, \\sqrt{3} \\sqrt{2} t^{7} u^{2} v^{2} - 31104 \\, \\sqrt{3} t^{8} u^{2} v + 46656 \\, \\sqrt{2} t^{8} u^{2} v + 31104 \\, \\sqrt{3} t^{8} u v^{2} - 46656 \\, \\sqrt{2} t^{8} u v^{2} + 56448 \\, \\sqrt{3} t^{7} u^{2} v^{2} + 53136 \\, \\sqrt{2} t^{7} u^{2} v^{2} - 2363904 \\, t^{9} u^{2} - 995328 \\, t^{9} u v + 93312 \\, t^{8} u^{2} v - 2363904 \\, t^{9} v^{2} - 93312 \\, t^{8} u v^{2} + 1033512 \\, t^{7} u^{2} v^{2} - 245376 \\, \\sqrt{3} t^{7} u^{2} v - 155520 \\, \\sqrt{2} t^{7} u^{2} v - 245376 \\, \\sqrt{3} t^{7} u v^{2} - 155520 \\, \\sqrt{2} t^{7} u v^{2} - 699840 \\, t^{8} u^{2} - 311040 \\, t^{7} u^{2} v + 699840 \\, t^{8} v^{2} - 311040 \\, t^{7} u v^{2} + 1296 \\, \\sqrt{3} \\sqrt{2} t^{5} u^{2} v^{2} - 181440 \\, \\sqrt{3} t^{6} u^{2} v - 116640 \\, \\sqrt{2} t^{6} u^{2} v + 181440 \\, \\sqrt{3} t^{6} u v^{2} + 116640 \\, \\sqrt{2} t^{6} u v^{2} + 2592 \\, \\sqrt{3} t^{5} u^{2} v^{2} + 23328 \\, \\sqrt{2} t^{5} u^{2} v^{2} + 1109376 \\, t^{7} u^{2} - 580608 \\, t^{7} u v - 233280 \\, t^{6} u^{2} v + 1109376 \\, t^{7} v^{2} + 233280 \\, t^{6} u v^{2} + 546480 \\, t^{5} u^{2} v^{2} - 101376 \\, \\sqrt{3} t^{5} u^{2} v - 134784 \\, \\sqrt{2} t^{5} u^{2} v - 101376 \\, \\sqrt{3} t^{5} u v^{2} - 134784 \\, \\sqrt{2} t^{5} u v^{2} + 1259712 \\, t^{6} u^{2} - 269568 \\, t^{5} u^{2} v - 1259712 \\, t^{6} v^{2} - 269568 \\, t^{5} u v^{2} - 14580 \\, \\sqrt{3} \\sqrt{2} t^{3} u^{2} v^{2} + 65664 \\, \\sqrt{3} t^{4} u^{2} v + 77760 \\, \\sqrt{2} t^{4} u^{2} v - 65664 \\, \\sqrt{3} t^{4} u v^{2} - 77760 \\, \\sqrt{2} t^{4} u v^{2} - 29160 \\, \\sqrt{3} t^{3} u^{2} v^{2} - 26244 \\, \\sqrt{2} t^{3} u^{2} v^{2} + 352512 \\, t^{5} u^{2} + 1824768 \\, t^{5} u v + 155520 \\, t^{4} u^{2} v + 352512 \\, t^{5} v^{2} - 155520 \\, t^{4} u v^{2} + 76302 \\, t^{3} u^{2} v^{2} + 134784 \\, \\sqrt{3} t^{3} u^{2} v + 93312 \\, \\sqrt{2} t^{3} u^{2} v + 134784 \\, \\sqrt{3} t^{3} u v^{2} + 93312 \\, \\sqrt{2} t^{3} u v^{2} - 699840 \\, t^{4} u^{2} + 186624 \\, t^{3} u^{2} v + 699840 \\, t^{4} v^{2} + 186624 \\, t^{3} u v^{2} + 27216 \\, \\sqrt{3} t^{2} u^{2} v - 17496 \\, \\sqrt{2} t^{2} u^{2} v - 27216 \\, \\sqrt{3} t^{2} u v^{2} + 17496 \\, \\sqrt{2} t^{2} u v^{2} - 279936 \\, t^{3} u^{2} - 746496 \\, t^{3} u v - 34992 \\, t^{2} u^{2} v - 279936 \\, t^{3} v^{2} + 34992 \\, t^{2} u v^{2} + 139968 \\, t^{2} u^{2} - 139968 \\, t^{2} v^{2}$"
      ],
      "text/plain": [
       "-2916*sqrt(3)*sqrt(2)*t^19*u^2*v^2 - 5832*sqrt(3)*t^19*u^2*v^2 - 26244*sqrt(2)*t^19*u^2*v^2 - 40338*t^19*u^2*v^2 + 14256*sqrt(3)*sqrt(2)*t^17*u^2*v^2 - 3888*sqrt(3)*t^18*u^2*v - 17496*sqrt(2)*t^18*u^2*v + 3888*sqrt(3)*t^18*u*v^2 + 17496*sqrt(2)*t^18*u*v^2 + 28512*sqrt(3)*t^17*u^2*v^2 + 23328*sqrt(2)*t^17*u^2*v^2 - 34992*t^18*u^2*v + 34992*t^18*u*v^2 + 43632*t^17*u^2*v^2 + 20736*sqrt(3)*t^17*u^2*v + 93312*sqrt(2)*t^17*u^2*v + 20736*sqrt(3)*t^17*u*v^2 + 93312*sqrt(2)*t^17*u*v^2 + 186624*t^17*u^2*v + 186624*t^17*u*v^2 + 7200*sqrt(3)*sqrt(2)*t^15*u^2*v^2 + 17280*sqrt(3)*t^16*u^2*v + 77760*sqrt(2)*t^16*u^2*v - 17280*sqrt(3)*t^16*u*v^2 - 77760*sqrt(2)*t^16*u*v^2 + 14400*sqrt(3)*t^15*u^2*v^2 + 53136*sqrt(2)*t^15*u^2*v^2 + 155520*t^16*u^2*v - 155520*t^16*u*v^2 + 82536*t^15*u^2*v^2 - 123264*sqrt(3)*t^15*u^2*v - 134784*sqrt(2)*t^15*u^2*v - 123264*sqrt(3)*t^15*u*v^2 - 134784*sqrt(2)*t^15*u*v^2 + 139968*t^16*u^2 - 269568*t^15*u^2*v - 139968*t^16*v^2 - 269568*t^15*u*v^2 - 22608*sqrt(3)*sqrt(2)*t^13*u^2*v^2 - 119232*sqrt(3)*t^14*u^2*v - 116640*sqrt(2)*t^14*u^2*v + 119232*sqrt(3)*t^14*u*v^2 + 116640*sqrt(2)*t^14*u*v^2 - 45216*sqrt(3)*t^13*u^2*v^2 - 2592*sqrt(2)*t^13*u^2*v^2 - 279936*t^15*u^2 - 746496*t^15*u*v - 233280*t^14*u^2*v - 279936*t^15*v^2 + 233280*t^14*u*v^2 + 105552*t^13*u^2*v^2 - 13824*sqrt(3)*t^13*u^2*v - 155520*sqrt(2)*t^13*u^2*v - 13824*sqrt(3)*t^13*u*v^2 - 155520*sqrt(2)*t^13*u*v^2 - 699840*t^14*u^2 - 311040*t^13*u^2*v + 699840*t^14*v^2 - 311040*t^13*u*v^2 - 31752*sqrt(3)*sqrt(2)*t^11*u^2*v^2 + 114048*sqrt(3)*t^12*u^2*v + 46656*sqrt(2)*t^12*u^2*v - 114048*sqrt(3)*t^12*u*v^2 - 46656*sqrt(2)*t^12*u*v^2 - 63504*sqrt(3)*t^11*u^2*v^2 - 95256*sqrt(2)*t^11*u^2*v^2 + 352512*t^13*u^2 + 1824768*t^13*u*v + 93312*t^12*u^2*v + 352512*t^13*v^2 - 93312*t^12*u*v^2 + 350964*t^11*u^2*v^2 + 270720*sqrt(3)*t^11*u^2*v + 196992*sqrt(2)*t^11*u^2*v + 270720*sqrt(3)*t^11*u*v^2 + 196992*sqrt(2)*t^11*u*v^2 + 1259712*t^12*u^2 + 393984*t^11*u^2*v - 1259712*t^12*v^2 + 393984*t^11*u*v^2 + 20880*sqrt(3)*sqrt(2)*t^9*u^2*v^2 + 111456*sqrt(3)*t^10*u^2*v + 19440*sqrt(2)*t^10*u^2*v - 111456*sqrt(3)*t^10*u*v^2 - 19440*sqrt(2)*t^10*u*v^2 + 41760*sqrt(3)*t^9*u^2*v^2 - 2592*sqrt(2)*t^9*u^2*v^2 + 1109376*t^11*u^2 - 580608*t^11*u*v + 38880*t^10*u^2*v + 1109376*t^11*v^2 - 38880*t^10*u*v^2 + 947088*t^9*u^2*v^2 + 57600*sqrt(3)*t^9*u^2*v + 196992*sqrt(2)*t^9*u^2*v + 57600*sqrt(3)*t^9*u*v^2 + 196992*sqrt(2)*t^9*u*v^2 - 699840*t^10*u^2 + 393984*t^9*u^2*v + 699840*t^10*v^2 + 393984*t^9*u*v^2 + 28224*sqrt(3)*sqrt(2)*t^7*u^2*v^2 - 31104*sqrt(3)*t^8*u^2*v + 46656*sqrt(2)*t^8*u^2*v + 31104*sqrt(3)*t^8*u*v^2 - 46656*sqrt(2)*t^8*u*v^2 + 56448*sqrt(3)*t^7*u^2*v^2 + 53136*sqrt(2)*t^7*u^2*v^2 - 2363904*t^9*u^2 - 995328*t^9*u*v + 93312*t^8*u^2*v - 2363904*t^9*v^2 - 93312*t^8*u*v^2 + 1033512*t^7*u^2*v^2 - 245376*sqrt(3)*t^7*u^2*v - 155520*sqrt(2)*t^7*u^2*v - 245376*sqrt(3)*t^7*u*v^2 - 155520*sqrt(2)*t^7*u*v^2 - 699840*t^8*u^2 - 311040*t^7*u^2*v + 699840*t^8*v^2 - 311040*t^7*u*v^2 + 1296*sqrt(3)*sqrt(2)*t^5*u^2*v^2 - 181440*sqrt(3)*t^6*u^2*v - 116640*sqrt(2)*t^6*u^2*v + 181440*sqrt(3)*t^6*u*v^2 + 116640*sqrt(2)*t^6*u*v^2 + 2592*sqrt(3)*t^5*u^2*v^2 + 23328*sqrt(2)*t^5*u^2*v^2 + 1109376*t^7*u^2 - 580608*t^7*u*v - 233280*t^6*u^2*v + 1109376*t^7*v^2 + 233280*t^6*u*v^2 + 546480*t^5*u^2*v^2 - 101376*sqrt(3)*t^5*u^2*v - 134784*sqrt(2)*t^5*u^2*v - 101376*sqrt(3)*t^5*u*v^2 - 134784*sqrt(2)*t^5*u*v^2 + 1259712*t^6*u^2 - 269568*t^5*u^2*v - 1259712*t^6*v^2 - 269568*t^5*u*v^2 - 14580*sqrt(3)*sqrt(2)*t^3*u^2*v^2 + 65664*sqrt(3)*t^4*u^2*v + 77760*sqrt(2)*t^4*u^2*v - 65664*sqrt(3)*t^4*u*v^2 - 77760*sqrt(2)*t^4*u*v^2 - 29160*sqrt(3)*t^3*u^2*v^2 - 26244*sqrt(2)*t^3*u^2*v^2 + 352512*t^5*u^2 + 1824768*t^5*u*v + 155520*t^4*u^2*v + 352512*t^5*v^2 - 155520*t^4*u*v^2 + 76302*t^3*u^2*v^2 + 134784*sqrt(3)*t^3*u^2*v + 93312*sqrt(2)*t^3*u^2*v + 134784*sqrt(3)*t^3*u*v^2 + 93312*sqrt(2)*t^3*u*v^2 - 699840*t^4*u^2 + 186624*t^3*u^2*v + 699840*t^4*v^2 + 186624*t^3*u*v^2 + 27216*sqrt(3)*t^2*u^2*v - 17496*sqrt(2)*t^2*u^2*v - 27216*sqrt(3)*t^2*u*v^2 + 17496*sqrt(2)*t^2*u*v^2 - 279936*t^3*u^2 - 746496*t^3*u*v - 34992*t^2*u^2*v - 279936*t^3*v^2 + 34992*t^2*u*v^2 + 139968*t^2*u^2 - 139968*t^2*v^2"
      ]
     },
     "metadata": {},
     "output_type": "display_data"
    }
   ],
   "source": [
    "show(C11_uvt_numerator)"
   ]
  },
  {
   "cell_type": "markdown",
   "id": "dd9cf7cb",
   "metadata": {
    "collapsed": false,
    "jupyter": {
     "outputs_hidden": false
    },
    "pycharm": {
     "name": "#%% md\n"
    }
   },
   "source": [
    "##### Calculates the Möbius coefficient"
   ]
  },
  {
   "cell_type": "code",
   "execution_count": 26,
   "id": "f8761d54",
   "metadata": {
    "collapsed": false,
    "jupyter": {
     "outputs_hidden": false
    },
    "pycharm": {
     "name": "#%%\n"
    }
   },
   "outputs": [],
   "source": [
    "coefficient_dict = polynomial_to_dict(C11_uvt_numerator)"
   ]
  },
  {
   "cell_type": "code",
   "execution_count": 27,
   "id": "57a1e59b",
   "metadata": {
    "collapsed": false,
    "jupyter": {
     "outputs_hidden": false
    },
    "pycharm": {
     "name": "#%%\n"
    }
   },
   "outputs": [],
   "source": [
    "variables = C11_uvt_numerator.variables()\n",
    "total_degree  =  [C11_uvt_numerator.degree(j) for j in variables]\n",
    "n_uplas = [\n",
    "    [i, j, k]\n",
    "    for i in range(total_degree[0] + 1)\n",
    "    for j in range(total_degree[1] + 1)\n",
    "    for k in range(total_degree[2] + 1)\n",
    "]"
   ]
  },
  {
   "cell_type": "code",
   "execution_count": 28,
   "id": "d8d507fa",
   "metadata": {
    "pycharm": {
     "name": "#%%\n"
    }
   },
   "outputs": [],
   "source": [
    "q1 = 3*t^2 + 2*t + 3 #u\n",
    "q2 = 3*t^2 - 2*t + 3 #v\n",
    "\n",
    "# Calculate the maximum and minimum values of u for interval with endpoints and  for t = 0 and t = 1/2.\n",
    "(u0, u1) = quadratic_extrema_on_interval(q1, (0, 1/2))\n",
    "(v0, v1) = quadratic_extrema_on_interval(q2, (0, 1/2))\n",
    "variable_ranges_0 = [(0, 1/2), (u0, u1), (v0, v1)]\n",
    "\n",
    "\n",
    "# Calculate the maximum and minimum values of u for interval with endpoints and  for t = 1/2 and t = 1.\n",
    "(u0, u1) = quadratic_extrema_on_interval(q1, (1/2, 1))\n",
    "(v0, v1) = quadratic_extrema_on_interval(q2, (1/2, 1) )\n",
    "variable_ranges_1 = [ (1/2, 1), (u0, u1), (v0, v1)]\n",
    "\n",
    "\n",
    "all_variable_ranges = [variable_ranges_0, variable_ranges_1]"
   ]
  },
  {
   "cell_type": "code",
   "execution_count": 30,
   "id": "1ad2272c-1c5b-40c8-9dea-ccd2285108a8",
   "metadata": {},
   "outputs": [
    {
     "name": "stdout",
     "output_type": "stream",
     "text": [
      "Starting to calculate the signs of the Möbius coefficients for t in (0, 1/2)\n",
      "\n",
      "\n",
      "Iteration: 100, Elapsed time: 0.25 minutes\n",
      "Partial set of signs of the Möbius coefficients: {1}\n",
      "\n",
      "\n",
      "Final iteration: 179. Elapsed time: 0.33 minutes\n",
      "Set of signs of the Möbius coefficients for t in (0, 1/2): {1}.\n",
      "\n",
      "\n",
      "Starting to calculate the signs of the Möbius coefficients for t in (1/2, 1)\n",
      "\n",
      "\n",
      "Iteration: 100, Elapsed time: 0.60 minutes\n",
      "Partial set of signs of the Möbius coefficients: {1}\n",
      "\n",
      "\n",
      "Final iteration: 179. Elapsed time: 0.83 minutes\n",
      "Set of signs of the Möbius coefficients for t in (1/2, 1): {1}.\n",
      "\n",
      "\n"
     ]
    }
   ],
   "source": [
    "# Determines the sign of Möbius coefficients for a given polynomial expression.\n",
    "moebius_sign(C11_uvt_numerator, n_uplas, total_degree, all_variable_ranges, coefficient_dict)"
   ]
  },
  {
   "cell_type": "markdown",
   "id": "6c8dcde6",
   "metadata": {
    "collapsed": false,
    "jupyter": {
     "outputs_hidden": false
    },
    "pycharm": {
     "name": "#%% md\n"
    }
   },
   "source": [
    "##### Limit at the extremes"
   ]
  },
  {
   "cell_type": "code",
   "execution_count": 29,
   "id": "1591c9d6",
   "metadata": {
    "collapsed": false,
    "editable": true,
    "jupyter": {
     "outputs_hidden": false
    },
    "pycharm": {
     "name": "#%%\n"
    },
    "slideshow": {
     "slide_type": ""
    },
    "tags": []
   },
   "outputs": [
    {
     "data": {
      "text/plain": [
       "(0, +Infinity)"
      ]
     },
     "execution_count": 29,
     "metadata": {},
     "output_type": "execute_result"
    }
   ],
   "source": [
    "limit(C11, t=0, dir='+', taylor=True), limit(C11, t=1, dir='-', taylor=True)"
   ]
  },
  {
   "cell_type": "markdown",
   "id": "9df67ebd",
   "metadata": {
    "collapsed": false,
    "jupyter": {
     "outputs_hidden": false
    },
    "pycharm": {
     "name": "#%% md\n"
    }
   },
   "source": [
    "#### 5. There exits a $\\delta<1$ such $(C_1)_{12}(c(t),t)$ is negative for $t$ in $(0,\\delta)$ and is positive for $t$ in $(\\delta,1)$ ."
   ]
  },
  {
   "cell_type": "markdown",
   "id": "53548d8c-a255-48ec-9c06-91614f0c5b00",
   "metadata": {},
   "source": [
    "##### **Part 1.** $(C_1)_{12}(c(t),t) < 0$ for $t$ in  $[0, 1/2]$."
   ]
  },
  {
   "cell_type": "code",
   "execution_count": 30,
   "id": "e91a65d6",
   "metadata": {
    "collapsed": false,
    "editable": true,
    "jupyter": {
     "outputs_hidden": false
    },
    "pycharm": {
     "name": "#%%\n"
    },
    "slideshow": {
     "slide_type": ""
    },
    "tags": []
   },
   "outputs": [
    {
     "data": {
      "text/html": [
       "<html>\\(\\displaystyle -\\frac{\\sqrt{3} t + \\sqrt{3}}{3 \\, {\\left(t^{3} + 3 \\, t^{2} + 3 \\, t + 1\\right)}} - \\frac{\\frac{32 \\, t^{2}}{{\\left(t^{3} + 3 \\, t^{2} + 3 \\, t + 1\\right)}^{2}} - \\frac{32 \\, t^{2}}{{\\left(t^{3} - 3 \\, t^{2} + 3 \\, t - 1\\right)}^{2}} + \\frac{384 \\, \\sqrt{3} t^{2}}{{\\left(t^{3} + 3 \\, t^{2} + 3 \\, t + 1\\right)} {\\left(3 \\, t^{2} + 2 \\, t + 3\\right)}^{\\frac{3}{2}}} + \\frac{192 \\, \\sqrt{3} t^{2}}{{\\left(t^{3} - 3 \\, t^{2} + 3 \\, t - 1\\right)} {\\left(3 \\, t^{2} + 2 \\, t + 3\\right)}^{\\frac{3}{2}}} + \\frac{192 \\, \\sqrt{3} t^{2}}{{\\left(t^{3} + 3 \\, t^{2} + 3 \\, t + 1\\right)} {\\left(3 \\, t^{2} - 2 \\, t + 3\\right)}^{\\frac{3}{2}}} + \\frac{384 \\, \\sqrt{3} t^{2}}{{\\left(t^{3} - 3 \\, t^{2} + 3 \\, t - 1\\right)} {\\left(3 \\, t^{2} - 2 \\, t + 3\\right)}^{\\frac{3}{2}}} - \\frac{6 \\, \\sqrt{3} \\sqrt{2}}{t^{2}} + \\frac{64 \\, t}{{\\left(t^{3} + 3 \\, t^{2} + 3 \\, t + 1\\right)}^{2}} + \\frac{64 \\, t}{{\\left(t^{3} - 3 \\, t^{2} + 3 \\, t - 1\\right)}^{2}} + \\frac{768 \\, \\sqrt{3} t}{{\\left(t^{3} + 3 \\, t^{2} + 3 \\, t + 1\\right)} {\\left(3 \\, t^{2} + 2 \\, t + 3\\right)}^{\\frac{3}{2}}} - \\frac{384 \\, \\sqrt{3} t}{{\\left(t^{3} - 3 \\, t^{2} + 3 \\, t - 1\\right)} {\\left(3 \\, t^{2} + 2 \\, t + 3\\right)}^{\\frac{3}{2}}} + \\frac{384 \\, \\sqrt{3} t}{{\\left(t^{3} + 3 \\, t^{2} + 3 \\, t + 1\\right)} {\\left(3 \\, t^{2} - 2 \\, t + 3\\right)}^{\\frac{3}{2}}} - \\frac{768 \\, \\sqrt{3} t}{{\\left(t^{3} - 3 \\, t^{2} + 3 \\, t - 1\\right)} {\\left(3 \\, t^{2} - 2 \\, t + 3\\right)}^{\\frac{3}{2}}} + \\frac{2592 \\, t^{2}}{{\\left(3 \\, t^{2} + 2 \\, t + 3\\right)}^{3}} - \\frac{2592 \\, t^{2}}{{\\left(3 \\, t^{2} - 2 \\, t + 3\\right)}^{3}} - \\frac{12 \\, \\sqrt{3}}{t^{2}} - \\frac{54 \\, \\sqrt{2}}{t^{2}} + \\frac{32}{{\\left(t^{3} + 3 \\, t^{2} + 3 \\, t + 1\\right)}^{2}} - \\frac{32}{{\\left(t^{3} - 3 \\, t^{2} + 3 \\, t - 1\\right)}^{2}} + \\frac{384 \\, \\sqrt{3}}{{\\left(t^{3} + 3 \\, t^{2} + 3 \\, t + 1\\right)} {\\left(3 \\, t^{2} + 2 \\, t + 3\\right)}^{\\frac{3}{2}}} + \\frac{192 \\, \\sqrt{3}}{{\\left(t^{3} - 3 \\, t^{2} + 3 \\, t - 1\\right)} {\\left(3 \\, t^{2} + 2 \\, t + 3\\right)}^{\\frac{3}{2}}} + \\frac{192 \\, \\sqrt{3}}{{\\left(t^{3} + 3 \\, t^{2} + 3 \\, t + 1\\right)} {\\left(3 \\, t^{2} - 2 \\, t + 3\\right)}^{\\frac{3}{2}}} + \\frac{384 \\, \\sqrt{3}}{{\\left(t^{3} - 3 \\, t^{2} + 3 \\, t - 1\\right)} {\\left(3 \\, t^{2} - 2 \\, t + 3\\right)}^{\\frac{3}{2}}} - \\frac{83}{t^{2}} + \\frac{8640 \\, t}{{\\left(3 \\, t^{2} + 2 \\, t + 3\\right)}^{3}} + \\frac{8640 \\, t}{{\\left(3 \\, t^{2} - 2 \\, t + 3\\right)}^{3}} + \\frac{13824 \\, t}{{\\left(3 \\, t^{2} + 2 \\, t + 3\\right)}^{\\frac{3}{2}} {\\left(3 \\, t^{2} - 2 \\, t + 3\\right)}^{\\frac{3}{2}}} + \\frac{2592}{{\\left(3 \\, t^{2} + 2 \\, t + 3\\right)}^{3}} - \\frac{2592}{{\\left(3 \\, t^{2} - 2 \\, t + 3\\right)}^{3}}}{4 \\, {\\left(2 \\, \\sqrt{3} t + 9 \\, \\sqrt{2} t - \\frac{8 \\, \\sqrt{3} t^{2}}{t^{3} + 3 \\, t^{2} + 3 \\, t + 1} - \\frac{8 \\, \\sqrt{3} t^{2}}{t^{3} - 3 \\, t^{2} + 3 \\, t - 1} + 18 \\, t - \\frac{16 \\, \\sqrt{3} t}{t^{3} + 3 \\, t^{2} + 3 \\, t + 1} + \\frac{16 \\, \\sqrt{3} t}{t^{3} - 3 \\, t^{2} + 3 \\, t - 1} - \\frac{72 \\, t^{2}}{{\\left(3 \\, t^{2} + 2 \\, t + 3\\right)}^{\\frac{3}{2}}} + \\frac{72 \\, t^{2}}{{\\left(3 \\, t^{2} - 2 \\, t + 3\\right)}^{\\frac{3}{2}}} - \\frac{8 \\, \\sqrt{3}}{t^{3} + 3 \\, t^{2} + 3 \\, t + 1} - \\frac{8 \\, \\sqrt{3}}{t^{3} - 3 \\, t^{2} + 3 \\, t - 1} - \\frac{432 \\, t}{{\\left(3 \\, t^{2} + 2 \\, t + 3\\right)}^{\\frac{3}{2}}} - \\frac{432 \\, t}{{\\left(3 \\, t^{2} - 2 \\, t + 3\\right)}^{\\frac{3}{2}}} - \\frac{72}{{\\left(3 \\, t^{2} + 2 \\, t + 3\\right)}^{\\frac{3}{2}}} + \\frac{72}{{\\left(3 \\, t^{2} - 2 \\, t + 3\\right)}^{\\frac{3}{2}}} + \\frac{2 \\, \\sqrt{3}}{t^{2}} + \\frac{9 \\, \\sqrt{2}}{t^{2}} + \\frac{18}{t^{2}}\\right)}} - \\frac{3 \\, {\\left(t + 3\\right)}}{{\\left(3 \\, t^{2} + 2 \\, t + 3\\right)}^{\\frac{3}{2}}} + \\frac{3 \\, {\\left(t - 3\\right)}}{{\\left(3 \\, t^{2} - 2 \\, t + 3\\right)}^{\\frac{3}{2}}} - \\frac{\\sqrt{3} t - \\sqrt{3}}{3 \\, {\\left(t - 1\\right)}^{3}}\\)</html>"
      ],
      "text/latex": [
       "$\\displaystyle -\\frac{\\sqrt{3} t + \\sqrt{3}}{3 \\, {\\left(t^{3} + 3 \\, t^{2} + 3 \\, t + 1\\right)}} - \\frac{\\frac{32 \\, t^{2}}{{\\left(t^{3} + 3 \\, t^{2} + 3 \\, t + 1\\right)}^{2}} - \\frac{32 \\, t^{2}}{{\\left(t^{3} - 3 \\, t^{2} + 3 \\, t - 1\\right)}^{2}} + \\frac{384 \\, \\sqrt{3} t^{2}}{{\\left(t^{3} + 3 \\, t^{2} + 3 \\, t + 1\\right)} {\\left(3 \\, t^{2} + 2 \\, t + 3\\right)}^{\\frac{3}{2}}} + \\frac{192 \\, \\sqrt{3} t^{2}}{{\\left(t^{3} - 3 \\, t^{2} + 3 \\, t - 1\\right)} {\\left(3 \\, t^{2} + 2 \\, t + 3\\right)}^{\\frac{3}{2}}} + \\frac{192 \\, \\sqrt{3} t^{2}}{{\\left(t^{3} + 3 \\, t^{2} + 3 \\, t + 1\\right)} {\\left(3 \\, t^{2} - 2 \\, t + 3\\right)}^{\\frac{3}{2}}} + \\frac{384 \\, \\sqrt{3} t^{2}}{{\\left(t^{3} - 3 \\, t^{2} + 3 \\, t - 1\\right)} {\\left(3 \\, t^{2} - 2 \\, t + 3\\right)}^{\\frac{3}{2}}} - \\frac{6 \\, \\sqrt{3} \\sqrt{2}}{t^{2}} + \\frac{64 \\, t}{{\\left(t^{3} + 3 \\, t^{2} + 3 \\, t + 1\\right)}^{2}} + \\frac{64 \\, t}{{\\left(t^{3} - 3 \\, t^{2} + 3 \\, t - 1\\right)}^{2}} + \\frac{768 \\, \\sqrt{3} t}{{\\left(t^{3} + 3 \\, t^{2} + 3 \\, t + 1\\right)} {\\left(3 \\, t^{2} + 2 \\, t + 3\\right)}^{\\frac{3}{2}}} - \\frac{384 \\, \\sqrt{3} t}{{\\left(t^{3} - 3 \\, t^{2} + 3 \\, t - 1\\right)} {\\left(3 \\, t^{2} + 2 \\, t + 3\\right)}^{\\frac{3}{2}}} + \\frac{384 \\, \\sqrt{3} t}{{\\left(t^{3} + 3 \\, t^{2} + 3 \\, t + 1\\right)} {\\left(3 \\, t^{2} - 2 \\, t + 3\\right)}^{\\frac{3}{2}}} - \\frac{768 \\, \\sqrt{3} t}{{\\left(t^{3} - 3 \\, t^{2} + 3 \\, t - 1\\right)} {\\left(3 \\, t^{2} - 2 \\, t + 3\\right)}^{\\frac{3}{2}}} + \\frac{2592 \\, t^{2}}{{\\left(3 \\, t^{2} + 2 \\, t + 3\\right)}^{3}} - \\frac{2592 \\, t^{2}}{{\\left(3 \\, t^{2} - 2 \\, t + 3\\right)}^{3}} - \\frac{12 \\, \\sqrt{3}}{t^{2}} - \\frac{54 \\, \\sqrt{2}}{t^{2}} + \\frac{32}{{\\left(t^{3} + 3 \\, t^{2} + 3 \\, t + 1\\right)}^{2}} - \\frac{32}{{\\left(t^{3} - 3 \\, t^{2} + 3 \\, t - 1\\right)}^{2}} + \\frac{384 \\, \\sqrt{3}}{{\\left(t^{3} + 3 \\, t^{2} + 3 \\, t + 1\\right)} {\\left(3 \\, t^{2} + 2 \\, t + 3\\right)}^{\\frac{3}{2}}} + \\frac{192 \\, \\sqrt{3}}{{\\left(t^{3} - 3 \\, t^{2} + 3 \\, t - 1\\right)} {\\left(3 \\, t^{2} + 2 \\, t + 3\\right)}^{\\frac{3}{2}}} + \\frac{192 \\, \\sqrt{3}}{{\\left(t^{3} + 3 \\, t^{2} + 3 \\, t + 1\\right)} {\\left(3 \\, t^{2} - 2 \\, t + 3\\right)}^{\\frac{3}{2}}} + \\frac{384 \\, \\sqrt{3}}{{\\left(t^{3} - 3 \\, t^{2} + 3 \\, t - 1\\right)} {\\left(3 \\, t^{2} - 2 \\, t + 3\\right)}^{\\frac{3}{2}}} - \\frac{83}{t^{2}} + \\frac{8640 \\, t}{{\\left(3 \\, t^{2} + 2 \\, t + 3\\right)}^{3}} + \\frac{8640 \\, t}{{\\left(3 \\, t^{2} - 2 \\, t + 3\\right)}^{3}} + \\frac{13824 \\, t}{{\\left(3 \\, t^{2} + 2 \\, t + 3\\right)}^{\\frac{3}{2}} {\\left(3 \\, t^{2} - 2 \\, t + 3\\right)}^{\\frac{3}{2}}} + \\frac{2592}{{\\left(3 \\, t^{2} + 2 \\, t + 3\\right)}^{3}} - \\frac{2592}{{\\left(3 \\, t^{2} - 2 \\, t + 3\\right)}^{3}}}{4 \\, {\\left(2 \\, \\sqrt{3} t + 9 \\, \\sqrt{2} t - \\frac{8 \\, \\sqrt{3} t^{2}}{t^{3} + 3 \\, t^{2} + 3 \\, t + 1} - \\frac{8 \\, \\sqrt{3} t^{2}}{t^{3} - 3 \\, t^{2} + 3 \\, t - 1} + 18 \\, t - \\frac{16 \\, \\sqrt{3} t}{t^{3} + 3 \\, t^{2} + 3 \\, t + 1} + \\frac{16 \\, \\sqrt{3} t}{t^{3} - 3 \\, t^{2} + 3 \\, t - 1} - \\frac{72 \\, t^{2}}{{\\left(3 \\, t^{2} + 2 \\, t + 3\\right)}^{\\frac{3}{2}}} + \\frac{72 \\, t^{2}}{{\\left(3 \\, t^{2} - 2 \\, t + 3\\right)}^{\\frac{3}{2}}} - \\frac{8 \\, \\sqrt{3}}{t^{3} + 3 \\, t^{2} + 3 \\, t + 1} - \\frac{8 \\, \\sqrt{3}}{t^{3} - 3 \\, t^{2} + 3 \\, t - 1} - \\frac{432 \\, t}{{\\left(3 \\, t^{2} + 2 \\, t + 3\\right)}^{\\frac{3}{2}}} - \\frac{432 \\, t}{{\\left(3 \\, t^{2} - 2 \\, t + 3\\right)}^{\\frac{3}{2}}} - \\frac{72}{{\\left(3 \\, t^{2} + 2 \\, t + 3\\right)}^{\\frac{3}{2}}} + \\frac{72}{{\\left(3 \\, t^{2} - 2 \\, t + 3\\right)}^{\\frac{3}{2}}} + \\frac{2 \\, \\sqrt{3}}{t^{2}} + \\frac{9 \\, \\sqrt{2}}{t^{2}} + \\frac{18}{t^{2}}\\right)}} - \\frac{3 \\, {\\left(t + 3\\right)}}{{\\left(3 \\, t^{2} + 2 \\, t + 3\\right)}^{\\frac{3}{2}}} + \\frac{3 \\, {\\left(t - 3\\right)}}{{\\left(3 \\, t^{2} - 2 \\, t + 3\\right)}^{\\frac{3}{2}}} - \\frac{\\sqrt{3} t - \\sqrt{3}}{3 \\, {\\left(t - 1\\right)}^{3}}$"
      ],
      "text/plain": [
       "-1/3*(sqrt(3)*t + sqrt(3))/(t^3 + 3*t^2 + 3*t + 1) - 1/4*(32*t^2/(t^3 + 3*t^2 + 3*t + 1)^2 - 32*t^2/(t^3 - 3*t^2 + 3*t - 1)^2 + 384*sqrt(3)*t^2/((t^3 + 3*t^2 + 3*t + 1)*(3*t^2 + 2*t + 3)^(3/2)) + 192*sqrt(3)*t^2/((t^3 - 3*t^2 + 3*t - 1)*(3*t^2 + 2*t + 3)^(3/2)) + 192*sqrt(3)*t^2/((t^3 + 3*t^2 + 3*t + 1)*(3*t^2 - 2*t + 3)^(3/2)) + 384*sqrt(3)*t^2/((t^3 - 3*t^2 + 3*t - 1)*(3*t^2 - 2*t + 3)^(3/2)) - 6*sqrt(3)*sqrt(2)/t^2 + 64*t/(t^3 + 3*t^2 + 3*t + 1)^2 + 64*t/(t^3 - 3*t^2 + 3*t - 1)^2 + 768*sqrt(3)*t/((t^3 + 3*t^2 + 3*t + 1)*(3*t^2 + 2*t + 3)^(3/2)) - 384*sqrt(3)*t/((t^3 - 3*t^2 + 3*t - 1)*(3*t^2 + 2*t + 3)^(3/2)) + 384*sqrt(3)*t/((t^3 + 3*t^2 + 3*t + 1)*(3*t^2 - 2*t + 3)^(3/2)) - 768*sqrt(3)*t/((t^3 - 3*t^2 + 3*t - 1)*(3*t^2 - 2*t + 3)^(3/2)) + 2592*t^2/(3*t^2 + 2*t + 3)^3 - 2592*t^2/(3*t^2 - 2*t + 3)^3 - 12*sqrt(3)/t^2 - 54*sqrt(2)/t^2 + 32/(t^3 + 3*t^2 + 3*t + 1)^2 - 32/(t^3 - 3*t^2 + 3*t - 1)^2 + 384*sqrt(3)/((t^3 + 3*t^2 + 3*t + 1)*(3*t^2 + 2*t + 3)^(3/2)) + 192*sqrt(3)/((t^3 - 3*t^2 + 3*t - 1)*(3*t^2 + 2*t + 3)^(3/2)) + 192*sqrt(3)/((t^3 + 3*t^2 + 3*t + 1)*(3*t^2 - 2*t + 3)^(3/2)) + 384*sqrt(3)/((t^3 - 3*t^2 + 3*t - 1)*(3*t^2 - 2*t + 3)^(3/2)) - 83/t^2 + 8640*t/(3*t^2 + 2*t + 3)^3 + 8640*t/(3*t^2 - 2*t + 3)^3 + 13824*t/((3*t^2 + 2*t + 3)^(3/2)*(3*t^2 - 2*t + 3)^(3/2)) + 2592/(3*t^2 + 2*t + 3)^3 - 2592/(3*t^2 - 2*t + 3)^3)/(2*sqrt(3)*t + 9*sqrt(2)*t - 8*sqrt(3)*t^2/(t^3 + 3*t^2 + 3*t + 1) - 8*sqrt(3)*t^2/(t^3 - 3*t^2 + 3*t - 1) + 18*t - 16*sqrt(3)*t/(t^3 + 3*t^2 + 3*t + 1) + 16*sqrt(3)*t/(t^3 - 3*t^2 + 3*t - 1) - 72*t^2/(3*t^2 + 2*t + 3)^(3/2) + 72*t^2/(3*t^2 - 2*t + 3)^(3/2) - 8*sqrt(3)/(t^3 + 3*t^2 + 3*t + 1) - 8*sqrt(3)/(t^3 - 3*t^2 + 3*t - 1) - 432*t/(3*t^2 + 2*t + 3)^(3/2) - 432*t/(3*t^2 - 2*t + 3)^(3/2) - 72/(3*t^2 + 2*t + 3)^(3/2) + 72/(3*t^2 - 2*t + 3)^(3/2) + 2*sqrt(3)/t^2 + 9*sqrt(2)/t^2 + 18/t^2) - 3*(t + 3)/(3*t^2 + 2*t + 3)^(3/2) + 3*(t - 3)/(3*t^2 - 2*t + 3)^(3/2) - 1/3*(sqrt(3)*t - sqrt(3))/(t - 1)^3"
      ]
     },
     "metadata": {},
     "output_type": "display_data"
    }
   ],
   "source": [
    "C12 = C1[0,1].subs(c = -γ0/γ1)\n",
    "show(C12)"
   ]
  },
  {
   "cell_type": "markdown",
   "id": "1b9261f0-a25c-4cba-91e4-201014794a9a",
   "metadata": {},
   "source": [
    "##### Change of variables:  $v^2 = 3t^2 - 2t + 3$, $u^2=3t^2 + 2t + 3$ "
   ]
  },
  {
   "cell_type": "code",
   "execution_count": 31,
   "id": "fa6c832b-1941-4cf9-a581-34b5a0e735fb",
   "metadata": {},
   "outputs": [],
   "source": [
    "C12_uvt = C12.subs({ (3*t^2 - 2*t + 3) : ((v^(2))) }).subs({ (3*t^2 + 2*t + 3) : (u^(2)) })"
   ]
  },
  {
   "cell_type": "code",
   "execution_count": 32,
   "id": "2a84c039-2a58-449e-a9d4-f6c67082ee2c",
   "metadata": {},
   "outputs": [
    {
     "data": {
      "text/html": [
       "<html>\\(\\displaystyle -\\frac{\\sqrt{3} t + \\sqrt{3}}{3 \\, {\\left(t^{3} + 3 \\, t^{2} + 3 \\, t + 1\\right)}} - \\frac{\\frac{32 \\, t^{2}}{{\\left(t^{3} + 3 \\, t^{2} + 3 \\, t + 1\\right)}^{2}} - \\frac{32 \\, t^{2}}{{\\left(t^{3} - 3 \\, t^{2} + 3 \\, t - 1\\right)}^{2}} - \\frac{6 \\, \\sqrt{3} \\sqrt{2}}{t^{2}} + \\frac{64 \\, t}{{\\left(t^{3} + 3 \\, t^{2} + 3 \\, t + 1\\right)}^{2}} + \\frac{64 \\, t}{{\\left(t^{3} - 3 \\, t^{2} + 3 \\, t - 1\\right)}^{2}} - \\frac{12 \\, \\sqrt{3}}{t^{2}} - \\frac{54 \\, \\sqrt{2}}{t^{2}} + \\frac{384 \\, \\sqrt{3} t^{2}}{{\\left(t^{3} + 3 \\, t^{2} + 3 \\, t + 1\\right)} u^{3}} + \\frac{192 \\, \\sqrt{3} t^{2}}{{\\left(t^{3} - 3 \\, t^{2} + 3 \\, t - 1\\right)} u^{3}} + \\frac{192 \\, \\sqrt{3} t^{2}}{{\\left(t^{3} + 3 \\, t^{2} + 3 \\, t + 1\\right)} v^{3}} + \\frac{384 \\, \\sqrt{3} t^{2}}{{\\left(t^{3} - 3 \\, t^{2} + 3 \\, t - 1\\right)} v^{3}} + \\frac{32}{{\\left(t^{3} + 3 \\, t^{2} + 3 \\, t + 1\\right)}^{2}} - \\frac{32}{{\\left(t^{3} - 3 \\, t^{2} + 3 \\, t - 1\\right)}^{2}} - \\frac{83}{t^{2}} + \\frac{768 \\, \\sqrt{3} t}{{\\left(t^{3} + 3 \\, t^{2} + 3 \\, t + 1\\right)} u^{3}} - \\frac{384 \\, \\sqrt{3} t}{{\\left(t^{3} - 3 \\, t^{2} + 3 \\, t - 1\\right)} u^{3}} + \\frac{384 \\, \\sqrt{3} t}{{\\left(t^{3} + 3 \\, t^{2} + 3 \\, t + 1\\right)} v^{3}} - \\frac{768 \\, \\sqrt{3} t}{{\\left(t^{3} - 3 \\, t^{2} + 3 \\, t - 1\\right)} v^{3}} + \\frac{384 \\, \\sqrt{3}}{{\\left(t^{3} + 3 \\, t^{2} + 3 \\, t + 1\\right)} u^{3}} + \\frac{192 \\, \\sqrt{3}}{{\\left(t^{3} - 3 \\, t^{2} + 3 \\, t - 1\\right)} u^{3}} + \\frac{192 \\, \\sqrt{3}}{{\\left(t^{3} + 3 \\, t^{2} + 3 \\, t + 1\\right)} v^{3}} + \\frac{384 \\, \\sqrt{3}}{{\\left(t^{3} - 3 \\, t^{2} + 3 \\, t - 1\\right)} v^{3}} + \\frac{2592 \\, t^{2}}{u^{6}} - \\frac{2592 \\, t^{2}}{v^{6}} + \\frac{8640 \\, t}{u^{6}} + \\frac{8640 \\, t}{v^{6}} + \\frac{13824 \\, t}{u^{3} v^{3}} + \\frac{2592}{u^{6}} - \\frac{2592}{v^{6}}}{4 \\, {\\left(2 \\, \\sqrt{3} t + 9 \\, \\sqrt{2} t - \\frac{8 \\, \\sqrt{3} t^{2}}{t^{3} + 3 \\, t^{2} + 3 \\, t + 1} - \\frac{8 \\, \\sqrt{3} t^{2}}{t^{3} - 3 \\, t^{2} + 3 \\, t - 1} + 18 \\, t - \\frac{16 \\, \\sqrt{3} t}{t^{3} + 3 \\, t^{2} + 3 \\, t + 1} + \\frac{16 \\, \\sqrt{3} t}{t^{3} - 3 \\, t^{2} + 3 \\, t - 1} - \\frac{8 \\, \\sqrt{3}}{t^{3} + 3 \\, t^{2} + 3 \\, t + 1} - \\frac{8 \\, \\sqrt{3}}{t^{3} - 3 \\, t^{2} + 3 \\, t - 1} - \\frac{72 \\, t^{2}}{u^{3}} + \\frac{72 \\, t^{2}}{v^{3}} + \\frac{2 \\, \\sqrt{3}}{t^{2}} + \\frac{9 \\, \\sqrt{2}}{t^{2}} + \\frac{18}{t^{2}} - \\frac{432 \\, t}{u^{3}} - \\frac{432 \\, t}{v^{3}} - \\frac{72}{u^{3}} + \\frac{72}{v^{3}}\\right)}} - \\frac{\\sqrt{3} t - \\sqrt{3}}{3 \\, {\\left(t - 1\\right)}^{3}} - \\frac{3 \\, {\\left(t + 3\\right)}}{u^{3}} + \\frac{3 \\, {\\left(t - 3\\right)}}{v^{3}}\\)</html>"
      ],
      "text/latex": [
       "$\\displaystyle -\\frac{\\sqrt{3} t + \\sqrt{3}}{3 \\, {\\left(t^{3} + 3 \\, t^{2} + 3 \\, t + 1\\right)}} - \\frac{\\frac{32 \\, t^{2}}{{\\left(t^{3} + 3 \\, t^{2} + 3 \\, t + 1\\right)}^{2}} - \\frac{32 \\, t^{2}}{{\\left(t^{3} - 3 \\, t^{2} + 3 \\, t - 1\\right)}^{2}} - \\frac{6 \\, \\sqrt{3} \\sqrt{2}}{t^{2}} + \\frac{64 \\, t}{{\\left(t^{3} + 3 \\, t^{2} + 3 \\, t + 1\\right)}^{2}} + \\frac{64 \\, t}{{\\left(t^{3} - 3 \\, t^{2} + 3 \\, t - 1\\right)}^{2}} - \\frac{12 \\, \\sqrt{3}}{t^{2}} - \\frac{54 \\, \\sqrt{2}}{t^{2}} + \\frac{384 \\, \\sqrt{3} t^{2}}{{\\left(t^{3} + 3 \\, t^{2} + 3 \\, t + 1\\right)} u^{3}} + \\frac{192 \\, \\sqrt{3} t^{2}}{{\\left(t^{3} - 3 \\, t^{2} + 3 \\, t - 1\\right)} u^{3}} + \\frac{192 \\, \\sqrt{3} t^{2}}{{\\left(t^{3} + 3 \\, t^{2} + 3 \\, t + 1\\right)} v^{3}} + \\frac{384 \\, \\sqrt{3} t^{2}}{{\\left(t^{3} - 3 \\, t^{2} + 3 \\, t - 1\\right)} v^{3}} + \\frac{32}{{\\left(t^{3} + 3 \\, t^{2} + 3 \\, t + 1\\right)}^{2}} - \\frac{32}{{\\left(t^{3} - 3 \\, t^{2} + 3 \\, t - 1\\right)}^{2}} - \\frac{83}{t^{2}} + \\frac{768 \\, \\sqrt{3} t}{{\\left(t^{3} + 3 \\, t^{2} + 3 \\, t + 1\\right)} u^{3}} - \\frac{384 \\, \\sqrt{3} t}{{\\left(t^{3} - 3 \\, t^{2} + 3 \\, t - 1\\right)} u^{3}} + \\frac{384 \\, \\sqrt{3} t}{{\\left(t^{3} + 3 \\, t^{2} + 3 \\, t + 1\\right)} v^{3}} - \\frac{768 \\, \\sqrt{3} t}{{\\left(t^{3} - 3 \\, t^{2} + 3 \\, t - 1\\right)} v^{3}} + \\frac{384 \\, \\sqrt{3}}{{\\left(t^{3} + 3 \\, t^{2} + 3 \\, t + 1\\right)} u^{3}} + \\frac{192 \\, \\sqrt{3}}{{\\left(t^{3} - 3 \\, t^{2} + 3 \\, t - 1\\right)} u^{3}} + \\frac{192 \\, \\sqrt{3}}{{\\left(t^{3} + 3 \\, t^{2} + 3 \\, t + 1\\right)} v^{3}} + \\frac{384 \\, \\sqrt{3}}{{\\left(t^{3} - 3 \\, t^{2} + 3 \\, t - 1\\right)} v^{3}} + \\frac{2592 \\, t^{2}}{u^{6}} - \\frac{2592 \\, t^{2}}{v^{6}} + \\frac{8640 \\, t}{u^{6}} + \\frac{8640 \\, t}{v^{6}} + \\frac{13824 \\, t}{u^{3} v^{3}} + \\frac{2592}{u^{6}} - \\frac{2592}{v^{6}}}{4 \\, {\\left(2 \\, \\sqrt{3} t + 9 \\, \\sqrt{2} t - \\frac{8 \\, \\sqrt{3} t^{2}}{t^{3} + 3 \\, t^{2} + 3 \\, t + 1} - \\frac{8 \\, \\sqrt{3} t^{2}}{t^{3} - 3 \\, t^{2} + 3 \\, t - 1} + 18 \\, t - \\frac{16 \\, \\sqrt{3} t}{t^{3} + 3 \\, t^{2} + 3 \\, t + 1} + \\frac{16 \\, \\sqrt{3} t}{t^{3} - 3 \\, t^{2} + 3 \\, t - 1} - \\frac{8 \\, \\sqrt{3}}{t^{3} + 3 \\, t^{2} + 3 \\, t + 1} - \\frac{8 \\, \\sqrt{3}}{t^{3} - 3 \\, t^{2} + 3 \\, t - 1} - \\frac{72 \\, t^{2}}{u^{3}} + \\frac{72 \\, t^{2}}{v^{3}} + \\frac{2 \\, \\sqrt{3}}{t^{2}} + \\frac{9 \\, \\sqrt{2}}{t^{2}} + \\frac{18}{t^{2}} - \\frac{432 \\, t}{u^{3}} - \\frac{432 \\, t}{v^{3}} - \\frac{72}{u^{3}} + \\frac{72}{v^{3}}\\right)}} - \\frac{\\sqrt{3} t - \\sqrt{3}}{3 \\, {\\left(t - 1\\right)}^{3}} - \\frac{3 \\, {\\left(t + 3\\right)}}{u^{3}} + \\frac{3 \\, {\\left(t - 3\\right)}}{v^{3}}$"
      ],
      "text/plain": [
       "-1/3*(sqrt(3)*t + sqrt(3))/(t^3 + 3*t^2 + 3*t + 1) - 1/4*(32*t^2/(t^3 + 3*t^2 + 3*t + 1)^2 - 32*t^2/(t^3 - 3*t^2 + 3*t - 1)^2 - 6*sqrt(3)*sqrt(2)/t^2 + 64*t/(t^3 + 3*t^2 + 3*t + 1)^2 + 64*t/(t^3 - 3*t^2 + 3*t - 1)^2 - 12*sqrt(3)/t^2 - 54*sqrt(2)/t^2 + 384*sqrt(3)*t^2/((t^3 + 3*t^2 + 3*t + 1)*u^3) + 192*sqrt(3)*t^2/((t^3 - 3*t^2 + 3*t - 1)*u^3) + 192*sqrt(3)*t^2/((t^3 + 3*t^2 + 3*t + 1)*v^3) + 384*sqrt(3)*t^2/((t^3 - 3*t^2 + 3*t - 1)*v^3) + 32/(t^3 + 3*t^2 + 3*t + 1)^2 - 32/(t^3 - 3*t^2 + 3*t - 1)^2 - 83/t^2 + 768*sqrt(3)*t/((t^3 + 3*t^2 + 3*t + 1)*u^3) - 384*sqrt(3)*t/((t^3 - 3*t^2 + 3*t - 1)*u^3) + 384*sqrt(3)*t/((t^3 + 3*t^2 + 3*t + 1)*v^3) - 768*sqrt(3)*t/((t^3 - 3*t^2 + 3*t - 1)*v^3) + 384*sqrt(3)/((t^3 + 3*t^2 + 3*t + 1)*u^3) + 192*sqrt(3)/((t^3 - 3*t^2 + 3*t - 1)*u^3) + 192*sqrt(3)/((t^3 + 3*t^2 + 3*t + 1)*v^3) + 384*sqrt(3)/((t^3 - 3*t^2 + 3*t - 1)*v^3) + 2592*t^2/u^6 - 2592*t^2/v^6 + 8640*t/u^6 + 8640*t/v^6 + 13824*t/(u^3*v^3) + 2592/u^6 - 2592/v^6)/(2*sqrt(3)*t + 9*sqrt(2)*t - 8*sqrt(3)*t^2/(t^3 + 3*t^2 + 3*t + 1) - 8*sqrt(3)*t^2/(t^3 - 3*t^2 + 3*t - 1) + 18*t - 16*sqrt(3)*t/(t^3 + 3*t^2 + 3*t + 1) + 16*sqrt(3)*t/(t^3 - 3*t^2 + 3*t - 1) - 8*sqrt(3)/(t^3 + 3*t^2 + 3*t + 1) - 8*sqrt(3)/(t^3 - 3*t^2 + 3*t - 1) - 72*t^2/u^3 + 72*t^2/v^3 + 2*sqrt(3)/t^2 + 9*sqrt(2)/t^2 + 18/t^2 - 432*t/u^3 - 432*t/v^3 - 72/u^3 + 72/v^3) - 1/3*(sqrt(3)*t - sqrt(3))/(t - 1)^3 - 3*(t + 3)/u^3 + 3*(t - 3)/v^3"
      ]
     },
     "metadata": {},
     "output_type": "display_data"
    }
   ],
   "source": [
    "show(C12_uvt)"
   ]
  },
  {
   "cell_type": "code",
   "execution_count": 33,
   "id": "6c94fe97-482a-4f61-ba3a-b560775c0c75",
   "metadata": {},
   "outputs": [
    {
     "data": {
      "text/html": [
       "<html>\\(\\displaystyle -72 \\, \\sqrt{3} \\sqrt{2} t^{9} u^{6} v^{6} + 72 \\, \\sqrt{3} t^{12} u^{6} v^{3} + 324 \\, \\sqrt{2} t^{12} u^{6} v^{3} - 72 \\, \\sqrt{3} t^{12} u^{3} v^{6} - 324 \\, \\sqrt{2} t^{12} u^{3} v^{6} - 144 \\, \\sqrt{3} t^{9} u^{6} v^{6} + 648 \\, t^{12} u^{6} v^{3} - 648 \\, t^{12} u^{3} v^{6} + 18 \\, \\sqrt{3} \\sqrt{2} t^{8} u^{6} v^{6} - 48 \\, t^{9} u^{6} v^{6} - 216 \\, \\sqrt{3} t^{11} u^{6} v^{3} - 972 \\, \\sqrt{2} t^{11} u^{6} v^{3} - 216 \\, \\sqrt{3} t^{11} u^{3} v^{6} - 972 \\, \\sqrt{2} t^{11} u^{3} v^{6} + 36 \\, \\sqrt{3} t^{8} u^{6} v^{6} + 162 \\, \\sqrt{2} t^{8} u^{6} v^{6} - 1944 \\, t^{11} u^{6} v^{3} - 1944 \\, t^{11} u^{3} v^{6} + 72 \\, \\sqrt{3} \\sqrt{2} t^{7} u^{6} v^{6} + 249 \\, t^{8} u^{6} v^{6} - 1440 \\, \\sqrt{3} t^{10} u^{6} v^{3} - 1296 \\, \\sqrt{2} t^{10} u^{6} v^{3} + 1440 \\, \\sqrt{3} t^{10} u^{3} v^{6} + 1296 \\, \\sqrt{2} t^{10} u^{3} v^{6} + 144 \\, \\sqrt{3} t^{7} u^{6} v^{6} + 2592 \\, t^{13} u^{6} - 5184 \\, t^{13} u^{3} v^{3} - 2592 \\, t^{10} u^{6} v^{3} + 2592 \\, t^{13} v^{6} + 2592 \\, t^{10} u^{3} v^{6} - 144 \\, \\sqrt{3} \\sqrt{2} t^{6} u^{6} v^{6} + 432 \\, t^{7} u^{6} v^{6} + 4392 \\, \\sqrt{3} t^{9} u^{6} v^{3} + 4212 \\, \\sqrt{2} t^{9} u^{6} v^{3} + 4248 \\, \\sqrt{3} t^{9} u^{3} v^{6} + 3564 \\, \\sqrt{2} t^{9} u^{3} v^{6} - 288 \\, \\sqrt{3} t^{6} u^{6} v^{6} - 648 \\, \\sqrt{2} t^{6} u^{6} v^{6} - 15552 \\, t^{12} u^{6} + 8424 \\, t^{9} u^{6} v^{3} + 15552 \\, t^{12} v^{6} + 7128 \\, t^{9} u^{3} v^{6} + 72 \\, \\sqrt{3} \\sqrt{2} t^{5} u^{6} v^{6} - 1044 \\, t^{6} u^{6} v^{6} + 1368 \\, \\sqrt{3} t^{8} u^{6} v^{3} + 972 \\, \\sqrt{2} t^{8} u^{6} v^{3} - 1800 \\, \\sqrt{3} t^{8} u^{3} v^{6} - 2916 \\, \\sqrt{2} t^{8} u^{3} v^{6} + 144 \\, \\sqrt{3} t^{5} u^{6} v^{6} + 12960 \\, t^{11} u^{6} + 67392 \\, t^{11} u^{3} v^{3} + 1944 \\, t^{8} u^{6} v^{3} + 12960 \\, t^{11} v^{6} - 5832 \\, t^{8} u^{3} v^{6} + 180 \\, \\sqrt{3} \\sqrt{2} t^{4} u^{6} v^{6} + 816 \\, t^{5} u^{6} v^{6} - 5040 \\, \\sqrt{3} t^{7} u^{6} v^{3} - 7128 \\, \\sqrt{2} t^{7} u^{6} v^{3} - 4464 \\, \\sqrt{3} t^{7} u^{3} v^{6} - 4536 \\, \\sqrt{2} t^{7} u^{3} v^{6} + 360 \\, \\sqrt{3} t^{4} u^{6} v^{6} + 972 \\, \\sqrt{2} t^{4} u^{6} v^{6} + 62208 \\, t^{10} u^{6} - 14256 \\, t^{7} u^{6} v^{3} - 62208 \\, t^{10} v^{6} - 9072 \\, t^{7} u^{3} v^{6} - 72 \\, \\sqrt{3} \\sqrt{2} t^{3} u^{6} v^{6} + 1542 \\, t^{4} u^{6} v^{6} + 1728 \\, \\sqrt{3} t^{6} u^{6} v^{3} + 2592 \\, \\sqrt{2} t^{6} u^{6} v^{3} + 5184 \\, \\sqrt{2} t^{6} u^{3} v^{6} - 144 \\, \\sqrt{3} t^{3} u^{6} v^{6} - 77760 \\, t^{9} u^{6} - 217728 \\, t^{9} u^{3} v^{3} + 5184 \\, t^{6} u^{6} v^{3} - 77760 \\, t^{9} v^{6} + 10368 \\, t^{6} u^{3} v^{6} + 336 \\, t^{3} u^{6} v^{6} - 2160 \\, \\sqrt{3} t^{5} u^{6} v^{3} + 5832 \\, \\sqrt{2} t^{5} u^{6} v^{3} - 3024 \\, \\sqrt{3} t^{5} u^{3} v^{6} + 1944 \\, \\sqrt{2} t^{5} u^{3} v^{6} - 648 \\, \\sqrt{2} t^{2} u^{6} v^{6} - 93312 \\, t^{8} u^{6} + 11664 \\, t^{5} u^{6} v^{3} + 93312 \\, t^{8} v^{6} + 3888 \\, t^{5} u^{3} v^{6} - 948 \\, t^{2} u^{6} v^{6} - 2376 \\, \\sqrt{3} t^{4} u^{6} v^{3} - 5508 \\, \\sqrt{2} t^{4} u^{6} v^{3} - 216 \\, \\sqrt{3} t^{4} u^{3} v^{6} - 6156 \\, \\sqrt{2} t^{4} u^{3} v^{6} + 129600 \\, t^{7} u^{6} + 300672 \\, t^{7} u^{3} v^{3} - 11016 \\, t^{4} u^{6} v^{3} + 129600 \\, t^{7} v^{6} - 12312 \\, t^{4} u^{3} v^{6} - 54 \\, \\sqrt{3} \\sqrt{2} u^{6} v^{6} + 2952 \\, \\sqrt{3} t^{3} u^{6} v^{3} - 2268 \\, \\sqrt{2} t^{3} u^{6} v^{3} + 3528 \\, \\sqrt{3} t^{3} u^{3} v^{6} + 324 \\, \\sqrt{2} t^{3} u^{3} v^{6} - 108 \\, \\sqrt{3} u^{6} v^{6} + 162 \\, \\sqrt{2} u^{6} v^{6} + 62208 \\, t^{6} u^{6} - 4536 \\, t^{3} u^{6} v^{3} - 62208 \\, t^{6} v^{6} + 648 \\, t^{3} u^{3} v^{6} + 201 \\, u^{6} v^{6} + 864 \\, \\sqrt{3} t^{2} u^{6} v^{3} + 3888 \\, \\sqrt{2} t^{2} u^{6} v^{3} + 864 \\, \\sqrt{3} t^{2} u^{3} v^{6} + 3888 \\, \\sqrt{2} t^{2} u^{3} v^{6} - 90720 \\, t^{5} u^{6} - 191808 \\, t^{5} u^{3} v^{3} + 7776 \\, t^{2} u^{6} v^{3} - 90720 \\, t^{5} v^{6} + 7776 \\, t^{2} u^{3} v^{6} + 72 \\, \\sqrt{3} t u^{6} v^{3} + 324 \\, \\sqrt{2} t u^{6} v^{3} - 72 \\, \\sqrt{3} t u^{3} v^{6} - 324 \\, \\sqrt{2} t u^{3} v^{6} - 15552 \\, t^{4} u^{6} + 648 \\, t u^{6} v^{3} + 15552 \\, t^{4} v^{6} - 648 \\, t u^{3} v^{6} - 216 \\, \\sqrt{3} u^{6} v^{3} - 972 \\, \\sqrt{2} u^{6} v^{3} - 216 \\, \\sqrt{3} u^{3} v^{6} - 972 \\, \\sqrt{2} u^{3} v^{6} + 23328 \\, t^{3} u^{6} + 46656 \\, t^{3} u^{3} v^{3} - 1944 \\, u^{6} v^{3} + 23328 \\, t^{3} v^{6} - 1944 \\, u^{3} v^{6}\\)</html>"
      ],
      "text/latex": [
       "$\\displaystyle -72 \\, \\sqrt{3} \\sqrt{2} t^{9} u^{6} v^{6} + 72 \\, \\sqrt{3} t^{12} u^{6} v^{3} + 324 \\, \\sqrt{2} t^{12} u^{6} v^{3} - 72 \\, \\sqrt{3} t^{12} u^{3} v^{6} - 324 \\, \\sqrt{2} t^{12} u^{3} v^{6} - 144 \\, \\sqrt{3} t^{9} u^{6} v^{6} + 648 \\, t^{12} u^{6} v^{3} - 648 \\, t^{12} u^{3} v^{6} + 18 \\, \\sqrt{3} \\sqrt{2} t^{8} u^{6} v^{6} - 48 \\, t^{9} u^{6} v^{6} - 216 \\, \\sqrt{3} t^{11} u^{6} v^{3} - 972 \\, \\sqrt{2} t^{11} u^{6} v^{3} - 216 \\, \\sqrt{3} t^{11} u^{3} v^{6} - 972 \\, \\sqrt{2} t^{11} u^{3} v^{6} + 36 \\, \\sqrt{3} t^{8} u^{6} v^{6} + 162 \\, \\sqrt{2} t^{8} u^{6} v^{6} - 1944 \\, t^{11} u^{6} v^{3} - 1944 \\, t^{11} u^{3} v^{6} + 72 \\, \\sqrt{3} \\sqrt{2} t^{7} u^{6} v^{6} + 249 \\, t^{8} u^{6} v^{6} - 1440 \\, \\sqrt{3} t^{10} u^{6} v^{3} - 1296 \\, \\sqrt{2} t^{10} u^{6} v^{3} + 1440 \\, \\sqrt{3} t^{10} u^{3} v^{6} + 1296 \\, \\sqrt{2} t^{10} u^{3} v^{6} + 144 \\, \\sqrt{3} t^{7} u^{6} v^{6} + 2592 \\, t^{13} u^{6} - 5184 \\, t^{13} u^{3} v^{3} - 2592 \\, t^{10} u^{6} v^{3} + 2592 \\, t^{13} v^{6} + 2592 \\, t^{10} u^{3} v^{6} - 144 \\, \\sqrt{3} \\sqrt{2} t^{6} u^{6} v^{6} + 432 \\, t^{7} u^{6} v^{6} + 4392 \\, \\sqrt{3} t^{9} u^{6} v^{3} + 4212 \\, \\sqrt{2} t^{9} u^{6} v^{3} + 4248 \\, \\sqrt{3} t^{9} u^{3} v^{6} + 3564 \\, \\sqrt{2} t^{9} u^{3} v^{6} - 288 \\, \\sqrt{3} t^{6} u^{6} v^{6} - 648 \\, \\sqrt{2} t^{6} u^{6} v^{6} - 15552 \\, t^{12} u^{6} + 8424 \\, t^{9} u^{6} v^{3} + 15552 \\, t^{12} v^{6} + 7128 \\, t^{9} u^{3} v^{6} + 72 \\, \\sqrt{3} \\sqrt{2} t^{5} u^{6} v^{6} - 1044 \\, t^{6} u^{6} v^{6} + 1368 \\, \\sqrt{3} t^{8} u^{6} v^{3} + 972 \\, \\sqrt{2} t^{8} u^{6} v^{3} - 1800 \\, \\sqrt{3} t^{8} u^{3} v^{6} - 2916 \\, \\sqrt{2} t^{8} u^{3} v^{6} + 144 \\, \\sqrt{3} t^{5} u^{6} v^{6} + 12960 \\, t^{11} u^{6} + 67392 \\, t^{11} u^{3} v^{3} + 1944 \\, t^{8} u^{6} v^{3} + 12960 \\, t^{11} v^{6} - 5832 \\, t^{8} u^{3} v^{6} + 180 \\, \\sqrt{3} \\sqrt{2} t^{4} u^{6} v^{6} + 816 \\, t^{5} u^{6} v^{6} - 5040 \\, \\sqrt{3} t^{7} u^{6} v^{3} - 7128 \\, \\sqrt{2} t^{7} u^{6} v^{3} - 4464 \\, \\sqrt{3} t^{7} u^{3} v^{6} - 4536 \\, \\sqrt{2} t^{7} u^{3} v^{6} + 360 \\, \\sqrt{3} t^{4} u^{6} v^{6} + 972 \\, \\sqrt{2} t^{4} u^{6} v^{6} + 62208 \\, t^{10} u^{6} - 14256 \\, t^{7} u^{6} v^{3} - 62208 \\, t^{10} v^{6} - 9072 \\, t^{7} u^{3} v^{6} - 72 \\, \\sqrt{3} \\sqrt{2} t^{3} u^{6} v^{6} + 1542 \\, t^{4} u^{6} v^{6} + 1728 \\, \\sqrt{3} t^{6} u^{6} v^{3} + 2592 \\, \\sqrt{2} t^{6} u^{6} v^{3} + 5184 \\, \\sqrt{2} t^{6} u^{3} v^{6} - 144 \\, \\sqrt{3} t^{3} u^{6} v^{6} - 77760 \\, t^{9} u^{6} - 217728 \\, t^{9} u^{3} v^{3} + 5184 \\, t^{6} u^{6} v^{3} - 77760 \\, t^{9} v^{6} + 10368 \\, t^{6} u^{3} v^{6} + 336 \\, t^{3} u^{6} v^{6} - 2160 \\, \\sqrt{3} t^{5} u^{6} v^{3} + 5832 \\, \\sqrt{2} t^{5} u^{6} v^{3} - 3024 \\, \\sqrt{3} t^{5} u^{3} v^{6} + 1944 \\, \\sqrt{2} t^{5} u^{3} v^{6} - 648 \\, \\sqrt{2} t^{2} u^{6} v^{6} - 93312 \\, t^{8} u^{6} + 11664 \\, t^{5} u^{6} v^{3} + 93312 \\, t^{8} v^{6} + 3888 \\, t^{5} u^{3} v^{6} - 948 \\, t^{2} u^{6} v^{6} - 2376 \\, \\sqrt{3} t^{4} u^{6} v^{3} - 5508 \\, \\sqrt{2} t^{4} u^{6} v^{3} - 216 \\, \\sqrt{3} t^{4} u^{3} v^{6} - 6156 \\, \\sqrt{2} t^{4} u^{3} v^{6} + 129600 \\, t^{7} u^{6} + 300672 \\, t^{7} u^{3} v^{3} - 11016 \\, t^{4} u^{6} v^{3} + 129600 \\, t^{7} v^{6} - 12312 \\, t^{4} u^{3} v^{6} - 54 \\, \\sqrt{3} \\sqrt{2} u^{6} v^{6} + 2952 \\, \\sqrt{3} t^{3} u^{6} v^{3} - 2268 \\, \\sqrt{2} t^{3} u^{6} v^{3} + 3528 \\, \\sqrt{3} t^{3} u^{3} v^{6} + 324 \\, \\sqrt{2} t^{3} u^{3} v^{6} - 108 \\, \\sqrt{3} u^{6} v^{6} + 162 \\, \\sqrt{2} u^{6} v^{6} + 62208 \\, t^{6} u^{6} - 4536 \\, t^{3} u^{6} v^{3} - 62208 \\, t^{6} v^{6} + 648 \\, t^{3} u^{3} v^{6} + 201 \\, u^{6} v^{6} + 864 \\, \\sqrt{3} t^{2} u^{6} v^{3} + 3888 \\, \\sqrt{2} t^{2} u^{6} v^{3} + 864 \\, \\sqrt{3} t^{2} u^{3} v^{6} + 3888 \\, \\sqrt{2} t^{2} u^{3} v^{6} - 90720 \\, t^{5} u^{6} - 191808 \\, t^{5} u^{3} v^{3} + 7776 \\, t^{2} u^{6} v^{3} - 90720 \\, t^{5} v^{6} + 7776 \\, t^{2} u^{3} v^{6} + 72 \\, \\sqrt{3} t u^{6} v^{3} + 324 \\, \\sqrt{2} t u^{6} v^{3} - 72 \\, \\sqrt{3} t u^{3} v^{6} - 324 \\, \\sqrt{2} t u^{3} v^{6} - 15552 \\, t^{4} u^{6} + 648 \\, t u^{6} v^{3} + 15552 \\, t^{4} v^{6} - 648 \\, t u^{3} v^{6} - 216 \\, \\sqrt{3} u^{6} v^{3} - 972 \\, \\sqrt{2} u^{6} v^{3} - 216 \\, \\sqrt{3} u^{3} v^{6} - 972 \\, \\sqrt{2} u^{3} v^{6} + 23328 \\, t^{3} u^{6} + 46656 \\, t^{3} u^{3} v^{3} - 1944 \\, u^{6} v^{3} + 23328 \\, t^{3} v^{6} - 1944 \\, u^{3} v^{6}$"
      ],
      "text/plain": [
       "-72*sqrt(3)*sqrt(2)*t^9*u^6*v^6 + 72*sqrt(3)*t^12*u^6*v^3 + 324*sqrt(2)*t^12*u^6*v^3 - 72*sqrt(3)*t^12*u^3*v^6 - 324*sqrt(2)*t^12*u^3*v^6 - 144*sqrt(3)*t^9*u^6*v^6 + 648*t^12*u^6*v^3 - 648*t^12*u^3*v^6 + 18*sqrt(3)*sqrt(2)*t^8*u^6*v^6 - 48*t^9*u^6*v^6 - 216*sqrt(3)*t^11*u^6*v^3 - 972*sqrt(2)*t^11*u^6*v^3 - 216*sqrt(3)*t^11*u^3*v^6 - 972*sqrt(2)*t^11*u^3*v^6 + 36*sqrt(3)*t^8*u^6*v^6 + 162*sqrt(2)*t^8*u^6*v^6 - 1944*t^11*u^6*v^3 - 1944*t^11*u^3*v^6 + 72*sqrt(3)*sqrt(2)*t^7*u^6*v^6 + 249*t^8*u^6*v^6 - 1440*sqrt(3)*t^10*u^6*v^3 - 1296*sqrt(2)*t^10*u^6*v^3 + 1440*sqrt(3)*t^10*u^3*v^6 + 1296*sqrt(2)*t^10*u^3*v^6 + 144*sqrt(3)*t^7*u^6*v^6 + 2592*t^13*u^6 - 5184*t^13*u^3*v^3 - 2592*t^10*u^6*v^3 + 2592*t^13*v^6 + 2592*t^10*u^3*v^6 - 144*sqrt(3)*sqrt(2)*t^6*u^6*v^6 + 432*t^7*u^6*v^6 + 4392*sqrt(3)*t^9*u^6*v^3 + 4212*sqrt(2)*t^9*u^6*v^3 + 4248*sqrt(3)*t^9*u^3*v^6 + 3564*sqrt(2)*t^9*u^3*v^6 - 288*sqrt(3)*t^6*u^6*v^6 - 648*sqrt(2)*t^6*u^6*v^6 - 15552*t^12*u^6 + 8424*t^9*u^6*v^3 + 15552*t^12*v^6 + 7128*t^9*u^3*v^6 + 72*sqrt(3)*sqrt(2)*t^5*u^6*v^6 - 1044*t^6*u^6*v^6 + 1368*sqrt(3)*t^8*u^6*v^3 + 972*sqrt(2)*t^8*u^6*v^3 - 1800*sqrt(3)*t^8*u^3*v^6 - 2916*sqrt(2)*t^8*u^3*v^6 + 144*sqrt(3)*t^5*u^6*v^6 + 12960*t^11*u^6 + 67392*t^11*u^3*v^3 + 1944*t^8*u^6*v^3 + 12960*t^11*v^6 - 5832*t^8*u^3*v^6 + 180*sqrt(3)*sqrt(2)*t^4*u^6*v^6 + 816*t^5*u^6*v^6 - 5040*sqrt(3)*t^7*u^6*v^3 - 7128*sqrt(2)*t^7*u^6*v^3 - 4464*sqrt(3)*t^7*u^3*v^6 - 4536*sqrt(2)*t^7*u^3*v^6 + 360*sqrt(3)*t^4*u^6*v^6 + 972*sqrt(2)*t^4*u^6*v^6 + 62208*t^10*u^6 - 14256*t^7*u^6*v^3 - 62208*t^10*v^6 - 9072*t^7*u^3*v^6 - 72*sqrt(3)*sqrt(2)*t^3*u^6*v^6 + 1542*t^4*u^6*v^6 + 1728*sqrt(3)*t^6*u^6*v^3 + 2592*sqrt(2)*t^6*u^6*v^3 + 5184*sqrt(2)*t^6*u^3*v^6 - 144*sqrt(3)*t^3*u^6*v^6 - 77760*t^9*u^6 - 217728*t^9*u^3*v^3 + 5184*t^6*u^6*v^3 - 77760*t^9*v^6 + 10368*t^6*u^3*v^6 + 336*t^3*u^6*v^6 - 2160*sqrt(3)*t^5*u^6*v^3 + 5832*sqrt(2)*t^5*u^6*v^3 - 3024*sqrt(3)*t^5*u^3*v^6 + 1944*sqrt(2)*t^5*u^3*v^6 - 648*sqrt(2)*t^2*u^6*v^6 - 93312*t^8*u^6 + 11664*t^5*u^6*v^3 + 93312*t^8*v^6 + 3888*t^5*u^3*v^6 - 948*t^2*u^6*v^6 - 2376*sqrt(3)*t^4*u^6*v^3 - 5508*sqrt(2)*t^4*u^6*v^3 - 216*sqrt(3)*t^4*u^3*v^6 - 6156*sqrt(2)*t^4*u^3*v^6 + 129600*t^7*u^6 + 300672*t^7*u^3*v^3 - 11016*t^4*u^6*v^3 + 129600*t^7*v^6 - 12312*t^4*u^3*v^6 - 54*sqrt(3)*sqrt(2)*u^6*v^6 + 2952*sqrt(3)*t^3*u^6*v^3 - 2268*sqrt(2)*t^3*u^6*v^3 + 3528*sqrt(3)*t^3*u^3*v^6 + 324*sqrt(2)*t^3*u^3*v^6 - 108*sqrt(3)*u^6*v^6 + 162*sqrt(2)*u^6*v^6 + 62208*t^6*u^6 - 4536*t^3*u^6*v^3 - 62208*t^6*v^6 + 648*t^3*u^3*v^6 + 201*u^6*v^6 + 864*sqrt(3)*t^2*u^6*v^3 + 3888*sqrt(2)*t^2*u^6*v^3 + 864*sqrt(3)*t^2*u^3*v^6 + 3888*sqrt(2)*t^2*u^3*v^6 - 90720*t^5*u^6 - 191808*t^5*u^3*v^3 + 7776*t^2*u^6*v^3 - 90720*t^5*v^6 + 7776*t^2*u^3*v^6 + 72*sqrt(3)*t*u^6*v^3 + 324*sqrt(2)*t*u^6*v^3 - 72*sqrt(3)*t*u^3*v^6 - 324*sqrt(2)*t*u^3*v^6 - 15552*t^4*u^6 + 648*t*u^6*v^3 + 15552*t^4*v^6 - 648*t*u^3*v^6 - 216*sqrt(3)*u^6*v^3 - 972*sqrt(2)*u^6*v^3 - 216*sqrt(3)*u^3*v^6 - 972*sqrt(2)*u^3*v^6 + 23328*t^3*u^6 + 46656*t^3*u^3*v^3 - 1944*u^6*v^3 + 23328*t^3*v^6 - 1944*u^3*v^6"
      ]
     },
     "metadata": {},
     "output_type": "display_data"
    }
   ],
   "source": [
    "C12_uvt_numerator = C12_uvt.numerator(); show(C12_uvt_numerator)"
   ]
  },
  {
   "cell_type": "markdown",
   "id": "ccaf3d06-adb2-4e34-9320-03d42ef11671",
   "metadata": {},
   "source": [
    "##### Calculates the Möbius coefficient"
   ]
  },
  {
   "cell_type": "code",
   "execution_count": 34,
   "id": "431bc745-3fe3-4ec0-874f-abc8ff9d703d",
   "metadata": {},
   "outputs": [],
   "source": [
    "coefficient_dict = polynomial_to_dict(C12_uvt_numerator)"
   ]
  },
  {
   "cell_type": "code",
   "execution_count": 35,
   "id": "e8d44c0c-076a-4cec-80dd-a1d58030f19a",
   "metadata": {},
   "outputs": [],
   "source": [
    "variables = C12_uvt_numerator.variables()\n",
    "total_degree  =  [C12_uvt_numerator.degree(j) for j in variables]\n",
    "n_uplas = [\n",
    "    [i, j, k]\n",
    "    for i in range(total_degree[0] + 1)\n",
    "    for j in range(total_degree[1] + 1)\n",
    "    for k in range(total_degree[2] + 1)\n",
    "]"
   ]
  },
  {
   "cell_type": "code",
   "execution_count": 36,
   "id": "7a11124f-2a5e-4815-8eea-4c25e1af9e38",
   "metadata": {},
   "outputs": [],
   "source": [
    "q1 = 3*t^2 + 2*t + 3 #u\n",
    "q2 = 3*t^2 - 2*t + 3 #v\n",
    "\n",
    "# Calculate the maximum and minimum values of u for interval with endpoints and  for t = 0 and t = 1/2.\n",
    "(u0, u1) = quadratic_extrema_on_interval(q1, (0, 1/2))\n",
    "(v0, v1) = quadratic_extrema_on_interval(q2, (0, 1/2))\n",
    "variable_ranges_0 = [(0, 1/2), (u0, u1), (v0, v1)]\n",
    "\n",
    "all_variable_ranges = [variable_ranges_0]"
   ]
  },
  {
   "cell_type": "code",
   "execution_count": 39,
   "id": "649c60a0-0004-46f4-8df5-db5a63ace1d1",
   "metadata": {},
   "outputs": [
    {
     "name": "stdout",
     "output_type": "stream",
     "text": [
      "Starting to calculate the signs of the Möbius coefficients for t in (0, 1/2)\n",
      "\n",
      "\n",
      "Iteration: 100, Elapsed time: 0.25 minutes\n",
      "Partial set of signs of the Möbius coefficients: {-1}\n",
      "\n",
      "\n",
      "Iteration: 200, Elapsed time: 0.51 minutes\n",
      "Partial set of signs of the Möbius coefficients: {-1}\n",
      "\n",
      "\n",
      "Iteration: 300, Elapsed time: 0.73 minutes\n",
      "Partial set of signs of the Möbius coefficients: {-1}\n",
      "\n",
      "\n",
      "Iteration: 400, Elapsed time: 0.91 minutes\n",
      "Partial set of signs of the Möbius coefficients: {-1}\n",
      "\n",
      "\n",
      "Iteration: 500, Elapsed time: 1.05 minutes\n",
      "Partial set of signs of the Möbius coefficients: {-1}\n",
      "\n",
      "\n",
      "Iteration: 600, Elapsed time: 1.14 minutes\n",
      "Partial set of signs of the Möbius coefficients: {-1}\n",
      "\n",
      "\n",
      "Final iteration: 685. Elapsed time: 1.20 minutes\n",
      "Set of signs of the Möbius coefficients for t in (0, 1/2): {-1}.\n",
      "\n",
      "\n"
     ]
    }
   ],
   "source": [
    "# Determines the sign of Möbius coefficients for a given polynomial expression.\n",
    "moebius_sign(C12_uvt_numerator, n_uplas, total_degree, all_variable_ranges, coefficient_dict)"
   ]
  },
  {
   "cell_type": "markdown",
   "id": "8959b27b-d573-42a6-9130-5b4e1f7bffc0",
   "metadata": {},
   "source": [
    "##### Limit at the extremes (The limits are negative at the extremes)"
   ]
  },
  {
   "cell_type": "code",
   "execution_count": 39,
   "id": "e6e3ebfc-adc6-441a-8da0-c0bb983ff3fd",
   "metadata": {},
   "outputs": [
    {
     "data": {
      "text/plain": [
       "True"
      ]
     },
     "execution_count": 39,
     "metadata": {},
     "output_type": "execute_result"
    }
   ],
   "source": [
    "\n",
    "bool(limit(C12, t=0, dir='+') < 0)"
   ]
  },
  {
   "cell_type": "code",
   "execution_count": 40,
   "id": "b11bd8ca-85b3-41f9-bad4-aad4312ffeff",
   "metadata": {},
   "outputs": [
    {
     "data": {
      "text/plain": [
       "True"
      ]
     },
     "execution_count": 40,
     "metadata": {},
     "output_type": "execute_result"
    }
   ],
   "source": [
    "bool(limit(C12, t=1/2, dir='-') < 0) "
   ]
  },
  {
   "cell_type": "markdown",
   "id": "42d79b0d-d492-46be-b42d-2e727c375705",
   "metadata": {},
   "source": [
    "##### **Part 2**. Derivative of $(C_1)_{12}(c(t),t) > 0$ for $t$ in  $[1/2, 1]$."
   ]
  },
  {
   "cell_type": "code",
   "execution_count": 47,
   "id": "8bf9b25c-2029-4541-b4d6-cc3642871667",
   "metadata": {},
   "outputs": [
    {
     "data": {
      "text/html": [
       "<html>\\(\\displaystyle \\frac{{\\left(t^{2} + 2 \\, t + 1\\right)} {\\left(\\sqrt{3} t + \\sqrt{3}\\right)}}{{\\left(t^{3} + 3 \\, t^{2} + 3 \\, t + 1\\right)}^{2}} + \\frac{{\\left(\\frac{24 \\, \\sqrt{3} {\\left(t^{2} + 2 \\, t + 1\\right)} t^{2}}{{\\left(t^{3} + 3 \\, t^{2} + 3 \\, t + 1\\right)}^{2}} + \\frac{24 \\, \\sqrt{3} {\\left(t^{2} - 2 \\, t + 1\\right)} t^{2}}{{\\left(t^{3} - 3 \\, t^{2} + 3 \\, t - 1\\right)}^{2}} + 2 \\, \\sqrt{3} + 9 \\, \\sqrt{2} - \\frac{16 \\, \\sqrt{3} t}{t^{3} + 3 \\, t^{2} + 3 \\, t + 1} - \\frac{16 \\, \\sqrt{3} t}{t^{3} - 3 \\, t^{2} + 3 \\, t - 1} + \\frac{48 \\, \\sqrt{3} {\\left(t^{2} + 2 \\, t + 1\\right)} t}{{\\left(t^{3} + 3 \\, t^{2} + 3 \\, t + 1\\right)}^{2}} - \\frac{48 \\, \\sqrt{3} {\\left(t^{2} - 2 \\, t + 1\\right)} t}{{\\left(t^{3} - 3 \\, t^{2} + 3 \\, t - 1\\right)}^{2}} + \\frac{216 \\, {\\left(3 \\, t + 1\\right)} t^{2}}{{\\left(3 \\, t^{2} + 2 \\, t + 3\\right)}^{\\frac{5}{2}}} - \\frac{216 \\, {\\left(3 \\, t - 1\\right)} t^{2}}{{\\left(3 \\, t^{2} - 2 \\, t + 3\\right)}^{\\frac{5}{2}}} - \\frac{16 \\, \\sqrt{3}}{t^{3} + 3 \\, t^{2} + 3 \\, t + 1} + \\frac{16 \\, \\sqrt{3}}{t^{3} - 3 \\, t^{2} + 3 \\, t - 1} + \\frac{24 \\, \\sqrt{3} {\\left(t^{2} + 2 \\, t + 1\\right)}}{{\\left(t^{3} + 3 \\, t^{2} + 3 \\, t + 1\\right)}^{2}} + \\frac{24 \\, \\sqrt{3} {\\left(t^{2} - 2 \\, t + 1\\right)}}{{\\left(t^{3} - 3 \\, t^{2} + 3 \\, t - 1\\right)}^{2}} - \\frac{144 \\, t}{{\\left(3 \\, t^{2} + 2 \\, t + 3\\right)}^{\\frac{3}{2}}} + \\frac{144 \\, t}{{\\left(3 \\, t^{2} - 2 \\, t + 3\\right)}^{\\frac{3}{2}}} + \\frac{1296 \\, {\\left(3 \\, t + 1\\right)} t}{{\\left(3 \\, t^{2} + 2 \\, t + 3\\right)}^{\\frac{5}{2}}} + \\frac{1296 \\, {\\left(3 \\, t - 1\\right)} t}{{\\left(3 \\, t^{2} - 2 \\, t + 3\\right)}^{\\frac{5}{2}}} - \\frac{432}{{\\left(3 \\, t^{2} + 2 \\, t + 3\\right)}^{\\frac{3}{2}}} - \\frac{432}{{\\left(3 \\, t^{2} - 2 \\, t + 3\\right)}^{\\frac{3}{2}}} + \\frac{216 \\, {\\left(3 \\, t + 1\\right)}}{{\\left(3 \\, t^{2} + 2 \\, t + 3\\right)}^{\\frac{5}{2}}} - \\frac{216 \\, {\\left(3 \\, t - 1\\right)}}{{\\left(3 \\, t^{2} - 2 \\, t + 3\\right)}^{\\frac{5}{2}}} - \\frac{4 \\, \\sqrt{3}}{t^{3}} - \\frac{18 \\, \\sqrt{2}}{t^{3}} - \\frac{36}{t^{3}} + 18\\right)} {\\left(\\frac{32 \\, t^{2}}{{\\left(t^{3} + 3 \\, t^{2} + 3 \\, t + 1\\right)}^{2}} - \\frac{32 \\, t^{2}}{{\\left(t^{3} - 3 \\, t^{2} + 3 \\, t - 1\\right)}^{2}} + \\frac{384 \\, \\sqrt{3} t^{2}}{{\\left(t^{3} + 3 \\, t^{2} + 3 \\, t + 1\\right)} {\\left(3 \\, t^{2} + 2 \\, t + 3\\right)}^{\\frac{3}{2}}} + \\frac{192 \\, \\sqrt{3} t^{2}}{{\\left(t^{3} - 3 \\, t^{2} + 3 \\, t - 1\\right)} {\\left(3 \\, t^{2} + 2 \\, t + 3\\right)}^{\\frac{3}{2}}} + \\frac{192 \\, \\sqrt{3} t^{2}}{{\\left(t^{3} + 3 \\, t^{2} + 3 \\, t + 1\\right)} {\\left(3 \\, t^{2} - 2 \\, t + 3\\right)}^{\\frac{3}{2}}} + \\frac{384 \\, \\sqrt{3} t^{2}}{{\\left(t^{3} - 3 \\, t^{2} + 3 \\, t - 1\\right)} {\\left(3 \\, t^{2} - 2 \\, t + 3\\right)}^{\\frac{3}{2}}} - \\frac{6 \\, \\sqrt{3} \\sqrt{2}}{t^{2}} + \\frac{64 \\, t}{{\\left(t^{3} + 3 \\, t^{2} + 3 \\, t + 1\\right)}^{2}} + \\frac{64 \\, t}{{\\left(t^{3} - 3 \\, t^{2} + 3 \\, t - 1\\right)}^{2}} + \\frac{768 \\, \\sqrt{3} t}{{\\left(t^{3} + 3 \\, t^{2} + 3 \\, t + 1\\right)} {\\left(3 \\, t^{2} + 2 \\, t + 3\\right)}^{\\frac{3}{2}}} - \\frac{384 \\, \\sqrt{3} t}{{\\left(t^{3} - 3 \\, t^{2} + 3 \\, t - 1\\right)} {\\left(3 \\, t^{2} + 2 \\, t + 3\\right)}^{\\frac{3}{2}}} + \\frac{384 \\, \\sqrt{3} t}{{\\left(t^{3} + 3 \\, t^{2} + 3 \\, t + 1\\right)} {\\left(3 \\, t^{2} - 2 \\, t + 3\\right)}^{\\frac{3}{2}}} - \\frac{768 \\, \\sqrt{3} t}{{\\left(t^{3} - 3 \\, t^{2} + 3 \\, t - 1\\right)} {\\left(3 \\, t^{2} - 2 \\, t + 3\\right)}^{\\frac{3}{2}}} + \\frac{2592 \\, t^{2}}{{\\left(3 \\, t^{2} + 2 \\, t + 3\\right)}^{3}} - \\frac{2592 \\, t^{2}}{{\\left(3 \\, t^{2} - 2 \\, t + 3\\right)}^{3}} - \\frac{12 \\, \\sqrt{3}}{t^{2}} - \\frac{54 \\, \\sqrt{2}}{t^{2}} + \\frac{32}{{\\left(t^{3} + 3 \\, t^{2} + 3 \\, t + 1\\right)}^{2}} - \\frac{32}{{\\left(t^{3} - 3 \\, t^{2} + 3 \\, t - 1\\right)}^{2}} + \\frac{384 \\, \\sqrt{3}}{{\\left(t^{3} + 3 \\, t^{2} + 3 \\, t + 1\\right)} {\\left(3 \\, t^{2} + 2 \\, t + 3\\right)}^{\\frac{3}{2}}} + \\frac{192 \\, \\sqrt{3}}{{\\left(t^{3} - 3 \\, t^{2} + 3 \\, t - 1\\right)} {\\left(3 \\, t^{2} + 2 \\, t + 3\\right)}^{\\frac{3}{2}}} + \\frac{192 \\, \\sqrt{3}}{{\\left(t^{3} + 3 \\, t^{2} + 3 \\, t + 1\\right)} {\\left(3 \\, t^{2} - 2 \\, t + 3\\right)}^{\\frac{3}{2}}} + \\frac{384 \\, \\sqrt{3}}{{\\left(t^{3} - 3 \\, t^{2} + 3 \\, t - 1\\right)} {\\left(3 \\, t^{2} - 2 \\, t + 3\\right)}^{\\frac{3}{2}}} - \\frac{83}{t^{2}} + \\frac{8640 \\, t}{{\\left(3 \\, t^{2} + 2 \\, t + 3\\right)}^{3}} + \\frac{8640 \\, t}{{\\left(3 \\, t^{2} - 2 \\, t + 3\\right)}^{3}} + \\frac{13824 \\, t}{{\\left(3 \\, t^{2} + 2 \\, t + 3\\right)}^{\\frac{3}{2}} {\\left(3 \\, t^{2} - 2 \\, t + 3\\right)}^{\\frac{3}{2}}} + \\frac{2592}{{\\left(3 \\, t^{2} + 2 \\, t + 3\\right)}^{3}} - \\frac{2592}{{\\left(3 \\, t^{2} - 2 \\, t + 3\\right)}^{3}}\\right)}}{4 \\, {\\left(2 \\, \\sqrt{3} t + 9 \\, \\sqrt{2} t - \\frac{8 \\, \\sqrt{3} t^{2}}{t^{3} + 3 \\, t^{2} + 3 \\, t + 1} - \\frac{8 \\, \\sqrt{3} t^{2}}{t^{3} - 3 \\, t^{2} + 3 \\, t - 1} + 18 \\, t - \\frac{16 \\, \\sqrt{3} t}{t^{3} + 3 \\, t^{2} + 3 \\, t + 1} + \\frac{16 \\, \\sqrt{3} t}{t^{3} - 3 \\, t^{2} + 3 \\, t - 1} - \\frac{72 \\, t^{2}}{{\\left(3 \\, t^{2} + 2 \\, t + 3\\right)}^{\\frac{3}{2}}} + \\frac{72 \\, t^{2}}{{\\left(3 \\, t^{2} - 2 \\, t + 3\\right)}^{\\frac{3}{2}}} - \\frac{8 \\, \\sqrt{3}}{t^{3} + 3 \\, t^{2} + 3 \\, t + 1} - \\frac{8 \\, \\sqrt{3}}{t^{3} - 3 \\, t^{2} + 3 \\, t - 1} - \\frac{432 \\, t}{{\\left(3 \\, t^{2} + 2 \\, t + 3\\right)}^{\\frac{3}{2}}} - \\frac{432 \\, t}{{\\left(3 \\, t^{2} - 2 \\, t + 3\\right)}^{\\frac{3}{2}}} - \\frac{72}{{\\left(3 \\, t^{2} + 2 \\, t + 3\\right)}^{\\frac{3}{2}}} + \\frac{72}{{\\left(3 \\, t^{2} - 2 \\, t + 3\\right)}^{\\frac{3}{2}}} + \\frac{2 \\, \\sqrt{3}}{t^{2}} + \\frac{9 \\, \\sqrt{2}}{t^{2}} + \\frac{18}{t^{2}}\\right)}^{2}} + \\frac{\\frac{96 \\, {\\left(t^{2} + 2 \\, t + 1\\right)} t^{2}}{{\\left(t^{3} + 3 \\, t^{2} + 3 \\, t + 1\\right)}^{3}} + \\frac{576 \\, \\sqrt{3} {\\left(t^{2} + 2 \\, t + 1\\right)} t^{2}}{{\\left(t^{3} + 3 \\, t^{2} + 3 \\, t + 1\\right)}^{2} {\\left(3 \\, t^{2} + 2 \\, t + 3\\right)}^{\\frac{3}{2}}} + \\frac{288 \\, \\sqrt{3} {\\left(t^{2} + 2 \\, t + 1\\right)} t^{2}}{{\\left(t^{3} + 3 \\, t^{2} + 3 \\, t + 1\\right)}^{2} {\\left(3 \\, t^{2} - 2 \\, t + 3\\right)}^{\\frac{3}{2}}} - \\frac{96 \\, {\\left(t^{2} - 2 \\, t + 1\\right)} t^{2}}{{\\left(t^{3} - 3 \\, t^{2} + 3 \\, t - 1\\right)}^{3}} + \\frac{288 \\, \\sqrt{3} {\\left(t^{2} - 2 \\, t + 1\\right)} t^{2}}{{\\left(t^{3} - 3 \\, t^{2} + 3 \\, t - 1\\right)}^{2} {\\left(3 \\, t^{2} + 2 \\, t + 3\\right)}^{\\frac{3}{2}}} + \\frac{576 \\, \\sqrt{3} {\\left(t^{2} - 2 \\, t + 1\\right)} t^{2}}{{\\left(t^{3} - 3 \\, t^{2} + 3 \\, t - 1\\right)}^{2} {\\left(3 \\, t^{2} - 2 \\, t + 3\\right)}^{\\frac{3}{2}}} + \\frac{576 \\, \\sqrt{3} {\\left(3 \\, t + 1\\right)} t^{2}}{{\\left(t^{3} + 3 \\, t^{2} + 3 \\, t + 1\\right)} {\\left(3 \\, t^{2} + 2 \\, t + 3\\right)}^{\\frac{5}{2}}} + \\frac{288 \\, \\sqrt{3} {\\left(3 \\, t + 1\\right)} t^{2}}{{\\left(t^{3} - 3 \\, t^{2} + 3 \\, t - 1\\right)} {\\left(3 \\, t^{2} + 2 \\, t + 3\\right)}^{\\frac{5}{2}}} + \\frac{288 \\, \\sqrt{3} {\\left(3 \\, t - 1\\right)} t^{2}}{{\\left(t^{3} + 3 \\, t^{2} + 3 \\, t + 1\\right)} {\\left(3 \\, t^{2} - 2 \\, t + 3\\right)}^{\\frac{5}{2}}} + \\frac{576 \\, \\sqrt{3} {\\left(3 \\, t - 1\\right)} t^{2}}{{\\left(t^{3} - 3 \\, t^{2} + 3 \\, t - 1\\right)} {\\left(3 \\, t^{2} - 2 \\, t + 3\\right)}^{\\frac{5}{2}}} - \\frac{32 \\, t}{{\\left(t^{3} + 3 \\, t^{2} + 3 \\, t + 1\\right)}^{2}} + \\frac{32 \\, t}{{\\left(t^{3} - 3 \\, t^{2} + 3 \\, t - 1\\right)}^{2}} - \\frac{384 \\, \\sqrt{3} t}{{\\left(t^{3} + 3 \\, t^{2} + 3 \\, t + 1\\right)} {\\left(3 \\, t^{2} + 2 \\, t + 3\\right)}^{\\frac{3}{2}}} - \\frac{192 \\, \\sqrt{3} t}{{\\left(t^{3} - 3 \\, t^{2} + 3 \\, t - 1\\right)} {\\left(3 \\, t^{2} + 2 \\, t + 3\\right)}^{\\frac{3}{2}}} - \\frac{192 \\, \\sqrt{3} t}{{\\left(t^{3} + 3 \\, t^{2} + 3 \\, t + 1\\right)} {\\left(3 \\, t^{2} - 2 \\, t + 3\\right)}^{\\frac{3}{2}}} - \\frac{384 \\, \\sqrt{3} t}{{\\left(t^{3} - 3 \\, t^{2} + 3 \\, t - 1\\right)} {\\left(3 \\, t^{2} - 2 \\, t + 3\\right)}^{\\frac{3}{2}}} + \\frac{192 \\, {\\left(t^{2} + 2 \\, t + 1\\right)} t}{{\\left(t^{3} + 3 \\, t^{2} + 3 \\, t + 1\\right)}^{3}} + \\frac{1152 \\, \\sqrt{3} {\\left(t^{2} + 2 \\, t + 1\\right)} t}{{\\left(t^{3} + 3 \\, t^{2} + 3 \\, t + 1\\right)}^{2} {\\left(3 \\, t^{2} + 2 \\, t + 3\\right)}^{\\frac{3}{2}}} + \\frac{576 \\, \\sqrt{3} {\\left(t^{2} + 2 \\, t + 1\\right)} t}{{\\left(t^{3} + 3 \\, t^{2} + 3 \\, t + 1\\right)}^{2} {\\left(3 \\, t^{2} - 2 \\, t + 3\\right)}^{\\frac{3}{2}}} + \\frac{192 \\, {\\left(t^{2} - 2 \\, t + 1\\right)} t}{{\\left(t^{3} - 3 \\, t^{2} + 3 \\, t - 1\\right)}^{3}} - \\frac{576 \\, \\sqrt{3} {\\left(t^{2} - 2 \\, t + 1\\right)} t}{{\\left(t^{3} - 3 \\, t^{2} + 3 \\, t - 1\\right)}^{2} {\\left(3 \\, t^{2} + 2 \\, t + 3\\right)}^{\\frac{3}{2}}} - \\frac{1152 \\, \\sqrt{3} {\\left(t^{2} - 2 \\, t + 1\\right)} t}{{\\left(t^{3} - 3 \\, t^{2} + 3 \\, t - 1\\right)}^{2} {\\left(3 \\, t^{2} - 2 \\, t + 3\\right)}^{\\frac{3}{2}}} + \\frac{1152 \\, \\sqrt{3} {\\left(3 \\, t + 1\\right)} t}{{\\left(t^{3} + 3 \\, t^{2} + 3 \\, t + 1\\right)} {\\left(3 \\, t^{2} + 2 \\, t + 3\\right)}^{\\frac{5}{2}}} - \\frac{576 \\, \\sqrt{3} {\\left(3 \\, t + 1\\right)} t}{{\\left(t^{3} - 3 \\, t^{2} + 3 \\, t - 1\\right)} {\\left(3 \\, t^{2} + 2 \\, t + 3\\right)}^{\\frac{5}{2}}} + \\frac{576 \\, \\sqrt{3} {\\left(3 \\, t - 1\\right)} t}{{\\left(t^{3} + 3 \\, t^{2} + 3 \\, t + 1\\right)} {\\left(3 \\, t^{2} - 2 \\, t + 3\\right)}^{\\frac{5}{2}}} - \\frac{1152 \\, \\sqrt{3} {\\left(3 \\, t - 1\\right)} t}{{\\left(t^{3} - 3 \\, t^{2} + 3 \\, t - 1\\right)} {\\left(3 \\, t^{2} - 2 \\, t + 3\\right)}^{\\frac{5}{2}}} + \\frac{7776 \\, {\\left(3 \\, t + 1\\right)} t^{2}}{{\\left(3 \\, t^{2} + 2 \\, t + 3\\right)}^{4}} - \\frac{7776 \\, {\\left(3 \\, t - 1\\right)} t^{2}}{{\\left(3 \\, t^{2} - 2 \\, t + 3\\right)}^{4}} - \\frac{32}{{\\left(t^{3} + 3 \\, t^{2} + 3 \\, t + 1\\right)}^{2}} - \\frac{32}{{\\left(t^{3} - 3 \\, t^{2} + 3 \\, t - 1\\right)}^{2}} - \\frac{384 \\, \\sqrt{3}}{{\\left(t^{3} + 3 \\, t^{2} + 3 \\, t + 1\\right)} {\\left(3 \\, t^{2} + 2 \\, t + 3\\right)}^{\\frac{3}{2}}} + \\frac{192 \\, \\sqrt{3}}{{\\left(t^{3} - 3 \\, t^{2} + 3 \\, t - 1\\right)} {\\left(3 \\, t^{2} + 2 \\, t + 3\\right)}^{\\frac{3}{2}}} - \\frac{192 \\, \\sqrt{3}}{{\\left(t^{3} + 3 \\, t^{2} + 3 \\, t + 1\\right)} {\\left(3 \\, t^{2} - 2 \\, t + 3\\right)}^{\\frac{3}{2}}} + \\frac{384 \\, \\sqrt{3}}{{\\left(t^{3} - 3 \\, t^{2} + 3 \\, t - 1\\right)} {\\left(3 \\, t^{2} - 2 \\, t + 3\\right)}^{\\frac{3}{2}}} + \\frac{96 \\, {\\left(t^{2} + 2 \\, t + 1\\right)}}{{\\left(t^{3} + 3 \\, t^{2} + 3 \\, t + 1\\right)}^{3}} + \\frac{576 \\, \\sqrt{3} {\\left(t^{2} + 2 \\, t + 1\\right)}}{{\\left(t^{3} + 3 \\, t^{2} + 3 \\, t + 1\\right)}^{2} {\\left(3 \\, t^{2} + 2 \\, t + 3\\right)}^{\\frac{3}{2}}} + \\frac{288 \\, \\sqrt{3} {\\left(t^{2} + 2 \\, t + 1\\right)}}{{\\left(t^{3} + 3 \\, t^{2} + 3 \\, t + 1\\right)}^{2} {\\left(3 \\, t^{2} - 2 \\, t + 3\\right)}^{\\frac{3}{2}}} - \\frac{96 \\, {\\left(t^{2} - 2 \\, t + 1\\right)}}{{\\left(t^{3} - 3 \\, t^{2} + 3 \\, t - 1\\right)}^{3}} + \\frac{288 \\, \\sqrt{3} {\\left(t^{2} - 2 \\, t + 1\\right)}}{{\\left(t^{3} - 3 \\, t^{2} + 3 \\, t - 1\\right)}^{2} {\\left(3 \\, t^{2} + 2 \\, t + 3\\right)}^{\\frac{3}{2}}} + \\frac{576 \\, \\sqrt{3} {\\left(t^{2} - 2 \\, t + 1\\right)}}{{\\left(t^{3} - 3 \\, t^{2} + 3 \\, t - 1\\right)}^{2} {\\left(3 \\, t^{2} - 2 \\, t + 3\\right)}^{\\frac{3}{2}}} + \\frac{576 \\, \\sqrt{3} {\\left(3 \\, t + 1\\right)}}{{\\left(t^{3} + 3 \\, t^{2} + 3 \\, t + 1\\right)} {\\left(3 \\, t^{2} + 2 \\, t + 3\\right)}^{\\frac{5}{2}}} + \\frac{288 \\, \\sqrt{3} {\\left(3 \\, t + 1\\right)}}{{\\left(t^{3} - 3 \\, t^{2} + 3 \\, t - 1\\right)} {\\left(3 \\, t^{2} + 2 \\, t + 3\\right)}^{\\frac{5}{2}}} + \\frac{288 \\, \\sqrt{3} {\\left(3 \\, t - 1\\right)}}{{\\left(t^{3} + 3 \\, t^{2} + 3 \\, t + 1\\right)} {\\left(3 \\, t^{2} - 2 \\, t + 3\\right)}^{\\frac{5}{2}}} + \\frac{576 \\, \\sqrt{3} {\\left(3 \\, t - 1\\right)}}{{\\left(t^{3} - 3 \\, t^{2} + 3 \\, t - 1\\right)} {\\left(3 \\, t^{2} - 2 \\, t + 3\\right)}^{\\frac{5}{2}}} - \\frac{6 \\, \\sqrt{3} \\sqrt{2}}{t^{3}} - \\frac{2592 \\, t}{{\\left(3 \\, t^{2} + 2 \\, t + 3\\right)}^{3}} + \\frac{2592 \\, t}{{\\left(3 \\, t^{2} - 2 \\, t + 3\\right)}^{3}} + \\frac{25920 \\, {\\left(3 \\, t + 1\\right)} t}{{\\left(3 \\, t^{2} + 2 \\, t + 3\\right)}^{4}} + \\frac{20736 \\, {\\left(3 \\, t + 1\\right)} t}{{\\left(3 \\, t^{2} + 2 \\, t + 3\\right)}^{\\frac{5}{2}} {\\left(3 \\, t^{2} - 2 \\, t + 3\\right)}^{\\frac{3}{2}}} + \\frac{25920 \\, {\\left(3 \\, t - 1\\right)} t}{{\\left(3 \\, t^{2} - 2 \\, t + 3\\right)}^{4}} + \\frac{20736 \\, {\\left(3 \\, t - 1\\right)} t}{{\\left(3 \\, t^{2} + 2 \\, t + 3\\right)}^{\\frac{3}{2}} {\\left(3 \\, t^{2} - 2 \\, t + 3\\right)}^{\\frac{5}{2}}} - \\frac{12 \\, \\sqrt{3}}{t^{3}} - \\frac{54 \\, \\sqrt{2}}{t^{3}} - \\frac{4320}{{\\left(3 \\, t^{2} + 2 \\, t + 3\\right)}^{3}} - \\frac{4320}{{\\left(3 \\, t^{2} - 2 \\, t + 3\\right)}^{3}} - \\frac{6912}{{\\left(3 \\, t^{2} + 2 \\, t + 3\\right)}^{\\frac{3}{2}} {\\left(3 \\, t^{2} - 2 \\, t + 3\\right)}^{\\frac{3}{2}}} + \\frac{7776 \\, {\\left(3 \\, t + 1\\right)}}{{\\left(3 \\, t^{2} + 2 \\, t + 3\\right)}^{4}} - \\frac{7776 \\, {\\left(3 \\, t - 1\\right)}}{{\\left(3 \\, t^{2} - 2 \\, t + 3\\right)}^{4}} - \\frac{83}{t^{3}}}{2 \\, {\\left(2 \\, \\sqrt{3} t + 9 \\, \\sqrt{2} t - \\frac{8 \\, \\sqrt{3} t^{2}}{t^{3} + 3 \\, t^{2} + 3 \\, t + 1} - \\frac{8 \\, \\sqrt{3} t^{2}}{t^{3} - 3 \\, t^{2} + 3 \\, t - 1} + 18 \\, t - \\frac{16 \\, \\sqrt{3} t}{t^{3} + 3 \\, t^{2} + 3 \\, t + 1} + \\frac{16 \\, \\sqrt{3} t}{t^{3} - 3 \\, t^{2} + 3 \\, t - 1} - \\frac{72 \\, t^{2}}{{\\left(3 \\, t^{2} + 2 \\, t + 3\\right)}^{\\frac{3}{2}}} + \\frac{72 \\, t^{2}}{{\\left(3 \\, t^{2} - 2 \\, t + 3\\right)}^{\\frac{3}{2}}} - \\frac{8 \\, \\sqrt{3}}{t^{3} + 3 \\, t^{2} + 3 \\, t + 1} - \\frac{8 \\, \\sqrt{3}}{t^{3} - 3 \\, t^{2} + 3 \\, t - 1} - \\frac{432 \\, t}{{\\left(3 \\, t^{2} + 2 \\, t + 3\\right)}^{\\frac{3}{2}}} - \\frac{432 \\, t}{{\\left(3 \\, t^{2} - 2 \\, t + 3\\right)}^{\\frac{3}{2}}} - \\frac{72}{{\\left(3 \\, t^{2} + 2 \\, t + 3\\right)}^{\\frac{3}{2}}} + \\frac{72}{{\\left(3 \\, t^{2} - 2 \\, t + 3\\right)}^{\\frac{3}{2}}} + \\frac{2 \\, \\sqrt{3}}{t^{2}} + \\frac{9 \\, \\sqrt{2}}{t^{2}} + \\frac{18}{t^{2}}\\right)}} - \\frac{\\sqrt{3}}{3 \\, {\\left(t^{3} + 3 \\, t^{2} + 3 \\, t + 1\\right)}} + \\frac{9 \\, {\\left(3 \\, t + 1\\right)} {\\left(t + 3\\right)}}{{\\left(3 \\, t^{2} + 2 \\, t + 3\\right)}^{\\frac{5}{2}}} - \\frac{9 \\, {\\left(3 \\, t - 1\\right)} {\\left(t - 3\\right)}}{{\\left(3 \\, t^{2} - 2 \\, t + 3\\right)}^{\\frac{5}{2}}} - \\frac{3}{{\\left(3 \\, t^{2} + 2 \\, t + 3\\right)}^{\\frac{3}{2}}} + \\frac{3}{{\\left(3 \\, t^{2} - 2 \\, t + 3\\right)}^{\\frac{3}{2}}} - \\frac{\\sqrt{3}}{3 \\, {\\left(t - 1\\right)}^{3}} + \\frac{\\sqrt{3} t - \\sqrt{3}}{{\\left(t - 1\\right)}^{4}}\\)</html>"
      ],
      "text/latex": [
       "$\\displaystyle \\frac{{\\left(t^{2} + 2 \\, t + 1\\right)} {\\left(\\sqrt{3} t + \\sqrt{3}\\right)}}{{\\left(t^{3} + 3 \\, t^{2} + 3 \\, t + 1\\right)}^{2}} + \\frac{{\\left(\\frac{24 \\, \\sqrt{3} {\\left(t^{2} + 2 \\, t + 1\\right)} t^{2}}{{\\left(t^{3} + 3 \\, t^{2} + 3 \\, t + 1\\right)}^{2}} + \\frac{24 \\, \\sqrt{3} {\\left(t^{2} - 2 \\, t + 1\\right)} t^{2}}{{\\left(t^{3} - 3 \\, t^{2} + 3 \\, t - 1\\right)}^{2}} + 2 \\, \\sqrt{3} + 9 \\, \\sqrt{2} - \\frac{16 \\, \\sqrt{3} t}{t^{3} + 3 \\, t^{2} + 3 \\, t + 1} - \\frac{16 \\, \\sqrt{3} t}{t^{3} - 3 \\, t^{2} + 3 \\, t - 1} + \\frac{48 \\, \\sqrt{3} {\\left(t^{2} + 2 \\, t + 1\\right)} t}{{\\left(t^{3} + 3 \\, t^{2} + 3 \\, t + 1\\right)}^{2}} - \\frac{48 \\, \\sqrt{3} {\\left(t^{2} - 2 \\, t + 1\\right)} t}{{\\left(t^{3} - 3 \\, t^{2} + 3 \\, t - 1\\right)}^{2}} + \\frac{216 \\, {\\left(3 \\, t + 1\\right)} t^{2}}{{\\left(3 \\, t^{2} + 2 \\, t + 3\\right)}^{\\frac{5}{2}}} - \\frac{216 \\, {\\left(3 \\, t - 1\\right)} t^{2}}{{\\left(3 \\, t^{2} - 2 \\, t + 3\\right)}^{\\frac{5}{2}}} - \\frac{16 \\, \\sqrt{3}}{t^{3} + 3 \\, t^{2} + 3 \\, t + 1} + \\frac{16 \\, \\sqrt{3}}{t^{3} - 3 \\, t^{2} + 3 \\, t - 1} + \\frac{24 \\, \\sqrt{3} {\\left(t^{2} + 2 \\, t + 1\\right)}}{{\\left(t^{3} + 3 \\, t^{2} + 3 \\, t + 1\\right)}^{2}} + \\frac{24 \\, \\sqrt{3} {\\left(t^{2} - 2 \\, t + 1\\right)}}{{\\left(t^{3} - 3 \\, t^{2} + 3 \\, t - 1\\right)}^{2}} - \\frac{144 \\, t}{{\\left(3 \\, t^{2} + 2 \\, t + 3\\right)}^{\\frac{3}{2}}} + \\frac{144 \\, t}{{\\left(3 \\, t^{2} - 2 \\, t + 3\\right)}^{\\frac{3}{2}}} + \\frac{1296 \\, {\\left(3 \\, t + 1\\right)} t}{{\\left(3 \\, t^{2} + 2 \\, t + 3\\right)}^{\\frac{5}{2}}} + \\frac{1296 \\, {\\left(3 \\, t - 1\\right)} t}{{\\left(3 \\, t^{2} - 2 \\, t + 3\\right)}^{\\frac{5}{2}}} - \\frac{432}{{\\left(3 \\, t^{2} + 2 \\, t + 3\\right)}^{\\frac{3}{2}}} - \\frac{432}{{\\left(3 \\, t^{2} - 2 \\, t + 3\\right)}^{\\frac{3}{2}}} + \\frac{216 \\, {\\left(3 \\, t + 1\\right)}}{{\\left(3 \\, t^{2} + 2 \\, t + 3\\right)}^{\\frac{5}{2}}} - \\frac{216 \\, {\\left(3 \\, t - 1\\right)}}{{\\left(3 \\, t^{2} - 2 \\, t + 3\\right)}^{\\frac{5}{2}}} - \\frac{4 \\, \\sqrt{3}}{t^{3}} - \\frac{18 \\, \\sqrt{2}}{t^{3}} - \\frac{36}{t^{3}} + 18\\right)} {\\left(\\frac{32 \\, t^{2}}{{\\left(t^{3} + 3 \\, t^{2} + 3 \\, t + 1\\right)}^{2}} - \\frac{32 \\, t^{2}}{{\\left(t^{3} - 3 \\, t^{2} + 3 \\, t - 1\\right)}^{2}} + \\frac{384 \\, \\sqrt{3} t^{2}}{{\\left(t^{3} + 3 \\, t^{2} + 3 \\, t + 1\\right)} {\\left(3 \\, t^{2} + 2 \\, t + 3\\right)}^{\\frac{3}{2}}} + \\frac{192 \\, \\sqrt{3} t^{2}}{{\\left(t^{3} - 3 \\, t^{2} + 3 \\, t - 1\\right)} {\\left(3 \\, t^{2} + 2 \\, t + 3\\right)}^{\\frac{3}{2}}} + \\frac{192 \\, \\sqrt{3} t^{2}}{{\\left(t^{3} + 3 \\, t^{2} + 3 \\, t + 1\\right)} {\\left(3 \\, t^{2} - 2 \\, t + 3\\right)}^{\\frac{3}{2}}} + \\frac{384 \\, \\sqrt{3} t^{2}}{{\\left(t^{3} - 3 \\, t^{2} + 3 \\, t - 1\\right)} {\\left(3 \\, t^{2} - 2 \\, t + 3\\right)}^{\\frac{3}{2}}} - \\frac{6 \\, \\sqrt{3} \\sqrt{2}}{t^{2}} + \\frac{64 \\, t}{{\\left(t^{3} + 3 \\, t^{2} + 3 \\, t + 1\\right)}^{2}} + \\frac{64 \\, t}{{\\left(t^{3} - 3 \\, t^{2} + 3 \\, t - 1\\right)}^{2}} + \\frac{768 \\, \\sqrt{3} t}{{\\left(t^{3} + 3 \\, t^{2} + 3 \\, t + 1\\right)} {\\left(3 \\, t^{2} + 2 \\, t + 3\\right)}^{\\frac{3}{2}}} - \\frac{384 \\, \\sqrt{3} t}{{\\left(t^{3} - 3 \\, t^{2} + 3 \\, t - 1\\right)} {\\left(3 \\, t^{2} + 2 \\, t + 3\\right)}^{\\frac{3}{2}}} + \\frac{384 \\, \\sqrt{3} t}{{\\left(t^{3} + 3 \\, t^{2} + 3 \\, t + 1\\right)} {\\left(3 \\, t^{2} - 2 \\, t + 3\\right)}^{\\frac{3}{2}}} - \\frac{768 \\, \\sqrt{3} t}{{\\left(t^{3} - 3 \\, t^{2} + 3 \\, t - 1\\right)} {\\left(3 \\, t^{2} - 2 \\, t + 3\\right)}^{\\frac{3}{2}}} + \\frac{2592 \\, t^{2}}{{\\left(3 \\, t^{2} + 2 \\, t + 3\\right)}^{3}} - \\frac{2592 \\, t^{2}}{{\\left(3 \\, t^{2} - 2 \\, t + 3\\right)}^{3}} - \\frac{12 \\, \\sqrt{3}}{t^{2}} - \\frac{54 \\, \\sqrt{2}}{t^{2}} + \\frac{32}{{\\left(t^{3} + 3 \\, t^{2} + 3 \\, t + 1\\right)}^{2}} - \\frac{32}{{\\left(t^{3} - 3 \\, t^{2} + 3 \\, t - 1\\right)}^{2}} + \\frac{384 \\, \\sqrt{3}}{{\\left(t^{3} + 3 \\, t^{2} + 3 \\, t + 1\\right)} {\\left(3 \\, t^{2} + 2 \\, t + 3\\right)}^{\\frac{3}{2}}} + \\frac{192 \\, \\sqrt{3}}{{\\left(t^{3} - 3 \\, t^{2} + 3 \\, t - 1\\right)} {\\left(3 \\, t^{2} + 2 \\, t + 3\\right)}^{\\frac{3}{2}}} + \\frac{192 \\, \\sqrt{3}}{{\\left(t^{3} + 3 \\, t^{2} + 3 \\, t + 1\\right)} {\\left(3 \\, t^{2} - 2 \\, t + 3\\right)}^{\\frac{3}{2}}} + \\frac{384 \\, \\sqrt{3}}{{\\left(t^{3} - 3 \\, t^{2} + 3 \\, t - 1\\right)} {\\left(3 \\, t^{2} - 2 \\, t + 3\\right)}^{\\frac{3}{2}}} - \\frac{83}{t^{2}} + \\frac{8640 \\, t}{{\\left(3 \\, t^{2} + 2 \\, t + 3\\right)}^{3}} + \\frac{8640 \\, t}{{\\left(3 \\, t^{2} - 2 \\, t + 3\\right)}^{3}} + \\frac{13824 \\, t}{{\\left(3 \\, t^{2} + 2 \\, t + 3\\right)}^{\\frac{3}{2}} {\\left(3 \\, t^{2} - 2 \\, t + 3\\right)}^{\\frac{3}{2}}} + \\frac{2592}{{\\left(3 \\, t^{2} + 2 \\, t + 3\\right)}^{3}} - \\frac{2592}{{\\left(3 \\, t^{2} - 2 \\, t + 3\\right)}^{3}}\\right)}}{4 \\, {\\left(2 \\, \\sqrt{3} t + 9 \\, \\sqrt{2} t - \\frac{8 \\, \\sqrt{3} t^{2}}{t^{3} + 3 \\, t^{2} + 3 \\, t + 1} - \\frac{8 \\, \\sqrt{3} t^{2}}{t^{3} - 3 \\, t^{2} + 3 \\, t - 1} + 18 \\, t - \\frac{16 \\, \\sqrt{3} t}{t^{3} + 3 \\, t^{2} + 3 \\, t + 1} + \\frac{16 \\, \\sqrt{3} t}{t^{3} - 3 \\, t^{2} + 3 \\, t - 1} - \\frac{72 \\, t^{2}}{{\\left(3 \\, t^{2} + 2 \\, t + 3\\right)}^{\\frac{3}{2}}} + \\frac{72 \\, t^{2}}{{\\left(3 \\, t^{2} - 2 \\, t + 3\\right)}^{\\frac{3}{2}}} - \\frac{8 \\, \\sqrt{3}}{t^{3} + 3 \\, t^{2} + 3 \\, t + 1} - \\frac{8 \\, \\sqrt{3}}{t^{3} - 3 \\, t^{2} + 3 \\, t - 1} - \\frac{432 \\, t}{{\\left(3 \\, t^{2} + 2 \\, t + 3\\right)}^{\\frac{3}{2}}} - \\frac{432 \\, t}{{\\left(3 \\, t^{2} - 2 \\, t + 3\\right)}^{\\frac{3}{2}}} - \\frac{72}{{\\left(3 \\, t^{2} + 2 \\, t + 3\\right)}^{\\frac{3}{2}}} + \\frac{72}{{\\left(3 \\, t^{2} - 2 \\, t + 3\\right)}^{\\frac{3}{2}}} + \\frac{2 \\, \\sqrt{3}}{t^{2}} + \\frac{9 \\, \\sqrt{2}}{t^{2}} + \\frac{18}{t^{2}}\\right)}^{2}} + \\frac{\\frac{96 \\, {\\left(t^{2} + 2 \\, t + 1\\right)} t^{2}}{{\\left(t^{3} + 3 \\, t^{2} + 3 \\, t + 1\\right)}^{3}} + \\frac{576 \\, \\sqrt{3} {\\left(t^{2} + 2 \\, t + 1\\right)} t^{2}}{{\\left(t^{3} + 3 \\, t^{2} + 3 \\, t + 1\\right)}^{2} {\\left(3 \\, t^{2} + 2 \\, t + 3\\right)}^{\\frac{3}{2}}} + \\frac{288 \\, \\sqrt{3} {\\left(t^{2} + 2 \\, t + 1\\right)} t^{2}}{{\\left(t^{3} + 3 \\, t^{2} + 3 \\, t + 1\\right)}^{2} {\\left(3 \\, t^{2} - 2 \\, t + 3\\right)}^{\\frac{3}{2}}} - \\frac{96 \\, {\\left(t^{2} - 2 \\, t + 1\\right)} t^{2}}{{\\left(t^{3} - 3 \\, t^{2} + 3 \\, t - 1\\right)}^{3}} + \\frac{288 \\, \\sqrt{3} {\\left(t^{2} - 2 \\, t + 1\\right)} t^{2}}{{\\left(t^{3} - 3 \\, t^{2} + 3 \\, t - 1\\right)}^{2} {\\left(3 \\, t^{2} + 2 \\, t + 3\\right)}^{\\frac{3}{2}}} + \\frac{576 \\, \\sqrt{3} {\\left(t^{2} - 2 \\, t + 1\\right)} t^{2}}{{\\left(t^{3} - 3 \\, t^{2} + 3 \\, t - 1\\right)}^{2} {\\left(3 \\, t^{2} - 2 \\, t + 3\\right)}^{\\frac{3}{2}}} + \\frac{576 \\, \\sqrt{3} {\\left(3 \\, t + 1\\right)} t^{2}}{{\\left(t^{3} + 3 \\, t^{2} + 3 \\, t + 1\\right)} {\\left(3 \\, t^{2} + 2 \\, t + 3\\right)}^{\\frac{5}{2}}} + \\frac{288 \\, \\sqrt{3} {\\left(3 \\, t + 1\\right)} t^{2}}{{\\left(t^{3} - 3 \\, t^{2} + 3 \\, t - 1\\right)} {\\left(3 \\, t^{2} + 2 \\, t + 3\\right)}^{\\frac{5}{2}}} + \\frac{288 \\, \\sqrt{3} {\\left(3 \\, t - 1\\right)} t^{2}}{{\\left(t^{3} + 3 \\, t^{2} + 3 \\, t + 1\\right)} {\\left(3 \\, t^{2} - 2 \\, t + 3\\right)}^{\\frac{5}{2}}} + \\frac{576 \\, \\sqrt{3} {\\left(3 \\, t - 1\\right)} t^{2}}{{\\left(t^{3} - 3 \\, t^{2} + 3 \\, t - 1\\right)} {\\left(3 \\, t^{2} - 2 \\, t + 3\\right)}^{\\frac{5}{2}}} - \\frac{32 \\, t}{{\\left(t^{3} + 3 \\, t^{2} + 3 \\, t + 1\\right)}^{2}} + \\frac{32 \\, t}{{\\left(t^{3} - 3 \\, t^{2} + 3 \\, t - 1\\right)}^{2}} - \\frac{384 \\, \\sqrt{3} t}{{\\left(t^{3} + 3 \\, t^{2} + 3 \\, t + 1\\right)} {\\left(3 \\, t^{2} + 2 \\, t + 3\\right)}^{\\frac{3}{2}}} - \\frac{192 \\, \\sqrt{3} t}{{\\left(t^{3} - 3 \\, t^{2} + 3 \\, t - 1\\right)} {\\left(3 \\, t^{2} + 2 \\, t + 3\\right)}^{\\frac{3}{2}}} - \\frac{192 \\, \\sqrt{3} t}{{\\left(t^{3} + 3 \\, t^{2} + 3 \\, t + 1\\right)} {\\left(3 \\, t^{2} - 2 \\, t + 3\\right)}^{\\frac{3}{2}}} - \\frac{384 \\, \\sqrt{3} t}{{\\left(t^{3} - 3 \\, t^{2} + 3 \\, t - 1\\right)} {\\left(3 \\, t^{2} - 2 \\, t + 3\\right)}^{\\frac{3}{2}}} + \\frac{192 \\, {\\left(t^{2} + 2 \\, t + 1\\right)} t}{{\\left(t^{3} + 3 \\, t^{2} + 3 \\, t + 1\\right)}^{3}} + \\frac{1152 \\, \\sqrt{3} {\\left(t^{2} + 2 \\, t + 1\\right)} t}{{\\left(t^{3} + 3 \\, t^{2} + 3 \\, t + 1\\right)}^{2} {\\left(3 \\, t^{2} + 2 \\, t + 3\\right)}^{\\frac{3}{2}}} + \\frac{576 \\, \\sqrt{3} {\\left(t^{2} + 2 \\, t + 1\\right)} t}{{\\left(t^{3} + 3 \\, t^{2} + 3 \\, t + 1\\right)}^{2} {\\left(3 \\, t^{2} - 2 \\, t + 3\\right)}^{\\frac{3}{2}}} + \\frac{192 \\, {\\left(t^{2} - 2 \\, t + 1\\right)} t}{{\\left(t^{3} - 3 \\, t^{2} + 3 \\, t - 1\\right)}^{3}} - \\frac{576 \\, \\sqrt{3} {\\left(t^{2} - 2 \\, t + 1\\right)} t}{{\\left(t^{3} - 3 \\, t^{2} + 3 \\, t - 1\\right)}^{2} {\\left(3 \\, t^{2} + 2 \\, t + 3\\right)}^{\\frac{3}{2}}} - \\frac{1152 \\, \\sqrt{3} {\\left(t^{2} - 2 \\, t + 1\\right)} t}{{\\left(t^{3} - 3 \\, t^{2} + 3 \\, t - 1\\right)}^{2} {\\left(3 \\, t^{2} - 2 \\, t + 3\\right)}^{\\frac{3}{2}}} + \\frac{1152 \\, \\sqrt{3} {\\left(3 \\, t + 1\\right)} t}{{\\left(t^{3} + 3 \\, t^{2} + 3 \\, t + 1\\right)} {\\left(3 \\, t^{2} + 2 \\, t + 3\\right)}^{\\frac{5}{2}}} - \\frac{576 \\, \\sqrt{3} {\\left(3 \\, t + 1\\right)} t}{{\\left(t^{3} - 3 \\, t^{2} + 3 \\, t - 1\\right)} {\\left(3 \\, t^{2} + 2 \\, t + 3\\right)}^{\\frac{5}{2}}} + \\frac{576 \\, \\sqrt{3} {\\left(3 \\, t - 1\\right)} t}{{\\left(t^{3} + 3 \\, t^{2} + 3 \\, t + 1\\right)} {\\left(3 \\, t^{2} - 2 \\, t + 3\\right)}^{\\frac{5}{2}}} - \\frac{1152 \\, \\sqrt{3} {\\left(3 \\, t - 1\\right)} t}{{\\left(t^{3} - 3 \\, t^{2} + 3 \\, t - 1\\right)} {\\left(3 \\, t^{2} - 2 \\, t + 3\\right)}^{\\frac{5}{2}}} + \\frac{7776 \\, {\\left(3 \\, t + 1\\right)} t^{2}}{{\\left(3 \\, t^{2} + 2 \\, t + 3\\right)}^{4}} - \\frac{7776 \\, {\\left(3 \\, t - 1\\right)} t^{2}}{{\\left(3 \\, t^{2} - 2 \\, t + 3\\right)}^{4}} - \\frac{32}{{\\left(t^{3} + 3 \\, t^{2} + 3 \\, t + 1\\right)}^{2}} - \\frac{32}{{\\left(t^{3} - 3 \\, t^{2} + 3 \\, t - 1\\right)}^{2}} - \\frac{384 \\, \\sqrt{3}}{{\\left(t^{3} + 3 \\, t^{2} + 3 \\, t + 1\\right)} {\\left(3 \\, t^{2} + 2 \\, t + 3\\right)}^{\\frac{3}{2}}} + \\frac{192 \\, \\sqrt{3}}{{\\left(t^{3} - 3 \\, t^{2} + 3 \\, t - 1\\right)} {\\left(3 \\, t^{2} + 2 \\, t + 3\\right)}^{\\frac{3}{2}}} - \\frac{192 \\, \\sqrt{3}}{{\\left(t^{3} + 3 \\, t^{2} + 3 \\, t + 1\\right)} {\\left(3 \\, t^{2} - 2 \\, t + 3\\right)}^{\\frac{3}{2}}} + \\frac{384 \\, \\sqrt{3}}{{\\left(t^{3} - 3 \\, t^{2} + 3 \\, t - 1\\right)} {\\left(3 \\, t^{2} - 2 \\, t + 3\\right)}^{\\frac{3}{2}}} + \\frac{96 \\, {\\left(t^{2} + 2 \\, t + 1\\right)}}{{\\left(t^{3} + 3 \\, t^{2} + 3 \\, t + 1\\right)}^{3}} + \\frac{576 \\, \\sqrt{3} {\\left(t^{2} + 2 \\, t + 1\\right)}}{{\\left(t^{3} + 3 \\, t^{2} + 3 \\, t + 1\\right)}^{2} {\\left(3 \\, t^{2} + 2 \\, t + 3\\right)}^{\\frac{3}{2}}} + \\frac{288 \\, \\sqrt{3} {\\left(t^{2} + 2 \\, t + 1\\right)}}{{\\left(t^{3} + 3 \\, t^{2} + 3 \\, t + 1\\right)}^{2} {\\left(3 \\, t^{2} - 2 \\, t + 3\\right)}^{\\frac{3}{2}}} - \\frac{96 \\, {\\left(t^{2} - 2 \\, t + 1\\right)}}{{\\left(t^{3} - 3 \\, t^{2} + 3 \\, t - 1\\right)}^{3}} + \\frac{288 \\, \\sqrt{3} {\\left(t^{2} - 2 \\, t + 1\\right)}}{{\\left(t^{3} - 3 \\, t^{2} + 3 \\, t - 1\\right)}^{2} {\\left(3 \\, t^{2} + 2 \\, t + 3\\right)}^{\\frac{3}{2}}} + \\frac{576 \\, \\sqrt{3} {\\left(t^{2} - 2 \\, t + 1\\right)}}{{\\left(t^{3} - 3 \\, t^{2} + 3 \\, t - 1\\right)}^{2} {\\left(3 \\, t^{2} - 2 \\, t + 3\\right)}^{\\frac{3}{2}}} + \\frac{576 \\, \\sqrt{3} {\\left(3 \\, t + 1\\right)}}{{\\left(t^{3} + 3 \\, t^{2} + 3 \\, t + 1\\right)} {\\left(3 \\, t^{2} + 2 \\, t + 3\\right)}^{\\frac{5}{2}}} + \\frac{288 \\, \\sqrt{3} {\\left(3 \\, t + 1\\right)}}{{\\left(t^{3} - 3 \\, t^{2} + 3 \\, t - 1\\right)} {\\left(3 \\, t^{2} + 2 \\, t + 3\\right)}^{\\frac{5}{2}}} + \\frac{288 \\, \\sqrt{3} {\\left(3 \\, t - 1\\right)}}{{\\left(t^{3} + 3 \\, t^{2} + 3 \\, t + 1\\right)} {\\left(3 \\, t^{2} - 2 \\, t + 3\\right)}^{\\frac{5}{2}}} + \\frac{576 \\, \\sqrt{3} {\\left(3 \\, t - 1\\right)}}{{\\left(t^{3} - 3 \\, t^{2} + 3 \\, t - 1\\right)} {\\left(3 \\, t^{2} - 2 \\, t + 3\\right)}^{\\frac{5}{2}}} - \\frac{6 \\, \\sqrt{3} \\sqrt{2}}{t^{3}} - \\frac{2592 \\, t}{{\\left(3 \\, t^{2} + 2 \\, t + 3\\right)}^{3}} + \\frac{2592 \\, t}{{\\left(3 \\, t^{2} - 2 \\, t + 3\\right)}^{3}} + \\frac{25920 \\, {\\left(3 \\, t + 1\\right)} t}{{\\left(3 \\, t^{2} + 2 \\, t + 3\\right)}^{4}} + \\frac{20736 \\, {\\left(3 \\, t + 1\\right)} t}{{\\left(3 \\, t^{2} + 2 \\, t + 3\\right)}^{\\frac{5}{2}} {\\left(3 \\, t^{2} - 2 \\, t + 3\\right)}^{\\frac{3}{2}}} + \\frac{25920 \\, {\\left(3 \\, t - 1\\right)} t}{{\\left(3 \\, t^{2} - 2 \\, t + 3\\right)}^{4}} + \\frac{20736 \\, {\\left(3 \\, t - 1\\right)} t}{{\\left(3 \\, t^{2} + 2 \\, t + 3\\right)}^{\\frac{3}{2}} {\\left(3 \\, t^{2} - 2 \\, t + 3\\right)}^{\\frac{5}{2}}} - \\frac{12 \\, \\sqrt{3}}{t^{3}} - \\frac{54 \\, \\sqrt{2}}{t^{3}} - \\frac{4320}{{\\left(3 \\, t^{2} + 2 \\, t + 3\\right)}^{3}} - \\frac{4320}{{\\left(3 \\, t^{2} - 2 \\, t + 3\\right)}^{3}} - \\frac{6912}{{\\left(3 \\, t^{2} + 2 \\, t + 3\\right)}^{\\frac{3}{2}} {\\left(3 \\, t^{2} - 2 \\, t + 3\\right)}^{\\frac{3}{2}}} + \\frac{7776 \\, {\\left(3 \\, t + 1\\right)}}{{\\left(3 \\, t^{2} + 2 \\, t + 3\\right)}^{4}} - \\frac{7776 \\, {\\left(3 \\, t - 1\\right)}}{{\\left(3 \\, t^{2} - 2 \\, t + 3\\right)}^{4}} - \\frac{83}{t^{3}}}{2 \\, {\\left(2 \\, \\sqrt{3} t + 9 \\, \\sqrt{2} t - \\frac{8 \\, \\sqrt{3} t^{2}}{t^{3} + 3 \\, t^{2} + 3 \\, t + 1} - \\frac{8 \\, \\sqrt{3} t^{2}}{t^{3} - 3 \\, t^{2} + 3 \\, t - 1} + 18 \\, t - \\frac{16 \\, \\sqrt{3} t}{t^{3} + 3 \\, t^{2} + 3 \\, t + 1} + \\frac{16 \\, \\sqrt{3} t}{t^{3} - 3 \\, t^{2} + 3 \\, t - 1} - \\frac{72 \\, t^{2}}{{\\left(3 \\, t^{2} + 2 \\, t + 3\\right)}^{\\frac{3}{2}}} + \\frac{72 \\, t^{2}}{{\\left(3 \\, t^{2} - 2 \\, t + 3\\right)}^{\\frac{3}{2}}} - \\frac{8 \\, \\sqrt{3}}{t^{3} + 3 \\, t^{2} + 3 \\, t + 1} - \\frac{8 \\, \\sqrt{3}}{t^{3} - 3 \\, t^{2} + 3 \\, t - 1} - \\frac{432 \\, t}{{\\left(3 \\, t^{2} + 2 \\, t + 3\\right)}^{\\frac{3}{2}}} - \\frac{432 \\, t}{{\\left(3 \\, t^{2} - 2 \\, t + 3\\right)}^{\\frac{3}{2}}} - \\frac{72}{{\\left(3 \\, t^{2} + 2 \\, t + 3\\right)}^{\\frac{3}{2}}} + \\frac{72}{{\\left(3 \\, t^{2} - 2 \\, t + 3\\right)}^{\\frac{3}{2}}} + \\frac{2 \\, \\sqrt{3}}{t^{2}} + \\frac{9 \\, \\sqrt{2}}{t^{2}} + \\frac{18}{t^{2}}\\right)}} - \\frac{\\sqrt{3}}{3 \\, {\\left(t^{3} + 3 \\, t^{2} + 3 \\, t + 1\\right)}} + \\frac{9 \\, {\\left(3 \\, t + 1\\right)} {\\left(t + 3\\right)}}{{\\left(3 \\, t^{2} + 2 \\, t + 3\\right)}^{\\frac{5}{2}}} - \\frac{9 \\, {\\left(3 \\, t - 1\\right)} {\\left(t - 3\\right)}}{{\\left(3 \\, t^{2} - 2 \\, t + 3\\right)}^{\\frac{5}{2}}} - \\frac{3}{{\\left(3 \\, t^{2} + 2 \\, t + 3\\right)}^{\\frac{3}{2}}} + \\frac{3}{{\\left(3 \\, t^{2} - 2 \\, t + 3\\right)}^{\\frac{3}{2}}} - \\frac{\\sqrt{3}}{3 \\, {\\left(t - 1\\right)}^{3}} + \\frac{\\sqrt{3} t - \\sqrt{3}}{{\\left(t - 1\\right)}^{4}}$"
      ],
      "text/plain": [
       "(t^2 + 2*t + 1)*(sqrt(3)*t + sqrt(3))/(t^3 + 3*t^2 + 3*t + 1)^2 + 1/4*(24*sqrt(3)*(t^2 + 2*t + 1)*t^2/(t^3 + 3*t^2 + 3*t + 1)^2 + 24*sqrt(3)*(t^2 - 2*t + 1)*t^2/(t^3 - 3*t^2 + 3*t - 1)^2 + 2*sqrt(3) + 9*sqrt(2) - 16*sqrt(3)*t/(t^3 + 3*t^2 + 3*t + 1) - 16*sqrt(3)*t/(t^3 - 3*t^2 + 3*t - 1) + 48*sqrt(3)*(t^2 + 2*t + 1)*t/(t^3 + 3*t^2 + 3*t + 1)^2 - 48*sqrt(3)*(t^2 - 2*t + 1)*t/(t^3 - 3*t^2 + 3*t - 1)^2 + 216*(3*t + 1)*t^2/(3*t^2 + 2*t + 3)^(5/2) - 216*(3*t - 1)*t^2/(3*t^2 - 2*t + 3)^(5/2) - 16*sqrt(3)/(t^3 + 3*t^2 + 3*t + 1) + 16*sqrt(3)/(t^3 - 3*t^2 + 3*t - 1) + 24*sqrt(3)*(t^2 + 2*t + 1)/(t^3 + 3*t^2 + 3*t + 1)^2 + 24*sqrt(3)*(t^2 - 2*t + 1)/(t^3 - 3*t^2 + 3*t - 1)^2 - 144*t/(3*t^2 + 2*t + 3)^(3/2) + 144*t/(3*t^2 - 2*t + 3)^(3/2) + 1296*(3*t + 1)*t/(3*t^2 + 2*t + 3)^(5/2) + 1296*(3*t - 1)*t/(3*t^2 - 2*t + 3)^(5/2) - 432/(3*t^2 + 2*t + 3)^(3/2) - 432/(3*t^2 - 2*t + 3)^(3/2) + 216*(3*t + 1)/(3*t^2 + 2*t + 3)^(5/2) - 216*(3*t - 1)/(3*t^2 - 2*t + 3)^(5/2) - 4*sqrt(3)/t^3 - 18*sqrt(2)/t^3 - 36/t^3 + 18)*(32*t^2/(t^3 + 3*t^2 + 3*t + 1)^2 - 32*t^2/(t^3 - 3*t^2 + 3*t - 1)^2 + 384*sqrt(3)*t^2/((t^3 + 3*t^2 + 3*t + 1)*(3*t^2 + 2*t + 3)^(3/2)) + 192*sqrt(3)*t^2/((t^3 - 3*t^2 + 3*t - 1)*(3*t^2 + 2*t + 3)^(3/2)) + 192*sqrt(3)*t^2/((t^3 + 3*t^2 + 3*t + 1)*(3*t^2 - 2*t + 3)^(3/2)) + 384*sqrt(3)*t^2/((t^3 - 3*t^2 + 3*t - 1)*(3*t^2 - 2*t + 3)^(3/2)) - 6*sqrt(3)*sqrt(2)/t^2 + 64*t/(t^3 + 3*t^2 + 3*t + 1)^2 + 64*t/(t^3 - 3*t^2 + 3*t - 1)^2 + 768*sqrt(3)*t/((t^3 + 3*t^2 + 3*t + 1)*(3*t^2 + 2*t + 3)^(3/2)) - 384*sqrt(3)*t/((t^3 - 3*t^2 + 3*t - 1)*(3*t^2 + 2*t + 3)^(3/2)) + 384*sqrt(3)*t/((t^3 + 3*t^2 + 3*t + 1)*(3*t^2 - 2*t + 3)^(3/2)) - 768*sqrt(3)*t/((t^3 - 3*t^2 + 3*t - 1)*(3*t^2 - 2*t + 3)^(3/2)) + 2592*t^2/(3*t^2 + 2*t + 3)^3 - 2592*t^2/(3*t^2 - 2*t + 3)^3 - 12*sqrt(3)/t^2 - 54*sqrt(2)/t^2 + 32/(t^3 + 3*t^2 + 3*t + 1)^2 - 32/(t^3 - 3*t^2 + 3*t - 1)^2 + 384*sqrt(3)/((t^3 + 3*t^2 + 3*t + 1)*(3*t^2 + 2*t + 3)^(3/2)) + 192*sqrt(3)/((t^3 - 3*t^2 + 3*t - 1)*(3*t^2 + 2*t + 3)^(3/2)) + 192*sqrt(3)/((t^3 + 3*t^2 + 3*t + 1)*(3*t^2 - 2*t + 3)^(3/2)) + 384*sqrt(3)/((t^3 - 3*t^2 + 3*t - 1)*(3*t^2 - 2*t + 3)^(3/2)) - 83/t^2 + 8640*t/(3*t^2 + 2*t + 3)^3 + 8640*t/(3*t^2 - 2*t + 3)^3 + 13824*t/((3*t^2 + 2*t + 3)^(3/2)*(3*t^2 - 2*t + 3)^(3/2)) + 2592/(3*t^2 + 2*t + 3)^3 - 2592/(3*t^2 - 2*t + 3)^3)/(2*sqrt(3)*t + 9*sqrt(2)*t - 8*sqrt(3)*t^2/(t^3 + 3*t^2 + 3*t + 1) - 8*sqrt(3)*t^2/(t^3 - 3*t^2 + 3*t - 1) + 18*t - 16*sqrt(3)*t/(t^3 + 3*t^2 + 3*t + 1) + 16*sqrt(3)*t/(t^3 - 3*t^2 + 3*t - 1) - 72*t^2/(3*t^2 + 2*t + 3)^(3/2) + 72*t^2/(3*t^2 - 2*t + 3)^(3/2) - 8*sqrt(3)/(t^3 + 3*t^2 + 3*t + 1) - 8*sqrt(3)/(t^3 - 3*t^2 + 3*t - 1) - 432*t/(3*t^2 + 2*t + 3)^(3/2) - 432*t/(3*t^2 - 2*t + 3)^(3/2) - 72/(3*t^2 + 2*t + 3)^(3/2) + 72/(3*t^2 - 2*t + 3)^(3/2) + 2*sqrt(3)/t^2 + 9*sqrt(2)/t^2 + 18/t^2)^2 + 1/2*(96*(t^2 + 2*t + 1)*t^2/(t^3 + 3*t^2 + 3*t + 1)^3 + 576*sqrt(3)*(t^2 + 2*t + 1)*t^2/((t^3 + 3*t^2 + 3*t + 1)^2*(3*t^2 + 2*t + 3)^(3/2)) + 288*sqrt(3)*(t^2 + 2*t + 1)*t^2/((t^3 + 3*t^2 + 3*t + 1)^2*(3*t^2 - 2*t + 3)^(3/2)) - 96*(t^2 - 2*t + 1)*t^2/(t^3 - 3*t^2 + 3*t - 1)^3 + 288*sqrt(3)*(t^2 - 2*t + 1)*t^2/((t^3 - 3*t^2 + 3*t - 1)^2*(3*t^2 + 2*t + 3)^(3/2)) + 576*sqrt(3)*(t^2 - 2*t + 1)*t^2/((t^3 - 3*t^2 + 3*t - 1)^2*(3*t^2 - 2*t + 3)^(3/2)) + 576*sqrt(3)*(3*t + 1)*t^2/((t^3 + 3*t^2 + 3*t + 1)*(3*t^2 + 2*t + 3)^(5/2)) + 288*sqrt(3)*(3*t + 1)*t^2/((t^3 - 3*t^2 + 3*t - 1)*(3*t^2 + 2*t + 3)^(5/2)) + 288*sqrt(3)*(3*t - 1)*t^2/((t^3 + 3*t^2 + 3*t + 1)*(3*t^2 - 2*t + 3)^(5/2)) + 576*sqrt(3)*(3*t - 1)*t^2/((t^3 - 3*t^2 + 3*t - 1)*(3*t^2 - 2*t + 3)^(5/2)) - 32*t/(t^3 + 3*t^2 + 3*t + 1)^2 + 32*t/(t^3 - 3*t^2 + 3*t - 1)^2 - 384*sqrt(3)*t/((t^3 + 3*t^2 + 3*t + 1)*(3*t^2 + 2*t + 3)^(3/2)) - 192*sqrt(3)*t/((t^3 - 3*t^2 + 3*t - 1)*(3*t^2 + 2*t + 3)^(3/2)) - 192*sqrt(3)*t/((t^3 + 3*t^2 + 3*t + 1)*(3*t^2 - 2*t + 3)^(3/2)) - 384*sqrt(3)*t/((t^3 - 3*t^2 + 3*t - 1)*(3*t^2 - 2*t + 3)^(3/2)) + 192*(t^2 + 2*t + 1)*t/(t^3 + 3*t^2 + 3*t + 1)^3 + 1152*sqrt(3)*(t^2 + 2*t + 1)*t/((t^3 + 3*t^2 + 3*t + 1)^2*(3*t^2 + 2*t + 3)^(3/2)) + 576*sqrt(3)*(t^2 + 2*t + 1)*t/((t^3 + 3*t^2 + 3*t + 1)^2*(3*t^2 - 2*t + 3)^(3/2)) + 192*(t^2 - 2*t + 1)*t/(t^3 - 3*t^2 + 3*t - 1)^3 - 576*sqrt(3)*(t^2 - 2*t + 1)*t/((t^3 - 3*t^2 + 3*t - 1)^2*(3*t^2 + 2*t + 3)^(3/2)) - 1152*sqrt(3)*(t^2 - 2*t + 1)*t/((t^3 - 3*t^2 + 3*t - 1)^2*(3*t^2 - 2*t + 3)^(3/2)) + 1152*sqrt(3)*(3*t + 1)*t/((t^3 + 3*t^2 + 3*t + 1)*(3*t^2 + 2*t + 3)^(5/2)) - 576*sqrt(3)*(3*t + 1)*t/((t^3 - 3*t^2 + 3*t - 1)*(3*t^2 + 2*t + 3)^(5/2)) + 576*sqrt(3)*(3*t - 1)*t/((t^3 + 3*t^2 + 3*t + 1)*(3*t^2 - 2*t + 3)^(5/2)) - 1152*sqrt(3)*(3*t - 1)*t/((t^3 - 3*t^2 + 3*t - 1)*(3*t^2 - 2*t + 3)^(5/2)) + 7776*(3*t + 1)*t^2/(3*t^2 + 2*t + 3)^4 - 7776*(3*t - 1)*t^2/(3*t^2 - 2*t + 3)^4 - 32/(t^3 + 3*t^2 + 3*t + 1)^2 - 32/(t^3 - 3*t^2 + 3*t - 1)^2 - 384*sqrt(3)/((t^3 + 3*t^2 + 3*t + 1)*(3*t^2 + 2*t + 3)^(3/2)) + 192*sqrt(3)/((t^3 - 3*t^2 + 3*t - 1)*(3*t^2 + 2*t + 3)^(3/2)) - 192*sqrt(3)/((t^3 + 3*t^2 + 3*t + 1)*(3*t^2 - 2*t + 3)^(3/2)) + 384*sqrt(3)/((t^3 - 3*t^2 + 3*t - 1)*(3*t^2 - 2*t + 3)^(3/2)) + 96*(t^2 + 2*t + 1)/(t^3 + 3*t^2 + 3*t + 1)^3 + 576*sqrt(3)*(t^2 + 2*t + 1)/((t^3 + 3*t^2 + 3*t + 1)^2*(3*t^2 + 2*t + 3)^(3/2)) + 288*sqrt(3)*(t^2 + 2*t + 1)/((t^3 + 3*t^2 + 3*t + 1)^2*(3*t^2 - 2*t + 3)^(3/2)) - 96*(t^2 - 2*t + 1)/(t^3 - 3*t^2 + 3*t - 1)^3 + 288*sqrt(3)*(t^2 - 2*t + 1)/((t^3 - 3*t^2 + 3*t - 1)^2*(3*t^2 + 2*t + 3)^(3/2)) + 576*sqrt(3)*(t^2 - 2*t + 1)/((t^3 - 3*t^2 + 3*t - 1)^2*(3*t^2 - 2*t + 3)^(3/2)) + 576*sqrt(3)*(3*t + 1)/((t^3 + 3*t^2 + 3*t + 1)*(3*t^2 + 2*t + 3)^(5/2)) + 288*sqrt(3)*(3*t + 1)/((t^3 - 3*t^2 + 3*t - 1)*(3*t^2 + 2*t + 3)^(5/2)) + 288*sqrt(3)*(3*t - 1)/((t^3 + 3*t^2 + 3*t + 1)*(3*t^2 - 2*t + 3)^(5/2)) + 576*sqrt(3)*(3*t - 1)/((t^3 - 3*t^2 + 3*t - 1)*(3*t^2 - 2*t + 3)^(5/2)) - 6*sqrt(3)*sqrt(2)/t^3 - 2592*t/(3*t^2 + 2*t + 3)^3 + 2592*t/(3*t^2 - 2*t + 3)^3 + 25920*(3*t + 1)*t/(3*t^2 + 2*t + 3)^4 + 20736*(3*t + 1)*t/((3*t^2 + 2*t + 3)^(5/2)*(3*t^2 - 2*t + 3)^(3/2)) + 25920*(3*t - 1)*t/(3*t^2 - 2*t + 3)^4 + 20736*(3*t - 1)*t/((3*t^2 + 2*t + 3)^(3/2)*(3*t^2 - 2*t + 3)^(5/2)) - 12*sqrt(3)/t^3 - 54*sqrt(2)/t^3 - 4320/(3*t^2 + 2*t + 3)^3 - 4320/(3*t^2 - 2*t + 3)^3 - 6912/((3*t^2 + 2*t + 3)^(3/2)*(3*t^2 - 2*t + 3)^(3/2)) + 7776*(3*t + 1)/(3*t^2 + 2*t + 3)^4 - 7776*(3*t - 1)/(3*t^2 - 2*t + 3)^4 - 83/t^3)/(2*sqrt(3)*t + 9*sqrt(2)*t - 8*sqrt(3)*t^2/(t^3 + 3*t^2 + 3*t + 1) - 8*sqrt(3)*t^2/(t^3 - 3*t^2 + 3*t - 1) + 18*t - 16*sqrt(3)*t/(t^3 + 3*t^2 + 3*t + 1) + 16*sqrt(3)*t/(t^3 - 3*t^2 + 3*t - 1) - 72*t^2/(3*t^2 + 2*t + 3)^(3/2) + 72*t^2/(3*t^2 - 2*t + 3)^(3/2) - 8*sqrt(3)/(t^3 + 3*t^2 + 3*t + 1) - 8*sqrt(3)/(t^3 - 3*t^2 + 3*t - 1) - 432*t/(3*t^2 + 2*t + 3)^(3/2) - 432*t/(3*t^2 - 2*t + 3)^(3/2) - 72/(3*t^2 + 2*t + 3)^(3/2) + 72/(3*t^2 - 2*t + 3)^(3/2) + 2*sqrt(3)/t^2 + 9*sqrt(2)/t^2 + 18/t^2) - 1/3*sqrt(3)/(t^3 + 3*t^2 + 3*t + 1) + 9*(3*t + 1)*(t + 3)/(3*t^2 + 2*t + 3)^(5/2) - 9*(3*t - 1)*(t - 3)/(3*t^2 - 2*t + 3)^(5/2) - 3/(3*t^2 + 2*t + 3)^(3/2) + 3/(3*t^2 - 2*t + 3)^(3/2) - 1/3*sqrt(3)/(t - 1)^3 + (sqrt(3)*t - sqrt(3))/(t - 1)^4"
      ]
     },
     "metadata": {},
     "output_type": "display_data"
    }
   ],
   "source": [
    "C12_diff = diff(C12, t); show(C12_diff)  # derivative"
   ]
  },
  {
   "cell_type": "code",
   "execution_count": 48,
   "id": "92c8c27d",
   "metadata": {
    "collapsed": false,
    "jupyter": {
     "outputs_hidden": false
    },
    "pycharm": {
     "name": "#%%\n"
    }
   },
   "outputs": [
    {
     "data": {
      "text/html": [
       "<html>\\(\\displaystyle \\frac{{\\left(t^{2} + 2 \\, t + 1\\right)} {\\left(\\sqrt{3} t + \\sqrt{3}\\right)}}{{\\left(t^{3} + 3 \\, t^{2} + 3 \\, t + 1\\right)}^{2}} + \\frac{{\\left(\\frac{24 \\, \\sqrt{3} {\\left(t^{2} + 2 \\, t + 1\\right)} t^{2}}{{\\left(t^{3} + 3 \\, t^{2} + 3 \\, t + 1\\right)}^{2}} + \\frac{24 \\, \\sqrt{3} {\\left(t^{2} - 2 \\, t + 1\\right)} t^{2}}{{\\left(t^{3} - 3 \\, t^{2} + 3 \\, t - 1\\right)}^{2}} + 2 \\, \\sqrt{3} + 9 \\, \\sqrt{2} - \\frac{16 \\, \\sqrt{3} t}{t^{3} + 3 \\, t^{2} + 3 \\, t + 1} - \\frac{16 \\, \\sqrt{3} t}{t^{3} - 3 \\, t^{2} + 3 \\, t - 1} + \\frac{48 \\, \\sqrt{3} {\\left(t^{2} + 2 \\, t + 1\\right)} t}{{\\left(t^{3} + 3 \\, t^{2} + 3 \\, t + 1\\right)}^{2}} - \\frac{48 \\, \\sqrt{3} {\\left(t^{2} - 2 \\, t + 1\\right)} t}{{\\left(t^{3} - 3 \\, t^{2} + 3 \\, t - 1\\right)}^{2}} - \\frac{16 \\, \\sqrt{3}}{t^{3} + 3 \\, t^{2} + 3 \\, t + 1} + \\frac{16 \\, \\sqrt{3}}{t^{3} - 3 \\, t^{2} + 3 \\, t - 1} + \\frac{24 \\, \\sqrt{3} {\\left(t^{2} + 2 \\, t + 1\\right)}}{{\\left(t^{3} + 3 \\, t^{2} + 3 \\, t + 1\\right)}^{2}} + \\frac{24 \\, \\sqrt{3} {\\left(t^{2} - 2 \\, t + 1\\right)}}{{\\left(t^{3} - 3 \\, t^{2} + 3 \\, t - 1\\right)}^{2}} + \\frac{216 \\, {\\left(3 \\, t + 1\\right)} t^{2}}{u^{5}} - \\frac{144 \\, t}{u^{3}} - \\frac{216 \\, {\\left(3 \\, t - 1\\right)} t^{2}}{v^{5}} + \\frac{144 \\, t}{v^{3}} - \\frac{4 \\, \\sqrt{3}}{t^{3}} - \\frac{18 \\, \\sqrt{2}}{t^{3}} - \\frac{36}{t^{3}} + \\frac{1296 \\, {\\left(3 \\, t + 1\\right)} t}{u^{5}} - \\frac{432}{u^{3}} + \\frac{1296 \\, {\\left(3 \\, t - 1\\right)} t}{v^{5}} - \\frac{432}{v^{3}} + \\frac{216 \\, {\\left(3 \\, t + 1\\right)}}{u^{5}} - \\frac{216 \\, {\\left(3 \\, t - 1\\right)}}{v^{5}} + 18\\right)} {\\left(\\frac{32 \\, t^{2}}{{\\left(t^{3} + 3 \\, t^{2} + 3 \\, t + 1\\right)}^{2}} - \\frac{32 \\, t^{2}}{{\\left(t^{3} - 3 \\, t^{2} + 3 \\, t - 1\\right)}^{2}} - \\frac{6 \\, \\sqrt{3} \\sqrt{2}}{t^{2}} + \\frac{64 \\, t}{{\\left(t^{3} + 3 \\, t^{2} + 3 \\, t + 1\\right)}^{2}} + \\frac{64 \\, t}{{\\left(t^{3} - 3 \\, t^{2} + 3 \\, t - 1\\right)}^{2}} - \\frac{12 \\, \\sqrt{3}}{t^{2}} - \\frac{54 \\, \\sqrt{2}}{t^{2}} + \\frac{384 \\, \\sqrt{3} t^{2}}{{\\left(t^{3} + 3 \\, t^{2} + 3 \\, t + 1\\right)} u^{3}} + \\frac{192 \\, \\sqrt{3} t^{2}}{{\\left(t^{3} - 3 \\, t^{2} + 3 \\, t - 1\\right)} u^{3}} + \\frac{192 \\, \\sqrt{3} t^{2}}{{\\left(t^{3} + 3 \\, t^{2} + 3 \\, t + 1\\right)} v^{3}} + \\frac{384 \\, \\sqrt{3} t^{2}}{{\\left(t^{3} - 3 \\, t^{2} + 3 \\, t - 1\\right)} v^{3}} + \\frac{32}{{\\left(t^{3} + 3 \\, t^{2} + 3 \\, t + 1\\right)}^{2}} - \\frac{32}{{\\left(t^{3} - 3 \\, t^{2} + 3 \\, t - 1\\right)}^{2}} - \\frac{83}{t^{2}} + \\frac{768 \\, \\sqrt{3} t}{{\\left(t^{3} + 3 \\, t^{2} + 3 \\, t + 1\\right)} u^{3}} - \\frac{384 \\, \\sqrt{3} t}{{\\left(t^{3} - 3 \\, t^{2} + 3 \\, t - 1\\right)} u^{3}} + \\frac{384 \\, \\sqrt{3} t}{{\\left(t^{3} + 3 \\, t^{2} + 3 \\, t + 1\\right)} v^{3}} - \\frac{768 \\, \\sqrt{3} t}{{\\left(t^{3} - 3 \\, t^{2} + 3 \\, t - 1\\right)} v^{3}} + \\frac{384 \\, \\sqrt{3}}{{\\left(t^{3} + 3 \\, t^{2} + 3 \\, t + 1\\right)} u^{3}} + \\frac{192 \\, \\sqrt{3}}{{\\left(t^{3} - 3 \\, t^{2} + 3 \\, t - 1\\right)} u^{3}} + \\frac{192 \\, \\sqrt{3}}{{\\left(t^{3} + 3 \\, t^{2} + 3 \\, t + 1\\right)} v^{3}} + \\frac{384 \\, \\sqrt{3}}{{\\left(t^{3} - 3 \\, t^{2} + 3 \\, t - 1\\right)} v^{3}} + \\frac{2592 \\, t^{2}}{u^{6}} - \\frac{2592 \\, t^{2}}{v^{6}} + \\frac{8640 \\, t}{u^{6}} + \\frac{8640 \\, t}{v^{6}} + \\frac{13824 \\, t}{u^{3} v^{3}} + \\frac{2592}{u^{6}} - \\frac{2592}{v^{6}}\\right)}}{4 \\, {\\left(2 \\, \\sqrt{3} t + 9 \\, \\sqrt{2} t - \\frac{8 \\, \\sqrt{3} t^{2}}{t^{3} + 3 \\, t^{2} + 3 \\, t + 1} - \\frac{8 \\, \\sqrt{3} t^{2}}{t^{3} - 3 \\, t^{2} + 3 \\, t - 1} + 18 \\, t - \\frac{16 \\, \\sqrt{3} t}{t^{3} + 3 \\, t^{2} + 3 \\, t + 1} + \\frac{16 \\, \\sqrt{3} t}{t^{3} - 3 \\, t^{2} + 3 \\, t - 1} - \\frac{8 \\, \\sqrt{3}}{t^{3} + 3 \\, t^{2} + 3 \\, t + 1} - \\frac{8 \\, \\sqrt{3}}{t^{3} - 3 \\, t^{2} + 3 \\, t - 1} - \\frac{72 \\, t^{2}}{u^{3}} + \\frac{72 \\, t^{2}}{v^{3}} + \\frac{2 \\, \\sqrt{3}}{t^{2}} + \\frac{9 \\, \\sqrt{2}}{t^{2}} + \\frac{18}{t^{2}} - \\frac{432 \\, t}{u^{3}} - \\frac{432 \\, t}{v^{3}} - \\frac{72}{u^{3}} + \\frac{72}{v^{3}}\\right)}^{2}} + \\frac{\\frac{96 \\, {\\left(t^{2} + 2 \\, t + 1\\right)} t^{2}}{{\\left(t^{3} + 3 \\, t^{2} + 3 \\, t + 1\\right)}^{3}} - \\frac{96 \\, {\\left(t^{2} - 2 \\, t + 1\\right)} t^{2}}{{\\left(t^{3} - 3 \\, t^{2} + 3 \\, t - 1\\right)}^{3}} - \\frac{32 \\, t}{{\\left(t^{3} + 3 \\, t^{2} + 3 \\, t + 1\\right)}^{2}} + \\frac{32 \\, t}{{\\left(t^{3} - 3 \\, t^{2} + 3 \\, t - 1\\right)}^{2}} + \\frac{192 \\, {\\left(t^{2} + 2 \\, t + 1\\right)} t}{{\\left(t^{3} + 3 \\, t^{2} + 3 \\, t + 1\\right)}^{3}} + \\frac{192 \\, {\\left(t^{2} - 2 \\, t + 1\\right)} t}{{\\left(t^{3} - 3 \\, t^{2} + 3 \\, t - 1\\right)}^{3}} + \\frac{576 \\, \\sqrt{3} {\\left(t^{2} + 2 \\, t + 1\\right)} t^{2}}{{\\left(t^{3} + 3 \\, t^{2} + 3 \\, t + 1\\right)}^{2} u^{3}} + \\frac{288 \\, \\sqrt{3} {\\left(t^{2} - 2 \\, t + 1\\right)} t^{2}}{{\\left(t^{3} - 3 \\, t^{2} + 3 \\, t - 1\\right)}^{2} u^{3}} + \\frac{288 \\, \\sqrt{3} {\\left(t^{2} + 2 \\, t + 1\\right)} t^{2}}{{\\left(t^{3} + 3 \\, t^{2} + 3 \\, t + 1\\right)}^{2} v^{3}} + \\frac{576 \\, \\sqrt{3} {\\left(t^{2} - 2 \\, t + 1\\right)} t^{2}}{{\\left(t^{3} - 3 \\, t^{2} + 3 \\, t - 1\\right)}^{2} v^{3}} - \\frac{32}{{\\left(t^{3} + 3 \\, t^{2} + 3 \\, t + 1\\right)}^{2}} - \\frac{32}{{\\left(t^{3} - 3 \\, t^{2} + 3 \\, t - 1\\right)}^{2}} + \\frac{96 \\, {\\left(t^{2} + 2 \\, t + 1\\right)}}{{\\left(t^{3} + 3 \\, t^{2} + 3 \\, t + 1\\right)}^{3}} - \\frac{96 \\, {\\left(t^{2} - 2 \\, t + 1\\right)}}{{\\left(t^{3} - 3 \\, t^{2} + 3 \\, t - 1\\right)}^{3}} - \\frac{6 \\, \\sqrt{3} \\sqrt{2}}{t^{3}} - \\frac{12 \\, \\sqrt{3}}{t^{3}} - \\frac{54 \\, \\sqrt{2}}{t^{3}} + \\frac{576 \\, \\sqrt{3} {\\left(3 \\, t + 1\\right)} t^{2}}{{\\left(t^{3} + 3 \\, t^{2} + 3 \\, t + 1\\right)} u^{5}} + \\frac{288 \\, \\sqrt{3} {\\left(3 \\, t + 1\\right)} t^{2}}{{\\left(t^{3} - 3 \\, t^{2} + 3 \\, t - 1\\right)} u^{5}} - \\frac{384 \\, \\sqrt{3} t}{{\\left(t^{3} + 3 \\, t^{2} + 3 \\, t + 1\\right)} u^{3}} - \\frac{192 \\, \\sqrt{3} t}{{\\left(t^{3} - 3 \\, t^{2} + 3 \\, t - 1\\right)} u^{3}} + \\frac{1152 \\, \\sqrt{3} {\\left(t^{2} + 2 \\, t + 1\\right)} t}{{\\left(t^{3} + 3 \\, t^{2} + 3 \\, t + 1\\right)}^{2} u^{3}} - \\frac{576 \\, \\sqrt{3} {\\left(t^{2} - 2 \\, t + 1\\right)} t}{{\\left(t^{3} - 3 \\, t^{2} + 3 \\, t - 1\\right)}^{2} u^{3}} + \\frac{288 \\, \\sqrt{3} {\\left(3 \\, t - 1\\right)} t^{2}}{{\\left(t^{3} + 3 \\, t^{2} + 3 \\, t + 1\\right)} v^{5}} + \\frac{576 \\, \\sqrt{3} {\\left(3 \\, t - 1\\right)} t^{2}}{{\\left(t^{3} - 3 \\, t^{2} + 3 \\, t - 1\\right)} v^{5}} - \\frac{192 \\, \\sqrt{3} t}{{\\left(t^{3} + 3 \\, t^{2} + 3 \\, t + 1\\right)} v^{3}} - \\frac{384 \\, \\sqrt{3} t}{{\\left(t^{3} - 3 \\, t^{2} + 3 \\, t - 1\\right)} v^{3}} + \\frac{576 \\, \\sqrt{3} {\\left(t^{2} + 2 \\, t + 1\\right)} t}{{\\left(t^{3} + 3 \\, t^{2} + 3 \\, t + 1\\right)}^{2} v^{3}} - \\frac{1152 \\, \\sqrt{3} {\\left(t^{2} - 2 \\, t + 1\\right)} t}{{\\left(t^{3} - 3 \\, t^{2} + 3 \\, t - 1\\right)}^{2} v^{3}} - \\frac{83}{t^{3}} + \\frac{1152 \\, \\sqrt{3} {\\left(3 \\, t + 1\\right)} t}{{\\left(t^{3} + 3 \\, t^{2} + 3 \\, t + 1\\right)} u^{5}} - \\frac{576 \\, \\sqrt{3} {\\left(3 \\, t + 1\\right)} t}{{\\left(t^{3} - 3 \\, t^{2} + 3 \\, t - 1\\right)} u^{5}} - \\frac{384 \\, \\sqrt{3}}{{\\left(t^{3} + 3 \\, t^{2} + 3 \\, t + 1\\right)} u^{3}} + \\frac{192 \\, \\sqrt{3}}{{\\left(t^{3} - 3 \\, t^{2} + 3 \\, t - 1\\right)} u^{3}} + \\frac{576 \\, \\sqrt{3} {\\left(t^{2} + 2 \\, t + 1\\right)}}{{\\left(t^{3} + 3 \\, t^{2} + 3 \\, t + 1\\right)}^{2} u^{3}} + \\frac{288 \\, \\sqrt{3} {\\left(t^{2} - 2 \\, t + 1\\right)}}{{\\left(t^{3} - 3 \\, t^{2} + 3 \\, t - 1\\right)}^{2} u^{3}} + \\frac{576 \\, \\sqrt{3} {\\left(3 \\, t - 1\\right)} t}{{\\left(t^{3} + 3 \\, t^{2} + 3 \\, t + 1\\right)} v^{5}} - \\frac{1152 \\, \\sqrt{3} {\\left(3 \\, t - 1\\right)} t}{{\\left(t^{3} - 3 \\, t^{2} + 3 \\, t - 1\\right)} v^{5}} - \\frac{192 \\, \\sqrt{3}}{{\\left(t^{3} + 3 \\, t^{2} + 3 \\, t + 1\\right)} v^{3}} + \\frac{384 \\, \\sqrt{3}}{{\\left(t^{3} - 3 \\, t^{2} + 3 \\, t - 1\\right)} v^{3}} + \\frac{288 \\, \\sqrt{3} {\\left(t^{2} + 2 \\, t + 1\\right)}}{{\\left(t^{3} + 3 \\, t^{2} + 3 \\, t + 1\\right)}^{2} v^{3}} + \\frac{576 \\, \\sqrt{3} {\\left(t^{2} - 2 \\, t + 1\\right)}}{{\\left(t^{3} - 3 \\, t^{2} + 3 \\, t - 1\\right)}^{2} v^{3}} + \\frac{576 \\, \\sqrt{3} {\\left(3 \\, t + 1\\right)}}{{\\left(t^{3} + 3 \\, t^{2} + 3 \\, t + 1\\right)} u^{5}} + \\frac{288 \\, \\sqrt{3} {\\left(3 \\, t + 1\\right)}}{{\\left(t^{3} - 3 \\, t^{2} + 3 \\, t - 1\\right)} u^{5}} + \\frac{288 \\, \\sqrt{3} {\\left(3 \\, t - 1\\right)}}{{\\left(t^{3} + 3 \\, t^{2} + 3 \\, t + 1\\right)} v^{5}} + \\frac{576 \\, \\sqrt{3} {\\left(3 \\, t - 1\\right)}}{{\\left(t^{3} - 3 \\, t^{2} + 3 \\, t - 1\\right)} v^{5}} + \\frac{7776 \\, {\\left(3 \\, t + 1\\right)} t^{2}}{u^{8}} - \\frac{2592 \\, t}{u^{6}} - \\frac{7776 \\, {\\left(3 \\, t - 1\\right)} t^{2}}{v^{8}} + \\frac{2592 \\, t}{v^{6}} + \\frac{25920 \\, {\\left(3 \\, t + 1\\right)} t}{u^{8}} - \\frac{4320}{u^{6}} + \\frac{25920 \\, {\\left(3 \\, t - 1\\right)} t}{v^{8}} - \\frac{4320}{v^{6}} + \\frac{20736 \\, {\\left(3 \\, t - 1\\right)} t}{u^{3} v^{5}} + \\frac{20736 \\, {\\left(3 \\, t + 1\\right)} t}{u^{5} v^{3}} - \\frac{6912}{u^{3} v^{3}} + \\frac{7776 \\, {\\left(3 \\, t + 1\\right)}}{u^{8}} - \\frac{7776 \\, {\\left(3 \\, t - 1\\right)}}{v^{8}}}{2 \\, {\\left(2 \\, \\sqrt{3} t + 9 \\, \\sqrt{2} t - \\frac{8 \\, \\sqrt{3} t^{2}}{t^{3} + 3 \\, t^{2} + 3 \\, t + 1} - \\frac{8 \\, \\sqrt{3} t^{2}}{t^{3} - 3 \\, t^{2} + 3 \\, t - 1} + 18 \\, t - \\frac{16 \\, \\sqrt{3} t}{t^{3} + 3 \\, t^{2} + 3 \\, t + 1} + \\frac{16 \\, \\sqrt{3} t}{t^{3} - 3 \\, t^{2} + 3 \\, t - 1} - \\frac{8 \\, \\sqrt{3}}{t^{3} + 3 \\, t^{2} + 3 \\, t + 1} - \\frac{8 \\, \\sqrt{3}}{t^{3} - 3 \\, t^{2} + 3 \\, t - 1} - \\frac{72 \\, t^{2}}{u^{3}} + \\frac{72 \\, t^{2}}{v^{3}} + \\frac{2 \\, \\sqrt{3}}{t^{2}} + \\frac{9 \\, \\sqrt{2}}{t^{2}} + \\frac{18}{t^{2}} - \\frac{432 \\, t}{u^{3}} - \\frac{432 \\, t}{v^{3}} - \\frac{72}{u^{3}} + \\frac{72}{v^{3}}\\right)}} - \\frac{\\sqrt{3}}{3 \\, {\\left(t^{3} + 3 \\, t^{2} + 3 \\, t + 1\\right)}} - \\frac{\\sqrt{3}}{3 \\, {\\left(t - 1\\right)}^{3}} + \\frac{\\sqrt{3} t - \\sqrt{3}}{{\\left(t - 1\\right)}^{4}} + \\frac{9 \\, {\\left(3 \\, t + 1\\right)} {\\left(t + 3\\right)}}{u^{5}} - \\frac{3}{u^{3}} - \\frac{9 \\, {\\left(3 \\, t - 1\\right)} {\\left(t - 3\\right)}}{v^{5}} + \\frac{3}{v^{3}}\\)</html>"
      ],
      "text/latex": [
       "$\\displaystyle \\frac{{\\left(t^{2} + 2 \\, t + 1\\right)} {\\left(\\sqrt{3} t + \\sqrt{3}\\right)}}{{\\left(t^{3} + 3 \\, t^{2} + 3 \\, t + 1\\right)}^{2}} + \\frac{{\\left(\\frac{24 \\, \\sqrt{3} {\\left(t^{2} + 2 \\, t + 1\\right)} t^{2}}{{\\left(t^{3} + 3 \\, t^{2} + 3 \\, t + 1\\right)}^{2}} + \\frac{24 \\, \\sqrt{3} {\\left(t^{2} - 2 \\, t + 1\\right)} t^{2}}{{\\left(t^{3} - 3 \\, t^{2} + 3 \\, t - 1\\right)}^{2}} + 2 \\, \\sqrt{3} + 9 \\, \\sqrt{2} - \\frac{16 \\, \\sqrt{3} t}{t^{3} + 3 \\, t^{2} + 3 \\, t + 1} - \\frac{16 \\, \\sqrt{3} t}{t^{3} - 3 \\, t^{2} + 3 \\, t - 1} + \\frac{48 \\, \\sqrt{3} {\\left(t^{2} + 2 \\, t + 1\\right)} t}{{\\left(t^{3} + 3 \\, t^{2} + 3 \\, t + 1\\right)}^{2}} - \\frac{48 \\, \\sqrt{3} {\\left(t^{2} - 2 \\, t + 1\\right)} t}{{\\left(t^{3} - 3 \\, t^{2} + 3 \\, t - 1\\right)}^{2}} - \\frac{16 \\, \\sqrt{3}}{t^{3} + 3 \\, t^{2} + 3 \\, t + 1} + \\frac{16 \\, \\sqrt{3}}{t^{3} - 3 \\, t^{2} + 3 \\, t - 1} + \\frac{24 \\, \\sqrt{3} {\\left(t^{2} + 2 \\, t + 1\\right)}}{{\\left(t^{3} + 3 \\, t^{2} + 3 \\, t + 1\\right)}^{2}} + \\frac{24 \\, \\sqrt{3} {\\left(t^{2} - 2 \\, t + 1\\right)}}{{\\left(t^{3} - 3 \\, t^{2} + 3 \\, t - 1\\right)}^{2}} + \\frac{216 \\, {\\left(3 \\, t + 1\\right)} t^{2}}{u^{5}} - \\frac{144 \\, t}{u^{3}} - \\frac{216 \\, {\\left(3 \\, t - 1\\right)} t^{2}}{v^{5}} + \\frac{144 \\, t}{v^{3}} - \\frac{4 \\, \\sqrt{3}}{t^{3}} - \\frac{18 \\, \\sqrt{2}}{t^{3}} - \\frac{36}{t^{3}} + \\frac{1296 \\, {\\left(3 \\, t + 1\\right)} t}{u^{5}} - \\frac{432}{u^{3}} + \\frac{1296 \\, {\\left(3 \\, t - 1\\right)} t}{v^{5}} - \\frac{432}{v^{3}} + \\frac{216 \\, {\\left(3 \\, t + 1\\right)}}{u^{5}} - \\frac{216 \\, {\\left(3 \\, t - 1\\right)}}{v^{5}} + 18\\right)} {\\left(\\frac{32 \\, t^{2}}{{\\left(t^{3} + 3 \\, t^{2} + 3 \\, t + 1\\right)}^{2}} - \\frac{32 \\, t^{2}}{{\\left(t^{3} - 3 \\, t^{2} + 3 \\, t - 1\\right)}^{2}} - \\frac{6 \\, \\sqrt{3} \\sqrt{2}}{t^{2}} + \\frac{64 \\, t}{{\\left(t^{3} + 3 \\, t^{2} + 3 \\, t + 1\\right)}^{2}} + \\frac{64 \\, t}{{\\left(t^{3} - 3 \\, t^{2} + 3 \\, t - 1\\right)}^{2}} - \\frac{12 \\, \\sqrt{3}}{t^{2}} - \\frac{54 \\, \\sqrt{2}}{t^{2}} + \\frac{384 \\, \\sqrt{3} t^{2}}{{\\left(t^{3} + 3 \\, t^{2} + 3 \\, t + 1\\right)} u^{3}} + \\frac{192 \\, \\sqrt{3} t^{2}}{{\\left(t^{3} - 3 \\, t^{2} + 3 \\, t - 1\\right)} u^{3}} + \\frac{192 \\, \\sqrt{3} t^{2}}{{\\left(t^{3} + 3 \\, t^{2} + 3 \\, t + 1\\right)} v^{3}} + \\frac{384 \\, \\sqrt{3} t^{2}}{{\\left(t^{3} - 3 \\, t^{2} + 3 \\, t - 1\\right)} v^{3}} + \\frac{32}{{\\left(t^{3} + 3 \\, t^{2} + 3 \\, t + 1\\right)}^{2}} - \\frac{32}{{\\left(t^{3} - 3 \\, t^{2} + 3 \\, t - 1\\right)}^{2}} - \\frac{83}{t^{2}} + \\frac{768 \\, \\sqrt{3} t}{{\\left(t^{3} + 3 \\, t^{2} + 3 \\, t + 1\\right)} u^{3}} - \\frac{384 \\, \\sqrt{3} t}{{\\left(t^{3} - 3 \\, t^{2} + 3 \\, t - 1\\right)} u^{3}} + \\frac{384 \\, \\sqrt{3} t}{{\\left(t^{3} + 3 \\, t^{2} + 3 \\, t + 1\\right)} v^{3}} - \\frac{768 \\, \\sqrt{3} t}{{\\left(t^{3} - 3 \\, t^{2} + 3 \\, t - 1\\right)} v^{3}} + \\frac{384 \\, \\sqrt{3}}{{\\left(t^{3} + 3 \\, t^{2} + 3 \\, t + 1\\right)} u^{3}} + \\frac{192 \\, \\sqrt{3}}{{\\left(t^{3} - 3 \\, t^{2} + 3 \\, t - 1\\right)} u^{3}} + \\frac{192 \\, \\sqrt{3}}{{\\left(t^{3} + 3 \\, t^{2} + 3 \\, t + 1\\right)} v^{3}} + \\frac{384 \\, \\sqrt{3}}{{\\left(t^{3} - 3 \\, t^{2} + 3 \\, t - 1\\right)} v^{3}} + \\frac{2592 \\, t^{2}}{u^{6}} - \\frac{2592 \\, t^{2}}{v^{6}} + \\frac{8640 \\, t}{u^{6}} + \\frac{8640 \\, t}{v^{6}} + \\frac{13824 \\, t}{u^{3} v^{3}} + \\frac{2592}{u^{6}} - \\frac{2592}{v^{6}}\\right)}}{4 \\, {\\left(2 \\, \\sqrt{3} t + 9 \\, \\sqrt{2} t - \\frac{8 \\, \\sqrt{3} t^{2}}{t^{3} + 3 \\, t^{2} + 3 \\, t + 1} - \\frac{8 \\, \\sqrt{3} t^{2}}{t^{3} - 3 \\, t^{2} + 3 \\, t - 1} + 18 \\, t - \\frac{16 \\, \\sqrt{3} t}{t^{3} + 3 \\, t^{2} + 3 \\, t + 1} + \\frac{16 \\, \\sqrt{3} t}{t^{3} - 3 \\, t^{2} + 3 \\, t - 1} - \\frac{8 \\, \\sqrt{3}}{t^{3} + 3 \\, t^{2} + 3 \\, t + 1} - \\frac{8 \\, \\sqrt{3}}{t^{3} - 3 \\, t^{2} + 3 \\, t - 1} - \\frac{72 \\, t^{2}}{u^{3}} + \\frac{72 \\, t^{2}}{v^{3}} + \\frac{2 \\, \\sqrt{3}}{t^{2}} + \\frac{9 \\, \\sqrt{2}}{t^{2}} + \\frac{18}{t^{2}} - \\frac{432 \\, t}{u^{3}} - \\frac{432 \\, t}{v^{3}} - \\frac{72}{u^{3}} + \\frac{72}{v^{3}}\\right)}^{2}} + \\frac{\\frac{96 \\, {\\left(t^{2} + 2 \\, t + 1\\right)} t^{2}}{{\\left(t^{3} + 3 \\, t^{2} + 3 \\, t + 1\\right)}^{3}} - \\frac{96 \\, {\\left(t^{2} - 2 \\, t + 1\\right)} t^{2}}{{\\left(t^{3} - 3 \\, t^{2} + 3 \\, t - 1\\right)}^{3}} - \\frac{32 \\, t}{{\\left(t^{3} + 3 \\, t^{2} + 3 \\, t + 1\\right)}^{2}} + \\frac{32 \\, t}{{\\left(t^{3} - 3 \\, t^{2} + 3 \\, t - 1\\right)}^{2}} + \\frac{192 \\, {\\left(t^{2} + 2 \\, t + 1\\right)} t}{{\\left(t^{3} + 3 \\, t^{2} + 3 \\, t + 1\\right)}^{3}} + \\frac{192 \\, {\\left(t^{2} - 2 \\, t + 1\\right)} t}{{\\left(t^{3} - 3 \\, t^{2} + 3 \\, t - 1\\right)}^{3}} + \\frac{576 \\, \\sqrt{3} {\\left(t^{2} + 2 \\, t + 1\\right)} t^{2}}{{\\left(t^{3} + 3 \\, t^{2} + 3 \\, t + 1\\right)}^{2} u^{3}} + \\frac{288 \\, \\sqrt{3} {\\left(t^{2} - 2 \\, t + 1\\right)} t^{2}}{{\\left(t^{3} - 3 \\, t^{2} + 3 \\, t - 1\\right)}^{2} u^{3}} + \\frac{288 \\, \\sqrt{3} {\\left(t^{2} + 2 \\, t + 1\\right)} t^{2}}{{\\left(t^{3} + 3 \\, t^{2} + 3 \\, t + 1\\right)}^{2} v^{3}} + \\frac{576 \\, \\sqrt{3} {\\left(t^{2} - 2 \\, t + 1\\right)} t^{2}}{{\\left(t^{3} - 3 \\, t^{2} + 3 \\, t - 1\\right)}^{2} v^{3}} - \\frac{32}{{\\left(t^{3} + 3 \\, t^{2} + 3 \\, t + 1\\right)}^{2}} - \\frac{32}{{\\left(t^{3} - 3 \\, t^{2} + 3 \\, t - 1\\right)}^{2}} + \\frac{96 \\, {\\left(t^{2} + 2 \\, t + 1\\right)}}{{\\left(t^{3} + 3 \\, t^{2} + 3 \\, t + 1\\right)}^{3}} - \\frac{96 \\, {\\left(t^{2} - 2 \\, t + 1\\right)}}{{\\left(t^{3} - 3 \\, t^{2} + 3 \\, t - 1\\right)}^{3}} - \\frac{6 \\, \\sqrt{3} \\sqrt{2}}{t^{3}} - \\frac{12 \\, \\sqrt{3}}{t^{3}} - \\frac{54 \\, \\sqrt{2}}{t^{3}} + \\frac{576 \\, \\sqrt{3} {\\left(3 \\, t + 1\\right)} t^{2}}{{\\left(t^{3} + 3 \\, t^{2} + 3 \\, t + 1\\right)} u^{5}} + \\frac{288 \\, \\sqrt{3} {\\left(3 \\, t + 1\\right)} t^{2}}{{\\left(t^{3} - 3 \\, t^{2} + 3 \\, t - 1\\right)} u^{5}} - \\frac{384 \\, \\sqrt{3} t}{{\\left(t^{3} + 3 \\, t^{2} + 3 \\, t + 1\\right)} u^{3}} - \\frac{192 \\, \\sqrt{3} t}{{\\left(t^{3} - 3 \\, t^{2} + 3 \\, t - 1\\right)} u^{3}} + \\frac{1152 \\, \\sqrt{3} {\\left(t^{2} + 2 \\, t + 1\\right)} t}{{\\left(t^{3} + 3 \\, t^{2} + 3 \\, t + 1\\right)}^{2} u^{3}} - \\frac{576 \\, \\sqrt{3} {\\left(t^{2} - 2 \\, t + 1\\right)} t}{{\\left(t^{3} - 3 \\, t^{2} + 3 \\, t - 1\\right)}^{2} u^{3}} + \\frac{288 \\, \\sqrt{3} {\\left(3 \\, t - 1\\right)} t^{2}}{{\\left(t^{3} + 3 \\, t^{2} + 3 \\, t + 1\\right)} v^{5}} + \\frac{576 \\, \\sqrt{3} {\\left(3 \\, t - 1\\right)} t^{2}}{{\\left(t^{3} - 3 \\, t^{2} + 3 \\, t - 1\\right)} v^{5}} - \\frac{192 \\, \\sqrt{3} t}{{\\left(t^{3} + 3 \\, t^{2} + 3 \\, t + 1\\right)} v^{3}} - \\frac{384 \\, \\sqrt{3} t}{{\\left(t^{3} - 3 \\, t^{2} + 3 \\, t - 1\\right)} v^{3}} + \\frac{576 \\, \\sqrt{3} {\\left(t^{2} + 2 \\, t + 1\\right)} t}{{\\left(t^{3} + 3 \\, t^{2} + 3 \\, t + 1\\right)}^{2} v^{3}} - \\frac{1152 \\, \\sqrt{3} {\\left(t^{2} - 2 \\, t + 1\\right)} t}{{\\left(t^{3} - 3 \\, t^{2} + 3 \\, t - 1\\right)}^{2} v^{3}} - \\frac{83}{t^{3}} + \\frac{1152 \\, \\sqrt{3} {\\left(3 \\, t + 1\\right)} t}{{\\left(t^{3} + 3 \\, t^{2} + 3 \\, t + 1\\right)} u^{5}} - \\frac{576 \\, \\sqrt{3} {\\left(3 \\, t + 1\\right)} t}{{\\left(t^{3} - 3 \\, t^{2} + 3 \\, t - 1\\right)} u^{5}} - \\frac{384 \\, \\sqrt{3}}{{\\left(t^{3} + 3 \\, t^{2} + 3 \\, t + 1\\right)} u^{3}} + \\frac{192 \\, \\sqrt{3}}{{\\left(t^{3} - 3 \\, t^{2} + 3 \\, t - 1\\right)} u^{3}} + \\frac{576 \\, \\sqrt{3} {\\left(t^{2} + 2 \\, t + 1\\right)}}{{\\left(t^{3} + 3 \\, t^{2} + 3 \\, t + 1\\right)}^{2} u^{3}} + \\frac{288 \\, \\sqrt{3} {\\left(t^{2} - 2 \\, t + 1\\right)}}{{\\left(t^{3} - 3 \\, t^{2} + 3 \\, t - 1\\right)}^{2} u^{3}} + \\frac{576 \\, \\sqrt{3} {\\left(3 \\, t - 1\\right)} t}{{\\left(t^{3} + 3 \\, t^{2} + 3 \\, t + 1\\right)} v^{5}} - \\frac{1152 \\, \\sqrt{3} {\\left(3 \\, t - 1\\right)} t}{{\\left(t^{3} - 3 \\, t^{2} + 3 \\, t - 1\\right)} v^{5}} - \\frac{192 \\, \\sqrt{3}}{{\\left(t^{3} + 3 \\, t^{2} + 3 \\, t + 1\\right)} v^{3}} + \\frac{384 \\, \\sqrt{3}}{{\\left(t^{3} - 3 \\, t^{2} + 3 \\, t - 1\\right)} v^{3}} + \\frac{288 \\, \\sqrt{3} {\\left(t^{2} + 2 \\, t + 1\\right)}}{{\\left(t^{3} + 3 \\, t^{2} + 3 \\, t + 1\\right)}^{2} v^{3}} + \\frac{576 \\, \\sqrt{3} {\\left(t^{2} - 2 \\, t + 1\\right)}}{{\\left(t^{3} - 3 \\, t^{2} + 3 \\, t - 1\\right)}^{2} v^{3}} + \\frac{576 \\, \\sqrt{3} {\\left(3 \\, t + 1\\right)}}{{\\left(t^{3} + 3 \\, t^{2} + 3 \\, t + 1\\right)} u^{5}} + \\frac{288 \\, \\sqrt{3} {\\left(3 \\, t + 1\\right)}}{{\\left(t^{3} - 3 \\, t^{2} + 3 \\, t - 1\\right)} u^{5}} + \\frac{288 \\, \\sqrt{3} {\\left(3 \\, t - 1\\right)}}{{\\left(t^{3} + 3 \\, t^{2} + 3 \\, t + 1\\right)} v^{5}} + \\frac{576 \\, \\sqrt{3} {\\left(3 \\, t - 1\\right)}}{{\\left(t^{3} - 3 \\, t^{2} + 3 \\, t - 1\\right)} v^{5}} + \\frac{7776 \\, {\\left(3 \\, t + 1\\right)} t^{2}}{u^{8}} - \\frac{2592 \\, t}{u^{6}} - \\frac{7776 \\, {\\left(3 \\, t - 1\\right)} t^{2}}{v^{8}} + \\frac{2592 \\, t}{v^{6}} + \\frac{25920 \\, {\\left(3 \\, t + 1\\right)} t}{u^{8}} - \\frac{4320}{u^{6}} + \\frac{25920 \\, {\\left(3 \\, t - 1\\right)} t}{v^{8}} - \\frac{4320}{v^{6}} + \\frac{20736 \\, {\\left(3 \\, t - 1\\right)} t}{u^{3} v^{5}} + \\frac{20736 \\, {\\left(3 \\, t + 1\\right)} t}{u^{5} v^{3}} - \\frac{6912}{u^{3} v^{3}} + \\frac{7776 \\, {\\left(3 \\, t + 1\\right)}}{u^{8}} - \\frac{7776 \\, {\\left(3 \\, t - 1\\right)}}{v^{8}}}{2 \\, {\\left(2 \\, \\sqrt{3} t + 9 \\, \\sqrt{2} t - \\frac{8 \\, \\sqrt{3} t^{2}}{t^{3} + 3 \\, t^{2} + 3 \\, t + 1} - \\frac{8 \\, \\sqrt{3} t^{2}}{t^{3} - 3 \\, t^{2} + 3 \\, t - 1} + 18 \\, t - \\frac{16 \\, \\sqrt{3} t}{t^{3} + 3 \\, t^{2} + 3 \\, t + 1} + \\frac{16 \\, \\sqrt{3} t}{t^{3} - 3 \\, t^{2} + 3 \\, t - 1} - \\frac{8 \\, \\sqrt{3}}{t^{3} + 3 \\, t^{2} + 3 \\, t + 1} - \\frac{8 \\, \\sqrt{3}}{t^{3} - 3 \\, t^{2} + 3 \\, t - 1} - \\frac{72 \\, t^{2}}{u^{3}} + \\frac{72 \\, t^{2}}{v^{3}} + \\frac{2 \\, \\sqrt{3}}{t^{2}} + \\frac{9 \\, \\sqrt{2}}{t^{2}} + \\frac{18}{t^{2}} - \\frac{432 \\, t}{u^{3}} - \\frac{432 \\, t}{v^{3}} - \\frac{72}{u^{3}} + \\frac{72}{v^{3}}\\right)}} - \\frac{\\sqrt{3}}{3 \\, {\\left(t^{3} + 3 \\, t^{2} + 3 \\, t + 1\\right)}} - \\frac{\\sqrt{3}}{3 \\, {\\left(t - 1\\right)}^{3}} + \\frac{\\sqrt{3} t - \\sqrt{3}}{{\\left(t - 1\\right)}^{4}} + \\frac{9 \\, {\\left(3 \\, t + 1\\right)} {\\left(t + 3\\right)}}{u^{5}} - \\frac{3}{u^{3}} - \\frac{9 \\, {\\left(3 \\, t - 1\\right)} {\\left(t - 3\\right)}}{v^{5}} + \\frac{3}{v^{3}}$"
      ],
      "text/plain": [
       "(t^2 + 2*t + 1)*(sqrt(3)*t + sqrt(3))/(t^3 + 3*t^2 + 3*t + 1)^2 + 1/4*(24*sqrt(3)*(t^2 + 2*t + 1)*t^2/(t^3 + 3*t^2 + 3*t + 1)^2 + 24*sqrt(3)*(t^2 - 2*t + 1)*t^2/(t^3 - 3*t^2 + 3*t - 1)^2 + 2*sqrt(3) + 9*sqrt(2) - 16*sqrt(3)*t/(t^3 + 3*t^2 + 3*t + 1) - 16*sqrt(3)*t/(t^3 - 3*t^2 + 3*t - 1) + 48*sqrt(3)*(t^2 + 2*t + 1)*t/(t^3 + 3*t^2 + 3*t + 1)^2 - 48*sqrt(3)*(t^2 - 2*t + 1)*t/(t^3 - 3*t^2 + 3*t - 1)^2 - 16*sqrt(3)/(t^3 + 3*t^2 + 3*t + 1) + 16*sqrt(3)/(t^3 - 3*t^2 + 3*t - 1) + 24*sqrt(3)*(t^2 + 2*t + 1)/(t^3 + 3*t^2 + 3*t + 1)^2 + 24*sqrt(3)*(t^2 - 2*t + 1)/(t^3 - 3*t^2 + 3*t - 1)^2 + 216*(3*t + 1)*t^2/u^5 - 144*t/u^3 - 216*(3*t - 1)*t^2/v^5 + 144*t/v^3 - 4*sqrt(3)/t^3 - 18*sqrt(2)/t^3 - 36/t^3 + 1296*(3*t + 1)*t/u^5 - 432/u^3 + 1296*(3*t - 1)*t/v^5 - 432/v^3 + 216*(3*t + 1)/u^5 - 216*(3*t - 1)/v^5 + 18)*(32*t^2/(t^3 + 3*t^2 + 3*t + 1)^2 - 32*t^2/(t^3 - 3*t^2 + 3*t - 1)^2 - 6*sqrt(3)*sqrt(2)/t^2 + 64*t/(t^3 + 3*t^2 + 3*t + 1)^2 + 64*t/(t^3 - 3*t^2 + 3*t - 1)^2 - 12*sqrt(3)/t^2 - 54*sqrt(2)/t^2 + 384*sqrt(3)*t^2/((t^3 + 3*t^2 + 3*t + 1)*u^3) + 192*sqrt(3)*t^2/((t^3 - 3*t^2 + 3*t - 1)*u^3) + 192*sqrt(3)*t^2/((t^3 + 3*t^2 + 3*t + 1)*v^3) + 384*sqrt(3)*t^2/((t^3 - 3*t^2 + 3*t - 1)*v^3) + 32/(t^3 + 3*t^2 + 3*t + 1)^2 - 32/(t^3 - 3*t^2 + 3*t - 1)^2 - 83/t^2 + 768*sqrt(3)*t/((t^3 + 3*t^2 + 3*t + 1)*u^3) - 384*sqrt(3)*t/((t^3 - 3*t^2 + 3*t - 1)*u^3) + 384*sqrt(3)*t/((t^3 + 3*t^2 + 3*t + 1)*v^3) - 768*sqrt(3)*t/((t^3 - 3*t^2 + 3*t - 1)*v^3) + 384*sqrt(3)/((t^3 + 3*t^2 + 3*t + 1)*u^3) + 192*sqrt(3)/((t^3 - 3*t^2 + 3*t - 1)*u^3) + 192*sqrt(3)/((t^3 + 3*t^2 + 3*t + 1)*v^3) + 384*sqrt(3)/((t^3 - 3*t^2 + 3*t - 1)*v^3) + 2592*t^2/u^6 - 2592*t^2/v^6 + 8640*t/u^6 + 8640*t/v^6 + 13824*t/(u^3*v^3) + 2592/u^6 - 2592/v^6)/(2*sqrt(3)*t + 9*sqrt(2)*t - 8*sqrt(3)*t^2/(t^3 + 3*t^2 + 3*t + 1) - 8*sqrt(3)*t^2/(t^3 - 3*t^2 + 3*t - 1) + 18*t - 16*sqrt(3)*t/(t^3 + 3*t^2 + 3*t + 1) + 16*sqrt(3)*t/(t^3 - 3*t^2 + 3*t - 1) - 8*sqrt(3)/(t^3 + 3*t^2 + 3*t + 1) - 8*sqrt(3)/(t^3 - 3*t^2 + 3*t - 1) - 72*t^2/u^3 + 72*t^2/v^3 + 2*sqrt(3)/t^2 + 9*sqrt(2)/t^2 + 18/t^2 - 432*t/u^3 - 432*t/v^3 - 72/u^3 + 72/v^3)^2 + 1/2*(96*(t^2 + 2*t + 1)*t^2/(t^3 + 3*t^2 + 3*t + 1)^3 - 96*(t^2 - 2*t + 1)*t^2/(t^3 - 3*t^2 + 3*t - 1)^3 - 32*t/(t^3 + 3*t^2 + 3*t + 1)^2 + 32*t/(t^3 - 3*t^2 + 3*t - 1)^2 + 192*(t^2 + 2*t + 1)*t/(t^3 + 3*t^2 + 3*t + 1)^3 + 192*(t^2 - 2*t + 1)*t/(t^3 - 3*t^2 + 3*t - 1)^3 + 576*sqrt(3)*(t^2 + 2*t + 1)*t^2/((t^3 + 3*t^2 + 3*t + 1)^2*u^3) + 288*sqrt(3)*(t^2 - 2*t + 1)*t^2/((t^3 - 3*t^2 + 3*t - 1)^2*u^3) + 288*sqrt(3)*(t^2 + 2*t + 1)*t^2/((t^3 + 3*t^2 + 3*t + 1)^2*v^3) + 576*sqrt(3)*(t^2 - 2*t + 1)*t^2/((t^3 - 3*t^2 + 3*t - 1)^2*v^3) - 32/(t^3 + 3*t^2 + 3*t + 1)^2 - 32/(t^3 - 3*t^2 + 3*t - 1)^2 + 96*(t^2 + 2*t + 1)/(t^3 + 3*t^2 + 3*t + 1)^3 - 96*(t^2 - 2*t + 1)/(t^3 - 3*t^2 + 3*t - 1)^3 - 6*sqrt(3)*sqrt(2)/t^3 - 12*sqrt(3)/t^3 - 54*sqrt(2)/t^3 + 576*sqrt(3)*(3*t + 1)*t^2/((t^3 + 3*t^2 + 3*t + 1)*u^5) + 288*sqrt(3)*(3*t + 1)*t^2/((t^3 - 3*t^2 + 3*t - 1)*u^5) - 384*sqrt(3)*t/((t^3 + 3*t^2 + 3*t + 1)*u^3) - 192*sqrt(3)*t/((t^3 - 3*t^2 + 3*t - 1)*u^3) + 1152*sqrt(3)*(t^2 + 2*t + 1)*t/((t^3 + 3*t^2 + 3*t + 1)^2*u^3) - 576*sqrt(3)*(t^2 - 2*t + 1)*t/((t^3 - 3*t^2 + 3*t - 1)^2*u^3) + 288*sqrt(3)*(3*t - 1)*t^2/((t^3 + 3*t^2 + 3*t + 1)*v^5) + 576*sqrt(3)*(3*t - 1)*t^2/((t^3 - 3*t^2 + 3*t - 1)*v^5) - 192*sqrt(3)*t/((t^3 + 3*t^2 + 3*t + 1)*v^3) - 384*sqrt(3)*t/((t^3 - 3*t^2 + 3*t - 1)*v^3) + 576*sqrt(3)*(t^2 + 2*t + 1)*t/((t^3 + 3*t^2 + 3*t + 1)^2*v^3) - 1152*sqrt(3)*(t^2 - 2*t + 1)*t/((t^3 - 3*t^2 + 3*t - 1)^2*v^3) - 83/t^3 + 1152*sqrt(3)*(3*t + 1)*t/((t^3 + 3*t^2 + 3*t + 1)*u^5) - 576*sqrt(3)*(3*t + 1)*t/((t^3 - 3*t^2 + 3*t - 1)*u^5) - 384*sqrt(3)/((t^3 + 3*t^2 + 3*t + 1)*u^3) + 192*sqrt(3)/((t^3 - 3*t^2 + 3*t - 1)*u^3) + 576*sqrt(3)*(t^2 + 2*t + 1)/((t^3 + 3*t^2 + 3*t + 1)^2*u^3) + 288*sqrt(3)*(t^2 - 2*t + 1)/((t^3 - 3*t^2 + 3*t - 1)^2*u^3) + 576*sqrt(3)*(3*t - 1)*t/((t^3 + 3*t^2 + 3*t + 1)*v^5) - 1152*sqrt(3)*(3*t - 1)*t/((t^3 - 3*t^2 + 3*t - 1)*v^5) - 192*sqrt(3)/((t^3 + 3*t^2 + 3*t + 1)*v^3) + 384*sqrt(3)/((t^3 - 3*t^2 + 3*t - 1)*v^3) + 288*sqrt(3)*(t^2 + 2*t + 1)/((t^3 + 3*t^2 + 3*t + 1)^2*v^3) + 576*sqrt(3)*(t^2 - 2*t + 1)/((t^3 - 3*t^2 + 3*t - 1)^2*v^3) + 576*sqrt(3)*(3*t + 1)/((t^3 + 3*t^2 + 3*t + 1)*u^5) + 288*sqrt(3)*(3*t + 1)/((t^3 - 3*t^2 + 3*t - 1)*u^5) + 288*sqrt(3)*(3*t - 1)/((t^3 + 3*t^2 + 3*t + 1)*v^5) + 576*sqrt(3)*(3*t - 1)/((t^3 - 3*t^2 + 3*t - 1)*v^5) + 7776*(3*t + 1)*t^2/u^8 - 2592*t/u^6 - 7776*(3*t - 1)*t^2/v^8 + 2592*t/v^6 + 25920*(3*t + 1)*t/u^8 - 4320/u^6 + 25920*(3*t - 1)*t/v^8 - 4320/v^6 + 20736*(3*t - 1)*t/(u^3*v^5) + 20736*(3*t + 1)*t/(u^5*v^3) - 6912/(u^3*v^3) + 7776*(3*t + 1)/u^8 - 7776*(3*t - 1)/v^8)/(2*sqrt(3)*t + 9*sqrt(2)*t - 8*sqrt(3)*t^2/(t^3 + 3*t^2 + 3*t + 1) - 8*sqrt(3)*t^2/(t^3 - 3*t^2 + 3*t - 1) + 18*t - 16*sqrt(3)*t/(t^3 + 3*t^2 + 3*t + 1) + 16*sqrt(3)*t/(t^3 - 3*t^2 + 3*t - 1) - 8*sqrt(3)/(t^3 + 3*t^2 + 3*t + 1) - 8*sqrt(3)/(t^3 - 3*t^2 + 3*t - 1) - 72*t^2/u^3 + 72*t^2/v^3 + 2*sqrt(3)/t^2 + 9*sqrt(2)/t^2 + 18/t^2 - 432*t/u^3 - 432*t/v^3 - 72/u^3 + 72/v^3) - 1/3*sqrt(3)/(t^3 + 3*t^2 + 3*t + 1) - 1/3*sqrt(3)/(t - 1)^3 + (sqrt(3)*t - sqrt(3))/(t - 1)^4 + 9*(3*t + 1)*(t + 3)/u^5 - 3/u^3 - 9*(3*t - 1)*(t - 3)/v^5 + 3/v^3"
      ]
     },
     "metadata": {},
     "output_type": "display_data"
    }
   ],
   "source": [
    "C12_diff_uvt = C12_diff.subs({(3*t^2 - 2*t + 3):v^2}).subs({(3*t^2 + 2*t + 3):u^2}); show(C12_diff_uvt)"
   ]
  },
  {
   "cell_type": "code",
   "execution_count": 49,
   "id": "395108f2",
   "metadata": {
    "collapsed": false,
    "editable": true,
    "jupyter": {
     "outputs_hidden": false
    },
    "pycharm": {
     "name": "#%%\n"
    },
    "slideshow": {
     "slide_type": ""
    },
    "tags": []
   },
   "outputs": [
    {
     "data": {
      "text/html": [
       "<html>\\(\\displaystyle -23328 \\, \\sqrt{3} \\sqrt{2} t^{20} u^{11} v^{6} + 2592 \\, \\sqrt{3} \\sqrt{2} t^{18} u^{11} v^{8} + 23328 \\, \\sqrt{3} \\sqrt{2} t^{20} u^{6} v^{11} - 2592 \\, \\sqrt{3} \\sqrt{2} t^{18} u^{8} v^{11} + 10368 \\, \\sqrt{3} \\sqrt{2} t^{15} u^{11} v^{11} - 46656 \\, \\sqrt{3} t^{20} u^{11} v^{6} - 209952 \\, \\sqrt{2} t^{20} u^{11} v^{6} + 5184 \\, \\sqrt{3} t^{18} u^{11} v^{8} + 23328 \\, \\sqrt{2} t^{18} u^{11} v^{8} + 46656 \\, \\sqrt{3} t^{20} u^{6} v^{11} + 209952 \\, \\sqrt{2} t^{20} u^{6} v^{11} - 5184 \\, \\sqrt{3} t^{18} u^{8} v^{11} - 23328 \\, \\sqrt{2} t^{18} u^{8} v^{11} + 15936 \\, \\sqrt{3} t^{15} u^{11} v^{11} + 3456 \\, \\sqrt{2} t^{15} u^{11} v^{11} + 77760 \\, \\sqrt{3} \\sqrt{2} t^{19} u^{11} v^{6} - 322704 \\, t^{20} u^{11} v^{6} + 35856 \\, t^{18} u^{11} v^{8} + 77760 \\, \\sqrt{3} \\sqrt{2} t^{19} u^{6} v^{11} + 322704 \\, t^{20} u^{6} v^{11} - 35856 \\, t^{18} u^{8} v^{11} - 5832 \\, \\sqrt{3} \\sqrt{2} t^{14} u^{11} v^{11} + 6912 \\, t^{15} u^{11} v^{11} + 155520 \\, \\sqrt{3} t^{19} u^{11} v^{6} + 699840 \\, \\sqrt{2} t^{19} u^{11} v^{6} + 155520 \\, \\sqrt{3} t^{19} u^{6} v^{11} + 699840 \\, \\sqrt{2} t^{19} u^{6} v^{11} - 8820 \\, \\sqrt{3} t^{14} u^{11} v^{11} - 31590 \\, \\sqrt{2} t^{14} u^{11} v^{11} + 303264 \\, \\sqrt{3} \\sqrt{2} t^{18} u^{11} v^{6} + 1075680 \\, t^{19} u^{11} v^{6} + 5184 \\, \\sqrt{3} \\sqrt{2} t^{16} u^{11} v^{8} - 303264 \\, \\sqrt{3} \\sqrt{2} t^{18} u^{6} v^{11} + 1075680 \\, t^{19} u^{6} v^{11} - 5184 \\, \\sqrt{3} \\sqrt{2} t^{16} u^{8} v^{11} - 45684 \\, t^{14} u^{11} v^{11} - 186624 \\, \\sqrt{3} t^{21} u^{11} v^{3} - 839808 \\, \\sqrt{2} t^{21} u^{11} v^{3} + 20736 \\, \\sqrt{3} t^{19} u^{11} v^{5} + 93312 \\, \\sqrt{2} t^{19} u^{11} v^{5} + 186624 \\, \\sqrt{3} t^{21} u^{8} v^{6} + 839808 \\, \\sqrt{2} t^{21} u^{8} v^{6} + 606528 \\, \\sqrt{3} t^{18} u^{11} v^{6} + 1049760 \\, \\sqrt{2} t^{18} u^{11} v^{6} + 186624 \\, \\sqrt{3} t^{21} u^{6} v^{8} + 839808 \\, \\sqrt{2} t^{21} u^{6} v^{8} - 41472 \\, \\sqrt{3} t^{19} u^{8} v^{8} - 186624 \\, \\sqrt{2} t^{19} u^{8} v^{8} + 10368 \\, \\sqrt{3} t^{16} u^{11} v^{8} - 139968 \\, \\sqrt{2} t^{16} u^{11} v^{8} - 186624 \\, \\sqrt{3} t^{21} u^{3} v^{11} - 839808 \\, \\sqrt{2} t^{21} u^{3} v^{11} + 20736 \\, \\sqrt{3} t^{19} u^{5} v^{11} + 93312 \\, \\sqrt{2} t^{19} u^{5} v^{11} - 606528 \\, \\sqrt{3} t^{18} u^{6} v^{11} - 1049760 \\, \\sqrt{2} t^{18} u^{6} v^{11} - 10368 \\, \\sqrt{3} t^{16} u^{8} v^{11} + 139968 \\, \\sqrt{2} t^{16} u^{8} v^{11} - 6144 \\, \\sqrt{3} t^{13} u^{11} v^{11} - 27648 \\, \\sqrt{2} t^{13} u^{11} v^{11} - 1679616 \\, t^{21} u^{11} v^{3} + 186624 \\, t^{19} u^{11} v^{5} + 1679616 \\, t^{21} u^{8} v^{6} - 832032 \\, \\sqrt{3} \\sqrt{2} t^{17} u^{11} v^{6} + 1737936 \\, t^{18} u^{11} v^{6} + 1679616 \\, t^{21} u^{6} v^{8} - 373248 \\, t^{19} u^{8} v^{8} - 191808 \\, \\sqrt{3} \\sqrt{2} t^{15} u^{11} v^{8} - 201312 \\, t^{16} u^{11} v^{8} - 1679616 \\, t^{21} u^{3} v^{11} + 186624 \\, t^{19} u^{5} v^{11} - 785376 \\, \\sqrt{3} \\sqrt{2} t^{17} u^{6} v^{11} - 1737936 \\, t^{18} u^{6} v^{11} - 181440 \\, \\sqrt{3} \\sqrt{2} t^{15} u^{8} v^{11} + 201312 \\, t^{16} u^{8} v^{11} + 60912 \\, \\sqrt{3} \\sqrt{2} t^{12} u^{11} v^{11} - 55296 \\, t^{13} u^{11} v^{11} + 1181952 \\, \\sqrt{3} t^{20} u^{11} v^{3} + 5318784 \\, \\sqrt{2} t^{20} u^{11} v^{3} - 93312 \\, \\sqrt{3} t^{18} u^{11} v^{5} - 419904 \\, \\sqrt{2} t^{18} u^{11} v^{5} + 497664 \\, \\sqrt{3} t^{20} u^{8} v^{6} + 2239488 \\, \\sqrt{2} t^{20} u^{8} v^{6} - 1664064 \\, \\sqrt{3} t^{17} u^{11} v^{6} - 4408992 \\, \\sqrt{2} t^{17} u^{11} v^{6} - 497664 \\, \\sqrt{3} t^{20} u^{6} v^{8} - 2239488 \\, \\sqrt{2} t^{20} u^{6} v^{8} - 383616 \\, \\sqrt{3} t^{15} u^{11} v^{8} - 46656 \\, \\sqrt{2} t^{15} u^{11} v^{8} - 1181952 \\, \\sqrt{3} t^{20} u^{3} v^{11} - 5318784 \\, \\sqrt{2} t^{20} u^{3} v^{11} + 93312 \\, \\sqrt{3} t^{18} u^{5} v^{11} + 419904 \\, \\sqrt{2} t^{18} u^{5} v^{11} - 1570752 \\, \\sqrt{3} t^{17} u^{6} v^{11} - 3989088 \\, \\sqrt{2} t^{17} u^{6} v^{11} - 362880 \\, \\sqrt{3} t^{15} u^{8} v^{11} + 46656 \\, \\sqrt{2} t^{15} u^{8} v^{11} + 92760 \\, \\sqrt{3} t^{12} u^{11} v^{11} + 198180 \\, \\sqrt{2} t^{12} u^{11} v^{11} + 10637568 \\, t^{20} u^{11} v^{3} - 839808 \\, t^{18} u^{11} v^{5} + 4478976 \\, t^{20} u^{8} v^{6} - 948672 \\, \\sqrt{3} \\sqrt{2} t^{16} u^{11} v^{6} - 7004880 \\, t^{17} u^{11} v^{6} - 4478976 \\, t^{20} u^{6} v^{8} + 261792 \\, \\sqrt{3} \\sqrt{2} t^{14} u^{11} v^{8} - 196128 \\, t^{15} u^{11} v^{8} - 10637568 \\, t^{20} u^{3} v^{11} + 839808 \\, t^{18} u^{5} v^{11} + 964224 \\, \\sqrt{3} \\sqrt{2} t^{16} u^{6} v^{11} - 6359472 \\, t^{17} u^{6} v^{11} - 168480 \\, \\sqrt{3} \\sqrt{2} t^{14} u^{8} v^{11} - 52704 \\, t^{15} u^{8} v^{11} - 62208 \\, \\sqrt{3} \\sqrt{2} t^{11} u^{11} v^{11} + 291384 \\, t^{12} u^{11} v^{11} + 559872 \\, \\sqrt{3} t^{19} u^{11} v^{3} - 4199040 \\, \\sqrt{2} t^{19} u^{11} v^{3} - 103680 \\, \\sqrt{3} t^{17} u^{11} v^{5} - 466560 \\, \\sqrt{2} t^{17} u^{11} v^{5} - 4478976 \\, \\sqrt{3} t^{19} u^{8} v^{6} - 13436928 \\, \\sqrt{2} t^{19} u^{8} v^{6} - 1897344 \\, \\sqrt{3} t^{16} u^{11} v^{6} - 1819584 \\, \\sqrt{2} t^{16} u^{11} v^{6} - 4478976 \\, \\sqrt{3} t^{19} u^{6} v^{8} - 13436928 \\, \\sqrt{2} t^{19} u^{6} v^{8} + 207360 \\, \\sqrt{3} t^{17} u^{8} v^{8} + 933120 \\, \\sqrt{2} t^{17} u^{8} v^{8} + 523584 \\, \\sqrt{3} t^{14} u^{11} v^{8} + 769824 \\, \\sqrt{2} t^{14} u^{11} v^{8} + 559872 \\, \\sqrt{3} t^{19} u^{3} v^{11} - 4199040 \\, \\sqrt{2} t^{19} u^{3} v^{11} - 103680 \\, \\sqrt{3} t^{17} u^{5} v^{11} - 466560 \\, \\sqrt{2} t^{17} u^{5} v^{11} + 1928448 \\, \\sqrt{3} t^{16} u^{6} v^{11} + 1959552 \\, \\sqrt{2} t^{16} u^{6} v^{11} - 336960 \\, \\sqrt{3} t^{14} u^{8} v^{11} + 69984 \\, \\sqrt{2} t^{14} u^{8} v^{11} - 95616 \\, \\sqrt{3} t^{11} u^{11} v^{11} - 131328 \\, \\sqrt{2} t^{11} u^{11} v^{11} - 3359232 \\, t^{22} u^{11} + 373248 \\, t^{20} u^{11} v^{2} + 6718464 \\, t^{22} u^{8} v^{3} - 8398080 \\, t^{19} u^{11} v^{3} + 3359232 \\, t^{22} u^{6} v^{5} - 1119744 \\, t^{20} u^{8} v^{5} - 933120 \\, t^{17} u^{11} v^{5} - 3359232 \\, t^{22} u^{5} v^{6} - 26873856 \\, t^{19} u^{8} v^{6} + 3195936 \\, \\sqrt{3} \\sqrt{2} t^{15} u^{11} v^{6} - 3792096 \\, t^{16} u^{11} v^{6} - 6718464 \\, t^{22} u^{3} v^{8} + 1119744 \\, t^{20} u^{5} v^{8} - 26873856 \\, t^{19} u^{6} v^{8} + 1866240 \\, t^{17} u^{8} v^{8} - 202176 \\, \\sqrt{3} \\sqrt{2} t^{13} u^{11} v^{8} + 1134864 \\, t^{14} u^{11} v^{8} + 3359232 \\, t^{22} v^{11} - 373248 \\, t^{20} u^{2} v^{11} - 8398080 \\, t^{19} u^{3} v^{11} - 933120 \\, t^{17} u^{5} v^{11} + 2496096 \\, \\sqrt{3} \\sqrt{2} t^{15} u^{6} v^{11} + 4007232 \\, t^{16} u^{6} v^{11} - 295488 \\, \\sqrt{3} \\sqrt{2} t^{13} u^{8} v^{11} + 155952 \\, t^{14} u^{8} v^{11} - 123768 \\, \\sqrt{3} \\sqrt{2} t^{10} u^{11} v^{11} - 262656 \\, t^{11} u^{11} v^{11} - 16174080 \\, \\sqrt{3} t^{18} u^{11} v^{3} - 30233088 \\, \\sqrt{2} t^{18} u^{11} v^{3} - 445824 \\, \\sqrt{3} t^{16} u^{11} v^{5} + 2472768 \\, \\sqrt{2} t^{16} u^{11} v^{5} - 11259648 \\, \\sqrt{3} t^{18} u^{8} v^{6} - 12597120 \\, \\sqrt{2} t^{18} u^{8} v^{6} + 6391872 \\, \\sqrt{3} t^{15} u^{11} v^{6} + 11967264 \\, \\sqrt{2} t^{15} u^{11} v^{6} + 11632896 \\, \\sqrt{3} t^{18} u^{6} v^{8} + 14276736 \\, \\sqrt{2} t^{18} u^{6} v^{8} - 41472 \\, \\sqrt{3} t^{16} u^{8} v^{8} - 186624 \\, \\sqrt{2} t^{16} u^{8} v^{8} - 404352 \\, \\sqrt{3} t^{13} u^{11} v^{8} + 233280 \\, \\sqrt{2} t^{13} u^{11} v^{8} + 15800832 \\, \\sqrt{3} t^{18} u^{3} v^{11} + 28553472 \\, \\sqrt{2} t^{18} u^{3} v^{11} + 487296 \\, \\sqrt{3} t^{16} u^{5} v^{11} - 2286144 \\, \\sqrt{2} t^{16} u^{5} v^{11} + 4992192 \\, \\sqrt{3} t^{15} u^{6} v^{11} + 9027936 \\, \\sqrt{2} t^{15} u^{6} v^{11} - 590976 \\, \\sqrt{3} t^{13} u^{8} v^{11} - 233280 \\, \\sqrt{2} t^{13} u^{8} v^{11} - 194220 \\, \\sqrt{3} t^{10} u^{11} v^{11} - 513594 \\, \\sqrt{2} t^{10} u^{11} v^{11} + 41430528 \\, t^{21} u^{11} - 4478976 \\, t^{19} u^{11} v^{2} - 2239488 \\, t^{21} u^{8} v^{3} - 60466176 \\, t^{18} u^{11} v^{3} - 39191040 \\, t^{21} u^{6} v^{5} + 4478976 \\, t^{19} u^{8} v^{5} + 4945536 \\, t^{16} u^{11} v^{5} - 39191040 \\, t^{21} u^{5} v^{6} - 25194240 \\, t^{18} u^{8} v^{6} + 629856 \\, \\sqrt{3} \\sqrt{2} t^{14} u^{11} v^{6} + 19804176 \\, t^{15} u^{11} v^{6} - 2239488 \\, t^{21} u^{3} v^{8} + 4478976 \\, t^{19} u^{5} v^{8} + 28553472 \\, t^{18} u^{6} v^{8} - 373248 \\, t^{16} u^{8} v^{8} - 1200096 \\, \\sqrt{3} \\sqrt{2} t^{12} u^{11} v^{8} + 1533600 \\, t^{13} u^{11} v^{8} + 41430528 \\, t^{21} v^{11} - 4478976 \\, t^{19} u^{2} v^{11} + 57106944 \\, t^{18} u^{3} v^{11} - 4572288 \\, t^{16} u^{5} v^{11} - 1423008 \\, \\sqrt{3} \\sqrt{2} t^{14} u^{6} v^{11} + 15037488 \\, t^{15} u^{6} v^{11} + 80352 \\, \\sqrt{3} \\sqrt{2} t^{12} u^{8} v^{11} + 788832 \\, t^{13} u^{8} v^{11} + 93312 \\, \\sqrt{3} \\sqrt{2} t^{9} u^{11} v^{11} - 764748 \\, t^{10} u^{11} v^{11} + 19657728 \\, \\sqrt{3} t^{17} u^{11} v^{3} + 48148992 \\, \\sqrt{2} t^{17} u^{11} v^{3} + 6158592 \\, \\sqrt{3} t^{15} u^{11} v^{5} + 839808 \\, \\sqrt{2} t^{15} u^{11} v^{5} + 38568960 \\, \\sqrt{3} t^{17} u^{8} v^{6} + 66064896 \\, \\sqrt{2} t^{17} u^{8} v^{6} + 1259712 \\, \\sqrt{3} t^{14} u^{11} v^{6} + 349920 \\, \\sqrt{2} t^{14} u^{11} v^{6} + 37573632 \\, \\sqrt{3} t^{17} u^{6} v^{8} + 61585920 \\, \\sqrt{2} t^{17} u^{6} v^{8} + 5598720 \\, \\sqrt{3} t^{15} u^{8} v^{8} - 1679616 \\, \\sqrt{2} t^{15} u^{8} v^{8} - 2400192 \\, \\sqrt{3} t^{12} u^{11} v^{8} - 2962656 \\, \\sqrt{2} t^{12} u^{11} v^{8} + 17293824 \\, \\sqrt{3} t^{17} u^{3} v^{11} + 37511424 \\, \\sqrt{2} t^{17} u^{3} v^{11} + 6158592 \\, \\sqrt{3} t^{15} u^{5} v^{11} + 839808 \\, \\sqrt{2} t^{15} u^{5} v^{11} - 2846016 \\, \\sqrt{3} t^{14} u^{6} v^{11} - 1329696 \\, \\sqrt{2} t^{14} u^{6} v^{11} + 160704 \\, \\sqrt{3} t^{12} u^{8} v^{11} - 2076192 \\, \\sqrt{2} t^{12} u^{8} v^{11} + 309312 \\, \\sqrt{3} t^{9} u^{11} v^{11} + 114048 \\, \\sqrt{2} t^{9} u^{11} v^{11} - 147806208 \\, t^{20} u^{11} + 8957952 \\, t^{18} u^{11} v^{2} - 214990848 \\, t^{20} u^{8} v^{3} + 96297984 \\, t^{17} u^{11} v^{3} + 13436928 \\, t^{18} u^{8} v^{5} + 1679616 \\, t^{15} u^{11} v^{5} + 132129792 \\, t^{17} u^{8} v^{6} - 5979744 \\, \\sqrt{3} \\sqrt{2} t^{13} u^{11} v^{6} + 3420144 \\, t^{14} u^{11} v^{6} + 214990848 \\, t^{20} u^{3} v^{8} - 13436928 \\, t^{18} u^{5} v^{8} + 123171840 \\, t^{17} u^{6} v^{8} - 3359232 \\, t^{15} u^{8} v^{8} + 1964736 \\, \\sqrt{3} \\sqrt{2} t^{11} u^{11} v^{8} - 6627312 \\, t^{12} u^{11} v^{8} + 147806208 \\, t^{20} v^{11} - 8957952 \\, t^{18} u^{2} v^{11} + 75022848 \\, t^{17} u^{3} v^{11} + 1679616 \\, t^{15} u^{5} v^{11} - 3506976 \\, \\sqrt{3} \\sqrt{2} t^{13} u^{6} v^{11} - 5382288 \\, t^{14} u^{6} v^{11} + 1767744 \\, \\sqrt{3} \\sqrt{2} t^{11} u^{8} v^{11} - 1490832 \\, t^{12} u^{8} v^{11} + 85536 \\, \\sqrt{3} \\sqrt{2} t^{8} u^{11} v^{11} + 228096 \\, t^{9} u^{11} v^{11} + 56236032 \\, \\sqrt{3} t^{16} u^{11} v^{3} + 60466176 \\, \\sqrt{2} t^{16} u^{11} v^{3} - 10088064 \\, \\sqrt{3} t^{14} u^{11} v^{5} - 7324992 \\, \\sqrt{2} t^{14} u^{11} v^{5} + 33343488 \\, \\sqrt{3} t^{16} u^{8} v^{6} + 20155392 \\, \\sqrt{2} t^{16} u^{8} v^{6} - 11959488 \\, \\sqrt{3} t^{13} u^{11} v^{6} - 17705952 \\, \\sqrt{2} t^{13} u^{11} v^{6} - 39315456 \\, \\sqrt{3} t^{16} u^{6} v^{8} - 47029248 \\, \\sqrt{2} t^{16} u^{6} v^{8} - 290304 \\, \\sqrt{3} t^{14} u^{8} v^{8} - 1306368 \\, \\sqrt{2} t^{14} u^{8} v^{8} + 3929472 \\, \\sqrt{3} t^{11} u^{11} v^{8} - 419904 \\, \\sqrt{2} t^{11} u^{11} v^{8} - 58102272 \\, \\sqrt{3} t^{16} u^{3} v^{11} - 68864256 \\, \\sqrt{2} t^{16} u^{3} v^{11} + 9258624 \\, \\sqrt{3} t^{14} u^{5} v^{11} + 3592512 \\, \\sqrt{2} t^{14} u^{5} v^{11} - 7013952 \\, \\sqrt{3} t^{13} u^{6} v^{11} - 8887968 \\, \\sqrt{2} t^{13} u^{6} v^{11} + 3535488 \\, \\sqrt{3} t^{11} u^{8} v^{11} + 419904 \\, \\sqrt{2} t^{11} u^{8} v^{11} + 113232 \\, \\sqrt{3} t^{8} u^{11} v^{11} + 552312 \\, \\sqrt{2} t^{8} u^{11} v^{11} + 4478976 \\, t^{19} u^{11} + 22394880 \\, t^{17} u^{11} v^{2} + 394149888 \\, t^{19} u^{8} v^{3} + 120932352 \\, t^{16} u^{11} v^{3} + 447897600 \\, t^{19} u^{6} v^{5} - 22394880 \\, t^{17} u^{8} v^{5} - 14649984 \\, t^{14} u^{11} v^{5} + 447897600 \\, t^{19} u^{5} v^{6} + 40310784 \\, t^{16} u^{8} v^{6} + 2076192 \\, \\sqrt{3} \\sqrt{2} t^{12} u^{11} v^{6} - 36691056 \\, t^{13} u^{11} v^{6} + 394149888 \\, t^{19} u^{3} v^{8} - 22394880 \\, t^{17} u^{5} v^{8} - 94058496 \\, t^{16} u^{6} v^{8} - 2612736 \\, t^{14} u^{8} v^{8} + 1459296 \\, \\sqrt{3} \\sqrt{2} t^{10} u^{11} v^{8} + 6003936 \\, t^{11} u^{11} v^{8} + 4478976 \\, t^{19} v^{11} + 22394880 \\, t^{17} u^{2} v^{11} - 137728512 \\, t^{16} u^{3} v^{11} + 7185024 \\, t^{14} u^{5} v^{11} + 1609632 \\, \\sqrt{3} \\sqrt{2} t^{12} u^{6} v^{11} - 22142160 \\, t^{13} u^{6} v^{11} + 375840 \\, \\sqrt{3} \\sqrt{2} t^{10} u^{8} v^{11} + 7101216 \\, t^{11} u^{8} v^{11} - 31104 \\, \\sqrt{3} \\sqrt{2} t^{7} u^{11} v^{11} + 754704 \\, t^{8} u^{11} v^{11} - 100776960 \\, \\sqrt{3} t^{15} u^{11} v^{3} - 151165440 \\, \\sqrt{2} t^{15} u^{11} v^{3} + 2280960 \\, \\sqrt{3} t^{13} u^{11} v^{5} - 186624 \\, \\sqrt{2} t^{13} u^{11} v^{5} - 129890304 \\, \\sqrt{3} t^{15} u^{8} v^{6} - 161243136 \\, \\sqrt{2} t^{15} u^{8} v^{6} + 4152384 \\, \\sqrt{3} t^{12} u^{11} v^{6} + 3569184 \\, \\sqrt{2} t^{12} u^{11} v^{6} - 123918336 \\, \\sqrt{3} t^{15} u^{6} v^{8} - 134369280 \\, \\sqrt{2} t^{15} u^{6} v^{8} + 19450368 \\, \\sqrt{3} t^{13} u^{8} v^{8} + 933120 \\, \\sqrt{2} t^{13} u^{8} v^{8} + 2918592 \\, \\sqrt{3} t^{10} u^{11} v^{8} + 6508512 \\, \\sqrt{2} t^{10} u^{11} v^{8} - 87713280 \\, \\sqrt{3} t^{15} u^{3} v^{11} - 92378880 \\, \\sqrt{2} t^{15} u^{3} v^{11} + 2156544 \\, \\sqrt{3} t^{13} u^{5} v^{11} - 746496 \\, \\sqrt{2} t^{13} u^{5} v^{11} + 3219264 \\, \\sqrt{3} t^{12} u^{6} v^{11} - 629856 \\, \\sqrt{2} t^{12} u^{6} v^{11} + 751680 \\, \\sqrt{3} t^{10} u^{8} v^{11} + 6088608 \\, \\sqrt{2} t^{10} u^{8} v^{11} + 87360 \\, \\sqrt{3} t^{7} u^{11} v^{11} + 44928 \\, \\sqrt{2} t^{7} u^{11} v^{11} + 859963392 \\, t^{18} u^{11} - 58226688 \\, t^{16} u^{11} v^{2} + 1101828096 \\, t^{18} u^{8} v^{3} - 302330880 \\, t^{15} u^{11} v^{3} - 94058496 \\, t^{18} u^{6} v^{5} - 53747712 \\, t^{16} u^{8} v^{5} - 373248 \\, t^{13} u^{11} v^{5} + 94058496 \\, t^{18} u^{5} v^{6} - 322486272 \\, t^{15} u^{8} v^{6} + 5559840 \\, \\sqrt{3} \\sqrt{2} t^{11} u^{11} v^{6} + 7601040 \\, t^{12} u^{11} v^{6} - 1101828096 \\, t^{18} u^{3} v^{8} + 53747712 \\, t^{16} u^{5} v^{8} - 268738560 \\, t^{15} u^{6} v^{8} + 1866240 \\, t^{13} u^{8} v^{8} - 2649024 \\, \\sqrt{3} \\sqrt{2} t^{9} u^{11} v^{8} + 11047536 \\, t^{10} u^{11} v^{8} - 859963392 \\, t^{18} v^{11} + 58226688 \\, t^{16} u^{2} v^{11} - 184757760 \\, t^{15} u^{3} v^{11} - 1492992 \\, t^{13} u^{5} v^{11} + 2060640 \\, \\sqrt{3} \\sqrt{2} t^{11} u^{6} v^{11} - 843696 \\, t^{12} u^{6} v^{11} - 1829952 \\, \\sqrt{3} \\sqrt{2} t^{9} u^{8} v^{11} + 8605008 \\, t^{10} u^{8} v^{11} - 35640 \\, \\sqrt{3} \\sqrt{2} t^{6} u^{11} v^{11} + 89856 \\, t^{7} u^{11} v^{11} - 77884416 \\, \\sqrt{3} t^{14} u^{11} v^{3} - 25754112 \\, \\sqrt{2} t^{14} u^{11} v^{3} + 31819392 \\, \\sqrt{3} t^{12} u^{11} v^{5} + 15536448 \\, \\sqrt{2} t^{12} u^{11} v^{5} - 13188096 \\, \\sqrt{3} t^{14} u^{8} v^{6} + 19035648 \\, \\sqrt{2} t^{14} u^{8} v^{6} + 11119680 \\, \\sqrt{3} t^{11} u^{11} v^{6} + 13646880 \\, \\sqrt{2} t^{11} u^{11} v^{6} + 41554944 \\, \\sqrt{3} t^{14} u^{6} v^{8} + 108615168 \\, \\sqrt{2} t^{14} u^{6} v^{8} + 2612736 \\, \\sqrt{3} t^{12} u^{8} v^{8} + 11757312 \\, \\sqrt{2} t^{12} u^{8} v^{8} - 5298048 \\, \\sqrt{3} t^{9} u^{11} v^{8} + 233280 \\, \\sqrt{2} t^{9} u^{11} v^{8} + 96920064 \\, \\sqrt{3} t^{14} u^{3} v^{11} + 111414528 \\, \\sqrt{2} t^{14} u^{3} v^{11} - 27713664 \\, \\sqrt{3} t^{12} u^{5} v^{11} + 2939328 \\, \\sqrt{2} t^{12} u^{5} v^{11} + 4121280 \\, \\sqrt{3} t^{11} u^{6} v^{11} - 1049760 \\, \\sqrt{2} t^{11} u^{6} v^{11} - 3659904 \\, \\sqrt{3} t^{9} u^{8} v^{11} - 233280 \\, \\sqrt{2} t^{9} u^{8} v^{11} - 43404 \\, \\sqrt{3} t^{6} u^{11} v^{11} - 415098 \\, \\sqrt{2} t^{6} u^{11} v^{11} - 886837248 \\, t^{17} u^{11} - 40310784 \\, t^{15} u^{11} v^{2} - 2338025472 \\, t^{17} u^{8} v^{3} - 51508224 \\, t^{14} u^{11} v^{3} - 1894606848 \\, t^{17} u^{6} v^{5} + 40310784 \\, t^{15} u^{8} v^{5} + 31072896 \\, t^{12} u^{11} v^{5} - 1894606848 \\, t^{17} u^{5} v^{6} + 38071296 \\, t^{14} u^{8} v^{6} - 4891104 \\, \\sqrt{3} \\sqrt{2} t^{10} u^{11} v^{6} + 29975184 \\, t^{11} u^{11} v^{6} - 2338025472 \\, t^{17} u^{3} v^{8} + 40310784 \\, t^{15} u^{5} v^{8} + 217230336 \\, t^{14} u^{6} v^{8} + 23514624 \\, t^{12} u^{8} v^{8} - 59616 \\, \\sqrt{3} \\sqrt{2} t^{8} u^{11} v^{8} - 5406048 \\, t^{9} u^{11} v^{8} - 886837248 \\, t^{17} v^{11} - 40310784 \\, t^{15} u^{2} v^{11} + 222829056 \\, t^{14} u^{3} v^{11} + 5878656 \\, t^{12} u^{5} v^{11} - 2185056 \\, \\sqrt{3} \\sqrt{2} t^{10} u^{6} v^{11} + 6141744 \\, t^{11} u^{6} v^{11} + 59616 \\, \\sqrt{3} \\sqrt{2} t^{8} u^{8} v^{11} - 5542560 \\, t^{9} u^{8} v^{11} - 62208 \\, \\sqrt{3} \\sqrt{2} t^{5} u^{11} v^{11} - 567756 \\, t^{6} u^{11} v^{11} + 201927168 \\, \\sqrt{3} t^{13} u^{11} v^{3} + 236825856 \\, \\sqrt{2} t^{13} u^{11} v^{3} - 42944256 \\, \\sqrt{3} t^{11} u^{11} v^{5} - 2146176 \\, \\sqrt{2} t^{11} u^{11} v^{5} + 214617600 \\, \\sqrt{3} t^{13} u^{8} v^{6} + 226748160 \\, \\sqrt{2} t^{13} u^{8} v^{6} - 9782208 \\, \\sqrt{3} t^{10} u^{11} v^{6} - 6228576 \\, \\sqrt{2} t^{10} u^{11} v^{6} + 199687680 \\, \\sqrt{3} t^{13} u^{6} v^{8} + 159563520 \\, \\sqrt{2} t^{13} u^{6} v^{8} - 94017024 \\, \\sqrt{3} t^{11} u^{8} v^{8} + 933120 \\, \\sqrt{2} t^{11} u^{8} v^{8} - 119232 \\, \\sqrt{3} t^{8} u^{11} v^{8} - 8188128 \\, \\sqrt{2} t^{8} u^{11} v^{8} + 173187072 \\, \\sqrt{3} t^{13} u^{3} v^{11} + 107495424 \\, \\sqrt{2} t^{13} u^{3} v^{11} - 42197760 \\, \\sqrt{3} t^{11} u^{5} v^{11} + 1213056 \\, \\sqrt{2} t^{11} u^{5} v^{11} - 4370112 \\, \\sqrt{3} t^{10} u^{6} v^{11} + 1329696 \\, \\sqrt{2} t^{10} u^{6} v^{11} + 119232 \\, \\sqrt{3} t^{8} u^{8} v^{11} - 8608032 \\, \\sqrt{2} t^{8} u^{8} v^{11} - 95616 \\, \\sqrt{3} t^{5} u^{11} v^{11} - 20736 \\, \\sqrt{2} t^{5} u^{11} v^{11} - 1867732992 \\, t^{16} u^{11} + 140341248 \\, t^{14} u^{11} v^{2} - 2472394752 \\, t^{16} u^{8} v^{3} + 473651712 \\, t^{13} u^{11} v^{3} + 376233984 \\, t^{16} u^{6} v^{5} + 103016448 \\, t^{14} u^{8} v^{5} - 4292352 \\, t^{11} u^{11} v^{5} - 376233984 \\, t^{16} u^{5} v^{6} + 453496320 \\, t^{13} u^{8} v^{6} - 1516320 \\, \\sqrt{3} \\sqrt{2} t^{9} u^{11} v^{6} - 17349552 \\, t^{10} u^{11} v^{6} + 2472394752 \\, t^{16} u^{3} v^{8} - 103016448 \\, t^{14} u^{5} v^{8} + 319127040 \\, t^{13} u^{6} v^{8} + 1866240 \\, t^{11} u^{8} v^{8} + 1041984 \\, \\sqrt{3} \\sqrt{2} t^{7} u^{11} v^{8} - 11465712 \\, t^{8} u^{11} v^{8} + 1867732992 \\, t^{16} v^{11} - 140341248 \\, t^{14} u^{2} v^{11} + 214990848 \\, t^{13} u^{3} v^{11} + 2426112 \\, t^{11} u^{5} v^{11} + 116640 \\, \\sqrt{3} \\sqrt{2} t^{9} u^{6} v^{11} + 5465232 \\, t^{10} u^{6} v^{11} + 575424 \\, \\sqrt{3} \\sqrt{2} t^{7} u^{8} v^{11} - 13106448 \\, t^{8} u^{8} v^{11} + 40176 \\, \\sqrt{3} \\sqrt{2} t^{4} u^{11} v^{11} - 41472 \\, t^{5} u^{11} v^{11} + 29237760 \\, \\sqrt{3} t^{12} u^{11} v^{3} - 92378880 \\, \\sqrt{2} t^{12} u^{11} v^{3} - 30430080 \\, \\sqrt{3} t^{10} u^{11} v^{5} - 24960960 \\, \\sqrt{2} t^{10} u^{11} v^{5} - 75147264 \\, \\sqrt{3} t^{12} u^{8} v^{6} - 114213888 \\, \\sqrt{2} t^{12} u^{8} v^{6} - 3032640 \\, \\sqrt{3} t^{9} u^{11} v^{6} - 1049760 \\, \\sqrt{2} t^{9} u^{11} v^{6} + 9455616 \\, \\sqrt{3} t^{12} u^{6} v^{8} - 181398528 \\, \\sqrt{2} t^{12} u^{6} v^{8} - 7257600 \\, \\sqrt{3} t^{10} u^{8} v^{8} - 32659200 \\, \\sqrt{2} t^{10} u^{8} v^{8} + 2083968 \\, \\sqrt{3} t^{7} u^{11} v^{8} + 233280 \\, \\sqrt{2} t^{7} u^{11} v^{8} - 83358720 \\, \\sqrt{3} t^{12} u^{3} v^{11} - 151165440 \\, \\sqrt{2} t^{12} u^{3} v^{11} + 20891520 \\, \\sqrt{3} t^{10} u^{5} v^{11} - 17962560 \\, \\sqrt{2} t^{10} u^{5} v^{11} + 233280 \\, \\sqrt{3} t^{9} u^{6} v^{11} + 13646880 \\, \\sqrt{2} t^{9} u^{6} v^{11} + 1150848 \\, \\sqrt{3} t^{7} u^{8} v^{11} - 233280 \\, \\sqrt{2} t^{7} u^{8} v^{11} + 63960 \\, \\sqrt{3} t^{4} u^{11} v^{11} + 205092 \\, \\sqrt{2} t^{4} u^{11} v^{11} + 2906855424 \\, t^{15} u^{11} + 22394880 \\, t^{13} u^{11} v^{2} + 5876416512 \\, t^{15} u^{8} v^{3} - 184757760 \\, t^{12} u^{11} v^{3} + 4156489728 \\, t^{15} u^{6} v^{5} - 22394880 \\, t^{13} u^{8} v^{5} - 49921920 \\, t^{10} u^{11} v^{5} + 4156489728 \\, t^{15} u^{5} v^{6} - 228427776 \\, t^{12} u^{8} v^{6} + 4362336 \\, \\sqrt{3} \\sqrt{2} t^{8} u^{11} v^{6} + 4420656 \\, t^{9} u^{11} v^{6} + 5876416512 \\, t^{15} u^{3} v^{8} - 22394880 \\, t^{13} u^{5} v^{8} - 362797056 \\, t^{12} u^{6} v^{8} - 65318400 \\, t^{10} u^{8} v^{8} - 686880 \\, \\sqrt{3} \\sqrt{2} t^{6} u^{11} v^{8} - 1618272 \\, t^{7} u^{11} v^{8} + 2906855424 \\, t^{15} v^{11} + 22394880 \\, t^{13} u^{2} v^{11} - 302330880 \\, t^{12} u^{3} v^{11} - 35925120 \\, t^{10} u^{5} v^{11} + 2402784 \\, \\sqrt{3} \\sqrt{2} t^{8} u^{6} v^{11} + 27009936 \\, t^{9} u^{6} v^{11} - 526176 \\, \\sqrt{3} \\sqrt{2} t^{6} u^{8} v^{11} - 2611872 \\, t^{7} u^{8} v^{11} + 82944 \\, \\sqrt{3} \\sqrt{2} t^{3} u^{11} v^{11} + 305208 \\, t^{4} u^{11} v^{11} - 201678336 \\, \\sqrt{3} t^{11} u^{11} v^{3} - 202113792 \\, \\sqrt{2} t^{11} u^{11} v^{3} + 54867456 \\, \\sqrt{3} t^{9} u^{11} v^{5} + 5038848 \\, \\sqrt{2} t^{9} u^{11} v^{5} - 184633344 \\, \\sqrt{3} t^{11} u^{8} v^{6} - 192595968 \\, \\sqrt{2} t^{11} u^{8} v^{6} + 8724672 \\, \\sqrt{3} t^{8} u^{11} v^{6} + 4548960 \\, \\sqrt{2} t^{8} u^{11} v^{6} - 164726784 \\, \\sqrt{3} t^{11} u^{6} v^{8} - 103016448 \\, \\sqrt{2} t^{11} u^{6} v^{8} + 107122176 \\, \\sqrt{3} t^{9} u^{8} v^{8} - 1679616 \\, \\sqrt{2} t^{9} u^{8} v^{8} - 1373760 \\, \\sqrt{3} t^{6} u^{11} v^{8} + 5855328 \\, \\sqrt{2} t^{6} u^{11} v^{8} - 171196416 \\, \\sqrt{3} t^{11} u^{3} v^{11} - 64945152 \\, \\sqrt{2} t^{11} u^{3} v^{11} + 53001216 \\, \\sqrt{3} t^{9} u^{5} v^{11} - 3359232 \\, \\sqrt{2} t^{9} u^{5} v^{11} + 4805568 \\, \\sqrt{3} t^{8} u^{6} v^{11} + 349920 \\, \\sqrt{2} t^{8} u^{6} v^{11} - 1052352 \\, \\sqrt{3} t^{6} u^{8} v^{11} + 6741792 \\, \\sqrt{2} t^{6} u^{8} v^{11} + 127488 \\, \\sqrt{3} t^{3} u^{11} v^{11} + 27648 \\, \\sqrt{2} t^{3} u^{11} v^{11} + 1847577600 \\, t^{14} u^{11} - 167961600 \\, t^{12} u^{11} v^{2} + 2888939520 \\, t^{14} u^{8} v^{3} - 404227584 \\, t^{11} u^{11} v^{3} - 705438720 \\, t^{14} u^{6} v^{5} - 100776960 \\, t^{12} u^{8} v^{5} + 10077696 \\, t^{9} u^{11} v^{5} + 705438720 \\, t^{14} u^{5} v^{6} - 385191936 \\, t^{11} u^{8} v^{6} - 1734048 \\, \\sqrt{3} \\sqrt{2} t^{7} u^{11} v^{6} + 9065520 \\, t^{8} u^{11} v^{6} - 2888939520 \\, t^{14} u^{3} v^{8} + 100776960 \\, t^{12} u^{5} v^{8} - 206032896 \\, t^{11} u^{6} v^{8} - 3359232 \\, t^{9} u^{8} v^{8} + 181440 \\, \\sqrt{3} \\sqrt{2} t^{5} u^{11} v^{8} + 8605872 \\, t^{6} u^{11} v^{8} - 1847577600 \\, t^{14} v^{11} + 167961600 \\, t^{12} u^{2} v^{11} - 129890304 \\, t^{11} u^{3} v^{11} - 6718464 \\, t^{9} u^{5} v^{11} - 847584 \\, \\sqrt{3} \\sqrt{2} t^{7} u^{6} v^{11} + 2611440 \\, t^{8} u^{6} v^{11} - 181440 \\, \\sqrt{3} \\sqrt{2} t^{5} u^{8} v^{11} + 9014544 \\, t^{6} u^{8} v^{11} - 21384 \\, \\sqrt{3} \\sqrt{2} t^{2} u^{11} v^{11} + 55296 \\, t^{3} u^{11} v^{11} + 37075968 \\, \\sqrt{3} t^{10} u^{11} v^{3} + 178039296 \\, \\sqrt{2} t^{10} u^{11} v^{3} + 10191744 \\, \\sqrt{3} t^{8} u^{11} v^{5} + 27946944 \\, \\sqrt{2} t^{8} u^{11} v^{5} + 132005376 \\, \\sqrt{3} t^{10} u^{8} v^{6} + 179718912 \\, \\sqrt{2} t^{10} u^{8} v^{6} - 3468096 \\, \\sqrt{3} t^{7} u^{11} v^{6} - 8887968 \\, \\sqrt{2} t^{7} u^{11} v^{6} - 46158336 \\, \\sqrt{3} t^{10} u^{6} v^{8} + 206592768 \\, \\sqrt{2} t^{10} u^{6} v^{8} + 10160640 \\, \\sqrt{3} t^{8} u^{8} v^{8} + 45722880 \\, \\sqrt{2} t^{8} u^{8} v^{8} + 362880 \\, \\sqrt{3} t^{5} u^{11} v^{8} - 419904 \\, \\sqrt{2} t^{5} u^{11} v^{8} + 39439872 \\, \\sqrt{3} t^{10} u^{3} v^{11} + 166281984 \\, \\sqrt{2} t^{10} u^{3} v^{11} + 2042496 \\, \\sqrt{3} t^{8} u^{5} v^{11} + 27107136 \\, \\sqrt{2} t^{8} u^{5} v^{11} - 1695168 \\, \\sqrt{3} t^{7} u^{6} v^{11} - 17705952 \\, \\sqrt{2} t^{7} u^{6} v^{11} - 362880 \\, \\sqrt{3} t^{5} u^{8} v^{11} + 419904 \\, \\sqrt{2} t^{5} u^{8} v^{11} - 23508 \\, \\sqrt{3} t^{2} u^{11} v^{11} + 4698 \\, \\sqrt{2} t^{2} u^{11} v^{11} - 4288619520 \\, t^{13} u^{11} + 22394880 \\, t^{11} u^{11} v^{2} - 7950182400 \\, t^{13} u^{8} v^{3} + 356078592 \\, t^{10} u^{11} v^{3} - 5296389120 \\, t^{13} u^{6} v^{5} - 22394880 \\, t^{11} u^{8} v^{5} + 55893888 \\, t^{8} u^{11} v^{5} - 5296389120 \\, t^{13} u^{5} v^{6} + 359437824 \\, t^{10} u^{8} v^{6} - 1656288 \\, \\sqrt{3} \\sqrt{2} t^{6} u^{11} v^{6} - 20628432 \\, t^{7} u^{11} v^{6} - 7950182400 \\, t^{13} u^{3} v^{8} - 22394880 \\, t^{11} u^{5} v^{8} + 413185536 \\, t^{10} u^{6} v^{8} + 91445760 \\, t^{8} u^{8} v^{8} + 90720 \\, \\sqrt{3} \\sqrt{2} t^{4} u^{11} v^{8} - 493344 \\, t^{5} u^{11} v^{8} - 4288619520 \\, t^{13} v^{11} + 22394880 \\, t^{11} u^{2} v^{11} + 332563968 \\, t^{10} u^{3} v^{11} + 54214272 \\, t^{8} u^{5} v^{11} - 1469664 \\, \\sqrt{3} \\sqrt{2} t^{6} u^{6} v^{11} - 32937840 \\, t^{7} u^{6} v^{11} + 33696 \\, \\sqrt{3} \\sqrt{2} t^{4} u^{8} v^{11} + 493344 \\, t^{5} u^{8} v^{11} - 31104 \\, \\sqrt{3} \\sqrt{2} t u^{11} v^{11} + 26892 \\, t^{2} u^{11} v^{11} + 99283968 \\, \\sqrt{3} t^{9} u^{11} v^{3} + 83980800 \\, \\sqrt{2} t^{9} u^{11} v^{3} - 20590848 \\, \\sqrt{3} t^{7} u^{11} v^{5} - 6065280 \\, \\sqrt{2} t^{7} u^{11} v^{5} + 75396096 \\, \\sqrt{3} t^{9} u^{8} v^{6} + 97417728 \\, \\sqrt{2} t^{9} u^{8} v^{6} - 3312576 \\, \\sqrt{3} t^{6} u^{11} v^{6} - 629856 \\, \\sqrt{2} t^{6} u^{11} v^{6} + 60466176 \\, \\sqrt{3} t^{9} u^{6} v^{8} + 30233088 \\, \\sqrt{2} t^{9} u^{6} v^{8} - 38942208 \\, \\sqrt{3} t^{7} u^{8} v^{8} + 933120 \\, \\sqrt{2} t^{7} u^{8} v^{8} + 181440 \\, \\sqrt{3} t^{4} u^{11} v^{8} - 2169504 \\, \\sqrt{2} t^{4} u^{11} v^{8} + 86220288 \\, \\sqrt{3} t^{9} u^{3} v^{11} + 25194240 \\, \\sqrt{2} t^{9} u^{3} v^{11} - 18102528 \\, \\sqrt{3} t^{7} u^{5} v^{11} + 5132160 \\, \\sqrt{2} t^{7} u^{5} v^{11} - 2939328 \\, \\sqrt{3} t^{6} u^{6} v^{11} - 2309472 \\, \\sqrt{2} t^{6} u^{6} v^{11} + 67392 \\, \\sqrt{3} t^{4} u^{8} v^{11} - 2869344 \\, \\sqrt{2} t^{4} u^{8} v^{11} - 47808 \\, \\sqrt{3} t u^{11} v^{11} - 10368 \\, \\sqrt{2} t u^{11} v^{11} - 550914048 \\, t^{12} u^{11} + 98537472 \\, t^{10} u^{11} v^{2} - 1719926784 \\, t^{12} u^{8} v^{3} + 167961600 \\, t^{9} u^{11} v^{3} + 752467968 \\, t^{12} u^{6} v^{5} + 40310784 \\, t^{10} u^{8} v^{5} - 12130560 \\, t^{7} u^{11} v^{5} - 752467968 \\, t^{12} u^{5} v^{6} + 194835456 \\, t^{9} u^{8} v^{6} + 1780704 \\, \\sqrt{3} \\sqrt{2} t^{5} u^{11} v^{6} + 462672 \\, t^{6} u^{11} v^{6} + 1719926784 \\, t^{12} u^{3} v^{8} - 40310784 \\, t^{10} u^{5} v^{8} + 60466176 \\, t^{9} u^{6} v^{8} + 1866240 \\, t^{7} u^{8} v^{8} - 160704 \\, \\sqrt{3} \\sqrt{2} t^{3} u^{11} v^{8} - 3058128 \\, t^{4} u^{11} v^{8} + 550914048 \\, t^{12} v^{11} - 98537472 \\, t^{10} u^{2} v^{11} + 50388480 \\, t^{9} u^{3} v^{11} + 10264320 \\, t^{7} u^{5} v^{11} + 614304 \\, \\sqrt{3} \\sqrt{2} t^{5} u^{6} v^{11} - 6846768 \\, t^{6} u^{6} v^{11} + 160704 \\, \\sqrt{3} \\sqrt{2} t^{3} u^{8} v^{11} - 4230576 \\, t^{4} u^{8} v^{11} - 20736 \\, t u^{11} v^{11} - 44789760 \\, \\sqrt{3} t^{8} u^{11} v^{3} - 143327232 \\, \\sqrt{2} t^{8} u^{11} v^{3} - 2892672 \\, \\sqrt{3} t^{6} u^{11} v^{5} - 19735488 \\, \\sqrt{2} t^{6} u^{11} v^{5} - 91072512 \\, \\sqrt{3} t^{8} u^{8} v^{6} - 145566720 \\, \\sqrt{2} t^{8} u^{8} v^{6} + 3561408 \\, \\sqrt{3} t^{5} u^{11} v^{6} + 9027936 \\, \\sqrt{2} t^{5} u^{11} v^{6} + 25380864 \\, \\sqrt{3} t^{8} u^{6} v^{8} - 150045696 \\, \\sqrt{2} t^{8} u^{6} v^{8} - 7838208 \\, \\sqrt{3} t^{6} u^{8} v^{8} - 35271936 \\, \\sqrt{2} t^{6} u^{8} v^{8} - 321408 \\, \\sqrt{3} t^{3} u^{11} v^{8} + 233280 \\, \\sqrt{2} t^{3} u^{11} v^{8} - 14556672 \\, \\sqrt{3} t^{8} u^{3} v^{11} - 123731712 \\, \\sqrt{2} t^{8} u^{3} v^{11} - 6065280 \\, \\sqrt{3} t^{6} u^{5} v^{11} - 20575296 \\, \\sqrt{2} t^{6} u^{5} v^{11} + 1228608 \\, \\sqrt{3} t^{5} u^{6} v^{11} + 11967264 \\, \\sqrt{2} t^{5} u^{6} v^{11} + 321408 \\, \\sqrt{3} t^{3} u^{8} v^{11} - 233280 \\, \\sqrt{2} t^{3} u^{8} v^{11} + 3345795072 \\, t^{11} u^{11} - 40310784 \\, t^{9} u^{11} v^{2} + 6127239168 \\, t^{11} u^{8} v^{3} - 286654464 \\, t^{8} u^{11} v^{3} + 4031078400 \\, t^{11} u^{6} v^{5} + 40310784 \\, t^{9} u^{8} v^{5} - 39470976 \\, t^{6} u^{11} v^{5} + 4031078400 \\, t^{11} u^{5} v^{6} - 291133440 \\, t^{8} u^{8} v^{6} + 31104 \\, \\sqrt{3} \\sqrt{2} t^{4} u^{11} v^{6} + 14228784 \\, t^{5} u^{11} v^{6} + 6127239168 \\, t^{11} u^{3} v^{8} + 40310784 \\, t^{9} u^{5} v^{8} - 300091392 \\, t^{8} u^{6} v^{8} - 70543872 \\, t^{6} u^{8} v^{8} + 124416 \\, \\sqrt{3} \\sqrt{2} t^{2} u^{11} v^{8} + 234144 \\, t^{3} u^{11} v^{8} + 3345795072 \\, t^{11} v^{11} - 40310784 \\, t^{9} u^{2} v^{11} - 247463424 \\, t^{8} u^{3} v^{11} - 41150592 \\, t^{6} u^{5} v^{11} + 451008 \\, \\sqrt{3} \\sqrt{2} t^{4} u^{6} v^{11} + 17751312 \\, t^{5} u^{6} v^{11} + 155520 \\, \\sqrt{3} \\sqrt{2} t^{2} u^{8} v^{11} - 234144 \\, t^{3} u^{8} v^{11} - 17169408 \\, \\sqrt{3} t^{7} u^{11} v^{3} - 3359232 \\, \\sqrt{2} t^{7} u^{11} v^{3} + 622080 \\, \\sqrt{3} t^{5} u^{11} v^{5} + 4292352 \\, \\sqrt{2} t^{5} u^{11} v^{5} - 7464960 \\, \\sqrt{3} t^{7} u^{8} v^{6} - 26873856 \\, \\sqrt{2} t^{7} u^{8} v^{6} + 62208 \\, \\sqrt{3} t^{4} u^{11} v^{6} - 1399680 \\, \\sqrt{2} t^{4} u^{11} v^{6} - 1492992 \\, \\sqrt{3} t^{7} u^{6} v^{8} + 622080 \\, \\sqrt{3} t^{5} u^{8} v^{8} - 186624 \\, \\sqrt{2} t^{5} u^{8} v^{8} + 248832 \\, \\sqrt{3} t^{2} u^{11} v^{8} + 279936 \\, \\sqrt{2} t^{2} u^{11} v^{8} - 19782144 \\, \\sqrt{3} t^{7} u^{3} v^{11} - 15116544 \\, \\sqrt{2} t^{7} u^{3} v^{11} - 1244160 \\, \\sqrt{3} t^{5} u^{5} v^{11} - 4105728 \\, \\sqrt{2} t^{5} u^{5} v^{11} + 902016 \\, \\sqrt{3} t^{4} u^{6} v^{11} + 2379456 \\, \\sqrt{2} t^{4} u^{6} v^{11} + 311040 \\, \\sqrt{3} t^{2} u^{8} v^{11} + 559872 \\, \\sqrt{2} t^{2} u^{8} v^{11} - 456855552 \\, t^{10} u^{11} - 16422912 \\, t^{8} u^{11} v^{2} + 349360128 \\, t^{10} u^{8} v^{3} - 6718464 \\, t^{7} u^{11} v^{3} - 470292480 \\, t^{10} u^{6} v^{5} + 8957952 \\, t^{8} u^{8} v^{5} + 8584704 \\, t^{5} u^{11} v^{5} + 470292480 \\, t^{10} u^{5} v^{6} - 53747712 \\, t^{7} u^{8} v^{6} - 629856 \\, \\sqrt{3} \\sqrt{2} t^{3} u^{11} v^{6} - 2026944 \\, t^{4} u^{11} v^{6} - 349360128 \\, t^{10} u^{3} v^{8} - 8957952 \\, t^{8} u^{5} v^{8} - 373248 \\, t^{5} u^{8} v^{8} + 15552 \\, \\sqrt{3} \\sqrt{2} t u^{11} v^{8} + 492480 \\, t^{2} u^{11} v^{8} + 456855552 \\, t^{10} v^{11} + 16422912 \\, t^{8} u^{2} v^{11} - 30233088 \\, t^{7} u^{3} v^{11} - 8211456 \\, t^{5} u^{5} v^{11} - 303264 \\, \\sqrt{3} \\sqrt{2} t^{3} u^{6} v^{11} + 3781728 \\, t^{4} u^{6} v^{11} - 15552 \\, \\sqrt{3} \\sqrt{2} t u^{8} v^{11} + 922752 \\, t^{2} u^{8} v^{11} + 17169408 \\, \\sqrt{3} t^{6} u^{11} v^{3} + 57106944 \\, \\sqrt{2} t^{6} u^{11} v^{3} + 2229120 \\, \\sqrt{3} t^{4} u^{11} v^{5} + 7791552 \\, \\sqrt{2} t^{4} u^{11} v^{5} + 27620352 \\, \\sqrt{3} t^{6} u^{8} v^{6} + 63825408 \\, \\sqrt{2} t^{6} u^{8} v^{6} - 1259712 \\, \\sqrt{3} t^{3} u^{11} v^{6} - 3989088 \\, \\sqrt{2} t^{3} u^{11} v^{6} + 746496 \\, \\sqrt{3} t^{6} u^{6} v^{8} + 63825408 \\, \\sqrt{2} t^{6} u^{6} v^{8} + 3193344 \\, \\sqrt{3} t^{4} u^{8} v^{8} + 14370048 \\, \\sqrt{2} t^{4} u^{8} v^{8} + 31104 \\, \\sqrt{3} t u^{11} v^{8} - 46656 \\, \\sqrt{2} t u^{11} v^{8} + 7091712 \\, \\sqrt{3} t^{6} u^{3} v^{11} + 52068096 \\, \\sqrt{2} t^{6} u^{3} v^{11} + 1296000 \\, \\sqrt{3} t^{4} u^{5} v^{11} + 8071488 \\, \\sqrt{2} t^{4} u^{5} v^{11} - 606528 \\, \\sqrt{3} t^{3} u^{6} v^{11} - 4408992 \\, \\sqrt{2} t^{3} u^{6} v^{11} - 31104 \\, \\sqrt{3} t u^{8} v^{11} + 46656 \\, \\sqrt{2} t u^{8} v^{11} - 1325776896 \\, t^{9} u^{11} + 22394880 \\, t^{7} u^{11} v^{2} - 2588848128 \\, t^{9} u^{8} v^{3} + 114213888 \\, t^{6} u^{11} v^{3} - 1769195520 \\, t^{9} u^{6} v^{5} - 22394880 \\, t^{7} u^{8} v^{5} + 15583104 \\, t^{4} u^{11} v^{5} - 1769195520 \\, t^{9} u^{5} v^{6} + 127650816 \\, t^{6} u^{8} v^{6} + 139968 \\, \\sqrt{3} \\sqrt{2} t^{2} u^{11} v^{6} - 6255792 \\, t^{3} u^{11} v^{6} - 2588848128 \\, t^{9} u^{3} v^{8} - 22394880 \\, t^{7} u^{5} v^{8} + 127650816 \\, t^{6} u^{6} v^{8} + 28740096 \\, t^{4} u^{8} v^{8} + 2592 \\, \\sqrt{3} \\sqrt{2} u^{11} v^{8} - 57888 \\, t u^{11} v^{8} - 1325776896 \\, t^{9} v^{11} + 22394880 \\, t^{7} u^{2} v^{11} + 104136192 \\, t^{6} u^{3} v^{11} + 16142976 \\, t^{4} u^{5} v^{11} - 93312 \\, \\sqrt{3} \\sqrt{2} t^{2} u^{6} v^{11} - 6652368 \\, t^{3} u^{6} v^{11} - 2592 \\, \\sqrt{3} \\sqrt{2} u^{8} v^{11} + 57888 \\, t u^{8} v^{11} - 2177280 \\, \\sqrt{3} t^{5} u^{11} v^{3} - 9797760 \\, \\sqrt{2} t^{5} u^{11} v^{3} - 373248 \\, \\sqrt{3} t^{3} u^{11} v^{5} - 1679616 \\, \\sqrt{2} t^{3} u^{11} v^{5} - 2301696 \\, \\sqrt{3} t^{5} u^{8} v^{6} + 3079296 \\, \\sqrt{2} t^{5} u^{8} v^{6} + 279936 \\, \\sqrt{3} t^{2} u^{11} v^{6} + 979776 \\, \\sqrt{2} t^{2} u^{11} v^{6} - 3297024 \\, \\sqrt{3} t^{5} u^{6} v^{8} - 1399680 \\, \\sqrt{2} t^{5} u^{6} v^{8} + 5184 \\, \\sqrt{3} u^{11} v^{8} + 23328 \\, \\sqrt{2} u^{11} v^{8} + 2177280 \\, \\sqrt{3} t^{5} u^{3} v^{11} + 9797760 \\, \\sqrt{2} t^{5} u^{3} v^{11} + 373248 \\, \\sqrt{3} t^{3} u^{5} v^{11} + 1679616 \\, \\sqrt{2} t^{3} u^{5} v^{11} - 186624 \\, \\sqrt{3} t^{2} u^{6} v^{11} - 1119744 \\, \\sqrt{2} t^{2} u^{6} v^{11} - 5184 \\, \\sqrt{3} u^{8} v^{11} - 23328 \\, \\sqrt{2} u^{8} v^{11} + 416544768 \\, t^{8} u^{11} - 8957952 \\, t^{6} u^{11} v^{2} + 107495424 \\, t^{8} u^{8} v^{3} - 19595520 \\, t^{5} u^{11} v^{3} + 161243136 \\, t^{8} u^{6} v^{5} - 13436928 \\, t^{6} u^{8} v^{5} - 3359232 \\, t^{3} u^{11} v^{5} - 161243136 \\, t^{8} u^{5} v^{6} + 6158592 \\, t^{5} u^{8} v^{6} + 77760 \\, \\sqrt{3} \\sqrt{2} t u^{11} v^{6} + 1526688 \\, t^{2} u^{11} v^{6} - 107495424 \\, t^{8} u^{3} v^{8} + 13436928 \\, t^{6} u^{5} v^{8} - 2799360 \\, t^{5} u^{6} v^{8} + 35856 \\, u^{11} v^{8} - 416544768 \\, t^{8} v^{11} + 8957952 \\, t^{6} u^{2} v^{11} + 19595520 \\, t^{5} u^{3} v^{11} + 3359232 \\, t^{3} u^{5} v^{11} + 77760 \\, \\sqrt{3} \\sqrt{2} t u^{6} v^{11} - 1700352 \\, t^{2} u^{6} v^{11} - 35856 \\, u^{8} v^{11} - 2052864 \\, \\sqrt{3} t^{4} u^{11} v^{3} - 9237888 \\, \\sqrt{2} t^{4} u^{11} v^{3} - 290304 \\, \\sqrt{3} t^{2} u^{11} v^{5} - 1306368 \\, \\sqrt{2} t^{2} u^{11} v^{5} - 2985984 \\, \\sqrt{3} t^{4} u^{8} v^{6} - 13436928 \\, \\sqrt{2} t^{4} u^{8} v^{6} + 155520 \\, \\sqrt{3} t u^{11} v^{6} + 699840 \\, \\sqrt{2} t u^{11} v^{6} - 2985984 \\, \\sqrt{3} t^{4} u^{6} v^{8} - 13436928 \\, \\sqrt{2} t^{4} u^{6} v^{8} - 539136 \\, \\sqrt{3} t^{2} u^{8} v^{8} - 2426112 \\, \\sqrt{2} t^{2} u^{8} v^{8} - 2052864 \\, \\sqrt{3} t^{4} u^{3} v^{11} - 9237888 \\, \\sqrt{2} t^{4} u^{3} v^{11} - 290304 \\, \\sqrt{3} t^{2} u^{5} v^{11} - 1306368 \\, \\sqrt{2} t^{2} u^{5} v^{11} + 155520 \\, \\sqrt{3} t u^{6} v^{11} + 699840 \\, \\sqrt{2} t u^{6} v^{11} + 192595968 \\, t^{7} u^{11} - 4478976 \\, t^{5} u^{11} v^{2} + 501645312 \\, t^{7} u^{8} v^{3} - 18475776 \\, t^{4} u^{11} v^{3} + 394149888 \\, t^{7} u^{6} v^{5} + 4478976 \\, t^{5} u^{8} v^{5} - 2612736 \\, t^{2} u^{11} v^{5} + 394149888 \\, t^{7} u^{5} v^{6} - 26873856 \\, t^{4} u^{8} v^{6} - 23328 \\, \\sqrt{3} \\sqrt{2} u^{11} v^{6} + 1075680 \\, t u^{11} v^{6} + 501645312 \\, t^{7} u^{3} v^{8} + 4478976 \\, t^{5} u^{5} v^{8} - 26873856 \\, t^{4} u^{6} v^{8} - 4852224 \\, t^{2} u^{8} v^{8} + 192595968 \\, t^{7} v^{11} - 4478976 \\, t^{5} u^{2} v^{11} - 18475776 \\, t^{4} u^{3} v^{11} - 2612736 \\, t^{2} u^{5} v^{11} + 23328 \\, \\sqrt{3} \\sqrt{2} u^{6} v^{11} + 1075680 \\, t u^{6} v^{11} + 559872 \\, \\sqrt{3} t^{3} u^{11} v^{3} + 2519424 \\, \\sqrt{2} t^{3} u^{11} v^{3} + 62208 \\, \\sqrt{3} t u^{11} v^{5} + 279936 \\, \\sqrt{2} t u^{11} v^{5} - 46656 \\, \\sqrt{3} u^{11} v^{6} - 209952 \\, \\sqrt{2} u^{11} v^{6} - 559872 \\, \\sqrt{3} t^{3} u^{3} v^{11} - 2519424 \\, \\sqrt{2} t^{3} u^{3} v^{11} - 62208 \\, \\sqrt{3} t u^{5} v^{11} - 279936 \\, \\sqrt{2} t u^{5} v^{11} + 46656 \\, \\sqrt{3} u^{6} v^{11} + 209952 \\, \\sqrt{2} u^{6} v^{11} - 97417728 \\, t^{6} u^{11} + 3359232 \\, t^{4} u^{11} v^{2} - 47029248 \\, t^{6} u^{8} v^{3} + 5038848 \\, t^{3} u^{11} v^{3} - 23514624 \\, t^{6} u^{6} v^{5} + 3359232 \\, t^{4} u^{8} v^{5} + 559872 \\, t u^{11} v^{5} + 23514624 \\, t^{6} u^{5} v^{6} - 322704 \\, u^{11} v^{6} + 47029248 \\, t^{6} u^{3} v^{8} - 3359232 \\, t^{4} u^{5} v^{8} + 97417728 \\, t^{6} v^{11} - 3359232 \\, t^{4} u^{2} v^{11} - 5038848 \\, t^{3} u^{3} v^{11} - 559872 \\, t u^{5} v^{11} + 322704 \\, u^{6} v^{11} + 186624 \\, \\sqrt{3} t^{2} u^{8} v^{6} + 839808 \\, \\sqrt{2} t^{2} u^{8} v^{6} + 186624 \\, \\sqrt{3} t^{2} u^{6} v^{8} + 839808 \\, \\sqrt{2} t^{2} u^{6} v^{8} + 10077696 \\, t^{5} u^{11} - 20155392 \\, t^{5} u^{8} v^{3} - 30233088 \\, t^{5} u^{6} v^{5} - 30233088 \\, t^{5} u^{5} v^{6} + 1679616 \\, t^{2} u^{8} v^{6} - 20155392 \\, t^{5} u^{3} v^{8} + 1679616 \\, t^{2} u^{6} v^{8} + 10077696 \\, t^{5} v^{11}\\)</html>"
      ],
      "text/latex": [
       "$\\displaystyle -23328 \\, \\sqrt{3} \\sqrt{2} t^{20} u^{11} v^{6} + 2592 \\, \\sqrt{3} \\sqrt{2} t^{18} u^{11} v^{8} + 23328 \\, \\sqrt{3} \\sqrt{2} t^{20} u^{6} v^{11} - 2592 \\, \\sqrt{3} \\sqrt{2} t^{18} u^{8} v^{11} + 10368 \\, \\sqrt{3} \\sqrt{2} t^{15} u^{11} v^{11} - 46656 \\, \\sqrt{3} t^{20} u^{11} v^{6} - 209952 \\, \\sqrt{2} t^{20} u^{11} v^{6} + 5184 \\, \\sqrt{3} t^{18} u^{11} v^{8} + 23328 \\, \\sqrt{2} t^{18} u^{11} v^{8} + 46656 \\, \\sqrt{3} t^{20} u^{6} v^{11} + 209952 \\, \\sqrt{2} t^{20} u^{6} v^{11} - 5184 \\, \\sqrt{3} t^{18} u^{8} v^{11} - 23328 \\, \\sqrt{2} t^{18} u^{8} v^{11} + 15936 \\, \\sqrt{3} t^{15} u^{11} v^{11} + 3456 \\, \\sqrt{2} t^{15} u^{11} v^{11} + 77760 \\, \\sqrt{3} \\sqrt{2} t^{19} u^{11} v^{6} - 322704 \\, t^{20} u^{11} v^{6} + 35856 \\, t^{18} u^{11} v^{8} + 77760 \\, \\sqrt{3} \\sqrt{2} t^{19} u^{6} v^{11} + 322704 \\, t^{20} u^{6} v^{11} - 35856 \\, t^{18} u^{8} v^{11} - 5832 \\, \\sqrt{3} \\sqrt{2} t^{14} u^{11} v^{11} + 6912 \\, t^{15} u^{11} v^{11} + 155520 \\, \\sqrt{3} t^{19} u^{11} v^{6} + 699840 \\, \\sqrt{2} t^{19} u^{11} v^{6} + 155520 \\, \\sqrt{3} t^{19} u^{6} v^{11} + 699840 \\, \\sqrt{2} t^{19} u^{6} v^{11} - 8820 \\, \\sqrt{3} t^{14} u^{11} v^{11} - 31590 \\, \\sqrt{2} t^{14} u^{11} v^{11} + 303264 \\, \\sqrt{3} \\sqrt{2} t^{18} u^{11} v^{6} + 1075680 \\, t^{19} u^{11} v^{6} + 5184 \\, \\sqrt{3} \\sqrt{2} t^{16} u^{11} v^{8} - 303264 \\, \\sqrt{3} \\sqrt{2} t^{18} u^{6} v^{11} + 1075680 \\, t^{19} u^{6} v^{11} - 5184 \\, \\sqrt{3} \\sqrt{2} t^{16} u^{8} v^{11} - 45684 \\, t^{14} u^{11} v^{11} - 186624 \\, \\sqrt{3} t^{21} u^{11} v^{3} - 839808 \\, \\sqrt{2} t^{21} u^{11} v^{3} + 20736 \\, \\sqrt{3} t^{19} u^{11} v^{5} + 93312 \\, \\sqrt{2} t^{19} u^{11} v^{5} + 186624 \\, \\sqrt{3} t^{21} u^{8} v^{6} + 839808 \\, \\sqrt{2} t^{21} u^{8} v^{6} + 606528 \\, \\sqrt{3} t^{18} u^{11} v^{6} + 1049760 \\, \\sqrt{2} t^{18} u^{11} v^{6} + 186624 \\, \\sqrt{3} t^{21} u^{6} v^{8} + 839808 \\, \\sqrt{2} t^{21} u^{6} v^{8} - 41472 \\, \\sqrt{3} t^{19} u^{8} v^{8} - 186624 \\, \\sqrt{2} t^{19} u^{8} v^{8} + 10368 \\, \\sqrt{3} t^{16} u^{11} v^{8} - 139968 \\, \\sqrt{2} t^{16} u^{11} v^{8} - 186624 \\, \\sqrt{3} t^{21} u^{3} v^{11} - 839808 \\, \\sqrt{2} t^{21} u^{3} v^{11} + 20736 \\, \\sqrt{3} t^{19} u^{5} v^{11} + 93312 \\, \\sqrt{2} t^{19} u^{5} v^{11} - 606528 \\, \\sqrt{3} t^{18} u^{6} v^{11} - 1049760 \\, \\sqrt{2} t^{18} u^{6} v^{11} - 10368 \\, \\sqrt{3} t^{16} u^{8} v^{11} + 139968 \\, \\sqrt{2} t^{16} u^{8} v^{11} - 6144 \\, \\sqrt{3} t^{13} u^{11} v^{11} - 27648 \\, \\sqrt{2} t^{13} u^{11} v^{11} - 1679616 \\, t^{21} u^{11} v^{3} + 186624 \\, t^{19} u^{11} v^{5} + 1679616 \\, t^{21} u^{8} v^{6} - 832032 \\, \\sqrt{3} \\sqrt{2} t^{17} u^{11} v^{6} + 1737936 \\, t^{18} u^{11} v^{6} + 1679616 \\, t^{21} u^{6} v^{8} - 373248 \\, t^{19} u^{8} v^{8} - 191808 \\, \\sqrt{3} \\sqrt{2} t^{15} u^{11} v^{8} - 201312 \\, t^{16} u^{11} v^{8} - 1679616 \\, t^{21} u^{3} v^{11} + 186624 \\, t^{19} u^{5} v^{11} - 785376 \\, \\sqrt{3} \\sqrt{2} t^{17} u^{6} v^{11} - 1737936 \\, t^{18} u^{6} v^{11} - 181440 \\, \\sqrt{3} \\sqrt{2} t^{15} u^{8} v^{11} + 201312 \\, t^{16} u^{8} v^{11} + 60912 \\, \\sqrt{3} \\sqrt{2} t^{12} u^{11} v^{11} - 55296 \\, t^{13} u^{11} v^{11} + 1181952 \\, \\sqrt{3} t^{20} u^{11} v^{3} + 5318784 \\, \\sqrt{2} t^{20} u^{11} v^{3} - 93312 \\, \\sqrt{3} t^{18} u^{11} v^{5} - 419904 \\, \\sqrt{2} t^{18} u^{11} v^{5} + 497664 \\, \\sqrt{3} t^{20} u^{8} v^{6} + 2239488 \\, \\sqrt{2} t^{20} u^{8} v^{6} - 1664064 \\, \\sqrt{3} t^{17} u^{11} v^{6} - 4408992 \\, \\sqrt{2} t^{17} u^{11} v^{6} - 497664 \\, \\sqrt{3} t^{20} u^{6} v^{8} - 2239488 \\, \\sqrt{2} t^{20} u^{6} v^{8} - 383616 \\, \\sqrt{3} t^{15} u^{11} v^{8} - 46656 \\, \\sqrt{2} t^{15} u^{11} v^{8} - 1181952 \\, \\sqrt{3} t^{20} u^{3} v^{11} - 5318784 \\, \\sqrt{2} t^{20} u^{3} v^{11} + 93312 \\, \\sqrt{3} t^{18} u^{5} v^{11} + 419904 \\, \\sqrt{2} t^{18} u^{5} v^{11} - 1570752 \\, \\sqrt{3} t^{17} u^{6} v^{11} - 3989088 \\, \\sqrt{2} t^{17} u^{6} v^{11} - 362880 \\, \\sqrt{3} t^{15} u^{8} v^{11} + 46656 \\, \\sqrt{2} t^{15} u^{8} v^{11} + 92760 \\, \\sqrt{3} t^{12} u^{11} v^{11} + 198180 \\, \\sqrt{2} t^{12} u^{11} v^{11} + 10637568 \\, t^{20} u^{11} v^{3} - 839808 \\, t^{18} u^{11} v^{5} + 4478976 \\, t^{20} u^{8} v^{6} - 948672 \\, \\sqrt{3} \\sqrt{2} t^{16} u^{11} v^{6} - 7004880 \\, t^{17} u^{11} v^{6} - 4478976 \\, t^{20} u^{6} v^{8} + 261792 \\, \\sqrt{3} \\sqrt{2} t^{14} u^{11} v^{8} - 196128 \\, t^{15} u^{11} v^{8} - 10637568 \\, t^{20} u^{3} v^{11} + 839808 \\, t^{18} u^{5} v^{11} + 964224 \\, \\sqrt{3} \\sqrt{2} t^{16} u^{6} v^{11} - 6359472 \\, t^{17} u^{6} v^{11} - 168480 \\, \\sqrt{3} \\sqrt{2} t^{14} u^{8} v^{11} - 52704 \\, t^{15} u^{8} v^{11} - 62208 \\, \\sqrt{3} \\sqrt{2} t^{11} u^{11} v^{11} + 291384 \\, t^{12} u^{11} v^{11} + 559872 \\, \\sqrt{3} t^{19} u^{11} v^{3} - 4199040 \\, \\sqrt{2} t^{19} u^{11} v^{3} - 103680 \\, \\sqrt{3} t^{17} u^{11} v^{5} - 466560 \\, \\sqrt{2} t^{17} u^{11} v^{5} - 4478976 \\, \\sqrt{3} t^{19} u^{8} v^{6} - 13436928 \\, \\sqrt{2} t^{19} u^{8} v^{6} - 1897344 \\, \\sqrt{3} t^{16} u^{11} v^{6} - 1819584 \\, \\sqrt{2} t^{16} u^{11} v^{6} - 4478976 \\, \\sqrt{3} t^{19} u^{6} v^{8} - 13436928 \\, \\sqrt{2} t^{19} u^{6} v^{8} + 207360 \\, \\sqrt{3} t^{17} u^{8} v^{8} + 933120 \\, \\sqrt{2} t^{17} u^{8} v^{8} + 523584 \\, \\sqrt{3} t^{14} u^{11} v^{8} + 769824 \\, \\sqrt{2} t^{14} u^{11} v^{8} + 559872 \\, \\sqrt{3} t^{19} u^{3} v^{11} - 4199040 \\, \\sqrt{2} t^{19} u^{3} v^{11} - 103680 \\, \\sqrt{3} t^{17} u^{5} v^{11} - 466560 \\, \\sqrt{2} t^{17} u^{5} v^{11} + 1928448 \\, \\sqrt{3} t^{16} u^{6} v^{11} + 1959552 \\, \\sqrt{2} t^{16} u^{6} v^{11} - 336960 \\, \\sqrt{3} t^{14} u^{8} v^{11} + 69984 \\, \\sqrt{2} t^{14} u^{8} v^{11} - 95616 \\, \\sqrt{3} t^{11} u^{11} v^{11} - 131328 \\, \\sqrt{2} t^{11} u^{11} v^{11} - 3359232 \\, t^{22} u^{11} + 373248 \\, t^{20} u^{11} v^{2} + 6718464 \\, t^{22} u^{8} v^{3} - 8398080 \\, t^{19} u^{11} v^{3} + 3359232 \\, t^{22} u^{6} v^{5} - 1119744 \\, t^{20} u^{8} v^{5} - 933120 \\, t^{17} u^{11} v^{5} - 3359232 \\, t^{22} u^{5} v^{6} - 26873856 \\, t^{19} u^{8} v^{6} + 3195936 \\, \\sqrt{3} \\sqrt{2} t^{15} u^{11} v^{6} - 3792096 \\, t^{16} u^{11} v^{6} - 6718464 \\, t^{22} u^{3} v^{8} + 1119744 \\, t^{20} u^{5} v^{8} - 26873856 \\, t^{19} u^{6} v^{8} + 1866240 \\, t^{17} u^{8} v^{8} - 202176 \\, \\sqrt{3} \\sqrt{2} t^{13} u^{11} v^{8} + 1134864 \\, t^{14} u^{11} v^{8} + 3359232 \\, t^{22} v^{11} - 373248 \\, t^{20} u^{2} v^{11} - 8398080 \\, t^{19} u^{3} v^{11} - 933120 \\, t^{17} u^{5} v^{11} + 2496096 \\, \\sqrt{3} \\sqrt{2} t^{15} u^{6} v^{11} + 4007232 \\, t^{16} u^{6} v^{11} - 295488 \\, \\sqrt{3} \\sqrt{2} t^{13} u^{8} v^{11} + 155952 \\, t^{14} u^{8} v^{11} - 123768 \\, \\sqrt{3} \\sqrt{2} t^{10} u^{11} v^{11} - 262656 \\, t^{11} u^{11} v^{11} - 16174080 \\, \\sqrt{3} t^{18} u^{11} v^{3} - 30233088 \\, \\sqrt{2} t^{18} u^{11} v^{3} - 445824 \\, \\sqrt{3} t^{16} u^{11} v^{5} + 2472768 \\, \\sqrt{2} t^{16} u^{11} v^{5} - 11259648 \\, \\sqrt{3} t^{18} u^{8} v^{6} - 12597120 \\, \\sqrt{2} t^{18} u^{8} v^{6} + 6391872 \\, \\sqrt{3} t^{15} u^{11} v^{6} + 11967264 \\, \\sqrt{2} t^{15} u^{11} v^{6} + 11632896 \\, \\sqrt{3} t^{18} u^{6} v^{8} + 14276736 \\, \\sqrt{2} t^{18} u^{6} v^{8} - 41472 \\, \\sqrt{3} t^{16} u^{8} v^{8} - 186624 \\, \\sqrt{2} t^{16} u^{8} v^{8} - 404352 \\, \\sqrt{3} t^{13} u^{11} v^{8} + 233280 \\, \\sqrt{2} t^{13} u^{11} v^{8} + 15800832 \\, \\sqrt{3} t^{18} u^{3} v^{11} + 28553472 \\, \\sqrt{2} t^{18} u^{3} v^{11} + 487296 \\, \\sqrt{3} t^{16} u^{5} v^{11} - 2286144 \\, \\sqrt{2} t^{16} u^{5} v^{11} + 4992192 \\, \\sqrt{3} t^{15} u^{6} v^{11} + 9027936 \\, \\sqrt{2} t^{15} u^{6} v^{11} - 590976 \\, \\sqrt{3} t^{13} u^{8} v^{11} - 233280 \\, \\sqrt{2} t^{13} u^{8} v^{11} - 194220 \\, \\sqrt{3} t^{10} u^{11} v^{11} - 513594 \\, \\sqrt{2} t^{10} u^{11} v^{11} + 41430528 \\, t^{21} u^{11} - 4478976 \\, t^{19} u^{11} v^{2} - 2239488 \\, t^{21} u^{8} v^{3} - 60466176 \\, t^{18} u^{11} v^{3} - 39191040 \\, t^{21} u^{6} v^{5} + 4478976 \\, t^{19} u^{8} v^{5} + 4945536 \\, t^{16} u^{11} v^{5} - 39191040 \\, t^{21} u^{5} v^{6} - 25194240 \\, t^{18} u^{8} v^{6} + 629856 \\, \\sqrt{3} \\sqrt{2} t^{14} u^{11} v^{6} + 19804176 \\, t^{15} u^{11} v^{6} - 2239488 \\, t^{21} u^{3} v^{8} + 4478976 \\, t^{19} u^{5} v^{8} + 28553472 \\, t^{18} u^{6} v^{8} - 373248 \\, t^{16} u^{8} v^{8} - 1200096 \\, \\sqrt{3} \\sqrt{2} t^{12} u^{11} v^{8} + 1533600 \\, t^{13} u^{11} v^{8} + 41430528 \\, t^{21} v^{11} - 4478976 \\, t^{19} u^{2} v^{11} + 57106944 \\, t^{18} u^{3} v^{11} - 4572288 \\, t^{16} u^{5} v^{11} - 1423008 \\, \\sqrt{3} \\sqrt{2} t^{14} u^{6} v^{11} + 15037488 \\, t^{15} u^{6} v^{11} + 80352 \\, \\sqrt{3} \\sqrt{2} t^{12} u^{8} v^{11} + 788832 \\, t^{13} u^{8} v^{11} + 93312 \\, \\sqrt{3} \\sqrt{2} t^{9} u^{11} v^{11} - 764748 \\, t^{10} u^{11} v^{11} + 19657728 \\, \\sqrt{3} t^{17} u^{11} v^{3} + 48148992 \\, \\sqrt{2} t^{17} u^{11} v^{3} + 6158592 \\, \\sqrt{3} t^{15} u^{11} v^{5} + 839808 \\, \\sqrt{2} t^{15} u^{11} v^{5} + 38568960 \\, \\sqrt{3} t^{17} u^{8} v^{6} + 66064896 \\, \\sqrt{2} t^{17} u^{8} v^{6} + 1259712 \\, \\sqrt{3} t^{14} u^{11} v^{6} + 349920 \\, \\sqrt{2} t^{14} u^{11} v^{6} + 37573632 \\, \\sqrt{3} t^{17} u^{6} v^{8} + 61585920 \\, \\sqrt{2} t^{17} u^{6} v^{8} + 5598720 \\, \\sqrt{3} t^{15} u^{8} v^{8} - 1679616 \\, \\sqrt{2} t^{15} u^{8} v^{8} - 2400192 \\, \\sqrt{3} t^{12} u^{11} v^{8} - 2962656 \\, \\sqrt{2} t^{12} u^{11} v^{8} + 17293824 \\, \\sqrt{3} t^{17} u^{3} v^{11} + 37511424 \\, \\sqrt{2} t^{17} u^{3} v^{11} + 6158592 \\, \\sqrt{3} t^{15} u^{5} v^{11} + 839808 \\, \\sqrt{2} t^{15} u^{5} v^{11} - 2846016 \\, \\sqrt{3} t^{14} u^{6} v^{11} - 1329696 \\, \\sqrt{2} t^{14} u^{6} v^{11} + 160704 \\, \\sqrt{3} t^{12} u^{8} v^{11} - 2076192 \\, \\sqrt{2} t^{12} u^{8} v^{11} + 309312 \\, \\sqrt{3} t^{9} u^{11} v^{11} + 114048 \\, \\sqrt{2} t^{9} u^{11} v^{11} - 147806208 \\, t^{20} u^{11} + 8957952 \\, t^{18} u^{11} v^{2} - 214990848 \\, t^{20} u^{8} v^{3} + 96297984 \\, t^{17} u^{11} v^{3} + 13436928 \\, t^{18} u^{8} v^{5} + 1679616 \\, t^{15} u^{11} v^{5} + 132129792 \\, t^{17} u^{8} v^{6} - 5979744 \\, \\sqrt{3} \\sqrt{2} t^{13} u^{11} v^{6} + 3420144 \\, t^{14} u^{11} v^{6} + 214990848 \\, t^{20} u^{3} v^{8} - 13436928 \\, t^{18} u^{5} v^{8} + 123171840 \\, t^{17} u^{6} v^{8} - 3359232 \\, t^{15} u^{8} v^{8} + 1964736 \\, \\sqrt{3} \\sqrt{2} t^{11} u^{11} v^{8} - 6627312 \\, t^{12} u^{11} v^{8} + 147806208 \\, t^{20} v^{11} - 8957952 \\, t^{18} u^{2} v^{11} + 75022848 \\, t^{17} u^{3} v^{11} + 1679616 \\, t^{15} u^{5} v^{11} - 3506976 \\, \\sqrt{3} \\sqrt{2} t^{13} u^{6} v^{11} - 5382288 \\, t^{14} u^{6} v^{11} + 1767744 \\, \\sqrt{3} \\sqrt{2} t^{11} u^{8} v^{11} - 1490832 \\, t^{12} u^{8} v^{11} + 85536 \\, \\sqrt{3} \\sqrt{2} t^{8} u^{11} v^{11} + 228096 \\, t^{9} u^{11} v^{11} + 56236032 \\, \\sqrt{3} t^{16} u^{11} v^{3} + 60466176 \\, \\sqrt{2} t^{16} u^{11} v^{3} - 10088064 \\, \\sqrt{3} t^{14} u^{11} v^{5} - 7324992 \\, \\sqrt{2} t^{14} u^{11} v^{5} + 33343488 \\, \\sqrt{3} t^{16} u^{8} v^{6} + 20155392 \\, \\sqrt{2} t^{16} u^{8} v^{6} - 11959488 \\, \\sqrt{3} t^{13} u^{11} v^{6} - 17705952 \\, \\sqrt{2} t^{13} u^{11} v^{6} - 39315456 \\, \\sqrt{3} t^{16} u^{6} v^{8} - 47029248 \\, \\sqrt{2} t^{16} u^{6} v^{8} - 290304 \\, \\sqrt{3} t^{14} u^{8} v^{8} - 1306368 \\, \\sqrt{2} t^{14} u^{8} v^{8} + 3929472 \\, \\sqrt{3} t^{11} u^{11} v^{8} - 419904 \\, \\sqrt{2} t^{11} u^{11} v^{8} - 58102272 \\, \\sqrt{3} t^{16} u^{3} v^{11} - 68864256 \\, \\sqrt{2} t^{16} u^{3} v^{11} + 9258624 \\, \\sqrt{3} t^{14} u^{5} v^{11} + 3592512 \\, \\sqrt{2} t^{14} u^{5} v^{11} - 7013952 \\, \\sqrt{3} t^{13} u^{6} v^{11} - 8887968 \\, \\sqrt{2} t^{13} u^{6} v^{11} + 3535488 \\, \\sqrt{3} t^{11} u^{8} v^{11} + 419904 \\, \\sqrt{2} t^{11} u^{8} v^{11} + 113232 \\, \\sqrt{3} t^{8} u^{11} v^{11} + 552312 \\, \\sqrt{2} t^{8} u^{11} v^{11} + 4478976 \\, t^{19} u^{11} + 22394880 \\, t^{17} u^{11} v^{2} + 394149888 \\, t^{19} u^{8} v^{3} + 120932352 \\, t^{16} u^{11} v^{3} + 447897600 \\, t^{19} u^{6} v^{5} - 22394880 \\, t^{17} u^{8} v^{5} - 14649984 \\, t^{14} u^{11} v^{5} + 447897600 \\, t^{19} u^{5} v^{6} + 40310784 \\, t^{16} u^{8} v^{6} + 2076192 \\, \\sqrt{3} \\sqrt{2} t^{12} u^{11} v^{6} - 36691056 \\, t^{13} u^{11} v^{6} + 394149888 \\, t^{19} u^{3} v^{8} - 22394880 \\, t^{17} u^{5} v^{8} - 94058496 \\, t^{16} u^{6} v^{8} - 2612736 \\, t^{14} u^{8} v^{8} + 1459296 \\, \\sqrt{3} \\sqrt{2} t^{10} u^{11} v^{8} + 6003936 \\, t^{11} u^{11} v^{8} + 4478976 \\, t^{19} v^{11} + 22394880 \\, t^{17} u^{2} v^{11} - 137728512 \\, t^{16} u^{3} v^{11} + 7185024 \\, t^{14} u^{5} v^{11} + 1609632 \\, \\sqrt{3} \\sqrt{2} t^{12} u^{6} v^{11} - 22142160 \\, t^{13} u^{6} v^{11} + 375840 \\, \\sqrt{3} \\sqrt{2} t^{10} u^{8} v^{11} + 7101216 \\, t^{11} u^{8} v^{11} - 31104 \\, \\sqrt{3} \\sqrt{2} t^{7} u^{11} v^{11} + 754704 \\, t^{8} u^{11} v^{11} - 100776960 \\, \\sqrt{3} t^{15} u^{11} v^{3} - 151165440 \\, \\sqrt{2} t^{15} u^{11} v^{3} + 2280960 \\, \\sqrt{3} t^{13} u^{11} v^{5} - 186624 \\, \\sqrt{2} t^{13} u^{11} v^{5} - 129890304 \\, \\sqrt{3} t^{15} u^{8} v^{6} - 161243136 \\, \\sqrt{2} t^{15} u^{8} v^{6} + 4152384 \\, \\sqrt{3} t^{12} u^{11} v^{6} + 3569184 \\, \\sqrt{2} t^{12} u^{11} v^{6} - 123918336 \\, \\sqrt{3} t^{15} u^{6} v^{8} - 134369280 \\, \\sqrt{2} t^{15} u^{6} v^{8} + 19450368 \\, \\sqrt{3} t^{13} u^{8} v^{8} + 933120 \\, \\sqrt{2} t^{13} u^{8} v^{8} + 2918592 \\, \\sqrt{3} t^{10} u^{11} v^{8} + 6508512 \\, \\sqrt{2} t^{10} u^{11} v^{8} - 87713280 \\, \\sqrt{3} t^{15} u^{3} v^{11} - 92378880 \\, \\sqrt{2} t^{15} u^{3} v^{11} + 2156544 \\, \\sqrt{3} t^{13} u^{5} v^{11} - 746496 \\, \\sqrt{2} t^{13} u^{5} v^{11} + 3219264 \\, \\sqrt{3} t^{12} u^{6} v^{11} - 629856 \\, \\sqrt{2} t^{12} u^{6} v^{11} + 751680 \\, \\sqrt{3} t^{10} u^{8} v^{11} + 6088608 \\, \\sqrt{2} t^{10} u^{8} v^{11} + 87360 \\, \\sqrt{3} t^{7} u^{11} v^{11} + 44928 \\, \\sqrt{2} t^{7} u^{11} v^{11} + 859963392 \\, t^{18} u^{11} - 58226688 \\, t^{16} u^{11} v^{2} + 1101828096 \\, t^{18} u^{8} v^{3} - 302330880 \\, t^{15} u^{11} v^{3} - 94058496 \\, t^{18} u^{6} v^{5} - 53747712 \\, t^{16} u^{8} v^{5} - 373248 \\, t^{13} u^{11} v^{5} + 94058496 \\, t^{18} u^{5} v^{6} - 322486272 \\, t^{15} u^{8} v^{6} + 5559840 \\, \\sqrt{3} \\sqrt{2} t^{11} u^{11} v^{6} + 7601040 \\, t^{12} u^{11} v^{6} - 1101828096 \\, t^{18} u^{3} v^{8} + 53747712 \\, t^{16} u^{5} v^{8} - 268738560 \\, t^{15} u^{6} v^{8} + 1866240 \\, t^{13} u^{8} v^{8} - 2649024 \\, \\sqrt{3} \\sqrt{2} t^{9} u^{11} v^{8} + 11047536 \\, t^{10} u^{11} v^{8} - 859963392 \\, t^{18} v^{11} + 58226688 \\, t^{16} u^{2} v^{11} - 184757760 \\, t^{15} u^{3} v^{11} - 1492992 \\, t^{13} u^{5} v^{11} + 2060640 \\, \\sqrt{3} \\sqrt{2} t^{11} u^{6} v^{11} - 843696 \\, t^{12} u^{6} v^{11} - 1829952 \\, \\sqrt{3} \\sqrt{2} t^{9} u^{8} v^{11} + 8605008 \\, t^{10} u^{8} v^{11} - 35640 \\, \\sqrt{3} \\sqrt{2} t^{6} u^{11} v^{11} + 89856 \\, t^{7} u^{11} v^{11} - 77884416 \\, \\sqrt{3} t^{14} u^{11} v^{3} - 25754112 \\, \\sqrt{2} t^{14} u^{11} v^{3} + 31819392 \\, \\sqrt{3} t^{12} u^{11} v^{5} + 15536448 \\, \\sqrt{2} t^{12} u^{11} v^{5} - 13188096 \\, \\sqrt{3} t^{14} u^{8} v^{6} + 19035648 \\, \\sqrt{2} t^{14} u^{8} v^{6} + 11119680 \\, \\sqrt{3} t^{11} u^{11} v^{6} + 13646880 \\, \\sqrt{2} t^{11} u^{11} v^{6} + 41554944 \\, \\sqrt{3} t^{14} u^{6} v^{8} + 108615168 \\, \\sqrt{2} t^{14} u^{6} v^{8} + 2612736 \\, \\sqrt{3} t^{12} u^{8} v^{8} + 11757312 \\, \\sqrt{2} t^{12} u^{8} v^{8} - 5298048 \\, \\sqrt{3} t^{9} u^{11} v^{8} + 233280 \\, \\sqrt{2} t^{9} u^{11} v^{8} + 96920064 \\, \\sqrt{3} t^{14} u^{3} v^{11} + 111414528 \\, \\sqrt{2} t^{14} u^{3} v^{11} - 27713664 \\, \\sqrt{3} t^{12} u^{5} v^{11} + 2939328 \\, \\sqrt{2} t^{12} u^{5} v^{11} + 4121280 \\, \\sqrt{3} t^{11} u^{6} v^{11} - 1049760 \\, \\sqrt{2} t^{11} u^{6} v^{11} - 3659904 \\, \\sqrt{3} t^{9} u^{8} v^{11} - 233280 \\, \\sqrt{2} t^{9} u^{8} v^{11} - 43404 \\, \\sqrt{3} t^{6} u^{11} v^{11} - 415098 \\, \\sqrt{2} t^{6} u^{11} v^{11} - 886837248 \\, t^{17} u^{11} - 40310784 \\, t^{15} u^{11} v^{2} - 2338025472 \\, t^{17} u^{8} v^{3} - 51508224 \\, t^{14} u^{11} v^{3} - 1894606848 \\, t^{17} u^{6} v^{5} + 40310784 \\, t^{15} u^{8} v^{5} + 31072896 \\, t^{12} u^{11} v^{5} - 1894606848 \\, t^{17} u^{5} v^{6} + 38071296 \\, t^{14} u^{8} v^{6} - 4891104 \\, \\sqrt{3} \\sqrt{2} t^{10} u^{11} v^{6} + 29975184 \\, t^{11} u^{11} v^{6} - 2338025472 \\, t^{17} u^{3} v^{8} + 40310784 \\, t^{15} u^{5} v^{8} + 217230336 \\, t^{14} u^{6} v^{8} + 23514624 \\, t^{12} u^{8} v^{8} - 59616 \\, \\sqrt{3} \\sqrt{2} t^{8} u^{11} v^{8} - 5406048 \\, t^{9} u^{11} v^{8} - 886837248 \\, t^{17} v^{11} - 40310784 \\, t^{15} u^{2} v^{11} + 222829056 \\, t^{14} u^{3} v^{11} + 5878656 \\, t^{12} u^{5} v^{11} - 2185056 \\, \\sqrt{3} \\sqrt{2} t^{10} u^{6} v^{11} + 6141744 \\, t^{11} u^{6} v^{11} + 59616 \\, \\sqrt{3} \\sqrt{2} t^{8} u^{8} v^{11} - 5542560 \\, t^{9} u^{8} v^{11} - 62208 \\, \\sqrt{3} \\sqrt{2} t^{5} u^{11} v^{11} - 567756 \\, t^{6} u^{11} v^{11} + 201927168 \\, \\sqrt{3} t^{13} u^{11} v^{3} + 236825856 \\, \\sqrt{2} t^{13} u^{11} v^{3} - 42944256 \\, \\sqrt{3} t^{11} u^{11} v^{5} - 2146176 \\, \\sqrt{2} t^{11} u^{11} v^{5} + 214617600 \\, \\sqrt{3} t^{13} u^{8} v^{6} + 226748160 \\, \\sqrt{2} t^{13} u^{8} v^{6} - 9782208 \\, \\sqrt{3} t^{10} u^{11} v^{6} - 6228576 \\, \\sqrt{2} t^{10} u^{11} v^{6} + 199687680 \\, \\sqrt{3} t^{13} u^{6} v^{8} + 159563520 \\, \\sqrt{2} t^{13} u^{6} v^{8} - 94017024 \\, \\sqrt{3} t^{11} u^{8} v^{8} + 933120 \\, \\sqrt{2} t^{11} u^{8} v^{8} - 119232 \\, \\sqrt{3} t^{8} u^{11} v^{8} - 8188128 \\, \\sqrt{2} t^{8} u^{11} v^{8} + 173187072 \\, \\sqrt{3} t^{13} u^{3} v^{11} + 107495424 \\, \\sqrt{2} t^{13} u^{3} v^{11} - 42197760 \\, \\sqrt{3} t^{11} u^{5} v^{11} + 1213056 \\, \\sqrt{2} t^{11} u^{5} v^{11} - 4370112 \\, \\sqrt{3} t^{10} u^{6} v^{11} + 1329696 \\, \\sqrt{2} t^{10} u^{6} v^{11} + 119232 \\, \\sqrt{3} t^{8} u^{8} v^{11} - 8608032 \\, \\sqrt{2} t^{8} u^{8} v^{11} - 95616 \\, \\sqrt{3} t^{5} u^{11} v^{11} - 20736 \\, \\sqrt{2} t^{5} u^{11} v^{11} - 1867732992 \\, t^{16} u^{11} + 140341248 \\, t^{14} u^{11} v^{2} - 2472394752 \\, t^{16} u^{8} v^{3} + 473651712 \\, t^{13} u^{11} v^{3} + 376233984 \\, t^{16} u^{6} v^{5} + 103016448 \\, t^{14} u^{8} v^{5} - 4292352 \\, t^{11} u^{11} v^{5} - 376233984 \\, t^{16} u^{5} v^{6} + 453496320 \\, t^{13} u^{8} v^{6} - 1516320 \\, \\sqrt{3} \\sqrt{2} t^{9} u^{11} v^{6} - 17349552 \\, t^{10} u^{11} v^{6} + 2472394752 \\, t^{16} u^{3} v^{8} - 103016448 \\, t^{14} u^{5} v^{8} + 319127040 \\, t^{13} u^{6} v^{8} + 1866240 \\, t^{11} u^{8} v^{8} + 1041984 \\, \\sqrt{3} \\sqrt{2} t^{7} u^{11} v^{8} - 11465712 \\, t^{8} u^{11} v^{8} + 1867732992 \\, t^{16} v^{11} - 140341248 \\, t^{14} u^{2} v^{11} + 214990848 \\, t^{13} u^{3} v^{11} + 2426112 \\, t^{11} u^{5} v^{11} + 116640 \\, \\sqrt{3} \\sqrt{2} t^{9} u^{6} v^{11} + 5465232 \\, t^{10} u^{6} v^{11} + 575424 \\, \\sqrt{3} \\sqrt{2} t^{7} u^{8} v^{11} - 13106448 \\, t^{8} u^{8} v^{11} + 40176 \\, \\sqrt{3} \\sqrt{2} t^{4} u^{11} v^{11} - 41472 \\, t^{5} u^{11} v^{11} + 29237760 \\, \\sqrt{3} t^{12} u^{11} v^{3} - 92378880 \\, \\sqrt{2} t^{12} u^{11} v^{3} - 30430080 \\, \\sqrt{3} t^{10} u^{11} v^{5} - 24960960 \\, \\sqrt{2} t^{10} u^{11} v^{5} - 75147264 \\, \\sqrt{3} t^{12} u^{8} v^{6} - 114213888 \\, \\sqrt{2} t^{12} u^{8} v^{6} - 3032640 \\, \\sqrt{3} t^{9} u^{11} v^{6} - 1049760 \\, \\sqrt{2} t^{9} u^{11} v^{6} + 9455616 \\, \\sqrt{3} t^{12} u^{6} v^{8} - 181398528 \\, \\sqrt{2} t^{12} u^{6} v^{8} - 7257600 \\, \\sqrt{3} t^{10} u^{8} v^{8} - 32659200 \\, \\sqrt{2} t^{10} u^{8} v^{8} + 2083968 \\, \\sqrt{3} t^{7} u^{11} v^{8} + 233280 \\, \\sqrt{2} t^{7} u^{11} v^{8} - 83358720 \\, \\sqrt{3} t^{12} u^{3} v^{11} - 151165440 \\, \\sqrt{2} t^{12} u^{3} v^{11} + 20891520 \\, \\sqrt{3} t^{10} u^{5} v^{11} - 17962560 \\, \\sqrt{2} t^{10} u^{5} v^{11} + 233280 \\, \\sqrt{3} t^{9} u^{6} v^{11} + 13646880 \\, \\sqrt{2} t^{9} u^{6} v^{11} + 1150848 \\, \\sqrt{3} t^{7} u^{8} v^{11} - 233280 \\, \\sqrt{2} t^{7} u^{8} v^{11} + 63960 \\, \\sqrt{3} t^{4} u^{11} v^{11} + 205092 \\, \\sqrt{2} t^{4} u^{11} v^{11} + 2906855424 \\, t^{15} u^{11} + 22394880 \\, t^{13} u^{11} v^{2} + 5876416512 \\, t^{15} u^{8} v^{3} - 184757760 \\, t^{12} u^{11} v^{3} + 4156489728 \\, t^{15} u^{6} v^{5} - 22394880 \\, t^{13} u^{8} v^{5} - 49921920 \\, t^{10} u^{11} v^{5} + 4156489728 \\, t^{15} u^{5} v^{6} - 228427776 \\, t^{12} u^{8} v^{6} + 4362336 \\, \\sqrt{3} \\sqrt{2} t^{8} u^{11} v^{6} + 4420656 \\, t^{9} u^{11} v^{6} + 5876416512 \\, t^{15} u^{3} v^{8} - 22394880 \\, t^{13} u^{5} v^{8} - 362797056 \\, t^{12} u^{6} v^{8} - 65318400 \\, t^{10} u^{8} v^{8} - 686880 \\, \\sqrt{3} \\sqrt{2} t^{6} u^{11} v^{8} - 1618272 \\, t^{7} u^{11} v^{8} + 2906855424 \\, t^{15} v^{11} + 22394880 \\, t^{13} u^{2} v^{11} - 302330880 \\, t^{12} u^{3} v^{11} - 35925120 \\, t^{10} u^{5} v^{11} + 2402784 \\, \\sqrt{3} \\sqrt{2} t^{8} u^{6} v^{11} + 27009936 \\, t^{9} u^{6} v^{11} - 526176 \\, \\sqrt{3} \\sqrt{2} t^{6} u^{8} v^{11} - 2611872 \\, t^{7} u^{8} v^{11} + 82944 \\, \\sqrt{3} \\sqrt{2} t^{3} u^{11} v^{11} + 305208 \\, t^{4} u^{11} v^{11} - 201678336 \\, \\sqrt{3} t^{11} u^{11} v^{3} - 202113792 \\, \\sqrt{2} t^{11} u^{11} v^{3} + 54867456 \\, \\sqrt{3} t^{9} u^{11} v^{5} + 5038848 \\, \\sqrt{2} t^{9} u^{11} v^{5} - 184633344 \\, \\sqrt{3} t^{11} u^{8} v^{6} - 192595968 \\, \\sqrt{2} t^{11} u^{8} v^{6} + 8724672 \\, \\sqrt{3} t^{8} u^{11} v^{6} + 4548960 \\, \\sqrt{2} t^{8} u^{11} v^{6} - 164726784 \\, \\sqrt{3} t^{11} u^{6} v^{8} - 103016448 \\, \\sqrt{2} t^{11} u^{6} v^{8} + 107122176 \\, \\sqrt{3} t^{9} u^{8} v^{8} - 1679616 \\, \\sqrt{2} t^{9} u^{8} v^{8} - 1373760 \\, \\sqrt{3} t^{6} u^{11} v^{8} + 5855328 \\, \\sqrt{2} t^{6} u^{11} v^{8} - 171196416 \\, \\sqrt{3} t^{11} u^{3} v^{11} - 64945152 \\, \\sqrt{2} t^{11} u^{3} v^{11} + 53001216 \\, \\sqrt{3} t^{9} u^{5} v^{11} - 3359232 \\, \\sqrt{2} t^{9} u^{5} v^{11} + 4805568 \\, \\sqrt{3} t^{8} u^{6} v^{11} + 349920 \\, \\sqrt{2} t^{8} u^{6} v^{11} - 1052352 \\, \\sqrt{3} t^{6} u^{8} v^{11} + 6741792 \\, \\sqrt{2} t^{6} u^{8} v^{11} + 127488 \\, \\sqrt{3} t^{3} u^{11} v^{11} + 27648 \\, \\sqrt{2} t^{3} u^{11} v^{11} + 1847577600 \\, t^{14} u^{11} - 167961600 \\, t^{12} u^{11} v^{2} + 2888939520 \\, t^{14} u^{8} v^{3} - 404227584 \\, t^{11} u^{11} v^{3} - 705438720 \\, t^{14} u^{6} v^{5} - 100776960 \\, t^{12} u^{8} v^{5} + 10077696 \\, t^{9} u^{11} v^{5} + 705438720 \\, t^{14} u^{5} v^{6} - 385191936 \\, t^{11} u^{8} v^{6} - 1734048 \\, \\sqrt{3} \\sqrt{2} t^{7} u^{11} v^{6} + 9065520 \\, t^{8} u^{11} v^{6} - 2888939520 \\, t^{14} u^{3} v^{8} + 100776960 \\, t^{12} u^{5} v^{8} - 206032896 \\, t^{11} u^{6} v^{8} - 3359232 \\, t^{9} u^{8} v^{8} + 181440 \\, \\sqrt{3} \\sqrt{2} t^{5} u^{11} v^{8} + 8605872 \\, t^{6} u^{11} v^{8} - 1847577600 \\, t^{14} v^{11} + 167961600 \\, t^{12} u^{2} v^{11} - 129890304 \\, t^{11} u^{3} v^{11} - 6718464 \\, t^{9} u^{5} v^{11} - 847584 \\, \\sqrt{3} \\sqrt{2} t^{7} u^{6} v^{11} + 2611440 \\, t^{8} u^{6} v^{11} - 181440 \\, \\sqrt{3} \\sqrt{2} t^{5} u^{8} v^{11} + 9014544 \\, t^{6} u^{8} v^{11} - 21384 \\, \\sqrt{3} \\sqrt{2} t^{2} u^{11} v^{11} + 55296 \\, t^{3} u^{11} v^{11} + 37075968 \\, \\sqrt{3} t^{10} u^{11} v^{3} + 178039296 \\, \\sqrt{2} t^{10} u^{11} v^{3} + 10191744 \\, \\sqrt{3} t^{8} u^{11} v^{5} + 27946944 \\, \\sqrt{2} t^{8} u^{11} v^{5} + 132005376 \\, \\sqrt{3} t^{10} u^{8} v^{6} + 179718912 \\, \\sqrt{2} t^{10} u^{8} v^{6} - 3468096 \\, \\sqrt{3} t^{7} u^{11} v^{6} - 8887968 \\, \\sqrt{2} t^{7} u^{11} v^{6} - 46158336 \\, \\sqrt{3} t^{10} u^{6} v^{8} + 206592768 \\, \\sqrt{2} t^{10} u^{6} v^{8} + 10160640 \\, \\sqrt{3} t^{8} u^{8} v^{8} + 45722880 \\, \\sqrt{2} t^{8} u^{8} v^{8} + 362880 \\, \\sqrt{3} t^{5} u^{11} v^{8} - 419904 \\, \\sqrt{2} t^{5} u^{11} v^{8} + 39439872 \\, \\sqrt{3} t^{10} u^{3} v^{11} + 166281984 \\, \\sqrt{2} t^{10} u^{3} v^{11} + 2042496 \\, \\sqrt{3} t^{8} u^{5} v^{11} + 27107136 \\, \\sqrt{2} t^{8} u^{5} v^{11} - 1695168 \\, \\sqrt{3} t^{7} u^{6} v^{11} - 17705952 \\, \\sqrt{2} t^{7} u^{6} v^{11} - 362880 \\, \\sqrt{3} t^{5} u^{8} v^{11} + 419904 \\, \\sqrt{2} t^{5} u^{8} v^{11} - 23508 \\, \\sqrt{3} t^{2} u^{11} v^{11} + 4698 \\, \\sqrt{2} t^{2} u^{11} v^{11} - 4288619520 \\, t^{13} u^{11} + 22394880 \\, t^{11} u^{11} v^{2} - 7950182400 \\, t^{13} u^{8} v^{3} + 356078592 \\, t^{10} u^{11} v^{3} - 5296389120 \\, t^{13} u^{6} v^{5} - 22394880 \\, t^{11} u^{8} v^{5} + 55893888 \\, t^{8} u^{11} v^{5} - 5296389120 \\, t^{13} u^{5} v^{6} + 359437824 \\, t^{10} u^{8} v^{6} - 1656288 \\, \\sqrt{3} \\sqrt{2} t^{6} u^{11} v^{6} - 20628432 \\, t^{7} u^{11} v^{6} - 7950182400 \\, t^{13} u^{3} v^{8} - 22394880 \\, t^{11} u^{5} v^{8} + 413185536 \\, t^{10} u^{6} v^{8} + 91445760 \\, t^{8} u^{8} v^{8} + 90720 \\, \\sqrt{3} \\sqrt{2} t^{4} u^{11} v^{8} - 493344 \\, t^{5} u^{11} v^{8} - 4288619520 \\, t^{13} v^{11} + 22394880 \\, t^{11} u^{2} v^{11} + 332563968 \\, t^{10} u^{3} v^{11} + 54214272 \\, t^{8} u^{5} v^{11} - 1469664 \\, \\sqrt{3} \\sqrt{2} t^{6} u^{6} v^{11} - 32937840 \\, t^{7} u^{6} v^{11} + 33696 \\, \\sqrt{3} \\sqrt{2} t^{4} u^{8} v^{11} + 493344 \\, t^{5} u^{8} v^{11} - 31104 \\, \\sqrt{3} \\sqrt{2} t u^{11} v^{11} + 26892 \\, t^{2} u^{11} v^{11} + 99283968 \\, \\sqrt{3} t^{9} u^{11} v^{3} + 83980800 \\, \\sqrt{2} t^{9} u^{11} v^{3} - 20590848 \\, \\sqrt{3} t^{7} u^{11} v^{5} - 6065280 \\, \\sqrt{2} t^{7} u^{11} v^{5} + 75396096 \\, \\sqrt{3} t^{9} u^{8} v^{6} + 97417728 \\, \\sqrt{2} t^{9} u^{8} v^{6} - 3312576 \\, \\sqrt{3} t^{6} u^{11} v^{6} - 629856 \\, \\sqrt{2} t^{6} u^{11} v^{6} + 60466176 \\, \\sqrt{3} t^{9} u^{6} v^{8} + 30233088 \\, \\sqrt{2} t^{9} u^{6} v^{8} - 38942208 \\, \\sqrt{3} t^{7} u^{8} v^{8} + 933120 \\, \\sqrt{2} t^{7} u^{8} v^{8} + 181440 \\, \\sqrt{3} t^{4} u^{11} v^{8} - 2169504 \\, \\sqrt{2} t^{4} u^{11} v^{8} + 86220288 \\, \\sqrt{3} t^{9} u^{3} v^{11} + 25194240 \\, \\sqrt{2} t^{9} u^{3} v^{11} - 18102528 \\, \\sqrt{3} t^{7} u^{5} v^{11} + 5132160 \\, \\sqrt{2} t^{7} u^{5} v^{11} - 2939328 \\, \\sqrt{3} t^{6} u^{6} v^{11} - 2309472 \\, \\sqrt{2} t^{6} u^{6} v^{11} + 67392 \\, \\sqrt{3} t^{4} u^{8} v^{11} - 2869344 \\, \\sqrt{2} t^{4} u^{8} v^{11} - 47808 \\, \\sqrt{3} t u^{11} v^{11} - 10368 \\, \\sqrt{2} t u^{11} v^{11} - 550914048 \\, t^{12} u^{11} + 98537472 \\, t^{10} u^{11} v^{2} - 1719926784 \\, t^{12} u^{8} v^{3} + 167961600 \\, t^{9} u^{11} v^{3} + 752467968 \\, t^{12} u^{6} v^{5} + 40310784 \\, t^{10} u^{8} v^{5} - 12130560 \\, t^{7} u^{11} v^{5} - 752467968 \\, t^{12} u^{5} v^{6} + 194835456 \\, t^{9} u^{8} v^{6} + 1780704 \\, \\sqrt{3} \\sqrt{2} t^{5} u^{11} v^{6} + 462672 \\, t^{6} u^{11} v^{6} + 1719926784 \\, t^{12} u^{3} v^{8} - 40310784 \\, t^{10} u^{5} v^{8} + 60466176 \\, t^{9} u^{6} v^{8} + 1866240 \\, t^{7} u^{8} v^{8} - 160704 \\, \\sqrt{3} \\sqrt{2} t^{3} u^{11} v^{8} - 3058128 \\, t^{4} u^{11} v^{8} + 550914048 \\, t^{12} v^{11} - 98537472 \\, t^{10} u^{2} v^{11} + 50388480 \\, t^{9} u^{3} v^{11} + 10264320 \\, t^{7} u^{5} v^{11} + 614304 \\, \\sqrt{3} \\sqrt{2} t^{5} u^{6} v^{11} - 6846768 \\, t^{6} u^{6} v^{11} + 160704 \\, \\sqrt{3} \\sqrt{2} t^{3} u^{8} v^{11} - 4230576 \\, t^{4} u^{8} v^{11} - 20736 \\, t u^{11} v^{11} - 44789760 \\, \\sqrt{3} t^{8} u^{11} v^{3} - 143327232 \\, \\sqrt{2} t^{8} u^{11} v^{3} - 2892672 \\, \\sqrt{3} t^{6} u^{11} v^{5} - 19735488 \\, \\sqrt{2} t^{6} u^{11} v^{5} - 91072512 \\, \\sqrt{3} t^{8} u^{8} v^{6} - 145566720 \\, \\sqrt{2} t^{8} u^{8} v^{6} + 3561408 \\, \\sqrt{3} t^{5} u^{11} v^{6} + 9027936 \\, \\sqrt{2} t^{5} u^{11} v^{6} + 25380864 \\, \\sqrt{3} t^{8} u^{6} v^{8} - 150045696 \\, \\sqrt{2} t^{8} u^{6} v^{8} - 7838208 \\, \\sqrt{3} t^{6} u^{8} v^{8} - 35271936 \\, \\sqrt{2} t^{6} u^{8} v^{8} - 321408 \\, \\sqrt{3} t^{3} u^{11} v^{8} + 233280 \\, \\sqrt{2} t^{3} u^{11} v^{8} - 14556672 \\, \\sqrt{3} t^{8} u^{3} v^{11} - 123731712 \\, \\sqrt{2} t^{8} u^{3} v^{11} - 6065280 \\, \\sqrt{3} t^{6} u^{5} v^{11} - 20575296 \\, \\sqrt{2} t^{6} u^{5} v^{11} + 1228608 \\, \\sqrt{3} t^{5} u^{6} v^{11} + 11967264 \\, \\sqrt{2} t^{5} u^{6} v^{11} + 321408 \\, \\sqrt{3} t^{3} u^{8} v^{11} - 233280 \\, \\sqrt{2} t^{3} u^{8} v^{11} + 3345795072 \\, t^{11} u^{11} - 40310784 \\, t^{9} u^{11} v^{2} + 6127239168 \\, t^{11} u^{8} v^{3} - 286654464 \\, t^{8} u^{11} v^{3} + 4031078400 \\, t^{11} u^{6} v^{5} + 40310784 \\, t^{9} u^{8} v^{5} - 39470976 \\, t^{6} u^{11} v^{5} + 4031078400 \\, t^{11} u^{5} v^{6} - 291133440 \\, t^{8} u^{8} v^{6} + 31104 \\, \\sqrt{3} \\sqrt{2} t^{4} u^{11} v^{6} + 14228784 \\, t^{5} u^{11} v^{6} + 6127239168 \\, t^{11} u^{3} v^{8} + 40310784 \\, t^{9} u^{5} v^{8} - 300091392 \\, t^{8} u^{6} v^{8} - 70543872 \\, t^{6} u^{8} v^{8} + 124416 \\, \\sqrt{3} \\sqrt{2} t^{2} u^{11} v^{8} + 234144 \\, t^{3} u^{11} v^{8} + 3345795072 \\, t^{11} v^{11} - 40310784 \\, t^{9} u^{2} v^{11} - 247463424 \\, t^{8} u^{3} v^{11} - 41150592 \\, t^{6} u^{5} v^{11} + 451008 \\, \\sqrt{3} \\sqrt{2} t^{4} u^{6} v^{11} + 17751312 \\, t^{5} u^{6} v^{11} + 155520 \\, \\sqrt{3} \\sqrt{2} t^{2} u^{8} v^{11} - 234144 \\, t^{3} u^{8} v^{11} - 17169408 \\, \\sqrt{3} t^{7} u^{11} v^{3} - 3359232 \\, \\sqrt{2} t^{7} u^{11} v^{3} + 622080 \\, \\sqrt{3} t^{5} u^{11} v^{5} + 4292352 \\, \\sqrt{2} t^{5} u^{11} v^{5} - 7464960 \\, \\sqrt{3} t^{7} u^{8} v^{6} - 26873856 \\, \\sqrt{2} t^{7} u^{8} v^{6} + 62208 \\, \\sqrt{3} t^{4} u^{11} v^{6} - 1399680 \\, \\sqrt{2} t^{4} u^{11} v^{6} - 1492992 \\, \\sqrt{3} t^{7} u^{6} v^{8} + 622080 \\, \\sqrt{3} t^{5} u^{8} v^{8} - 186624 \\, \\sqrt{2} t^{5} u^{8} v^{8} + 248832 \\, \\sqrt{3} t^{2} u^{11} v^{8} + 279936 \\, \\sqrt{2} t^{2} u^{11} v^{8} - 19782144 \\, \\sqrt{3} t^{7} u^{3} v^{11} - 15116544 \\, \\sqrt{2} t^{7} u^{3} v^{11} - 1244160 \\, \\sqrt{3} t^{5} u^{5} v^{11} - 4105728 \\, \\sqrt{2} t^{5} u^{5} v^{11} + 902016 \\, \\sqrt{3} t^{4} u^{6} v^{11} + 2379456 \\, \\sqrt{2} t^{4} u^{6} v^{11} + 311040 \\, \\sqrt{3} t^{2} u^{8} v^{11} + 559872 \\, \\sqrt{2} t^{2} u^{8} v^{11} - 456855552 \\, t^{10} u^{11} - 16422912 \\, t^{8} u^{11} v^{2} + 349360128 \\, t^{10} u^{8} v^{3} - 6718464 \\, t^{7} u^{11} v^{3} - 470292480 \\, t^{10} u^{6} v^{5} + 8957952 \\, t^{8} u^{8} v^{5} + 8584704 \\, t^{5} u^{11} v^{5} + 470292480 \\, t^{10} u^{5} v^{6} - 53747712 \\, t^{7} u^{8} v^{6} - 629856 \\, \\sqrt{3} \\sqrt{2} t^{3} u^{11} v^{6} - 2026944 \\, t^{4} u^{11} v^{6} - 349360128 \\, t^{10} u^{3} v^{8} - 8957952 \\, t^{8} u^{5} v^{8} - 373248 \\, t^{5} u^{8} v^{8} + 15552 \\, \\sqrt{3} \\sqrt{2} t u^{11} v^{8} + 492480 \\, t^{2} u^{11} v^{8} + 456855552 \\, t^{10} v^{11} + 16422912 \\, t^{8} u^{2} v^{11} - 30233088 \\, t^{7} u^{3} v^{11} - 8211456 \\, t^{5} u^{5} v^{11} - 303264 \\, \\sqrt{3} \\sqrt{2} t^{3} u^{6} v^{11} + 3781728 \\, t^{4} u^{6} v^{11} - 15552 \\, \\sqrt{3} \\sqrt{2} t u^{8} v^{11} + 922752 \\, t^{2} u^{8} v^{11} + 17169408 \\, \\sqrt{3} t^{6} u^{11} v^{3} + 57106944 \\, \\sqrt{2} t^{6} u^{11} v^{3} + 2229120 \\, \\sqrt{3} t^{4} u^{11} v^{5} + 7791552 \\, \\sqrt{2} t^{4} u^{11} v^{5} + 27620352 \\, \\sqrt{3} t^{6} u^{8} v^{6} + 63825408 \\, \\sqrt{2} t^{6} u^{8} v^{6} - 1259712 \\, \\sqrt{3} t^{3} u^{11} v^{6} - 3989088 \\, \\sqrt{2} t^{3} u^{11} v^{6} + 746496 \\, \\sqrt{3} t^{6} u^{6} v^{8} + 63825408 \\, \\sqrt{2} t^{6} u^{6} v^{8} + 3193344 \\, \\sqrt{3} t^{4} u^{8} v^{8} + 14370048 \\, \\sqrt{2} t^{4} u^{8} v^{8} + 31104 \\, \\sqrt{3} t u^{11} v^{8} - 46656 \\, \\sqrt{2} t u^{11} v^{8} + 7091712 \\, \\sqrt{3} t^{6} u^{3} v^{11} + 52068096 \\, \\sqrt{2} t^{6} u^{3} v^{11} + 1296000 \\, \\sqrt{3} t^{4} u^{5} v^{11} + 8071488 \\, \\sqrt{2} t^{4} u^{5} v^{11} - 606528 \\, \\sqrt{3} t^{3} u^{6} v^{11} - 4408992 \\, \\sqrt{2} t^{3} u^{6} v^{11} - 31104 \\, \\sqrt{3} t u^{8} v^{11} + 46656 \\, \\sqrt{2} t u^{8} v^{11} - 1325776896 \\, t^{9} u^{11} + 22394880 \\, t^{7} u^{11} v^{2} - 2588848128 \\, t^{9} u^{8} v^{3} + 114213888 \\, t^{6} u^{11} v^{3} - 1769195520 \\, t^{9} u^{6} v^{5} - 22394880 \\, t^{7} u^{8} v^{5} + 15583104 \\, t^{4} u^{11} v^{5} - 1769195520 \\, t^{9} u^{5} v^{6} + 127650816 \\, t^{6} u^{8} v^{6} + 139968 \\, \\sqrt{3} \\sqrt{2} t^{2} u^{11} v^{6} - 6255792 \\, t^{3} u^{11} v^{6} - 2588848128 \\, t^{9} u^{3} v^{8} - 22394880 \\, t^{7} u^{5} v^{8} + 127650816 \\, t^{6} u^{6} v^{8} + 28740096 \\, t^{4} u^{8} v^{8} + 2592 \\, \\sqrt{3} \\sqrt{2} u^{11} v^{8} - 57888 \\, t u^{11} v^{8} - 1325776896 \\, t^{9} v^{11} + 22394880 \\, t^{7} u^{2} v^{11} + 104136192 \\, t^{6} u^{3} v^{11} + 16142976 \\, t^{4} u^{5} v^{11} - 93312 \\, \\sqrt{3} \\sqrt{2} t^{2} u^{6} v^{11} - 6652368 \\, t^{3} u^{6} v^{11} - 2592 \\, \\sqrt{3} \\sqrt{2} u^{8} v^{11} + 57888 \\, t u^{8} v^{11} - 2177280 \\, \\sqrt{3} t^{5} u^{11} v^{3} - 9797760 \\, \\sqrt{2} t^{5} u^{11} v^{3} - 373248 \\, \\sqrt{3} t^{3} u^{11} v^{5} - 1679616 \\, \\sqrt{2} t^{3} u^{11} v^{5} - 2301696 \\, \\sqrt{3} t^{5} u^{8} v^{6} + 3079296 \\, \\sqrt{2} t^{5} u^{8} v^{6} + 279936 \\, \\sqrt{3} t^{2} u^{11} v^{6} + 979776 \\, \\sqrt{2} t^{2} u^{11} v^{6} - 3297024 \\, \\sqrt{3} t^{5} u^{6} v^{8} - 1399680 \\, \\sqrt{2} t^{5} u^{6} v^{8} + 5184 \\, \\sqrt{3} u^{11} v^{8} + 23328 \\, \\sqrt{2} u^{11} v^{8} + 2177280 \\, \\sqrt{3} t^{5} u^{3} v^{11} + 9797760 \\, \\sqrt{2} t^{5} u^{3} v^{11} + 373248 \\, \\sqrt{3} t^{3} u^{5} v^{11} + 1679616 \\, \\sqrt{2} t^{3} u^{5} v^{11} - 186624 \\, \\sqrt{3} t^{2} u^{6} v^{11} - 1119744 \\, \\sqrt{2} t^{2} u^{6} v^{11} - 5184 \\, \\sqrt{3} u^{8} v^{11} - 23328 \\, \\sqrt{2} u^{8} v^{11} + 416544768 \\, t^{8} u^{11} - 8957952 \\, t^{6} u^{11} v^{2} + 107495424 \\, t^{8} u^{8} v^{3} - 19595520 \\, t^{5} u^{11} v^{3} + 161243136 \\, t^{8} u^{6} v^{5} - 13436928 \\, t^{6} u^{8} v^{5} - 3359232 \\, t^{3} u^{11} v^{5} - 161243136 \\, t^{8} u^{5} v^{6} + 6158592 \\, t^{5} u^{8} v^{6} + 77760 \\, \\sqrt{3} \\sqrt{2} t u^{11} v^{6} + 1526688 \\, t^{2} u^{11} v^{6} - 107495424 \\, t^{8} u^{3} v^{8} + 13436928 \\, t^{6} u^{5} v^{8} - 2799360 \\, t^{5} u^{6} v^{8} + 35856 \\, u^{11} v^{8} - 416544768 \\, t^{8} v^{11} + 8957952 \\, t^{6} u^{2} v^{11} + 19595520 \\, t^{5} u^{3} v^{11} + 3359232 \\, t^{3} u^{5} v^{11} + 77760 \\, \\sqrt{3} \\sqrt{2} t u^{6} v^{11} - 1700352 \\, t^{2} u^{6} v^{11} - 35856 \\, u^{8} v^{11} - 2052864 \\, \\sqrt{3} t^{4} u^{11} v^{3} - 9237888 \\, \\sqrt{2} t^{4} u^{11} v^{3} - 290304 \\, \\sqrt{3} t^{2} u^{11} v^{5} - 1306368 \\, \\sqrt{2} t^{2} u^{11} v^{5} - 2985984 \\, \\sqrt{3} t^{4} u^{8} v^{6} - 13436928 \\, \\sqrt{2} t^{4} u^{8} v^{6} + 155520 \\, \\sqrt{3} t u^{11} v^{6} + 699840 \\, \\sqrt{2} t u^{11} v^{6} - 2985984 \\, \\sqrt{3} t^{4} u^{6} v^{8} - 13436928 \\, \\sqrt{2} t^{4} u^{6} v^{8} - 539136 \\, \\sqrt{3} t^{2} u^{8} v^{8} - 2426112 \\, \\sqrt{2} t^{2} u^{8} v^{8} - 2052864 \\, \\sqrt{3} t^{4} u^{3} v^{11} - 9237888 \\, \\sqrt{2} t^{4} u^{3} v^{11} - 290304 \\, \\sqrt{3} t^{2} u^{5} v^{11} - 1306368 \\, \\sqrt{2} t^{2} u^{5} v^{11} + 155520 \\, \\sqrt{3} t u^{6} v^{11} + 699840 \\, \\sqrt{2} t u^{6} v^{11} + 192595968 \\, t^{7} u^{11} - 4478976 \\, t^{5} u^{11} v^{2} + 501645312 \\, t^{7} u^{8} v^{3} - 18475776 \\, t^{4} u^{11} v^{3} + 394149888 \\, t^{7} u^{6} v^{5} + 4478976 \\, t^{5} u^{8} v^{5} - 2612736 \\, t^{2} u^{11} v^{5} + 394149888 \\, t^{7} u^{5} v^{6} - 26873856 \\, t^{4} u^{8} v^{6} - 23328 \\, \\sqrt{3} \\sqrt{2} u^{11} v^{6} + 1075680 \\, t u^{11} v^{6} + 501645312 \\, t^{7} u^{3} v^{8} + 4478976 \\, t^{5} u^{5} v^{8} - 26873856 \\, t^{4} u^{6} v^{8} - 4852224 \\, t^{2} u^{8} v^{8} + 192595968 \\, t^{7} v^{11} - 4478976 \\, t^{5} u^{2} v^{11} - 18475776 \\, t^{4} u^{3} v^{11} - 2612736 \\, t^{2} u^{5} v^{11} + 23328 \\, \\sqrt{3} \\sqrt{2} u^{6} v^{11} + 1075680 \\, t u^{6} v^{11} + 559872 \\, \\sqrt{3} t^{3} u^{11} v^{3} + 2519424 \\, \\sqrt{2} t^{3} u^{11} v^{3} + 62208 \\, \\sqrt{3} t u^{11} v^{5} + 279936 \\, \\sqrt{2} t u^{11} v^{5} - 46656 \\, \\sqrt{3} u^{11} v^{6} - 209952 \\, \\sqrt{2} u^{11} v^{6} - 559872 \\, \\sqrt{3} t^{3} u^{3} v^{11} - 2519424 \\, \\sqrt{2} t^{3} u^{3} v^{11} - 62208 \\, \\sqrt{3} t u^{5} v^{11} - 279936 \\, \\sqrt{2} t u^{5} v^{11} + 46656 \\, \\sqrt{3} u^{6} v^{11} + 209952 \\, \\sqrt{2} u^{6} v^{11} - 97417728 \\, t^{6} u^{11} + 3359232 \\, t^{4} u^{11} v^{2} - 47029248 \\, t^{6} u^{8} v^{3} + 5038848 \\, t^{3} u^{11} v^{3} - 23514624 \\, t^{6} u^{6} v^{5} + 3359232 \\, t^{4} u^{8} v^{5} + 559872 \\, t u^{11} v^{5} + 23514624 \\, t^{6} u^{5} v^{6} - 322704 \\, u^{11} v^{6} + 47029248 \\, t^{6} u^{3} v^{8} - 3359232 \\, t^{4} u^{5} v^{8} + 97417728 \\, t^{6} v^{11} - 3359232 \\, t^{4} u^{2} v^{11} - 5038848 \\, t^{3} u^{3} v^{11} - 559872 \\, t u^{5} v^{11} + 322704 \\, u^{6} v^{11} + 186624 \\, \\sqrt{3} t^{2} u^{8} v^{6} + 839808 \\, \\sqrt{2} t^{2} u^{8} v^{6} + 186624 \\, \\sqrt{3} t^{2} u^{6} v^{8} + 839808 \\, \\sqrt{2} t^{2} u^{6} v^{8} + 10077696 \\, t^{5} u^{11} - 20155392 \\, t^{5} u^{8} v^{3} - 30233088 \\, t^{5} u^{6} v^{5} - 30233088 \\, t^{5} u^{5} v^{6} + 1679616 \\, t^{2} u^{8} v^{6} - 20155392 \\, t^{5} u^{3} v^{8} + 1679616 \\, t^{2} u^{6} v^{8} + 10077696 \\, t^{5} v^{11}$"
      ],
      "text/plain": [
       "-23328*sqrt(3)*sqrt(2)*t^20*u^11*v^6 + 2592*sqrt(3)*sqrt(2)*t^18*u^11*v^8 + 23328*sqrt(3)*sqrt(2)*t^20*u^6*v^11 - 2592*sqrt(3)*sqrt(2)*t^18*u^8*v^11 + 10368*sqrt(3)*sqrt(2)*t^15*u^11*v^11 - 46656*sqrt(3)*t^20*u^11*v^6 - 209952*sqrt(2)*t^20*u^11*v^6 + 5184*sqrt(3)*t^18*u^11*v^8 + 23328*sqrt(2)*t^18*u^11*v^8 + 46656*sqrt(3)*t^20*u^6*v^11 + 209952*sqrt(2)*t^20*u^6*v^11 - 5184*sqrt(3)*t^18*u^8*v^11 - 23328*sqrt(2)*t^18*u^8*v^11 + 15936*sqrt(3)*t^15*u^11*v^11 + 3456*sqrt(2)*t^15*u^11*v^11 + 77760*sqrt(3)*sqrt(2)*t^19*u^11*v^6 - 322704*t^20*u^11*v^6 + 35856*t^18*u^11*v^8 + 77760*sqrt(3)*sqrt(2)*t^19*u^6*v^11 + 322704*t^20*u^6*v^11 - 35856*t^18*u^8*v^11 - 5832*sqrt(3)*sqrt(2)*t^14*u^11*v^11 + 6912*t^15*u^11*v^11 + 155520*sqrt(3)*t^19*u^11*v^6 + 699840*sqrt(2)*t^19*u^11*v^6 + 155520*sqrt(3)*t^19*u^6*v^11 + 699840*sqrt(2)*t^19*u^6*v^11 - 8820*sqrt(3)*t^14*u^11*v^11 - 31590*sqrt(2)*t^14*u^11*v^11 + 303264*sqrt(3)*sqrt(2)*t^18*u^11*v^6 + 1075680*t^19*u^11*v^6 + 5184*sqrt(3)*sqrt(2)*t^16*u^11*v^8 - 303264*sqrt(3)*sqrt(2)*t^18*u^6*v^11 + 1075680*t^19*u^6*v^11 - 5184*sqrt(3)*sqrt(2)*t^16*u^8*v^11 - 45684*t^14*u^11*v^11 - 186624*sqrt(3)*t^21*u^11*v^3 - 839808*sqrt(2)*t^21*u^11*v^3 + 20736*sqrt(3)*t^19*u^11*v^5 + 93312*sqrt(2)*t^19*u^11*v^5 + 186624*sqrt(3)*t^21*u^8*v^6 + 839808*sqrt(2)*t^21*u^8*v^6 + 606528*sqrt(3)*t^18*u^11*v^6 + 1049760*sqrt(2)*t^18*u^11*v^6 + 186624*sqrt(3)*t^21*u^6*v^8 + 839808*sqrt(2)*t^21*u^6*v^8 - 41472*sqrt(3)*t^19*u^8*v^8 - 186624*sqrt(2)*t^19*u^8*v^8 + 10368*sqrt(3)*t^16*u^11*v^8 - 139968*sqrt(2)*t^16*u^11*v^8 - 186624*sqrt(3)*t^21*u^3*v^11 - 839808*sqrt(2)*t^21*u^3*v^11 + 20736*sqrt(3)*t^19*u^5*v^11 + 93312*sqrt(2)*t^19*u^5*v^11 - 606528*sqrt(3)*t^18*u^6*v^11 - 1049760*sqrt(2)*t^18*u^6*v^11 - 10368*sqrt(3)*t^16*u^8*v^11 + 139968*sqrt(2)*t^16*u^8*v^11 - 6144*sqrt(3)*t^13*u^11*v^11 - 27648*sqrt(2)*t^13*u^11*v^11 - 1679616*t^21*u^11*v^3 + 186624*t^19*u^11*v^5 + 1679616*t^21*u^8*v^6 - 832032*sqrt(3)*sqrt(2)*t^17*u^11*v^6 + 1737936*t^18*u^11*v^6 + 1679616*t^21*u^6*v^8 - 373248*t^19*u^8*v^8 - 191808*sqrt(3)*sqrt(2)*t^15*u^11*v^8 - 201312*t^16*u^11*v^8 - 1679616*t^21*u^3*v^11 + 186624*t^19*u^5*v^11 - 785376*sqrt(3)*sqrt(2)*t^17*u^6*v^11 - 1737936*t^18*u^6*v^11 - 181440*sqrt(3)*sqrt(2)*t^15*u^8*v^11 + 201312*t^16*u^8*v^11 + 60912*sqrt(3)*sqrt(2)*t^12*u^11*v^11 - 55296*t^13*u^11*v^11 + 1181952*sqrt(3)*t^20*u^11*v^3 + 5318784*sqrt(2)*t^20*u^11*v^3 - 93312*sqrt(3)*t^18*u^11*v^5 - 419904*sqrt(2)*t^18*u^11*v^5 + 497664*sqrt(3)*t^20*u^8*v^6 + 2239488*sqrt(2)*t^20*u^8*v^6 - 1664064*sqrt(3)*t^17*u^11*v^6 - 4408992*sqrt(2)*t^17*u^11*v^6 - 497664*sqrt(3)*t^20*u^6*v^8 - 2239488*sqrt(2)*t^20*u^6*v^8 - 383616*sqrt(3)*t^15*u^11*v^8 - 46656*sqrt(2)*t^15*u^11*v^8 - 1181952*sqrt(3)*t^20*u^3*v^11 - 5318784*sqrt(2)*t^20*u^3*v^11 + 93312*sqrt(3)*t^18*u^5*v^11 + 419904*sqrt(2)*t^18*u^5*v^11 - 1570752*sqrt(3)*t^17*u^6*v^11 - 3989088*sqrt(2)*t^17*u^6*v^11 - 362880*sqrt(3)*t^15*u^8*v^11 + 46656*sqrt(2)*t^15*u^8*v^11 + 92760*sqrt(3)*t^12*u^11*v^11 + 198180*sqrt(2)*t^12*u^11*v^11 + 10637568*t^20*u^11*v^3 - 839808*t^18*u^11*v^5 + 4478976*t^20*u^8*v^6 - 948672*sqrt(3)*sqrt(2)*t^16*u^11*v^6 - 7004880*t^17*u^11*v^6 - 4478976*t^20*u^6*v^8 + 261792*sqrt(3)*sqrt(2)*t^14*u^11*v^8 - 196128*t^15*u^11*v^8 - 10637568*t^20*u^3*v^11 + 839808*t^18*u^5*v^11 + 964224*sqrt(3)*sqrt(2)*t^16*u^6*v^11 - 6359472*t^17*u^6*v^11 - 168480*sqrt(3)*sqrt(2)*t^14*u^8*v^11 - 52704*t^15*u^8*v^11 - 62208*sqrt(3)*sqrt(2)*t^11*u^11*v^11 + 291384*t^12*u^11*v^11 + 559872*sqrt(3)*t^19*u^11*v^3 - 4199040*sqrt(2)*t^19*u^11*v^3 - 103680*sqrt(3)*t^17*u^11*v^5 - 466560*sqrt(2)*t^17*u^11*v^5 - 4478976*sqrt(3)*t^19*u^8*v^6 - 13436928*sqrt(2)*t^19*u^8*v^6 - 1897344*sqrt(3)*t^16*u^11*v^6 - 1819584*sqrt(2)*t^16*u^11*v^6 - 4478976*sqrt(3)*t^19*u^6*v^8 - 13436928*sqrt(2)*t^19*u^6*v^8 + 207360*sqrt(3)*t^17*u^8*v^8 + 933120*sqrt(2)*t^17*u^8*v^8 + 523584*sqrt(3)*t^14*u^11*v^8 + 769824*sqrt(2)*t^14*u^11*v^8 + 559872*sqrt(3)*t^19*u^3*v^11 - 4199040*sqrt(2)*t^19*u^3*v^11 - 103680*sqrt(3)*t^17*u^5*v^11 - 466560*sqrt(2)*t^17*u^5*v^11 + 1928448*sqrt(3)*t^16*u^6*v^11 + 1959552*sqrt(2)*t^16*u^6*v^11 - 336960*sqrt(3)*t^14*u^8*v^11 + 69984*sqrt(2)*t^14*u^8*v^11 - 95616*sqrt(3)*t^11*u^11*v^11 - 131328*sqrt(2)*t^11*u^11*v^11 - 3359232*t^22*u^11 + 373248*t^20*u^11*v^2 + 6718464*t^22*u^8*v^3 - 8398080*t^19*u^11*v^3 + 3359232*t^22*u^6*v^5 - 1119744*t^20*u^8*v^5 - 933120*t^17*u^11*v^5 - 3359232*t^22*u^5*v^6 - 26873856*t^19*u^8*v^6 + 3195936*sqrt(3)*sqrt(2)*t^15*u^11*v^6 - 3792096*t^16*u^11*v^6 - 6718464*t^22*u^3*v^8 + 1119744*t^20*u^5*v^8 - 26873856*t^19*u^6*v^8 + 1866240*t^17*u^8*v^8 - 202176*sqrt(3)*sqrt(2)*t^13*u^11*v^8 + 1134864*t^14*u^11*v^8 + 3359232*t^22*v^11 - 373248*t^20*u^2*v^11 - 8398080*t^19*u^3*v^11 - 933120*t^17*u^5*v^11 + 2496096*sqrt(3)*sqrt(2)*t^15*u^6*v^11 + 4007232*t^16*u^6*v^11 - 295488*sqrt(3)*sqrt(2)*t^13*u^8*v^11 + 155952*t^14*u^8*v^11 - 123768*sqrt(3)*sqrt(2)*t^10*u^11*v^11 - 262656*t^11*u^11*v^11 - 16174080*sqrt(3)*t^18*u^11*v^3 - 30233088*sqrt(2)*t^18*u^11*v^3 - 445824*sqrt(3)*t^16*u^11*v^5 + 2472768*sqrt(2)*t^16*u^11*v^5 - 11259648*sqrt(3)*t^18*u^8*v^6 - 12597120*sqrt(2)*t^18*u^8*v^6 + 6391872*sqrt(3)*t^15*u^11*v^6 + 11967264*sqrt(2)*t^15*u^11*v^6 + 11632896*sqrt(3)*t^18*u^6*v^8 + 14276736*sqrt(2)*t^18*u^6*v^8 - 41472*sqrt(3)*t^16*u^8*v^8 - 186624*sqrt(2)*t^16*u^8*v^8 - 404352*sqrt(3)*t^13*u^11*v^8 + 233280*sqrt(2)*t^13*u^11*v^8 + 15800832*sqrt(3)*t^18*u^3*v^11 + 28553472*sqrt(2)*t^18*u^3*v^11 + 487296*sqrt(3)*t^16*u^5*v^11 - 2286144*sqrt(2)*t^16*u^5*v^11 + 4992192*sqrt(3)*t^15*u^6*v^11 + 9027936*sqrt(2)*t^15*u^6*v^11 - 590976*sqrt(3)*t^13*u^8*v^11 - 233280*sqrt(2)*t^13*u^8*v^11 - 194220*sqrt(3)*t^10*u^11*v^11 - 513594*sqrt(2)*t^10*u^11*v^11 + 41430528*t^21*u^11 - 4478976*t^19*u^11*v^2 - 2239488*t^21*u^8*v^3 - 60466176*t^18*u^11*v^3 - 39191040*t^21*u^6*v^5 + 4478976*t^19*u^8*v^5 + 4945536*t^16*u^11*v^5 - 39191040*t^21*u^5*v^6 - 25194240*t^18*u^8*v^6 + 629856*sqrt(3)*sqrt(2)*t^14*u^11*v^6 + 19804176*t^15*u^11*v^6 - 2239488*t^21*u^3*v^8 + 4478976*t^19*u^5*v^8 + 28553472*t^18*u^6*v^8 - 373248*t^16*u^8*v^8 - 1200096*sqrt(3)*sqrt(2)*t^12*u^11*v^8 + 1533600*t^13*u^11*v^8 + 41430528*t^21*v^11 - 4478976*t^19*u^2*v^11 + 57106944*t^18*u^3*v^11 - 4572288*t^16*u^5*v^11 - 1423008*sqrt(3)*sqrt(2)*t^14*u^6*v^11 + 15037488*t^15*u^6*v^11 + 80352*sqrt(3)*sqrt(2)*t^12*u^8*v^11 + 788832*t^13*u^8*v^11 + 93312*sqrt(3)*sqrt(2)*t^9*u^11*v^11 - 764748*t^10*u^11*v^11 + 19657728*sqrt(3)*t^17*u^11*v^3 + 48148992*sqrt(2)*t^17*u^11*v^3 + 6158592*sqrt(3)*t^15*u^11*v^5 + 839808*sqrt(2)*t^15*u^11*v^5 + 38568960*sqrt(3)*t^17*u^8*v^6 + 66064896*sqrt(2)*t^17*u^8*v^6 + 1259712*sqrt(3)*t^14*u^11*v^6 + 349920*sqrt(2)*t^14*u^11*v^6 + 37573632*sqrt(3)*t^17*u^6*v^8 + 61585920*sqrt(2)*t^17*u^6*v^8 + 5598720*sqrt(3)*t^15*u^8*v^8 - 1679616*sqrt(2)*t^15*u^8*v^8 - 2400192*sqrt(3)*t^12*u^11*v^8 - 2962656*sqrt(2)*t^12*u^11*v^8 + 17293824*sqrt(3)*t^17*u^3*v^11 + 37511424*sqrt(2)*t^17*u^3*v^11 + 6158592*sqrt(3)*t^15*u^5*v^11 + 839808*sqrt(2)*t^15*u^5*v^11 - 2846016*sqrt(3)*t^14*u^6*v^11 - 1329696*sqrt(2)*t^14*u^6*v^11 + 160704*sqrt(3)*t^12*u^8*v^11 - 2076192*sqrt(2)*t^12*u^8*v^11 + 309312*sqrt(3)*t^9*u^11*v^11 + 114048*sqrt(2)*t^9*u^11*v^11 - 147806208*t^20*u^11 + 8957952*t^18*u^11*v^2 - 214990848*t^20*u^8*v^3 + 96297984*t^17*u^11*v^3 + 13436928*t^18*u^8*v^5 + 1679616*t^15*u^11*v^5 + 132129792*t^17*u^8*v^6 - 5979744*sqrt(3)*sqrt(2)*t^13*u^11*v^6 + 3420144*t^14*u^11*v^6 + 214990848*t^20*u^3*v^8 - 13436928*t^18*u^5*v^8 + 123171840*t^17*u^6*v^8 - 3359232*t^15*u^8*v^8 + 1964736*sqrt(3)*sqrt(2)*t^11*u^11*v^8 - 6627312*t^12*u^11*v^8 + 147806208*t^20*v^11 - 8957952*t^18*u^2*v^11 + 75022848*t^17*u^3*v^11 + 1679616*t^15*u^5*v^11 - 3506976*sqrt(3)*sqrt(2)*t^13*u^6*v^11 - 5382288*t^14*u^6*v^11 + 1767744*sqrt(3)*sqrt(2)*t^11*u^8*v^11 - 1490832*t^12*u^8*v^11 + 85536*sqrt(3)*sqrt(2)*t^8*u^11*v^11 + 228096*t^9*u^11*v^11 + 56236032*sqrt(3)*t^16*u^11*v^3 + 60466176*sqrt(2)*t^16*u^11*v^3 - 10088064*sqrt(3)*t^14*u^11*v^5 - 7324992*sqrt(2)*t^14*u^11*v^5 + 33343488*sqrt(3)*t^16*u^8*v^6 + 20155392*sqrt(2)*t^16*u^8*v^6 - 11959488*sqrt(3)*t^13*u^11*v^6 - 17705952*sqrt(2)*t^13*u^11*v^6 - 39315456*sqrt(3)*t^16*u^6*v^8 - 47029248*sqrt(2)*t^16*u^6*v^8 - 290304*sqrt(3)*t^14*u^8*v^8 - 1306368*sqrt(2)*t^14*u^8*v^8 + 3929472*sqrt(3)*t^11*u^11*v^8 - 419904*sqrt(2)*t^11*u^11*v^8 - 58102272*sqrt(3)*t^16*u^3*v^11 - 68864256*sqrt(2)*t^16*u^3*v^11 + 9258624*sqrt(3)*t^14*u^5*v^11 + 3592512*sqrt(2)*t^14*u^5*v^11 - 7013952*sqrt(3)*t^13*u^6*v^11 - 8887968*sqrt(2)*t^13*u^6*v^11 + 3535488*sqrt(3)*t^11*u^8*v^11 + 419904*sqrt(2)*t^11*u^8*v^11 + 113232*sqrt(3)*t^8*u^11*v^11 + 552312*sqrt(2)*t^8*u^11*v^11 + 4478976*t^19*u^11 + 22394880*t^17*u^11*v^2 + 394149888*t^19*u^8*v^3 + 120932352*t^16*u^11*v^3 + 447897600*t^19*u^6*v^5 - 22394880*t^17*u^8*v^5 - 14649984*t^14*u^11*v^5 + 447897600*t^19*u^5*v^6 + 40310784*t^16*u^8*v^6 + 2076192*sqrt(3)*sqrt(2)*t^12*u^11*v^6 - 36691056*t^13*u^11*v^6 + 394149888*t^19*u^3*v^8 - 22394880*t^17*u^5*v^8 - 94058496*t^16*u^6*v^8 - 2612736*t^14*u^8*v^8 + 1459296*sqrt(3)*sqrt(2)*t^10*u^11*v^8 + 6003936*t^11*u^11*v^8 + 4478976*t^19*v^11 + 22394880*t^17*u^2*v^11 - 137728512*t^16*u^3*v^11 + 7185024*t^14*u^5*v^11 + 1609632*sqrt(3)*sqrt(2)*t^12*u^6*v^11 - 22142160*t^13*u^6*v^11 + 375840*sqrt(3)*sqrt(2)*t^10*u^8*v^11 + 7101216*t^11*u^8*v^11 - 31104*sqrt(3)*sqrt(2)*t^7*u^11*v^11 + 754704*t^8*u^11*v^11 - 100776960*sqrt(3)*t^15*u^11*v^3 - 151165440*sqrt(2)*t^15*u^11*v^3 + 2280960*sqrt(3)*t^13*u^11*v^5 - 186624*sqrt(2)*t^13*u^11*v^5 - 129890304*sqrt(3)*t^15*u^8*v^6 - 161243136*sqrt(2)*t^15*u^8*v^6 + 4152384*sqrt(3)*t^12*u^11*v^6 + 3569184*sqrt(2)*t^12*u^11*v^6 - 123918336*sqrt(3)*t^15*u^6*v^8 - 134369280*sqrt(2)*t^15*u^6*v^8 + 19450368*sqrt(3)*t^13*u^8*v^8 + 933120*sqrt(2)*t^13*u^8*v^8 + 2918592*sqrt(3)*t^10*u^11*v^8 + 6508512*sqrt(2)*t^10*u^11*v^8 - 87713280*sqrt(3)*t^15*u^3*v^11 - 92378880*sqrt(2)*t^15*u^3*v^11 + 2156544*sqrt(3)*t^13*u^5*v^11 - 746496*sqrt(2)*t^13*u^5*v^11 + 3219264*sqrt(3)*t^12*u^6*v^11 - 629856*sqrt(2)*t^12*u^6*v^11 + 751680*sqrt(3)*t^10*u^8*v^11 + 6088608*sqrt(2)*t^10*u^8*v^11 + 87360*sqrt(3)*t^7*u^11*v^11 + 44928*sqrt(2)*t^7*u^11*v^11 + 859963392*t^18*u^11 - 58226688*t^16*u^11*v^2 + 1101828096*t^18*u^8*v^3 - 302330880*t^15*u^11*v^3 - 94058496*t^18*u^6*v^5 - 53747712*t^16*u^8*v^5 - 373248*t^13*u^11*v^5 + 94058496*t^18*u^5*v^6 - 322486272*t^15*u^8*v^6 + 5559840*sqrt(3)*sqrt(2)*t^11*u^11*v^6 + 7601040*t^12*u^11*v^6 - 1101828096*t^18*u^3*v^8 + 53747712*t^16*u^5*v^8 - 268738560*t^15*u^6*v^8 + 1866240*t^13*u^8*v^8 - 2649024*sqrt(3)*sqrt(2)*t^9*u^11*v^8 + 11047536*t^10*u^11*v^8 - 859963392*t^18*v^11 + 58226688*t^16*u^2*v^11 - 184757760*t^15*u^3*v^11 - 1492992*t^13*u^5*v^11 + 2060640*sqrt(3)*sqrt(2)*t^11*u^6*v^11 - 843696*t^12*u^6*v^11 - 1829952*sqrt(3)*sqrt(2)*t^9*u^8*v^11 + 8605008*t^10*u^8*v^11 - 35640*sqrt(3)*sqrt(2)*t^6*u^11*v^11 + 89856*t^7*u^11*v^11 - 77884416*sqrt(3)*t^14*u^11*v^3 - 25754112*sqrt(2)*t^14*u^11*v^3 + 31819392*sqrt(3)*t^12*u^11*v^5 + 15536448*sqrt(2)*t^12*u^11*v^5 - 13188096*sqrt(3)*t^14*u^8*v^6 + 19035648*sqrt(2)*t^14*u^8*v^6 + 11119680*sqrt(3)*t^11*u^11*v^6 + 13646880*sqrt(2)*t^11*u^11*v^6 + 41554944*sqrt(3)*t^14*u^6*v^8 + 108615168*sqrt(2)*t^14*u^6*v^8 + 2612736*sqrt(3)*t^12*u^8*v^8 + 11757312*sqrt(2)*t^12*u^8*v^8 - 5298048*sqrt(3)*t^9*u^11*v^8 + 233280*sqrt(2)*t^9*u^11*v^8 + 96920064*sqrt(3)*t^14*u^3*v^11 + 111414528*sqrt(2)*t^14*u^3*v^11 - 27713664*sqrt(3)*t^12*u^5*v^11 + 2939328*sqrt(2)*t^12*u^5*v^11 + 4121280*sqrt(3)*t^11*u^6*v^11 - 1049760*sqrt(2)*t^11*u^6*v^11 - 3659904*sqrt(3)*t^9*u^8*v^11 - 233280*sqrt(2)*t^9*u^8*v^11 - 43404*sqrt(3)*t^6*u^11*v^11 - 415098*sqrt(2)*t^6*u^11*v^11 - 886837248*t^17*u^11 - 40310784*t^15*u^11*v^2 - 2338025472*t^17*u^8*v^3 - 51508224*t^14*u^11*v^3 - 1894606848*t^17*u^6*v^5 + 40310784*t^15*u^8*v^5 + 31072896*t^12*u^11*v^5 - 1894606848*t^17*u^5*v^6 + 38071296*t^14*u^8*v^6 - 4891104*sqrt(3)*sqrt(2)*t^10*u^11*v^6 + 29975184*t^11*u^11*v^6 - 2338025472*t^17*u^3*v^8 + 40310784*t^15*u^5*v^8 + 217230336*t^14*u^6*v^8 + 23514624*t^12*u^8*v^8 - 59616*sqrt(3)*sqrt(2)*t^8*u^11*v^8 - 5406048*t^9*u^11*v^8 - 886837248*t^17*v^11 - 40310784*t^15*u^2*v^11 + 222829056*t^14*u^3*v^11 + 5878656*t^12*u^5*v^11 - 2185056*sqrt(3)*sqrt(2)*t^10*u^6*v^11 + 6141744*t^11*u^6*v^11 + 59616*sqrt(3)*sqrt(2)*t^8*u^8*v^11 - 5542560*t^9*u^8*v^11 - 62208*sqrt(3)*sqrt(2)*t^5*u^11*v^11 - 567756*t^6*u^11*v^11 + 201927168*sqrt(3)*t^13*u^11*v^3 + 236825856*sqrt(2)*t^13*u^11*v^3 - 42944256*sqrt(3)*t^11*u^11*v^5 - 2146176*sqrt(2)*t^11*u^11*v^5 + 214617600*sqrt(3)*t^13*u^8*v^6 + 226748160*sqrt(2)*t^13*u^8*v^6 - 9782208*sqrt(3)*t^10*u^11*v^6 - 6228576*sqrt(2)*t^10*u^11*v^6 + 199687680*sqrt(3)*t^13*u^6*v^8 + 159563520*sqrt(2)*t^13*u^6*v^8 - 94017024*sqrt(3)*t^11*u^8*v^8 + 933120*sqrt(2)*t^11*u^8*v^8 - 119232*sqrt(3)*t^8*u^11*v^8 - 8188128*sqrt(2)*t^8*u^11*v^8 + 173187072*sqrt(3)*t^13*u^3*v^11 + 107495424*sqrt(2)*t^13*u^3*v^11 - 42197760*sqrt(3)*t^11*u^5*v^11 + 1213056*sqrt(2)*t^11*u^5*v^11 - 4370112*sqrt(3)*t^10*u^6*v^11 + 1329696*sqrt(2)*t^10*u^6*v^11 + 119232*sqrt(3)*t^8*u^8*v^11 - 8608032*sqrt(2)*t^8*u^8*v^11 - 95616*sqrt(3)*t^5*u^11*v^11 - 20736*sqrt(2)*t^5*u^11*v^11 - 1867732992*t^16*u^11 + 140341248*t^14*u^11*v^2 - 2472394752*t^16*u^8*v^3 + 473651712*t^13*u^11*v^3 + 376233984*t^16*u^6*v^5 + 103016448*t^14*u^8*v^5 - 4292352*t^11*u^11*v^5 - 376233984*t^16*u^5*v^6 + 453496320*t^13*u^8*v^6 - 1516320*sqrt(3)*sqrt(2)*t^9*u^11*v^6 - 17349552*t^10*u^11*v^6 + 2472394752*t^16*u^3*v^8 - 103016448*t^14*u^5*v^8 + 319127040*t^13*u^6*v^8 + 1866240*t^11*u^8*v^8 + 1041984*sqrt(3)*sqrt(2)*t^7*u^11*v^8 - 11465712*t^8*u^11*v^8 + 1867732992*t^16*v^11 - 140341248*t^14*u^2*v^11 + 214990848*t^13*u^3*v^11 + 2426112*t^11*u^5*v^11 + 116640*sqrt(3)*sqrt(2)*t^9*u^6*v^11 + 5465232*t^10*u^6*v^11 + 575424*sqrt(3)*sqrt(2)*t^7*u^8*v^11 - 13106448*t^8*u^8*v^11 + 40176*sqrt(3)*sqrt(2)*t^4*u^11*v^11 - 41472*t^5*u^11*v^11 + 29237760*sqrt(3)*t^12*u^11*v^3 - 92378880*sqrt(2)*t^12*u^11*v^3 - 30430080*sqrt(3)*t^10*u^11*v^5 - 24960960*sqrt(2)*t^10*u^11*v^5 - 75147264*sqrt(3)*t^12*u^8*v^6 - 114213888*sqrt(2)*t^12*u^8*v^6 - 3032640*sqrt(3)*t^9*u^11*v^6 - 1049760*sqrt(2)*t^9*u^11*v^6 + 9455616*sqrt(3)*t^12*u^6*v^8 - 181398528*sqrt(2)*t^12*u^6*v^8 - 7257600*sqrt(3)*t^10*u^8*v^8 - 32659200*sqrt(2)*t^10*u^8*v^8 + 2083968*sqrt(3)*t^7*u^11*v^8 + 233280*sqrt(2)*t^7*u^11*v^8 - 83358720*sqrt(3)*t^12*u^3*v^11 - 151165440*sqrt(2)*t^12*u^3*v^11 + 20891520*sqrt(3)*t^10*u^5*v^11 - 17962560*sqrt(2)*t^10*u^5*v^11 + 233280*sqrt(3)*t^9*u^6*v^11 + 13646880*sqrt(2)*t^9*u^6*v^11 + 1150848*sqrt(3)*t^7*u^8*v^11 - 233280*sqrt(2)*t^7*u^8*v^11 + 63960*sqrt(3)*t^4*u^11*v^11 + 205092*sqrt(2)*t^4*u^11*v^11 + 2906855424*t^15*u^11 + 22394880*t^13*u^11*v^2 + 5876416512*t^15*u^8*v^3 - 184757760*t^12*u^11*v^3 + 4156489728*t^15*u^6*v^5 - 22394880*t^13*u^8*v^5 - 49921920*t^10*u^11*v^5 + 4156489728*t^15*u^5*v^6 - 228427776*t^12*u^8*v^6 + 4362336*sqrt(3)*sqrt(2)*t^8*u^11*v^6 + 4420656*t^9*u^11*v^6 + 5876416512*t^15*u^3*v^8 - 22394880*t^13*u^5*v^8 - 362797056*t^12*u^6*v^8 - 65318400*t^10*u^8*v^8 - 686880*sqrt(3)*sqrt(2)*t^6*u^11*v^8 - 1618272*t^7*u^11*v^8 + 2906855424*t^15*v^11 + 22394880*t^13*u^2*v^11 - 302330880*t^12*u^3*v^11 - 35925120*t^10*u^5*v^11 + 2402784*sqrt(3)*sqrt(2)*t^8*u^6*v^11 + 27009936*t^9*u^6*v^11 - 526176*sqrt(3)*sqrt(2)*t^6*u^8*v^11 - 2611872*t^7*u^8*v^11 + 82944*sqrt(3)*sqrt(2)*t^3*u^11*v^11 + 305208*t^4*u^11*v^11 - 201678336*sqrt(3)*t^11*u^11*v^3 - 202113792*sqrt(2)*t^11*u^11*v^3 + 54867456*sqrt(3)*t^9*u^11*v^5 + 5038848*sqrt(2)*t^9*u^11*v^5 - 184633344*sqrt(3)*t^11*u^8*v^6 - 192595968*sqrt(2)*t^11*u^8*v^6 + 8724672*sqrt(3)*t^8*u^11*v^6 + 4548960*sqrt(2)*t^8*u^11*v^6 - 164726784*sqrt(3)*t^11*u^6*v^8 - 103016448*sqrt(2)*t^11*u^6*v^8 + 107122176*sqrt(3)*t^9*u^8*v^8 - 1679616*sqrt(2)*t^9*u^8*v^8 - 1373760*sqrt(3)*t^6*u^11*v^8 + 5855328*sqrt(2)*t^6*u^11*v^8 - 171196416*sqrt(3)*t^11*u^3*v^11 - 64945152*sqrt(2)*t^11*u^3*v^11 + 53001216*sqrt(3)*t^9*u^5*v^11 - 3359232*sqrt(2)*t^9*u^5*v^11 + 4805568*sqrt(3)*t^8*u^6*v^11 + 349920*sqrt(2)*t^8*u^6*v^11 - 1052352*sqrt(3)*t^6*u^8*v^11 + 6741792*sqrt(2)*t^6*u^8*v^11 + 127488*sqrt(3)*t^3*u^11*v^11 + 27648*sqrt(2)*t^3*u^11*v^11 + 1847577600*t^14*u^11 - 167961600*t^12*u^11*v^2 + 2888939520*t^14*u^8*v^3 - 404227584*t^11*u^11*v^3 - 705438720*t^14*u^6*v^5 - 100776960*t^12*u^8*v^5 + 10077696*t^9*u^11*v^5 + 705438720*t^14*u^5*v^6 - 385191936*t^11*u^8*v^6 - 1734048*sqrt(3)*sqrt(2)*t^7*u^11*v^6 + 9065520*t^8*u^11*v^6 - 2888939520*t^14*u^3*v^8 + 100776960*t^12*u^5*v^8 - 206032896*t^11*u^6*v^8 - 3359232*t^9*u^8*v^8 + 181440*sqrt(3)*sqrt(2)*t^5*u^11*v^8 + 8605872*t^6*u^11*v^8 - 1847577600*t^14*v^11 + 167961600*t^12*u^2*v^11 - 129890304*t^11*u^3*v^11 - 6718464*t^9*u^5*v^11 - 847584*sqrt(3)*sqrt(2)*t^7*u^6*v^11 + 2611440*t^8*u^6*v^11 - 181440*sqrt(3)*sqrt(2)*t^5*u^8*v^11 + 9014544*t^6*u^8*v^11 - 21384*sqrt(3)*sqrt(2)*t^2*u^11*v^11 + 55296*t^3*u^11*v^11 + 37075968*sqrt(3)*t^10*u^11*v^3 + 178039296*sqrt(2)*t^10*u^11*v^3 + 10191744*sqrt(3)*t^8*u^11*v^5 + 27946944*sqrt(2)*t^8*u^11*v^5 + 132005376*sqrt(3)*t^10*u^8*v^6 + 179718912*sqrt(2)*t^10*u^8*v^6 - 3468096*sqrt(3)*t^7*u^11*v^6 - 8887968*sqrt(2)*t^7*u^11*v^6 - 46158336*sqrt(3)*t^10*u^6*v^8 + 206592768*sqrt(2)*t^10*u^6*v^8 + 10160640*sqrt(3)*t^8*u^8*v^8 + 45722880*sqrt(2)*t^8*u^8*v^8 + 362880*sqrt(3)*t^5*u^11*v^8 - 419904*sqrt(2)*t^5*u^11*v^8 + 39439872*sqrt(3)*t^10*u^3*v^11 + 166281984*sqrt(2)*t^10*u^3*v^11 + 2042496*sqrt(3)*t^8*u^5*v^11 + 27107136*sqrt(2)*t^8*u^5*v^11 - 1695168*sqrt(3)*t^7*u^6*v^11 - 17705952*sqrt(2)*t^7*u^6*v^11 - 362880*sqrt(3)*t^5*u^8*v^11 + 419904*sqrt(2)*t^5*u^8*v^11 - 23508*sqrt(3)*t^2*u^11*v^11 + 4698*sqrt(2)*t^2*u^11*v^11 - 4288619520*t^13*u^11 + 22394880*t^11*u^11*v^2 - 7950182400*t^13*u^8*v^3 + 356078592*t^10*u^11*v^3 - 5296389120*t^13*u^6*v^5 - 22394880*t^11*u^8*v^5 + 55893888*t^8*u^11*v^5 - 5296389120*t^13*u^5*v^6 + 359437824*t^10*u^8*v^6 - 1656288*sqrt(3)*sqrt(2)*t^6*u^11*v^6 - 20628432*t^7*u^11*v^6 - 7950182400*t^13*u^3*v^8 - 22394880*t^11*u^5*v^8 + 413185536*t^10*u^6*v^8 + 91445760*t^8*u^8*v^8 + 90720*sqrt(3)*sqrt(2)*t^4*u^11*v^8 - 493344*t^5*u^11*v^8 - 4288619520*t^13*v^11 + 22394880*t^11*u^2*v^11 + 332563968*t^10*u^3*v^11 + 54214272*t^8*u^5*v^11 - 1469664*sqrt(3)*sqrt(2)*t^6*u^6*v^11 - 32937840*t^7*u^6*v^11 + 33696*sqrt(3)*sqrt(2)*t^4*u^8*v^11 + 493344*t^5*u^8*v^11 - 31104*sqrt(3)*sqrt(2)*t*u^11*v^11 + 26892*t^2*u^11*v^11 + 99283968*sqrt(3)*t^9*u^11*v^3 + 83980800*sqrt(2)*t^9*u^11*v^3 - 20590848*sqrt(3)*t^7*u^11*v^5 - 6065280*sqrt(2)*t^7*u^11*v^5 + 75396096*sqrt(3)*t^9*u^8*v^6 + 97417728*sqrt(2)*t^9*u^8*v^6 - 3312576*sqrt(3)*t^6*u^11*v^6 - 629856*sqrt(2)*t^6*u^11*v^6 + 60466176*sqrt(3)*t^9*u^6*v^8 + 30233088*sqrt(2)*t^9*u^6*v^8 - 38942208*sqrt(3)*t^7*u^8*v^8 + 933120*sqrt(2)*t^7*u^8*v^8 + 181440*sqrt(3)*t^4*u^11*v^8 - 2169504*sqrt(2)*t^4*u^11*v^8 + 86220288*sqrt(3)*t^9*u^3*v^11 + 25194240*sqrt(2)*t^9*u^3*v^11 - 18102528*sqrt(3)*t^7*u^5*v^11 + 5132160*sqrt(2)*t^7*u^5*v^11 - 2939328*sqrt(3)*t^6*u^6*v^11 - 2309472*sqrt(2)*t^6*u^6*v^11 + 67392*sqrt(3)*t^4*u^8*v^11 - 2869344*sqrt(2)*t^4*u^8*v^11 - 47808*sqrt(3)*t*u^11*v^11 - 10368*sqrt(2)*t*u^11*v^11 - 550914048*t^12*u^11 + 98537472*t^10*u^11*v^2 - 1719926784*t^12*u^8*v^3 + 167961600*t^9*u^11*v^3 + 752467968*t^12*u^6*v^5 + 40310784*t^10*u^8*v^5 - 12130560*t^7*u^11*v^5 - 752467968*t^12*u^5*v^6 + 194835456*t^9*u^8*v^6 + 1780704*sqrt(3)*sqrt(2)*t^5*u^11*v^6 + 462672*t^6*u^11*v^6 + 1719926784*t^12*u^3*v^8 - 40310784*t^10*u^5*v^8 + 60466176*t^9*u^6*v^8 + 1866240*t^7*u^8*v^8 - 160704*sqrt(3)*sqrt(2)*t^3*u^11*v^8 - 3058128*t^4*u^11*v^8 + 550914048*t^12*v^11 - 98537472*t^10*u^2*v^11 + 50388480*t^9*u^3*v^11 + 10264320*t^7*u^5*v^11 + 614304*sqrt(3)*sqrt(2)*t^5*u^6*v^11 - 6846768*t^6*u^6*v^11 + 160704*sqrt(3)*sqrt(2)*t^3*u^8*v^11 - 4230576*t^4*u^8*v^11 - 20736*t*u^11*v^11 - 44789760*sqrt(3)*t^8*u^11*v^3 - 143327232*sqrt(2)*t^8*u^11*v^3 - 2892672*sqrt(3)*t^6*u^11*v^5 - 19735488*sqrt(2)*t^6*u^11*v^5 - 91072512*sqrt(3)*t^8*u^8*v^6 - 145566720*sqrt(2)*t^8*u^8*v^6 + 3561408*sqrt(3)*t^5*u^11*v^6 + 9027936*sqrt(2)*t^5*u^11*v^6 + 25380864*sqrt(3)*t^8*u^6*v^8 - 150045696*sqrt(2)*t^8*u^6*v^8 - 7838208*sqrt(3)*t^6*u^8*v^8 - 35271936*sqrt(2)*t^6*u^8*v^8 - 321408*sqrt(3)*t^3*u^11*v^8 + 233280*sqrt(2)*t^3*u^11*v^8 - 14556672*sqrt(3)*t^8*u^3*v^11 - 123731712*sqrt(2)*t^8*u^3*v^11 - 6065280*sqrt(3)*t^6*u^5*v^11 - 20575296*sqrt(2)*t^6*u^5*v^11 + 1228608*sqrt(3)*t^5*u^6*v^11 + 11967264*sqrt(2)*t^5*u^6*v^11 + 321408*sqrt(3)*t^3*u^8*v^11 - 233280*sqrt(2)*t^3*u^8*v^11 + 3345795072*t^11*u^11 - 40310784*t^9*u^11*v^2 + 6127239168*t^11*u^8*v^3 - 286654464*t^8*u^11*v^3 + 4031078400*t^11*u^6*v^5 + 40310784*t^9*u^8*v^5 - 39470976*t^6*u^11*v^5 + 4031078400*t^11*u^5*v^6 - 291133440*t^8*u^8*v^6 + 31104*sqrt(3)*sqrt(2)*t^4*u^11*v^6 + 14228784*t^5*u^11*v^6 + 6127239168*t^11*u^3*v^8 + 40310784*t^9*u^5*v^8 - 300091392*t^8*u^6*v^8 - 70543872*t^6*u^8*v^8 + 124416*sqrt(3)*sqrt(2)*t^2*u^11*v^8 + 234144*t^3*u^11*v^8 + 3345795072*t^11*v^11 - 40310784*t^9*u^2*v^11 - 247463424*t^8*u^3*v^11 - 41150592*t^6*u^5*v^11 + 451008*sqrt(3)*sqrt(2)*t^4*u^6*v^11 + 17751312*t^5*u^6*v^11 + 155520*sqrt(3)*sqrt(2)*t^2*u^8*v^11 - 234144*t^3*u^8*v^11 - 17169408*sqrt(3)*t^7*u^11*v^3 - 3359232*sqrt(2)*t^7*u^11*v^3 + 622080*sqrt(3)*t^5*u^11*v^5 + 4292352*sqrt(2)*t^5*u^11*v^5 - 7464960*sqrt(3)*t^7*u^8*v^6 - 26873856*sqrt(2)*t^7*u^8*v^6 + 62208*sqrt(3)*t^4*u^11*v^6 - 1399680*sqrt(2)*t^4*u^11*v^6 - 1492992*sqrt(3)*t^7*u^6*v^8 + 622080*sqrt(3)*t^5*u^8*v^8 - 186624*sqrt(2)*t^5*u^8*v^8 + 248832*sqrt(3)*t^2*u^11*v^8 + 279936*sqrt(2)*t^2*u^11*v^8 - 19782144*sqrt(3)*t^7*u^3*v^11 - 15116544*sqrt(2)*t^7*u^3*v^11 - 1244160*sqrt(3)*t^5*u^5*v^11 - 4105728*sqrt(2)*t^5*u^5*v^11 + 902016*sqrt(3)*t^4*u^6*v^11 + 2379456*sqrt(2)*t^4*u^6*v^11 + 311040*sqrt(3)*t^2*u^8*v^11 + 559872*sqrt(2)*t^2*u^8*v^11 - 456855552*t^10*u^11 - 16422912*t^8*u^11*v^2 + 349360128*t^10*u^8*v^3 - 6718464*t^7*u^11*v^3 - 470292480*t^10*u^6*v^5 + 8957952*t^8*u^8*v^5 + 8584704*t^5*u^11*v^5 + 470292480*t^10*u^5*v^6 - 53747712*t^7*u^8*v^6 - 629856*sqrt(3)*sqrt(2)*t^3*u^11*v^6 - 2026944*t^4*u^11*v^6 - 349360128*t^10*u^3*v^8 - 8957952*t^8*u^5*v^8 - 373248*t^5*u^8*v^8 + 15552*sqrt(3)*sqrt(2)*t*u^11*v^8 + 492480*t^2*u^11*v^8 + 456855552*t^10*v^11 + 16422912*t^8*u^2*v^11 - 30233088*t^7*u^3*v^11 - 8211456*t^5*u^5*v^11 - 303264*sqrt(3)*sqrt(2)*t^3*u^6*v^11 + 3781728*t^4*u^6*v^11 - 15552*sqrt(3)*sqrt(2)*t*u^8*v^11 + 922752*t^2*u^8*v^11 + 17169408*sqrt(3)*t^6*u^11*v^3 + 57106944*sqrt(2)*t^6*u^11*v^3 + 2229120*sqrt(3)*t^4*u^11*v^5 + 7791552*sqrt(2)*t^4*u^11*v^5 + 27620352*sqrt(3)*t^6*u^8*v^6 + 63825408*sqrt(2)*t^6*u^8*v^6 - 1259712*sqrt(3)*t^3*u^11*v^6 - 3989088*sqrt(2)*t^3*u^11*v^6 + 746496*sqrt(3)*t^6*u^6*v^8 + 63825408*sqrt(2)*t^6*u^6*v^8 + 3193344*sqrt(3)*t^4*u^8*v^8 + 14370048*sqrt(2)*t^4*u^8*v^8 + 31104*sqrt(3)*t*u^11*v^8 - 46656*sqrt(2)*t*u^11*v^8 + 7091712*sqrt(3)*t^6*u^3*v^11 + 52068096*sqrt(2)*t^6*u^3*v^11 + 1296000*sqrt(3)*t^4*u^5*v^11 + 8071488*sqrt(2)*t^4*u^5*v^11 - 606528*sqrt(3)*t^3*u^6*v^11 - 4408992*sqrt(2)*t^3*u^6*v^11 - 31104*sqrt(3)*t*u^8*v^11 + 46656*sqrt(2)*t*u^8*v^11 - 1325776896*t^9*u^11 + 22394880*t^7*u^11*v^2 - 2588848128*t^9*u^8*v^3 + 114213888*t^6*u^11*v^3 - 1769195520*t^9*u^6*v^5 - 22394880*t^7*u^8*v^5 + 15583104*t^4*u^11*v^5 - 1769195520*t^9*u^5*v^6 + 127650816*t^6*u^8*v^6 + 139968*sqrt(3)*sqrt(2)*t^2*u^11*v^6 - 6255792*t^3*u^11*v^6 - 2588848128*t^9*u^3*v^8 - 22394880*t^7*u^5*v^8 + 127650816*t^6*u^6*v^8 + 28740096*t^4*u^8*v^8 + 2592*sqrt(3)*sqrt(2)*u^11*v^8 - 57888*t*u^11*v^8 - 1325776896*t^9*v^11 + 22394880*t^7*u^2*v^11 + 104136192*t^6*u^3*v^11 + 16142976*t^4*u^5*v^11 - 93312*sqrt(3)*sqrt(2)*t^2*u^6*v^11 - 6652368*t^3*u^6*v^11 - 2592*sqrt(3)*sqrt(2)*u^8*v^11 + 57888*t*u^8*v^11 - 2177280*sqrt(3)*t^5*u^11*v^3 - 9797760*sqrt(2)*t^5*u^11*v^3 - 373248*sqrt(3)*t^3*u^11*v^5 - 1679616*sqrt(2)*t^3*u^11*v^5 - 2301696*sqrt(3)*t^5*u^8*v^6 + 3079296*sqrt(2)*t^5*u^8*v^6 + 279936*sqrt(3)*t^2*u^11*v^6 + 979776*sqrt(2)*t^2*u^11*v^6 - 3297024*sqrt(3)*t^5*u^6*v^8 - 1399680*sqrt(2)*t^5*u^6*v^8 + 5184*sqrt(3)*u^11*v^8 + 23328*sqrt(2)*u^11*v^8 + 2177280*sqrt(3)*t^5*u^3*v^11 + 9797760*sqrt(2)*t^5*u^3*v^11 + 373248*sqrt(3)*t^3*u^5*v^11 + 1679616*sqrt(2)*t^3*u^5*v^11 - 186624*sqrt(3)*t^2*u^6*v^11 - 1119744*sqrt(2)*t^2*u^6*v^11 - 5184*sqrt(3)*u^8*v^11 - 23328*sqrt(2)*u^8*v^11 + 416544768*t^8*u^11 - 8957952*t^6*u^11*v^2 + 107495424*t^8*u^8*v^3 - 19595520*t^5*u^11*v^3 + 161243136*t^8*u^6*v^5 - 13436928*t^6*u^8*v^5 - 3359232*t^3*u^11*v^5 - 161243136*t^8*u^5*v^6 + 6158592*t^5*u^8*v^6 + 77760*sqrt(3)*sqrt(2)*t*u^11*v^6 + 1526688*t^2*u^11*v^6 - 107495424*t^8*u^3*v^8 + 13436928*t^6*u^5*v^8 - 2799360*t^5*u^6*v^8 + 35856*u^11*v^8 - 416544768*t^8*v^11 + 8957952*t^6*u^2*v^11 + 19595520*t^5*u^3*v^11 + 3359232*t^3*u^5*v^11 + 77760*sqrt(3)*sqrt(2)*t*u^6*v^11 - 1700352*t^2*u^6*v^11 - 35856*u^8*v^11 - 2052864*sqrt(3)*t^4*u^11*v^3 - 9237888*sqrt(2)*t^4*u^11*v^3 - 290304*sqrt(3)*t^2*u^11*v^5 - 1306368*sqrt(2)*t^2*u^11*v^5 - 2985984*sqrt(3)*t^4*u^8*v^6 - 13436928*sqrt(2)*t^4*u^8*v^6 + 155520*sqrt(3)*t*u^11*v^6 + 699840*sqrt(2)*t*u^11*v^6 - 2985984*sqrt(3)*t^4*u^6*v^8 - 13436928*sqrt(2)*t^4*u^6*v^8 - 539136*sqrt(3)*t^2*u^8*v^8 - 2426112*sqrt(2)*t^2*u^8*v^8 - 2052864*sqrt(3)*t^4*u^3*v^11 - 9237888*sqrt(2)*t^4*u^3*v^11 - 290304*sqrt(3)*t^2*u^5*v^11 - 1306368*sqrt(2)*t^2*u^5*v^11 + 155520*sqrt(3)*t*u^6*v^11 + 699840*sqrt(2)*t*u^6*v^11 + 192595968*t^7*u^11 - 4478976*t^5*u^11*v^2 + 501645312*t^7*u^8*v^3 - 18475776*t^4*u^11*v^3 + 394149888*t^7*u^6*v^5 + 4478976*t^5*u^8*v^5 - 2612736*t^2*u^11*v^5 + 394149888*t^7*u^5*v^6 - 26873856*t^4*u^8*v^6 - 23328*sqrt(3)*sqrt(2)*u^11*v^6 + 1075680*t*u^11*v^6 + 501645312*t^7*u^3*v^8 + 4478976*t^5*u^5*v^8 - 26873856*t^4*u^6*v^8 - 4852224*t^2*u^8*v^8 + 192595968*t^7*v^11 - 4478976*t^5*u^2*v^11 - 18475776*t^4*u^3*v^11 - 2612736*t^2*u^5*v^11 + 23328*sqrt(3)*sqrt(2)*u^6*v^11 + 1075680*t*u^6*v^11 + 559872*sqrt(3)*t^3*u^11*v^3 + 2519424*sqrt(2)*t^3*u^11*v^3 + 62208*sqrt(3)*t*u^11*v^5 + 279936*sqrt(2)*t*u^11*v^5 - 46656*sqrt(3)*u^11*v^6 - 209952*sqrt(2)*u^11*v^6 - 559872*sqrt(3)*t^3*u^3*v^11 - 2519424*sqrt(2)*t^3*u^3*v^11 - 62208*sqrt(3)*t*u^5*v^11 - 279936*sqrt(2)*t*u^5*v^11 + 46656*sqrt(3)*u^6*v^11 + 209952*sqrt(2)*u^6*v^11 - 97417728*t^6*u^11 + 3359232*t^4*u^11*v^2 - 47029248*t^6*u^8*v^3 + 5038848*t^3*u^11*v^3 - 23514624*t^6*u^6*v^5 + 3359232*t^4*u^8*v^5 + 559872*t*u^11*v^5 + 23514624*t^6*u^5*v^6 - 322704*u^11*v^6 + 47029248*t^6*u^3*v^8 - 3359232*t^4*u^5*v^8 + 97417728*t^6*v^11 - 3359232*t^4*u^2*v^11 - 5038848*t^3*u^3*v^11 - 559872*t*u^5*v^11 + 322704*u^6*v^11 + 186624*sqrt(3)*t^2*u^8*v^6 + 839808*sqrt(2)*t^2*u^8*v^6 + 186624*sqrt(3)*t^2*u^6*v^8 + 839808*sqrt(2)*t^2*u^6*v^8 + 10077696*t^5*u^11 - 20155392*t^5*u^8*v^3 - 30233088*t^5*u^6*v^5 - 30233088*t^5*u^5*v^6 + 1679616*t^2*u^8*v^6 - 20155392*t^5*u^3*v^8 + 1679616*t^2*u^6*v^8 + 10077696*t^5*v^11"
      ]
     },
     "metadata": {},
     "output_type": "display_data"
    }
   ],
   "source": [
    "C12_diff_uvt_numerator = C12_diff_uvt.numerator().expand().combine() ; show(C12_diff_uvt_numerator)"
   ]
  },
  {
   "cell_type": "markdown",
   "id": "e71aa5ba",
   "metadata": {
    "collapsed": false,
    "editable": true,
    "jupyter": {
     "outputs_hidden": false
    },
    "pycharm": {
     "name": "#%% md\n"
    },
    "slideshow": {
     "slide_type": ""
    },
    "tags": []
   },
   "source": [
    "##### Calculates the Möbius coefficient"
   ]
  },
  {
   "cell_type": "code",
   "execution_count": 50,
   "id": "260a4006",
   "metadata": {
    "collapsed": false,
    "jupyter": {
     "outputs_hidden": false
    },
    "pycharm": {
     "name": "#%%\n"
    }
   },
   "outputs": [],
   "source": [
    "coefficient_dict = polynomial_to_dict(C12_diff_uvt_numerator)"
   ]
  },
  {
   "cell_type": "code",
   "execution_count": 51,
   "id": "76059453",
   "metadata": {
    "collapsed": false,
    "jupyter": {
     "outputs_hidden": false
    },
    "pycharm": {
     "name": "#%%\n"
    }
   },
   "outputs": [],
   "source": [
    "variables = C12_diff_uvt_numerator.variables()\n",
    "total_degree  =  [C12_diff_uvt_numerator.degree(j) for j in variables]\n",
    "n_uplas = [\n",
    "    [i, j, k]\n",
    "    for i in range(total_degree[0] + 1)\n",
    "    for j in range(total_degree[1] + 1)\n",
    "    for k in range(total_degree[2] + 1)\n",
    "]"
   ]
  },
  {
   "cell_type": "code",
   "execution_count": 52,
   "id": "8968676d-c455-460a-a062-818fb10f9d57",
   "metadata": {},
   "outputs": [],
   "source": [
    "q1 = 3*t^2 + 2*t + 3 #u\n",
    "q2 = 3*t^2 - 2*t + 3 #v\n",
    "\n",
    "# Calculate the maximum and minimum values of u for interval with endpoints and  for t = 1/2 and t = 1.\n",
    "(u0, u1) = quadratic_extrema_on_interval(q1, (1/2, 1))\n",
    "(v0, v1) = quadratic_extrema_on_interval(q2, (1/2, 1))\n",
    "variable_ranges_0 = [(1/2, 1), (u0, u1), (v0, v1)]\n",
    "\n",
    "all_variable_ranges = [variable_ranges_0]"
   ]
  },
  {
   "cell_type": "code",
   "execution_count": 47,
   "id": "8ee169a7-cbae-466e-95be-615bb4c69c72",
   "metadata": {},
   "outputs": [
    {
     "name": "stdout",
     "output_type": "stream",
     "text": [
      "Starting to calculate the signs of the Möbius coefficients for t in (1/2, 1)\n",
      "\n",
      "\n",
      "Iteration: 100, Elapsed time: 1.99 minutes\n",
      "Partial set of signs of the Möbius coefficients: {1}\n",
      "\n",
      "\n",
      "Iteration: 200, Elapsed time: 3.94 minutes\n",
      "Partial set of signs of the Möbius coefficients: {1}\n",
      "\n",
      "\n",
      "Iteration: 300, Elapsed time: 5.89 minutes\n",
      "Partial set of signs of the Möbius coefficients: {1}\n",
      "\n",
      "\n",
      "Iteration: 400, Elapsed time: 7.98 minutes\n",
      "Partial set of signs of the Möbius coefficients: {1}\n",
      "\n",
      "\n",
      "Iteration: 500, Elapsed time: 9.96 minutes\n",
      "Partial set of signs of the Möbius coefficients: {1}\n",
      "\n",
      "\n",
      "Iteration: 600, Elapsed time: 11.93 minutes\n",
      "Partial set of signs of the Möbius coefficients: {1}\n",
      "\n",
      "\n",
      "Iteration: 700, Elapsed time: 14.05 minutes\n",
      "Partial set of signs of the Möbius coefficients: {1}\n",
      "\n",
      "\n",
      "Iteration: 800, Elapsed time: 16.02 minutes\n",
      "Partial set of signs of the Möbius coefficients: {1}\n",
      "\n",
      "\n",
      "Iteration: 900, Elapsed time: 18.02 minutes\n",
      "Partial set of signs of the Möbius coefficients: {1}\n",
      "\n",
      "\n",
      "Iteration: 1000, Elapsed time: 20.18 minutes\n",
      "Partial set of signs of the Möbius coefficients: {1}\n",
      "\n",
      "\n",
      "Iteration: 1100, Elapsed time: 22.24 minutes\n",
      "Partial set of signs of the Möbius coefficients: {1}\n",
      "\n",
      "\n",
      "Iteration: 1200, Elapsed time: 24.29 minutes\n",
      "Partial set of signs of the Möbius coefficients: {1}\n",
      "\n",
      "\n",
      "Iteration: 1300, Elapsed time: 26.40 minutes\n",
      "Partial set of signs of the Möbius coefficients: {1}\n",
      "\n",
      "\n",
      "Iteration: 1400, Elapsed time: 28.54 minutes\n",
      "Partial set of signs of the Möbius coefficients: {1}\n",
      "\n",
      "\n",
      "Iteration: 1500, Elapsed time: 30.59 minutes\n",
      "Partial set of signs of the Möbius coefficients: {1}\n",
      "\n",
      "\n",
      "Iteration: 1600, Elapsed time: 32.67 minutes\n",
      "Partial set of signs of the Möbius coefficients: {1}\n",
      "\n",
      "\n",
      "Iteration: 1700, Elapsed time: 34.90 minutes\n",
      "Partial set of signs of the Möbius coefficients: {1}\n",
      "\n",
      "\n",
      "Iteration: 1800, Elapsed time: 36.96 minutes\n",
      "Partial set of signs of the Möbius coefficients: {1}\n",
      "\n",
      "\n",
      "Iteration: 1900, Elapsed time: 39.06 minutes\n",
      "Partial set of signs of the Möbius coefficients: {1}\n",
      "\n",
      "\n",
      "Iteration: 2000, Elapsed time: 41.29 minutes\n",
      "Partial set of signs of the Möbius coefficients: {1}\n",
      "\n",
      "\n",
      "Iteration: 2100, Elapsed time: 43.36 minutes\n",
      "Partial set of signs of the Möbius coefficients: {1}\n",
      "\n",
      "\n",
      "Iteration: 2200, Elapsed time: 45.44 minutes\n",
      "Partial set of signs of the Möbius coefficients: {1}\n",
      "\n",
      "\n",
      "Iteration: 2300, Elapsed time: 47.63 minutes\n",
      "Partial set of signs of the Möbius coefficients: {1}\n",
      "\n",
      "\n",
      "Iteration: 2400, Elapsed time: 49.76 minutes\n",
      "Partial set of signs of the Möbius coefficients: {1}\n",
      "\n",
      "\n",
      "Iteration: 2500, Elapsed time: 51.84 minutes\n",
      "Partial set of signs of the Möbius coefficients: {1}\n",
      "\n",
      "\n",
      "Iteration: 2600, Elapsed time: 53.95 minutes\n",
      "Partial set of signs of the Möbius coefficients: {1}\n",
      "\n",
      "\n",
      "Iteration: 2700, Elapsed time: 56.15 minutes\n",
      "Partial set of signs of the Möbius coefficients: {1}\n",
      "\n",
      "\n",
      "Iteration: 2800, Elapsed time: 58.22 minutes\n",
      "Partial set of signs of the Möbius coefficients: {1}\n",
      "\n",
      "\n",
      "Iteration: 2900, Elapsed time: 60.30 minutes\n",
      "Partial set of signs of the Möbius coefficients: {1}\n",
      "\n",
      "\n",
      "Iteration: 3000, Elapsed time: 62.53 minutes\n",
      "Partial set of signs of the Möbius coefficients: {1}\n",
      "\n",
      "\n",
      "Iteration: 3100, Elapsed time: 64.60 minutes\n",
      "Partial set of signs of the Möbius coefficients: {1}\n",
      "\n",
      "\n",
      "Iteration: 3200, Elapsed time: 66.68 minutes\n",
      "Partial set of signs of the Möbius coefficients: {1}\n",
      "\n",
      "\n",
      "Iteration: 3300, Elapsed time: 68.90 minutes\n",
      "Partial set of signs of the Möbius coefficients: {1}\n",
      "\n",
      "\n",
      "Final iteration: 3311. Elapsed time: 69.09 minutes\n",
      "Set of signs of the Möbius coefficients for t in (1/2, 1): {1}.\n",
      "\n",
      "\n"
     ]
    }
   ],
   "source": [
    "# Determines the sign of Möbius coefficients for a given polynomial expression.\n",
    "moebius_sign(C12_diff_uvt_numerator, n_uplas, total_degree, all_variable_ranges, coefficient_dict) #Longtime"
   ]
  },
  {
   "cell_type": "markdown",
   "id": "be6d7c2b-87a4-4a5a-bf80-6ad7105a2935",
   "metadata": {
    "pycharm": {
     "name": "#%% md\n"
    }
   },
   "source": [
    "##### Limit at the extremes"
   ]
  },
  {
   "cell_type": "code",
   "execution_count": 224,
   "id": "e07f8947-43b2-49a2-8047-9861e4ded6bf",
   "metadata": {
    "pycharm": {
     "name": "#%%\n"
    }
   },
   "outputs": [],
   "source": [
    "#bool(limit(C12_diff, t=1/2, dir='+')< 0), bool(limit(C12_diff, t=1, dir='-') > 0)"
   ]
  },
  {
   "cell_type": "code",
   "execution_count": 56,
   "id": "cd890752-ef96-431f-a74d-db14437dec40",
   "metadata": {
    "pycharm": {
     "name": "#%%\n"
    }
   },
   "outputs": [
    {
     "data": {
      "text/plain": [
       "True"
      ]
     },
     "execution_count": 56,
     "metadata": {},
     "output_type": "execute_result"
    }
   ],
   "source": [
    "bool(limit(C12, t=1/2, dir='+') < 0)"
   ]
  },
  {
   "cell_type": "code",
   "execution_count": 57,
   "id": "5806ebc3-a374-4361-ae25-45d843ef57d6",
   "metadata": {},
   "outputs": [
    {
     "data": {
      "text/plain": [
       "+Infinity"
      ]
     },
     "execution_count": 57,
     "metadata": {},
     "output_type": "execute_result"
    }
   ],
   "source": [
    "limit(C12, t=1, dir='-')"
   ]
  },
  {
   "cell_type": "code",
   "execution_count": null,
   "id": "89eb3c3d-01eb-4a55-90f5-2331fa1eeada",
   "metadata": {},
   "outputs": [],
   "source": []
  }
 ],
 "metadata": {
  "kernelspec": {
   "display_name": "SageMath 10.4",
   "language": "sage",
   "name": "sagemath"
  },
  "language_info": {
   "codemirror_mode": {
    "name": "ipython",
    "version": 3
   },
   "file_extension": ".py",
   "mimetype": "text/x-python",
   "name": "python",
   "nbconvert_exporter": "python",
   "pygments_lexer": "ipython3",
   "version": "3.10.15"
  },
  "widgets": {
   "application/vnd.jupyter.widget-state+json": {
    "state": {},
    "version_major": 2,
    "version_minor": 0
   }
  }
 },
 "nbformat": 4,
 "nbformat_minor": 5
}
