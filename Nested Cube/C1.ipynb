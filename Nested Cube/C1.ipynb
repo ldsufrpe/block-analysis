{
 "cells": [
  {
   "cell_type": "markdown",
   "id": "82007163-7921-4aee-8856-538ad8482cbf",
   "metadata": {},
   "source": [
    "## Analyzing the block $C_1$ for the Cube"
   ]
  },
  {
   "cell_type": "code",
   "execution_count": 43,
   "id": "b95506d1-e180-4028-ba5a-119544fb380c",
   "metadata": {},
   "outputs": [],
   "source": [
    "load(\"../util.sage\")"
   ]
  },
  {
   "cell_type": "code",
   "execution_count": 44,
   "id": "6562cb0d-c3aa-4ff8-a0e6-10e087aa0580",
   "metadata": {},
   "outputs": [],
   "source": [
    "C1 = load('blocks/linear_block_1')"
   ]
  },
  {
   "cell_type": "code",
   "execution_count": 45,
   "id": "a4215a58-ea0b-4b2d-8be9-fb6400a58210",
   "metadata": {},
   "outputs": [],
   "source": [
    "# simplify the expression of each block input\n",
    "C1 = C1.apply_map(lambda x: x.simplify_real().combine())\n",
    "\n",
    "# Obtain the simplified expression\n",
    "p1 = simplify_expression(C1.det())"
   ]
  },
  {
   "cell_type": "code",
   "execution_count": 46,
   "id": "159ae0fb-5155-491f-b3b1-ecfaaec78338",
   "metadata": {},
   "outputs": [
    {
     "name": "stdout",
     "output_type": "stream",
     "text": [
      "True\n"
     ]
    }
   ],
   "source": [
    "# checks if p1 was modified after simplification\n",
    "print(bool(p1==C1.det()))\n"
   ]
  },
  {
   "cell_type": "markdown",
   "id": "b50d0e15-96ec-4e82-a37a-dadc6fbb9946",
   "metadata": {},
   "source": [
    "### Proof Lemma 5:\n",
    "#### 1. $\\alpha_1(t)$ is negative for $t$ in $(0,1)$."
   ]
  },
  {
   "cell_type": "markdown",
   "id": "9a8d0a2a-b0c6-45bf-b975-0a78f7c7230e",
   "metadata": {},
   "source": [
    "##### Change of variables:  $v^2 = 3t^2 - 2t + 3$, $u^2=3t^2 + 2t + 3$ and $t=(u^2-v^2)/4$"
   ]
  },
  {
   "cell_type": "code",
   "execution_count": 47,
   "id": "86b77154-501f-4b0b-bdfc-6203fe582b58",
   "metadata": {},
   "outputs": [],
   "source": [
    "γ1 = p1.coefficients()[1][0]"
   ]
  },
  {
   "cell_type": "code",
   "execution_count": 48,
   "id": "aa12c8a7-4b34-4d13-9e2a-03f5e438ff4c",
   "metadata": {},
   "outputs": [],
   "source": [
    "t, u, v = var('t, u, v')\n",
    "assume(u>0); assume(v>0)\n",
    "γ1_uv_numerator = γ1.subs({(3*t^2 - 2*t + 3):v^2}).subs({(3*t^2 + 2*t + 3):u^2}).subs(t=(u^2-v^2)/4).factor().numerator()"
   ]
  },
  {
   "cell_type": "code",
   "execution_count": 49,
   "id": "6b39c4d2-49dc-48a2-9cde-841e191bdd74",
   "metadata": {},
   "outputs": [
    {
     "data": {
      "text/plain": [
       "(sqrt(3), 2*sqrt(2), 2*sqrt(2/3), 2)"
      ]
     },
     "execution_count": 49,
     "metadata": {},
     "output_type": "execute_result"
    }
   ],
   "source": [
    "# Solve 3*t^2 + 2*t + 3 = u^2 for u\n",
    "sol_u = solve(u**2 == 3*t^2 + 2*t + 3, u)[0].rhs()\n",
    "\n",
    "# Solve 3*t^2 - 2*t + 3 = v^2 for v\n",
    "sol_v = solve(v**2 == 3*t^2 - 2*t + 3, v)[0].rhs()\n",
    "\n",
    "# Get the values of u for t=0 and t=1\n",
    "u0 = sol_u(t=0)\n",
    "u1 = sol_u(t=1)\n",
    "\n",
    "# Get the values of v for t=1/3 and t=1\n",
    "v0 = sol_v(t=1/3)\n",
    "v1 = sol_v(t=1)\n",
    "\n",
    "u0, u1, v0, v1"
   ]
  },
  {
   "cell_type": "code",
   "execution_count": 50,
   "id": "d191095d-b752-4170-9b7c-5048e2017a72",
   "metadata": {},
   "outputs": [
    {
     "name": "stdout",
     "output_type": "stream",
     "text": [
      "CPU times: user 8min 6s, sys: 2.46 s, total: 8min 8s\n",
      "Wall time: 8min 2s\n"
     ]
    }
   ],
   "source": [
    "%time new_poly_u_v = subs_mobius_2d_uv(γ1_uv_numerator, u0, u1, v0, v1)\n"
   ]
  },
  {
   "cell_type": "code",
   "execution_count": 51,
   "id": "769eff5d-28be-46d2-89be-93a51c6afdcd",
   "metadata": {},
   "outputs": [
    {
     "name": "stdout",
     "output_type": "stream",
     "text": [
      "CPU times: user 1.97 s, sys: 0 ns, total: 1.97 s\n",
      "Wall time: 1.97 s\n"
     ]
    },
    {
     "data": {
      "text/plain": [
       "False"
      ]
     },
     "execution_count": 51,
     "metadata": {},
     "output_type": "execute_result"
    }
   ],
   "source": [
    "%time has_signal_variations_u_v(new_poly_u_v)"
   ]
  },
  {
   "cell_type": "code",
   "execution_count": 52,
   "id": "be5a10bf-0f2b-46f3-9187-ee591deda941",
   "metadata": {},
   "outputs": [],
   "source": [
    "##### Limit at the extremes"
   ]
  },
  {
   "cell_type": "code",
   "execution_count": 53,
   "id": "989f490a-8266-44f7-921e-2d13b9532f43",
   "metadata": {},
   "outputs": [
    {
     "data": {
      "text/plain": [
       "(-Infinity, -Infinity)"
      ]
     },
     "execution_count": 53,
     "metadata": {},
     "output_type": "execute_result"
    }
   ],
   "source": [
    "limit(γ1, t=0, dir='+'), limit(γ1, t=1, dir='-')"
   ]
  },
  {
   "cell_type": "markdown",
   "id": "0caa09eb-b213-41fd-bdc8-f97dbd52ffd3",
   "metadata": {},
   "source": [
    "#### 2. $\\gamma_0(t)$ is positive for $t$ in $(0,1)$."
   ]
  },
  {
   "cell_type": "code",
   "execution_count": 54,
   "id": "8ec43497-d7c4-4666-905b-896ad160e3a1",
   "metadata": {},
   "outputs": [],
   "source": [
    "γ0 = p1.coefficients()[0][0]"
   ]
  },
  {
   "cell_type": "markdown",
   "id": "f70df760-bfed-4744-a0dc-e78ececd8d0f",
   "metadata": {},
   "source": [
    "##### Change of variables:  $v^2 = 3t^2 - 2t + 3$, $u^2=3t^2 + 2t + 3$ and $t=(u^2-v^2)/4$"
   ]
  },
  {
   "cell_type": "code",
   "execution_count": 55,
   "id": "1a333344-0a8b-487c-8180-94c594906d75",
   "metadata": {},
   "outputs": [],
   "source": [
    "γ0_uv_numerator = γ0.subs({(3*t^2 - 2*t + 3):v^2}).subs({(3*t^2 + 2*t + 3):u^2}).subs(t=(u^2-v^2)/4).factor().numerator(); #show(α10_u_v)"
   ]
  },
  {
   "cell_type": "code",
   "execution_count": null,
   "id": "6b5ab637-ccf5-4f26-8f0b-943fddf2dcf3",
   "metadata": {},
   "outputs": [],
   "source": [
    "%time new_poly_u_v = subs_mobius_2d_uv(γ0_uv_numerator, u0, u1, v0, v1)"
   ]
  },
  {
   "cell_type": "code",
   "execution_count": null,
   "id": "2d078592-c68f-4482-a0a1-5d7d98e4a5b1",
   "metadata": {},
   "outputs": [],
   "source": [
    "%time has_signal_variations_u_v(new_poly_u_v)"
   ]
  },
  {
   "cell_type": "code",
   "execution_count": null,
   "id": "ebf4139e-86d3-4aa0-aaff-f60a17955a2e",
   "metadata": {},
   "outputs": [],
   "source": []
  }
 ],
 "metadata": {
  "kernelspec": {
   "display_name": "SageMath 9.5",
   "language": "sage",
   "name": "sagemath"
  },
  "language_info": {
   "codemirror_mode": {
    "name": "ipython",
    "version": 3
   },
   "file_extension": ".py",
   "mimetype": "text/x-python",
   "name": "python",
   "nbconvert_exporter": "python",
   "pygments_lexer": "ipython3",
   "version": "3.10.12"
  }
 },
 "nbformat": 4,
 "nbformat_minor": 5
}
