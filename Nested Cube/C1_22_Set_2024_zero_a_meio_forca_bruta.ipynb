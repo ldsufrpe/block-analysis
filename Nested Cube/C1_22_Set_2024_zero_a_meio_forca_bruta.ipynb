{
 "cells": [
  {
   "cell_type": "markdown",
   "id": "633496ff",
   "metadata": {},
   "source": [
    "## Analyzing the block $C_1$ for the Cube"
   ]
  },
  {
   "cell_type": "code",
   "execution_count": 2,
   "id": "597a5f63",
   "metadata": {},
   "outputs": [],
   "source": [
    "load(\"../util.sage\")"
   ]
  },
  {
   "cell_type": "code",
   "execution_count": 3,
   "id": "1b9dd1cf",
   "metadata": {},
   "outputs": [],
   "source": [
    "C1 = load('blocks/linear_block_1')"
   ]
  },
  {
   "cell_type": "code",
   "execution_count": 4,
   "id": "9c795d56",
   "metadata": {},
   "outputs": [
    {
     "data": {
      "text/html": [
       "<html>\\(\\displaystyle \\left(\\begin{array}{rr}\n",
       "24 \\, c - \\frac{1}{12} \\, \\sqrt{3} - \\frac{3}{8} \\, \\sqrt{2} - \\frac{3}{4} & 24 \\, c - \\frac{\\frac{1}{3} \\, \\sqrt{3} t}{t^{3} + 3 \\, t^{2} + 3 \\, t + 1} - \\frac{\\frac{1}{3} \\, \\sqrt{3}}{t^{3} + 3 \\, t^{2} + 3 \\, t + 1} - \\frac{3 \\, t}{{\\left(3 \\, t^{2} + 2 \\, t + 3\\right)}^{\\frac{3}{2}}} + \\frac{3 \\, t}{{\\left(3 \\, t^{2} - 2 \\, t + 3\\right)}^{\\frac{3}{2}}} - \\frac{9}{{\\left(3 \\, t^{2} + 2 \\, t + 3\\right)}^{\\frac{3}{2}}} - \\frac{9}{{\\left(3 \\, t^{2} - 2 \\, t + 3\\right)}^{\\frac{3}{2}}} + \\frac{\\frac{1}{3} \\, \\sqrt{3} t}{{\\left| t - 1 \\right|}^{3}} - \\frac{\\frac{1}{3} \\, \\sqrt{3}}{{\\left| t - 1 \\right|}^{3}} \\\\\n",
       "24 \\, c t - \\frac{\\frac{1}{3} \\, \\sqrt{3} t}{t^{3} + 3 \\, t^{2} + 3 \\, t + 1} - \\frac{\\frac{1}{3} \\, \\sqrt{3}}{t^{3} + 3 \\, t^{2} + 3 \\, t + 1} - \\frac{9 \\, t}{{\\left(3 \\, t^{2} + 2 \\, t + 3\\right)}^{\\frac{3}{2}}} - \\frac{9 \\, t}{{\\left(3 \\, t^{2} - 2 \\, t + 3\\right)}^{\\frac{3}{2}}} - \\frac{3}{{\\left(3 \\, t^{2} + 2 \\, t + 3\\right)}^{\\frac{3}{2}}} + \\frac{3}{{\\left(3 \\, t^{2} - 2 \\, t + 3\\right)}^{\\frac{3}{2}}} - \\frac{\\frac{1}{3} \\, \\sqrt{3} t}{{\\left| t - 1 \\right|}^{3}} + \\frac{\\frac{1}{3} \\, \\sqrt{3}}{{\\left| t - 1 \\right|}^{3}} & 24 \\, c t - \\frac{\\frac{1}{12} \\, \\sqrt{3}}{t^{2}} - \\frac{\\frac{3}{8} \\, \\sqrt{2}}{t^{2}} - \\frac{\\frac{3}{4}}{t^{2}}\n",
       "\\end{array}\\right)\\)</html>"
      ],
      "text/latex": [
       "$\\displaystyle \\left(\\begin{array}{rr}\n",
       "24 \\, c - \\frac{1}{12} \\, \\sqrt{3} - \\frac{3}{8} \\, \\sqrt{2} - \\frac{3}{4} & 24 \\, c - \\frac{\\frac{1}{3} \\, \\sqrt{3} t}{t^{3} + 3 \\, t^{2} + 3 \\, t + 1} - \\frac{\\frac{1}{3} \\, \\sqrt{3}}{t^{3} + 3 \\, t^{2} + 3 \\, t + 1} - \\frac{3 \\, t}{{\\left(3 \\, t^{2} + 2 \\, t + 3\\right)}^{\\frac{3}{2}}} + \\frac{3 \\, t}{{\\left(3 \\, t^{2} - 2 \\, t + 3\\right)}^{\\frac{3}{2}}} - \\frac{9}{{\\left(3 \\, t^{2} + 2 \\, t + 3\\right)}^{\\frac{3}{2}}} - \\frac{9}{{\\left(3 \\, t^{2} - 2 \\, t + 3\\right)}^{\\frac{3}{2}}} + \\frac{\\frac{1}{3} \\, \\sqrt{3} t}{{\\left| t - 1 \\right|}^{3}} - \\frac{\\frac{1}{3} \\, \\sqrt{3}}{{\\left| t - 1 \\right|}^{3}} \\\\\n",
       "24 \\, c t - \\frac{\\frac{1}{3} \\, \\sqrt{3} t}{t^{3} + 3 \\, t^{2} + 3 \\, t + 1} - \\frac{\\frac{1}{3} \\, \\sqrt{3}}{t^{3} + 3 \\, t^{2} + 3 \\, t + 1} - \\frac{9 \\, t}{{\\left(3 \\, t^{2} + 2 \\, t + 3\\right)}^{\\frac{3}{2}}} - \\frac{9 \\, t}{{\\left(3 \\, t^{2} - 2 \\, t + 3\\right)}^{\\frac{3}{2}}} - \\frac{3}{{\\left(3 \\, t^{2} + 2 \\, t + 3\\right)}^{\\frac{3}{2}}} + \\frac{3}{{\\left(3 \\, t^{2} - 2 \\, t + 3\\right)}^{\\frac{3}{2}}} - \\frac{\\frac{1}{3} \\, \\sqrt{3} t}{{\\left| t - 1 \\right|}^{3}} + \\frac{\\frac{1}{3} \\, \\sqrt{3}}{{\\left| t - 1 \\right|}^{3}} & 24 \\, c t - \\frac{\\frac{1}{12} \\, \\sqrt{3}}{t^{2}} - \\frac{\\frac{3}{8} \\, \\sqrt{2}}{t^{2}} - \\frac{\\frac{3}{4}}{t^{2}}\n",
       "\\end{array}\\right)$"
      ],
      "text/plain": [
       "[                                                                                                                                                                                                                         24*c - 1/12*sqrt(3) - 3/8*sqrt(2) - 3/4   24*c - 1/3*sqrt(3)*t/(t^3 + 3*t^2 + 3*t + 1) - 1/3*sqrt(3)/(t^3 + 3*t^2 + 3*t + 1) - 3*t/(3*t^2 + 2*t + 3)^(3/2) + 3*t/(3*t^2 - 2*t + 3)^(3/2) - 9/(3*t^2 + 2*t + 3)^(3/2) - 9/(3*t^2 - 2*t + 3)^(3/2) + 1/3*sqrt(3)*t/abs(t - 1)^3 - 1/3*sqrt(3)/abs(t - 1)^3]\n",
       "[24*c*t - 1/3*sqrt(3)*t/(t^3 + 3*t^2 + 3*t + 1) - 1/3*sqrt(3)/(t^3 + 3*t^2 + 3*t + 1) - 9*t/(3*t^2 + 2*t + 3)^(3/2) - 9*t/(3*t^2 - 2*t + 3)^(3/2) - 3/(3*t^2 + 2*t + 3)^(3/2) + 3/(3*t^2 - 2*t + 3)^(3/2) - 1/3*sqrt(3)*t/abs(t - 1)^3 + 1/3*sqrt(3)/abs(t - 1)^3                                                                                                                                                                                                            24*c*t - 1/12*sqrt(3)/t^2 - 3/8*sqrt(2)/t^2 - 3/4/t^2]"
      ]
     },
     "metadata": {},
     "output_type": "display_data"
    }
   ],
   "source": [
    "show(C1)"
   ]
  },
  {
   "cell_type": "code",
   "execution_count": 5,
   "id": "f19a18a7-7ff1-4b7d-9c38-ef680318a044",
   "metadata": {},
   "outputs": [
    {
     "data": {
      "text/html": [
       "<html>\\(\\displaystyle \\left(\\begin{array}{rr}\n",
       "24 \\, c - \\frac{1}{12} \\, \\sqrt{3} - \\frac{3}{8} \\, \\sqrt{2} - \\frac{3}{4} & 24 \\, c - \\frac{\\sqrt{3} t + \\sqrt{3}}{3 \\, {\\left(t^{3} + 3 \\, t^{2} + 3 \\, t + 1\\right)}} - \\frac{3 \\, {\\left(t + 3\\right)}}{{\\left(3 \\, t^{2} + 2 \\, t + 3\\right)}^{\\frac{3}{2}}} + \\frac{3 \\, {\\left(t - 3\\right)}}{{\\left(3 \\, t^{2} - 2 \\, t + 3\\right)}^{\\frac{3}{2}}} - \\frac{\\sqrt{3} t - \\sqrt{3}}{3 \\, {\\left(t - 1\\right)}^{3}} \\\\\n",
       "24 \\, c t - \\frac{\\sqrt{3} t + \\sqrt{3}}{3 \\, {\\left(t^{3} + 3 \\, t^{2} + 3 \\, t + 1\\right)}} - \\frac{3 \\, {\\left(3 \\, t + 1\\right)}}{{\\left(3 \\, t^{2} + 2 \\, t + 3\\right)}^{\\frac{3}{2}}} - \\frac{3 \\, {\\left(3 \\, t - 1\\right)}}{{\\left(3 \\, t^{2} - 2 \\, t + 3\\right)}^{\\frac{3}{2}}} + \\frac{\\sqrt{3} t - \\sqrt{3}}{3 \\, {\\left(t - 1\\right)}^{3}} & 24 \\, c t - \\frac{2 \\, \\sqrt{3} + 9 \\, \\sqrt{2} + 18}{24 \\, t^{2}}\n",
       "\\end{array}\\right)\\)</html>"
      ],
      "text/latex": [
       "$\\displaystyle \\left(\\begin{array}{rr}\n",
       "24 \\, c - \\frac{1}{12} \\, \\sqrt{3} - \\frac{3}{8} \\, \\sqrt{2} - \\frac{3}{4} & 24 \\, c - \\frac{\\sqrt{3} t + \\sqrt{3}}{3 \\, {\\left(t^{3} + 3 \\, t^{2} + 3 \\, t + 1\\right)}} - \\frac{3 \\, {\\left(t + 3\\right)}}{{\\left(3 \\, t^{2} + 2 \\, t + 3\\right)}^{\\frac{3}{2}}} + \\frac{3 \\, {\\left(t - 3\\right)}}{{\\left(3 \\, t^{2} - 2 \\, t + 3\\right)}^{\\frac{3}{2}}} - \\frac{\\sqrt{3} t - \\sqrt{3}}{3 \\, {\\left(t - 1\\right)}^{3}} \\\\\n",
       "24 \\, c t - \\frac{\\sqrt{3} t + \\sqrt{3}}{3 \\, {\\left(t^{3} + 3 \\, t^{2} + 3 \\, t + 1\\right)}} - \\frac{3 \\, {\\left(3 \\, t + 1\\right)}}{{\\left(3 \\, t^{2} + 2 \\, t + 3\\right)}^{\\frac{3}{2}}} - \\frac{3 \\, {\\left(3 \\, t - 1\\right)}}{{\\left(3 \\, t^{2} - 2 \\, t + 3\\right)}^{\\frac{3}{2}}} + \\frac{\\sqrt{3} t - \\sqrt{3}}{3 \\, {\\left(t - 1\\right)}^{3}} & 24 \\, c t - \\frac{2 \\, \\sqrt{3} + 9 \\, \\sqrt{2} + 18}{24 \\, t^{2}}\n",
       "\\end{array}\\right)$"
      ],
      "text/plain": [
       "[                                                                                                                                     24*c - 1/12*sqrt(3) - 3/8*sqrt(2) - 3/4       24*c - 1/3*(sqrt(3)*t + sqrt(3))/(t^3 + 3*t^2 + 3*t + 1) - 3*(t + 3)/(3*t^2 + 2*t + 3)^(3/2) + 3*(t - 3)/(3*t^2 - 2*t + 3)^(3/2) - 1/3*(sqrt(3)*t - sqrt(3))/(t - 1)^3]\n",
       "[24*c*t - 1/3*(sqrt(3)*t + sqrt(3))/(t^3 + 3*t^2 + 3*t + 1) - 3*(3*t + 1)/(3*t^2 + 2*t + 3)^(3/2) - 3*(3*t - 1)/(3*t^2 - 2*t + 3)^(3/2) + 1/3*(sqrt(3)*t - sqrt(3))/(t - 1)^3                                                                                                                               24*c*t - 1/24*(2*sqrt(3) + 9*sqrt(2) + 18)/t^2]"
      ]
     },
     "metadata": {},
     "output_type": "display_data"
    }
   ],
   "source": [
    "# simplify the expression of each block input\n",
    "C1 = C1.apply_map(lambda x: x.simplify_real().combine()); show(C1)"
   ]
  },
  {
   "cell_type": "code",
   "execution_count": 6,
   "id": "48d47173",
   "metadata": {},
   "outputs": [
    {
     "data": {
      "text/html": [
       "<html>\\(\\displaystyle \\left(\\begin{array}{rr}\n",
       "24 \\, c - \\frac{1}{12} \\, \\sqrt{3} - \\frac{3}{8} \\, \\sqrt{2} - \\frac{3}{4} & 24 \\, c - \\frac{\\sqrt{3} t + \\sqrt{3}}{3 \\, {\\left(t^{3} + 3 \\, t^{2} + 3 \\, t + 1\\right)}} - \\frac{3 \\, {\\left(t + 3\\right)}}{{\\left(3 \\, t^{2} + 2 \\, t + 3\\right)} u} + \\frac{3 \\, {\\left(t - 3\\right)}}{{\\left(3 \\, t^{2} - 2 \\, t + 3\\right)} v} - \\frac{\\sqrt{3} t - \\sqrt{3}}{3 \\, {\\left(t - 1\\right)}^{3}} \\\\\n",
       "24 \\, c t - \\frac{\\sqrt{3} t + \\sqrt{3}}{3 \\, {\\left(t^{3} + 3 \\, t^{2} + 3 \\, t + 1\\right)}} - \\frac{3 \\, {\\left(3 \\, t + 1\\right)}}{{\\left(3 \\, t^{2} + 2 \\, t + 3\\right)} u} - \\frac{3 \\, {\\left(3 \\, t - 1\\right)}}{{\\left(3 \\, t^{2} - 2 \\, t + 3\\right)} v} + \\frac{\\sqrt{3} t - \\sqrt{3}}{3 \\, {\\left(t - 1\\right)}^{3}} & 24 \\, c t - \\frac{2 \\, \\sqrt{3} + 9 \\, \\sqrt{2} + 18}{24 \\, t^{2}}\n",
       "\\end{array}\\right)\\)</html>"
      ],
      "text/latex": [
       "$\\displaystyle \\left(\\begin{array}{rr}\n",
       "24 \\, c - \\frac{1}{12} \\, \\sqrt{3} - \\frac{3}{8} \\, \\sqrt{2} - \\frac{3}{4} & 24 \\, c - \\frac{\\sqrt{3} t + \\sqrt{3}}{3 \\, {\\left(t^{3} + 3 \\, t^{2} + 3 \\, t + 1\\right)}} - \\frac{3 \\, {\\left(t + 3\\right)}}{{\\left(3 \\, t^{2} + 2 \\, t + 3\\right)} u} + \\frac{3 \\, {\\left(t - 3\\right)}}{{\\left(3 \\, t^{2} - 2 \\, t + 3\\right)} v} - \\frac{\\sqrt{3} t - \\sqrt{3}}{3 \\, {\\left(t - 1\\right)}^{3}} \\\\\n",
       "24 \\, c t - \\frac{\\sqrt{3} t + \\sqrt{3}}{3 \\, {\\left(t^{3} + 3 \\, t^{2} + 3 \\, t + 1\\right)}} - \\frac{3 \\, {\\left(3 \\, t + 1\\right)}}{{\\left(3 \\, t^{2} + 2 \\, t + 3\\right)} u} - \\frac{3 \\, {\\left(3 \\, t - 1\\right)}}{{\\left(3 \\, t^{2} - 2 \\, t + 3\\right)} v} + \\frac{\\sqrt{3} t - \\sqrt{3}}{3 \\, {\\left(t - 1\\right)}^{3}} & 24 \\, c t - \\frac{2 \\, \\sqrt{3} + 9 \\, \\sqrt{2} + 18}{24 \\, t^{2}}\n",
       "\\end{array}\\right)$"
      ],
      "text/plain": [
       "[                                                                                                                                 24*c - 1/12*sqrt(3) - 3/8*sqrt(2) - 3/4       24*c - 1/3*(sqrt(3)*t + sqrt(3))/(t^3 + 3*t^2 + 3*t + 1) - 3*(t + 3)/((3*t^2 + 2*t + 3)*u) + 3*(t - 3)/((3*t^2 - 2*t + 3)*v) - 1/3*(sqrt(3)*t - sqrt(3))/(t - 1)^3]\n",
       "[24*c*t - 1/3*(sqrt(3)*t + sqrt(3))/(t^3 + 3*t^2 + 3*t + 1) - 3*(3*t + 1)/((3*t^2 + 2*t + 3)*u) - 3*(3*t - 1)/((3*t^2 - 2*t + 3)*v) + 1/3*(sqrt(3)*t - sqrt(3))/(t - 1)^3                                                                                                                           24*c*t - 1/24*(2*sqrt(3) + 9*sqrt(2) + 18)/t^2]"
      ]
     },
     "metadata": {},
     "output_type": "display_data"
    }
   ],
   "source": [
    "C1s = C1.apply_map(lambda x: x.subs({ (3*t^2 - 2*t + 3) : ((3*t^2 - 2*t + 3)^(2/3)*(v^(2/3))) }).subs({ (3*t^2 + 2*t + 3) : ((3*t^2 + 2*t + 3)^(2/3)*(u^(2/3))) })); \n",
    "show(C1s)"
   ]
  },
  {
   "cell_type": "code",
   "execution_count": 7,
   "id": "cbfce732-d788-4685-ba8a-3e0f06265721",
   "metadata": {},
   "outputs": [
    {
     "data": {
      "text/html": [
       "<html>\\(\\displaystyle \\frac{1}{576} \\, {\\left(576 \\, c t - \\frac{2 \\, \\sqrt{3} + 9 \\, \\sqrt{2} + 18}{t^{2}}\\right)} {\\left(576 \\, c - 2 \\, \\sqrt{3} - 9 \\, \\sqrt{2} - 18\\right)} - \\frac{1}{9} \\, {\\left(72 \\, c t - \\frac{\\sqrt{3} t + \\sqrt{3}}{t^{3} + 3 \\, t^{2} + 3 \\, t + 1} - \\frac{9 \\, {\\left(3 \\, t + 1\\right)}}{{\\left(3 \\, t^{2} + 2 \\, t + 3\\right)} u} - \\frac{9 \\, {\\left(3 \\, t - 1\\right)}}{{\\left(3 \\, t^{2} - 2 \\, t + 3\\right)} v} + \\frac{\\sqrt{3} t - \\sqrt{3}}{{\\left(t - 1\\right)}^{3}}\\right)} {\\left(72 \\, c - \\frac{\\sqrt{3} t + \\sqrt{3}}{t^{3} + 3 \\, t^{2} + 3 \\, t + 1} - \\frac{9 \\, {\\left(t + 3\\right)}}{{\\left(3 \\, t^{2} + 2 \\, t + 3\\right)} u} + \\frac{9 \\, {\\left(t - 3\\right)}}{{\\left(3 \\, t^{2} - 2 \\, t + 3\\right)} v} - \\frac{\\sqrt{3} t - \\sqrt{3}}{{\\left(t - 1\\right)}^{3}}\\right)}\\)</html>"
      ],
      "text/latex": [
       "$\\displaystyle \\frac{1}{576} \\, {\\left(576 \\, c t - \\frac{2 \\, \\sqrt{3} + 9 \\, \\sqrt{2} + 18}{t^{2}}\\right)} {\\left(576 \\, c - 2 \\, \\sqrt{3} - 9 \\, \\sqrt{2} - 18\\right)} - \\frac{1}{9} \\, {\\left(72 \\, c t - \\frac{\\sqrt{3} t + \\sqrt{3}}{t^{3} + 3 \\, t^{2} + 3 \\, t + 1} - \\frac{9 \\, {\\left(3 \\, t + 1\\right)}}{{\\left(3 \\, t^{2} + 2 \\, t + 3\\right)} u} - \\frac{9 \\, {\\left(3 \\, t - 1\\right)}}{{\\left(3 \\, t^{2} - 2 \\, t + 3\\right)} v} + \\frac{\\sqrt{3} t - \\sqrt{3}}{{\\left(t - 1\\right)}^{3}}\\right)} {\\left(72 \\, c - \\frac{\\sqrt{3} t + \\sqrt{3}}{t^{3} + 3 \\, t^{2} + 3 \\, t + 1} - \\frac{9 \\, {\\left(t + 3\\right)}}{{\\left(3 \\, t^{2} + 2 \\, t + 3\\right)} u} + \\frac{9 \\, {\\left(t - 3\\right)}}{{\\left(3 \\, t^{2} - 2 \\, t + 3\\right)} v} - \\frac{\\sqrt{3} t - \\sqrt{3}}{{\\left(t - 1\\right)}^{3}}\\right)}$"
      ],
      "text/plain": [
       "1/576*(576*c*t - (2*sqrt(3) + 9*sqrt(2) + 18)/t^2)*(576*c - 2*sqrt(3) - 9*sqrt(2) - 18) - 1/9*(72*c*t - (sqrt(3)*t + sqrt(3))/(t^3 + 3*t^2 + 3*t + 1) - 9*(3*t + 1)/((3*t^2 + 2*t + 3)*u) - 9*(3*t - 1)/((3*t^2 - 2*t + 3)*v) + (sqrt(3)*t - sqrt(3))/(t - 1)^3)*(72*c - (sqrt(3)*t + sqrt(3))/(t^3 + 3*t^2 + 3*t + 1) - 9*(t + 3)/((3*t^2 + 2*t + 3)*u) + 9*(t - 3)/((3*t^2 - 2*t + 3)*v) - (sqrt(3)*t - sqrt(3))/(t - 1)^3)"
      ]
     },
     "metadata": {},
     "output_type": "display_data"
    }
   ],
   "source": [
    "# Obtain the simplified expression\n",
    "#p1 = simplify_expression(C1.det());\n",
    "p1s =C1s.det();\n",
    "show(p1s)"
   ]
  },
  {
   "cell_type": "code",
   "execution_count": 27,
   "id": "ef710b1a-0d04-4370-9153-b90a7e1d6661",
   "metadata": {},
   "outputs": [
    {
     "data": {
      "text/plain": [
       "(sqrt(3), 2*sqrt(2), 2*sqrt(2/3), sqrt(3))"
      ]
     },
     "execution_count": 27,
     "metadata": {},
     "output_type": "execute_result"
    }
   ],
   "source": [
    "# Calculate the values of u for t = 0 and t = 1\n",
    "\n",
    "# Solve 3*t^2 + 2*t + 3 = u^2 for u\n",
    "sol_u = solve(u**2 == 3*t^2 + 2*t + 3, u)[0].rhs()\n",
    "\n",
    "# Solve 3*t^2 - 2*t + 3 = v^2 for v\n",
    "sol_v = solve(v**2 == 3*t^2 - 2*t + 3, v)[0].rhs()\n",
    "\n",
    "# Get the values maximum for u with t in [0,1/2]\n",
    "u0 = sol_u(t=0)\n",
    "u1 = sol_u(t=1)\n",
    "\n",
    "# Get the values maximum for u with t in [0,1/2]\n",
    "v0 = sol_v(t=1/3)\n",
    "v1 = sol_v(t=0)\n",
    "\n",
    "u0, u1, v0, v1"
   ]
  },
  {
   "cell_type": "code",
   "execution_count": 28,
   "id": "2b868dbf",
   "metadata": {},
   "outputs": [],
   "source": [
    "t = var('t')"
   ]
  },
  {
   "cell_type": "code",
   "execution_count": 29,
   "id": "d8defa90",
   "metadata": {},
   "outputs": [
    {
     "data": {
      "image/png": "[encoded data removed]",
      "text/plain": [
       "Graphics object consisting of 2 graphics primitives"
      ]
     },
     "execution_count": 29,
     "metadata": {},
     "output_type": "execute_result"
    }
   ],
   "source": [
    "plot(3*t^2 + 2*t + 3,(t, 0, 1/2), color='red', legend_label = 'u')+plot(3*t^2 - 2*t + 3, (t,0,1/2))"
   ]
  },
  {
   "cell_type": "code",
   "execution_count": 30,
   "id": "d61c28a9",
   "metadata": {},
   "outputs": [
    {
     "data": {
      "text/html": [
       "<html>\\(\\displaystyle -2 \\, \\sqrt{3} t - 9 \\, \\sqrt{2} t + \\frac{8 \\, \\sqrt{3} t^{2}}{t^{3} + 3 \\, t^{2} + 3 \\, t + 1} + \\frac{8 \\, \\sqrt{3} t^{2}}{t^{3} - 3 \\, t^{2} + 3 \\, t - 1} - 18 \\, t + \\frac{16 \\, \\sqrt{3} t}{t^{3} + 3 \\, t^{2} + 3 \\, t + 1} - \\frac{16 \\, \\sqrt{3} t}{t^{3} - 3 \\, t^{2} + 3 \\, t - 1} + \\frac{72 \\, t^{2}}{{\\left(3 \\, t^{2} + 2 \\, t + 3\\right)} u} - \\frac{72 \\, t^{2}}{{\\left(3 \\, t^{2} - 2 \\, t + 3\\right)} v} + \\frac{8 \\, \\sqrt{3}}{t^{3} + 3 \\, t^{2} + 3 \\, t + 1} + \\frac{8 \\, \\sqrt{3}}{t^{3} - 3 \\, t^{2} + 3 \\, t - 1} + \\frac{432 \\, t}{{\\left(3 \\, t^{2} + 2 \\, t + 3\\right)} u} + \\frac{432 \\, t}{{\\left(3 \\, t^{2} - 2 \\, t + 3\\right)} v} - \\frac{2 \\, \\sqrt{3}}{t^{2}} - \\frac{9 \\, \\sqrt{2}}{t^{2}} - \\frac{18}{t^{2}} + \\frac{72}{{\\left(3 \\, t^{2} + 2 \\, t + 3\\right)} u} - \\frac{72}{{\\left(3 \\, t^{2} - 2 \\, t + 3\\right)} v}\\)</html>"
      ],
      "text/latex": [
       "$\\displaystyle -2 \\, \\sqrt{3} t - 9 \\, \\sqrt{2} t + \\frac{8 \\, \\sqrt{3} t^{2}}{t^{3} + 3 \\, t^{2} + 3 \\, t + 1} + \\frac{8 \\, \\sqrt{3} t^{2}}{t^{3} - 3 \\, t^{2} + 3 \\, t - 1} - 18 \\, t + \\frac{16 \\, \\sqrt{3} t}{t^{3} + 3 \\, t^{2} + 3 \\, t + 1} - \\frac{16 \\, \\sqrt{3} t}{t^{3} - 3 \\, t^{2} + 3 \\, t - 1} + \\frac{72 \\, t^{2}}{{\\left(3 \\, t^{2} + 2 \\, t + 3\\right)} u} - \\frac{72 \\, t^{2}}{{\\left(3 \\, t^{2} - 2 \\, t + 3\\right)} v} + \\frac{8 \\, \\sqrt{3}}{t^{3} + 3 \\, t^{2} + 3 \\, t + 1} + \\frac{8 \\, \\sqrt{3}}{t^{3} - 3 \\, t^{2} + 3 \\, t - 1} + \\frac{432 \\, t}{{\\left(3 \\, t^{2} + 2 \\, t + 3\\right)} u} + \\frac{432 \\, t}{{\\left(3 \\, t^{2} - 2 \\, t + 3\\right)} v} - \\frac{2 \\, \\sqrt{3}}{t^{2}} - \\frac{9 \\, \\sqrt{2}}{t^{2}} - \\frac{18}{t^{2}} + \\frac{72}{{\\left(3 \\, t^{2} + 2 \\, t + 3\\right)} u} - \\frac{72}{{\\left(3 \\, t^{2} - 2 \\, t + 3\\right)} v}$"
      ],
      "text/plain": [
       "-2*sqrt(3)*t - 9*sqrt(2)*t + 8*sqrt(3)*t^2/(t^3 + 3*t^2 + 3*t + 1) + 8*sqrt(3)*t^2/(t^3 - 3*t^2 + 3*t - 1) - 18*t + 16*sqrt(3)*t/(t^3 + 3*t^2 + 3*t + 1) - 16*sqrt(3)*t/(t^3 - 3*t^2 + 3*t - 1) + 72*t^2/((3*t^2 + 2*t + 3)*u) - 72*t^2/((3*t^2 - 2*t + 3)*v) + 8*sqrt(3)/(t^3 + 3*t^2 + 3*t + 1) + 8*sqrt(3)/(t^3 - 3*t^2 + 3*t - 1) + 432*t/((3*t^2 + 2*t + 3)*u) + 432*t/((3*t^2 - 2*t + 3)*v) - 2*sqrt(3)/t^2 - 9*sqrt(2)/t^2 - 18/t^2 + 72/((3*t^2 + 2*t + 3)*u) - 72/((3*t^2 - 2*t + 3)*v)"
      ]
     },
     "metadata": {},
     "output_type": "display_data"
    }
   ],
   "source": [
    "γ1 = p1s.coefficients()[1][0]; show(γ1)"
   ]
  },
  {
   "cell_type": "code",
   "execution_count": 31,
   "id": "5abb30fc",
   "metadata": {},
   "outputs": [
    {
     "data": {
      "text/html": [
       "<html>\\(\\displaystyle -\\frac{t^{2}}{3 \\, {\\left(t^{3} + 3 \\, t^{2} + 3 \\, t + 1\\right)}^{2}} + \\frac{t^{2}}{3 \\, {\\left(t^{3} - 3 \\, t^{2} + 3 \\, t - 1\\right)}^{2}} - \\frac{4 \\, \\sqrt{3} t^{2}}{{\\left(t^{3} + 3 \\, t^{2} + 3 \\, t + 1\\right)} {\\left(3 \\, t^{2} + 2 \\, t + 3\\right)} u} - \\frac{2 \\, \\sqrt{3} t^{2}}{{\\left(t^{3} - 3 \\, t^{2} + 3 \\, t - 1\\right)} {\\left(3 \\, t^{2} + 2 \\, t + 3\\right)} u} - \\frac{2 \\, \\sqrt{3} t^{2}}{{\\left(t^{3} + 3 \\, t^{2} + 3 \\, t + 1\\right)} {\\left(3 \\, t^{2} - 2 \\, t + 3\\right)} v} - \\frac{4 \\, \\sqrt{3} t^{2}}{{\\left(t^{3} - 3 \\, t^{2} + 3 \\, t - 1\\right)} {\\left(3 \\, t^{2} - 2 \\, t + 3\\right)} v} + \\frac{\\sqrt{3} \\sqrt{2}}{16 \\, t^{2}} - \\frac{2 \\, t}{3 \\, {\\left(t^{3} + 3 \\, t^{2} + 3 \\, t + 1\\right)}^{2}} - \\frac{2 \\, t}{3 \\, {\\left(t^{3} - 3 \\, t^{2} + 3 \\, t - 1\\right)}^{2}} + \\frac{\\sqrt{3}}{8 \\, t^{2}} + \\frac{9 \\, \\sqrt{2}}{16 \\, t^{2}} - \\frac{8 \\, \\sqrt{3} t}{{\\left(t^{3} + 3 \\, t^{2} + 3 \\, t + 1\\right)} {\\left(3 \\, t^{2} + 2 \\, t + 3\\right)} u} + \\frac{4 \\, \\sqrt{3} t}{{\\left(t^{3} - 3 \\, t^{2} + 3 \\, t - 1\\right)} {\\left(3 \\, t^{2} + 2 \\, t + 3\\right)} u} - \\frac{4 \\, \\sqrt{3} t}{{\\left(t^{3} + 3 \\, t^{2} + 3 \\, t + 1\\right)} {\\left(3 \\, t^{2} - 2 \\, t + 3\\right)} v} + \\frac{8 \\, \\sqrt{3} t}{{\\left(t^{3} - 3 \\, t^{2} + 3 \\, t - 1\\right)} {\\left(3 \\, t^{2} - 2 \\, t + 3\\right)} v} - \\frac{1}{3 \\, {\\left(t^{3} + 3 \\, t^{2} + 3 \\, t + 1\\right)}^{2}} + \\frac{1}{3 \\, {\\left(t^{3} - 3 \\, t^{2} + 3 \\, t - 1\\right)}^{2}} + \\frac{83}{96 \\, t^{2}} - \\frac{27 \\, t^{2}}{{\\left(3 \\, t^{2} + 2 \\, t + 3\\right)}^{2} u^{2}} + \\frac{27 \\, t^{2}}{{\\left(3 \\, t^{2} - 2 \\, t + 3\\right)}^{2} v^{2}} - \\frac{4 \\, \\sqrt{3}}{{\\left(t^{3} + 3 \\, t^{2} + 3 \\, t + 1\\right)} {\\left(3 \\, t^{2} + 2 \\, t + 3\\right)} u} - \\frac{2 \\, \\sqrt{3}}{{\\left(t^{3} - 3 \\, t^{2} + 3 \\, t - 1\\right)} {\\left(3 \\, t^{2} + 2 \\, t + 3\\right)} u} - \\frac{2 \\, \\sqrt{3}}{{\\left(t^{3} + 3 \\, t^{2} + 3 \\, t + 1\\right)} {\\left(3 \\, t^{2} - 2 \\, t + 3\\right)} v} - \\frac{4 \\, \\sqrt{3}}{{\\left(t^{3} - 3 \\, t^{2} + 3 \\, t - 1\\right)} {\\left(3 \\, t^{2} - 2 \\, t + 3\\right)} v} - \\frac{90 \\, t}{{\\left(3 \\, t^{2} + 2 \\, t + 3\\right)}^{2} u^{2}} - \\frac{90 \\, t}{{\\left(3 \\, t^{2} - 2 \\, t + 3\\right)}^{2} v^{2}} - \\frac{144 \\, t}{{\\left(3 \\, t^{2} + 2 \\, t + 3\\right)} {\\left(3 \\, t^{2} - 2 \\, t + 3\\right)} u v} - \\frac{27}{{\\left(3 \\, t^{2} + 2 \\, t + 3\\right)}^{2} u^{2}} + \\frac{27}{{\\left(3 \\, t^{2} - 2 \\, t + 3\\right)}^{2} v^{2}}\\)</html>"
      ],
      "text/latex": [
       "$\\displaystyle -\\frac{t^{2}}{3 \\, {\\left(t^{3} + 3 \\, t^{2} + 3 \\, t + 1\\right)}^{2}} + \\frac{t^{2}}{3 \\, {\\left(t^{3} - 3 \\, t^{2} + 3 \\, t - 1\\right)}^{2}} - \\frac{4 \\, \\sqrt{3} t^{2}}{{\\left(t^{3} + 3 \\, t^{2} + 3 \\, t + 1\\right)} {\\left(3 \\, t^{2} + 2 \\, t + 3\\right)} u} - \\frac{2 \\, \\sqrt{3} t^{2}}{{\\left(t^{3} - 3 \\, t^{2} + 3 \\, t - 1\\right)} {\\left(3 \\, t^{2} + 2 \\, t + 3\\right)} u} - \\frac{2 \\, \\sqrt{3} t^{2}}{{\\left(t^{3} + 3 \\, t^{2} + 3 \\, t + 1\\right)} {\\left(3 \\, t^{2} - 2 \\, t + 3\\right)} v} - \\frac{4 \\, \\sqrt{3} t^{2}}{{\\left(t^{3} - 3 \\, t^{2} + 3 \\, t - 1\\right)} {\\left(3 \\, t^{2} - 2 \\, t + 3\\right)} v} + \\frac{\\sqrt{3} \\sqrt{2}}{16 \\, t^{2}} - \\frac{2 \\, t}{3 \\, {\\left(t^{3} + 3 \\, t^{2} + 3 \\, t + 1\\right)}^{2}} - \\frac{2 \\, t}{3 \\, {\\left(t^{3} - 3 \\, t^{2} + 3 \\, t - 1\\right)}^{2}} + \\frac{\\sqrt{3}}{8 \\, t^{2}} + \\frac{9 \\, \\sqrt{2}}{16 \\, t^{2}} - \\frac{8 \\, \\sqrt{3} t}{{\\left(t^{3} + 3 \\, t^{2} + 3 \\, t + 1\\right)} {\\left(3 \\, t^{2} + 2 \\, t + 3\\right)} u} + \\frac{4 \\, \\sqrt{3} t}{{\\left(t^{3} - 3 \\, t^{2} + 3 \\, t - 1\\right)} {\\left(3 \\, t^{2} + 2 \\, t + 3\\right)} u} - \\frac{4 \\, \\sqrt{3} t}{{\\left(t^{3} + 3 \\, t^{2} + 3 \\, t + 1\\right)} {\\left(3 \\, t^{2} - 2 \\, t + 3\\right)} v} + \\frac{8 \\, \\sqrt{3} t}{{\\left(t^{3} - 3 \\, t^{2} + 3 \\, t - 1\\right)} {\\left(3 \\, t^{2} - 2 \\, t + 3\\right)} v} - \\frac{1}{3 \\, {\\left(t^{3} + 3 \\, t^{2} + 3 \\, t + 1\\right)}^{2}} + \\frac{1}{3 \\, {\\left(t^{3} - 3 \\, t^{2} + 3 \\, t - 1\\right)}^{2}} + \\frac{83}{96 \\, t^{2}} - \\frac{27 \\, t^{2}}{{\\left(3 \\, t^{2} + 2 \\, t + 3\\right)}^{2} u^{2}} + \\frac{27 \\, t^{2}}{{\\left(3 \\, t^{2} - 2 \\, t + 3\\right)}^{2} v^{2}} - \\frac{4 \\, \\sqrt{3}}{{\\left(t^{3} + 3 \\, t^{2} + 3 \\, t + 1\\right)} {\\left(3 \\, t^{2} + 2 \\, t + 3\\right)} u} - \\frac{2 \\, \\sqrt{3}}{{\\left(t^{3} - 3 \\, t^{2} + 3 \\, t - 1\\right)} {\\left(3 \\, t^{2} + 2 \\, t + 3\\right)} u} - \\frac{2 \\, \\sqrt{3}}{{\\left(t^{3} + 3 \\, t^{2} + 3 \\, t + 1\\right)} {\\left(3 \\, t^{2} - 2 \\, t + 3\\right)} v} - \\frac{4 \\, \\sqrt{3}}{{\\left(t^{3} - 3 \\, t^{2} + 3 \\, t - 1\\right)} {\\left(3 \\, t^{2} - 2 \\, t + 3\\right)} v} - \\frac{90 \\, t}{{\\left(3 \\, t^{2} + 2 \\, t + 3\\right)}^{2} u^{2}} - \\frac{90 \\, t}{{\\left(3 \\, t^{2} - 2 \\, t + 3\\right)}^{2} v^{2}} - \\frac{144 \\, t}{{\\left(3 \\, t^{2} + 2 \\, t + 3\\right)} {\\left(3 \\, t^{2} - 2 \\, t + 3\\right)} u v} - \\frac{27}{{\\left(3 \\, t^{2} + 2 \\, t + 3\\right)}^{2} u^{2}} + \\frac{27}{{\\left(3 \\, t^{2} - 2 \\, t + 3\\right)}^{2} v^{2}}$"
      ],
      "text/plain": [
       "-1/3*t^2/(t^3 + 3*t^2 + 3*t + 1)^2 + 1/3*t^2/(t^3 - 3*t^2 + 3*t - 1)^2 - 4*sqrt(3)*t^2/((t^3 + 3*t^2 + 3*t + 1)*(3*t^2 + 2*t + 3)*u) - 2*sqrt(3)*t^2/((t^3 - 3*t^2 + 3*t - 1)*(3*t^2 + 2*t + 3)*u) - 2*sqrt(3)*t^2/((t^3 + 3*t^2 + 3*t + 1)*(3*t^2 - 2*t + 3)*v) - 4*sqrt(3)*t^2/((t^3 - 3*t^2 + 3*t - 1)*(3*t^2 - 2*t + 3)*v) + 1/16*sqrt(3)*sqrt(2)/t^2 - 2/3*t/(t^3 + 3*t^2 + 3*t + 1)^2 - 2/3*t/(t^3 - 3*t^2 + 3*t - 1)^2 + 1/8*sqrt(3)/t^2 + 9/16*sqrt(2)/t^2 - 8*sqrt(3)*t/((t^3 + 3*t^2 + 3*t + 1)*(3*t^2 + 2*t + 3)*u) + 4*sqrt(3)*t/((t^3 - 3*t^2 + 3*t - 1)*(3*t^2 + 2*t + 3)*u) - 4*sqrt(3)*t/((t^3 + 3*t^2 + 3*t + 1)*(3*t^2 - 2*t + 3)*v) + 8*sqrt(3)*t/((t^3 - 3*t^2 + 3*t - 1)*(3*t^2 - 2*t + 3)*v) - 1/3/(t^3 + 3*t^2 + 3*t + 1)^2 + 1/3/(t^3 - 3*t^2 + 3*t - 1)^2 + 83/96/t^2 - 27*t^2/((3*t^2 + 2*t + 3)^2*u^2) + 27*t^2/((3*t^2 - 2*t + 3)^2*v^2) - 4*sqrt(3)/((t^3 + 3*t^2 + 3*t + 1)*(3*t^2 + 2*t + 3)*u) - 2*sqrt(3)/((t^3 - 3*t^2 + 3*t - 1)*(3*t^2 + 2*t + 3)*u) - 2*sqrt(3)/((t^3 + 3*t^2 + 3*t + 1)*(3*t^2 - 2*t + 3)*v) - 4*sqrt(3)/((t^3 - 3*t^2 + 3*t - 1)*(3*t^2 - 2*t + 3)*v) - 90*t/((3*t^2 + 2*t + 3)^2*u^2) - 90*t/((3*t^2 - 2*t + 3)^2*v^2) - 144*t/((3*t^2 + 2*t + 3)*(3*t^2 - 2*t + 3)*u*v) - 27/((3*t^2 + 2*t + 3)^2*u^2) + 27/((3*t^2 - 2*t + 3)^2*v^2)"
      ]
     },
     "metadata": {},
     "output_type": "display_data"
    }
   ],
   "source": [
    "γ0 = p1s.coefficients()[0][0];\n",
    "show(γ0)"
   ]
  },
  {
   "cell_type": "markdown",
   "id": "ad29dc31-b9e8-4716-bf48-4a7be0995988",
   "metadata": {},
   "source": [
    "#### 3. $(C_1)_{11}(c(t),t)$ is positive for  $t$ in $(0,1)$."
   ]
  },
  {
   "cell_type": "code",
   "execution_count": 32,
   "id": "3ab82f74",
   "metadata": {},
   "outputs": [],
   "source": [
    "C11 = C1[0,0].subs(c = -γ0/γ1);"
   ]
  },
  {
   "cell_type": "code",
   "execution_count": 33,
   "id": "77b26769",
   "metadata": {},
   "outputs": [
    {
     "data": {
      "text/html": [
       "<html>\\(\\displaystyle -\\frac{1}{12} \\, \\sqrt{3} - \\frac{3}{8} \\, \\sqrt{2} - \\frac{\\frac{32 \\, t^{2}}{{\\left(t^{3} + 3 \\, t^{2} + 3 \\, t + 1\\right)}^{2}} - \\frac{32 \\, t^{2}}{{\\left(t^{3} - 3 \\, t^{2} + 3 \\, t - 1\\right)}^{2}} + \\frac{384 \\, \\sqrt{3} t^{2}}{{\\left(t^{3} + 3 \\, t^{2} + 3 \\, t + 1\\right)} {\\left(3 \\, t^{2} + 2 \\, t + 3\\right)} u} + \\frac{192 \\, \\sqrt{3} t^{2}}{{\\left(t^{3} - 3 \\, t^{2} + 3 \\, t - 1\\right)} {\\left(3 \\, t^{2} + 2 \\, t + 3\\right)} u} + \\frac{192 \\, \\sqrt{3} t^{2}}{{\\left(t^{3} + 3 \\, t^{2} + 3 \\, t + 1\\right)} {\\left(3 \\, t^{2} - 2 \\, t + 3\\right)} v} + \\frac{384 \\, \\sqrt{3} t^{2}}{{\\left(t^{3} - 3 \\, t^{2} + 3 \\, t - 1\\right)} {\\left(3 \\, t^{2} - 2 \\, t + 3\\right)} v} - \\frac{6 \\, \\sqrt{3} \\sqrt{2}}{t^{2}} + \\frac{64 \\, t}{{\\left(t^{3} + 3 \\, t^{2} + 3 \\, t + 1\\right)}^{2}} + \\frac{64 \\, t}{{\\left(t^{3} - 3 \\, t^{2} + 3 \\, t - 1\\right)}^{2}} - \\frac{12 \\, \\sqrt{3}}{t^{2}} - \\frac{54 \\, \\sqrt{2}}{t^{2}} + \\frac{768 \\, \\sqrt{3} t}{{\\left(t^{3} + 3 \\, t^{2} + 3 \\, t + 1\\right)} {\\left(3 \\, t^{2} + 2 \\, t + 3\\right)} u} - \\frac{384 \\, \\sqrt{3} t}{{\\left(t^{3} - 3 \\, t^{2} + 3 \\, t - 1\\right)} {\\left(3 \\, t^{2} + 2 \\, t + 3\\right)} u} + \\frac{384 \\, \\sqrt{3} t}{{\\left(t^{3} + 3 \\, t^{2} + 3 \\, t + 1\\right)} {\\left(3 \\, t^{2} - 2 \\, t + 3\\right)} v} - \\frac{768 \\, \\sqrt{3} t}{{\\left(t^{3} - 3 \\, t^{2} + 3 \\, t - 1\\right)} {\\left(3 \\, t^{2} - 2 \\, t + 3\\right)} v} + \\frac{32}{{\\left(t^{3} + 3 \\, t^{2} + 3 \\, t + 1\\right)}^{2}} - \\frac{32}{{\\left(t^{3} - 3 \\, t^{2} + 3 \\, t - 1\\right)}^{2}} - \\frac{83}{t^{2}} + \\frac{2592 \\, t^{2}}{{\\left(3 \\, t^{2} + 2 \\, t + 3\\right)}^{2} u^{2}} - \\frac{2592 \\, t^{2}}{{\\left(3 \\, t^{2} - 2 \\, t + 3\\right)}^{2} v^{2}} + \\frac{384 \\, \\sqrt{3}}{{\\left(t^{3} + 3 \\, t^{2} + 3 \\, t + 1\\right)} {\\left(3 \\, t^{2} + 2 \\, t + 3\\right)} u} + \\frac{192 \\, \\sqrt{3}}{{\\left(t^{3} - 3 \\, t^{2} + 3 \\, t - 1\\right)} {\\left(3 \\, t^{2} + 2 \\, t + 3\\right)} u} + \\frac{192 \\, \\sqrt{3}}{{\\left(t^{3} + 3 \\, t^{2} + 3 \\, t + 1\\right)} {\\left(3 \\, t^{2} - 2 \\, t + 3\\right)} v} + \\frac{384 \\, \\sqrt{3}}{{\\left(t^{3} - 3 \\, t^{2} + 3 \\, t - 1\\right)} {\\left(3 \\, t^{2} - 2 \\, t + 3\\right)} v} + \\frac{8640 \\, t}{{\\left(3 \\, t^{2} + 2 \\, t + 3\\right)}^{2} u^{2}} + \\frac{8640 \\, t}{{\\left(3 \\, t^{2} - 2 \\, t + 3\\right)}^{2} v^{2}} + \\frac{13824 \\, t}{{\\left(3 \\, t^{2} + 2 \\, t + 3\\right)} {\\left(3 \\, t^{2} - 2 \\, t + 3\\right)} u v} + \\frac{2592}{{\\left(3 \\, t^{2} + 2 \\, t + 3\\right)}^{2} u^{2}} - \\frac{2592}{{\\left(3 \\, t^{2} - 2 \\, t + 3\\right)}^{2} v^{2}}}{4 \\, {\\left(2 \\, \\sqrt{3} t + 9 \\, \\sqrt{2} t - \\frac{8 \\, \\sqrt{3} t^{2}}{t^{3} + 3 \\, t^{2} + 3 \\, t + 1} - \\frac{8 \\, \\sqrt{3} t^{2}}{t^{3} - 3 \\, t^{2} + 3 \\, t - 1} + 18 \\, t - \\frac{16 \\, \\sqrt{3} t}{t^{3} + 3 \\, t^{2} + 3 \\, t + 1} + \\frac{16 \\, \\sqrt{3} t}{t^{3} - 3 \\, t^{2} + 3 \\, t - 1} - \\frac{72 \\, t^{2}}{{\\left(3 \\, t^{2} + 2 \\, t + 3\\right)} u} + \\frac{72 \\, t^{2}}{{\\left(3 \\, t^{2} - 2 \\, t + 3\\right)} v} - \\frac{8 \\, \\sqrt{3}}{t^{3} + 3 \\, t^{2} + 3 \\, t + 1} - \\frac{8 \\, \\sqrt{3}}{t^{3} - 3 \\, t^{2} + 3 \\, t - 1} - \\frac{432 \\, t}{{\\left(3 \\, t^{2} + 2 \\, t + 3\\right)} u} - \\frac{432 \\, t}{{\\left(3 \\, t^{2} - 2 \\, t + 3\\right)} v} + \\frac{2 \\, \\sqrt{3}}{t^{2}} + \\frac{9 \\, \\sqrt{2}}{t^{2}} + \\frac{18}{t^{2}} - \\frac{72}{{\\left(3 \\, t^{2} + 2 \\, t + 3\\right)} u} + \\frac{72}{{\\left(3 \\, t^{2} - 2 \\, t + 3\\right)} v}\\right)}} - \\frac{3}{4}\\)</html>"
      ],
      "text/latex": [
       "$\\displaystyle -\\frac{1}{12} \\, \\sqrt{3} - \\frac{3}{8} \\, \\sqrt{2} - \\frac{\\frac{32 \\, t^{2}}{{\\left(t^{3} + 3 \\, t^{2} + 3 \\, t + 1\\right)}^{2}} - \\frac{32 \\, t^{2}}{{\\left(t^{3} - 3 \\, t^{2} + 3 \\, t - 1\\right)}^{2}} + \\frac{384 \\, \\sqrt{3} t^{2}}{{\\left(t^{3} + 3 \\, t^{2} + 3 \\, t + 1\\right)} {\\left(3 \\, t^{2} + 2 \\, t + 3\\right)} u} + \\frac{192 \\, \\sqrt{3} t^{2}}{{\\left(t^{3} - 3 \\, t^{2} + 3 \\, t - 1\\right)} {\\left(3 \\, t^{2} + 2 \\, t + 3\\right)} u} + \\frac{192 \\, \\sqrt{3} t^{2}}{{\\left(t^{3} + 3 \\, t^{2} + 3 \\, t + 1\\right)} {\\left(3 \\, t^{2} - 2 \\, t + 3\\right)} v} + \\frac{384 \\, \\sqrt{3} t^{2}}{{\\left(t^{3} - 3 \\, t^{2} + 3 \\, t - 1\\right)} {\\left(3 \\, t^{2} - 2 \\, t + 3\\right)} v} - \\frac{6 \\, \\sqrt{3} \\sqrt{2}}{t^{2}} + \\frac{64 \\, t}{{\\left(t^{3} + 3 \\, t^{2} + 3 \\, t + 1\\right)}^{2}} + \\frac{64 \\, t}{{\\left(t^{3} - 3 \\, t^{2} + 3 \\, t - 1\\right)}^{2}} - \\frac{12 \\, \\sqrt{3}}{t^{2}} - \\frac{54 \\, \\sqrt{2}}{t^{2}} + \\frac{768 \\, \\sqrt{3} t}{{\\left(t^{3} + 3 \\, t^{2} + 3 \\, t + 1\\right)} {\\left(3 \\, t^{2} + 2 \\, t + 3\\right)} u} - \\frac{384 \\, \\sqrt{3} t}{{\\left(t^{3} - 3 \\, t^{2} + 3 \\, t - 1\\right)} {\\left(3 \\, t^{2} + 2 \\, t + 3\\right)} u} + \\frac{384 \\, \\sqrt{3} t}{{\\left(t^{3} + 3 \\, t^{2} + 3 \\, t + 1\\right)} {\\left(3 \\, t^{2} - 2 \\, t + 3\\right)} v} - \\frac{768 \\, \\sqrt{3} t}{{\\left(t^{3} - 3 \\, t^{2} + 3 \\, t - 1\\right)} {\\left(3 \\, t^{2} - 2 \\, t + 3\\right)} v} + \\frac{32}{{\\left(t^{3} + 3 \\, t^{2} + 3 \\, t + 1\\right)}^{2}} - \\frac{32}{{\\left(t^{3} - 3 \\, t^{2} + 3 \\, t - 1\\right)}^{2}} - \\frac{83}{t^{2}} + \\frac{2592 \\, t^{2}}{{\\left(3 \\, t^{2} + 2 \\, t + 3\\right)}^{2} u^{2}} - \\frac{2592 \\, t^{2}}{{\\left(3 \\, t^{2} - 2 \\, t + 3\\right)}^{2} v^{2}} + \\frac{384 \\, \\sqrt{3}}{{\\left(t^{3} + 3 \\, t^{2} + 3 \\, t + 1\\right)} {\\left(3 \\, t^{2} + 2 \\, t + 3\\right)} u} + \\frac{192 \\, \\sqrt{3}}{{\\left(t^{3} - 3 \\, t^{2} + 3 \\, t - 1\\right)} {\\left(3 \\, t^{2} + 2 \\, t + 3\\right)} u} + \\frac{192 \\, \\sqrt{3}}{{\\left(t^{3} + 3 \\, t^{2} + 3 \\, t + 1\\right)} {\\left(3 \\, t^{2} - 2 \\, t + 3\\right)} v} + \\frac{384 \\, \\sqrt{3}}{{\\left(t^{3} - 3 \\, t^{2} + 3 \\, t - 1\\right)} {\\left(3 \\, t^{2} - 2 \\, t + 3\\right)} v} + \\frac{8640 \\, t}{{\\left(3 \\, t^{2} + 2 \\, t + 3\\right)}^{2} u^{2}} + \\frac{8640 \\, t}{{\\left(3 \\, t^{2} - 2 \\, t + 3\\right)}^{2} v^{2}} + \\frac{13824 \\, t}{{\\left(3 \\, t^{2} + 2 \\, t + 3\\right)} {\\left(3 \\, t^{2} - 2 \\, t + 3\\right)} u v} + \\frac{2592}{{\\left(3 \\, t^{2} + 2 \\, t + 3\\right)}^{2} u^{2}} - \\frac{2592}{{\\left(3 \\, t^{2} - 2 \\, t + 3\\right)}^{2} v^{2}}}{4 \\, {\\left(2 \\, \\sqrt{3} t + 9 \\, \\sqrt{2} t - \\frac{8 \\, \\sqrt{3} t^{2}}{t^{3} + 3 \\, t^{2} + 3 \\, t + 1} - \\frac{8 \\, \\sqrt{3} t^{2}}{t^{3} - 3 \\, t^{2} + 3 \\, t - 1} + 18 \\, t - \\frac{16 \\, \\sqrt{3} t}{t^{3} + 3 \\, t^{2} + 3 \\, t + 1} + \\frac{16 \\, \\sqrt{3} t}{t^{3} - 3 \\, t^{2} + 3 \\, t - 1} - \\frac{72 \\, t^{2}}{{\\left(3 \\, t^{2} + 2 \\, t + 3\\right)} u} + \\frac{72 \\, t^{2}}{{\\left(3 \\, t^{2} - 2 \\, t + 3\\right)} v} - \\frac{8 \\, \\sqrt{3}}{t^{3} + 3 \\, t^{2} + 3 \\, t + 1} - \\frac{8 \\, \\sqrt{3}}{t^{3} - 3 \\, t^{2} + 3 \\, t - 1} - \\frac{432 \\, t}{{\\left(3 \\, t^{2} + 2 \\, t + 3\\right)} u} - \\frac{432 \\, t}{{\\left(3 \\, t^{2} - 2 \\, t + 3\\right)} v} + \\frac{2 \\, \\sqrt{3}}{t^{2}} + \\frac{9 \\, \\sqrt{2}}{t^{2}} + \\frac{18}{t^{2}} - \\frac{72}{{\\left(3 \\, t^{2} + 2 \\, t + 3\\right)} u} + \\frac{72}{{\\left(3 \\, t^{2} - 2 \\, t + 3\\right)} v}\\right)}} - \\frac{3}{4}$"
      ],
      "text/plain": [
       "-1/12*sqrt(3) - 3/8*sqrt(2) - 1/4*(32*t^2/(t^3 + 3*t^2 + 3*t + 1)^2 - 32*t^2/(t^3 - 3*t^2 + 3*t - 1)^2 + 384*sqrt(3)*t^2/((t^3 + 3*t^2 + 3*t + 1)*(3*t^2 + 2*t + 3)*u) + 192*sqrt(3)*t^2/((t^3 - 3*t^2 + 3*t - 1)*(3*t^2 + 2*t + 3)*u) + 192*sqrt(3)*t^2/((t^3 + 3*t^2 + 3*t + 1)*(3*t^2 - 2*t + 3)*v) + 384*sqrt(3)*t^2/((t^3 - 3*t^2 + 3*t - 1)*(3*t^2 - 2*t + 3)*v) - 6*sqrt(3)*sqrt(2)/t^2 + 64*t/(t^3 + 3*t^2 + 3*t + 1)^2 + 64*t/(t^3 - 3*t^2 + 3*t - 1)^2 - 12*sqrt(3)/t^2 - 54*sqrt(2)/t^2 + 768*sqrt(3)*t/((t^3 + 3*t^2 + 3*t + 1)*(3*t^2 + 2*t + 3)*u) - 384*sqrt(3)*t/((t^3 - 3*t^2 + 3*t - 1)*(3*t^2 + 2*t + 3)*u) + 384*sqrt(3)*t/((t^3 + 3*t^2 + 3*t + 1)*(3*t^2 - 2*t + 3)*v) - 768*sqrt(3)*t/((t^3 - 3*t^2 + 3*t - 1)*(3*t^2 - 2*t + 3)*v) + 32/(t^3 + 3*t^2 + 3*t + 1)^2 - 32/(t^3 - 3*t^2 + 3*t - 1)^2 - 83/t^2 + 2592*t^2/((3*t^2 + 2*t + 3)^2*u^2) - 2592*t^2/((3*t^2 - 2*t + 3)^2*v^2) + 384*sqrt(3)/((t^3 + 3*t^2 + 3*t + 1)*(3*t^2 + 2*t + 3)*u) + 192*sqrt(3)/((t^3 - 3*t^2 + 3*t - 1)*(3*t^2 + 2*t + 3)*u) + 192*sqrt(3)/((t^3 + 3*t^2 + 3*t + 1)*(3*t^2 - 2*t + 3)*v) + 384*sqrt(3)/((t^3 - 3*t^2 + 3*t - 1)*(3*t^2 - 2*t + 3)*v) + 8640*t/((3*t^2 + 2*t + 3)^2*u^2) + 8640*t/((3*t^2 - 2*t + 3)^2*v^2) + 13824*t/((3*t^2 + 2*t + 3)*(3*t^2 - 2*t + 3)*u*v) + 2592/((3*t^2 + 2*t + 3)^2*u^2) - 2592/((3*t^2 - 2*t + 3)^2*v^2))/(2*sqrt(3)*t + 9*sqrt(2)*t - 8*sqrt(3)*t^2/(t^3 + 3*t^2 + 3*t + 1) - 8*sqrt(3)*t^2/(t^3 - 3*t^2 + 3*t - 1) + 18*t - 16*sqrt(3)*t/(t^3 + 3*t^2 + 3*t + 1) + 16*sqrt(3)*t/(t^3 - 3*t^2 + 3*t - 1) - 72*t^2/((3*t^2 + 2*t + 3)*u) + 72*t^2/((3*t^2 - 2*t + 3)*v) - 8*sqrt(3)/(t^3 + 3*t^2 + 3*t + 1) - 8*sqrt(3)/(t^3 - 3*t^2 + 3*t - 1) - 432*t/((3*t^2 + 2*t + 3)*u) - 432*t/((3*t^2 - 2*t + 3)*v) + 2*sqrt(3)/t^2 + 9*sqrt(2)/t^2 + 18/t^2 - 72/((3*t^2 + 2*t + 3)*u) + 72/((3*t^2 - 2*t + 3)*v)) - 3/4"
      ]
     },
     "metadata": {},
     "output_type": "display_data"
    }
   ],
   "source": [
    "show(C11)"
   ]
  },
  {
   "cell_type": "code",
   "execution_count": 46,
   "id": "bcc47761-ad1a-4faf-a489-6782d4c457a9",
   "metadata": {},
   "outputs": [],
   "source": [
    "C11_numerator = C11.numerator();\n",
    "#C11_numerator"
   ]
  },
  {
   "cell_type": "code",
   "execution_count": 35,
   "id": "4e5c37ca",
   "metadata": {},
   "outputs": [
    {
     "data": {
      "text/plain": [
       "34992*sqrt(3) + 157464*sqrt(2) + 314928"
      ]
     },
     "execution_count": 35,
     "metadata": {},
     "output_type": "execute_result"
    }
   ],
   "source": [
    "C11_denominator = C11.denominator();\n",
    "C11_denominator.subs(t=0, u = sol_u(t=0),v = sol_v(t=0) )"
   ]
  },
  {
   "cell_type": "code",
   "execution_count": 36,
   "id": "d4f062cd-83bf-48fe-b045-8bb85b7cf0a4",
   "metadata": {},
   "outputs": [],
   "source": [
    "var('u,v')\n",
    "assume(u>0)\n",
    "assume(v>0)\n",
    "C11_uvt_numerator = C11_numerator.simplify_real().combine()"
   ]
  },
  {
   "cell_type": "code",
   "execution_count": 45,
   "id": "06f2eeb5-f96b-4c6d-ba88-b082771f81b5",
   "metadata": {},
   "outputs": [],
   "source": [
    "C11_uvt_numerator = C11_uvt_numerator.factor();\n",
    "#print(C11_uvt_numerator)"
   ]
  },
  {
   "cell_type": "code",
   "execution_count": 38,
   "id": "4b30e3e1",
   "metadata": {},
   "outputs": [],
   "source": [
    "x_t = var('x_t');\n",
    "x_u = var('x_u');\n",
    "x_v = var('x_v');"
   ]
  },
  {
   "cell_type": "code",
   "execution_count": 39,
   "id": "0ec4e12a",
   "metadata": {},
   "outputs": [],
   "source": [
    "a_t, b_t = 0, 1;\n",
    "a_u, b_u = u0, u1;\n",
    "a_v, b_v = v0, v1;\n"
   ]
  },
  {
   "cell_type": "code",
   "execution_count": 40,
   "id": "17f50361",
   "metadata": {},
   "outputs": [],
   "source": [
    "C11_uvt_numerator_moebius = C11_uvt_numerator.subs(t = (a_t*x_t+b_t)/(x_t+1), u = (a_u*x_u+b_u)/(x_u+1), v = (a_v*x_v+b_v)/(x_v+1));"
   ]
  },
  {
   "cell_type": "code",
   "execution_count": 41,
   "id": "43eef021",
   "metadata": {},
   "outputs": [],
   "source": [
    "C11_uvt_numerator_moebius_numerator = C11_uvt_numerator_moebius.numerator()"
   ]
  },
  {
   "cell_type": "code",
   "execution_count": 42,
   "id": "a11cf59b",
   "metadata": {},
   "outputs": [],
   "source": [
    "dicionario = polynomial_to_dict(C11_uvt_numerator_moebius_numerator)"
   ]
  },
  {
   "cell_type": "code",
   "execution_count": 43,
   "id": "ae74a08b",
   "metadata": {},
   "outputs": [
    {
     "data": {
      "text/html": [
       "<html>\\(\\displaystyle \\left[0, 0, 0, 1, 1, 1, 1, 1, 1, 0, 0, 0, 1, 1, 1, 1, 1, 1, 0, 0, 0, 1, 1, 1, 1, 1, 1, 0, 0, 0, 1, 1, 1, 1, 1, 1, 0, 0, 0, 1, 1, 1, 1, 1, 1, 0, 0, 0, 1, 1, 1, 1, 1, 1, 0, 0, 0, 1, 1, 1, 1, 1, 1, 0, 0, 0, 1, 1, 1, 1, 1, 1, 0, 0, 0, 1, 1, 1, 1, 1, 1, 0, 0, 0, 1, 1, 1, 1, 1, 1, 0, 0, 0, 1, 1, 1, 1, 1, 1, 0, 0, 0, 1, 1, 1, 1, 1, 1, 0, 0, 0, 1, 1, 1, 1, 1, 1, 0, 0, 0, 1, 1, 1, 1, 1, 1, 0, 0, 0, 1, 1, 1, 1, 1, 1, 0, 0, 0, 1, 1, 1, 1, 1, 1, 0, 0, 0, 1, 1, 1, 1, 1, 1, 0, 0, 0, 1, 1, 1, 1, 1\\right]\\)</html>"
      ],
      "text/latex": [
       "$\\displaystyle \\left[0, 0, 0, 1, 1, 1, 1, 1, 1, 0, 0, 0, 1, 1, 1, 1, 1, 1, 0, 0, 0, 1, 1, 1, 1, 1, 1, 0, 0, 0, 1, 1, 1, 1, 1, 1, 0, 0, 0, 1, 1, 1, 1, 1, 1, 0, 0, 0, 1, 1, 1, 1, 1, 1, 0, 0, 0, 1, 1, 1, 1, 1, 1, 0, 0, 0, 1, 1, 1, 1, 1, 1, 0, 0, 0, 1, 1, 1, 1, 1, 1, 0, 0, 0, 1, 1, 1, 1, 1, 1, 0, 0, 0, 1, 1, 1, 1, 1, 1, 0, 0, 0, 1, 1, 1, 1, 1, 1, 0, 0, 0, 1, 1, 1, 1, 1, 1, 0, 0, 0, 1, 1, 1, 1, 1, 1, 0, 0, 0, 1, 1, 1, 1, 1, 1, 0, 0, 0, 1, 1, 1, 1, 1, 1, 0, 0, 0, 1, 1, 1, 1, 1, 1, 0, 0, 0, 1, 1, 1, 1, 1\\right]$"
      ],
      "text/plain": [
       "[0,\n",
       " 0,\n",
       " 0,\n",
       " 1,\n",
       " 1,\n",
       " 1,\n",
       " 1,\n",
       " 1,\n",
       " 1,\n",
       " 0,\n",
       " 0,\n",
       " 0,\n",
       " 1,\n",
       " 1,\n",
       " 1,\n",
       " 1,\n",
       " 1,\n",
       " 1,\n",
       " 0,\n",
       " 0,\n",
       " 0,\n",
       " 1,\n",
       " 1,\n",
       " 1,\n",
       " 1,\n",
       " 1,\n",
       " 1,\n",
       " 0,\n",
       " 0,\n",
       " 0,\n",
       " 1,\n",
       " 1,\n",
       " 1,\n",
       " 1,\n",
       " 1,\n",
       " 1,\n",
       " 0,\n",
       " 0,\n",
       " 0,\n",
       " 1,\n",
       " 1,\n",
       " 1,\n",
       " 1,\n",
       " 1,\n",
       " 1,\n",
       " 0,\n",
       " 0,\n",
       " 0,\n",
       " 1,\n",
       " 1,\n",
       " 1,\n",
       " 1,\n",
       " 1,\n",
       " 1,\n",
       " 0,\n",
       " 0,\n",
       " 0,\n",
       " 1,\n",
       " 1,\n",
       " 1,\n",
       " 1,\n",
       " 1,\n",
       " 1,\n",
       " 0,\n",
       " 0,\n",
       " 0,\n",
       " 1,\n",
       " 1,\n",
       " 1,\n",
       " 1,\n",
       " 1,\n",
       " 1,\n",
       " 0,\n",
       " 0,\n",
       " 0,\n",
       " 1,\n",
       " 1,\n",
       " 1,\n",
       " 1,\n",
       " 1,\n",
       " 1,\n",
       " 0,\n",
       " 0,\n",
       " 0,\n",
       " 1,\n",
       " 1,\n",
       " 1,\n",
       " 1,\n",
       " 1,\n",
       " 1,\n",
       " 0,\n",
       " 0,\n",
       " 0,\n",
       " 1,\n",
       " 1,\n",
       " 1,\n",
       " 1,\n",
       " 1,\n",
       " 1,\n",
       " 0,\n",
       " 0,\n",
       " 0,\n",
       " 1,\n",
       " 1,\n",
       " 1,\n",
       " 1,\n",
       " 1,\n",
       " 1,\n",
       " 0,\n",
       " 0,\n",
       " 0,\n",
       " 1,\n",
       " 1,\n",
       " 1,\n",
       " 1,\n",
       " 1,\n",
       " 1,\n",
       " 0,\n",
       " 0,\n",
       " 0,\n",
       " 1,\n",
       " 1,\n",
       " 1,\n",
       " 1,\n",
       " 1,\n",
       " 1,\n",
       " 0,\n",
       " 0,\n",
       " 0,\n",
       " 1,\n",
       " 1,\n",
       " 1,\n",
       " 1,\n",
       " 1,\n",
       " 1,\n",
       " 0,\n",
       " 0,\n",
       " 0,\n",
       " 1,\n",
       " 1,\n",
       " 1,\n",
       " 1,\n",
       " 1,\n",
       " 1,\n",
       " 0,\n",
       " 0,\n",
       " 0,\n",
       " 1,\n",
       " 1,\n",
       " 1,\n",
       " 1,\n",
       " 1,\n",
       " 1,\n",
       " 0,\n",
       " 0,\n",
       " 0,\n",
       " 1,\n",
       " 1,\n",
       " 1,\n",
       " 1,\n",
       " 1]"
      ]
     },
     "metadata": {},
     "output_type": "display_data"
    }
   ],
   "source": [
    "lista_1 = list(dicionario)\n",
    "sinais_1 = [sgn(x[1]) for x in lista_1];\n",
    "show(sinais_1)"
   ]
  },
  {
   "cell_type": "code",
   "execution_count": 44,
   "id": "5581df1c",
   "metadata": {},
   "outputs": [
    {
     "data": {
      "text/plain": [
       "{0, 1}"
      ]
     },
     "execution_count": 44,
     "metadata": {},
     "output_type": "execute_result"
    }
   ],
   "source": [
    "set(sinais_1)"
   ]
  },
  {
   "cell_type": "markdown",
   "id": "b20993b0-e487-49f4-8b43-ecbc3e491e45",
   "metadata": {},
   "source": [
    "#####  Checking the sign of Möbius coefficients"
   ]
  },
  {
   "cell_type": "markdown",
   "id": "85ab08cd",
   "metadata": {},
   "source": [
    "### Pra baixo eh lixo"
   ]
  },
  {
   "cell_type": "code",
   "execution_count": 26,
   "id": "1c8f821c",
   "metadata": {},
   "outputs": [],
   "source": [
    "#plot(3*t^2 + 2*t + 3, (t, -1, 1), color='red', legend_label = 'u')+plot(3*t^2 - 2*t + 3, (t, -1, 1), legend_label = 'v')\n"
   ]
  },
  {
   "cell_type": "code",
   "execution_count": null,
   "id": "5f231292",
   "metadata": {},
   "outputs": [],
   "source": []
  }
 ],
 "metadata": {
  "kernelspec": {
   "display_name": "SageMath 10.4",
   "language": "sage",
   "name": "sagemath"
  },
  "language_info": {
   "codemirror_mode": {
    "name": "ipython",
    "version": 3
   },
   "file_extension": ".py",
   "mimetype": "text/x-python",
   "name": "python",
   "nbconvert_exporter": "python",
   "pygments_lexer": "ipython3",
   "version": "3.11.10"
  },
  "widgets": {
   "application/vnd.jupyter.widget-state+json": {
    "state": {},
    "version_major": 2,
    "version_minor": 0
   }
  }
 },
 "nbformat": 4,
 "nbformat_minor": 5
}
