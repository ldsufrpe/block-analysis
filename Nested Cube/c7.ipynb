{
 "cells": [
  {
   "cell_type": "markdown",
   "metadata": {},
   "source": [
    "## Analyzing the block $\\mathfrak{C}_7$ for the Cube"
   ]
  },
  {
   "cell_type": "code",
   "execution_count": 16,
   "metadata": {
    "collapsed": false,
    "jupyter": {
     "outputs_hidden": false
    }
   },
   "outputs": [],
   "source": [
    "load(\"../util.sage\")"
   ]
  },
  {
   "cell_type": "code",
   "execution_count": 17,
   "metadata": {},
   "outputs": [],
   "source": [
    "c7 = load('blocks/linear_block_3.sobj')"
   ]
  },
  {
   "cell_type": "code",
   "execution_count": 18,
   "metadata": {},
   "outputs": [],
   "source": [
    "# List of all 2 x 2 minors of c7\n",
    "minors = c7.minors(2)"
   ]
  },
  {
   "cell_type": "code",
   "execution_count": 19,
   "metadata": {},
   "outputs": [
    {
     "data": {
      "text/html": [
       "<html>\\(\\displaystyle \\frac{1}{324} \\, {\\left(2 \\, \\sqrt{3} - 9 \\, \\sqrt{2} + 18\\right)} {\\left(\\frac{\\sqrt{3} t}{t^{3} + 3 \\, t^{2} + 3 \\, t + 1} + \\frac{\\sqrt{3}}{t^{3} + 3 \\, t^{2} + 3 \\, t + 1} + \\frac{9 \\, t}{{\\left(3 \\, t^{2} + 2 \\, t + 3\\right)}^{\\frac{3}{2}}} - \\frac{9 \\, t}{{\\left(3 \\, t^{2} - 2 \\, t + 3\\right)}^{\\frac{3}{2}}} - \\frac{9}{{\\left(3 \\, t^{2} + 2 \\, t + 3\\right)}^{\\frac{3}{2}}} - \\frac{9}{{\\left(3 \\, t^{2} - 2 \\, t + 3\\right)}^{\\frac{3}{2}}} + \\frac{\\sqrt{3} t}{{\\left(t - 1\\right)}^{3}} - \\frac{\\sqrt{3}}{{\\left(t - 1\\right)}^{3}}\\right)} - \\frac{1}{162} \\, {\\left(\\sqrt{3} - 9\\right)} {\\left(\\frac{\\sqrt{3} t}{t^{3} + 3 \\, t^{2} + 3 \\, t + 1} + \\frac{\\sqrt{3}}{t^{3} + 3 \\, t^{2} + 3 \\, t + 1} - \\frac{27 \\, t}{{\\left(3 \\, t^{2} + 2 \\, t + 3\\right)}^{\\frac{3}{2}}} + \\frac{27 \\, t}{{\\left(3 \\, t^{2} - 2 \\, t + 3\\right)}^{\\frac{3}{2}}} - \\frac{9}{{\\left(3 \\, t^{2} + 2 \\, t + 3\\right)}^{\\frac{3}{2}}} - \\frac{9}{{\\left(3 \\, t^{2} - 2 \\, t + 3\\right)}^{\\frac{3}{2}}} + \\frac{\\sqrt{3} t}{{\\left(t - 1\\right)}^{3}} - \\frac{\\sqrt{3}}{{\\left(t - 1\\right)}^{3}}\\right)}\\)</html>"
      ],
      "text/latex": [
       "$\\displaystyle \\frac{1}{324} \\, {\\left(2 \\, \\sqrt{3} - 9 \\, \\sqrt{2} + 18\\right)} {\\left(\\frac{\\sqrt{3} t}{t^{3} + 3 \\, t^{2} + 3 \\, t + 1} + \\frac{\\sqrt{3}}{t^{3} + 3 \\, t^{2} + 3 \\, t + 1} + \\frac{9 \\, t}{{\\left(3 \\, t^{2} + 2 \\, t + 3\\right)}^{\\frac{3}{2}}} - \\frac{9 \\, t}{{\\left(3 \\, t^{2} - 2 \\, t + 3\\right)}^{\\frac{3}{2}}} - \\frac{9}{{\\left(3 \\, t^{2} + 2 \\, t + 3\\right)}^{\\frac{3}{2}}} - \\frac{9}{{\\left(3 \\, t^{2} - 2 \\, t + 3\\right)}^{\\frac{3}{2}}} + \\frac{\\sqrt{3} t}{{\\left(t - 1\\right)}^{3}} - \\frac{\\sqrt{3}}{{\\left(t - 1\\right)}^{3}}\\right)} - \\frac{1}{162} \\, {\\left(\\sqrt{3} - 9\\right)} {\\left(\\frac{\\sqrt{3} t}{t^{3} + 3 \\, t^{2} + 3 \\, t + 1} + \\frac{\\sqrt{3}}{t^{3} + 3 \\, t^{2} + 3 \\, t + 1} - \\frac{27 \\, t}{{\\left(3 \\, t^{2} + 2 \\, t + 3\\right)}^{\\frac{3}{2}}} + \\frac{27 \\, t}{{\\left(3 \\, t^{2} - 2 \\, t + 3\\right)}^{\\frac{3}{2}}} - \\frac{9}{{\\left(3 \\, t^{2} + 2 \\, t + 3\\right)}^{\\frac{3}{2}}} - \\frac{9}{{\\left(3 \\, t^{2} - 2 \\, t + 3\\right)}^{\\frac{3}{2}}} + \\frac{\\sqrt{3} t}{{\\left(t - 1\\right)}^{3}} - \\frac{\\sqrt{3}}{{\\left(t - 1\\right)}^{3}}\\right)}$"
      ],
      "text/plain": [
       "1/324*(2*sqrt(3) - 9*sqrt(2) + 18)*(sqrt(3)*t/(t^3 + 3*t^2 + 3*t + 1) + sqrt(3)/(t^3 + 3*t^2 + 3*t + 1) + 9*t/(3*t^2 + 2*t + 3)^(3/2) - 9*t/(3*t^2 - 2*t + 3)^(3/2) - 9/(3*t^2 + 2*t + 3)^(3/2) - 9/(3*t^2 - 2*t + 3)^(3/2) + sqrt(3)*t/(t - 1)^3 - sqrt(3)/(t - 1)^3) - 1/162*(sqrt(3) - 9)*(sqrt(3)*t/(t^3 + 3*t^2 + 3*t + 1) + sqrt(3)/(t^3 + 3*t^2 + 3*t + 1) - 27*t/(3*t^2 + 2*t + 3)^(3/2) + 27*t/(3*t^2 - 2*t + 3)^(3/2) - 9/(3*t^2 + 2*t + 3)^(3/2) - 9/(3*t^2 - 2*t + 3)^(3/2) + sqrt(3)*t/(t - 1)^3 - sqrt(3)/(t - 1)^3)"
      ]
     },
     "metadata": {},
     "output_type": "display_data"
    }
   ],
   "source": [
    "p7 = minors[0].simplify_real(); show(p7)"
   ]
  },
  {
   "cell_type": "markdown",
   "metadata": {},
   "source": [
    "#### **Part 1**. Derivativa positive in $[0, 1/2]$"
   ]
  },
  {
   "cell_type": "code",
   "execution_count": 20,
   "metadata": {},
   "outputs": [
    {
     "data": {
      "text/html": [
       "<html>\\(\\displaystyle -\\frac{{\\left(t^{6} {\\left(8 \\, \\sqrt{3} - 9 \\, \\sqrt{2} - 36\\right)} - 3 \\, t^{4} {\\left(8 \\, \\sqrt{3} - 9 \\, \\sqrt{2} - 36\\right)} + 3 \\, t^{2} {\\left(8 \\, \\sqrt{3} - 9 \\, \\sqrt{2} - 36\\right)} - 8 \\, \\sqrt{3} + 9 \\, \\sqrt{2} + 36\\right)} u^{5} v^{2} - 3 \\, {\\left(3 \\, t^{8} {\\left(8 \\, \\sqrt{3} - 9 \\, \\sqrt{2} - 36\\right)} - 2 \\, t^{7} {\\left(4 \\, \\sqrt{3} + 9 \\, \\sqrt{2} - 72\\right)} - 18 \\, t^{6} {\\left(4 \\, \\sqrt{3} - 5 \\, \\sqrt{2} - 16\\right)} + 6 \\, t^{5} {\\left(4 \\, \\sqrt{3} + 9 \\, \\sqrt{2} - 72\\right)} + 36 \\, t^{4} {\\left(2 \\, \\sqrt{3} - 3 \\, \\sqrt{2} - 6\\right)} - 6 \\, t^{3} {\\left(4 \\, \\sqrt{3} + 9 \\, \\sqrt{2} - 72\\right)} - 6 \\, t^{2} {\\left(4 \\, \\sqrt{3} - 9 \\, \\sqrt{2}\\right)} + 2 \\, t {\\left(4 \\, \\sqrt{3} + 9 \\, \\sqrt{2} - 72\\right)} - 9 \\, \\sqrt{2} + 36\\right)} u^{5} + {\\left(9 \\, t^{8} {\\left(8 \\, \\sqrt{3} - 9 \\, \\sqrt{2} - 36\\right)} + 6 \\, t^{7} {\\left(4 \\, \\sqrt{3} + 9 \\, \\sqrt{2} - 72\\right)} - 54 \\, t^{6} {\\left(4 \\, \\sqrt{3} - 5 \\, \\sqrt{2} - 16\\right)} - 4 \\, {\\left(\\sqrt{3} t^{3} {\\left(\\sqrt{2} - 4\\right)} + 3 \\, \\sqrt{3} t {\\left(\\sqrt{2} - 4\\right)}\\right)} u^{5} - 18 \\, t^{5} {\\left(4 \\, \\sqrt{3} + 9 \\, \\sqrt{2} - 72\\right)} + 108 \\, t^{4} {\\left(2 \\, \\sqrt{3} - 3 \\, \\sqrt{2} - 6\\right)} + 18 \\, t^{3} {\\left(4 \\, \\sqrt{3} + 9 \\, \\sqrt{2} - 72\\right)} - {\\left(t^{6} {\\left(8 \\, \\sqrt{3} - 9 \\, \\sqrt{2} - 36\\right)} - 3 \\, t^{4} {\\left(8 \\, \\sqrt{3} - 9 \\, \\sqrt{2} - 36\\right)} + 3 \\, t^{2} {\\left(8 \\, \\sqrt{3} - 9 \\, \\sqrt{2} - 36\\right)} - 8 \\, \\sqrt{3} + 9 \\, \\sqrt{2} + 36\\right)} u^{2} - 18 \\, t^{2} {\\left(4 \\, \\sqrt{3} - 9 \\, \\sqrt{2}\\right)} - 6 \\, t {\\left(4 \\, \\sqrt{3} + 9 \\, \\sqrt{2} - 72\\right)} - 27 \\, \\sqrt{2} + 108\\right)} v^{5}}{36 \\, {\\left(t^{6} - 3 \\, t^{4} + 3 \\, t^{2} - 1\\right)} u^{5} v^{5}}\\)</html>"
      ],
      "text/latex": [
       "$\\displaystyle -\\frac{{\\left(t^{6} {\\left(8 \\, \\sqrt{3} - 9 \\, \\sqrt{2} - 36\\right)} - 3 \\, t^{4} {\\left(8 \\, \\sqrt{3} - 9 \\, \\sqrt{2} - 36\\right)} + 3 \\, t^{2} {\\left(8 \\, \\sqrt{3} - 9 \\, \\sqrt{2} - 36\\right)} - 8 \\, \\sqrt{3} + 9 \\, \\sqrt{2} + 36\\right)} u^{5} v^{2} - 3 \\, {\\left(3 \\, t^{8} {\\left(8 \\, \\sqrt{3} - 9 \\, \\sqrt{2} - 36\\right)} - 2 \\, t^{7} {\\left(4 \\, \\sqrt{3} + 9 \\, \\sqrt{2} - 72\\right)} - 18 \\, t^{6} {\\left(4 \\, \\sqrt{3} - 5 \\, \\sqrt{2} - 16\\right)} + 6 \\, t^{5} {\\left(4 \\, \\sqrt{3} + 9 \\, \\sqrt{2} - 72\\right)} + 36 \\, t^{4} {\\left(2 \\, \\sqrt{3} - 3 \\, \\sqrt{2} - 6\\right)} - 6 \\, t^{3} {\\left(4 \\, \\sqrt{3} + 9 \\, \\sqrt{2} - 72\\right)} - 6 \\, t^{2} {\\left(4 \\, \\sqrt{3} - 9 \\, \\sqrt{2}\\right)} + 2 \\, t {\\left(4 \\, \\sqrt{3} + 9 \\, \\sqrt{2} - 72\\right)} - 9 \\, \\sqrt{2} + 36\\right)} u^{5} + {\\left(9 \\, t^{8} {\\left(8 \\, \\sqrt{3} - 9 \\, \\sqrt{2} - 36\\right)} + 6 \\, t^{7} {\\left(4 \\, \\sqrt{3} + 9 \\, \\sqrt{2} - 72\\right)} - 54 \\, t^{6} {\\left(4 \\, \\sqrt{3} - 5 \\, \\sqrt{2} - 16\\right)} - 4 \\, {\\left(\\sqrt{3} t^{3} {\\left(\\sqrt{2} - 4\\right)} + 3 \\, \\sqrt{3} t {\\left(\\sqrt{2} - 4\\right)}\\right)} u^{5} - 18 \\, t^{5} {\\left(4 \\, \\sqrt{3} + 9 \\, \\sqrt{2} - 72\\right)} + 108 \\, t^{4} {\\left(2 \\, \\sqrt{3} - 3 \\, \\sqrt{2} - 6\\right)} + 18 \\, t^{3} {\\left(4 \\, \\sqrt{3} + 9 \\, \\sqrt{2} - 72\\right)} - {\\left(t^{6} {\\left(8 \\, \\sqrt{3} - 9 \\, \\sqrt{2} - 36\\right)} - 3 \\, t^{4} {\\left(8 \\, \\sqrt{3} - 9 \\, \\sqrt{2} - 36\\right)} + 3 \\, t^{2} {\\left(8 \\, \\sqrt{3} - 9 \\, \\sqrt{2} - 36\\right)} - 8 \\, \\sqrt{3} + 9 \\, \\sqrt{2} + 36\\right)} u^{2} - 18 \\, t^{2} {\\left(4 \\, \\sqrt{3} - 9 \\, \\sqrt{2}\\right)} - 6 \\, t {\\left(4 \\, \\sqrt{3} + 9 \\, \\sqrt{2} - 72\\right)} - 27 \\, \\sqrt{2} + 108\\right)} v^{5}}{36 \\, {\\left(t^{6} - 3 \\, t^{4} + 3 \\, t^{2} - 1\\right)} u^{5} v^{5}}$"
      ],
      "text/plain": [
       "-1/36*((t^6*(8*sqrt(3) - 9*sqrt(2) - 36) - 3*t^4*(8*sqrt(3) - 9*sqrt(2) - 36) + 3*t^2*(8*sqrt(3) - 9*sqrt(2) - 36) - 8*sqrt(3) + 9*sqrt(2) + 36)*u^5*v^2 - 3*(3*t^8*(8*sqrt(3) - 9*sqrt(2) - 36) - 2*t^7*(4*sqrt(3) + 9*sqrt(2) - 72) - 18*t^6*(4*sqrt(3) - 5*sqrt(2) - 16) + 6*t^5*(4*sqrt(3) + 9*sqrt(2) - 72) + 36*t^4*(2*sqrt(3) - 3*sqrt(2) - 6) - 6*t^3*(4*sqrt(3) + 9*sqrt(2) - 72) - 6*t^2*(4*sqrt(3) - 9*sqrt(2)) + 2*t*(4*sqrt(3) + 9*sqrt(2) - 72) - 9*sqrt(2) + 36)*u^5 + (9*t^8*(8*sqrt(3) - 9*sqrt(2) - 36) + 6*t^7*(4*sqrt(3) + 9*sqrt(2) - 72) - 54*t^6*(4*sqrt(3) - 5*sqrt(2) - 16) - 4*(sqrt(3)*t^3*(sqrt(2) - 4) + 3*sqrt(3)*t*(sqrt(2) - 4))*u^5 - 18*t^5*(4*sqrt(3) + 9*sqrt(2) - 72) + 108*t^4*(2*sqrt(3) - 3*sqrt(2) - 6) + 18*t^3*(4*sqrt(3) + 9*sqrt(2) - 72) - (t^6*(8*sqrt(3) - 9*sqrt(2) - 36) - 3*t^4*(8*sqrt(3) - 9*sqrt(2) - 36) + 3*t^2*(8*sqrt(3) - 9*sqrt(2) - 36) - 8*sqrt(3) + 9*sqrt(2) + 36)*u^2 - 18*t^2*(4*sqrt(3) - 9*sqrt(2)) - 6*t*(4*sqrt(3) + 9*sqrt(2) - 72) - 27*sqrt(2) + 108)*v^5)/((t^6 - 3*t^4 + 3*t^2 - 1)*u^5*v^5)"
      ]
     },
     "metadata": {},
     "output_type": "display_data"
    }
   ],
   "source": [
    "# Choose one of the minors of c7 and obtain the simplified expression\n",
    "p7_diff_uvt = diff(p7, t).subs({3*t^2 + 2*t + 3:u^2,3*t^2 - 2*t + 3:v^2}).simplify_full(); show(p7_diff_uvt)"
   ]
  },
  {
   "cell_type": "markdown",
   "metadata": {},
   "source": [
    "##### Calculates the Möbius coefficient "
   ]
  },
  {
   "cell_type": "code",
   "execution_count": 21,
   "metadata": {
    "collapsed": false,
    "jupyter": {
     "outputs_hidden": false
    }
   },
   "outputs": [
    {
     "data": {
      "text/html": [
       "<html>\\(\\displaystyle 4 \\, \\sqrt{3} \\sqrt{2} t^{3} u^{5} v^{5} + 72 \\, \\sqrt{3} t^{8} u^{5} - 81 \\, \\sqrt{2} t^{8} u^{5} - 8 \\, \\sqrt{3} t^{6} u^{5} v^{2} + 9 \\, \\sqrt{2} t^{6} u^{5} v^{2} - 72 \\, \\sqrt{3} t^{8} v^{5} + 81 \\, \\sqrt{2} t^{8} v^{5} + 8 \\, \\sqrt{3} t^{6} u^{2} v^{5} - 9 \\, \\sqrt{2} t^{6} u^{2} v^{5} - 16 \\, \\sqrt{3} t^{3} u^{5} v^{5} - 324 \\, t^{8} u^{5} + 36 \\, t^{6} u^{5} v^{2} + 324 \\, t^{8} v^{5} - 36 \\, t^{6} u^{2} v^{5} - 24 \\, \\sqrt{3} t^{7} u^{5} - 54 \\, \\sqrt{2} t^{7} u^{5} - 24 \\, \\sqrt{3} t^{7} v^{5} - 54 \\, \\sqrt{2} t^{7} v^{5} + 432 \\, t^{7} u^{5} + 432 \\, t^{7} v^{5} + 12 \\, \\sqrt{3} \\sqrt{2} t u^{5} v^{5} - 216 \\, \\sqrt{3} t^{6} u^{5} + 270 \\, \\sqrt{2} t^{6} u^{5} + 24 \\, \\sqrt{3} t^{4} u^{5} v^{2} - 27 \\, \\sqrt{2} t^{4} u^{5} v^{2} + 216 \\, \\sqrt{3} t^{6} v^{5} - 270 \\, \\sqrt{2} t^{6} v^{5} - 24 \\, \\sqrt{3} t^{4} u^{2} v^{5} + 27 \\, \\sqrt{2} t^{4} u^{2} v^{5} - 48 \\, \\sqrt{3} t u^{5} v^{5} + 864 \\, t^{6} u^{5} - 108 \\, t^{4} u^{5} v^{2} - 864 \\, t^{6} v^{5} + 108 \\, t^{4} u^{2} v^{5} + 72 \\, \\sqrt{3} t^{5} u^{5} + 162 \\, \\sqrt{2} t^{5} u^{5} + 72 \\, \\sqrt{3} t^{5} v^{5} + 162 \\, \\sqrt{2} t^{5} v^{5} - 1296 \\, t^{5} u^{5} - 1296 \\, t^{5} v^{5} + 216 \\, \\sqrt{3} t^{4} u^{5} - 324 \\, \\sqrt{2} t^{4} u^{5} - 24 \\, \\sqrt{3} t^{2} u^{5} v^{2} + 27 \\, \\sqrt{2} t^{2} u^{5} v^{2} - 216 \\, \\sqrt{3} t^{4} v^{5} + 324 \\, \\sqrt{2} t^{4} v^{5} + 24 \\, \\sqrt{3} t^{2} u^{2} v^{5} - 27 \\, \\sqrt{2} t^{2} u^{2} v^{5} - 648 \\, t^{4} u^{5} + 108 \\, t^{2} u^{5} v^{2} + 648 \\, t^{4} v^{5} - 108 \\, t^{2} u^{2} v^{5} - 72 \\, \\sqrt{3} t^{3} u^{5} - 162 \\, \\sqrt{2} t^{3} u^{5} - 72 \\, \\sqrt{3} t^{3} v^{5} - 162 \\, \\sqrt{2} t^{3} v^{5} + 1296 \\, t^{3} u^{5} + 1296 \\, t^{3} v^{5} - 72 \\, \\sqrt{3} t^{2} u^{5} + 162 \\, \\sqrt{2} t^{2} u^{5} + 8 \\, \\sqrt{3} u^{5} v^{2} - 9 \\, \\sqrt{2} u^{5} v^{2} + 72 \\, \\sqrt{3} t^{2} v^{5} - 162 \\, \\sqrt{2} t^{2} v^{5} - 8 \\, \\sqrt{3} u^{2} v^{5} + 9 \\, \\sqrt{2} u^{2} v^{5} - 36 \\, u^{5} v^{2} + 36 \\, u^{2} v^{5} + 24 \\, \\sqrt{3} t u^{5} + 54 \\, \\sqrt{2} t u^{5} + 24 \\, \\sqrt{3} t v^{5} + 54 \\, \\sqrt{2} t v^{5} - 432 \\, t u^{5} - 432 \\, t v^{5} - 27 \\, \\sqrt{2} u^{5} + 27 \\, \\sqrt{2} v^{5} + 108 \\, u^{5} - 108 \\, v^{5}\\)</html>"
      ],
      "text/latex": [
       "$\\displaystyle 4 \\, \\sqrt{3} \\sqrt{2} t^{3} u^{5} v^{5} + 72 \\, \\sqrt{3} t^{8} u^{5} - 81 \\, \\sqrt{2} t^{8} u^{5} - 8 \\, \\sqrt{3} t^{6} u^{5} v^{2} + 9 \\, \\sqrt{2} t^{6} u^{5} v^{2} - 72 \\, \\sqrt{3} t^{8} v^{5} + 81 \\, \\sqrt{2} t^{8} v^{5} + 8 \\, \\sqrt{3} t^{6} u^{2} v^{5} - 9 \\, \\sqrt{2} t^{6} u^{2} v^{5} - 16 \\, \\sqrt{3} t^{3} u^{5} v^{5} - 324 \\, t^{8} u^{5} + 36 \\, t^{6} u^{5} v^{2} + 324 \\, t^{8} v^{5} - 36 \\, t^{6} u^{2} v^{5} - 24 \\, \\sqrt{3} t^{7} u^{5} - 54 \\, \\sqrt{2} t^{7} u^{5} - 24 \\, \\sqrt{3} t^{7} v^{5} - 54 \\, \\sqrt{2} t^{7} v^{5} + 432 \\, t^{7} u^{5} + 432 \\, t^{7} v^{5} + 12 \\, \\sqrt{3} \\sqrt{2} t u^{5} v^{5} - 216 \\, \\sqrt{3} t^{6} u^{5} + 270 \\, \\sqrt{2} t^{6} u^{5} + 24 \\, \\sqrt{3} t^{4} u^{5} v^{2} - 27 \\, \\sqrt{2} t^{4} u^{5} v^{2} + 216 \\, \\sqrt{3} t^{6} v^{5} - 270 \\, \\sqrt{2} t^{6} v^{5} - 24 \\, \\sqrt{3} t^{4} u^{2} v^{5} + 27 \\, \\sqrt{2} t^{4} u^{2} v^{5} - 48 \\, \\sqrt{3} t u^{5} v^{5} + 864 \\, t^{6} u^{5} - 108 \\, t^{4} u^{5} v^{2} - 864 \\, t^{6} v^{5} + 108 \\, t^{4} u^{2} v^{5} + 72 \\, \\sqrt{3} t^{5} u^{5} + 162 \\, \\sqrt{2} t^{5} u^{5} + 72 \\, \\sqrt{3} t^{5} v^{5} + 162 \\, \\sqrt{2} t^{5} v^{5} - 1296 \\, t^{5} u^{5} - 1296 \\, t^{5} v^{5} + 216 \\, \\sqrt{3} t^{4} u^{5} - 324 \\, \\sqrt{2} t^{4} u^{5} - 24 \\, \\sqrt{3} t^{2} u^{5} v^{2} + 27 \\, \\sqrt{2} t^{2} u^{5} v^{2} - 216 \\, \\sqrt{3} t^{4} v^{5} + 324 \\, \\sqrt{2} t^{4} v^{5} + 24 \\, \\sqrt{3} t^{2} u^{2} v^{5} - 27 \\, \\sqrt{2} t^{2} u^{2} v^{5} - 648 \\, t^{4} u^{5} + 108 \\, t^{2} u^{5} v^{2} + 648 \\, t^{4} v^{5} - 108 \\, t^{2} u^{2} v^{5} - 72 \\, \\sqrt{3} t^{3} u^{5} - 162 \\, \\sqrt{2} t^{3} u^{5} - 72 \\, \\sqrt{3} t^{3} v^{5} - 162 \\, \\sqrt{2} t^{3} v^{5} + 1296 \\, t^{3} u^{5} + 1296 \\, t^{3} v^{5} - 72 \\, \\sqrt{3} t^{2} u^{5} + 162 \\, \\sqrt{2} t^{2} u^{5} + 8 \\, \\sqrt{3} u^{5} v^{2} - 9 \\, \\sqrt{2} u^{5} v^{2} + 72 \\, \\sqrt{3} t^{2} v^{5} - 162 \\, \\sqrt{2} t^{2} v^{5} - 8 \\, \\sqrt{3} u^{2} v^{5} + 9 \\, \\sqrt{2} u^{2} v^{5} - 36 \\, u^{5} v^{2} + 36 \\, u^{2} v^{5} + 24 \\, \\sqrt{3} t u^{5} + 54 \\, \\sqrt{2} t u^{5} + 24 \\, \\sqrt{3} t v^{5} + 54 \\, \\sqrt{2} t v^{5} - 432 \\, t u^{5} - 432 \\, t v^{5} - 27 \\, \\sqrt{2} u^{5} + 27 \\, \\sqrt{2} v^{5} + 108 \\, u^{5} - 108 \\, v^{5}$"
      ],
      "text/plain": [
       "4*sqrt(3)*sqrt(2)*t^3*u^5*v^5 + 72*sqrt(3)*t^8*u^5 - 81*sqrt(2)*t^8*u^5 - 8*sqrt(3)*t^6*u^5*v^2 + 9*sqrt(2)*t^6*u^5*v^2 - 72*sqrt(3)*t^8*v^5 + 81*sqrt(2)*t^8*v^5 + 8*sqrt(3)*t^6*u^2*v^5 - 9*sqrt(2)*t^6*u^2*v^5 - 16*sqrt(3)*t^3*u^5*v^5 - 324*t^8*u^5 + 36*t^6*u^5*v^2 + 324*t^8*v^5 - 36*t^6*u^2*v^5 - 24*sqrt(3)*t^7*u^5 - 54*sqrt(2)*t^7*u^5 - 24*sqrt(3)*t^7*v^5 - 54*sqrt(2)*t^7*v^5 + 432*t^7*u^5 + 432*t^7*v^5 + 12*sqrt(3)*sqrt(2)*t*u^5*v^5 - 216*sqrt(3)*t^6*u^5 + 270*sqrt(2)*t^6*u^5 + 24*sqrt(3)*t^4*u^5*v^2 - 27*sqrt(2)*t^4*u^5*v^2 + 216*sqrt(3)*t^6*v^5 - 270*sqrt(2)*t^6*v^5 - 24*sqrt(3)*t^4*u^2*v^5 + 27*sqrt(2)*t^4*u^2*v^5 - 48*sqrt(3)*t*u^5*v^5 + 864*t^6*u^5 - 108*t^4*u^5*v^2 - 864*t^6*v^5 + 108*t^4*u^2*v^5 + 72*sqrt(3)*t^5*u^5 + 162*sqrt(2)*t^5*u^5 + 72*sqrt(3)*t^5*v^5 + 162*sqrt(2)*t^5*v^5 - 1296*t^5*u^5 - 1296*t^5*v^5 + 216*sqrt(3)*t^4*u^5 - 324*sqrt(2)*t^4*u^5 - 24*sqrt(3)*t^2*u^5*v^2 + 27*sqrt(2)*t^2*u^5*v^2 - 216*sqrt(3)*t^4*v^5 + 324*sqrt(2)*t^4*v^5 + 24*sqrt(3)*t^2*u^2*v^5 - 27*sqrt(2)*t^2*u^2*v^5 - 648*t^4*u^5 + 108*t^2*u^5*v^2 + 648*t^4*v^5 - 108*t^2*u^2*v^5 - 72*sqrt(3)*t^3*u^5 - 162*sqrt(2)*t^3*u^5 - 72*sqrt(3)*t^3*v^5 - 162*sqrt(2)*t^3*v^5 + 1296*t^3*u^5 + 1296*t^3*v^5 - 72*sqrt(3)*t^2*u^5 + 162*sqrt(2)*t^2*u^5 + 8*sqrt(3)*u^5*v^2 - 9*sqrt(2)*u^5*v^2 + 72*sqrt(3)*t^2*v^5 - 162*sqrt(2)*t^2*v^5 - 8*sqrt(3)*u^2*v^5 + 9*sqrt(2)*u^2*v^5 - 36*u^5*v^2 + 36*u^2*v^5 + 24*sqrt(3)*t*u^5 + 54*sqrt(2)*t*u^5 + 24*sqrt(3)*t*v^5 + 54*sqrt(2)*t*v^5 - 432*t*u^5 - 432*t*v^5 - 27*sqrt(2)*u^5 + 27*sqrt(2)*v^5 + 108*u^5 - 108*v^5"
      ]
     },
     "metadata": {},
     "output_type": "display_data"
    }
   ],
   "source": [
    "p7_diff_uvt_numerator = p7_diff_uvt.numerator(); show(p7_diff_uvt_numerator)"
   ]
  },
  {
   "cell_type": "code",
   "execution_count": 22,
   "metadata": {},
   "outputs": [],
   "source": [
    "# Calculate the maximum and minimum values of u for interval with endpoints and  for t = 0 and t = 1/1.\n",
    "\n",
    "q1 = 3*t^2 + 2*t + 3 \n",
    "q2 = 3*t^2 - 2*t + 3 \n",
    "\n",
    "(u0, u1) = quadratic_extrema_on_interval(q1, (0, 1/2))\n",
    "(v0, v1) = quadratic_extrema_on_interval(q2, (0, 1/2))\n",
    "\n",
    "variable_ranges_0 = [(0, 1/2), (u0, u1), (v0, v1)]\n",
    "all_variable_ranges = [variable_ranges_0]"
   ]
  },
  {
   "cell_type": "code",
   "execution_count": 23,
   "metadata": {},
   "outputs": [],
   "source": [
    "coefficient_dict = polynomial_to_dict(p7_diff_uvt_numerator)"
   ]
  },
  {
   "cell_type": "code",
   "execution_count": 24,
   "metadata": {},
   "outputs": [
    {
     "data": {
      "text/plain": [
       "(t, u, v)"
      ]
     },
     "execution_count": 24,
     "metadata": {},
     "output_type": "execute_result"
    }
   ],
   "source": [
    "variables = p7_diff_uvt_numerator.variables()\n",
    "total_degree  =  [p7_diff_uvt_numerator.degree(j) for j in variables]\n",
    "n_uplas = [\n",
    "    [i, j, k]\n",
    "    for i in range(total_degree[0] + 1)\n",
    "    for j in range(total_degree[1] + 1)\n",
    "    for k in range(total_degree[2] + 1)\n",
    "]\n",
    "variables "
   ]
  },
  {
   "cell_type": "markdown",
   "metadata": {},
   "source": [
    "#####  Checking the sign of Möbius coefficients"
   ]
  },
  {
   "cell_type": "code",
   "execution_count": 25,
   "metadata": {},
   "outputs": [
    {
     "name": "stdout",
     "output_type": "stream",
     "text": [
      "Starting to calculate the signs of the Möbius coefficients for t in (0, 1/2)\n",
      "\n",
      "\n",
      "Iteration: 100, Elapsed time: 0.10 minutes\n",
      "Partial set of signs of the Möbius coefficients: {-1}\n",
      "\n",
      "\n",
      "Iteration: 200, Elapsed time: 0.18 minutes\n",
      "Partial set of signs of the Möbius coefficients: {-1}\n",
      "\n",
      "\n",
      "Terminating at iteration 298 because the set contains 1 and -1.\n",
      "Final iteration: 298. Elapsed time: 0.25 minutes\n",
      "Set of signs of the Möbius coefficients for t in (0, 1/2): {1, -1}.\n",
      "\n",
      "\n"
     ]
    }
   ],
   "source": [
    "moebius_sign(p7_diff_uvt_numerator, n_uplas, total_degree, all_variable_ranges, coefficient_dict)"
   ]
  },
  {
   "cell_type": "markdown",
   "metadata": {},
   "source": [
    "#### **Parte 2.** Function positive in $[1/2, 1]$."
   ]
  },
  {
   "cell_type": "markdown",
   "metadata": {},
   "source": [
    "##### Calculates the Möbius coefficient "
   ]
  },
  {
   "cell_type": "code",
   "execution_count": 26,
   "metadata": {},
   "outputs": [
    {
     "data": {
      "text/html": [
       "<html>\\(\\displaystyle -18 \\, \\sqrt{3} \\sqrt{2} t^{2} u^{3} v^{3} - 72 \\, \\sqrt{3} t^{5} u^{3} + 81 \\, \\sqrt{2} t^{5} u^{3} + 72 \\, \\sqrt{3} t^{5} v^{3} - 81 \\, \\sqrt{2} t^{5} v^{3} + 72 \\, \\sqrt{3} t^{2} u^{3} v^{3} + 324 \\, t^{5} u^{3} - 324 \\, t^{5} v^{3} + 81 \\, \\sqrt{2} t^{4} u^{3} + 81 \\, \\sqrt{2} t^{4} v^{3} - 324 \\, t^{4} u^{3} - 324 \\, t^{4} v^{3} - 18 \\, \\sqrt{3} \\sqrt{2} u^{3} v^{3} + 144 \\, \\sqrt{3} t^{3} u^{3} - 162 \\, \\sqrt{2} t^{3} u^{3} - 144 \\, \\sqrt{3} t^{3} v^{3} + 162 \\, \\sqrt{2} t^{3} v^{3} + 72 \\, \\sqrt{3} u^{3} v^{3} - 648 \\, t^{3} u^{3} + 648 \\, t^{3} v^{3} - 162 \\, \\sqrt{2} t^{2} u^{3} - 162 \\, \\sqrt{2} t^{2} v^{3} + 648 \\, t^{2} u^{3} + 648 \\, t^{2} v^{3} - 72 \\, \\sqrt{3} t u^{3} + 81 \\, \\sqrt{2} t u^{3} + 72 \\, \\sqrt{3} t v^{3} - 81 \\, \\sqrt{2} t v^{3} + 324 \\, t u^{3} - 324 \\, t v^{3} + 81 \\, \\sqrt{2} u^{3} + 81 \\, \\sqrt{2} v^{3} - 324 \\, u^{3} - 324 \\, v^{3}\\)</html>"
      ],
      "text/latex": [
       "$\\displaystyle -18 \\, \\sqrt{3} \\sqrt{2} t^{2} u^{3} v^{3} - 72 \\, \\sqrt{3} t^{5} u^{3} + 81 \\, \\sqrt{2} t^{5} u^{3} + 72 \\, \\sqrt{3} t^{5} v^{3} - 81 \\, \\sqrt{2} t^{5} v^{3} + 72 \\, \\sqrt{3} t^{2} u^{3} v^{3} + 324 \\, t^{5} u^{3} - 324 \\, t^{5} v^{3} + 81 \\, \\sqrt{2} t^{4} u^{3} + 81 \\, \\sqrt{2} t^{4} v^{3} - 324 \\, t^{4} u^{3} - 324 \\, t^{4} v^{3} - 18 \\, \\sqrt{3} \\sqrt{2} u^{3} v^{3} + 144 \\, \\sqrt{3} t^{3} u^{3} - 162 \\, \\sqrt{2} t^{3} u^{3} - 144 \\, \\sqrt{3} t^{3} v^{3} + 162 \\, \\sqrt{2} t^{3} v^{3} + 72 \\, \\sqrt{3} u^{3} v^{3} - 648 \\, t^{3} u^{3} + 648 \\, t^{3} v^{3} - 162 \\, \\sqrt{2} t^{2} u^{3} - 162 \\, \\sqrt{2} t^{2} v^{3} + 648 \\, t^{2} u^{3} + 648 \\, t^{2} v^{3} - 72 \\, \\sqrt{3} t u^{3} + 81 \\, \\sqrt{2} t u^{3} + 72 \\, \\sqrt{3} t v^{3} - 81 \\, \\sqrt{2} t v^{3} + 324 \\, t u^{3} - 324 \\, t v^{3} + 81 \\, \\sqrt{2} u^{3} + 81 \\, \\sqrt{2} v^{3} - 324 \\, u^{3} - 324 \\, v^{3}$"
      ],
      "text/plain": [
       "-18*sqrt(3)*sqrt(2)*t^2*u^3*v^3 - 72*sqrt(3)*t^5*u^3 + 81*sqrt(2)*t^5*u^3 + 72*sqrt(3)*t^5*v^3 - 81*sqrt(2)*t^5*v^3 + 72*sqrt(3)*t^2*u^3*v^3 + 324*t^5*u^3 - 324*t^5*v^3 + 81*sqrt(2)*t^4*u^3 + 81*sqrt(2)*t^4*v^3 - 324*t^4*u^3 - 324*t^4*v^3 - 18*sqrt(3)*sqrt(2)*u^3*v^3 + 144*sqrt(3)*t^3*u^3 - 162*sqrt(2)*t^3*u^3 - 144*sqrt(3)*t^3*v^3 + 162*sqrt(2)*t^3*v^3 + 72*sqrt(3)*u^3*v^3 - 648*t^3*u^3 + 648*t^3*v^3 - 162*sqrt(2)*t^2*u^3 - 162*sqrt(2)*t^2*v^3 + 648*t^2*u^3 + 648*t^2*v^3 - 72*sqrt(3)*t*u^3 + 81*sqrt(2)*t*u^3 + 72*sqrt(3)*t*v^3 - 81*sqrt(2)*t*v^3 + 324*t*u^3 - 324*t*v^3 + 81*sqrt(2)*u^3 + 81*sqrt(2)*v^3 - 324*u^3 - 324*v^3"
      ]
     },
     "metadata": {},
     "output_type": "display_data"
    }
   ],
   "source": [
    "p7_uvt_numerator = p7.subs({3*t^2 + 2*t + 3:u^2,3*t^2 - 2*t + 3:v^2}).numerator(); show(p7_uvt_numerator)"
   ]
  },
  {
   "cell_type": "code",
   "execution_count": 27,
   "metadata": {},
   "outputs": [],
   "source": [
    "# Calculate the maximum and minimum values of u for interval with endpoints and  for t = 1/2 and t = 1.\n",
    "\n",
    "q1 = 3*t^2 + 2*t + 3 \n",
    "q2 = 3*t^2 - 2*t + 3 \n",
    "\n",
    "(u0, u1) = quadratic_extrema_on_interval(q1, (1/2, 1))\n",
    "(v0, v1) = quadratic_extrema_on_interval(q2, (1/2, 1))\n",
    "\n",
    "variable_ranges_1 = [(1/2, 1), (u0, u1), (v0, v1)]\n",
    "\n",
    "all_variable_ranges =[variable_ranges_1]"
   ]
  },
  {
   "cell_type": "code",
   "execution_count": 28,
   "metadata": {},
   "outputs": [],
   "source": [
    "variables = p7_uvt_numerator.variables()\n",
    "total_degree  =  [p7_uvt_numerator.degree(j) for j in variables]\n",
    "n_uplas = [\n",
    "    [i, j, k]\n",
    "    for i in range(total_degree[0] + 1)\n",
    "    for j in range(total_degree[1] + 1)\n",
    "    for k in range(total_degree[2] + 1)\n",
    "]"
   ]
  },
  {
   "cell_type": "markdown",
   "metadata": {},
   "source": [
    "#####  Checking the sign of Möbius coefficients"
   ]
  },
  {
   "cell_type": "code",
   "execution_count": 29,
   "metadata": {},
   "outputs": [
    {
     "name": "stdout",
     "output_type": "stream",
     "text": [
      "Starting to calculate the signs of the Möbius coefficients for t in (1/2, 1)\n",
      "\n",
      "\n",
      "Final iteration: 95. Elapsed time: 0.09 minutes\n",
      "Set of signs of the Möbius coefficients for t in (1/2, 1): {-1}.\n",
      "\n",
      "\n"
     ]
    }
   ],
   "source": [
    "moebius_sign(p7_uvt_numerator, n_uplas, total_degree, all_variable_ranges, coefficient_dict)"
   ]
  },
  {
   "cell_type": "markdown",
   "metadata": {},
   "source": [
    "##### Limit at the extremes"
   ]
  },
  {
   "cell_type": "code",
   "execution_count": 30,
   "metadata": {},
   "outputs": [
    {
     "data": {
      "text/plain": [
       "(0, +Infinity)"
      ]
     },
     "execution_count": 30,
     "metadata": {},
     "output_type": "execute_result"
    }
   ],
   "source": [
    "limit(p7, t=0, dir='+'), limit(p7, t=1, dir='-')"
   ]
  },
  {
   "cell_type": "code",
   "execution_count": null,
   "metadata": {},
   "outputs": [],
   "source": []
  }
 ],
 "metadata": {
  "kernelspec": {
   "display_name": "SageMath 10.4",
   "language": "sage",
   "name": "sagemath"
  },
  "language_info": {
   "codemirror_mode": {
    "name": "ipython",
    "version": 3
   },
   "file_extension": ".py",
   "mimetype": "text/x-python",
   "name": "python",
   "nbconvert_exporter": "python",
   "pygments_lexer": "ipython3",
   "version": "3.10.15"
  },
  "widgets": {
   "application/vnd.jupyter.widget-state+json": {
    "state": {},
    "version_major": 2,
    "version_minor": 0
   }
  }
 },
 "nbformat": 4,
 "nbformat_minor": 4
}
