{
 "cells": [
  {
   "cell_type": "markdown",
   "metadata": {},
   "source": [
    "## Analyzing the block $\\mathfrak{C}_9$ for the Cube"
   ]
  },
  {
   "cell_type": "code",
   "execution_count": 1,
   "metadata": {
    "collapsed": false,
    "jupyter": {
     "outputs_hidden": false
    }
   },
   "outputs": [],
   "source": [
    "load(\"../util.sage\")"
   ]
  },
  {
   "cell_type": "code",
   "execution_count": 2,
   "metadata": {},
   "outputs": [
    {
     "data": {
      "text/html": [
       "<html>\\(\\displaystyle \\left(\\begin{array}{rr}\n",
       "-8 \\, c + \\frac{1}{36} \\, \\sqrt{3} + \\frac{1}{8} \\, \\sqrt{2} + \\frac{1}{4} & -8 \\, c t + \\frac{\\sqrt{3} t + \\sqrt{3}}{9 \\, {\\left(t^{3} + 3 \\, t^{2} + 3 \\, t + 1\\right)}} + \\frac{3 \\, t + 1}{{\\left(3 \\, t^{2} + 2 \\, t + 3\\right)}^{\\frac{3}{2}}} + \\frac{3 \\, t - 1}{{\\left(3 \\, t^{2} - 2 \\, t + 3\\right)}^{\\frac{3}{2}}} - \\frac{\\sqrt{3} t - \\sqrt{3}}{9 \\, {\\left(t - 1\\right)}^{3}} \\\\\n",
       "\\frac{1}{18} \\, \\sqrt{3} - \\frac{1}{2} & \\frac{2 \\, {\\left(\\sqrt{3} t + \\sqrt{3}\\right)}}{9 \\, {\\left(t^{3} + 3 \\, t^{2} + 3 \\, t + 1\\right)}} - \\frac{2 \\, {\\left(t + 1\\right)}}{{\\left(3 \\, t^{2} - 2 \\, t + 3\\right)}^{\\frac{3}{2}}} - \\frac{2 \\, {\\left(t - 1\\right)}}{{\\left(3 \\, t^{2} + 2 \\, t + 3\\right)}^{\\frac{3}{2}}} - \\frac{2 \\, {\\left(\\sqrt{3} t - \\sqrt{3}\\right)}}{9 \\, {\\left(t - 1\\right)}^{3}} \\\\\n",
       "-8 \\, c + \\frac{\\sqrt{3} t + \\sqrt{3}}{9 \\, {\\left(t^{3} + 3 \\, t^{2} + 3 \\, t + 1\\right)}} + \\frac{t + 3}{{\\left(3 \\, t^{2} + 2 \\, t + 3\\right)}^{\\frac{3}{2}}} - \\frac{t - 3}{{\\left(3 \\, t^{2} - 2 \\, t + 3\\right)}^{\\frac{3}{2}}} + \\frac{\\sqrt{3} t - \\sqrt{3}}{9 \\, {\\left(t - 1\\right)}^{3}} & -8 \\, c t + \\frac{2 \\, \\sqrt{3} + 9 \\, \\sqrt{2} + 18}{72 \\, t^{2}} \\\\\n",
       "\\frac{2 \\, {\\left(\\sqrt{3} t + \\sqrt{3}\\right)}}{9 \\, {\\left(t^{3} + 3 \\, t^{2} + 3 \\, t + 1\\right)}} - \\frac{2 \\, {\\left(t + 1\\right)}}{{\\left(3 \\, t^{2} - 2 \\, t + 3\\right)}^{\\frac{3}{2}}} + \\frac{2 \\, {\\left(t - 1\\right)}}{{\\left(3 \\, t^{2} + 2 \\, t + 3\\right)}^{\\frac{3}{2}}} + \\frac{2 \\, {\\left(\\sqrt{3} t - \\sqrt{3}\\right)}}{9 \\, {\\left(t - 1\\right)}^{3}} & \\frac{\\sqrt{3} - 9}{18 \\, t^{2}}\n",
       "\\end{array}\\right)\\)</html>"
      ],
      "text/latex": [
       "$\\displaystyle \\left(\\begin{array}{rr}\n",
       "-8 \\, c + \\frac{1}{36} \\, \\sqrt{3} + \\frac{1}{8} \\, \\sqrt{2} + \\frac{1}{4} & -8 \\, c t + \\frac{\\sqrt{3} t + \\sqrt{3}}{9 \\, {\\left(t^{3} + 3 \\, t^{2} + 3 \\, t + 1\\right)}} + \\frac{3 \\, t + 1}{{\\left(3 \\, t^{2} + 2 \\, t + 3\\right)}^{\\frac{3}{2}}} + \\frac{3 \\, t - 1}{{\\left(3 \\, t^{2} - 2 \\, t + 3\\right)}^{\\frac{3}{2}}} - \\frac{\\sqrt{3} t - \\sqrt{3}}{9 \\, {\\left(t - 1\\right)}^{3}} \\\\\n",
       "\\frac{1}{18} \\, \\sqrt{3} - \\frac{1}{2} & \\frac{2 \\, {\\left(\\sqrt{3} t + \\sqrt{3}\\right)}}{9 \\, {\\left(t^{3} + 3 \\, t^{2} + 3 \\, t + 1\\right)}} - \\frac{2 \\, {\\left(t + 1\\right)}}{{\\left(3 \\, t^{2} - 2 \\, t + 3\\right)}^{\\frac{3}{2}}} - \\frac{2 \\, {\\left(t - 1\\right)}}{{\\left(3 \\, t^{2} + 2 \\, t + 3\\right)}^{\\frac{3}{2}}} - \\frac{2 \\, {\\left(\\sqrt{3} t - \\sqrt{3}\\right)}}{9 \\, {\\left(t - 1\\right)}^{3}} \\\\\n",
       "-8 \\, c + \\frac{\\sqrt{3} t + \\sqrt{3}}{9 \\, {\\left(t^{3} + 3 \\, t^{2} + 3 \\, t + 1\\right)}} + \\frac{t + 3}{{\\left(3 \\, t^{2} + 2 \\, t + 3\\right)}^{\\frac{3}{2}}} - \\frac{t - 3}{{\\left(3 \\, t^{2} - 2 \\, t + 3\\right)}^{\\frac{3}{2}}} + \\frac{\\sqrt{3} t - \\sqrt{3}}{9 \\, {\\left(t - 1\\right)}^{3}} & -8 \\, c t + \\frac{2 \\, \\sqrt{3} + 9 \\, \\sqrt{2} + 18}{72 \\, t^{2}} \\\\\n",
       "\\frac{2 \\, {\\left(\\sqrt{3} t + \\sqrt{3}\\right)}}{9 \\, {\\left(t^{3} + 3 \\, t^{2} + 3 \\, t + 1\\right)}} - \\frac{2 \\, {\\left(t + 1\\right)}}{{\\left(3 \\, t^{2} - 2 \\, t + 3\\right)}^{\\frac{3}{2}}} + \\frac{2 \\, {\\left(t - 1\\right)}}{{\\left(3 \\, t^{2} + 2 \\, t + 3\\right)}^{\\frac{3}{2}}} + \\frac{2 \\, {\\left(\\sqrt{3} t - \\sqrt{3}\\right)}}{9 \\, {\\left(t - 1\\right)}^{3}} & \\frac{\\sqrt{3} - 9}{18 \\, t^{2}}\n",
       "\\end{array}\\right)$"
      ],
      "text/plain": [
       "[                                                                                                                                 -8*c + 1/36*sqrt(3) + 1/8*sqrt(2) + 1/4 -8*c*t + 1/9*(sqrt(3)*t + sqrt(3))/(t^3 + 3*t^2 + 3*t + 1) + (3*t + 1)/(3*t^2 + 2*t + 3)^(3/2) + (3*t - 1)/(3*t^2 - 2*t + 3)^(3/2) - 1/9*(sqrt(3)*t - sqrt(3))/(t - 1)^3]\n",
       "[                                                                                                                                                      1/18*sqrt(3) - 1/2          2/9*(sqrt(3)*t + sqrt(3))/(t^3 + 3*t^2 + 3*t + 1) - 2*(t + 1)/(3*t^2 - 2*t + 3)^(3/2) - 2*(t - 1)/(3*t^2 + 2*t + 3)^(3/2) - 2/9*(sqrt(3)*t - sqrt(3))/(t - 1)^3]\n",
       "[      -8*c + 1/9*(sqrt(3)*t + sqrt(3))/(t^3 + 3*t^2 + 3*t + 1) + (t + 3)/(3*t^2 + 2*t + 3)^(3/2) - (t - 3)/(3*t^2 - 2*t + 3)^(3/2) + 1/9*(sqrt(3)*t - sqrt(3))/(t - 1)^3                                                                                                                           -8*c*t + 1/72*(2*sqrt(3) + 9*sqrt(2) + 18)/t^2]\n",
       "[         2/9*(sqrt(3)*t + sqrt(3))/(t^3 + 3*t^2 + 3*t + 1) - 2*(t + 1)/(3*t^2 - 2*t + 3)^(3/2) + 2*(t - 1)/(3*t^2 + 2*t + 3)^(3/2) + 2/9*(sqrt(3)*t - sqrt(3))/(t - 1)^3                                                                                                                                                   1/18*(sqrt(3) - 9)/t^2]"
      ]
     },
     "metadata": {},
     "output_type": "display_data"
    }
   ],
   "source": [
    "c9 = load('blocks/linear_block_6.sobj')\n",
    "c9 = c9.apply_map(lambda x: x.simplify_real().combine()); show(c9)"
   ]
  },
  {
   "cell_type": "code",
   "execution_count": 3,
   "metadata": {},
   "outputs": [],
   "source": [
    "# List of all 2 x 2 minors of c9\n",
    "minors = c9.minors(2)"
   ]
  },
  {
   "cell_type": "code",
   "execution_count": 4,
   "metadata": {},
   "outputs": [],
   "source": [
    "# Choose one of the minors of c9 and obtain the simplified expression\n",
    "p9 = minors[4].simplify_real() "
   ]
  },
  {
   "cell_type": "markdown",
   "metadata": {},
   "source": [
    "##### Change of variables:  $v^2 = 3t^2 - 2t + 3$, $u^2=3t^2 + 2t + 3$"
   ]
  },
  {
   "cell_type": "code",
   "execution_count": 5,
   "metadata": {
    "collapsed": false,
    "jupyter": {
     "outputs_hidden": false
    }
   },
   "outputs": [],
   "source": [
    "p9_uvt_numerator = p9.subs({3*t^2 + 2*t + 3:u^2,3*t^2 - 2*t + 3:v^2}).factor().numerator()"
   ]
  },
  {
   "cell_type": "code",
   "execution_count": 6,
   "metadata": {},
   "outputs": [
    {
     "data": {
      "text/plain": [
       "(sqrt(3), 2*sqrt(2), 2*sqrt(2/3), 2)"
      ]
     },
     "execution_count": 6,
     "metadata": {},
     "output_type": "execute_result"
    }
   ],
   "source": [
    "# Calculate the values of u for t = 0 and t = 1\n",
    "\n",
    "# Solve 3*t^2 + 2*t + 3 = u^2 for u\n",
    "sol_u = solve(u**2 == 3*t^2 + 2*t + 3, u)[0].rhs()\n",
    "\n",
    "# Solve 3*t^2 - 2*t + 3 = v^2 for v\n",
    "sol_v = solve(v**2 == 3*t^2 - 2*t + 3, v)[0].rhs()\n",
    "\n",
    "# Get the values of u for t=0 and t=1\n",
    "u0 = sol_u(t=0)\n",
    "u1 = sol_u(t=1)\n",
    "\n",
    "# Get the values of v for t=1/3 and t=1\n",
    "v0 = sol_v(t=1/3)\n",
    "v1 = sol_v(t=1)\n",
    "\n",
    "u0, u1, v0, v1"
   ]
  },
  {
   "cell_type": "code",
   "execution_count": 7,
   "metadata": {},
   "outputs": [],
   "source": [
    "variable_ranges = [(0, 1), (u0, u1), (v0, v1)]"
   ]
  },
  {
   "cell_type": "markdown",
   "metadata": {},
   "source": [
    "##### Calculates the Möbius coefficient"
   ]
  },
  {
   "cell_type": "code",
   "execution_count": 8,
   "metadata": {},
   "outputs": [],
   "source": [
    "coefficient_dict = polynomial_to_dict(p9_uvt_numerator)"
   ]
  },
  {
   "cell_type": "code",
   "execution_count": 9,
   "metadata": {},
   "outputs": [],
   "source": [
    "variables = p9_uvt_numerator.variables()\n",
    "total_degree  =  [p9_uvt_numerator.degree(j) for j in variables]\n",
    "n_uplas = [\n",
    "    [i, j, k]\n",
    "    for i in range(total_degree[0] + 1)\n",
    "    for j in range(total_degree[1] + 1)\n",
    "    for k in range(total_degree[2] + 1)\n",
    "]"
   ]
  },
  {
   "cell_type": "code",
   "execution_count": 10,
   "metadata": {},
   "outputs": [],
   "source": [
    "coeff = []\n",
    "for i, degree_per_variable in enumerate(n_uplas):    \n",
    "    c = moebius_coefficient(p9_uvt_numerator, degree_per_variable, total_degree, variable_ranges, coefficient_dict)\n",
    "    coeff.append(c)"
   ]
  },
  {
   "cell_type": "markdown",
   "metadata": {},
   "source": [
    "#####  Checking the sign of Möbius coefficients"
   ]
  },
  {
   "cell_type": "code",
   "execution_count": 11,
   "metadata": {
    "collapsed": false,
    "jupyter": {
     "outputs_hidden": false
    }
   },
   "outputs": [],
   "source": [
    "coefficient_signs = set([sign(c) for c in coeff])"
   ]
  },
  {
   "cell_type": "code",
   "execution_count": 12,
   "metadata": {},
   "outputs": [
    {
     "data": {
      "text/plain": [
       "{1}"
      ]
     },
     "execution_count": 12,
     "metadata": {},
     "output_type": "execute_result"
    }
   ],
   "source": [
    "set(coefficient_signs)"
   ]
  },
  {
   "cell_type": "markdown",
   "metadata": {},
   "source": [
    "##### Limit at the extremes"
   ]
  },
  {
   "cell_type": "code",
   "execution_count": 13,
   "metadata": {},
   "outputs": [
    {
     "data": {
      "text/plain": [
       "(+Infinity, +Infinity)"
      ]
     },
     "execution_count": 13,
     "metadata": {},
     "output_type": "execute_result"
    }
   ],
   "source": [
    "limit(p9, t=0, dir='+'), limit(p9, t=1, dir='-')"
   ]
  },
  {
   "cell_type": "code",
   "execution_count": null,
   "metadata": {},
   "outputs": [],
   "source": []
  }
 ],
 "metadata": {
  "kernelspec": {
   "display_name": "SageMath 10.3",
   "language": "sage",
   "name": "sagemath"
  },
  "language_info": {
   "codemirror_mode": {
    "name": "ipython",
    "version": 3
   },
   "file_extension": ".py",
   "mimetype": "text/x-python",
   "name": "python",
   "nbconvert_exporter": "python",
   "pygments_lexer": "ipython3",
   "version": "3.12.3"
  },
  "widgets": {
   "application/vnd.jupyter.widget-state+json": {
    "state": {},
    "version_major": 2,
    "version_minor": 0
   }
  }
 },
 "nbformat": 4,
 "nbformat_minor": 4
}
