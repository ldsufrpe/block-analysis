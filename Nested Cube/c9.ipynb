{
 "cells": [
  {
   "cell_type": "markdown",
   "metadata": {},
   "source": [
    "## Analyzing the block $\\mathfrak{C}_9$ for the Cube"
   ]
  },
  {
   "cell_type": "code",
   "execution_count": 1,
   "metadata": {
    "collapsed": false,
    "jupyter": {
     "outputs_hidden": false
    }
   },
   "outputs": [],
   "source": [
    "load(\"../util.sage\")"
   ]
  },
  {
   "cell_type": "code",
   "execution_count": 2,
   "metadata": {},
   "outputs": [
    {
     "data": {
      "text/html": [
       "<html>\\(\\displaystyle \\left(\\begin{array}{rr}\n",
       "-8 \\, c + \\frac{1}{36} \\, \\sqrt{3} + \\frac{1}{8} \\, \\sqrt{2} + \\frac{1}{4} & -8 \\, c t + \\frac{\\sqrt{3} t + \\sqrt{3}}{9 \\, {\\left(t^{3} + 3 \\, t^{2} + 3 \\, t + 1\\right)}} + \\frac{3 \\, t + 1}{{\\left(3 \\, t^{2} + 2 \\, t + 3\\right)}^{\\frac{3}{2}}} + \\frac{3 \\, t - 1}{{\\left(3 \\, t^{2} - 2 \\, t + 3\\right)}^{\\frac{3}{2}}} - \\frac{\\sqrt{3} t - \\sqrt{3}}{9 \\, {\\left(t - 1\\right)}^{3}} \\\\\n",
       "\\frac{1}{18} \\, \\sqrt{3} - \\frac{1}{2} & \\frac{2 \\, {\\left(\\sqrt{3} t + \\sqrt{3}\\right)}}{9 \\, {\\left(t^{3} + 3 \\, t^{2} + 3 \\, t + 1\\right)}} - \\frac{2 \\, {\\left(t + 1\\right)}}{{\\left(3 \\, t^{2} - 2 \\, t + 3\\right)}^{\\frac{3}{2}}} - \\frac{2 \\, {\\left(t - 1\\right)}}{{\\left(3 \\, t^{2} + 2 \\, t + 3\\right)}^{\\frac{3}{2}}} - \\frac{2 \\, {\\left(\\sqrt{3} t - \\sqrt{3}\\right)}}{9 \\, {\\left(t - 1\\right)}^{3}} \\\\\n",
       "-8 \\, c + \\frac{\\sqrt{3} t + \\sqrt{3}}{9 \\, {\\left(t^{3} + 3 \\, t^{2} + 3 \\, t + 1\\right)}} + \\frac{t + 3}{{\\left(3 \\, t^{2} + 2 \\, t + 3\\right)}^{\\frac{3}{2}}} - \\frac{t - 3}{{\\left(3 \\, t^{2} - 2 \\, t + 3\\right)}^{\\frac{3}{2}}} + \\frac{\\sqrt{3} t - \\sqrt{3}}{9 \\, {\\left(t - 1\\right)}^{3}} & -8 \\, c t + \\frac{2 \\, \\sqrt{3} + 9 \\, \\sqrt{2} + 18}{72 \\, t^{2}} \\\\\n",
       "\\frac{2 \\, {\\left(\\sqrt{3} t + \\sqrt{3}\\right)}}{9 \\, {\\left(t^{3} + 3 \\, t^{2} + 3 \\, t + 1\\right)}} - \\frac{2 \\, {\\left(t + 1\\right)}}{{\\left(3 \\, t^{2} - 2 \\, t + 3\\right)}^{\\frac{3}{2}}} + \\frac{2 \\, {\\left(t - 1\\right)}}{{\\left(3 \\, t^{2} + 2 \\, t + 3\\right)}^{\\frac{3}{2}}} + \\frac{2 \\, {\\left(\\sqrt{3} t - \\sqrt{3}\\right)}}{9 \\, {\\left(t - 1\\right)}^{3}} & \\frac{\\sqrt{3} - 9}{18 \\, t^{2}}\n",
       "\\end{array}\\right)\\)</html>"
      ],
      "text/latex": [
       "$\\displaystyle \\left(\\begin{array}{rr}\n",
       "-8 \\, c + \\frac{1}{36} \\, \\sqrt{3} + \\frac{1}{8} \\, \\sqrt{2} + \\frac{1}{4} & -8 \\, c t + \\frac{\\sqrt{3} t + \\sqrt{3}}{9 \\, {\\left(t^{3} + 3 \\, t^{2} + 3 \\, t + 1\\right)}} + \\frac{3 \\, t + 1}{{\\left(3 \\, t^{2} + 2 \\, t + 3\\right)}^{\\frac{3}{2}}} + \\frac{3 \\, t - 1}{{\\left(3 \\, t^{2} - 2 \\, t + 3\\right)}^{\\frac{3}{2}}} - \\frac{\\sqrt{3} t - \\sqrt{3}}{9 \\, {\\left(t - 1\\right)}^{3}} \\\\\n",
       "\\frac{1}{18} \\, \\sqrt{3} - \\frac{1}{2} & \\frac{2 \\, {\\left(\\sqrt{3} t + \\sqrt{3}\\right)}}{9 \\, {\\left(t^{3} + 3 \\, t^{2} + 3 \\, t + 1\\right)}} - \\frac{2 \\, {\\left(t + 1\\right)}}{{\\left(3 \\, t^{2} - 2 \\, t + 3\\right)}^{\\frac{3}{2}}} - \\frac{2 \\, {\\left(t - 1\\right)}}{{\\left(3 \\, t^{2} + 2 \\, t + 3\\right)}^{\\frac{3}{2}}} - \\frac{2 \\, {\\left(\\sqrt{3} t - \\sqrt{3}\\right)}}{9 \\, {\\left(t - 1\\right)}^{3}} \\\\\n",
       "-8 \\, c + \\frac{\\sqrt{3} t + \\sqrt{3}}{9 \\, {\\left(t^{3} + 3 \\, t^{2} + 3 \\, t + 1\\right)}} + \\frac{t + 3}{{\\left(3 \\, t^{2} + 2 \\, t + 3\\right)}^{\\frac{3}{2}}} - \\frac{t - 3}{{\\left(3 \\, t^{2} - 2 \\, t + 3\\right)}^{\\frac{3}{2}}} + \\frac{\\sqrt{3} t - \\sqrt{3}}{9 \\, {\\left(t - 1\\right)}^{3}} & -8 \\, c t + \\frac{2 \\, \\sqrt{3} + 9 \\, \\sqrt{2} + 18}{72 \\, t^{2}} \\\\\n",
       "\\frac{2 \\, {\\left(\\sqrt{3} t + \\sqrt{3}\\right)}}{9 \\, {\\left(t^{3} + 3 \\, t^{2} + 3 \\, t + 1\\right)}} - \\frac{2 \\, {\\left(t + 1\\right)}}{{\\left(3 \\, t^{2} - 2 \\, t + 3\\right)}^{\\frac{3}{2}}} + \\frac{2 \\, {\\left(t - 1\\right)}}{{\\left(3 \\, t^{2} + 2 \\, t + 3\\right)}^{\\frac{3}{2}}} + \\frac{2 \\, {\\left(\\sqrt{3} t - \\sqrt{3}\\right)}}{9 \\, {\\left(t - 1\\right)}^{3}} & \\frac{\\sqrt{3} - 9}{18 \\, t^{2}}\n",
       "\\end{array}\\right)$"
      ],
      "text/plain": [
       "[                                                                                                                                 -8*c + 1/36*sqrt(3) + 1/8*sqrt(2) + 1/4 -8*c*t + 1/9*(sqrt(3)*t + sqrt(3))/(t^3 + 3*t^2 + 3*t + 1) + (3*t + 1)/(3*t^2 + 2*t + 3)^(3/2) + (3*t - 1)/(3*t^2 - 2*t + 3)^(3/2) - 1/9*(sqrt(3)*t - sqrt(3))/(t - 1)^3]\n",
       "[                                                                                                                                                      1/18*sqrt(3) - 1/2          2/9*(sqrt(3)*t + sqrt(3))/(t^3 + 3*t^2 + 3*t + 1) - 2*(t + 1)/(3*t^2 - 2*t + 3)^(3/2) - 2*(t - 1)/(3*t^2 + 2*t + 3)^(3/2) - 2/9*(sqrt(3)*t - sqrt(3))/(t - 1)^3]\n",
       "[      -8*c + 1/9*(sqrt(3)*t + sqrt(3))/(t^3 + 3*t^2 + 3*t + 1) + (t + 3)/(3*t^2 + 2*t + 3)^(3/2) - (t - 3)/(3*t^2 - 2*t + 3)^(3/2) + 1/9*(sqrt(3)*t - sqrt(3))/(t - 1)^3                                                                                                                           -8*c*t + 1/72*(2*sqrt(3) + 9*sqrt(2) + 18)/t^2]\n",
       "[         2/9*(sqrt(3)*t + sqrt(3))/(t^3 + 3*t^2 + 3*t + 1) - 2*(t + 1)/(3*t^2 - 2*t + 3)^(3/2) + 2*(t - 1)/(3*t^2 + 2*t + 3)^(3/2) + 2/9*(sqrt(3)*t - sqrt(3))/(t - 1)^3                                                                                                                                                   1/18*(sqrt(3) - 9)/t^2]"
      ]
     },
     "metadata": {},
     "output_type": "display_data"
    }
   ],
   "source": [
    "c9 = load('blocks/linear_block_6.sobj')\n",
    "c9 = c9.apply_map(lambda x: x.simplify_real().combine()); show(c9)"
   ]
  },
  {
   "cell_type": "code",
   "execution_count": 3,
   "metadata": {},
   "outputs": [],
   "source": [
    "# List of all 2 x 2 minors of c9\n",
    "minors = c9.minors(2)"
   ]
  },
  {
   "cell_type": "code",
   "execution_count": 4,
   "metadata": {},
   "outputs": [],
   "source": [
    "# Choose one of the minors of c9 and obtain the simplified expression\n",
    "p9 = minors[4].simplify_real() "
   ]
  },
  {
   "cell_type": "markdown",
   "metadata": {},
   "source": [
    "##### Change of variables:  $v^2 = 3t^2 - 2t + 3$, $u^2=3t^2 + 2t + 3$"
   ]
  },
  {
   "cell_type": "code",
   "execution_count": 5,
   "metadata": {
    "collapsed": false,
    "jupyter": {
     "outputs_hidden": false
    }
   },
   "outputs": [],
   "source": [
    "p9_uvt_numerator = p9.subs({3*t^2 + 2*t + 3:u^2,3*t^2 - 2*t + 3:v^2}).factor().numerator()"
   ]
  },
  {
   "cell_type": "code",
   "execution_count": 6,
   "metadata": {},
   "outputs": [],
   "source": [
    "q1 = 3*t^2 + 2*t + 3 #u\n",
    "q2 = 3*t^2 - 2*t + 3 #v\n",
    "\n",
    "(u0, u1) = quadratic_extrema_on_interval(q1, (0, 1))\n",
    "(v0, v1) = quadratic_extrema_on_interval(q2, (0, 1))\n",
    "\n",
    "variable_ranges_0 = [(0, 1), (u0, u1), (v0, v1)]\n",
    "\n",
    "all_variable_ranges = [variable_ranges_0]"
   ]
  },
  {
   "cell_type": "markdown",
   "metadata": {},
   "source": [
    "##### Calculates the Möbius coefficient"
   ]
  },
  {
   "cell_type": "code",
   "execution_count": 7,
   "metadata": {},
   "outputs": [],
   "source": [
    "coefficient_dict = polynomial_to_dict(p9_uvt_numerator)"
   ]
  },
  {
   "cell_type": "code",
   "execution_count": 8,
   "metadata": {},
   "outputs": [],
   "source": [
    "variables = p9_uvt_numerator.variables()\n",
    "total_degree  =  [p9_uvt_numerator.degree(j) for j in variables]\n",
    "n_uplas = [\n",
    "    [i, j, k]\n",
    "    for i in range(total_degree[0] + 1)\n",
    "    for j in range(total_degree[1] + 1)\n",
    "    for k in range(total_degree[2] + 1)\n",
    "]"
   ]
  },
  {
   "cell_type": "markdown",
   "metadata": {},
   "source": [
    "#####  Checking the sign of Möbius coefficients"
   ]
  },
  {
   "cell_type": "code",
   "execution_count": 9,
   "metadata": {},
   "outputs": [
    {
     "name": "stdout",
     "output_type": "stream",
     "text": [
      "Starting to calculate the signs of the Möbius coefficients for t in (0, 1)\n",
      "\n",
      "\n",
      "Iteration: 100, Elapsed time: 0.03 minutes\n",
      "Partial set of signs of the Möbius coefficients: {1}\n",
      "\n",
      "\n",
      "Iteration: 200, Elapsed time: 0.06 minutes\n",
      "Partial set of signs of the Möbius coefficients: {1}\n",
      "\n",
      "\n",
      "Iteration: 300, Elapsed time: 0.11 minutes\n",
      "Partial set of signs of the Möbius coefficients: {1}\n",
      "\n",
      "\n",
      "Iteration: 400, Elapsed time: 0.15 minutes\n",
      "Partial set of signs of the Möbius coefficients: {1}\n",
      "\n",
      "\n",
      "Iteration: 500, Elapsed time: 0.20 minutes\n",
      "Partial set of signs of the Möbius coefficients: {1}\n",
      "\n",
      "\n",
      "Iteration: 600, Elapsed time: 0.24 minutes\n",
      "Partial set of signs of the Möbius coefficients: {1}\n",
      "\n",
      "\n",
      "Final iteration: 636. Elapsed time: 0.25 minutes\n",
      "Set of signs of the Möbius coefficients for t in (0, 1): {1}.\n",
      "\n",
      "\n"
     ]
    }
   ],
   "source": [
    "# Determines the sign of Möbius coefficients for a given polynomial expression.\n",
    "moebius_sign(p9_uvt_numerator, n_uplas, total_degree, all_variable_ranges, coefficient_dict)"
   ]
  },
  {
   "cell_type": "markdown",
   "metadata": {},
   "source": [
    "##### Limit at the extremes"
   ]
  },
  {
   "cell_type": "code",
   "execution_count": 10,
   "metadata": {},
   "outputs": [
    {
     "data": {
      "text/plain": [
       "(+Infinity, +Infinity)"
      ]
     },
     "execution_count": 10,
     "metadata": {},
     "output_type": "execute_result"
    }
   ],
   "source": [
    "limit(p9, t=0, dir='+'), limit(p9, t=1, dir='-')"
   ]
  },
  {
   "cell_type": "code",
   "execution_count": null,
   "metadata": {},
   "outputs": [],
   "source": []
  }
 ],
 "metadata": {
  "kernelspec": {
   "display_name": "SageMath 10.4",
   "language": "sage",
   "name": "sagemath"
  },
  "language_info": {
   "codemirror_mode": {
    "name": "ipython",
    "version": 3
   },
   "file_extension": ".py",
   "mimetype": "text/x-python",
   "name": "python",
   "nbconvert_exporter": "python",
   "pygments_lexer": "ipython3",
   "version": "3.10.15"
  },
  "widgets": {
   "application/vnd.jupyter.widget-state+json": {
    "state": {},
    "version_major": 2,
    "version_minor": 0
   }
  }
 },
 "nbformat": 4,
 "nbformat_minor": 4
}
