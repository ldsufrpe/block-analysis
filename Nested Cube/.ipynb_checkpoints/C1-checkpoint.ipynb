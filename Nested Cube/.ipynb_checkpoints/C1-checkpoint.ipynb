{
 "cells": [
  {
   "cell_type": "markdown",
   "id": "633496ff",
   "metadata": {},
   "source": [
    "## Analyzing the block $C_1$ for the Cube"
   ]
  },
  {
   "cell_type": "code",
   "execution_count": 59,
   "id": "597a5f63",
   "metadata": {},
   "outputs": [],
   "source": [
    "load(\"../util.sage\")"
   ]
  },
  {
   "cell_type": "code",
   "execution_count": 60,
   "id": "1b9dd1cf",
   "metadata": {},
   "outputs": [],
   "source": [
    "C1 = load('blocks/linear_block_1')"
   ]
  },
  {
   "cell_type": "code",
   "execution_count": 90,
   "id": "f19a18a7-7ff1-4b7d-9c38-ef680318a044",
   "metadata": {},
   "outputs": [
    {
     "data": {
      "text/html": [
       "<html>\\(\\displaystyle \\left(\\begin{array}{rr}\n",
       "24 \\, c - \\frac{1}{12} \\, \\sqrt{3} - \\frac{3}{8} \\, \\sqrt{2} - \\frac{3}{4} & 24 \\, c - \\frac{\\sqrt{3} t + \\sqrt{3}}{3 \\, {\\left(t^{3} + 3 \\, t^{2} + 3 \\, t + 1\\right)}} - \\frac{3 \\, {\\left(t + 3\\right)}}{{\\left(3 \\, t^{2} + 2 \\, t + 3\\right)}^{\\frac{3}{2}}} + \\frac{3 \\, {\\left(t - 3\\right)}}{{\\left(3 \\, t^{2} - 2 \\, t + 3\\right)}^{\\frac{3}{2}}} - \\frac{\\sqrt{3} t - \\sqrt{3}}{3 \\, {\\left(t - 1\\right)}^{3}} \\\\\n",
       "24 \\, c t - \\frac{\\sqrt{3} t + \\sqrt{3}}{3 \\, {\\left(t^{3} + 3 \\, t^{2} + 3 \\, t + 1\\right)}} - \\frac{3 \\, {\\left(3 \\, t + 1\\right)}}{{\\left(3 \\, t^{2} + 2 \\, t + 3\\right)}^{\\frac{3}{2}}} - \\frac{3 \\, {\\left(3 \\, t - 1\\right)}}{{\\left(3 \\, t^{2} - 2 \\, t + 3\\right)}^{\\frac{3}{2}}} + \\frac{\\sqrt{3} t - \\sqrt{3}}{3 \\, {\\left(t - 1\\right)}^{3}} & 24 \\, c t - \\frac{2 \\, \\sqrt{3} + 9 \\, \\sqrt{2} + 18}{24 \\, t^{2}}\n",
       "\\end{array}\\right)\\)</html>"
      ],
      "text/latex": [
       "$\\displaystyle \\left(\\begin{array}{rr}\n",
       "24 \\, c - \\frac{1}{12} \\, \\sqrt{3} - \\frac{3}{8} \\, \\sqrt{2} - \\frac{3}{4} & 24 \\, c - \\frac{\\sqrt{3} t + \\sqrt{3}}{3 \\, {\\left(t^{3} + 3 \\, t^{2} + 3 \\, t + 1\\right)}} - \\frac{3 \\, {\\left(t + 3\\right)}}{{\\left(3 \\, t^{2} + 2 \\, t + 3\\right)}^{\\frac{3}{2}}} + \\frac{3 \\, {\\left(t - 3\\right)}}{{\\left(3 \\, t^{2} - 2 \\, t + 3\\right)}^{\\frac{3}{2}}} - \\frac{\\sqrt{3} t - \\sqrt{3}}{3 \\, {\\left(t - 1\\right)}^{3}} \\\\\n",
       "24 \\, c t - \\frac{\\sqrt{3} t + \\sqrt{3}}{3 \\, {\\left(t^{3} + 3 \\, t^{2} + 3 \\, t + 1\\right)}} - \\frac{3 \\, {\\left(3 \\, t + 1\\right)}}{{\\left(3 \\, t^{2} + 2 \\, t + 3\\right)}^{\\frac{3}{2}}} - \\frac{3 \\, {\\left(3 \\, t - 1\\right)}}{{\\left(3 \\, t^{2} - 2 \\, t + 3\\right)}^{\\frac{3}{2}}} + \\frac{\\sqrt{3} t - \\sqrt{3}}{3 \\, {\\left(t - 1\\right)}^{3}} & 24 \\, c t - \\frac{2 \\, \\sqrt{3} + 9 \\, \\sqrt{2} + 18}{24 \\, t^{2}}\n",
       "\\end{array}\\right)$"
      ],
      "text/plain": [
       "[                                                                                                                                     24*c - 1/12*sqrt(3) - 3/8*sqrt(2) - 3/4       24*c - 1/3*(sqrt(3)*t + sqrt(3))/(t^3 + 3*t^2 + 3*t + 1) - 3*(t + 3)/(3*t^2 + 2*t + 3)^(3/2) + 3*(t - 3)/(3*t^2 - 2*t + 3)^(3/2) - 1/3*(sqrt(3)*t - sqrt(3))/(t - 1)^3]\n",
       "[24*c*t - 1/3*(sqrt(3)*t + sqrt(3))/(t^3 + 3*t^2 + 3*t + 1) - 3*(3*t + 1)/(3*t^2 + 2*t + 3)^(3/2) - 3*(3*t - 1)/(3*t^2 - 2*t + 3)^(3/2) + 1/3*(sqrt(3)*t - sqrt(3))/(t - 1)^3                                                                                                                               24*c*t - 1/24*(2*sqrt(3) + 9*sqrt(2) + 18)/t^2]"
      ]
     },
     "metadata": {},
     "output_type": "display_data"
    }
   ],
   "source": [
    "# simplify the expression of each block input\n",
    "C1 = C1.apply_map(lambda x: x.simplify_real().combine()); show(C1)"
   ]
  },
  {
   "cell_type": "code",
   "execution_count": null,
   "id": "cbfce732-d788-4685-ba8a-3e0f06265721",
   "metadata": {},
   "outputs": [],
   "source": [
    "# Obtain the simplified expression\n",
    "p1 = simplify_expression(C1.det())"
   ]
  },
  {
   "cell_type": "code",
   "execution_count": 62,
   "id": "0aee9ab8",
   "metadata": {},
   "outputs": [
    {
     "name": "stdout",
     "output_type": "stream",
     "text": [
      "True\n"
     ]
    }
   ],
   "source": [
    "# checks if p1 was modified after simplification\n",
    "print(bool(p1==C1.det()))\n"
   ]
  },
  {
   "cell_type": "code",
   "execution_count": 63,
   "id": "ef710b1a-0d04-4370-9153-b90a7e1d6661",
   "metadata": {},
   "outputs": [
    {
     "data": {
      "text/plain": [
       "(sqrt(3), 2*sqrt(2), 2*sqrt(2/3), 2)"
      ]
     },
     "execution_count": 63,
     "metadata": {},
     "output_type": "execute_result"
    }
   ],
   "source": [
    "# Calculate the values of u for t = 0 and t = 1\n",
    "\n",
    "# Solve 3*t^2 + 2*t + 3 = u^2 for u\n",
    "sol_u = solve(u**2 == 3*t^2 + 2*t + 3, u)[0].rhs()\n",
    "\n",
    "# Solve 3*t^2 - 2*t + 3 = v^2 for v\n",
    "sol_v = solve(v**2 == 3*t^2 - 2*t + 3, v)[0].rhs()\n",
    "\n",
    "# Get the values of u for t=0 and t=1\n",
    "u0 = sol_u(t=0)\n",
    "u1 = sol_u(t=1)\n",
    "\n",
    "# Get the values of v for t=1/3 and t=1\n",
    "v0 = sol_v(t=1/3)\n",
    "v1 = sol_v(t=1)\n",
    "\n",
    "u0, u1, v0, v1"
   ]
  },
  {
   "cell_type": "code",
   "execution_count": 64,
   "id": "56868433-a3ac-467d-bc44-e9ffc7ad70be",
   "metadata": {},
   "outputs": [],
   "source": [
    "variable_ranges = [(u0, u1), (v0, v1), (0, 1)]"
   ]
  },
  {
   "cell_type": "markdown",
   "id": "a4391187",
   "metadata": {},
   "source": [
    "### Proof Lemma 5:\n",
    "#### 1. $\\gamma_1(t)$ is negative for $t$ in $(0,1)$."
   ]
  },
  {
   "cell_type": "markdown",
   "id": "d46b9196",
   "metadata": {},
   "source": [
    "##### Change of variables:  $v^2 = 3t^2 - 2t + 3$, $u^2=3t^2 + 2t + 3$ "
   ]
  },
  {
   "cell_type": "code",
   "execution_count": 65,
   "id": "d61c28a9",
   "metadata": {},
   "outputs": [
    {
     "data": {
      "text/html": [
       "<html>\\(\\displaystyle -2 \\, \\sqrt{3} t - 9 \\, \\sqrt{2} t - 18 \\, t + \\frac{72 \\, {\\left(t^{2} + 6 \\, t + 1\\right)}}{{\\left(3 \\, t^{2} + 2 \\, t + 3\\right)}^{\\frac{3}{2}}} - \\frac{72 \\, {\\left(t^{2} - 6 \\, t + 1\\right)}}{{\\left(3 \\, t^{2} - 2 \\, t + 3\\right)}^{\\frac{3}{2}}} + \\frac{8 \\, \\sqrt{3}}{t + 1} + \\frac{8 \\, \\sqrt{3}}{t - 1} - \\frac{2 \\, \\sqrt{3} + 9 \\, \\sqrt{2} + 18}{t^{2}}\\)</html>"
      ],
      "text/latex": [
       "$\\displaystyle -2 \\, \\sqrt{3} t - 9 \\, \\sqrt{2} t - 18 \\, t + \\frac{72 \\, {\\left(t^{2} + 6 \\, t + 1\\right)}}{{\\left(3 \\, t^{2} + 2 \\, t + 3\\right)}^{\\frac{3}{2}}} - \\frac{72 \\, {\\left(t^{2} - 6 \\, t + 1\\right)}}{{\\left(3 \\, t^{2} - 2 \\, t + 3\\right)}^{\\frac{3}{2}}} + \\frac{8 \\, \\sqrt{3}}{t + 1} + \\frac{8 \\, \\sqrt{3}}{t - 1} - \\frac{2 \\, \\sqrt{3} + 9 \\, \\sqrt{2} + 18}{t^{2}}$"
      ],
      "text/plain": [
       "-2*sqrt(3)*t - 9*sqrt(2)*t - 18*t + 72*(t^2 + 6*t + 1)/(3*t^2 + 2*t + 3)^(3/2) - 72*(t^2 - 6*t + 1)/(3*t^2 - 2*t + 3)^(3/2) + 8*sqrt(3)/(t + 1) + 8*sqrt(3)/(t - 1) - (2*sqrt(3) + 9*sqrt(2) + 18)/t^2"
      ]
     },
     "metadata": {},
     "output_type": "display_data"
    }
   ],
   "source": [
    "γ1 = p1.coefficients()[1][0]; show(γ1)"
   ]
  },
  {
   "cell_type": "code",
   "execution_count": 66,
   "id": "a998112f",
   "metadata": {},
   "outputs": [],
   "source": [
    "t, u, v = var('t, u, v')\n",
    "assume(u>0); assume(v>0)\n",
    "γ1_uvt_numerator = γ1.subs({(3*t^2 - 2*t + 3):v^2}).subs({(3*t^2 + 2*t + 3):u^2}).factor().numerator()"
   ]
  },
  {
   "cell_type": "markdown",
   "id": "0c992a39-95e9-4506-a037-69d6cfa57b07",
   "metadata": {},
   "source": [
    "##### Calculates the Möbius coefficient"
   ]
  },
  {
   "cell_type": "code",
   "execution_count": 67,
   "id": "1c2094c1-e398-4bc5-b2c1-de04da6743c9",
   "metadata": {},
   "outputs": [],
   "source": [
    "coefficient_dict = polynomial_to_dict(γ1_uvt_numerator)"
   ]
  },
  {
   "cell_type": "code",
   "execution_count": 68,
   "id": "dea9bfe8",
   "metadata": {},
   "outputs": [],
   "source": [
    "variables = γ1_uvt_numerator.variables()\n",
    "total_degree  =  [γ1_uvt_numerator.degree(j) for j in variables]\n",
    "n_uplas = [\n",
    "    [i, j, k]\n",
    "    for i in range(total_degree[0] + 1)\n",
    "    for j in range(total_degree[1] + 1)\n",
    "    for k in range(total_degree[2] + 1)\n",
    "]"
   ]
  },
  {
   "cell_type": "code",
   "execution_count": 69,
   "id": "b662c2fe",
   "metadata": {},
   "outputs": [],
   "source": [
    "coeff = []\n",
    "for i, degree_per_variable in enumerate(n_uplas):    \n",
    "    c = moebius_coefficient(γ1_uvt_numerator, degree_per_variable, total_degree, variable_ranges, coefficient_dict)\n",
    "    coeff.append(c)"
   ]
  },
  {
   "cell_type": "code",
   "execution_count": 70,
   "id": "bef1a5e2-3db0-4e6f-8641-9800f3ea77a6",
   "metadata": {},
   "outputs": [],
   "source": [
    "coefficient_signs = set([sign(c) for c in coeff])"
   ]
  },
  {
   "cell_type": "code",
   "execution_count": 71,
   "id": "04e7f669-0e0f-46ca-b223-194d1b5fc8f1",
   "metadata": {},
   "outputs": [
    {
     "data": {
      "text/plain": [
       "{1}"
      ]
     },
     "execution_count": 71,
     "metadata": {},
     "output_type": "execute_result"
    }
   ],
   "source": [
    "set(coefficient_signs)"
   ]
  },
  {
   "cell_type": "markdown",
   "id": "3ca1aaf9-1068-4a99-b752-70969880fd4b",
   "metadata": {},
   "source": [
    "##### Limit at the extremes"
   ]
  },
  {
   "cell_type": "code",
   "execution_count": 72,
   "id": "50b9f4db",
   "metadata": {},
   "outputs": [
    {
     "data": {
      "text/plain": [
       "(-Infinity, -Infinity)"
      ]
     },
     "execution_count": 72,
     "metadata": {},
     "output_type": "execute_result"
    }
   ],
   "source": [
    "limit(γ1, t=0, dir='+'), limit(γ1, t=1, dir='-')"
   ]
  },
  {
   "cell_type": "markdown",
   "id": "7d9fb9ef",
   "metadata": {},
   "source": [
    "#### 2. $\\gamma_0(t)$ is positive for $t$ in $(0,1)$."
   ]
  },
  {
   "cell_type": "code",
   "execution_count": 91,
   "id": "5abb30fc",
   "metadata": {},
   "outputs": [
    {
     "data": {
      "text/html": [
       "<html>\\(\\displaystyle -\\frac{9 \\, {\\left(3 \\, t^{2} + 10 \\, t + 3\\right)}}{27 \\, t^{6} + 54 \\, t^{5} + 117 \\, t^{4} + 116 \\, t^{3} + 117 \\, t^{2} + 54 \\, t + 27} + \\frac{9 \\, {\\left(3 \\, t^{2} - 10 \\, t + 3\\right)}}{27 \\, t^{6} - 54 \\, t^{5} + 117 \\, t^{4} - 116 \\, t^{3} + 117 \\, t^{2} - 54 \\, t + 27} - \\frac{1}{3 \\, {\\left(t^{4} + 4 \\, t^{3} + 6 \\, t^{2} + 4 \\, t + 1\\right)}} + \\frac{1}{3 \\, {\\left(t^{4} - 4 \\, t^{3} + 6 \\, t^{2} - 4 \\, t + 1\\right)}} - \\frac{4 \\, \\sqrt{3}}{{\\left(3 \\, t^{3} + 5 \\, t^{2} + 5 \\, t + 3\\right)} \\sqrt{3 \\, t^{2} + 2 \\, t + 3}} - \\frac{2 \\, \\sqrt{3}}{{\\left(3 \\, t^{3} - t^{2} + t - 3\\right)} \\sqrt{3 \\, t^{2} + 2 \\, t + 3}} - \\frac{2 \\, \\sqrt{3}}{{\\left(3 \\, t^{3} + t^{2} + t + 3\\right)} \\sqrt{3 \\, t^{2} - 2 \\, t + 3}} - \\frac{4 \\, \\sqrt{3}}{{\\left(3 \\, t^{3} - 5 \\, t^{2} + 5 \\, t - 3\\right)} \\sqrt{3 \\, t^{2} - 2 \\, t + 3}} + \\frac{6 \\, \\sqrt{3} {\\left(\\sqrt{2} + 2\\right)} + 54 \\, \\sqrt{2} + 83}{96 \\, t^{2}} - \\frac{144 \\, t}{{\\left(9 \\, t^{4} + 14 \\, t^{2} + 9\\right)} \\sqrt{3 \\, t^{2} + 2 \\, t + 3} \\sqrt{3 \\, t^{2} - 2 \\, t + 3}}\\)</html>"
      ],
      "text/latex": [
       "$\\displaystyle -\\frac{9 \\, {\\left(3 \\, t^{2} + 10 \\, t + 3\\right)}}{27 \\, t^{6} + 54 \\, t^{5} + 117 \\, t^{4} + 116 \\, t^{3} + 117 \\, t^{2} + 54 \\, t + 27} + \\frac{9 \\, {\\left(3 \\, t^{2} - 10 \\, t + 3\\right)}}{27 \\, t^{6} - 54 \\, t^{5} + 117 \\, t^{4} - 116 \\, t^{3} + 117 \\, t^{2} - 54 \\, t + 27} - \\frac{1}{3 \\, {\\left(t^{4} + 4 \\, t^{3} + 6 \\, t^{2} + 4 \\, t + 1\\right)}} + \\frac{1}{3 \\, {\\left(t^{4} - 4 \\, t^{3} + 6 \\, t^{2} - 4 \\, t + 1\\right)}} - \\frac{4 \\, \\sqrt{3}}{{\\left(3 \\, t^{3} + 5 \\, t^{2} + 5 \\, t + 3\\right)} \\sqrt{3 \\, t^{2} + 2 \\, t + 3}} - \\frac{2 \\, \\sqrt{3}}{{\\left(3 \\, t^{3} - t^{2} + t - 3\\right)} \\sqrt{3 \\, t^{2} + 2 \\, t + 3}} - \\frac{2 \\, \\sqrt{3}}{{\\left(3 \\, t^{3} + t^{2} + t + 3\\right)} \\sqrt{3 \\, t^{2} - 2 \\, t + 3}} - \\frac{4 \\, \\sqrt{3}}{{\\left(3 \\, t^{3} - 5 \\, t^{2} + 5 \\, t - 3\\right)} \\sqrt{3 \\, t^{2} - 2 \\, t + 3}} + \\frac{6 \\, \\sqrt{3} {\\left(\\sqrt{2} + 2\\right)} + 54 \\, \\sqrt{2} + 83}{96 \\, t^{2}} - \\frac{144 \\, t}{{\\left(9 \\, t^{4} + 14 \\, t^{2} + 9\\right)} \\sqrt{3 \\, t^{2} + 2 \\, t + 3} \\sqrt{3 \\, t^{2} - 2 \\, t + 3}}$"
      ],
      "text/plain": [
       "-9*(3*t^2 + 10*t + 3)/(27*t^6 + 54*t^5 + 117*t^4 + 116*t^3 + 117*t^2 + 54*t + 27) + 9*(3*t^2 - 10*t + 3)/(27*t^6 - 54*t^5 + 117*t^4 - 116*t^3 + 117*t^2 - 54*t + 27) - 1/3/(t^4 + 4*t^3 + 6*t^2 + 4*t + 1) + 1/3/(t^4 - 4*t^3 + 6*t^2 - 4*t + 1) - 4*sqrt(3)/((3*t^3 + 5*t^2 + 5*t + 3)*sqrt(3*t^2 + 2*t + 3)) - 2*sqrt(3)/((3*t^3 - t^2 + t - 3)*sqrt(3*t^2 + 2*t + 3)) - 2*sqrt(3)/((3*t^3 + t^2 + t + 3)*sqrt(3*t^2 - 2*t + 3)) - 4*sqrt(3)/((3*t^3 - 5*t^2 + 5*t - 3)*sqrt(3*t^2 - 2*t + 3)) + 1/96*(6*sqrt(3)*(sqrt(2) + 2) + 54*sqrt(2) + 83)/t^2 - 144*t/((9*t^4 + 14*t^2 + 9)*sqrt(3*t^2 + 2*t + 3)*sqrt(3*t^2 - 2*t + 3))"
      ]
     },
     "metadata": {},
     "output_type": "display_data"
    }
   ],
   "source": [
    "γ0 = p1.coefficients()[0][0]; show(γ0)"
   ]
  },
  {
   "cell_type": "markdown",
   "id": "8701eb68",
   "metadata": {},
   "source": [
    "##### Change of variables:  $v^2 = 3t^2 - 2t + 3$, $u^2=3t^2 + 2t + 3$ and $t=(u^2-v^2)/4$"
   ]
  },
  {
   "cell_type": "code",
   "execution_count": 74,
   "id": "052304c4",
   "metadata": {},
   "outputs": [],
   "source": [
    "γ0_uvt_numerator = γ0.subs({(3*t^2 - 2*t + 3):v^2}).subs({(3*t^2 + 2*t + 3):u^2}).factor().numerator(); #show(α10_u_v)"
   ]
  },
  {
   "cell_type": "markdown",
   "id": "ec59f431-4966-4b73-9510-86639c7911c7",
   "metadata": {},
   "source": [
    "##### Calculates the Möbius coefficient"
   ]
  },
  {
   "cell_type": "code",
   "execution_count": 75,
   "id": "3a0c25df",
   "metadata": {},
   "outputs": [],
   "source": [
    "coefficient_dict = polynomial_to_dict(γ0_uvt_numerator)"
   ]
  },
  {
   "cell_type": "code",
   "execution_count": 76,
   "id": "019a9ccf-6c37-4602-883c-603dee0af739",
   "metadata": {},
   "outputs": [],
   "source": [
    "variables = γ0_uvt_numerator.variables()\n",
    "total_degree  =  [γ0_uvt_numerator.degree(j) for j in variables]\n",
    "n_uplas = [\n",
    "    [i, j, k]\n",
    "    for i in range(total_degree[0] + 1)\n",
    "    for j in range(total_degree[1] + 1)\n",
    "    for k in range(total_degree[2] + 1)\n",
    "]"
   ]
  },
  {
   "cell_type": "code",
   "execution_count": 77,
   "id": "d7e2d99e",
   "metadata": {},
   "outputs": [],
   "source": [
    "coeff = []\n",
    "for i, degree_per_variable in enumerate(n_uplas):    \n",
    "    c = moebius_coefficient(γ0_uvt_numerator, degree_per_variable, total_degree, variable_ranges, coefficient_dict)\n",
    "    coeff.append(c)"
   ]
  },
  {
   "cell_type": "markdown",
   "id": "468e34ef-e003-4743-807a-5707780f18aa",
   "metadata": {},
   "source": [
    "#####  Checking the sign of Möbius coefficients"
   ]
  },
  {
   "cell_type": "code",
   "execution_count": 78,
   "id": "4809ea0c-2daf-4e5b-9361-2c9f598f0886",
   "metadata": {},
   "outputs": [],
   "source": [
    "coefficient_signs = set([sign(c) for c in coeff])"
   ]
  },
  {
   "cell_type": "code",
   "execution_count": 79,
   "id": "ddc12f14-c31e-451e-9a70-37f8ebb6a9b6",
   "metadata": {},
   "outputs": [
    {
     "data": {
      "text/plain": [
       "{-1}"
      ]
     },
     "execution_count": 79,
     "metadata": {},
     "output_type": "execute_result"
    }
   ],
   "source": [
    "set(coefficient_signs)"
   ]
  },
  {
   "cell_type": "markdown",
   "id": "b6292fd1-b4a0-43af-b3b6-7046937360dc",
   "metadata": {},
   "source": [
    "##### Limit at the extremes"
   ]
  },
  {
   "cell_type": "code",
   "execution_count": 80,
   "id": "99a06ce7-9686-4b23-9fc6-0ad09fda06f6",
   "metadata": {},
   "outputs": [
    {
     "data": {
      "text/plain": [
       "(+Infinity, +Infinity)"
      ]
     },
     "execution_count": 80,
     "metadata": {},
     "output_type": "execute_result"
    }
   ],
   "source": [
    "limit(γ0, t=0, dir='+'), limit(γ0, t=1, dir='-')"
   ]
  },
  {
   "cell_type": "markdown",
   "id": "ad29dc31-b9e8-4716-bf48-4a7be0995988",
   "metadata": {},
   "source": [
    "#### 3. $(C_1)_{11}(c(t),t)$ is positive for  $t$ in $(0,1)$."
   ]
  },
  {
   "cell_type": "markdown",
   "id": "20018e71-048a-457d-a254-ffe9208b8f95",
   "metadata": {},
   "source": [
    "##### Change of variables:  $v^2 = 3t^2 - 2t + 3$, $u^2=3t^2 + 2t + 3$."
   ]
  },
  {
   "cell_type": "code",
   "execution_count": 81,
   "id": "bcc47761-ad1a-4faf-a489-6782d4c457a9",
   "metadata": {},
   "outputs": [],
   "source": [
    "C11 = C1[0,0].subs(c = -γ0/γ1)\n",
    "C11_numerator = C11.numerator().simplify_real()"
   ]
  },
  {
   "cell_type": "code",
   "execution_count": 82,
   "id": "d4f062cd-83bf-48fe-b045-8bb85b7cf0a4",
   "metadata": {},
   "outputs": [],
   "source": [
    "var('u,v')\n",
    "assume(u>0)\n",
    "assume(v>0)\n",
    "C11_uvt_numerator = C11_numerator.subs({(3*t^2 - 2*t + 3):v^2}).subs({(3*t^2 + 2*t + 3):u^2}).simplify_real().combine()"
   ]
  },
  {
   "cell_type": "code",
   "execution_count": 83,
   "id": "06f2eeb5-f96b-4c6d-ba88-b082771f81b5",
   "metadata": {},
   "outputs": [],
   "source": [
    "C11_uvt_numerator = C11_uvt_numerator.expand()"
   ]
  },
  {
   "cell_type": "markdown",
   "id": "4a87ce10-1c73-4ed2-8a82-06f483251dc4",
   "metadata": {},
   "source": [
    "##### Calculates the Möbius coefficient"
   ]
  },
  {
   "cell_type": "code",
   "execution_count": 84,
   "id": "8a2efa26-1006-4f9f-9df5-3c5baae6e6e0",
   "metadata": {},
   "outputs": [],
   "source": [
    "coefficient_dict = polynomial_to_dict(C11_uvt_numerator)"
   ]
  },
  {
   "cell_type": "code",
   "execution_count": 85,
   "id": "363eb526-86eb-4190-9803-fcdaa735bf94",
   "metadata": {},
   "outputs": [],
   "source": [
    "variables = C11_uvt_numerator.variables()\n",
    "total_degree  =  [C11_uvt_numerator.degree(j) for j in variables]\n",
    "n_uplas = [\n",
    "    [i, j, k]\n",
    "    for i in range(total_degree[0] + 1)\n",
    "    for j in range(total_degree[1] + 1)\n",
    "    for k in range(total_degree[2] + 1)\n",
    "]"
   ]
  },
  {
   "cell_type": "code",
   "execution_count": 86,
   "id": "c0da5545-416f-48d0-9c71-040cac3b8b0e",
   "metadata": {},
   "outputs": [],
   "source": [
    "coeff = []\n",
    "for i, degree_per_variable in enumerate(n_uplas):\n",
    "    \n",
    "    c = moebius_coefficient(C11_uvt_numerator, degree_per_variable, total_degree, variable_ranges, coefficient_dict)\n",
    "    coeff.append(c)"
   ]
  },
  {
   "cell_type": "markdown",
   "id": "454e6c94-e0e8-475c-b242-289d284bcd9d",
   "metadata": {},
   "source": [
    "#####  Checking the sign of Möbius coefficients"
   ]
  },
  {
   "cell_type": "code",
   "execution_count": 87,
   "id": "a203c3b0-575f-42fa-8620-f88b0ea1d196",
   "metadata": {},
   "outputs": [],
   "source": [
    "coefficient_signs = set([sign(c) for c in coeff])"
   ]
  },
  {
   "cell_type": "code",
   "execution_count": 88,
   "id": "275e6deb-5059-4180-9ba3-43c890781a1d",
   "metadata": {},
   "outputs": [
    {
     "data": {
      "text/plain": [
       "{0, 1}"
      ]
     },
     "execution_count": 88,
     "metadata": {},
     "output_type": "execute_result"
    }
   ],
   "source": [
    "set(coefficient_signs)"
   ]
  },
  {
   "cell_type": "markdown",
   "id": "cd44e9a4-633d-4f7c-b2fe-6a0f0ae2980b",
   "metadata": {},
   "source": [
    "##### Limit at the extremes"
   ]
  },
  {
   "cell_type": "code",
   "execution_count": 89,
   "id": "f225d301-20ce-4600-bf99-e96765787866",
   "metadata": {},
   "outputs": [
    {
     "data": {
      "text/plain": [
       "(0, +Infinity)"
      ]
     },
     "execution_count": 89,
     "metadata": {},
     "output_type": "execute_result"
    }
   ],
   "source": [
    "limit(C11, t=0, dir='+'), limit(C11, t=1, dir='-')"
   ]
  },
  {
   "cell_type": "markdown",
   "id": "ee25204e-8780-4354-bdf2-438b7175fa64",
   "metadata": {},
   "source": [
    "##### 5. There exits a $\\delta<1$ such $(O_1)_{12}(c(t),t)$ is negative for $t$ in $(0,\\delta)$ and is positive for $t$ in $(\\delta,1)$ ."
   ]
  },
  {
   "cell_type": "code",
   "execution_count": 49,
   "id": "54f08958-ca2a-40cb-b5f7-8bc4c5f62441",
   "metadata": {},
   "outputs": [],
   "source": [
    "C12 = C1[0,1].subs(c = -γ0/γ1)\n",
    "C12_diff = diff(C12, t) # derivative"
   ]
  },
  {
   "cell_type": "code",
   "execution_count": 50,
   "id": "6a19e076-20ea-4be0-be3b-080ef68a51c6",
   "metadata": {},
   "outputs": [],
   "source": [
    "C12_diff_numerator = C12_diff.numerator().simplify_real().expand().combine()"
   ]
  },
  {
   "cell_type": "code",
   "execution_count": 51,
   "id": "ed717aa7-ed61-48b4-b848-eb88aa670b23",
   "metadata": {},
   "outputs": [],
   "source": [
    "C12_diff_numerator_uvt = C12_diff_numerator.subs({(3*t^2 - 2*t + 3):v^2}).subs({(3*t^2 + 2*t + 3):u^2}).simplify_real().expand().combine()"
   ]
  },
  {
   "cell_type": "markdown",
   "id": "eb477aa0-14a8-4d2a-9fbb-6a54c7484564",
   "metadata": {},
   "source": [
    "##### Calculates the Möbius coefficient"
   ]
  },
  {
   "cell_type": "code",
   "execution_count": 52,
   "id": "e8c4e020-11c5-4acf-a76a-d653c4155d08",
   "metadata": {},
   "outputs": [],
   "source": [
    "coefficient_dict = polynomial_to_dict(C12_diff_numerator_uvt)"
   ]
  },
  {
   "cell_type": "code",
   "execution_count": null,
   "id": "0cca7d59-1768-4638-810e-ab737387d29d",
   "metadata": {},
   "outputs": [],
   "source": [
    "variables = C12_diff_numerator_uvt.variables()\n",
    "total_degree  =  [C12_diff_numerator_uvt.degree(j) for j in variables]\n",
    "n_uplas = [\n",
    "    [i, j, k]\n",
    "    for i in range(total_degree[0] + 1)\n",
    "    for j in range(total_degree[1] + 1)\n",
    "    for k in range(total_degree[2] + 1)\n",
    "]"
   ]
  },
  {
   "cell_type": "code",
   "execution_count": null,
   "id": "839fa068-5725-48e2-9c91-4a671a590d4e",
   "metadata": {},
   "outputs": [],
   "source": [
    "coeff = []\n",
    "for i, degree_per_variable in enumerate(n_uplas):    \n",
    "    c = moebius_coefficient(C12_diff_numerator_uvt, degree_per_variable, total_degree, variable_ranges, coefficient_dict)\n",
    "    coeff.append(c)"
   ]
  },
  {
   "cell_type": "markdown",
   "id": "b20993b0-e487-49f4-8b43-ecbc3e491e45",
   "metadata": {},
   "source": [
    "#####  Checking the sign of Möbius coefficients"
   ]
  },
  {
   "cell_type": "code",
   "execution_count": null,
   "id": "9352b4de-2dc5-48b7-9695-ae81d0ee6cc8",
   "metadata": {},
   "outputs": [],
   "source": [
    "coefficient_signs = set([sign(c) for c in coeff])"
   ]
  },
  {
   "cell_type": "code",
   "execution_count": null,
   "id": "842a34a3-215f-4011-aca1-228848a9b1dd",
   "metadata": {},
   "outputs": [],
   "source": [
    "set(coefficient_signs)"
   ]
  },
  {
   "cell_type": "markdown",
   "id": "be6d7c2b-87a4-4a5a-bf80-6ad7105a2935",
   "metadata": {},
   "source": [
    "##### Limit at the extremes"
   ]
  },
  {
   "cell_type": "code",
   "execution_count": 56,
   "id": "e07f8947-43b2-49a2-8047-9861e4ded6bf",
   "metadata": {},
   "outputs": [
    {
     "data": {
      "text/plain": [
       "(True, True)"
      ]
     },
     "execution_count": 56,
     "metadata": {},
     "output_type": "execute_result"
    }
   ],
   "source": [
    "bool(limit(C12, t=0, dir='+')< 0), bool(limit(C11, t=1, dir='-') > 0)"
   ]
  },
  {
   "cell_type": "code",
   "execution_count": null,
   "id": "cd890752-ef96-431f-a74d-db14437dec40",
   "metadata": {},
   "outputs": [],
   "source": []
  }
 ],
 "metadata": {
  "kernelspec": {
   "display_name": "SageMath 10.3",
   "language": "sage",
   "name": "sagemath"
  },
  "language_info": {
   "codemirror_mode": {
    "name": "ipython",
    "version": 3
   },
   "file_extension": ".py",
   "mimetype": "text/x-python",
   "name": "python",
   "nbconvert_exporter": "python",
   "pygments_lexer": "ipython3",
   "version": "3.12.3"
  },
  "widgets": {
   "application/vnd.jupyter.widget-state+json": {
    "state": {},
    "version_major": 2,
    "version_minor": 0
   }
  }
 },
 "nbformat": 4,
 "nbformat_minor": 5
}
