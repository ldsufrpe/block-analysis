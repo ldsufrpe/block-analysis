{
 "cells": [
  {
   "cell_type": "markdown",
   "metadata": {},
   "source": [
    "## Analyzing the block $\\mathfrak{C}_2$ for the Cube"
   ]
  },
  {
   "cell_type": "code",
   "execution_count": 1,
   "metadata": {
    "collapsed": false,
    "jupyter": {
     "outputs_hidden": false
    }
   },
   "outputs": [],
   "source": [
    "load(\"../util.sage\")"
   ]
  },
  {
   "cell_type": "code",
   "execution_count": 2,
   "metadata": {},
   "outputs": [
    {
     "data": {
      "text/html": [
       "<html>\\(\\displaystyle \\left(\\begin{array}{rr}\n",
       "\\frac{1}{12} \\, \\sqrt{3} - \\frac{3}{8} \\, \\sqrt{2} + \\frac{3}{4} & \\frac{\\sqrt{3} t + \\sqrt{3}}{3 \\, {\\left(t^{3} + 3 \\, t^{2} + 3 \\, t + 1\\right)}} - \\frac{3 \\, {\\left(t + 3\\right)}}{{\\left(3 \\, t^{2} + 2 \\, t + 3\\right)}^{\\frac{3}{2}}} - \\frac{3 \\, {\\left(t - 3\\right)}}{{\\left(3 \\, t^{2} - 2 \\, t + 3\\right)}^{\\frac{3}{2}}} - \\frac{\\sqrt{3} t - \\sqrt{3}}{3 \\, {\\left(t - 1\\right)}^{3}} \\\\\n",
       "\\frac{\\sqrt{3} t + \\sqrt{3}}{3 \\, {\\left(t^{3} + 3 \\, t^{2} + 3 \\, t + 1\\right)}} - \\frac{3 \\, {\\left(3 \\, t + 1\\right)}}{{\\left(3 \\, t^{2} + 2 \\, t + 3\\right)}^{\\frac{3}{2}}} + \\frac{3 \\, {\\left(3 \\, t - 1\\right)}}{{\\left(3 \\, t^{2} - 2 \\, t + 3\\right)}^{\\frac{3}{2}}} + \\frac{\\sqrt{3} t - \\sqrt{3}}{3 \\, {\\left(t - 1\\right)}^{3}} & \\frac{2 \\, \\sqrt{3} - 9 \\, \\sqrt{2} + 18}{24 \\, t^{2}}\n",
       "\\end{array}\\right)\\)</html>"
      ],
      "text/latex": [
       "$\\displaystyle \\left(\\begin{array}{rr}\n",
       "\\frac{1}{12} \\, \\sqrt{3} - \\frac{3}{8} \\, \\sqrt{2} + \\frac{3}{4} & \\frac{\\sqrt{3} t + \\sqrt{3}}{3 \\, {\\left(t^{3} + 3 \\, t^{2} + 3 \\, t + 1\\right)}} - \\frac{3 \\, {\\left(t + 3\\right)}}{{\\left(3 \\, t^{2} + 2 \\, t + 3\\right)}^{\\frac{3}{2}}} - \\frac{3 \\, {\\left(t - 3\\right)}}{{\\left(3 \\, t^{2} - 2 \\, t + 3\\right)}^{\\frac{3}{2}}} - \\frac{\\sqrt{3} t - \\sqrt{3}}{3 \\, {\\left(t - 1\\right)}^{3}} \\\\\n",
       "\\frac{\\sqrt{3} t + \\sqrt{3}}{3 \\, {\\left(t^{3} + 3 \\, t^{2} + 3 \\, t + 1\\right)}} - \\frac{3 \\, {\\left(3 \\, t + 1\\right)}}{{\\left(3 \\, t^{2} + 2 \\, t + 3\\right)}^{\\frac{3}{2}}} + \\frac{3 \\, {\\left(3 \\, t - 1\\right)}}{{\\left(3 \\, t^{2} - 2 \\, t + 3\\right)}^{\\frac{3}{2}}} + \\frac{\\sqrt{3} t - \\sqrt{3}}{3 \\, {\\left(t - 1\\right)}^{3}} & \\frac{2 \\, \\sqrt{3} - 9 \\, \\sqrt{2} + 18}{24 \\, t^{2}}\n",
       "\\end{array}\\right)$"
      ],
      "text/plain": [
       "[                                                                                                                                   1/12*sqrt(3) - 3/8*sqrt(2) + 3/4     1/3*(sqrt(3)*t + sqrt(3))/(t^3 + 3*t^2 + 3*t + 1) - 3*(t + 3)/(3*t^2 + 2*t + 3)^(3/2) - 3*(t - 3)/(3*t^2 - 2*t + 3)^(3/2) - 1/3*(sqrt(3)*t - sqrt(3))/(t - 1)^3]\n",
       "[1/3*(sqrt(3)*t + sqrt(3))/(t^3 + 3*t^2 + 3*t + 1) - 3*(3*t + 1)/(3*t^2 + 2*t + 3)^(3/2) + 3*(3*t - 1)/(3*t^2 - 2*t + 3)^(3/2) + 1/3*(sqrt(3)*t - sqrt(3))/(t - 1)^3                                                                                                                               1/24*(2*sqrt(3) - 9*sqrt(2) + 18)/t^2]"
      ]
     },
     "metadata": {},
     "output_type": "display_data"
    }
   ],
   "source": [
    "C2 = load('blocks/linear_block_2.sobj')\n",
    "C2 = C2.apply_map(lambda x: x.simplify_real().combine()); show(C2)"
   ]
  },
  {
   "cell_type": "code",
   "execution_count": 3,
   "metadata": {},
   "outputs": [],
   "source": [
    "# Obtain the simplified expression\n",
    "p2 = simplify_expression(C2.det())"
   ]
  },
  {
   "cell_type": "code",
   "execution_count": 4,
   "metadata": {},
   "outputs": [
    {
     "name": "stdout",
     "output_type": "stream",
     "text": [
      "True\n"
     ]
    }
   ],
   "source": [
    "# checks if p1 was modified after simplification\n",
    "print(bool(p2==C2.det()))"
   ]
  },
  {
   "cell_type": "markdown",
   "metadata": {},
   "source": [
    "##### Calculate the values of $u$ e $v$ for $t = 0$ and $t = 1$\n"
   ]
  },
  {
   "cell_type": "code",
   "execution_count": 5,
   "metadata": {},
   "outputs": [],
   "source": [
    "q1 = 3*t^2 + 2*t + 3 #u\n",
    "q2 = 3*t^2 - 2*t + 3 #v\n",
    "\n",
    "(u0, u1) = quadratic_extrema_on_interval(q1, (0, 1))\n",
    "(v0, v1) = quadratic_extrema_on_interval(q2, (0, 1))\n",
    "\n",
    "variable_ranges_0 = [(0, 1), (u0, u1), (v0, v1)]\n",
    "\n",
    "all_variable_ranges = [variable_ranges_0]"
   ]
  },
  {
   "cell_type": "markdown",
   "metadata": {},
   "source": [
    "##### Change of variables:  $v^2 = 3t^2 - 2t + 3$, $u^2=3t^2 + 2t + 3$"
   ]
  },
  {
   "cell_type": "code",
   "execution_count": 6,
   "metadata": {
    "collapsed": false,
    "jupyter": {
     "outputs_hidden": false
    }
   },
   "outputs": [],
   "source": [
    "p2_uvt_numerator = p2.subs({3*t^2 + 2*t + 3:u^2,3*t^2 - 2*t + 3:v^2}).factor().numerator()"
   ]
  },
  {
   "cell_type": "markdown",
   "metadata": {},
   "source": [
    "##### Calculates the Möbius coefficient"
   ]
  },
  {
   "cell_type": "code",
   "execution_count": 7,
   "metadata": {},
   "outputs": [],
   "source": [
    "coefficient_dict = polynomial_to_dict(p2_uvt_numerator)"
   ]
  },
  {
   "cell_type": "code",
   "execution_count": 8,
   "metadata": {},
   "outputs": [],
   "source": [
    "variables = p2_uvt_numerator.variables()\n",
    "total_degree  =  [p2_uvt_numerator.degree(j) for j in variables]\n",
    "n_uplas = [\n",
    "    [i, j, k]\n",
    "    for i in range(total_degree[0] + 1)\n",
    "    for j in range(total_degree[1] + 1)\n",
    "    for k in range(total_degree[2] + 1)\n",
    "]"
   ]
  },
  {
   "cell_type": "markdown",
   "metadata": {},
   "source": [
    "#####  Checking the sign of Möbius coefficients"
   ]
  },
  {
   "cell_type": "code",
   "execution_count": 9,
   "metadata": {},
   "outputs": [
    {
     "name": "stdout",
     "output_type": "stream",
     "text": [
      "Starting to calculate the signs of the Möbius coefficients for t in (0, 1)\n",
      "\n",
      "\n",
      "Final iteration: 83. Elapsed time: 0.04 minutes\n",
      "Set of signs of the Möbius coefficients for t in (0, 1): {1}.\n",
      "\n",
      "\n"
     ]
    }
   ],
   "source": [
    "moebius_sign(p2_uvt_numerator, n_uplas, total_degree, all_variable_ranges, coefficient_dict)"
   ]
  },
  {
   "cell_type": "markdown",
   "metadata": {},
   "source": [
    "##### Limit at the extremes"
   ]
  },
  {
   "cell_type": "code",
   "execution_count": 10,
   "metadata": {},
   "outputs": [
    {
     "data": {
      "text/plain": [
       "(True, True)"
      ]
     },
     "execution_count": 10,
     "metadata": {},
     "output_type": "execute_result"
    }
   ],
   "source": [
    "bool(limit(p2_uvt_numerator, t=0, dir='+')> 0), bool(limit(p2_uvt_numerator, t=1, dir='-') > 0)"
   ]
  },
  {
   "cell_type": "code",
   "execution_count": null,
   "metadata": {},
   "outputs": [],
   "source": []
  }
 ],
 "metadata": {
  "kernelspec": {
   "display_name": "SageMath 10.4",
   "language": "sage",
   "name": "sagemath"
  },
  "language_info": {
   "codemirror_mode": {
    "name": "ipython",
    "version": 3
   },
   "file_extension": ".py",
   "mimetype": "text/x-python",
   "name": "python",
   "nbconvert_exporter": "python",
   "pygments_lexer": "ipython3",
   "version": "3.10.15"
  },
  "widgets": {
   "application/vnd.jupyter.widget-state+json": {
    "state": {},
    "version_major": 2,
    "version_minor": 0
   }
  }
 },
 "nbformat": 4,
 "nbformat_minor": 4
}
