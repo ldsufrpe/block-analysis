{
 "cells": [
  {
   "cell_type": "markdown",
   "metadata": {},
   "source": [
    "## Analyzing the block $\\mathfrak{D}_2$ for the dodecaedron "
   ]
  },
  {
   "cell_type": "code",
   "execution_count": 1,
   "metadata": {
    "collapsed": false,
    "jupyter": {
     "outputs_hidden": false
    }
   },
   "outputs": [],
   "source": [
    "load(\"../util.sage\")"
   ]
  },
  {
   "cell_type": "code",
   "execution_count": 2,
   "metadata": {},
   "outputs": [
    {
     "data": {
      "text/html": [
       "<html>\\(\\displaystyle \\left(\\begin{array}{rr}\n",
       "-\\frac{1}{10} \\, \\sqrt{5} - \\frac{2 \\, {\\left(\\sqrt{5} - 5\\right)}}{5 \\, {\\left(-2 \\, \\sqrt{5} + 10\\right)}^{\\frac{3}{2}}} + \\frac{16 \\, \\sqrt{5}}{5 \\, {\\left(-8 \\, \\sqrt{5} + 24\\right)}^{\\frac{3}{2}}} + \\frac{2 \\, {\\left(2 \\, \\sqrt{5} - 5\\right)}}{5 \\, {\\left(\\sqrt{5} - 1\\right)}^{3}} & \\frac{8 \\, {\\left(\\sqrt{5} t - 5 \\, t + 5 \\, \\sqrt{5} - 5\\right)}}{5 \\, {\\left(-2 \\, \\sqrt{5} t^{2} + 10 \\, t^{2} - 4 \\, \\sqrt{5} t + 4 \\, t - 2 \\, \\sqrt{5} + 10\\right)}^{\\frac{3}{2}}} - \\frac{8 \\, {\\left(\\sqrt{5} t - 5 \\, t + \\sqrt{5} - 5\\right)}}{5 \\, {\\left(-2 \\, \\sqrt{5} t^{2} + 10 \\, t^{2} - 4 \\, \\sqrt{5} t + 20 \\, t - 2 \\, \\sqrt{5} + 10\\right)}^{\\frac{3}{2}}} - \\frac{8 \\, {\\left(\\sqrt{5} t - 5 \\, t - \\sqrt{5} + 5\\right)}}{5 \\, {\\left(-2 \\, \\sqrt{5} t^{2} + 10 \\, t^{2} + 4 \\, \\sqrt{5} t - 20 \\, t - 2 \\, \\sqrt{5} + 10\\right)}^{\\frac{3}{2}}} + \\frac{8 \\, {\\left(\\sqrt{5} t - 5 \\, t - 5 \\, \\sqrt{5} + 5\\right)}}{5 \\, {\\left(-2 \\, \\sqrt{5} t^{2} + 10 \\, t^{2} + 4 \\, \\sqrt{5} t - 4 \\, t - 2 \\, \\sqrt{5} + 10\\right)}^{\\frac{3}{2}}} \\\\\n",
       "\\frac{8 \\, {\\left(5 \\, \\sqrt{5} t - 5 \\, t + \\sqrt{5} - 5\\right)}}{5 \\, {\\left(-2 \\, \\sqrt{5} t^{2} + 10 \\, t^{2} - 4 \\, \\sqrt{5} t + 4 \\, t - 2 \\, \\sqrt{5} + 10\\right)}^{\\frac{3}{2}}} - \\frac{8 \\, {\\left(5 \\, \\sqrt{5} t - 5 \\, t - \\sqrt{5} + 5\\right)}}{5 \\, {\\left(-2 \\, \\sqrt{5} t^{2} + 10 \\, t^{2} + 4 \\, \\sqrt{5} t - 4 \\, t - 2 \\, \\sqrt{5} + 10\\right)}^{\\frac{3}{2}}} - \\frac{8 \\, {\\left(\\sqrt{5} t - 5 \\, t + \\sqrt{5} - 5\\right)}}{5 \\, {\\left(-2 \\, \\sqrt{5} t^{2} + 10 \\, t^{2} - 4 \\, \\sqrt{5} t + 20 \\, t - 2 \\, \\sqrt{5} + 10\\right)}^{\\frac{3}{2}}} + \\frac{8 \\, {\\left(\\sqrt{5} t - 5 \\, t - \\sqrt{5} + 5\\right)}}{5 \\, {\\left(-2 \\, \\sqrt{5} t^{2} + 10 \\, t^{2} + 4 \\, \\sqrt{5} t - 20 \\, t - 2 \\, \\sqrt{5} + 10\\right)}^{\\frac{3}{2}}} & \\frac{16 \\, \\sqrt{5} t}{5 \\, {\\left(-8 \\, \\sqrt{5} t^{2} + 24 \\, t^{2}\\right)}^{\\frac{3}{2}}} - \\frac{2 \\, {\\left(\\sqrt{5} t - 5 \\, t\\right)}}{5 \\, {\\left(-2 \\, \\sqrt{5} t^{2} + 10 \\, t^{2}\\right)}^{\\frac{3}{2}}} - \\frac{\\sqrt{5}}{10 \\, t^{2}} + \\frac{2 \\, {\\left(2 \\, \\sqrt{5} - 5\\right)}}{5 \\, t^{2} {\\left(\\sqrt{5} - 1\\right)}^{3}}\n",
       "\\end{array}\\right)\\)</html>"
      ],
      "text/latex": [
       "$\\displaystyle \\left(\\begin{array}{rr}\n",
       "-\\frac{1}{10} \\, \\sqrt{5} - \\frac{2 \\, {\\left(\\sqrt{5} - 5\\right)}}{5 \\, {\\left(-2 \\, \\sqrt{5} + 10\\right)}^{\\frac{3}{2}}} + \\frac{16 \\, \\sqrt{5}}{5 \\, {\\left(-8 \\, \\sqrt{5} + 24\\right)}^{\\frac{3}{2}}} + \\frac{2 \\, {\\left(2 \\, \\sqrt{5} - 5\\right)}}{5 \\, {\\left(\\sqrt{5} - 1\\right)}^{3}} & \\frac{8 \\, {\\left(\\sqrt{5} t - 5 \\, t + 5 \\, \\sqrt{5} - 5\\right)}}{5 \\, {\\left(-2 \\, \\sqrt{5} t^{2} + 10 \\, t^{2} - 4 \\, \\sqrt{5} t + 4 \\, t - 2 \\, \\sqrt{5} + 10\\right)}^{\\frac{3}{2}}} - \\frac{8 \\, {\\left(\\sqrt{5} t - 5 \\, t + \\sqrt{5} - 5\\right)}}{5 \\, {\\left(-2 \\, \\sqrt{5} t^{2} + 10 \\, t^{2} - 4 \\, \\sqrt{5} t + 20 \\, t - 2 \\, \\sqrt{5} + 10\\right)}^{\\frac{3}{2}}} - \\frac{8 \\, {\\left(\\sqrt{5} t - 5 \\, t - \\sqrt{5} + 5\\right)}}{5 \\, {\\left(-2 \\, \\sqrt{5} t^{2} + 10 \\, t^{2} + 4 \\, \\sqrt{5} t - 20 \\, t - 2 \\, \\sqrt{5} + 10\\right)}^{\\frac{3}{2}}} + \\frac{8 \\, {\\left(\\sqrt{5} t - 5 \\, t - 5 \\, \\sqrt{5} + 5\\right)}}{5 \\, {\\left(-2 \\, \\sqrt{5} t^{2} + 10 \\, t^{2} + 4 \\, \\sqrt{5} t - 4 \\, t - 2 \\, \\sqrt{5} + 10\\right)}^{\\frac{3}{2}}} \\\\\n",
       "\\frac{8 \\, {\\left(5 \\, \\sqrt{5} t - 5 \\, t + \\sqrt{5} - 5\\right)}}{5 \\, {\\left(-2 \\, \\sqrt{5} t^{2} + 10 \\, t^{2} - 4 \\, \\sqrt{5} t + 4 \\, t - 2 \\, \\sqrt{5} + 10\\right)}^{\\frac{3}{2}}} - \\frac{8 \\, {\\left(5 \\, \\sqrt{5} t - 5 \\, t - \\sqrt{5} + 5\\right)}}{5 \\, {\\left(-2 \\, \\sqrt{5} t^{2} + 10 \\, t^{2} + 4 \\, \\sqrt{5} t - 4 \\, t - 2 \\, \\sqrt{5} + 10\\right)}^{\\frac{3}{2}}} - \\frac{8 \\, {\\left(\\sqrt{5} t - 5 \\, t + \\sqrt{5} - 5\\right)}}{5 \\, {\\left(-2 \\, \\sqrt{5} t^{2} + 10 \\, t^{2} - 4 \\, \\sqrt{5} t + 20 \\, t - 2 \\, \\sqrt{5} + 10\\right)}^{\\frac{3}{2}}} + \\frac{8 \\, {\\left(\\sqrt{5} t - 5 \\, t - \\sqrt{5} + 5\\right)}}{5 \\, {\\left(-2 \\, \\sqrt{5} t^{2} + 10 \\, t^{2} + 4 \\, \\sqrt{5} t - 20 \\, t - 2 \\, \\sqrt{5} + 10\\right)}^{\\frac{3}{2}}} & \\frac{16 \\, \\sqrt{5} t}{5 \\, {\\left(-8 \\, \\sqrt{5} t^{2} + 24 \\, t^{2}\\right)}^{\\frac{3}{2}}} - \\frac{2 \\, {\\left(\\sqrt{5} t - 5 \\, t\\right)}}{5 \\, {\\left(-2 \\, \\sqrt{5} t^{2} + 10 \\, t^{2}\\right)}^{\\frac{3}{2}}} - \\frac{\\sqrt{5}}{10 \\, t^{2}} + \\frac{2 \\, {\\left(2 \\, \\sqrt{5} - 5\\right)}}{5 \\, t^{2} {\\left(\\sqrt{5} - 1\\right)}^{3}}\n",
       "\\end{array}\\right)$"
      ],
      "text/plain": [
       "[                                                                                                                                                                                                                                                                                                         -1/10*sqrt(5) - 2/5*(sqrt(5) - 5)/(-2*sqrt(5) + 10)^(3/2) + 16/5*sqrt(5)/(-8*sqrt(5) + 24)^(3/2) + 2/5*(2*sqrt(5) - 5)/(sqrt(5) - 1)^3 8/5*(sqrt(5)*t - 5*t + 5*sqrt(5) - 5)/(-2*sqrt(5)*t^2 + 10*t^2 - 4*sqrt(5)*t + 4*t - 2*sqrt(5) + 10)^(3/2) - 8/5*(sqrt(5)*t - 5*t + sqrt(5) - 5)/(-2*sqrt(5)*t^2 + 10*t^2 - 4*sqrt(5)*t + 20*t - 2*sqrt(5) + 10)^(3/2) - 8/5*(sqrt(5)*t - 5*t - sqrt(5) + 5)/(-2*sqrt(5)*t^2 + 10*t^2 + 4*sqrt(5)*t - 20*t - 2*sqrt(5) + 10)^(3/2) + 8/5*(sqrt(5)*t - 5*t - 5*sqrt(5) + 5)/(-2*sqrt(5)*t^2 + 10*t^2 + 4*sqrt(5)*t - 4*t - 2*sqrt(5) + 10)^(3/2)]\n",
       "[8/5*(5*sqrt(5)*t - 5*t + sqrt(5) - 5)/(-2*sqrt(5)*t^2 + 10*t^2 - 4*sqrt(5)*t + 4*t - 2*sqrt(5) + 10)^(3/2) - 8/5*(5*sqrt(5)*t - 5*t - sqrt(5) + 5)/(-2*sqrt(5)*t^2 + 10*t^2 + 4*sqrt(5)*t - 4*t - 2*sqrt(5) + 10)^(3/2) - 8/5*(sqrt(5)*t - 5*t + sqrt(5) - 5)/(-2*sqrt(5)*t^2 + 10*t^2 - 4*sqrt(5)*t + 20*t - 2*sqrt(5) + 10)^(3/2) + 8/5*(sqrt(5)*t - 5*t - sqrt(5) + 5)/(-2*sqrt(5)*t^2 + 10*t^2 + 4*sqrt(5)*t - 20*t - 2*sqrt(5) + 10)^(3/2)                                                                                                                                                                                                                                                                           16/5*sqrt(5)*t/(-8*sqrt(5)*t^2 + 24*t^2)^(3/2) - 2/5*(sqrt(5)*t - 5*t)/(-2*sqrt(5)*t^2 + 10*t^2)^(3/2) - 1/10*sqrt(5)/t^2 + 2/5*(2*sqrt(5) - 5)/(t^2*(sqrt(5) - 1)^3)]"
      ]
     },
     "metadata": {},
     "output_type": "display_data"
    }
   ],
   "source": [
    "C2 =  load('blocks/bloco_2_linear_icosaedro.sobj')\n",
    "C2 = C2.apply_map(lambda x: x.expand().combine().simplify_real()); show(C2)"
   ]
  },
  {
   "cell_type": "code",
   "execution_count": 3,
   "metadata": {},
   "outputs": [
    {
     "data": {
      "text/html": [
       "<html>\\(\\displaystyle \\text{SR}\\)</html>"
      ],
      "text/latex": [
       "$\\displaystyle \\text{SR}$"
      ],
      "text/plain": [
       "Symbolic Ring"
      ]
     },
     "metadata": {},
     "output_type": "display_data"
    },
    {
     "data": {
      "text/html": [
       "<html>\\(\\displaystyle \\frac{1}{10} \\, \\sqrt{\\frac{1}{10}} \\sqrt{\\sqrt{5} + 5} - \\frac{1}{20} \\, \\sqrt{5} + \\frac{1}{4}\\)</html>"
      ],
      "text/latex": [
       "$\\displaystyle \\frac{1}{10} \\, \\sqrt{\\frac{1}{10}} \\sqrt{\\sqrt{5} + 5} - \\frac{1}{20} \\, \\sqrt{5} + \\frac{1}{4}$"
      ],
      "text/plain": [
       "1/10*sqrt(1/10)*sqrt(sqrt(5) + 5) - 1/20*sqrt(5) + 1/4"
      ]
     },
     "metadata": {},
     "output_type": "display_data"
    }
   ],
   "source": [
    "show((C2[0][0]).base_ring());\n",
    "show((AA(C2[0][0])).radical_expression());\n",
    "new_C2_00 = SR((AA(C2[0][0])).radical_expression());"
   ]
  },
  {
   "cell_type": "code",
   "execution_count": 4,
   "metadata": {},
   "outputs": [],
   "source": [
    "C2_simplify = matrix([[C2[0][0],C2[0][1]],[C2[1][0],(1/t**2)*C2[0][0]]]);\n",
    "new_C2_simplify = matrix([[new_C2_00, C2_simplify[0][1]],[C2_simplify[1][0],(1/t**2)*new_C2_00]]);"
   ]
  },
  {
   "cell_type": "code",
   "execution_count": 5,
   "metadata": {},
   "outputs": [],
   "source": [
    "## Obtain the simplified expression\n",
    "p2 = new_C2_simplify.det().expand().combine() #simplify_expression(C2.det())\n"
   ]
  },
  {
   "cell_type": "code",
   "execution_count": 6,
   "metadata": {},
   "outputs": [],
   "source": [
    "# checks if p1 was modified after simplification\n",
    "#print(bool(p2==C2.det()))\n",
    "p2_diff = diff(p2, t)"
   ]
  },
  {
   "cell_type": "code",
   "execution_count": null,
   "metadata": {},
   "outputs": [],
   "source": []
  },
  {
   "cell_type": "markdown",
   "metadata": {},
   "source": [
    "##### Calculate the values of $u$ for $t = 0$ and $t = 1$\n"
   ]
  },
  {
   "cell_type": "code",
   "execution_count": 7,
   "metadata": {},
   "outputs": [],
   "source": [
    "#variable_ranges = [(u0, u1), (v0, v1), (0, 1)]"
   ]
  },
  {
   "cell_type": "markdown",
   "metadata": {},
   "source": [
    "##### Change of variables:  "
   ]
  },
  {
   "cell_type": "code",
   "execution_count": 8,
   "metadata": {},
   "outputs": [],
   "source": [
    "u1, v1, u2, v2 = var('u1, v1, u2, v2')\n",
    "assume(u1>0);\n",
    "assume(v1>0);\n",
    "assume(u2>0);\n",
    "assume(v2>0);\n",
    "#assume (t>0, t<1)"
   ]
  },
  {
   "cell_type": "code",
   "execution_count": 9,
   "metadata": {},
   "outputs": [],
   "source": [
    "f_1 = -2*sqrt(5)*t^2 + 10*t^2 - 4*sqrt(5)*t + 4*t - 2*sqrt(5) + 10;# v1**2\n",
    "g_1 = -2*sqrt(5)*t^2 + 10*t^2 + 4*sqrt(5)*t - 4*t - 2*sqrt(5) + 10;# u1**2\n",
    "f_2 = -2*sqrt(5)*t^2 + 10*t^2 - 4*sqrt(5)*t + 20*t - 2*sqrt(5) + 10 # v2**2\n",
    "g_2 = -2*sqrt(5)*t^2 + 10*t^2 + 4*sqrt(5)*t - 20*t - 2*sqrt(5) + 10 # u2**2\n",
    "b = (g_1.coefficients()[1][0]);\n",
    "subs_t = (u1**2-v1**2)/(2*b) ## (g_1-f_1)/(2*b)"
   ]
  },
  {
   "cell_type": "code",
   "execution_count": 10,
   "metadata": {
    "collapsed": false,
    "jupyter": {
     "outputs_hidden": false
    }
   },
   "outputs": [],
   "source": [
    "p2_uvt_diff_numerator = p2_diff.subs({f_1:v1^2}).subs({g_1:u1^2}).subs({f_2:v2^2}).subs({g_2:u2^2}).factor().numerator()"
   ]
  },
  {
   "cell_type": "code",
   "execution_count": 11,
   "metadata": {},
   "outputs": [],
   "source": [
    "#show(p2_uvt_diff_numerator)"
   ]
  },
  {
   "cell_type": "code",
   "execution_count": 12,
   "metadata": {},
   "outputs": [],
   "source": [
    "# # Calculate the values of u for t = 0 and t = 1\n",
    "### Curvas\n",
    "f(t) = t;\n",
    "f_1t(t) = -2*sqrt(5)*t^2 + 10*t^2 - 4*sqrt(5)*t + 4*t - 2*sqrt(5) + 10;# v1**2\n",
    "g_1t(t) = -2*sqrt(5)*t^2 + 10*t^2 + 4*sqrt(5)*t - 4*t - 2*sqrt(5) + 10;# u1**2\n",
    "f_2t(t) = -2*sqrt(5)*t^2 + 10*t^2 - 4*sqrt(5)*t + 20*t - 2*sqrt(5) + 10 # v2**2\n",
    "g_2t(t) = -2*sqrt(5)*t^2 + 10*t^2 + 4*sqrt(5)*t - 20*t - 2*sqrt(5) + 10 # u2**2\n",
    "\n",
    "\n",
    "v11 = sqrt(f_1t(1)); u11 = sqrt(g_1t(1)); v21 = sqrt(f_2t(1)); u21 = sqrt(g_2t(1))\n",
    "v10 = sqrt(f_1t(0)); u10 = sqrt(g_1t(0)); v20 = sqrt(f_2t(0)); u20 = sqrt(g_2t(0))\n",
    "variable_ranges = [(15/16, 1), (u10, u11), (v10, v11), (v20, v21), (u20, u21)]"
   ]
  },
  {
   "cell_type": "markdown",
   "metadata": {},
   "source": [
    "##### Calculates the Möbius coefficient"
   ]
  },
  {
   "cell_type": "code",
   "execution_count": 13,
   "metadata": {},
   "outputs": [],
   "source": [
    "coefficient_dict = polynomial_to_dict(p2_uvt_diff_numerator);"
   ]
  },
  {
   "cell_type": "code",
   "execution_count": 14,
   "metadata": {},
   "outputs": [],
   "source": [
    "variables = p2_uvt_diff_numerator.variables()\n",
    "total_degree  =  [p2_uvt_diff_numerator.degree(j) for j in variables]\n",
    "n_uplas = [[i, j, k, l, m] for i in range(total_degree[0]+1) \n",
    "           for j in range(total_degree[1]+1)\n",
    "           for k in range(total_degree[2]+1) \n",
    "           for l in range(total_degree[3]+1) \n",
    "           for m in range(total_degree[4]+1)]"
   ]
  },
  {
   "cell_type": "code",
   "execution_count": 15,
   "metadata": {},
   "outputs": [
    {
     "data": {
      "text/plain": [
       "42768"
      ]
     },
     "execution_count": 15,
     "metadata": {},
     "output_type": "execute_result"
    }
   ],
   "source": [
    "len(n_uplas)#; variables ; total_degree"
   ]
  },
  {
   "cell_type": "code",
   "execution_count": null,
   "metadata": {},
   "outputs": [
    {
     "name": "stdout",
     "output_type": "stream",
     "text": [
      "0\n",
      "1000\n",
      "2000\n",
      "3000\n"
     ]
    }
   ],
   "source": [
    "coeff = []\n",
    "for i, degree_per_variable in enumerate(n_uplas):    \n",
    "    c = moebius_coefficient(p2_uvt_diff_numerator, degree_per_variable, total_degree, variable_ranges, coefficient_dict)\n",
    "    if i%1000==0:\n",
    "        print(i)\n",
    "    coeff.append(c)"
   ]
  },
  {
   "cell_type": "markdown",
   "metadata": {},
   "source": [
    "#####  Checking the sign of Möbius coefficients"
   ]
  },
  {
   "cell_type": "code",
   "execution_count": null,
   "metadata": {
    "collapsed": false,
    "jupyter": {
     "outputs_hidden": false
    }
   },
   "outputs": [],
   "source": [
    "coefficient_signs = set([sign(c) for c in coeff])"
   ]
  },
  {
   "cell_type": "code",
   "execution_count": null,
   "metadata": {},
   "outputs": [],
   "source": [
    "set(coefficient_signs)"
   ]
  },
  {
   "cell_type": "markdown",
   "metadata": {},
   "source": [
    "##### Limit at the extremes"
   ]
  },
  {
   "cell_type": "code",
   "execution_count": null,
   "metadata": {},
   "outputs": [],
   "source": [
    "bool(limit(p2_uvt_numerator, t=0, dir='+')> 0), bool(limit(p2_uvt_numerator, t=1, dir='-') > 0)"
   ]
  },
  {
   "cell_type": "code",
   "execution_count": null,
   "metadata": {},
   "outputs": [],
   "source": []
  }
 ],
 "metadata": {
  "kernelspec": {
   "display_name": "SageMath 10.3",
   "language": "sage",
   "name": "sagemath"
  },
  "language_info": {
   "codemirror_mode": {
    "name": "ipython",
    "version": 3
   },
   "file_extension": ".py",
   "mimetype": "text/x-python",
   "name": "python",
   "nbconvert_exporter": "python",
   "pygments_lexer": "ipython3",
   "version": "3.12.3"
  },
  "widgets": {
   "application/vnd.jupyter.widget-state+json": {
    "state": {},
    "version_major": 2,
    "version_minor": 0
   }
  }
 },
 "nbformat": 4,
 "nbformat_minor": 4
}
