{
 "cells": [
  {
   "cell_type": "markdown",
   "metadata": {},
   "source": [
    "## Analyzing the block $\\mathfrak{D}_2$ for the dodecaedron "
   ]
  },
  {
   "cell_type": "code",
   "execution_count": 1,
   "metadata": {
    "jupyter": {
     "outputs_hidden": false
    }
   },
   "outputs": [],
   "source": [
    "load(\"../util.sage\")"
   ]
  },
  {
   "cell_type": "code",
   "execution_count": 2,
   "metadata": {},
   "outputs": [],
   "source": [
    "C2 =  load('blocks/bloco_2_linear_icosaedro.sobj')\n",
    "C2 = C2.apply_map(lambda x: x.expand().combine().simplify_real()); #show(C2)"
   ]
  },
  {
   "cell_type": "code",
   "execution_count": null,
   "metadata": {},
   "outputs": [],
   "source": []
  },
  {
   "cell_type": "code",
   "execution_count": 3,
   "metadata": {},
   "outputs": [],
   "source": [
    "# show((C2[0][0]).base_ring());\n",
    "# show((AA(C2[0][0])).radical_expression());\n",
    "new_C2_00 = SR((AA(C2[0][0])).radical_expression());"
   ]
  },
  {
   "cell_type": "code",
   "execution_count": 4,
   "metadata": {},
   "outputs": [],
   "source": [
    "C2_simplify = matrix([[C2[0][0],C2[0][1]],[C2[1][0],(1/t**2)*C2[0][0]]]);\n",
    "new_C2_simplify = matrix([[new_C2_00, C2_simplify[0][1]],[C2_simplify[1][0],(1/t**2)*new_C2_00]]);"
   ]
  },
  {
   "cell_type": "code",
   "execution_count": 5,
   "metadata": {},
   "outputs": [],
   "source": [
    "## Obtain the simplified expression\n",
    "p2 = new_C2_simplify.det()#.expand().combine() #simplify_expression(C2.det())\n"
   ]
  },
  {
   "cell_type": "code",
   "execution_count": 6,
   "metadata": {},
   "outputs": [],
   "source": [
    "# checks if p1 was modified after simplification\n",
    "#print(bool(p2==C2.det()))\n",
    "#show(p2)"
   ]
  },
  {
   "cell_type": "code",
   "execution_count": 7,
   "metadata": {},
   "outputs": [],
   "source": [
    "#p2_diff = diff(p2, t).expand().combine().simplify_real()"
   ]
  },
  {
   "cell_type": "markdown",
   "metadata": {},
   "source": [
    "##### Calculate the values of $u$ for $t = 0$ and $t = 1$\n"
   ]
  },
  {
   "cell_type": "code",
   "execution_count": 8,
   "metadata": {},
   "outputs": [],
   "source": [
    "#variable_ranges = [(u0, u1), (v0, v1), (0, 1)]"
   ]
  },
  {
   "cell_type": "markdown",
   "metadata": {},
   "source": [
    "##### Change of variables:  "
   ]
  },
  {
   "cell_type": "code",
   "execution_count": 9,
   "metadata": {},
   "outputs": [],
   "source": [
    "u1, v1, u2, v2 = var('u1, v1, u2, v2')\n",
    "assume(u1>0);\n",
    "assume(v1>0);\n",
    "assume(u2>0);\n",
    "assume(v2>0);\n",
    "#assume (t>0, t<1)"
   ]
  },
  {
   "cell_type": "code",
   "execution_count": 10,
   "metadata": {},
   "outputs": [],
   "source": [
    "f_1 = -2*sqrt(5)*t^2 + 10*t^2 - 4*sqrt(5)*t + 4*t - 2*sqrt(5) + 10;# v1**2\n",
    "g_1 = -2*sqrt(5)*t^2 + 10*t^2 + 4*sqrt(5)*t - 4*t - 2*sqrt(5) + 10;# u1**2\n",
    "f_2 = -2*sqrt(5)*t^2 + 10*t^2 - 4*sqrt(5)*t + 20*t - 2*sqrt(5) + 10 # v2**2\n",
    "g_2 = -2*sqrt(5)*t^2 + 10*t^2 + 4*sqrt(5)*t - 20*t - 2*sqrt(5) + 10 # u2**2\n",
    "b = (g_1.coefficients()[1][0]);\n",
    "subs_t = (u1**2-v1**2)/(2*b) ## (g_1-f_1)/(2*b)"
   ]
  },
  {
   "cell_type": "code",
   "execution_count": 11,
   "metadata": {
    "jupyter": {
     "outputs_hidden": false
    }
   },
   "outputs": [],
   "source": [
    "p2_uvt_numerator = p2.subs({f_1:v1^2}).subs({g_1:u1^2}).subs({f_2:v2^2}).subs({g_2:(g_2)^(2/3)*u2^(2/3)}).numerator()"
   ]
  },
  {
   "cell_type": "code",
   "execution_count": 12,
   "metadata": {},
   "outputs": [],
   "source": [
    "p2_uvt_numerator = p2_uvt_numerator.expand().combine()\n"
   ]
  },
  {
   "cell_type": "code",
   "execution_count": 13,
   "metadata": {},
   "outputs": [
    {
     "data": {
      "text/html": [
       "<html>\\(\\displaystyle -4 \\, \\sqrt{5} \\sqrt{\\frac{1}{10}} t^{2} u_{1}^{6} u_{2}^{2} v_{1}^{6} v_{2}^{6} \\sqrt{\\sqrt{5} + 5} + 20 \\, \\sqrt{\\frac{1}{10}} t^{2} u_{1}^{6} u_{2}^{2} v_{1}^{6} v_{2}^{6} \\sqrt{\\sqrt{5} + 5} - \\frac{48}{5} \\, \\sqrt{5} t^{2} u_{1}^{6} u_{2}^{2} v_{1}^{6} v_{2}^{6} + 8 \\, \\sqrt{5} \\sqrt{\\frac{1}{10}} t u_{1}^{6} u_{2}^{2} v_{1}^{6} v_{2}^{6} \\sqrt{\\sqrt{5} + 5} + 32 \\, t^{2} u_{1}^{6} u_{2}^{2} v_{1}^{6} v_{2}^{6} - 40 \\, \\sqrt{\\frac{1}{10}} t u_{1}^{6} u_{2}^{2} v_{1}^{6} v_{2}^{6} \\sqrt{\\sqrt{5} + 5} + \\frac{96}{5} \\, \\sqrt{5} t u_{1}^{6} u_{2}^{2} v_{1}^{6} v_{2}^{6} - 4 \\, \\sqrt{5} \\sqrt{\\frac{1}{10}} u_{1}^{6} u_{2}^{2} v_{1}^{6} v_{2}^{6} \\sqrt{\\sqrt{5} + 5} - 64 \\, t u_{1}^{6} u_{2}^{2} v_{1}^{6} v_{2}^{6} + 20 \\, \\sqrt{\\frac{1}{10}} u_{1}^{6} u_{2}^{2} v_{1}^{6} v_{2}^{6} \\sqrt{\\sqrt{5} + 5} + 10240 \\, \\sqrt{5} t^{6} u_{1}^{6} u_{2}^{2} v_{1}^{6} - 40960 \\, \\sqrt{5} t^{6} u_{1}^{6} u_{2}^{2} v_{1}^{3} v_{2}^{3} + 20480 \\, \\sqrt{5} t^{6} u_{1}^{3} u_{2}^{2} v_{1}^{6} v_{2}^{3} + 30720 \\, \\sqrt{5} t^{6} u_{1}^{6} u_{2}^{2} v_{2}^{6} - 2048 \\, \\sqrt{5} t^{4} u_{1}^{6} u_{2} v_{1}^{3} v_{2}^{6} + 3072 \\, \\sqrt{5} t^{4} u_{1}^{3} u_{2} v_{1}^{6} v_{2}^{6} - 30720 \\, \\sqrt{5} t^{6} u_{2}^{2} v_{1}^{6} v_{2}^{6} - \\frac{48}{5} \\, \\sqrt{5} u_{1}^{6} u_{2}^{2} v_{1}^{6} v_{2}^{6} - 30720 \\, t^{6} u_{1}^{6} u_{2}^{2} v_{1}^{6} + 81920 \\, t^{6} u_{1}^{6} u_{2}^{2} v_{1}^{3} v_{2}^{3} - 20480 \\, t^{6} u_{1}^{3} u_{2}^{2} v_{1}^{6} v_{2}^{3} - 51200 \\, t^{6} u_{1}^{6} u_{2}^{2} v_{2}^{6} + 256 \\, t^{2} u_{1}^{6} v_{1}^{6} v_{2}^{6} - 5120 \\, t^{4} u_{1}^{3} u_{2} v_{1}^{6} v_{2}^{6} + 51200 \\, t^{6} u_{2}^{2} v_{1}^{6} v_{2}^{6} + 32 \\, u_{1}^{6} u_{2}^{2} v_{1}^{6} v_{2}^{6} + 4096 \\, \\sqrt{5} t^{3} u_{1}^{6} u_{2} v_{1}^{3} v_{2}^{6} - 81920 \\, \\sqrt{5} t^{5} u_{1}^{3} u_{2}^{2} v_{1}^{3} v_{2}^{6} - 6144 \\, \\sqrt{5} t^{3} u_{1}^{3} u_{2} v_{1}^{6} v_{2}^{6} + 122880 \\, \\sqrt{5} t^{5} u_{2}^{2} v_{1}^{6} v_{2}^{6} - 81920 \\, t^{5} u_{1}^{6} u_{2}^{2} v_{2}^{6} + 245760 \\, t^{5} u_{1}^{3} u_{2}^{2} v_{1}^{3} v_{2}^{6} + 10240 \\, t^{3} u_{1}^{3} u_{2} v_{1}^{6} v_{2}^{6} - 286720 \\, t^{5} u_{2}^{2} v_{1}^{6} v_{2}^{6} - 20480 \\, \\sqrt{5} t^{4} u_{1}^{6} u_{2}^{2} v_{1}^{6} + 81920 \\, \\sqrt{5} t^{4} u_{1}^{6} u_{2}^{2} v_{1}^{3} v_{2}^{3} - 40960 \\, \\sqrt{5} t^{4} u_{1}^{3} u_{2}^{2} v_{1}^{6} v_{2}^{3} - 61440 \\, \\sqrt{5} t^{4} u_{1}^{6} u_{2}^{2} v_{2}^{6} - 2048 \\, \\sqrt{5} t^{2} u_{1}^{6} u_{2} v_{1}^{3} v_{2}^{6} + 163840 \\, \\sqrt{5} t^{4} u_{1}^{3} u_{2}^{2} v_{1}^{3} v_{2}^{6} + 3072 \\, \\sqrt{5} t^{2} u_{1}^{3} u_{2} v_{1}^{6} v_{2}^{6} - 184320 \\, \\sqrt{5} t^{4} u_{2}^{2} v_{1}^{6} v_{2}^{6} + 61440 \\, t^{4} u_{1}^{6} u_{2}^{2} v_{1}^{6} - 163840 \\, t^{4} u_{1}^{6} u_{2}^{2} v_{1}^{3} v_{2}^{3} + 40960 \\, t^{4} u_{1}^{3} u_{2}^{2} v_{1}^{6} v_{2}^{3} + 266240 \\, t^{4} u_{1}^{6} u_{2}^{2} v_{2}^{6} - 491520 \\, t^{4} u_{1}^{3} u_{2}^{2} v_{1}^{3} v_{2}^{6} - 5120 \\, t^{2} u_{1}^{3} u_{2} v_{1}^{6} v_{2}^{6} + 471040 \\, t^{4} u_{2}^{2} v_{1}^{6} v_{2}^{6} - 81920 \\, \\sqrt{5} t^{3} u_{1}^{3} u_{2}^{2} v_{1}^{3} v_{2}^{6} + 122880 \\, \\sqrt{5} t^{3} u_{2}^{2} v_{1}^{6} v_{2}^{6} - 81920 \\, t^{3} u_{1}^{6} u_{2}^{2} v_{2}^{6} + 245760 \\, t^{3} u_{1}^{3} u_{2}^{2} v_{1}^{3} v_{2}^{6} - 286720 \\, t^{3} u_{2}^{2} v_{1}^{6} v_{2}^{6} + 10240 \\, \\sqrt{5} t^{2} u_{1}^{6} u_{2}^{2} v_{1}^{6} - 40960 \\, \\sqrt{5} t^{2} u_{1}^{6} u_{2}^{2} v_{1}^{3} v_{2}^{3} + 20480 \\, \\sqrt{5} t^{2} u_{1}^{3} u_{2}^{2} v_{1}^{6} v_{2}^{3} + 30720 \\, \\sqrt{5} t^{2} u_{1}^{6} u_{2}^{2} v_{2}^{6} - 30720 \\, \\sqrt{5} t^{2} u_{2}^{2} v_{1}^{6} v_{2}^{6} - 30720 \\, t^{2} u_{1}^{6} u_{2}^{2} v_{1}^{6} + 81920 \\, t^{2} u_{1}^{6} u_{2}^{2} v_{1}^{3} v_{2}^{3} - 20480 \\, t^{2} u_{1}^{3} u_{2}^{2} v_{1}^{6} v_{2}^{3} - 51200 \\, t^{2} u_{1}^{6} u_{2}^{2} v_{2}^{6} + 51200 \\, t^{2} u_{2}^{2} v_{1}^{6} v_{2}^{6}\\)</html>"
      ],
      "text/latex": [
       "$\\displaystyle -4 \\, \\sqrt{5} \\sqrt{\\frac{1}{10}} t^{2} u_{1}^{6} u_{2}^{2} v_{1}^{6} v_{2}^{6} \\sqrt{\\sqrt{5} + 5} + 20 \\, \\sqrt{\\frac{1}{10}} t^{2} u_{1}^{6} u_{2}^{2} v_{1}^{6} v_{2}^{6} \\sqrt{\\sqrt{5} + 5} - \\frac{48}{5} \\, \\sqrt{5} t^{2} u_{1}^{6} u_{2}^{2} v_{1}^{6} v_{2}^{6} + 8 \\, \\sqrt{5} \\sqrt{\\frac{1}{10}} t u_{1}^{6} u_{2}^{2} v_{1}^{6} v_{2}^{6} \\sqrt{\\sqrt{5} + 5} + 32 \\, t^{2} u_{1}^{6} u_{2}^{2} v_{1}^{6} v_{2}^{6} - 40 \\, \\sqrt{\\frac{1}{10}} t u_{1}^{6} u_{2}^{2} v_{1}^{6} v_{2}^{6} \\sqrt{\\sqrt{5} + 5} + \\frac{96}{5} \\, \\sqrt{5} t u_{1}^{6} u_{2}^{2} v_{1}^{6} v_{2}^{6} - 4 \\, \\sqrt{5} \\sqrt{\\frac{1}{10}} u_{1}^{6} u_{2}^{2} v_{1}^{6} v_{2}^{6} \\sqrt{\\sqrt{5} + 5} - 64 \\, t u_{1}^{6} u_{2}^{2} v_{1}^{6} v_{2}^{6} + 20 \\, \\sqrt{\\frac{1}{10}} u_{1}^{6} u_{2}^{2} v_{1}^{6} v_{2}^{6} \\sqrt{\\sqrt{5} + 5} + 10240 \\, \\sqrt{5} t^{6} u_{1}^{6} u_{2}^{2} v_{1}^{6} - 40960 \\, \\sqrt{5} t^{6} u_{1}^{6} u_{2}^{2} v_{1}^{3} v_{2}^{3} + 20480 \\, \\sqrt{5} t^{6} u_{1}^{3} u_{2}^{2} v_{1}^{6} v_{2}^{3} + 30720 \\, \\sqrt{5} t^{6} u_{1}^{6} u_{2}^{2} v_{2}^{6} - 2048 \\, \\sqrt{5} t^{4} u_{1}^{6} u_{2} v_{1}^{3} v_{2}^{6} + 3072 \\, \\sqrt{5} t^{4} u_{1}^{3} u_{2} v_{1}^{6} v_{2}^{6} - 30720 \\, \\sqrt{5} t^{6} u_{2}^{2} v_{1}^{6} v_{2}^{6} - \\frac{48}{5} \\, \\sqrt{5} u_{1}^{6} u_{2}^{2} v_{1}^{6} v_{2}^{6} - 30720 \\, t^{6} u_{1}^{6} u_{2}^{2} v_{1}^{6} + 81920 \\, t^{6} u_{1}^{6} u_{2}^{2} v_{1}^{3} v_{2}^{3} - 20480 \\, t^{6} u_{1}^{3} u_{2}^{2} v_{1}^{6} v_{2}^{3} - 51200 \\, t^{6} u_{1}^{6} u_{2}^{2} v_{2}^{6} + 256 \\, t^{2} u_{1}^{6} v_{1}^{6} v_{2}^{6} - 5120 \\, t^{4} u_{1}^{3} u_{2} v_{1}^{6} v_{2}^{6} + 51200 \\, t^{6} u_{2}^{2} v_{1}^{6} v_{2}^{6} + 32 \\, u_{1}^{6} u_{2}^{2} v_{1}^{6} v_{2}^{6} + 4096 \\, \\sqrt{5} t^{3} u_{1}^{6} u_{2} v_{1}^{3} v_{2}^{6} - 81920 \\, \\sqrt{5} t^{5} u_{1}^{3} u_{2}^{2} v_{1}^{3} v_{2}^{6} - 6144 \\, \\sqrt{5} t^{3} u_{1}^{3} u_{2} v_{1}^{6} v_{2}^{6} + 122880 \\, \\sqrt{5} t^{5} u_{2}^{2} v_{1}^{6} v_{2}^{6} - 81920 \\, t^{5} u_{1}^{6} u_{2}^{2} v_{2}^{6} + 245760 \\, t^{5} u_{1}^{3} u_{2}^{2} v_{1}^{3} v_{2}^{6} + 10240 \\, t^{3} u_{1}^{3} u_{2} v_{1}^{6} v_{2}^{6} - 286720 \\, t^{5} u_{2}^{2} v_{1}^{6} v_{2}^{6} - 20480 \\, \\sqrt{5} t^{4} u_{1}^{6} u_{2}^{2} v_{1}^{6} + 81920 \\, \\sqrt{5} t^{4} u_{1}^{6} u_{2}^{2} v_{1}^{3} v_{2}^{3} - 40960 \\, \\sqrt{5} t^{4} u_{1}^{3} u_{2}^{2} v_{1}^{6} v_{2}^{3} - 61440 \\, \\sqrt{5} t^{4} u_{1}^{6} u_{2}^{2} v_{2}^{6} - 2048 \\, \\sqrt{5} t^{2} u_{1}^{6} u_{2} v_{1}^{3} v_{2}^{6} + 163840 \\, \\sqrt{5} t^{4} u_{1}^{3} u_{2}^{2} v_{1}^{3} v_{2}^{6} + 3072 \\, \\sqrt{5} t^{2} u_{1}^{3} u_{2} v_{1}^{6} v_{2}^{6} - 184320 \\, \\sqrt{5} t^{4} u_{2}^{2} v_{1}^{6} v_{2}^{6} + 61440 \\, t^{4} u_{1}^{6} u_{2}^{2} v_{1}^{6} - 163840 \\, t^{4} u_{1}^{6} u_{2}^{2} v_{1}^{3} v_{2}^{3} + 40960 \\, t^{4} u_{1}^{3} u_{2}^{2} v_{1}^{6} v_{2}^{3} + 266240 \\, t^{4} u_{1}^{6} u_{2}^{2} v_{2}^{6} - 491520 \\, t^{4} u_{1}^{3} u_{2}^{2} v_{1}^{3} v_{2}^{6} - 5120 \\, t^{2} u_{1}^{3} u_{2} v_{1}^{6} v_{2}^{6} + 471040 \\, t^{4} u_{2}^{2} v_{1}^{6} v_{2}^{6} - 81920 \\, \\sqrt{5} t^{3} u_{1}^{3} u_{2}^{2} v_{1}^{3} v_{2}^{6} + 122880 \\, \\sqrt{5} t^{3} u_{2}^{2} v_{1}^{6} v_{2}^{6} - 81920 \\, t^{3} u_{1}^{6} u_{2}^{2} v_{2}^{6} + 245760 \\, t^{3} u_{1}^{3} u_{2}^{2} v_{1}^{3} v_{2}^{6} - 286720 \\, t^{3} u_{2}^{2} v_{1}^{6} v_{2}^{6} + 10240 \\, \\sqrt{5} t^{2} u_{1}^{6} u_{2}^{2} v_{1}^{6} - 40960 \\, \\sqrt{5} t^{2} u_{1}^{6} u_{2}^{2} v_{1}^{3} v_{2}^{3} + 20480 \\, \\sqrt{5} t^{2} u_{1}^{3} u_{2}^{2} v_{1}^{6} v_{2}^{3} + 30720 \\, \\sqrt{5} t^{2} u_{1}^{6} u_{2}^{2} v_{2}^{6} - 30720 \\, \\sqrt{5} t^{2} u_{2}^{2} v_{1}^{6} v_{2}^{6} - 30720 \\, t^{2} u_{1}^{6} u_{2}^{2} v_{1}^{6} + 81920 \\, t^{2} u_{1}^{6} u_{2}^{2} v_{1}^{3} v_{2}^{3} - 20480 \\, t^{2} u_{1}^{3} u_{2}^{2} v_{1}^{6} v_{2}^{3} - 51200 \\, t^{2} u_{1}^{6} u_{2}^{2} v_{2}^{6} + 51200 \\, t^{2} u_{2}^{2} v_{1}^{6} v_{2}^{6}$"
      ],
      "text/plain": [
       "-4*sqrt(5)*sqrt(1/10)*t^2*u1^6*u2^2*v1^6*v2^6*sqrt(sqrt(5) + 5) + 20*sqrt(1/10)*t^2*u1^6*u2^2*v1^6*v2^6*sqrt(sqrt(5) + 5) - 48/5*sqrt(5)*t^2*u1^6*u2^2*v1^6*v2^6 + 8*sqrt(5)*sqrt(1/10)*t*u1^6*u2^2*v1^6*v2^6*sqrt(sqrt(5) + 5) + 32*t^2*u1^6*u2^2*v1^6*v2^6 - 40*sqrt(1/10)*t*u1^6*u2^2*v1^6*v2^6*sqrt(sqrt(5) + 5) + 96/5*sqrt(5)*t*u1^6*u2^2*v1^6*v2^6 - 4*sqrt(5)*sqrt(1/10)*u1^6*u2^2*v1^6*v2^6*sqrt(sqrt(5) + 5) - 64*t*u1^6*u2^2*v1^6*v2^6 + 20*sqrt(1/10)*u1^6*u2^2*v1^6*v2^6*sqrt(sqrt(5) + 5) + 10240*sqrt(5)*t^6*u1^6*u2^2*v1^6 - 40960*sqrt(5)*t^6*u1^6*u2^2*v1^3*v2^3 + 20480*sqrt(5)*t^6*u1^3*u2^2*v1^6*v2^3 + 30720*sqrt(5)*t^6*u1^6*u2^2*v2^6 - 2048*sqrt(5)*t^4*u1^6*u2*v1^3*v2^6 + 3072*sqrt(5)*t^4*u1^3*u2*v1^6*v2^6 - 30720*sqrt(5)*t^6*u2^2*v1^6*v2^6 - 48/5*sqrt(5)*u1^6*u2^2*v1^6*v2^6 - 30720*t^6*u1^6*u2^2*v1^6 + 81920*t^6*u1^6*u2^2*v1^3*v2^3 - 20480*t^6*u1^3*u2^2*v1^6*v2^3 - 51200*t^6*u1^6*u2^2*v2^6 + 256*t^2*u1^6*v1^6*v2^6 - 5120*t^4*u1^3*u2*v1^6*v2^6 + 51200*t^6*u2^2*v1^6*v2^6 + 32*u1^6*u2^2*v1^6*v2^6 + 4096*sqrt(5)*t^3*u1^6*u2*v1^3*v2^6 - 81920*sqrt(5)*t^5*u1^3*u2^2*v1^3*v2^6 - 6144*sqrt(5)*t^3*u1^3*u2*v1^6*v2^6 + 122880*sqrt(5)*t^5*u2^2*v1^6*v2^6 - 81920*t^5*u1^6*u2^2*v2^6 + 245760*t^5*u1^3*u2^2*v1^3*v2^6 + 10240*t^3*u1^3*u2*v1^6*v2^6 - 286720*t^5*u2^2*v1^6*v2^6 - 20480*sqrt(5)*t^4*u1^6*u2^2*v1^6 + 81920*sqrt(5)*t^4*u1^6*u2^2*v1^3*v2^3 - 40960*sqrt(5)*t^4*u1^3*u2^2*v1^6*v2^3 - 61440*sqrt(5)*t^4*u1^6*u2^2*v2^6 - 2048*sqrt(5)*t^2*u1^6*u2*v1^3*v2^6 + 163840*sqrt(5)*t^4*u1^3*u2^2*v1^3*v2^6 + 3072*sqrt(5)*t^2*u1^3*u2*v1^6*v2^6 - 184320*sqrt(5)*t^4*u2^2*v1^6*v2^6 + 61440*t^4*u1^6*u2^2*v1^6 - 163840*t^4*u1^6*u2^2*v1^3*v2^3 + 40960*t^4*u1^3*u2^2*v1^6*v2^3 + 266240*t^4*u1^6*u2^2*v2^6 - 491520*t^4*u1^3*u2^2*v1^3*v2^6 - 5120*t^2*u1^3*u2*v1^6*v2^6 + 471040*t^4*u2^2*v1^6*v2^6 - 81920*sqrt(5)*t^3*u1^3*u2^2*v1^3*v2^6 + 122880*sqrt(5)*t^3*u2^2*v1^6*v2^6 - 81920*t^3*u1^6*u2^2*v2^6 + 245760*t^3*u1^3*u2^2*v1^3*v2^6 - 286720*t^3*u2^2*v1^6*v2^6 + 10240*sqrt(5)*t^2*u1^6*u2^2*v1^6 - 40960*sqrt(5)*t^2*u1^6*u2^2*v1^3*v2^3 + 20480*sqrt(5)*t^2*u1^3*u2^2*v1^6*v2^3 + 30720*sqrt(5)*t^2*u1^6*u2^2*v2^6 - 30720*sqrt(5)*t^2*u2^2*v1^6*v2^6 - 30720*t^2*u1^6*u2^2*v1^6 + 81920*t^2*u1^6*u2^2*v1^3*v2^3 - 20480*t^2*u1^3*u2^2*v1^6*v2^3 - 51200*t^2*u1^6*u2^2*v2^6 + 51200*t^2*u2^2*v1^6*v2^6"
      ]
     },
     "metadata": {},
     "output_type": "display_data"
    }
   ],
   "source": [
    "show(p2_uvt_numerator)"
   ]
  },
  {
   "cell_type": "code",
   "execution_count": 14,
   "metadata": {},
   "outputs": [],
   "source": [
    "# # Calculate the values of u for t = 0 and t = 1\n",
    "### Curvas\n",
    "f(t) = t;\n",
    "f_1t(t) = -2*sqrt(5)*t^2 + 10*t^2 - 4*sqrt(5)*t + 4*t - 2*sqrt(5) + 10;# v1**2\n",
    "g_1t(t) = -2*sqrt(5)*t^2 + 10*t^2 + 4*sqrt(5)*t - 4*t - 2*sqrt(5) + 10;# u1**2\n",
    "f_2t(t) = -2*sqrt(5)*t^2 + 10*t^2 - 4*sqrt(5)*t + 20*t - 2*sqrt(5) + 10 # v2**2\n",
    "g_2t(t) = -2*sqrt(5)*t^2 + 10*t^2 + 4*sqrt(5)*t - 20*t - 2*sqrt(5) + 10 # u2**2\n",
    "\n",
    "\n"
   ]
  },
  {
   "cell_type": "markdown",
   "metadata": {},
   "source": [
    "##### Calculates the Möbius coefficient"
   ]
  },
  {
   "cell_type": "code",
   "execution_count": 15,
   "metadata": {},
   "outputs": [],
   "source": [
    "coefficient_dict = polynomial_to_dict(p2_uvt_numerator );"
   ]
  },
  {
   "cell_type": "code",
   "execution_count": 16,
   "metadata": {},
   "outputs": [],
   "source": [
    "variables = p2_uvt_numerator.variables()\n",
    "total_degree  =  [p2_uvt_numerator.degree(j) for j in variables]\n",
    "n_uplas = [[i, j, k, l, m] for i in range(total_degree[0]+1) \n",
    "           for j in range(total_degree[1]+1)\n",
    "           for k in range(total_degree[2]+1) \n",
    "           for l in range(total_degree[3]+1) \n",
    "           for m in range(total_degree[4]+1)]"
   ]
  },
  {
   "cell_type": "code",
   "execution_count": 17,
   "metadata": {},
   "outputs": [
    {
     "data": {
      "text/plain": [
       "7203"
      ]
     },
     "execution_count": 17,
     "metadata": {},
     "output_type": "execute_result"
    }
   ],
   "source": [
    "len(n_uplas)#; variables ; total_degree"
   ]
  },
  {
   "cell_type": "code",
   "execution_count": 18,
   "metadata": {},
   "outputs": [
    {
     "data": {
      "text/plain": [
       "(t, u1, u2, v1, v2)"
      ]
     },
     "execution_count": 18,
     "metadata": {},
     "output_type": "execute_result"
    }
   ],
   "source": [
    " variables"
   ]
  },
  {
   "cell_type": "code",
   "execution_count": 19,
   "metadata": {},
   "outputs": [],
   "source": [
    "v11 = sqrt(f_1t(1)); u11 = sqrt(g_1t(1)); v21 = sqrt(f_2t(1)); u21 = sqrt(g_2t(1))\n",
    "v10 = sqrt(f_1t(1/2)); u10 = sqrt(g_1t(1/2)); v20 = sqrt(f_2t(1/2)); u20 = sqrt(g_2t(1/2))\n",
    "variable_ranges = [(1/2, 1), (u10, u11),(u20, u21), (v10, v11), (v20, v21)]"
   ]
  },
  {
   "cell_type": "code",
   "execution_count": 20,
   "metadata": {
    "scrolled": true
   },
   "outputs": [
    {
     "name": "stdout",
     "output_type": "stream",
     "text": [
      "Iteração: 0, Tempo decorrido: 0.00 minutos\n",
      "Conjunto parcial de coeficientes: set()\n",
      "\n",
      "\n",
      "Iteração: 1000, Tempo decorrido: 1.40 minutos\n",
      "Conjunto parcial de coeficientes: {1}\n",
      "\n",
      "\n",
      "Iteração: 2000, Tempo decorrido: 3.33 minutos\n",
      "Conjunto parcial de coeficientes: {1}\n",
      "\n",
      "\n",
      "Iteração: 3000, Tempo decorrido: 7.46 minutos\n",
      "Conjunto parcial de coeficientes: {1}\n",
      "\n",
      "\n",
      "Iteração: 4000, Tempo decorrido: 11.76 minutos\n",
      "Conjunto parcial de coeficientes: {1}\n",
      "\n",
      "\n",
      "Iteração: 5000, Tempo decorrido: 16.10 minutos\n",
      "Conjunto parcial de coeficientes: {1}\n",
      "\n",
      "\n",
      "Iteração: 6000, Tempo decorrido: 20.18 minutos\n",
      "Conjunto parcial de coeficientes: {1}\n",
      "\n",
      "\n",
      "Iteração: 7000, Tempo decorrido: 24.35 minutos\n",
      "Conjunto parcial de coeficientes: {1}\n",
      "\n",
      "\n",
      "Conjunto final de coeficientes: {1}\n"
     ]
    }
   ],
   "source": [
    "\n",
    "import time\n",
    "\n",
    "# Inicialize a lista de coeficientes\n",
    "\n",
    "# Capture o tempo de início\n",
    "start_time = time.time()\n",
    "sign_coeff_set = set()\n",
    "\n",
    "for i, degree_per_variable in enumerate(n_uplas):\n",
    "    \n",
    "    c = moebius_coefficient(p2_uvt_numerator, degree_per_variable, total_degree, variable_ranges, coefficient_dict)\n",
    "\n",
    "    if i % 1000 == 0:\n",
    "        elapsed_time = time.time() - start_time\n",
    "        elapsed_time_minutes = elapsed_time / 60\n",
    "        print(f\"Iteração: {i}, Tempo decorrido: {elapsed_time_minutes:.2f} minutos\")\n",
    "        print(\"Conjunto parcial de coeficientes:\", sign_coeff_set)  \n",
    "        print(\"\\n\")\n",
    "    \n",
    "    \n",
    "    if c.is_zero():         \n",
    "         continue\n",
    "\n",
    "    else:\n",
    "        sign_coeff = sign(c.simplify_full())\n",
    "        sign_coeff_set.add(sign_coeff)\n",
    "\n",
    "    if 1 in sign_coeff_set and -1 in sign_coeff_set:\n",
    "        \n",
    "        print(f\"Encerrando na iteração {i} pois o conjunto contém 1 e -1.\")\n",
    "        break\n",
    "        \n",
    "    \n",
    "print(\"Conjunto final de coeficientes:\", sign_coeff_set)  \n"
   ]
  },
  {
   "cell_type": "markdown",
   "metadata": {},
   "source": [
    "#####  Checking the sign of Möbius coefficients"
   ]
  },
  {
   "cell_type": "code",
   "execution_count": 21,
   "metadata": {
    "jupyter": {
     "outputs_hidden": false
    }
   },
   "outputs": [],
   "source": [
    "#coefficient_signs = set([sign(c) for c in coeff])"
   ]
  },
  {
   "cell_type": "code",
   "execution_count": 22,
   "metadata": {},
   "outputs": [],
   "source": [
    "#set(coefficient_signs)"
   ]
  },
  {
   "cell_type": "markdown",
   "metadata": {},
   "source": [
    "##### Limit at the extremes"
   ]
  },
  {
   "cell_type": "code",
   "execution_count": 23,
   "metadata": {},
   "outputs": [],
   "source": [
    "#bool(limit(p2_uvt_numerator, t=0, dir='+')> 0), bool(limit(p2_uvt_numerator, t=1, dir='-') > 0)"
   ]
  },
  {
   "cell_type": "code",
   "execution_count": null,
   "metadata": {},
   "outputs": [],
   "source": []
  },
  {
   "cell_type": "code",
   "execution_count": 24,
   "metadata": {},
   "outputs": [
    {
     "data": {
      "image/png": "[encoded data removed]",
      "text/plain": [
       "Graphics object consisting of 1 graphics primitive"
      ]
     },
     "execution_count": 24,
     "metadata": {},
     "output_type": "execute_result"
    }
   ],
   "source": [
    "plot(p2, (t, 0, 0.97), ymax=10)"
   ]
  },
  {
   "cell_type": "code",
   "execution_count": null,
   "metadata": {},
   "outputs": [],
   "source": []
  }
 ],
 "metadata": {
  "kernelspec": {
   "display_name": "SageMath 9.5",
   "language": "sage",
   "name": "sagemath"
  },
  "language_info": {
   "codemirror_mode": {
    "name": "ipython",
    "version": 3
   },
   "file_extension": ".py",
   "mimetype": "text/x-python",
   "name": "python",
   "nbconvert_exporter": "python",
   "pygments_lexer": "ipython3",
   "version": "3.10.12"
  },
  "widgets": {
   "application/vnd.jupyter.widget-state+json": {
    "state": {},
    "version_major": 2,
    "version_minor": 0
   }
  }
 },
 "nbformat": 4,
 "nbformat_minor": 4
}
