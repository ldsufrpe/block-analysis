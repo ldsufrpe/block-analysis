{
 "cells": [
  {
   "cell_type": "markdown",
   "metadata": {},
   "source": [
    "## Analyzing the block $\\mathfrak{D}_2$ for the dodecaedron "
   ]
  },
  {
   "cell_type": "code",
   "execution_count": 1,
   "metadata": {
    "collapsed": false,
    "jupyter": {
     "outputs_hidden": false
    }
   },
   "outputs": [],
   "source": [
    "load(\"../util.sage\")"
   ]
  },
  {
   "cell_type": "code",
   "execution_count": 2,
   "metadata": {},
   "outputs": [],
   "source": [
    "D2 =  load('blocks/bloco_2_linear_icosaedro.sobj')\n",
    "D3 =  load('blocks/bloco_3_linear_icosaedro.sobj')\n",
    "D4 =  load('blocks/bloco_4_linear_icosaedro.sobj')"
   ]
  },
  {
   "cell_type": "code",
   "execution_count": 3,
   "metadata": {},
   "outputs": [],
   "source": [
    "#bool(D2==D3), bool(D3==D4), bool(D2==D4)"
   ]
  },
  {
   "cell_type": "code",
   "execution_count": 29,
   "metadata": {},
   "outputs": [
    {
     "data": {
      "text/html": [
       "<html>\\(\\displaystyle \\left(\\begin{array}{rr}\n",
       "-2 \\, \\sqrt{5} c + 14 \\, c - \\frac{1}{20} \\, \\sqrt{5} + \\frac{\\sqrt{5}}{20 \\, {\\left(\\sqrt{5} - 2\\right)}} + \\frac{2 \\, {\\left(2 \\, \\sqrt{5} - 5\\right)}}{5 \\, {\\left(-2 \\, \\sqrt{5} + 10\\right)}^{\\frac{3}{2}}} + \\frac{16 \\, {\\left(3 \\, \\sqrt{5} - 20\\right)}}{5 \\, {\\left(-8 \\, \\sqrt{5} + 24\\right)}^{\\frac{3}{2}}} - \\frac{1}{2} & -2 \\, \\sqrt{5} c t + 14 \\, c t + \\frac{8 \\, {\\left(3 \\, \\sqrt{5} t - 30 \\, t + 5 \\, \\sqrt{5} - 10\\right)}}{5 \\, {\\left(-2 \\, \\sqrt{5} t^{2} + 10 \\, t^{2} - 4 \\, \\sqrt{5} t + 4 \\, t - 2 \\, \\sqrt{5} + 10\\right)}^{\\frac{3}{2}}} + \\frac{8 \\, {\\left(3 \\, \\sqrt{5} t - 30 \\, t - 5 \\, \\sqrt{5} + 10\\right)}}{5 \\, {\\left(-2 \\, \\sqrt{5} t^{2} + 10 \\, t^{2} + 4 \\, \\sqrt{5} t - 4 \\, t - 2 \\, \\sqrt{5} + 10\\right)}^{\\frac{3}{2}}} + \\frac{8 \\, {\\left(2 \\, \\sqrt{5} t - 5 \\, t + 2 \\, \\sqrt{5} - 5\\right)}}{5 \\, {\\left(-2 \\, \\sqrt{5} t^{2} + 10 \\, t^{2} - 4 \\, \\sqrt{5} t + 20 \\, t - 2 \\, \\sqrt{5} + 10\\right)}^{\\frac{3}{2}}} + \\frac{8 \\, {\\left(2 \\, \\sqrt{5} t - 5 \\, t - 2 \\, \\sqrt{5} + 5\\right)}}{5 \\, {\\left(-2 \\, \\sqrt{5} t^{2} + 10 \\, t^{2} + 4 \\, \\sqrt{5} t - 20 \\, t - 2 \\, \\sqrt{5} + 10\\right)}^{\\frac{3}{2}}} \\\\\n",
       "2 \\, \\sqrt{5} c + 10 \\, c - \\frac{1}{5} \\, \\sqrt{5} - \\frac{2 \\, {\\left(2 \\, \\sqrt{5} + 5\\right)}}{5 \\, {\\left(-2 \\, \\sqrt{5} + 10\\right)}^{\\frac{3}{2}}} - \\frac{2}{\\sqrt{5} - 2} + \\frac{16 \\, \\sqrt{5}}{5 \\, {\\left(-8 \\, \\sqrt{5} + 24\\right)}^{\\frac{3}{2}}} - \\frac{3}{4} & 2 \\, \\sqrt{5} c t + 10 \\, c t - \\frac{8 \\, {\\left(3 \\, \\sqrt{5} t + 20 \\, t + 5 \\, \\sqrt{5} + 10\\right)}}{5 \\, {\\left(-2 \\, \\sqrt{5} t^{2} + 10 \\, t^{2} + 4 \\, \\sqrt{5} t - 4 \\, t - 2 \\, \\sqrt{5} + 10\\right)}^{\\frac{3}{2}}} - \\frac{8 \\, {\\left(3 \\, \\sqrt{5} t + 20 \\, t - 5 \\, \\sqrt{5} - 10\\right)}}{5 \\, {\\left(-2 \\, \\sqrt{5} t^{2} + 10 \\, t^{2} - 4 \\, \\sqrt{5} t + 4 \\, t - 2 \\, \\sqrt{5} + 10\\right)}^{\\frac{3}{2}}} - \\frac{8 \\, {\\left(2 \\, \\sqrt{5} t + 5 \\, t + 2 \\, \\sqrt{5} + 5\\right)}}{5 \\, {\\left(-2 \\, \\sqrt{5} t^{2} + 10 \\, t^{2} - 4 \\, \\sqrt{5} t + 20 \\, t - 2 \\, \\sqrt{5} + 10\\right)}^{\\frac{3}{2}}} - \\frac{8 \\, {\\left(2 \\, \\sqrt{5} t + 5 \\, t - 2 \\, \\sqrt{5} - 5\\right)}}{5 \\, {\\left(-2 \\, \\sqrt{5} t^{2} + 10 \\, t^{2} + 4 \\, \\sqrt{5} t - 20 \\, t - 2 \\, \\sqrt{5} + 10\\right)}^{\\frac{3}{2}}} \\\\\n",
       "-2 \\, \\sqrt{5} c + 14 \\, c + \\frac{8 \\, {\\left(5 \\, \\sqrt{5} t - 10 \\, t + 3 \\, \\sqrt{5} - 30\\right)}}{5 \\, {\\left(-2 \\, \\sqrt{5} t^{2} + 10 \\, t^{2} - 4 \\, \\sqrt{5} t + 4 \\, t - 2 \\, \\sqrt{5} + 10\\right)}^{\\frac{3}{2}}} - \\frac{8 \\, {\\left(5 \\, \\sqrt{5} t - 10 \\, t - 3 \\, \\sqrt{5} + 30\\right)}}{5 \\, {\\left(-2 \\, \\sqrt{5} t^{2} + 10 \\, t^{2} + 4 \\, \\sqrt{5} t - 4 \\, t - 2 \\, \\sqrt{5} + 10\\right)}^{\\frac{3}{2}}} + \\frac{8 \\, {\\left(2 \\, \\sqrt{5} t - 5 \\, t + 2 \\, \\sqrt{5} - 5\\right)}}{5 \\, {\\left(-2 \\, \\sqrt{5} t^{2} + 10 \\, t^{2} - 4 \\, \\sqrt{5} t + 20 \\, t - 2 \\, \\sqrt{5} + 10\\right)}^{\\frac{3}{2}}} - \\frac{8 \\, {\\left(2 \\, \\sqrt{5} t - 5 \\, t - 2 \\, \\sqrt{5} + 5\\right)}}{5 \\, {\\left(-2 \\, \\sqrt{5} t^{2} + 10 \\, t^{2} + 4 \\, \\sqrt{5} t - 20 \\, t - 2 \\, \\sqrt{5} + 10\\right)}^{\\frac{3}{2}}} & -2 \\, \\sqrt{5} c t + 14 \\, c t + \\frac{16 \\, {\\left(3 \\, \\sqrt{5} t - 20 \\, t\\right)}}{5 \\, {\\left(-8 \\, \\sqrt{5} t^{2} + 24 \\, t^{2}\\right)}^{\\frac{3}{2}}} + \\frac{2 \\, {\\left(2 \\, \\sqrt{5} t - 5 \\, t\\right)}}{5 \\, {\\left(-2 \\, \\sqrt{5} t^{2} + 10 \\, t^{2}\\right)}^{\\frac{3}{2}}} - \\frac{\\sqrt{5} + 10}{20 \\, t^{2}} + \\frac{\\sqrt{5}}{20 \\, t^{2} {\\left(\\sqrt{5} - 2\\right)}} \\\\\n",
       "2 \\, \\sqrt{5} c + 10 \\, c - \\frac{8 \\, {\\left(5 \\, \\sqrt{5} t + 10 \\, t + 3 \\, \\sqrt{5} + 20\\right)}}{5 \\, {\\left(-2 \\, \\sqrt{5} t^{2} + 10 \\, t^{2} + 4 \\, \\sqrt{5} t - 4 \\, t - 2 \\, \\sqrt{5} + 10\\right)}^{\\frac{3}{2}}} + \\frac{8 \\, {\\left(5 \\, \\sqrt{5} t + 10 \\, t - 3 \\, \\sqrt{5} - 20\\right)}}{5 \\, {\\left(-2 \\, \\sqrt{5} t^{2} + 10 \\, t^{2} - 4 \\, \\sqrt{5} t + 4 \\, t - 2 \\, \\sqrt{5} + 10\\right)}^{\\frac{3}{2}}} - \\frac{8 \\, {\\left(2 \\, \\sqrt{5} t + 5 \\, t + 2 \\, \\sqrt{5} + 5\\right)}}{5 \\, {\\left(-2 \\, \\sqrt{5} t^{2} + 10 \\, t^{2} - 4 \\, \\sqrt{5} t + 20 \\, t - 2 \\, \\sqrt{5} + 10\\right)}^{\\frac{3}{2}}} + \\frac{8 \\, {\\left(2 \\, \\sqrt{5} t + 5 \\, t - 2 \\, \\sqrt{5} - 5\\right)}}{5 \\, {\\left(-2 \\, \\sqrt{5} t^{2} + 10 \\, t^{2} + 4 \\, \\sqrt{5} t - 20 \\, t - 2 \\, \\sqrt{5} + 10\\right)}^{\\frac{3}{2}}} & 2 \\, \\sqrt{5} c t + 10 \\, c t + \\frac{16 \\, \\sqrt{5} t}{5 \\, {\\left(-8 \\, \\sqrt{5} t^{2} + 24 \\, t^{2}\\right)}^{\\frac{3}{2}}} - \\frac{2 \\, {\\left(2 \\, \\sqrt{5} t + 5 \\, t\\right)}}{5 \\, {\\left(-2 \\, \\sqrt{5} t^{2} + 10 \\, t^{2}\\right)}^{\\frac{3}{2}}} - \\frac{4 \\, \\sqrt{5} + 15}{20 \\, t^{2}} - \\frac{1}{4 \\, t^{2} {\\left(\\sqrt{5} - 2\\right)}}\n",
       "\\end{array}\\right)\\)</html>"
      ],
      "text/latex": [
       "$\\displaystyle \\left(\\begin{array}{rr}\n",
       "-2 \\, \\sqrt{5} c + 14 \\, c - \\frac{1}{20} \\, \\sqrt{5} + \\frac{\\sqrt{5}}{20 \\, {\\left(\\sqrt{5} - 2\\right)}} + \\frac{2 \\, {\\left(2 \\, \\sqrt{5} - 5\\right)}}{5 \\, {\\left(-2 \\, \\sqrt{5} + 10\\right)}^{\\frac{3}{2}}} + \\frac{16 \\, {\\left(3 \\, \\sqrt{5} - 20\\right)}}{5 \\, {\\left(-8 \\, \\sqrt{5} + 24\\right)}^{\\frac{3}{2}}} - \\frac{1}{2} & -2 \\, \\sqrt{5} c t + 14 \\, c t + \\frac{8 \\, {\\left(3 \\, \\sqrt{5} t - 30 \\, t + 5 \\, \\sqrt{5} - 10\\right)}}{5 \\, {\\left(-2 \\, \\sqrt{5} t^{2} + 10 \\, t^{2} - 4 \\, \\sqrt{5} t + 4 \\, t - 2 \\, \\sqrt{5} + 10\\right)}^{\\frac{3}{2}}} + \\frac{8 \\, {\\left(3 \\, \\sqrt{5} t - 30 \\, t - 5 \\, \\sqrt{5} + 10\\right)}}{5 \\, {\\left(-2 \\, \\sqrt{5} t^{2} + 10 \\, t^{2} + 4 \\, \\sqrt{5} t - 4 \\, t - 2 \\, \\sqrt{5} + 10\\right)}^{\\frac{3}{2}}} + \\frac{8 \\, {\\left(2 \\, \\sqrt{5} t - 5 \\, t + 2 \\, \\sqrt{5} - 5\\right)}}{5 \\, {\\left(-2 \\, \\sqrt{5} t^{2} + 10 \\, t^{2} - 4 \\, \\sqrt{5} t + 20 \\, t - 2 \\, \\sqrt{5} + 10\\right)}^{\\frac{3}{2}}} + \\frac{8 \\, {\\left(2 \\, \\sqrt{5} t - 5 \\, t - 2 \\, \\sqrt{5} + 5\\right)}}{5 \\, {\\left(-2 \\, \\sqrt{5} t^{2} + 10 \\, t^{2} + 4 \\, \\sqrt{5} t - 20 \\, t - 2 \\, \\sqrt{5} + 10\\right)}^{\\frac{3}{2}}} \\\\\n",
       "2 \\, \\sqrt{5} c + 10 \\, c - \\frac{1}{5} \\, \\sqrt{5} - \\frac{2 \\, {\\left(2 \\, \\sqrt{5} + 5\\right)}}{5 \\, {\\left(-2 \\, \\sqrt{5} + 10\\right)}^{\\frac{3}{2}}} - \\frac{2}{\\sqrt{5} - 2} + \\frac{16 \\, \\sqrt{5}}{5 \\, {\\left(-8 \\, \\sqrt{5} + 24\\right)}^{\\frac{3}{2}}} - \\frac{3}{4} & 2 \\, \\sqrt{5} c t + 10 \\, c t - \\frac{8 \\, {\\left(3 \\, \\sqrt{5} t + 20 \\, t + 5 \\, \\sqrt{5} + 10\\right)}}{5 \\, {\\left(-2 \\, \\sqrt{5} t^{2} + 10 \\, t^{2} + 4 \\, \\sqrt{5} t - 4 \\, t - 2 \\, \\sqrt{5} + 10\\right)}^{\\frac{3}{2}}} - \\frac{8 \\, {\\left(3 \\, \\sqrt{5} t + 20 \\, t - 5 \\, \\sqrt{5} - 10\\right)}}{5 \\, {\\left(-2 \\, \\sqrt{5} t^{2} + 10 \\, t^{2} - 4 \\, \\sqrt{5} t + 4 \\, t - 2 \\, \\sqrt{5} + 10\\right)}^{\\frac{3}{2}}} - \\frac{8 \\, {\\left(2 \\, \\sqrt{5} t + 5 \\, t + 2 \\, \\sqrt{5} + 5\\right)}}{5 \\, {\\left(-2 \\, \\sqrt{5} t^{2} + 10 \\, t^{2} - 4 \\, \\sqrt{5} t + 20 \\, t - 2 \\, \\sqrt{5} + 10\\right)}^{\\frac{3}{2}}} - \\frac{8 \\, {\\left(2 \\, \\sqrt{5} t + 5 \\, t - 2 \\, \\sqrt{5} - 5\\right)}}{5 \\, {\\left(-2 \\, \\sqrt{5} t^{2} + 10 \\, t^{2} + 4 \\, \\sqrt{5} t - 20 \\, t - 2 \\, \\sqrt{5} + 10\\right)}^{\\frac{3}{2}}} \\\\\n",
       "-2 \\, \\sqrt{5} c + 14 \\, c + \\frac{8 \\, {\\left(5 \\, \\sqrt{5} t - 10 \\, t + 3 \\, \\sqrt{5} - 30\\right)}}{5 \\, {\\left(-2 \\, \\sqrt{5} t^{2} + 10 \\, t^{2} - 4 \\, \\sqrt{5} t + 4 \\, t - 2 \\, \\sqrt{5} + 10\\right)}^{\\frac{3}{2}}} - \\frac{8 \\, {\\left(5 \\, \\sqrt{5} t - 10 \\, t - 3 \\, \\sqrt{5} + 30\\right)}}{5 \\, {\\left(-2 \\, \\sqrt{5} t^{2} + 10 \\, t^{2} + 4 \\, \\sqrt{5} t - 4 \\, t - 2 \\, \\sqrt{5} + 10\\right)}^{\\frac{3}{2}}} + \\frac{8 \\, {\\left(2 \\, \\sqrt{5} t - 5 \\, t + 2 \\, \\sqrt{5} - 5\\right)}}{5 \\, {\\left(-2 \\, \\sqrt{5} t^{2} + 10 \\, t^{2} - 4 \\, \\sqrt{5} t + 20 \\, t - 2 \\, \\sqrt{5} + 10\\right)}^{\\frac{3}{2}}} - \\frac{8 \\, {\\left(2 \\, \\sqrt{5} t - 5 \\, t - 2 \\, \\sqrt{5} + 5\\right)}}{5 \\, {\\left(-2 \\, \\sqrt{5} t^{2} + 10 \\, t^{2} + 4 \\, \\sqrt{5} t - 20 \\, t - 2 \\, \\sqrt{5} + 10\\right)}^{\\frac{3}{2}}} & -2 \\, \\sqrt{5} c t + 14 \\, c t + \\frac{16 \\, {\\left(3 \\, \\sqrt{5} t - 20 \\, t\\right)}}{5 \\, {\\left(-8 \\, \\sqrt{5} t^{2} + 24 \\, t^{2}\\right)}^{\\frac{3}{2}}} + \\frac{2 \\, {\\left(2 \\, \\sqrt{5} t - 5 \\, t\\right)}}{5 \\, {\\left(-2 \\, \\sqrt{5} t^{2} + 10 \\, t^{2}\\right)}^{\\frac{3}{2}}} - \\frac{\\sqrt{5} + 10}{20 \\, t^{2}} + \\frac{\\sqrt{5}}{20 \\, t^{2} {\\left(\\sqrt{5} - 2\\right)}} \\\\\n",
       "2 \\, \\sqrt{5} c + 10 \\, c - \\frac{8 \\, {\\left(5 \\, \\sqrt{5} t + 10 \\, t + 3 \\, \\sqrt{5} + 20\\right)}}{5 \\, {\\left(-2 \\, \\sqrt{5} t^{2} + 10 \\, t^{2} + 4 \\, \\sqrt{5} t - 4 \\, t - 2 \\, \\sqrt{5} + 10\\right)}^{\\frac{3}{2}}} + \\frac{8 \\, {\\left(5 \\, \\sqrt{5} t + 10 \\, t - 3 \\, \\sqrt{5} - 20\\right)}}{5 \\, {\\left(-2 \\, \\sqrt{5} t^{2} + 10 \\, t^{2} - 4 \\, \\sqrt{5} t + 4 \\, t - 2 \\, \\sqrt{5} + 10\\right)}^{\\frac{3}{2}}} - \\frac{8 \\, {\\left(2 \\, \\sqrt{5} t + 5 \\, t + 2 \\, \\sqrt{5} + 5\\right)}}{5 \\, {\\left(-2 \\, \\sqrt{5} t^{2} + 10 \\, t^{2} - 4 \\, \\sqrt{5} t + 20 \\, t - 2 \\, \\sqrt{5} + 10\\right)}^{\\frac{3}{2}}} + \\frac{8 \\, {\\left(2 \\, \\sqrt{5} t + 5 \\, t - 2 \\, \\sqrt{5} - 5\\right)}}{5 \\, {\\left(-2 \\, \\sqrt{5} t^{2} + 10 \\, t^{2} + 4 \\, \\sqrt{5} t - 20 \\, t - 2 \\, \\sqrt{5} + 10\\right)}^{\\frac{3}{2}}} & 2 \\, \\sqrt{5} c t + 10 \\, c t + \\frac{16 \\, \\sqrt{5} t}{5 \\, {\\left(-8 \\, \\sqrt{5} t^{2} + 24 \\, t^{2}\\right)}^{\\frac{3}{2}}} - \\frac{2 \\, {\\left(2 \\, \\sqrt{5} t + 5 \\, t\\right)}}{5 \\, {\\left(-2 \\, \\sqrt{5} t^{2} + 10 \\, t^{2}\\right)}^{\\frac{3}{2}}} - \\frac{4 \\, \\sqrt{5} + 15}{20 \\, t^{2}} - \\frac{1}{4 \\, t^{2} {\\left(\\sqrt{5} - 2\\right)}}\n",
       "\\end{array}\\right)$"
      ],
      "text/plain": [
       "[                                                                                                                                                                                                                                                                                                                      -2*sqrt(5)*c + 14*c - 1/20*sqrt(5) + 1/20*sqrt(5)/(sqrt(5) - 2) + 2/5*(2*sqrt(5) - 5)/(-2*sqrt(5) + 10)^(3/2) + 16/5*(3*sqrt(5) - 20)/(-8*sqrt(5) + 24)^(3/2) - 1/2 -2*sqrt(5)*c*t + 14*c*t + 8/5*(3*sqrt(5)*t - 30*t + 5*sqrt(5) - 10)/(-2*sqrt(5)*t^2 + 10*t^2 - 4*sqrt(5)*t + 4*t - 2*sqrt(5) + 10)^(3/2) + 8/5*(3*sqrt(5)*t - 30*t - 5*sqrt(5) + 10)/(-2*sqrt(5)*t^2 + 10*t^2 + 4*sqrt(5)*t - 4*t - 2*sqrt(5) + 10)^(3/2) + 8/5*(2*sqrt(5)*t - 5*t + 2*sqrt(5) - 5)/(-2*sqrt(5)*t^2 + 10*t^2 - 4*sqrt(5)*t + 20*t - 2*sqrt(5) + 10)^(3/2) + 8/5*(2*sqrt(5)*t - 5*t - 2*sqrt(5) + 5)/(-2*sqrt(5)*t^2 + 10*t^2 + 4*sqrt(5)*t - 20*t - 2*sqrt(5) + 10)^(3/2)]\n",
       "[                                                                                                                                                                                                                                                                                                                                            2*sqrt(5)*c + 10*c - 1/5*sqrt(5) - 2/5*(2*sqrt(5) + 5)/(-2*sqrt(5) + 10)^(3/2) - 2/(sqrt(5) - 2) + 16/5*sqrt(5)/(-8*sqrt(5) + 24)^(3/2) - 3/4  2*sqrt(5)*c*t + 10*c*t - 8/5*(3*sqrt(5)*t + 20*t + 5*sqrt(5) + 10)/(-2*sqrt(5)*t^2 + 10*t^2 + 4*sqrt(5)*t - 4*t - 2*sqrt(5) + 10)^(3/2) - 8/5*(3*sqrt(5)*t + 20*t - 5*sqrt(5) - 10)/(-2*sqrt(5)*t^2 + 10*t^2 - 4*sqrt(5)*t + 4*t - 2*sqrt(5) + 10)^(3/2) - 8/5*(2*sqrt(5)*t + 5*t + 2*sqrt(5) + 5)/(-2*sqrt(5)*t^2 + 10*t^2 - 4*sqrt(5)*t + 20*t - 2*sqrt(5) + 10)^(3/2) - 8/5*(2*sqrt(5)*t + 5*t - 2*sqrt(5) - 5)/(-2*sqrt(5)*t^2 + 10*t^2 + 4*sqrt(5)*t - 20*t - 2*sqrt(5) + 10)^(3/2)]\n",
       "[    -2*sqrt(5)*c + 14*c + 8/5*(5*sqrt(5)*t - 10*t + 3*sqrt(5) - 30)/(-2*sqrt(5)*t^2 + 10*t^2 - 4*sqrt(5)*t + 4*t - 2*sqrt(5) + 10)^(3/2) - 8/5*(5*sqrt(5)*t - 10*t - 3*sqrt(5) + 30)/(-2*sqrt(5)*t^2 + 10*t^2 + 4*sqrt(5)*t - 4*t - 2*sqrt(5) + 10)^(3/2) + 8/5*(2*sqrt(5)*t - 5*t + 2*sqrt(5) - 5)/(-2*sqrt(5)*t^2 + 10*t^2 - 4*sqrt(5)*t + 20*t - 2*sqrt(5) + 10)^(3/2) - 8/5*(2*sqrt(5)*t - 5*t - 2*sqrt(5) + 5)/(-2*sqrt(5)*t^2 + 10*t^2 + 4*sqrt(5)*t - 20*t - 2*sqrt(5) + 10)^(3/2)                                                                                                                                                                                                                                                                                -2*sqrt(5)*c*t + 14*c*t + 16/5*(3*sqrt(5)*t - 20*t)/(-8*sqrt(5)*t^2 + 24*t^2)^(3/2) + 2/5*(2*sqrt(5)*t - 5*t)/(-2*sqrt(5)*t^2 + 10*t^2)^(3/2) - 1/20*(sqrt(5) + 10)/t^2 + 1/20*sqrt(5)/(t^2*(sqrt(5) - 2))]\n",
       "[     2*sqrt(5)*c + 10*c - 8/5*(5*sqrt(5)*t + 10*t + 3*sqrt(5) + 20)/(-2*sqrt(5)*t^2 + 10*t^2 + 4*sqrt(5)*t - 4*t - 2*sqrt(5) + 10)^(3/2) + 8/5*(5*sqrt(5)*t + 10*t - 3*sqrt(5) - 20)/(-2*sqrt(5)*t^2 + 10*t^2 - 4*sqrt(5)*t + 4*t - 2*sqrt(5) + 10)^(3/2) - 8/5*(2*sqrt(5)*t + 5*t + 2*sqrt(5) + 5)/(-2*sqrt(5)*t^2 + 10*t^2 - 4*sqrt(5)*t + 20*t - 2*sqrt(5) + 10)^(3/2) + 8/5*(2*sqrt(5)*t + 5*t - 2*sqrt(5) - 5)/(-2*sqrt(5)*t^2 + 10*t^2 + 4*sqrt(5)*t - 20*t - 2*sqrt(5) + 10)^(3/2)                                                                                                                                                                                                                                                                                                   2*sqrt(5)*c*t + 10*c*t + 16/5*sqrt(5)*t/(-8*sqrt(5)*t^2 + 24*t^2)^(3/2) - 2/5*(2*sqrt(5)*t + 5*t)/(-2*sqrt(5)*t^2 + 10*t^2)^(3/2) - 1/20*(4*sqrt(5) + 15)/t^2 - 1/4/(t^2*(sqrt(5) - 2))]"
      ]
     },
     "metadata": {},
     "output_type": "display_data"
    }
   ],
   "source": [
    "D3 = D3.apply_map(lambda x: x.expand().combine().simplify_real()); show(D3)"
   ]
  },
  {
   "cell_type": "code",
   "execution_count": 5,
   "metadata": {},
   "outputs": [],
   "source": [
    "# List of all 2 x 2 minors of d3\n",
    "minors = D3.minors(2) "
   ]
  },
  {
   "cell_type": "code",
   "execution_count": 6,
   "metadata": {},
   "outputs": [],
   "source": [
    "# Choose one of the minors of c7 and obtain the simplified expression\n",
    "p30 = minors[0].expand().combine().simplify_real().collect(c)\n",
    "p31 = minors[1].expand().combine().simplify_real().collect(c)"
   ]
  },
  {
   "cell_type": "code",
   "execution_count": 7,
   "metadata": {},
   "outputs": [],
   "source": [
    "# Isolating c in p91 to obtain c(t)\n",
    "c0 = solve(p30, c)[0].rhs()\n"
   ]
  },
  {
   "cell_type": "code",
   "execution_count": 33,
   "metadata": {},
   "outputs": [],
   "source": [
    "# Replaces c0 in the polynomial p3\n",
    "p3 = p31.subs(c=c0).simplify_real().expand().combine()"
   ]
  },
  {
   "cell_type": "code",
   "execution_count": 34,
   "metadata": {},
   "outputs": [],
   "source": [
    "p3_sp = p3._sympy_()"
   ]
  },
  {
   "cell_type": "code",
   "execution_count": 35,
   "metadata": {},
   "outputs": [],
   "source": [
    "import sympy as sp"
   ]
  },
  {
   "cell_type": "code",
   "execution_count": 37,
   "metadata": {},
   "outputs": [],
   "source": [
    "#p3_simpl = sp.simplify(p3_sp)"
   ]
  },
  {
   "cell_type": "code",
   "execution_count": 3,
   "metadata": {},
   "outputs": [],
   "source": [
    "# show((C2[0][0]).base_ring());\n",
    "# show((AA(C2[0][0])).radical_expression());\n",
    "#new_C2_00 = SR((AA(C2[0][0])).radical_expression());"
   ]
  },
  {
   "cell_type": "code",
   "execution_count": 4,
   "metadata": {},
   "outputs": [],
   "source": [
    "#C2_simplify = matrix([[C2[0][0],C2[0][1]],[C2[1][0],(1/t**2)*C2[0][0]]]);\n",
    "#new_C2_simplify = matrix([[new_C2_00, C2_simplify[0][1]],[C2_simplify[1][0],(1/t**2)*new_C2_00]]);"
   ]
  },
  {
   "cell_type": "code",
   "execution_count": 5,
   "metadata": {},
   "outputs": [],
   "source": [
    "## Obtain the simplified expression\n",
    "#p2 = new_C2_simplify.det()#.expand().combine() #simplify_expression(C2.det())\n"
   ]
  },
  {
   "cell_type": "code",
   "execution_count": 6,
   "metadata": {},
   "outputs": [],
   "source": [
    "# checks if p1 was modified after simplification\n",
    "#print(bool(p2==C2.det()))\n",
    "#show(p2)"
   ]
  },
  {
   "cell_type": "code",
   "execution_count": 7,
   "metadata": {},
   "outputs": [],
   "source": [
    "#p2_diff = diff(p2, t).expand().combine().simplify_real()"
   ]
  },
  {
   "cell_type": "markdown",
   "metadata": {},
   "source": [
    "##### Calculate the values of $u$ for $t = 0$ and $t = 1$\n"
   ]
  },
  {
   "cell_type": "code",
   "execution_count": 8,
   "metadata": {},
   "outputs": [],
   "source": [
    "#variable_ranges = [(u0, u1), (v0, v1), (0, 1)]"
   ]
  },
  {
   "cell_type": "markdown",
   "metadata": {},
   "source": [
    "##### Change of variables:  "
   ]
  },
  {
   "cell_type": "code",
   "execution_count": 10,
   "metadata": {},
   "outputs": [],
   "source": [
    "u1, v1, u2, v2 = var('u1, v1, u2, v2')\n",
    "assume(u1>0);\n",
    "assume(v1>0);\n",
    "assume(u2>0);\n",
    "assume(v2>0);\n",
    "#assume (t>0, t<1)"
   ]
  },
  {
   "cell_type": "code",
   "execution_count": 55,
   "metadata": {},
   "outputs": [],
   "source": [
    "f_1 = -2*sqrt(5)*t^2 + 10*t^2 - 4*sqrt(5)*t + 4*t - 2*sqrt(5) + 10;# v1**2\n",
    "g_1 = -2*sqrt(5)*t^2 + 10*t^2 + 4*sqrt(5)*t - 4*t - 2*sqrt(5) + 10;# u1**2\n",
    "f_2 = -2*sqrt(5)*t^2 + 10*t^2 - 4*sqrt(5)*t + 20*t - 2*sqrt(5) + 10 # v2**2\n",
    "g_2 = -2*sqrt(5)*t^2 + 10*t^2 + 4*sqrt(5)*t - 20*t - 2*sqrt(5) + 10 # u2**2\n",
    "k1 = (-2*sqrt(5)*t^2 + 10*t^2)^(3/2)\n"
   ]
  },
  {
   "cell_type": "code",
   "execution_count": 56,
   "metadata": {
    "collapsed": false,
    "jupyter": {
     "outputs_hidden": false
    }
   },
   "outputs": [],
   "source": [
    "p3_uvt = p3_simpl.subs({f_1:v1^2}).subs({g_1:u1^2}).subs({f_2:v2^2}).subs({g_2:(g_2)^(2/3)*u2^(2/3)})"
   ]
  },
  {
   "cell_type": "code",
   "execution_count": 24,
   "metadata": {},
   "outputs": [],
   "source": [
    "p3_uvt_numerator = p3_uvt.numerator()\n"
   ]
  },
  {
   "cell_type": "code",
   "execution_count": 59,
   "metadata": {},
   "outputs": [],
   "source": [
    "D = D3.apply_map(lambda x : x.subs({f_1:v1^2}).subs({g_1:u1^2}).subs({f_2:v2^2}).subs({g_2:(g_2)^(2/3)*u2^(2/3)}).subs({k1:(-2*sqrt(5)+10)**(3/2)*t^3}))"
   ]
  },
  {
   "cell_type": "code",
   "execution_count": 60,
   "metadata": {},
   "outputs": [
    {
     "data": {
      "text/html": [
       "<html>\\(\\displaystyle \\left(\\begin{array}{rr}\n",
       "-2 \\, \\sqrt{5} c + 14 \\, c - \\frac{1}{20} \\, \\sqrt{5} + \\frac{\\sqrt{5}}{20 \\, {\\left(\\sqrt{5} - 2\\right)}} + \\frac{2 \\, {\\left(2 \\, \\sqrt{5} - 5\\right)}}{5 \\, {\\left(-2 \\, \\sqrt{5} + 10\\right)}^{\\frac{3}{2}}} + \\frac{16 \\, {\\left(3 \\, \\sqrt{5} - 20\\right)}}{5 \\, {\\left(-8 \\, \\sqrt{5} + 24\\right)}^{\\frac{3}{2}}} - \\frac{1}{2} & -2 \\, \\sqrt{5} c t + 14 \\, c t - \\frac{4 \\, {\\left(2 \\, \\sqrt{5} t - 5 \\, t - 2 \\, \\sqrt{5} + 5\\right)}}{5 \\, {\\left(\\sqrt{5} t^{2} - 5 \\, t^{2} - 2 \\, \\sqrt{5} t + 10 \\, t + \\sqrt{5} - 5\\right)} u_{2}} + \\frac{8 \\, {\\left(3 \\, \\sqrt{5} t - 30 \\, t - 5 \\, \\sqrt{5} + 10\\right)}}{5 \\, u_{1}^{3}} + \\frac{8 \\, {\\left(3 \\, \\sqrt{5} t - 30 \\, t + 5 \\, \\sqrt{5} - 10\\right)}}{5 \\, v_{1}^{3}} + \\frac{8 \\, {\\left(2 \\, \\sqrt{5} t - 5 \\, t + 2 \\, \\sqrt{5} - 5\\right)}}{5 \\, v_{2}^{3}} \\\\\n",
       "2 \\, \\sqrt{5} c + 10 \\, c - \\frac{1}{5} \\, \\sqrt{5} - \\frac{2 \\, {\\left(2 \\, \\sqrt{5} + 5\\right)}}{5 \\, {\\left(-2 \\, \\sqrt{5} + 10\\right)}^{\\frac{3}{2}}} - \\frac{2}{\\sqrt{5} - 2} + \\frac{16 \\, \\sqrt{5}}{5 \\, {\\left(-8 \\, \\sqrt{5} + 24\\right)}^{\\frac{3}{2}}} - \\frac{3}{4} & 2 \\, \\sqrt{5} c t + 10 \\, c t + \\frac{4 \\, {\\left(2 \\, \\sqrt{5} t + 5 \\, t - 2 \\, \\sqrt{5} - 5\\right)}}{5 \\, {\\left(\\sqrt{5} t^{2} - 5 \\, t^{2} - 2 \\, \\sqrt{5} t + 10 \\, t + \\sqrt{5} - 5\\right)} u_{2}} - \\frac{8 \\, {\\left(3 \\, \\sqrt{5} t + 20 \\, t + 5 \\, \\sqrt{5} + 10\\right)}}{5 \\, u_{1}^{3}} - \\frac{8 \\, {\\left(3 \\, \\sqrt{5} t + 20 \\, t - 5 \\, \\sqrt{5} - 10\\right)}}{5 \\, v_{1}^{3}} - \\frac{8 \\, {\\left(2 \\, \\sqrt{5} t + 5 \\, t + 2 \\, \\sqrt{5} + 5\\right)}}{5 \\, v_{2}^{3}} \\\\\n",
       "-2 \\, \\sqrt{5} c + 14 \\, c + \\frac{4 \\, {\\left(2 \\, \\sqrt{5} t - 5 \\, t - 2 \\, \\sqrt{5} + 5\\right)}}{5 \\, {\\left(\\sqrt{5} t^{2} - 5 \\, t^{2} - 2 \\, \\sqrt{5} t + 10 \\, t + \\sqrt{5} - 5\\right)} u_{2}} - \\frac{8 \\, {\\left(5 \\, \\sqrt{5} t - 10 \\, t - 3 \\, \\sqrt{5} + 30\\right)}}{5 \\, u_{1}^{3}} + \\frac{8 \\, {\\left(5 \\, \\sqrt{5} t - 10 \\, t + 3 \\, \\sqrt{5} - 30\\right)}}{5 \\, v_{1}^{3}} + \\frac{8 \\, {\\left(2 \\, \\sqrt{5} t - 5 \\, t + 2 \\, \\sqrt{5} - 5\\right)}}{5 \\, v_{2}^{3}} & -2 \\, \\sqrt{5} c t + 14 \\, c t + \\frac{16 \\, {\\left(3 \\, \\sqrt{5} t - 20 \\, t\\right)}}{5 \\, {\\left(-8 \\, \\sqrt{5} t^{2} + 24 \\, t^{2}\\right)}^{\\frac{3}{2}}} + \\frac{2 \\, {\\left(2 \\, \\sqrt{5} t - 5 \\, t\\right)}}{5 \\, {\\left(-2 \\, \\sqrt{5} t^{2} + 10 \\, t^{2}\\right)}^{\\frac{3}{2}}} - \\frac{\\sqrt{5} + 10}{20 \\, t^{2}} + \\frac{\\sqrt{5}}{20 \\, t^{2} {\\left(\\sqrt{5} - 2\\right)}} \\\\\n",
       "2 \\, \\sqrt{5} c + 10 \\, c - \\frac{4 \\, {\\left(2 \\, \\sqrt{5} t + 5 \\, t - 2 \\, \\sqrt{5} - 5\\right)}}{5 \\, {\\left(\\sqrt{5} t^{2} - 5 \\, t^{2} - 2 \\, \\sqrt{5} t + 10 \\, t + \\sqrt{5} - 5\\right)} u_{2}} - \\frac{8 \\, {\\left(5 \\, \\sqrt{5} t + 10 \\, t + 3 \\, \\sqrt{5} + 20\\right)}}{5 \\, u_{1}^{3}} + \\frac{8 \\, {\\left(5 \\, \\sqrt{5} t + 10 \\, t - 3 \\, \\sqrt{5} - 20\\right)}}{5 \\, v_{1}^{3}} - \\frac{8 \\, {\\left(2 \\, \\sqrt{5} t + 5 \\, t + 2 \\, \\sqrt{5} + 5\\right)}}{5 \\, v_{2}^{3}} & 2 \\, \\sqrt{5} c t + 10 \\, c t + \\frac{16 \\, \\sqrt{5} t}{5 \\, {\\left(-8 \\, \\sqrt{5} t^{2} + 24 \\, t^{2}\\right)}^{\\frac{3}{2}}} - \\frac{2 \\, {\\left(2 \\, \\sqrt{5} t + 5 \\, t\\right)}}{5 \\, {\\left(-2 \\, \\sqrt{5} t^{2} + 10 \\, t^{2}\\right)}^{\\frac{3}{2}}} - \\frac{4 \\, \\sqrt{5} + 15}{20 \\, t^{2}} - \\frac{1}{4 \\, t^{2} {\\left(\\sqrt{5} - 2\\right)}}\n",
       "\\end{array}\\right)\\)</html>"
      ],
      "text/latex": [
       "$\\displaystyle \\left(\\begin{array}{rr}\n",
       "-2 \\, \\sqrt{5} c + 14 \\, c - \\frac{1}{20} \\, \\sqrt{5} + \\frac{\\sqrt{5}}{20 \\, {\\left(\\sqrt{5} - 2\\right)}} + \\frac{2 \\, {\\left(2 \\, \\sqrt{5} - 5\\right)}}{5 \\, {\\left(-2 \\, \\sqrt{5} + 10\\right)}^{\\frac{3}{2}}} + \\frac{16 \\, {\\left(3 \\, \\sqrt{5} - 20\\right)}}{5 \\, {\\left(-8 \\, \\sqrt{5} + 24\\right)}^{\\frac{3}{2}}} - \\frac{1}{2} & -2 \\, \\sqrt{5} c t + 14 \\, c t - \\frac{4 \\, {\\left(2 \\, \\sqrt{5} t - 5 \\, t - 2 \\, \\sqrt{5} + 5\\right)}}{5 \\, {\\left(\\sqrt{5} t^{2} - 5 \\, t^{2} - 2 \\, \\sqrt{5} t + 10 \\, t + \\sqrt{5} - 5\\right)} u_{2}} + \\frac{8 \\, {\\left(3 \\, \\sqrt{5} t - 30 \\, t - 5 \\, \\sqrt{5} + 10\\right)}}{5 \\, u_{1}^{3}} + \\frac{8 \\, {\\left(3 \\, \\sqrt{5} t - 30 \\, t + 5 \\, \\sqrt{5} - 10\\right)}}{5 \\, v_{1}^{3}} + \\frac{8 \\, {\\left(2 \\, \\sqrt{5} t - 5 \\, t + 2 \\, \\sqrt{5} - 5\\right)}}{5 \\, v_{2}^{3}} \\\\\n",
       "2 \\, \\sqrt{5} c + 10 \\, c - \\frac{1}{5} \\, \\sqrt{5} - \\frac{2 \\, {\\left(2 \\, \\sqrt{5} + 5\\right)}}{5 \\, {\\left(-2 \\, \\sqrt{5} + 10\\right)}^{\\frac{3}{2}}} - \\frac{2}{\\sqrt{5} - 2} + \\frac{16 \\, \\sqrt{5}}{5 \\, {\\left(-8 \\, \\sqrt{5} + 24\\right)}^{\\frac{3}{2}}} - \\frac{3}{4} & 2 \\, \\sqrt{5} c t + 10 \\, c t + \\frac{4 \\, {\\left(2 \\, \\sqrt{5} t + 5 \\, t - 2 \\, \\sqrt{5} - 5\\right)}}{5 \\, {\\left(\\sqrt{5} t^{2} - 5 \\, t^{2} - 2 \\, \\sqrt{5} t + 10 \\, t + \\sqrt{5} - 5\\right)} u_{2}} - \\frac{8 \\, {\\left(3 \\, \\sqrt{5} t + 20 \\, t + 5 \\, \\sqrt{5} + 10\\right)}}{5 \\, u_{1}^{3}} - \\frac{8 \\, {\\left(3 \\, \\sqrt{5} t + 20 \\, t - 5 \\, \\sqrt{5} - 10\\right)}}{5 \\, v_{1}^{3}} - \\frac{8 \\, {\\left(2 \\, \\sqrt{5} t + 5 \\, t + 2 \\, \\sqrt{5} + 5\\right)}}{5 \\, v_{2}^{3}} \\\\\n",
       "-2 \\, \\sqrt{5} c + 14 \\, c + \\frac{4 \\, {\\left(2 \\, \\sqrt{5} t - 5 \\, t - 2 \\, \\sqrt{5} + 5\\right)}}{5 \\, {\\left(\\sqrt{5} t^{2} - 5 \\, t^{2} - 2 \\, \\sqrt{5} t + 10 \\, t + \\sqrt{5} - 5\\right)} u_{2}} - \\frac{8 \\, {\\left(5 \\, \\sqrt{5} t - 10 \\, t - 3 \\, \\sqrt{5} + 30\\right)}}{5 \\, u_{1}^{3}} + \\frac{8 \\, {\\left(5 \\, \\sqrt{5} t - 10 \\, t + 3 \\, \\sqrt{5} - 30\\right)}}{5 \\, v_{1}^{3}} + \\frac{8 \\, {\\left(2 \\, \\sqrt{5} t - 5 \\, t + 2 \\, \\sqrt{5} - 5\\right)}}{5 \\, v_{2}^{3}} & -2 \\, \\sqrt{5} c t + 14 \\, c t + \\frac{16 \\, {\\left(3 \\, \\sqrt{5} t - 20 \\, t\\right)}}{5 \\, {\\left(-8 \\, \\sqrt{5} t^{2} + 24 \\, t^{2}\\right)}^{\\frac{3}{2}}} + \\frac{2 \\, {\\left(2 \\, \\sqrt{5} t - 5 \\, t\\right)}}{5 \\, {\\left(-2 \\, \\sqrt{5} t^{2} + 10 \\, t^{2}\\right)}^{\\frac{3}{2}}} - \\frac{\\sqrt{5} + 10}{20 \\, t^{2}} + \\frac{\\sqrt{5}}{20 \\, t^{2} {\\left(\\sqrt{5} - 2\\right)}} \\\\\n",
       "2 \\, \\sqrt{5} c + 10 \\, c - \\frac{4 \\, {\\left(2 \\, \\sqrt{5} t + 5 \\, t - 2 \\, \\sqrt{5} - 5\\right)}}{5 \\, {\\left(\\sqrt{5} t^{2} - 5 \\, t^{2} - 2 \\, \\sqrt{5} t + 10 \\, t + \\sqrt{5} - 5\\right)} u_{2}} - \\frac{8 \\, {\\left(5 \\, \\sqrt{5} t + 10 \\, t + 3 \\, \\sqrt{5} + 20\\right)}}{5 \\, u_{1}^{3}} + \\frac{8 \\, {\\left(5 \\, \\sqrt{5} t + 10 \\, t - 3 \\, \\sqrt{5} - 20\\right)}}{5 \\, v_{1}^{3}} - \\frac{8 \\, {\\left(2 \\, \\sqrt{5} t + 5 \\, t + 2 \\, \\sqrt{5} + 5\\right)}}{5 \\, v_{2}^{3}} & 2 \\, \\sqrt{5} c t + 10 \\, c t + \\frac{16 \\, \\sqrt{5} t}{5 \\, {\\left(-8 \\, \\sqrt{5} t^{2} + 24 \\, t^{2}\\right)}^{\\frac{3}{2}}} - \\frac{2 \\, {\\left(2 \\, \\sqrt{5} t + 5 \\, t\\right)}}{5 \\, {\\left(-2 \\, \\sqrt{5} t^{2} + 10 \\, t^{2}\\right)}^{\\frac{3}{2}}} - \\frac{4 \\, \\sqrt{5} + 15}{20 \\, t^{2}} - \\frac{1}{4 \\, t^{2} {\\left(\\sqrt{5} - 2\\right)}}\n",
       "\\end{array}\\right)$"
      ],
      "text/plain": [
       "[                                                                                                             -2*sqrt(5)*c + 14*c - 1/20*sqrt(5) + 1/20*sqrt(5)/(sqrt(5) - 2) + 2/5*(2*sqrt(5) - 5)/(-2*sqrt(5) + 10)^(3/2) + 16/5*(3*sqrt(5) - 20)/(-8*sqrt(5) + 24)^(3/2) - 1/2 -2*sqrt(5)*c*t + 14*c*t - 4/5*(2*sqrt(5)*t - 5*t - 2*sqrt(5) + 5)/((sqrt(5)*t^2 - 5*t^2 - 2*sqrt(5)*t + 10*t + sqrt(5) - 5)*u2) + 8/5*(3*sqrt(5)*t - 30*t - 5*sqrt(5) + 10)/u1^3 + 8/5*(3*sqrt(5)*t - 30*t + 5*sqrt(5) - 10)/v1^3 + 8/5*(2*sqrt(5)*t - 5*t + 2*sqrt(5) - 5)/v2^3]\n",
       "[                                                                                                                                   2*sqrt(5)*c + 10*c - 1/5*sqrt(5) - 2/5*(2*sqrt(5) + 5)/(-2*sqrt(5) + 10)^(3/2) - 2/(sqrt(5) - 2) + 16/5*sqrt(5)/(-8*sqrt(5) + 24)^(3/2) - 3/4  2*sqrt(5)*c*t + 10*c*t + 4/5*(2*sqrt(5)*t + 5*t - 2*sqrt(5) - 5)/((sqrt(5)*t^2 - 5*t^2 - 2*sqrt(5)*t + 10*t + sqrt(5) - 5)*u2) - 8/5*(3*sqrt(5)*t + 20*t + 5*sqrt(5) + 10)/u1^3 - 8/5*(3*sqrt(5)*t + 20*t - 5*sqrt(5) - 10)/v1^3 - 8/5*(2*sqrt(5)*t + 5*t + 2*sqrt(5) + 5)/v2^3]\n",
       "[    -2*sqrt(5)*c + 14*c + 4/5*(2*sqrt(5)*t - 5*t - 2*sqrt(5) + 5)/((sqrt(5)*t^2 - 5*t^2 - 2*sqrt(5)*t + 10*t + sqrt(5) - 5)*u2) - 8/5*(5*sqrt(5)*t - 10*t - 3*sqrt(5) + 30)/u1^3 + 8/5*(5*sqrt(5)*t - 10*t + 3*sqrt(5) - 30)/v1^3 + 8/5*(2*sqrt(5)*t - 5*t + 2*sqrt(5) - 5)/v2^3                                                                       -2*sqrt(5)*c*t + 14*c*t + 16/5*(3*sqrt(5)*t - 20*t)/(-8*sqrt(5)*t^2 + 24*t^2)^(3/2) + 2/5*(2*sqrt(5)*t - 5*t)/(-2*sqrt(5)*t^2 + 10*t^2)^(3/2) - 1/20*(sqrt(5) + 10)/t^2 + 1/20*sqrt(5)/(t^2*(sqrt(5) - 2))]\n",
       "[     2*sqrt(5)*c + 10*c - 4/5*(2*sqrt(5)*t + 5*t - 2*sqrt(5) - 5)/((sqrt(5)*t^2 - 5*t^2 - 2*sqrt(5)*t + 10*t + sqrt(5) - 5)*u2) - 8/5*(5*sqrt(5)*t + 10*t + 3*sqrt(5) + 20)/u1^3 + 8/5*(5*sqrt(5)*t + 10*t - 3*sqrt(5) - 20)/v1^3 - 8/5*(2*sqrt(5)*t + 5*t + 2*sqrt(5) + 5)/v2^3                                                                                          2*sqrt(5)*c*t + 10*c*t + 16/5*sqrt(5)*t/(-8*sqrt(5)*t^2 + 24*t^2)^(3/2) - 2/5*(2*sqrt(5)*t + 5*t)/(-2*sqrt(5)*t^2 + 10*t^2)^(3/2) - 1/20*(4*sqrt(5) + 15)/t^2 - 1/4/(t^2*(sqrt(5) - 2))]"
      ]
     },
     "metadata": {},
     "output_type": "display_data"
    }
   ],
   "source": [
    "show(D)"
   ]
  },
  {
   "cell_type": "code",
   "execution_count": 14,
   "metadata": {},
   "outputs": [],
   "source": [
    "# # Calculate the values of u for t = 0 and t = 1\n",
    "### Curvas\n",
    "f(t) = t;\n",
    "f_1t(t) = -2*sqrt(5)*t^2 + 10*t^2 - 4*sqrt(5)*t + 4*t - 2*sqrt(5) + 10;# v1**2\n",
    "g_1t(t) = -2*sqrt(5)*t^2 + 10*t^2 + 4*sqrt(5)*t - 4*t - 2*sqrt(5) + 10;# u1**2\n",
    "f_2t(t) = -2*sqrt(5)*t^2 + 10*t^2 - 4*sqrt(5)*t + 20*t - 2*sqrt(5) + 10 # v2**2\n",
    "g_2t(t) = -2*sqrt(5)*t^2 + 10*t^2 + 4*sqrt(5)*t - 20*t - 2*sqrt(5) + 10 # u2**2\n",
    "\n",
    "\n"
   ]
  },
  {
   "cell_type": "markdown",
   "metadata": {},
   "source": [
    "##### Calculates the Möbius coefficient"
   ]
  },
  {
   "cell_type": "code",
   "execution_count": 15,
   "metadata": {},
   "outputs": [],
   "source": [
    "coefficient_dict = polynomial_to_dict(p2_uvt_numerator );"
   ]
  },
  {
   "cell_type": "code",
   "execution_count": 16,
   "metadata": {},
   "outputs": [],
   "source": [
    "variables = p2_uvt_numerator.variables()\n",
    "total_degree  =  [p2_uvt_numerator.degree(j) for j in variables]\n",
    "n_uplas = [[i, j, k, l, m] for i in range(total_degree[0]+1) \n",
    "           for j in range(total_degree[1]+1)\n",
    "           for k in range(total_degree[2]+1) \n",
    "           for l in range(total_degree[3]+1) \n",
    "           for m in range(total_degree[4]+1)]"
   ]
  },
  {
   "cell_type": "code",
   "execution_count": 17,
   "metadata": {},
   "outputs": [
    {
     "data": {
      "text/plain": [
       "7203"
      ]
     },
     "execution_count": 17,
     "metadata": {},
     "output_type": "execute_result"
    }
   ],
   "source": [
    "len(n_uplas)#; variables ; total_degree"
   ]
  },
  {
   "cell_type": "code",
   "execution_count": 18,
   "metadata": {},
   "outputs": [
    {
     "data": {
      "text/plain": [
       "(t, u1, u2, v1, v2)"
      ]
     },
     "execution_count": 18,
     "metadata": {},
     "output_type": "execute_result"
    }
   ],
   "source": [
    " variables"
   ]
  },
  {
   "cell_type": "code",
   "execution_count": null,
   "metadata": {},
   "outputs": [],
   "source": [
    "v11 = sqrt(f_1t(1/4)); u11 = sqrt(g_1t(1/4)); v21 = sqrt(f_2t(1/4)); u21 = sqrt(g_2t(1/4))\n",
    "v10 = sqrt(f_1t(0)); u10 = sqrt(g_1t(0)); v20 = sqrt(f_2t(0)); u20 = sqrt(g_2t(0))\n",
    "variable_ranges = [(0, 1/4), (u10, u11),(u20, u21), (v10, v11), (v20, v21)]"
   ]
  },
  {
   "cell_type": "code",
   "execution_count": 19,
   "metadata": {
    "scrolled": true
   },
   "outputs": [
    {
     "name": "stdout",
     "output_type": "stream",
     "text": [
      "Iteração: 0, Tempo decorrido: 0.00 minutos\n",
      "Conjunto parcial de coeficientes: set()\n",
      "\n",
      "\n",
      "Iteração: 1000, Tempo decorrido: 7.04 minutos\n",
      "Conjunto parcial de coeficientes: {1}\n",
      "\n",
      "\n",
      "Iteração: 2000, Tempo decorrido: 13.72 minutos\n",
      "Conjunto parcial de coeficientes: {1}\n",
      "\n",
      "\n",
      "Iteração: 3000, Tempo decorrido: 20.46 minutos\n",
      "Conjunto parcial de coeficientes: {1}\n",
      "\n",
      "\n",
      "Iteração: 4000, Tempo decorrido: 26.82 minutos\n",
      "Conjunto parcial de coeficientes: {1}\n",
      "\n",
      "\n",
      "Iteração: 5000, Tempo decorrido: 32.17 minutos\n",
      "Conjunto parcial de coeficientes: {1}\n",
      "\n",
      "\n",
      "Iteração: 6000, Tempo decorrido: 34.06 minutos\n",
      "Conjunto parcial de coeficientes: {1}\n",
      "\n",
      "\n",
      "Iteração: 7000, Tempo decorrido: 35.58 minutos\n",
      "Conjunto parcial de coeficientes: {1}\n",
      "\n",
      "\n",
      "Conjunto final de coeficientes: {1}\n"
     ]
    }
   ],
   "source": [
    "\n",
    "import time\n",
    "\n",
    "# Inicialize a lista de coeficientes\n",
    "\n",
    "# Capture o tempo de início\n",
    "start_time = time.time()\n",
    "sign_coeff_set = set()\n",
    "\n",
    "for i, degree_per_variable in enumerate(n_uplas):\n",
    "    \n",
    "    c = moebius_coefficient(p2_uvt_numerator, degree_per_variable, total_degree, variable_ranges, coefficient_dict)\n",
    "\n",
    "    if i % 1000 == 0:\n",
    "        elapsed_time = time.time() - start_time\n",
    "        elapsed_time_minutes = elapsed_time / 60\n",
    "        print(f\"Iteração: {i}, Tempo decorrido: {elapsed_time_minutes:.2f} minutos\")\n",
    "        print(\"Conjunto parcial de coeficientes:\", sign_coeff_set)  \n",
    "        print(\"\\n\")\n",
    "    \n",
    "    \n",
    "    if c.is_zero():         \n",
    "         continue\n",
    "\n",
    "    else:\n",
    "        sign_coeff = sign(c.simplify_full())\n",
    "        sign_coeff_set.add(sign_coeff)\n",
    "\n",
    "    if 1 in sign_coeff_set and -1 in sign_coeff_set:\n",
    "        \n",
    "        print(f\"Encerrando na iteração {i} pois o conjunto contém 1 e -1.\")\n",
    "        break\n",
    "        \n",
    "    \n",
    "print(\"Conjunto final de coeficientes:\", sign_coeff_set)  \n"
   ]
  },
  {
   "cell_type": "markdown",
   "metadata": {},
   "source": [
    "#####  Checking the sign of Möbius coefficients"
   ]
  },
  {
   "cell_type": "code",
   "execution_count": 20,
   "metadata": {
    "collapsed": false,
    "jupyter": {
     "outputs_hidden": false
    }
   },
   "outputs": [],
   "source": [
    "#coefficient_signs = set([sign(c) for c in coeff])"
   ]
  },
  {
   "cell_type": "code",
   "execution_count": 21,
   "metadata": {},
   "outputs": [],
   "source": [
    "#set(coefficient_signs)"
   ]
  },
  {
   "cell_type": "markdown",
   "metadata": {},
   "source": [
    "##### Limit at the extremes"
   ]
  },
  {
   "cell_type": "code",
   "execution_count": 22,
   "metadata": {},
   "outputs": [],
   "source": [
    "#bool(limit(p2_uvt_numerator, t=0, dir='+')> 0), bool(limit(p2_uvt_numerator, t=1, dir='-') > 0)"
   ]
  },
  {
   "cell_type": "code",
   "execution_count": null,
   "metadata": {},
   "outputs": [],
   "source": []
  },
  {
   "cell_type": "code",
   "execution_count": 23,
   "metadata": {},
   "outputs": [
    {
     "data": {
      "image/png": "[encoded data removed]",
      "text/plain": [
       "Graphics object consisting of 1 graphics primitive"
      ]
     },
     "execution_count": 23,
     "metadata": {},
     "output_type": "execute_result"
    }
   ],
   "source": [
    "plot(p2, (t, 0, 0.97), ymax=10)"
   ]
  },
  {
   "cell_type": "code",
   "execution_count": null,
   "metadata": {},
   "outputs": [],
   "source": []
  }
 ],
 "metadata": {
  "kernelspec": {
   "display_name": "SageMath 10.3",
   "language": "sage",
   "name": "sagemath"
  },
  "language_info": {
   "codemirror_mode": {
    "name": "ipython",
    "version": 3
   },
   "file_extension": ".py",
   "mimetype": "text/x-python",
   "name": "python",
   "nbconvert_exporter": "python",
   "pygments_lexer": "ipython3",
   "version": "3.12.3"
  },
  "widgets": {
   "application/vnd.jupyter.widget-state+json": {
    "state": {},
    "version_major": 2,
    "version_minor": 0
   }
  }
 },
 "nbformat": 4,
 "nbformat_minor": 4
}
