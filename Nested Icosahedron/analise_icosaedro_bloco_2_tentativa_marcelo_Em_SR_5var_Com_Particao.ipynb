{
 "cells": [
  {
   "cell_type": "markdown",
   "metadata": {},
   "source": [
    "### Nesse arquivo obtenho um polinomio mais simples. Rodo a ideia da particao colocando as raizes no maximos e minimos.\n",
    "\n",
    "##### Nesse arquivo rodo bem a ideia da particao. No entanto uma raiz para t=1 impede a finalizacao. Tentando solucionar.\n",
    "##### Aparentemente nao da certo inverter o intervalo para deixar semiaberto no 1."
   ]
  },
  {
   "cell_type": "code",
   "execution_count": 4,
   "metadata": {},
   "outputs": [
    {
     "data": {
      "text/plain": [
       "(2, 2)"
      ]
     },
     "execution_count": 4,
     "metadata": {},
     "output_type": "execute_result"
    }
   ],
   "source": [
    "#load(\"../util.sage\")\n",
    "B2 = load('blocks/bloco_2_linear_icosaedro.sobj'); B2.dimensions()"
   ]
  },
  {
   "cell_type": "code",
   "execution_count": 5,
   "metadata": {},
   "outputs": [],
   "source": [
    "c, t =var('c t');\n",
    "assume(t>0)\n",
    "assume(t<1)\n",
    "#t = var('t')\n",
    "def extremos_uv_particionados(p , extremos_t):\n",
    "    \"\"\" INPUT - UM POLINOMIO QUADRATICO NA VARIAVEL t DA FORMA\n",
    "   p --> p(t)=a*t^2 + b*t+c \n",
    "   extremos_t ----> Os extremos para o t, (deve ser um subintervalo do INTERVALO [0,1])\n",
    "   OUTPUT - OS VALORES MAXIMOS E MINIMOS DE p NO INTERVALO [t0,t1].\n",
    "    \"\"\"\n",
    "    t0 =  extremos_t[0]\n",
    "    t1 =  extremos_t[1]\n",
    "    coefs = reversed(p.coefficients(t))\n",
    "    a, b , c = map(lambda x: x[0], coefs )\n",
    "    \n",
    "    if t0 <=-b/(2*a) <=t1:\n",
    "        \n",
    "        lst = [p(t=t0), p(t=t1), p(t=-b/(2*a))]\n",
    "        \n",
    "    else:\n",
    "        lst = [p(t=t0), p(t=t1)]\n",
    "        \n",
    "    return min(lst), max(lst)\n",
    "\n",
    "###TESTAR SE f e g é um par u e v.\n",
    "def teste_par_u_v(lista):\n",
    "    \"\"\"INPUT- Uma lista com o possivel par f e g para v e u(nesta ordem).\n",
    "    OUTPUT- Um booleano Falso ou verdadeiro se f e g forma um par para a substituição\"\"\"\n",
    "    f_lista = lista[0]\n",
    "    \n",
    "    g_lista = lista[1]\n",
    "    \n",
    "    b = (g_lista.coefficients()[1][0])\n",
    "    \n",
    "    return bool(((g_lista-f_lista)/(2*b)).full_simplify()== t)\n",
    "\n"
   ]
  },
  {
   "cell_type": "code",
   "execution_count": 6,
   "metadata": {},
   "outputs": [],
   "source": [
    "B2 = B2.apply_map(lambda x : x.expand().combine().simplify_real() )"
   ]
  },
  {
   "cell_type": "code",
   "execution_count": 7,
   "metadata": {},
   "outputs": [
    {
     "data": {
      "text/html": [
       "<html>\\(\\displaystyle \\left(\\begin{array}{rr}\n",
       "-\\frac{1}{10} \\, \\sqrt{5} - \\frac{2 \\, {\\left(\\sqrt{5} - 5\\right)}}{5 \\, {\\left(-2 \\, \\sqrt{5} + 10\\right)}^{\\frac{3}{2}}} + \\frac{16 \\, \\sqrt{5}}{5 \\, {\\left(-8 \\, \\sqrt{5} + 24\\right)}^{\\frac{3}{2}}} + \\frac{2 \\, {\\left(2 \\, \\sqrt{5} - 5\\right)}}{5 \\, {\\left(\\sqrt{5} - 1\\right)}^{3}} & \\frac{8 \\, {\\left(\\sqrt{5} t - 5 \\, t + 5 \\, \\sqrt{5} - 5\\right)}}{5 \\, {\\left(-2 \\, \\sqrt{5} t^{2} + 10 \\, t^{2} - 4 \\, \\sqrt{5} t + 4 \\, t - 2 \\, \\sqrt{5} + 10\\right)}^{\\frac{3}{2}}} - \\frac{8 \\, {\\left(\\sqrt{5} t - 5 \\, t + \\sqrt{5} - 5\\right)}}{5 \\, {\\left(-2 \\, \\sqrt{5} t^{2} + 10 \\, t^{2} - 4 \\, \\sqrt{5} t + 20 \\, t - 2 \\, \\sqrt{5} + 10\\right)}^{\\frac{3}{2}}} - \\frac{8 \\, {\\left(\\sqrt{5} t - 5 \\, t - \\sqrt{5} + 5\\right)}}{5 \\, {\\left(-2 \\, \\sqrt{5} t^{2} + 10 \\, t^{2} + 4 \\, \\sqrt{5} t - 20 \\, t - 2 \\, \\sqrt{5} + 10\\right)}^{\\frac{3}{2}}} + \\frac{8 \\, {\\left(\\sqrt{5} t - 5 \\, t - 5 \\, \\sqrt{5} + 5\\right)}}{5 \\, {\\left(-2 \\, \\sqrt{5} t^{2} + 10 \\, t^{2} + 4 \\, \\sqrt{5} t - 4 \\, t - 2 \\, \\sqrt{5} + 10\\right)}^{\\frac{3}{2}}} \\\\\n",
       "\\frac{8 \\, {\\left(5 \\, \\sqrt{5} t - 5 \\, t + \\sqrt{5} - 5\\right)}}{5 \\, {\\left(-2 \\, \\sqrt{5} t^{2} + 10 \\, t^{2} - 4 \\, \\sqrt{5} t + 4 \\, t - 2 \\, \\sqrt{5} + 10\\right)}^{\\frac{3}{2}}} - \\frac{8 \\, {\\left(5 \\, \\sqrt{5} t - 5 \\, t - \\sqrt{5} + 5\\right)}}{5 \\, {\\left(-2 \\, \\sqrt{5} t^{2} + 10 \\, t^{2} + 4 \\, \\sqrt{5} t - 4 \\, t - 2 \\, \\sqrt{5} + 10\\right)}^{\\frac{3}{2}}} - \\frac{8 \\, {\\left(\\sqrt{5} t - 5 \\, t + \\sqrt{5} - 5\\right)}}{5 \\, {\\left(-2 \\, \\sqrt{5} t^{2} + 10 \\, t^{2} - 4 \\, \\sqrt{5} t + 20 \\, t - 2 \\, \\sqrt{5} + 10\\right)}^{\\frac{3}{2}}} + \\frac{8 \\, {\\left(\\sqrt{5} t - 5 \\, t - \\sqrt{5} + 5\\right)}}{5 \\, {\\left(-2 \\, \\sqrt{5} t^{2} + 10 \\, t^{2} + 4 \\, \\sqrt{5} t - 20 \\, t - 2 \\, \\sqrt{5} + 10\\right)}^{\\frac{3}{2}}} & \\frac{16 \\, \\sqrt{5} t}{5 \\, {\\left(-8 \\, \\sqrt{5} t^{2} + 24 \\, t^{2}\\right)}^{\\frac{3}{2}}} - \\frac{2 \\, {\\left(\\sqrt{5} t - 5 \\, t\\right)}}{5 \\, {\\left(-2 \\, \\sqrt{5} t^{2} + 10 \\, t^{2}\\right)}^{\\frac{3}{2}}} - \\frac{\\sqrt{5}}{10 \\, t^{2}} + \\frac{2 \\, {\\left(2 \\, \\sqrt{5} - 5\\right)}}{5 \\, t^{2} {\\left(\\sqrt{5} - 1\\right)}^{3}}\n",
       "\\end{array}\\right)\\)</html>"
      ],
      "text/latex": [
       "$\\displaystyle \\left(\\begin{array}{rr}\n",
       "-\\frac{1}{10} \\, \\sqrt{5} - \\frac{2 \\, {\\left(\\sqrt{5} - 5\\right)}}{5 \\, {\\left(-2 \\, \\sqrt{5} + 10\\right)}^{\\frac{3}{2}}} + \\frac{16 \\, \\sqrt{5}}{5 \\, {\\left(-8 \\, \\sqrt{5} + 24\\right)}^{\\frac{3}{2}}} + \\frac{2 \\, {\\left(2 \\, \\sqrt{5} - 5\\right)}}{5 \\, {\\left(\\sqrt{5} - 1\\right)}^{3}} & \\frac{8 \\, {\\left(\\sqrt{5} t - 5 \\, t + 5 \\, \\sqrt{5} - 5\\right)}}{5 \\, {\\left(-2 \\, \\sqrt{5} t^{2} + 10 \\, t^{2} - 4 \\, \\sqrt{5} t + 4 \\, t - 2 \\, \\sqrt{5} + 10\\right)}^{\\frac{3}{2}}} - \\frac{8 \\, {\\left(\\sqrt{5} t - 5 \\, t + \\sqrt{5} - 5\\right)}}{5 \\, {\\left(-2 \\, \\sqrt{5} t^{2} + 10 \\, t^{2} - 4 \\, \\sqrt{5} t + 20 \\, t - 2 \\, \\sqrt{5} + 10\\right)}^{\\frac{3}{2}}} - \\frac{8 \\, {\\left(\\sqrt{5} t - 5 \\, t - \\sqrt{5} + 5\\right)}}{5 \\, {\\left(-2 \\, \\sqrt{5} t^{2} + 10 \\, t^{2} + 4 \\, \\sqrt{5} t - 20 \\, t - 2 \\, \\sqrt{5} + 10\\right)}^{\\frac{3}{2}}} + \\frac{8 \\, {\\left(\\sqrt{5} t - 5 \\, t - 5 \\, \\sqrt{5} + 5\\right)}}{5 \\, {\\left(-2 \\, \\sqrt{5} t^{2} + 10 \\, t^{2} + 4 \\, \\sqrt{5} t - 4 \\, t - 2 \\, \\sqrt{5} + 10\\right)}^{\\frac{3}{2}}} \\\\\n",
       "\\frac{8 \\, {\\left(5 \\, \\sqrt{5} t - 5 \\, t + \\sqrt{5} - 5\\right)}}{5 \\, {\\left(-2 \\, \\sqrt{5} t^{2} + 10 \\, t^{2} - 4 \\, \\sqrt{5} t + 4 \\, t - 2 \\, \\sqrt{5} + 10\\right)}^{\\frac{3}{2}}} - \\frac{8 \\, {\\left(5 \\, \\sqrt{5} t - 5 \\, t - \\sqrt{5} + 5\\right)}}{5 \\, {\\left(-2 \\, \\sqrt{5} t^{2} + 10 \\, t^{2} + 4 \\, \\sqrt{5} t - 4 \\, t - 2 \\, \\sqrt{5} + 10\\right)}^{\\frac{3}{2}}} - \\frac{8 \\, {\\left(\\sqrt{5} t - 5 \\, t + \\sqrt{5} - 5\\right)}}{5 \\, {\\left(-2 \\, \\sqrt{5} t^{2} + 10 \\, t^{2} - 4 \\, \\sqrt{5} t + 20 \\, t - 2 \\, \\sqrt{5} + 10\\right)}^{\\frac{3}{2}}} + \\frac{8 \\, {\\left(\\sqrt{5} t - 5 \\, t - \\sqrt{5} + 5\\right)}}{5 \\, {\\left(-2 \\, \\sqrt{5} t^{2} + 10 \\, t^{2} + 4 \\, \\sqrt{5} t - 20 \\, t - 2 \\, \\sqrt{5} + 10\\right)}^{\\frac{3}{2}}} & \\frac{16 \\, \\sqrt{5} t}{5 \\, {\\left(-8 \\, \\sqrt{5} t^{2} + 24 \\, t^{2}\\right)}^{\\frac{3}{2}}} - \\frac{2 \\, {\\left(\\sqrt{5} t - 5 \\, t\\right)}}{5 \\, {\\left(-2 \\, \\sqrt{5} t^{2} + 10 \\, t^{2}\\right)}^{\\frac{3}{2}}} - \\frac{\\sqrt{5}}{10 \\, t^{2}} + \\frac{2 \\, {\\left(2 \\, \\sqrt{5} - 5\\right)}}{5 \\, t^{2} {\\left(\\sqrt{5} - 1\\right)}^{3}}\n",
       "\\end{array}\\right)$"
      ],
      "text/plain": [
       "[                                                                                                                                                                                                                                                                                                         -1/10*sqrt(5) - 2/5*(sqrt(5) - 5)/(-2*sqrt(5) + 10)^(3/2) + 16/5*sqrt(5)/(-8*sqrt(5) + 24)^(3/2) + 2/5*(2*sqrt(5) - 5)/(sqrt(5) - 1)^3 8/5*(sqrt(5)*t - 5*t + 5*sqrt(5) - 5)/(-2*sqrt(5)*t^2 + 10*t^2 - 4*sqrt(5)*t + 4*t - 2*sqrt(5) + 10)^(3/2) - 8/5*(sqrt(5)*t - 5*t + sqrt(5) - 5)/(-2*sqrt(5)*t^2 + 10*t^2 - 4*sqrt(5)*t + 20*t - 2*sqrt(5) + 10)^(3/2) - 8/5*(sqrt(5)*t - 5*t - sqrt(5) + 5)/(-2*sqrt(5)*t^2 + 10*t^2 + 4*sqrt(5)*t - 20*t - 2*sqrt(5) + 10)^(3/2) + 8/5*(sqrt(5)*t - 5*t - 5*sqrt(5) + 5)/(-2*sqrt(5)*t^2 + 10*t^2 + 4*sqrt(5)*t - 4*t - 2*sqrt(5) + 10)^(3/2)]\n",
       "[8/5*(5*sqrt(5)*t - 5*t + sqrt(5) - 5)/(-2*sqrt(5)*t^2 + 10*t^2 - 4*sqrt(5)*t + 4*t - 2*sqrt(5) + 10)^(3/2) - 8/5*(5*sqrt(5)*t - 5*t - sqrt(5) + 5)/(-2*sqrt(5)*t^2 + 10*t^2 + 4*sqrt(5)*t - 4*t - 2*sqrt(5) + 10)^(3/2) - 8/5*(sqrt(5)*t - 5*t + sqrt(5) - 5)/(-2*sqrt(5)*t^2 + 10*t^2 - 4*sqrt(5)*t + 20*t - 2*sqrt(5) + 10)^(3/2) + 8/5*(sqrt(5)*t - 5*t - sqrt(5) + 5)/(-2*sqrt(5)*t^2 + 10*t^2 + 4*sqrt(5)*t - 20*t - 2*sqrt(5) + 10)^(3/2)                                                                                                                                                                                                                                                                           16/5*sqrt(5)*t/(-8*sqrt(5)*t^2 + 24*t^2)^(3/2) - 2/5*(sqrt(5)*t - 5*t)/(-2*sqrt(5)*t^2 + 10*t^2)^(3/2) - 1/10*sqrt(5)/t^2 + 2/5*(2*sqrt(5) - 5)/(t^2*(sqrt(5) - 1)^3)]"
      ]
     },
     "metadata": {},
     "output_type": "display_data"
    }
   ],
   "source": [
    "show(B2)"
   ]
  },
  {
   "cell_type": "code",
   "execution_count": 8,
   "metadata": {},
   "outputs": [],
   "source": [
    "u1, v1, u2, v2 = var('u1, v1, u2, v2')\n",
    "assume(u1>0);\n",
    "assume(v1>0);\n",
    "assume(u2>0);\n",
    "assume(v2>0);\n"
   ]
  },
  {
   "cell_type": "code",
   "execution_count": 9,
   "metadata": {},
   "outputs": [
    {
     "data": {
      "text/html": [
       "<html>\\(\\displaystyle \\frac{u_{1}^{2} - v_{1}^{2}}{8 \\, {\\left(\\sqrt{5} - 1\\right)}}\\)</html>"
      ],
      "text/latex": [
       "$\\displaystyle \\frac{u_{1}^{2} - v_{1}^{2}}{8 \\, {\\left(\\sqrt{5} - 1\\right)}}$"
      ],
      "text/plain": [
       "1/8*(u1^2 - v1^2)/(sqrt(5) - 1)"
      ]
     },
     "metadata": {},
     "output_type": "display_data"
    }
   ],
   "source": [
    "f_1 = -2*sqrt(5)*t^2 + 10*t^2 - 4*sqrt(5)*t + 4*t - 2*sqrt(5) + 10;# v1**2\n",
    "g_1 = -2*sqrt(5)*t^2 + 10*t^2 + 4*sqrt(5)*t - 4*t - 2*sqrt(5) + 10;# u1**2\n",
    "f_2 = -2*sqrt(5)*t^2 + 10*t^2 - 4*sqrt(5)*t + 20*t - 2*sqrt(5) + 10 # v2**2\n",
    "g_2 = -2*sqrt(5)*t^2 + 10*t^2 + 4*sqrt(5)*t - 20*t - 2*sqrt(5) + 10 # u2**2\n",
    "b = (g_1.coefficients()[1][0]);\n",
    "subs_t = (u1**2-v1**2)/(2*b) ## (g_1-f_1)/(2*b)\n",
    "show(subs_t)"
   ]
  },
  {
   "cell_type": "code",
   "execution_count": 10,
   "metadata": {},
   "outputs": [
    {
     "data": {
      "text/plain": [
       "[True, True]"
      ]
     },
     "execution_count": 10,
     "metadata": {},
     "output_type": "execute_result"
    }
   ],
   "source": [
    "[teste_par_u_v([f_1,g_1]),teste_par_u_v([f_2,g_2])]"
   ]
  },
  {
   "cell_type": "code",
   "execution_count": 11,
   "metadata": {},
   "outputs": [],
   "source": [
    "B2_u_v_t = B2.apply_map(lambda x : x.subs({f_1:v1^2}).subs({g_1:u1^2}).subs({f_2:v2^2}).subs({g_2:u2^2}))"
   ]
  },
  {
   "cell_type": "code",
   "execution_count": 12,
   "metadata": {},
   "outputs": [
    {
     "data": {
      "text/html": [
       "<html>\\(\\displaystyle \\left(\\begin{array}{rr}\n",
       "-\\frac{1}{10} \\, \\sqrt{5} - \\frac{2 \\, {\\left(\\sqrt{5} - 5\\right)}}{5 \\, {\\left(-2 \\, \\sqrt{5} + 10\\right)}^{\\frac{3}{2}}} + \\frac{16 \\, \\sqrt{5}}{5 \\, {\\left(-8 \\, \\sqrt{5} + 24\\right)}^{\\frac{3}{2}}} + \\frac{2 \\, {\\left(2 \\, \\sqrt{5} - 5\\right)}}{5 \\, {\\left(\\sqrt{5} - 1\\right)}^{3}} & \\frac{8 \\, {\\left(\\sqrt{5} t - 5 \\, t - 5 \\, \\sqrt{5} + 5\\right)}}{5 \\, u_{1}^{3}} - \\frac{8 \\, {\\left(\\sqrt{5} t - 5 \\, t - \\sqrt{5} + 5\\right)}}{5 \\, u_{2}^{3}} + \\frac{8 \\, {\\left(\\sqrt{5} t - 5 \\, t + 5 \\, \\sqrt{5} - 5\\right)}}{5 \\, v_{1}^{3}} - \\frac{8 \\, {\\left(\\sqrt{5} t - 5 \\, t + \\sqrt{5} - 5\\right)}}{5 \\, v_{2}^{3}} \\\\\n",
       "-\\frac{8 \\, {\\left(5 \\, \\sqrt{5} t - 5 \\, t - \\sqrt{5} + 5\\right)}}{5 \\, u_{1}^{3}} + \\frac{8 \\, {\\left(\\sqrt{5} t - 5 \\, t - \\sqrt{5} + 5\\right)}}{5 \\, u_{2}^{3}} + \\frac{8 \\, {\\left(5 \\, \\sqrt{5} t - 5 \\, t + \\sqrt{5} - 5\\right)}}{5 \\, v_{1}^{3}} - \\frac{8 \\, {\\left(\\sqrt{5} t - 5 \\, t + \\sqrt{5} - 5\\right)}}{5 \\, v_{2}^{3}} & \\frac{16 \\, \\sqrt{5} t}{5 \\, {\\left(-8 \\, \\sqrt{5} t^{2} + 24 \\, t^{2}\\right)}^{\\frac{3}{2}}} - \\frac{2 \\, {\\left(\\sqrt{5} t - 5 \\, t\\right)}}{5 \\, {\\left(-2 \\, \\sqrt{5} t^{2} + 10 \\, t^{2}\\right)}^{\\frac{3}{2}}} - \\frac{\\sqrt{5}}{10 \\, t^{2}} + \\frac{2 \\, {\\left(2 \\, \\sqrt{5} - 5\\right)}}{5 \\, t^{2} {\\left(\\sqrt{5} - 1\\right)}^{3}}\n",
       "\\end{array}\\right)\\)</html>"
      ],
      "text/latex": [
       "$\\displaystyle \\left(\\begin{array}{rr}\n",
       "-\\frac{1}{10} \\, \\sqrt{5} - \\frac{2 \\, {\\left(\\sqrt{5} - 5\\right)}}{5 \\, {\\left(-2 \\, \\sqrt{5} + 10\\right)}^{\\frac{3}{2}}} + \\frac{16 \\, \\sqrt{5}}{5 \\, {\\left(-8 \\, \\sqrt{5} + 24\\right)}^{\\frac{3}{2}}} + \\frac{2 \\, {\\left(2 \\, \\sqrt{5} - 5\\right)}}{5 \\, {\\left(\\sqrt{5} - 1\\right)}^{3}} & \\frac{8 \\, {\\left(\\sqrt{5} t - 5 \\, t - 5 \\, \\sqrt{5} + 5\\right)}}{5 \\, u_{1}^{3}} - \\frac{8 \\, {\\left(\\sqrt{5} t - 5 \\, t - \\sqrt{5} + 5\\right)}}{5 \\, u_{2}^{3}} + \\frac{8 \\, {\\left(\\sqrt{5} t - 5 \\, t + 5 \\, \\sqrt{5} - 5\\right)}}{5 \\, v_{1}^{3}} - \\frac{8 \\, {\\left(\\sqrt{5} t - 5 \\, t + \\sqrt{5} - 5\\right)}}{5 \\, v_{2}^{3}} \\\\\n",
       "-\\frac{8 \\, {\\left(5 \\, \\sqrt{5} t - 5 \\, t - \\sqrt{5} + 5\\right)}}{5 \\, u_{1}^{3}} + \\frac{8 \\, {\\left(\\sqrt{5} t - 5 \\, t - \\sqrt{5} + 5\\right)}}{5 \\, u_{2}^{3}} + \\frac{8 \\, {\\left(5 \\, \\sqrt{5} t - 5 \\, t + \\sqrt{5} - 5\\right)}}{5 \\, v_{1}^{3}} - \\frac{8 \\, {\\left(\\sqrt{5} t - 5 \\, t + \\sqrt{5} - 5\\right)}}{5 \\, v_{2}^{3}} & \\frac{16 \\, \\sqrt{5} t}{5 \\, {\\left(-8 \\, \\sqrt{5} t^{2} + 24 \\, t^{2}\\right)}^{\\frac{3}{2}}} - \\frac{2 \\, {\\left(\\sqrt{5} t - 5 \\, t\\right)}}{5 \\, {\\left(-2 \\, \\sqrt{5} t^{2} + 10 \\, t^{2}\\right)}^{\\frac{3}{2}}} - \\frac{\\sqrt{5}}{10 \\, t^{2}} + \\frac{2 \\, {\\left(2 \\, \\sqrt{5} - 5\\right)}}{5 \\, t^{2} {\\left(\\sqrt{5} - 1\\right)}^{3}}\n",
       "\\end{array}\\right)$"
      ],
      "text/plain": [
       "[                                        -1/10*sqrt(5) - 2/5*(sqrt(5) - 5)/(-2*sqrt(5) + 10)^(3/2) + 16/5*sqrt(5)/(-8*sqrt(5) + 24)^(3/2) + 2/5*(2*sqrt(5) - 5)/(sqrt(5) - 1)^3  8/5*(sqrt(5)*t - 5*t - 5*sqrt(5) + 5)/u1^3 - 8/5*(sqrt(5)*t - 5*t - sqrt(5) + 5)/u2^3 + 8/5*(sqrt(5)*t - 5*t + 5*sqrt(5) - 5)/v1^3 - 8/5*(sqrt(5)*t - 5*t + sqrt(5) - 5)/v2^3]\n",
       "[-8/5*(5*sqrt(5)*t - 5*t - sqrt(5) + 5)/u1^3 + 8/5*(sqrt(5)*t - 5*t - sqrt(5) + 5)/u2^3 + 8/5*(5*sqrt(5)*t - 5*t + sqrt(5) - 5)/v1^3 - 8/5*(sqrt(5)*t - 5*t + sqrt(5) - 5)/v2^3          16/5*sqrt(5)*t/(-8*sqrt(5)*t^2 + 24*t^2)^(3/2) - 2/5*(sqrt(5)*t - 5*t)/(-2*sqrt(5)*t^2 + 10*t^2)^(3/2) - 1/10*sqrt(5)/t^2 + 2/5*(2*sqrt(5) - 5)/(t^2*(sqrt(5) - 1)^3)]"
      ]
     },
     "metadata": {},
     "output_type": "display_data"
    }
   ],
   "source": [
    "show(B2_u_v_t)"
   ]
  },
  {
   "cell_type": "code",
   "execution_count": 13,
   "metadata": {},
   "outputs": [],
   "source": [
    "### Simplificando uma das entradas a mão.\n",
    "B2_u_v_t = matrix([[B2_u_v_t[0][0],B2_u_v_t[0][1]],[B2_u_v_t[1][0],(1/t**2)*B2_u_v_t[0][0]]]);\n"
   ]
  },
  {
   "cell_type": "code",
   "execution_count": 14,
   "metadata": {},
   "outputs": [
    {
     "data": {
      "text/html": [
       "<html>\\(\\displaystyle \\left(\\begin{array}{rr}\n",
       "-\\frac{1}{10} \\, \\sqrt{5} - \\frac{2 \\, {\\left(\\sqrt{5} - 5\\right)}}{5 \\, {\\left(-2 \\, \\sqrt{5} + 10\\right)}^{\\frac{3}{2}}} + \\frac{16 \\, \\sqrt{5}}{5 \\, {\\left(-8 \\, \\sqrt{5} + 24\\right)}^{\\frac{3}{2}}} + \\frac{2 \\, {\\left(2 \\, \\sqrt{5} - 5\\right)}}{5 \\, {\\left(\\sqrt{5} - 1\\right)}^{3}} & \\frac{8 \\, {\\left(\\sqrt{5} t - 5 \\, t - 5 \\, \\sqrt{5} + 5\\right)}}{5 \\, u_{1}^{3}} - \\frac{8 \\, {\\left(\\sqrt{5} t - 5 \\, t - \\sqrt{5} + 5\\right)}}{5 \\, u_{2}^{3}} + \\frac{8 \\, {\\left(\\sqrt{5} t - 5 \\, t + 5 \\, \\sqrt{5} - 5\\right)}}{5 \\, v_{1}^{3}} - \\frac{8 \\, {\\left(\\sqrt{5} t - 5 \\, t + \\sqrt{5} - 5\\right)}}{5 \\, v_{2}^{3}} \\\\\n",
       "-\\frac{8 \\, {\\left(5 \\, \\sqrt{5} t - 5 \\, t - \\sqrt{5} + 5\\right)}}{5 \\, u_{1}^{3}} + \\frac{8 \\, {\\left(\\sqrt{5} t - 5 \\, t - \\sqrt{5} + 5\\right)}}{5 \\, u_{2}^{3}} + \\frac{8 \\, {\\left(5 \\, \\sqrt{5} t - 5 \\, t + \\sqrt{5} - 5\\right)}}{5 \\, v_{1}^{3}} - \\frac{8 \\, {\\left(\\sqrt{5} t - 5 \\, t + \\sqrt{5} - 5\\right)}}{5 \\, v_{2}^{3}} & -\\frac{\\sqrt{5} + \\frac{4 \\, {\\left(\\sqrt{5} - 5\\right)}}{{\\left(-2 \\, \\sqrt{5} + 10\\right)}^{\\frac{3}{2}}} - \\frac{32 \\, \\sqrt{5}}{{\\left(-8 \\, \\sqrt{5} + 24\\right)}^{\\frac{3}{2}}} - \\frac{4 \\, {\\left(2 \\, \\sqrt{5} - 5\\right)}}{{\\left(\\sqrt{5} - 1\\right)}^{3}}}{10 \\, t^{2}}\n",
       "\\end{array}\\right)\\)</html>"
      ],
      "text/latex": [
       "$\\displaystyle \\left(\\begin{array}{rr}\n",
       "-\\frac{1}{10} \\, \\sqrt{5} - \\frac{2 \\, {\\left(\\sqrt{5} - 5\\right)}}{5 \\, {\\left(-2 \\, \\sqrt{5} + 10\\right)}^{\\frac{3}{2}}} + \\frac{16 \\, \\sqrt{5}}{5 \\, {\\left(-8 \\, \\sqrt{5} + 24\\right)}^{\\frac{3}{2}}} + \\frac{2 \\, {\\left(2 \\, \\sqrt{5} - 5\\right)}}{5 \\, {\\left(\\sqrt{5} - 1\\right)}^{3}} & \\frac{8 \\, {\\left(\\sqrt{5} t - 5 \\, t - 5 \\, \\sqrt{5} + 5\\right)}}{5 \\, u_{1}^{3}} - \\frac{8 \\, {\\left(\\sqrt{5} t - 5 \\, t - \\sqrt{5} + 5\\right)}}{5 \\, u_{2}^{3}} + \\frac{8 \\, {\\left(\\sqrt{5} t - 5 \\, t + 5 \\, \\sqrt{5} - 5\\right)}}{5 \\, v_{1}^{3}} - \\frac{8 \\, {\\left(\\sqrt{5} t - 5 \\, t + \\sqrt{5} - 5\\right)}}{5 \\, v_{2}^{3}} \\\\\n",
       "-\\frac{8 \\, {\\left(5 \\, \\sqrt{5} t - 5 \\, t - \\sqrt{5} + 5\\right)}}{5 \\, u_{1}^{3}} + \\frac{8 \\, {\\left(\\sqrt{5} t - 5 \\, t - \\sqrt{5} + 5\\right)}}{5 \\, u_{2}^{3}} + \\frac{8 \\, {\\left(5 \\, \\sqrt{5} t - 5 \\, t + \\sqrt{5} - 5\\right)}}{5 \\, v_{1}^{3}} - \\frac{8 \\, {\\left(\\sqrt{5} t - 5 \\, t + \\sqrt{5} - 5\\right)}}{5 \\, v_{2}^{3}} & -\\frac{\\sqrt{5} + \\frac{4 \\, {\\left(\\sqrt{5} - 5\\right)}}{{\\left(-2 \\, \\sqrt{5} + 10\\right)}^{\\frac{3}{2}}} - \\frac{32 \\, \\sqrt{5}}{{\\left(-8 \\, \\sqrt{5} + 24\\right)}^{\\frac{3}{2}}} - \\frac{4 \\, {\\left(2 \\, \\sqrt{5} - 5\\right)}}{{\\left(\\sqrt{5} - 1\\right)}^{3}}}{10 \\, t^{2}}\n",
       "\\end{array}\\right)$"
      ],
      "text/plain": [
       "[                                        -1/10*sqrt(5) - 2/5*(sqrt(5) - 5)/(-2*sqrt(5) + 10)^(3/2) + 16/5*sqrt(5)/(-8*sqrt(5) + 24)^(3/2) + 2/5*(2*sqrt(5) - 5)/(sqrt(5) - 1)^3  8/5*(sqrt(5)*t - 5*t - 5*sqrt(5) + 5)/u1^3 - 8/5*(sqrt(5)*t - 5*t - sqrt(5) + 5)/u2^3 + 8/5*(sqrt(5)*t - 5*t + 5*sqrt(5) - 5)/v1^3 - 8/5*(sqrt(5)*t - 5*t + sqrt(5) - 5)/v2^3]\n",
       "[-8/5*(5*sqrt(5)*t - 5*t - sqrt(5) + 5)/u1^3 + 8/5*(sqrt(5)*t - 5*t - sqrt(5) + 5)/u2^3 + 8/5*(5*sqrt(5)*t - 5*t + sqrt(5) - 5)/v1^3 - 8/5*(sqrt(5)*t - 5*t + sqrt(5) - 5)/v2^3                                         -1/10*(sqrt(5) + 4*(sqrt(5) - 5)/(-2*sqrt(5) + 10)^(3/2) - 32*sqrt(5)/(-8*sqrt(5) + 24)^(3/2) - 4*(2*sqrt(5) - 5)/(sqrt(5) - 1)^3)/t^2]"
      ]
     },
     "metadata": {},
     "output_type": "display_data"
    }
   ],
   "source": [
    "show(B2_u_v_t)"
   ]
  },
  {
   "cell_type": "code",
   "execution_count": 15,
   "metadata": {},
   "outputs": [
    {
     "data": {
      "text/html": [
       "<html>\\(\\displaystyle \\text{SR}\\)</html>"
      ],
      "text/latex": [
       "$\\displaystyle \\text{SR}$"
      ],
      "text/plain": [
       "Symbolic Ring"
      ]
     },
     "metadata": {},
     "output_type": "display_data"
    },
    {
     "data": {
      "text/html": [
       "<html>\\(\\displaystyle \\frac{1}{10} \\, \\sqrt{\\frac{1}{10}} \\sqrt{\\sqrt{5} + 5} - \\frac{1}{20} \\, \\sqrt{5} + \\frac{1}{4}\\)</html>"
      ],
      "text/latex": [
       "$\\displaystyle \\frac{1}{10} \\, \\sqrt{\\frac{1}{10}} \\sqrt{\\sqrt{5} + 5} - \\frac{1}{20} \\, \\sqrt{5} + \\frac{1}{4}$"
      ],
      "text/plain": [
       "1/10*sqrt(1/10)*sqrt(sqrt(5) + 5) - 1/20*sqrt(5) + 1/4"
      ]
     },
     "metadata": {},
     "output_type": "display_data"
    }
   ],
   "source": [
    "show((B2_u_v_t[0][0]).base_ring());\n",
    "show((AA(B2_u_v_t[0][0])).radical_expression());\n",
    "new_B2_u_v_t00 = SR((AA(B2_u_v_t[0][0])).radical_expression());"
   ]
  },
  {
   "cell_type": "code",
   "execution_count": 16,
   "metadata": {},
   "outputs": [],
   "source": [
    "B2_u_v_t_simples = matrix([[new_B2_u_v_t00,B2_u_v_t[0][1]],[B2_u_v_t[1][0],(1/t**2)*new_B2_u_v_t00]]);"
   ]
  },
  {
   "cell_type": "code",
   "execution_count": 17,
   "metadata": {},
   "outputs": [
    {
     "data": {
      "text/html": [
       "<html>\\(\\displaystyle \\left(\\begin{array}{rr}\n",
       "\\frac{1}{10} \\, \\sqrt{\\frac{1}{10}} \\sqrt{\\sqrt{5} + 5} - \\frac{1}{20} \\, \\sqrt{5} + \\frac{1}{4} & \\frac{8 \\, {\\left(\\sqrt{5} t - 5 \\, t - 5 \\, \\sqrt{5} + 5\\right)}}{5 \\, u_{1}^{3}} - \\frac{8 \\, {\\left(\\sqrt{5} t - 5 \\, t - \\sqrt{5} + 5\\right)}}{5 \\, u_{2}^{3}} + \\frac{8 \\, {\\left(\\sqrt{5} t - 5 \\, t + 5 \\, \\sqrt{5} - 5\\right)}}{5 \\, v_{1}^{3}} - \\frac{8 \\, {\\left(\\sqrt{5} t - 5 \\, t + \\sqrt{5} - 5\\right)}}{5 \\, v_{2}^{3}} \\\\\n",
       "-\\frac{8 \\, {\\left(5 \\, \\sqrt{5} t - 5 \\, t - \\sqrt{5} + 5\\right)}}{5 \\, u_{1}^{3}} + \\frac{8 \\, {\\left(\\sqrt{5} t - 5 \\, t - \\sqrt{5} + 5\\right)}}{5 \\, u_{2}^{3}} + \\frac{8 \\, {\\left(5 \\, \\sqrt{5} t - 5 \\, t + \\sqrt{5} - 5\\right)}}{5 \\, v_{1}^{3}} - \\frac{8 \\, {\\left(\\sqrt{5} t - 5 \\, t + \\sqrt{5} - 5\\right)}}{5 \\, v_{2}^{3}} & \\frac{2 \\, \\sqrt{\\frac{1}{10}} \\sqrt{\\sqrt{5} + 5} - \\sqrt{5} + 5}{20 \\, t^{2}}\n",
       "\\end{array}\\right)\\)</html>"
      ],
      "text/latex": [
       "$\\displaystyle \\left(\\begin{array}{rr}\n",
       "\\frac{1}{10} \\, \\sqrt{\\frac{1}{10}} \\sqrt{\\sqrt{5} + 5} - \\frac{1}{20} \\, \\sqrt{5} + \\frac{1}{4} & \\frac{8 \\, {\\left(\\sqrt{5} t - 5 \\, t - 5 \\, \\sqrt{5} + 5\\right)}}{5 \\, u_{1}^{3}} - \\frac{8 \\, {\\left(\\sqrt{5} t - 5 \\, t - \\sqrt{5} + 5\\right)}}{5 \\, u_{2}^{3}} + \\frac{8 \\, {\\left(\\sqrt{5} t - 5 \\, t + 5 \\, \\sqrt{5} - 5\\right)}}{5 \\, v_{1}^{3}} - \\frac{8 \\, {\\left(\\sqrt{5} t - 5 \\, t + \\sqrt{5} - 5\\right)}}{5 \\, v_{2}^{3}} \\\\\n",
       "-\\frac{8 \\, {\\left(5 \\, \\sqrt{5} t - 5 \\, t - \\sqrt{5} + 5\\right)}}{5 \\, u_{1}^{3}} + \\frac{8 \\, {\\left(\\sqrt{5} t - 5 \\, t - \\sqrt{5} + 5\\right)}}{5 \\, u_{2}^{3}} + \\frac{8 \\, {\\left(5 \\, \\sqrt{5} t - 5 \\, t + \\sqrt{5} - 5\\right)}}{5 \\, v_{1}^{3}} - \\frac{8 \\, {\\left(\\sqrt{5} t - 5 \\, t + \\sqrt{5} - 5\\right)}}{5 \\, v_{2}^{3}} & \\frac{2 \\, \\sqrt{\\frac{1}{10}} \\sqrt{\\sqrt{5} + 5} - \\sqrt{5} + 5}{20 \\, t^{2}}\n",
       "\\end{array}\\right)$"
      ],
      "text/plain": [
       "[                                                                                                                        1/10*sqrt(1/10)*sqrt(sqrt(5) + 5) - 1/20*sqrt(5) + 1/4  8/5*(sqrt(5)*t - 5*t - 5*sqrt(5) + 5)/u1^3 - 8/5*(sqrt(5)*t - 5*t - sqrt(5) + 5)/u2^3 + 8/5*(sqrt(5)*t - 5*t + 5*sqrt(5) - 5)/v1^3 - 8/5*(sqrt(5)*t - 5*t + sqrt(5) - 5)/v2^3]\n",
       "[-8/5*(5*sqrt(5)*t - 5*t - sqrt(5) + 5)/u1^3 + 8/5*(sqrt(5)*t - 5*t - sqrt(5) + 5)/u2^3 + 8/5*(5*sqrt(5)*t - 5*t + sqrt(5) - 5)/v1^3 - 8/5*(sqrt(5)*t - 5*t + sqrt(5) - 5)/v2^3                                                                                                                        1/20*(2*sqrt(1/10)*sqrt(sqrt(5) + 5) - sqrt(5) + 5)/t^2]"
      ]
     },
     "metadata": {},
     "output_type": "display_data"
    }
   ],
   "source": [
    "show(B2_u_v_t_simples)"
   ]
  },
  {
   "cell_type": "code",
   "execution_count": 18,
   "metadata": {},
   "outputs": [
    {
     "data": {
      "text/html": [
       "<html>\\(\\displaystyle -4 \\, \\sqrt{5} \\sqrt{\\frac{1}{10}} u_{1}^{6} u_{2}^{6} v_{1}^{6} v_{2}^{6} \\sqrt{\\sqrt{5} + 5} + 20 \\, \\sqrt{\\frac{1}{10}} u_{1}^{6} u_{2}^{6} v_{1}^{6} v_{2}^{6} \\sqrt{\\sqrt{5} + 5} + \\frac{2}{5} \\, u_{1}^{6} u_{2}^{6} v_{1}^{6} v_{2}^{6} {\\left(\\sqrt{5} + 5\\right)} - 10 \\, \\sqrt{5} u_{1}^{6} u_{2}^{6} v_{1}^{6} v_{2}^{6} + 30 \\, u_{1}^{6} u_{2}^{6} v_{1}^{6} v_{2}^{6} + 10240 \\, \\sqrt{5} t^{4} u_{1}^{6} u_{2}^{6} v_{1}^{6} - 40960 \\, \\sqrt{5} t^{4} u_{1}^{6} u_{2}^{6} v_{1}^{3} v_{2}^{3} + 20480 \\, \\sqrt{5} t^{4} u_{1}^{3} u_{2}^{6} v_{1}^{6} v_{2}^{3} + 30720 \\, \\sqrt{5} t^{4} u_{1}^{6} u_{2}^{6} v_{2}^{6} - 20480 \\, \\sqrt{5} t^{4} u_{1}^{6} u_{2}^{3} v_{1}^{3} v_{2}^{6} - 10240 \\, \\sqrt{5} t^{4} u_{1}^{6} v_{1}^{6} v_{2}^{6} + 40960 \\, \\sqrt{5} t^{4} u_{1}^{3} u_{2}^{3} v_{1}^{6} v_{2}^{6} - 30720 \\, \\sqrt{5} t^{4} u_{2}^{6} v_{1}^{6} v_{2}^{6} - 30720 \\, t^{4} u_{1}^{6} u_{2}^{6} v_{1}^{6} + 81920 \\, t^{4} u_{1}^{6} u_{2}^{6} v_{1}^{3} v_{2}^{3} - 20480 \\, t^{4} u_{1}^{3} u_{2}^{6} v_{1}^{6} v_{2}^{3} - 51200 \\, t^{4} u_{1}^{6} u_{2}^{6} v_{2}^{6} + 20480 \\, t^{4} u_{1}^{6} u_{2}^{3} v_{1}^{3} v_{2}^{6} + 30720 \\, t^{4} u_{1}^{6} v_{1}^{6} v_{2}^{6} - 81920 \\, t^{4} u_{1}^{3} u_{2}^{3} v_{1}^{6} v_{2}^{6} + 51200 \\, t^{4} u_{2}^{6} v_{1}^{6} v_{2}^{6} + 20480 \\, \\sqrt{5} t^{3} u_{1}^{6} u_{2}^{6} v_{1}^{6} - 81920 \\, \\sqrt{5} t^{3} u_{1}^{6} u_{2}^{6} v_{1}^{3} v_{2}^{3} + 40960 \\, \\sqrt{5} t^{3} u_{1}^{3} u_{2}^{6} v_{1}^{6} v_{2}^{3} + 61440 \\, \\sqrt{5} t^{3} u_{1}^{6} u_{2}^{6} v_{2}^{6} + 40960 \\, \\sqrt{5} t^{3} u_{1}^{6} u_{2}^{3} v_{1}^{3} v_{2}^{6} - 81920 \\, \\sqrt{5} t^{3} u_{1}^{3} u_{2}^{6} v_{1}^{3} v_{2}^{6} + 20480 \\, \\sqrt{5} t^{3} u_{1}^{6} v_{1}^{6} v_{2}^{6} - 81920 \\, \\sqrt{5} t^{3} u_{1}^{3} u_{2}^{3} v_{1}^{6} v_{2}^{6} + 61440 \\, \\sqrt{5} t^{3} u_{2}^{6} v_{1}^{6} v_{2}^{6} - 61440 \\, t^{3} u_{1}^{6} u_{2}^{6} v_{1}^{6} + 163840 \\, t^{3} u_{1}^{6} u_{2}^{6} v_{1}^{3} v_{2}^{3} - 40960 \\, t^{3} u_{1}^{3} u_{2}^{6} v_{1}^{6} v_{2}^{3} - 184320 \\, t^{3} u_{1}^{6} u_{2}^{6} v_{2}^{6} - 40960 \\, t^{3} u_{1}^{6} u_{2}^{3} v_{1}^{3} v_{2}^{6} + 245760 \\, t^{3} u_{1}^{3} u_{2}^{6} v_{1}^{3} v_{2}^{6} - 61440 \\, t^{3} u_{1}^{6} v_{1}^{6} v_{2}^{6} + 163840 \\, t^{3} u_{1}^{3} u_{2}^{3} v_{1}^{6} v_{2}^{6} - 184320 \\, t^{3} u_{2}^{6} v_{1}^{6} v_{2}^{6} + 10240 \\, \\sqrt{5} t^{2} u_{1}^{6} u_{2}^{6} v_{1}^{6} - 40960 \\, \\sqrt{5} t^{2} u_{1}^{6} u_{2}^{6} v_{1}^{3} v_{2}^{3} + 20480 \\, \\sqrt{5} t^{2} u_{1}^{3} u_{2}^{6} v_{1}^{6} v_{2}^{3} + 30720 \\, \\sqrt{5} t^{2} u_{1}^{6} u_{2}^{6} v_{2}^{6} - 20480 \\, \\sqrt{5} t^{2} u_{1}^{6} u_{2}^{3} v_{1}^{3} v_{2}^{6} - 10240 \\, \\sqrt{5} t^{2} u_{1}^{6} v_{1}^{6} v_{2}^{6} + 40960 \\, \\sqrt{5} t^{2} u_{1}^{3} u_{2}^{3} v_{1}^{6} v_{2}^{6} - 30720 \\, \\sqrt{5} t^{2} u_{2}^{6} v_{1}^{6} v_{2}^{6} - 30720 \\, t^{2} u_{1}^{6} u_{2}^{6} v_{1}^{6} + 81920 \\, t^{2} u_{1}^{6} u_{2}^{6} v_{1}^{3} v_{2}^{3} - 20480 \\, t^{2} u_{1}^{3} u_{2}^{6} v_{1}^{6} v_{2}^{3} - 51200 \\, t^{2} u_{1}^{6} u_{2}^{6} v_{2}^{6} + 20480 \\, t^{2} u_{1}^{6} u_{2}^{3} v_{1}^{3} v_{2}^{6} + 30720 \\, t^{2} u_{1}^{6} v_{1}^{6} v_{2}^{6} - 81920 \\, t^{2} u_{1}^{3} u_{2}^{3} v_{1}^{6} v_{2}^{6} + 51200 \\, t^{2} u_{2}^{6} v_{1}^{6} v_{2}^{6}\\)</html>"
      ],
      "text/latex": [
       "$\\displaystyle -4 \\, \\sqrt{5} \\sqrt{\\frac{1}{10}} u_{1}^{6} u_{2}^{6} v_{1}^{6} v_{2}^{6} \\sqrt{\\sqrt{5} + 5} + 20 \\, \\sqrt{\\frac{1}{10}} u_{1}^{6} u_{2}^{6} v_{1}^{6} v_{2}^{6} \\sqrt{\\sqrt{5} + 5} + \\frac{2}{5} \\, u_{1}^{6} u_{2}^{6} v_{1}^{6} v_{2}^{6} {\\left(\\sqrt{5} + 5\\right)} - 10 \\, \\sqrt{5} u_{1}^{6} u_{2}^{6} v_{1}^{6} v_{2}^{6} + 30 \\, u_{1}^{6} u_{2}^{6} v_{1}^{6} v_{2}^{6} + 10240 \\, \\sqrt{5} t^{4} u_{1}^{6} u_{2}^{6} v_{1}^{6} - 40960 \\, \\sqrt{5} t^{4} u_{1}^{6} u_{2}^{6} v_{1}^{3} v_{2}^{3} + 20480 \\, \\sqrt{5} t^{4} u_{1}^{3} u_{2}^{6} v_{1}^{6} v_{2}^{3} + 30720 \\, \\sqrt{5} t^{4} u_{1}^{6} u_{2}^{6} v_{2}^{6} - 20480 \\, \\sqrt{5} t^{4} u_{1}^{6} u_{2}^{3} v_{1}^{3} v_{2}^{6} - 10240 \\, \\sqrt{5} t^{4} u_{1}^{6} v_{1}^{6} v_{2}^{6} + 40960 \\, \\sqrt{5} t^{4} u_{1}^{3} u_{2}^{3} v_{1}^{6} v_{2}^{6} - 30720 \\, \\sqrt{5} t^{4} u_{2}^{6} v_{1}^{6} v_{2}^{6} - 30720 \\, t^{4} u_{1}^{6} u_{2}^{6} v_{1}^{6} + 81920 \\, t^{4} u_{1}^{6} u_{2}^{6} v_{1}^{3} v_{2}^{3} - 20480 \\, t^{4} u_{1}^{3} u_{2}^{6} v_{1}^{6} v_{2}^{3} - 51200 \\, t^{4} u_{1}^{6} u_{2}^{6} v_{2}^{6} + 20480 \\, t^{4} u_{1}^{6} u_{2}^{3} v_{1}^{3} v_{2}^{6} + 30720 \\, t^{4} u_{1}^{6} v_{1}^{6} v_{2}^{6} - 81920 \\, t^{4} u_{1}^{3} u_{2}^{3} v_{1}^{6} v_{2}^{6} + 51200 \\, t^{4} u_{2}^{6} v_{1}^{6} v_{2}^{6} + 20480 \\, \\sqrt{5} t^{3} u_{1}^{6} u_{2}^{6} v_{1}^{6} - 81920 \\, \\sqrt{5} t^{3} u_{1}^{6} u_{2}^{6} v_{1}^{3} v_{2}^{3} + 40960 \\, \\sqrt{5} t^{3} u_{1}^{3} u_{2}^{6} v_{1}^{6} v_{2}^{3} + 61440 \\, \\sqrt{5} t^{3} u_{1}^{6} u_{2}^{6} v_{2}^{6} + 40960 \\, \\sqrt{5} t^{3} u_{1}^{6} u_{2}^{3} v_{1}^{3} v_{2}^{6} - 81920 \\, \\sqrt{5} t^{3} u_{1}^{3} u_{2}^{6} v_{1}^{3} v_{2}^{6} + 20480 \\, \\sqrt{5} t^{3} u_{1}^{6} v_{1}^{6} v_{2}^{6} - 81920 \\, \\sqrt{5} t^{3} u_{1}^{3} u_{2}^{3} v_{1}^{6} v_{2}^{6} + 61440 \\, \\sqrt{5} t^{3} u_{2}^{6} v_{1}^{6} v_{2}^{6} - 61440 \\, t^{3} u_{1}^{6} u_{2}^{6} v_{1}^{6} + 163840 \\, t^{3} u_{1}^{6} u_{2}^{6} v_{1}^{3} v_{2}^{3} - 40960 \\, t^{3} u_{1}^{3} u_{2}^{6} v_{1}^{6} v_{2}^{3} - 184320 \\, t^{3} u_{1}^{6} u_{2}^{6} v_{2}^{6} - 40960 \\, t^{3} u_{1}^{6} u_{2}^{3} v_{1}^{3} v_{2}^{6} + 245760 \\, t^{3} u_{1}^{3} u_{2}^{6} v_{1}^{3} v_{2}^{6} - 61440 \\, t^{3} u_{1}^{6} v_{1}^{6} v_{2}^{6} + 163840 \\, t^{3} u_{1}^{3} u_{2}^{3} v_{1}^{6} v_{2}^{6} - 184320 \\, t^{3} u_{2}^{6} v_{1}^{6} v_{2}^{6} + 10240 \\, \\sqrt{5} t^{2} u_{1}^{6} u_{2}^{6} v_{1}^{6} - 40960 \\, \\sqrt{5} t^{2} u_{1}^{6} u_{2}^{6} v_{1}^{3} v_{2}^{3} + 20480 \\, \\sqrt{5} t^{2} u_{1}^{3} u_{2}^{6} v_{1}^{6} v_{2}^{3} + 30720 \\, \\sqrt{5} t^{2} u_{1}^{6} u_{2}^{6} v_{2}^{6} - 20480 \\, \\sqrt{5} t^{2} u_{1}^{6} u_{2}^{3} v_{1}^{3} v_{2}^{6} - 10240 \\, \\sqrt{5} t^{2} u_{1}^{6} v_{1}^{6} v_{2}^{6} + 40960 \\, \\sqrt{5} t^{2} u_{1}^{3} u_{2}^{3} v_{1}^{6} v_{2}^{6} - 30720 \\, \\sqrt{5} t^{2} u_{2}^{6} v_{1}^{6} v_{2}^{6} - 30720 \\, t^{2} u_{1}^{6} u_{2}^{6} v_{1}^{6} + 81920 \\, t^{2} u_{1}^{6} u_{2}^{6} v_{1}^{3} v_{2}^{3} - 20480 \\, t^{2} u_{1}^{3} u_{2}^{6} v_{1}^{6} v_{2}^{3} - 51200 \\, t^{2} u_{1}^{6} u_{2}^{6} v_{2}^{6} + 20480 \\, t^{2} u_{1}^{6} u_{2}^{3} v_{1}^{3} v_{2}^{6} + 30720 \\, t^{2} u_{1}^{6} v_{1}^{6} v_{2}^{6} - 81920 \\, t^{2} u_{1}^{3} u_{2}^{3} v_{1}^{6} v_{2}^{6} + 51200 \\, t^{2} u_{2}^{6} v_{1}^{6} v_{2}^{6}$"
      ],
      "text/plain": [
       "-4*sqrt(5)*sqrt(1/10)*u1^6*u2^6*v1^6*v2^6*sqrt(sqrt(5) + 5) + 20*sqrt(1/10)*u1^6*u2^6*v1^6*v2^6*sqrt(sqrt(5) + 5) + 2/5*u1^6*u2^6*v1^6*v2^6*(sqrt(5) + 5) - 10*sqrt(5)*u1^6*u2^6*v1^6*v2^6 + 30*u1^6*u2^6*v1^6*v2^6 + 10240*sqrt(5)*t^4*u1^6*u2^6*v1^6 - 40960*sqrt(5)*t^4*u1^6*u2^6*v1^3*v2^3 + 20480*sqrt(5)*t^4*u1^3*u2^6*v1^6*v2^3 + 30720*sqrt(5)*t^4*u1^6*u2^6*v2^6 - 20480*sqrt(5)*t^4*u1^6*u2^3*v1^3*v2^6 - 10240*sqrt(5)*t^4*u1^6*v1^6*v2^6 + 40960*sqrt(5)*t^4*u1^3*u2^3*v1^6*v2^6 - 30720*sqrt(5)*t^4*u2^6*v1^6*v2^6 - 30720*t^4*u1^6*u2^6*v1^6 + 81920*t^4*u1^6*u2^6*v1^3*v2^3 - 20480*t^4*u1^3*u2^6*v1^6*v2^3 - 51200*t^4*u1^6*u2^6*v2^6 + 20480*t^4*u1^6*u2^3*v1^3*v2^6 + 30720*t^4*u1^6*v1^6*v2^6 - 81920*t^4*u1^3*u2^3*v1^6*v2^6 + 51200*t^4*u2^6*v1^6*v2^6 + 20480*sqrt(5)*t^3*u1^6*u2^6*v1^6 - 81920*sqrt(5)*t^3*u1^6*u2^6*v1^3*v2^3 + 40960*sqrt(5)*t^3*u1^3*u2^6*v1^6*v2^3 + 61440*sqrt(5)*t^3*u1^6*u2^6*v2^6 + 40960*sqrt(5)*t^3*u1^6*u2^3*v1^3*v2^6 - 81920*sqrt(5)*t^3*u1^3*u2^6*v1^3*v2^6 + 20480*sqrt(5)*t^3*u1^6*v1^6*v2^6 - 81920*sqrt(5)*t^3*u1^3*u2^3*v1^6*v2^6 + 61440*sqrt(5)*t^3*u2^6*v1^6*v2^6 - 61440*t^3*u1^6*u2^6*v1^6 + 163840*t^3*u1^6*u2^6*v1^3*v2^3 - 40960*t^3*u1^3*u2^6*v1^6*v2^3 - 184320*t^3*u1^6*u2^6*v2^6 - 40960*t^3*u1^6*u2^3*v1^3*v2^6 + 245760*t^3*u1^3*u2^6*v1^3*v2^6 - 61440*t^3*u1^6*v1^6*v2^6 + 163840*t^3*u1^3*u2^3*v1^6*v2^6 - 184320*t^3*u2^6*v1^6*v2^6 + 10240*sqrt(5)*t^2*u1^6*u2^6*v1^6 - 40960*sqrt(5)*t^2*u1^6*u2^6*v1^3*v2^3 + 20480*sqrt(5)*t^2*u1^3*u2^6*v1^6*v2^3 + 30720*sqrt(5)*t^2*u1^6*u2^6*v2^6 - 20480*sqrt(5)*t^2*u1^6*u2^3*v1^3*v2^6 - 10240*sqrt(5)*t^2*u1^6*v1^6*v2^6 + 40960*sqrt(5)*t^2*u1^3*u2^3*v1^6*v2^6 - 30720*sqrt(5)*t^2*u2^6*v1^6*v2^6 - 30720*t^2*u1^6*u2^6*v1^6 + 81920*t^2*u1^6*u2^6*v1^3*v2^3 - 20480*t^2*u1^3*u2^6*v1^6*v2^3 - 51200*t^2*u1^6*u2^6*v2^6 + 20480*t^2*u1^6*u2^3*v1^3*v2^6 + 30720*t^2*u1^6*v1^6*v2^6 - 81920*t^2*u1^3*u2^3*v1^6*v2^6 + 51200*t^2*u2^6*v1^6*v2^6"
      ]
     },
     "metadata": {},
     "output_type": "display_data"
    }
   ],
   "source": [
    "polinomio_simples = B2_u_v_t_simples.det().numerator();\n",
    "show(polinomio_simples)"
   ]
  },
  {
   "cell_type": "code",
   "execution_count": 19,
   "metadata": {},
   "outputs": [],
   "source": [
    "poly_u_v_ico_num = polinomio_simples"
   ]
  },
  {
   "cell_type": "code",
   "execution_count": 20,
   "metadata": {},
   "outputs": [
    {
     "data": {
      "text/html": [
       "<html>\\(\\displaystyle \\left(t, u_{1}, u_{2}, v_{1}, v_{2}\\right)\\)</html>"
      ],
      "text/latex": [
       "$\\displaystyle \\left(t, u_{1}, u_{2}, v_{1}, v_{2}\\right)$"
      ],
      "text/plain": [
       "(t, u1, u2, v1, v2)"
      ]
     },
     "metadata": {},
     "output_type": "display_data"
    },
    {
     "data": {
      "text/html": [
       "<html>\\(\\displaystyle \\left(t, u_{1}, u_{2}, v_{1}, v_{2}\\right)\\)</html>"
      ],
      "text/latex": [
       "$\\displaystyle \\left(t, u_{1}, u_{2}, v_{1}, v_{2}\\right)$"
      ],
      "text/plain": [
       "(t, u1, u2, v1, v2)"
      ]
     },
     "metadata": {},
     "output_type": "display_data"
    }
   ],
   "source": [
    "### Respeitar a ordem da variaveis eh importante\n",
    "show(poly_u_v_ico_num.free_variables())\n",
    "show(poly_u_v_ico_num.variables())"
   ]
  },
  {
   "cell_type": "code",
   "execution_count": 21,
   "metadata": {},
   "outputs": [
    {
     "data": {
      "text/html": [
       "<html>\\(\\displaystyle \\left[4, 6, 6, 6, 6\\right]\\)</html>"
      ],
      "text/latex": [
       "$\\displaystyle \\left[4, 6, 6, 6, 6\\right]$"
      ],
      "text/plain": [
       "[4, 6, 6, 6, 6]"
      ]
     },
     "metadata": {},
     "output_type": "display_data"
    }
   ],
   "source": [
    "graus_u_v_t  =  [poly_u_v_ico_num.degree(t),poly_u_v_ico_num.degree(u1), poly_u_v_ico_num.degree(u2), poly_u_v_ico_num.degree(v1), poly_u_v_ico_num.degree(v2)]\n",
    "show(graus_u_v_t)"
   ]
  },
  {
   "cell_type": "code",
   "execution_count": 22,
   "metadata": {},
   "outputs": [],
   "source": [
    "from functools import reduce\n",
    "\n",
    "def dicionario_geral(poly):\n",
    "    \"\"\"INPUT - poly- Um polinomio como expressão simbolica na classe <class 'sage.symbolic.expression.Expression'>\n",
    "    OUTPUT - Um dicionario com CHAVE do tipo tupla multigrau (d1,d2,...,dl) correpondendo ao monomio \n",
    "    variavel1^(d1)*variavel2^(d2)*...*variavell^(dl) e VALOR sendo o coeficiente deste monomio.\n",
    "    OBSERVACAO- A ordem das variaveis imspota pelo SAGE manda na ordem das chaves do dicionario. \n",
    "    Exemplo-\n",
    "    sage: z, y, x, u = var('z y x u')\n",
    "    sage: p = (2100*u^2*x+2020*u^2*y^2)*z^0+(3031*u^3*y^3+1101*u*x)*z+(3022*u^3*y^2+202*x^2)*z^2\n",
    "    sage: variaveis = p.free_variables(); variaveis\n",
    "        (u,x,y,z)\n",
    "    sage: dicionario_geral(p)\n",
    "        {(0, 2, 0, 2): 202,\n",
    "         (1, 1, 0, 1): 1101,\n",
    "         (2, 0, 2, 0): 2020,\n",
    "         (2, 1, 0, 0): 2100,\n",
    "         (3, 0, 2, 2): 3022,\n",
    "         (3, 0, 3, 1): 3031}\n",
    "        \n",
    "        \n",
    "    sage: u,v = var('u v')\n",
    "    sage: p3 = 23*u^2*v^3+21*u^2*v+11*u*v+10*u+4;\n",
    "    sage: dicionario_geral(p3)\n",
    "      {(0, 0): 4, (1, 0): 10, (1, 1): 11, (2, 1): 21, (2, 3): 23}\n",
    "    \"\"\"\n",
    "    def nova_lista(lista, var):\n",
    "        new_lista = [];\n",
    "        for item in lista:\n",
    "            sublista = item[0].coefficients(var)\n",
    "            for subitem in sublista:\n",
    "                subitem = [subitem[0],subitem[1:]+item[-1]]\n",
    "                new_lista.append(subitem)\n",
    "        return  new_lista\n",
    "\n",
    "    #variaveis = (poly).free_variables(); Modifiquei aqui\n",
    "    variaveis = (poly).variables()\n",
    "#####################################################################\n",
    "    variavel_1 = variaveis[0];\n",
    "    l_variavel_1 = (poly).coefficients(variavel_1);\n",
    "    l = [[item[0],item[1:]] for item in l_variavel_1]\n",
    "    for var in variaveis[1:]:\n",
    "        l = nova_lista(l, var)\n",
    "    dicionario = {tuple(list(reversed(j[1]))) : j[0] for j in l}\n",
    "    return dicionario\n",
    "\n",
    "#novo_coefsxy = dicionario_geral(poly_u_v) # virar variável global\n",
    "def coeficientes_de_moebius_simbolico_varias_variaveis(poly, graus, extremos, novo_coefsxy ):\n",
    "    \"\"\"INPUTS -\n",
    "    poly- Um polinomio como expressão simbolica na classe  <class 'sage.symbolic.expression.Expression'>;\n",
    "    graus - Uma lista com naturais representando o multigrau do monomio que voce quer o coeficiente.\n",
    "            Importante - A sua lista de graus deve estar na ordem que o Sage ordena as variaveis.\n",
    "    extremos - Uma lista com pares (a_i,b_i) que dão o intervalo da substituição de Moebius para\n",
    "    a variavel x_i, isto é,    x_i---> x_i = (a_i*u_i+b_i)/(u_i+1) para a variavel u_i.\n",
    "    OUTPUT - O coeficiente do monomio com multigrau dado pela lista graus depois da substituicao de Moebius\n",
    "    Exemplo - 1\n",
    "    sage: poly_teste = 23*u^2*v^3 + 21*u^2*v + 11*u*v + 10*u + 4;\n",
    "    sage: graus_teste = [1,2]; ## para acahar o coeficiente de (x_1)^1*(x_2)^2\n",
    "    sage: extremos_teste = [(3, 5), (7, 11)];\n",
    "    sage: novo_coefsxy_teste = dicionario_geral(poly_teste); # virar variável global;\n",
    "    sage: c = coeficientes_de_moebius_simbolico_varias_variaveis(poly_teste, graus_teste, extremos_teste, novo_coefsxy_teste)\n",
    "        1133944\n",
    "    Exemplo - 2\n",
    "    sage: poly = (2100*u^2*x+2020*u^2*y^2)*z^0+(3031*u^3*y^3+1101*u*x)*z+(3022*u^3*y^2+202*x^2)*z^2\n",
    "    sage: variaveis = poly.free_variables(); variaveis\n",
    "    sage: extremos_teste_2 = [(3,5),(7,11),(13,17),(19,23)];\n",
    "    sage: ru, rx, ry, rz = var('ru, rx, ry, rz')\n",
    "    sage: variaveis_r = [ru, rx, ry, rz]\n",
    "    sage: novo_coefsxy_teste_2 = dicionario_geral(poly); \n",
    "    sage: c = coeficientes_de_moebius_simbolico_varias_variaveis(poly, [0, 0, 1, 0], extremos_teste_2, novo_coefsxy_teste_2) ## Procurando o coeficiente de ru^0 * rx^0 * ry^1 * rz^0\n",
    "    sage: show(c)\n",
    "     244374065874\n",
    "       \n",
    "       OBSERVACAO: Para mais detalhes veja o arquivo /Artigo_de_Aplicacoes/Reuniao-casa-marcelo-26-07/Icosaedro-bloco-2-reunião-casa-marcelo/Funcao_Para_Coeficientes_Com_Varias_Variaveis_Versao_Final.ipynb\n",
    "        \"\"\"\n",
    "    #variaveis = (poly).free_variables(); Modifiquei aqui\n",
    "    variaveis = (poly).variables()\n",
    "    graus_total = [poly.degree(x) for x in variaveis];\n",
    "    chaves = novo_coefsxy.keys()\n",
    "    soma_total = 0\n",
    "    for chave in chaves:\n",
    "        somas = []\n",
    "        for k in range(len(chave)):\n",
    "            somak = 0\n",
    "            ck = chave[k]\n",
    "            gt = graus_total[k]\n",
    "            gks = graus[k]\n",
    "            a_k = extremos[k][0]\n",
    "            b_k = extremos[k][1]\n",
    "            for pp in range(ck+1):\n",
    "                somak = somak+((binomial(ck,pp))*(binomial(gt-ck, gks-pp))*((a_k)^(pp))*((b_k)^(ck-pp)))\n",
    "            somas.append(somak)\n",
    "        somas_e_valor = somas + [novo_coefsxy[chave]]\n",
    "        soma_total = soma_total + reduce(lambda a, b: a*b, somas_e_valor)\n",
    "    return soma_total\n",
    "### Alias\n",
    "cmsvv = coeficientes_de_moebius_simbolico_varias_variaveis\n"
   ]
  },
  {
   "cell_type": "code",
   "execution_count": 23,
   "metadata": {},
   "outputs": [],
   "source": [
    "n_uplas = [[i,j,k,l,m] for i in range(graus_u_v_t[0]+1) for j in range(graus_u_v_t[1]+1) for k in range(graus_u_v_t[2]+1) for l in range(graus_u_v_t[3]+1) for m in range(graus_u_v_t[4]+1)]"
   ]
  },
  {
   "cell_type": "code",
   "execution_count": 24,
   "metadata": {},
   "outputs": [
    {
     "data": {
      "text/plain": [
       "12005"
      ]
     },
     "execution_count": 24,
     "metadata": {},
     "output_type": "execute_result"
    }
   ],
   "source": [
    "len(n_uplas)"
   ]
  },
  {
   "cell_type": "code",
   "execution_count": 25,
   "metadata": {},
   "outputs": [
    {
     "name": "stdout",
     "output_type": "stream",
     "text": [
      "CPU times: user 5 μs, sys: 1 μs, total: 6 μs\n",
      "Wall time: 12.9 μs\n"
     ]
    }
   ],
   "source": [
    "%time\n",
    "dicionario = dicionario_geral(poly_u_v_ico_num);"
   ]
  },
  {
   "cell_type": "markdown",
   "metadata": {},
   "source": [
    "### Adicionando Ideia da Particao"
   ]
  },
  {
   "cell_type": "code",
   "execution_count": 26,
   "metadata": {},
   "outputs": [],
   "source": [
    "### Vou fazer gambiarra para incluir a curva inicial \n",
    "def extremos_parcial_curvas(intervalo, curvas):\n",
    "    \"\"\"INPUT - Um intervalo, no formato de lista [a,b] ou tupla [a,b]. Com a<b.\n",
    "    OUTPUT - Os  extremos de uma caixa que contem o traço da curva parametrizada\n",
    "    por t---> (t, g(t), h(t)), para t variando no intervalo [a,b].\n",
    "    \"\"\"\n",
    "    ### Caso geral o t_0 =-b/(2*a) do polinomio do segundo grau que representa as variaveis\n",
    "    m = intervalo[0];\n",
    "    M = intervalo[1];\n",
    "    extremos_parcial = [];\n",
    "    for curva in curvas:\n",
    "        coe = curva.coefficients()\n",
    "        c,b,a = coe[0][0],coe[1][0],coe[2][0];\n",
    "        t_0 = -b/(2*a);\n",
    "        if m <= t_0 and t_0 <= M:\n",
    "            minimo = min([curva(t = m), curva(t = t_0), curva(t = M)])\n",
    "            maximo = max([curva(t = m), curva(t = t_0), curva(t = M)])\n",
    "        elif t_0 <= m and M <= t_0:\n",
    "            minimo = min([curva(t = m), curva(t = t_0), curva(t = M)])\n",
    "            maximo = max([curva(t = m), curva(t = t_0), curva(t = M)])\n",
    "        else:\n",
    "            minimo = min([curva(t = m), curva(t = M)])\n",
    "            maximo = max([curva(t = m), curva(t = M)])\n",
    "        extremos_parcial.append((sqrt(minimo),sqrt(maximo))) #Coloquei raiz\n",
    "    return extremos_parcial\n",
    "\n",
    "\n",
    "def particao5(lista_de_intervalos, curvas):\n",
    "    \"\"\"INPUT - Lista de Pares do tipo [((a_1,b_1), False), ...,((a_n,b_n), True)] \n",
    "    Onde o intervalo i será usado se o seu par for False, e não será usado se seu par for True.\n",
    "    No caso False, calcula a mudança de coeficientes e se todos tiverem o mesmo sinal muda o False para True.\n",
    "    Caso haja mudança de sinal nos coeficientes bissecta o intervalo e coloca False nos dois intervalos gerados.\n",
    "    \"\"\"\n",
    "    um_e_menos_um = Set({1,-1});\n",
    "    n_l_i = []\n",
    "    for i in range(len(lista_de_intervalos)):\n",
    "        if lista_de_intervalos[i][-1]:\n",
    "            n_l_i.append(lista_de_intervalos[i])\n",
    "            continue\n",
    "        else:\n",
    "            intervalo = lista_de_intervalos[i][0];\n",
    "            m = intervalo[0];\n",
    "            M = intervalo[1];\n",
    "            e_p = extremos_parcial_curvas(intervalo, curvas); ###Mudou aqui [f,g,h] trocou por curvas.\n",
    "            e_p = [(m,M)] + e_p ### Gambiarra aqui para nao incluir a curva t no codigo\n",
    "            coefs = Set([]);\n",
    "            n_l_i = n_l_i +[((m,M),True)]\n",
    "            for graus in n_uplas:\n",
    "                ultimo_coeficiente = cmsvv(poly, graus, e_p, dicionario);\n",
    "                u_c = Set([sign(ultimo_coeficiente.simplify_full())]);\n",
    "                coefs = coefs.union(u_c);\n",
    "                if um_e_menos_um.issubset(coefs):\n",
    "                    n_l_i = n_l_i[:-1] + [((m,(1/2)*(m+M)), False), (((1/2)*(m+M),M), False)];\n",
    "                    break\n",
    "    return n_l_i"
   ]
  },
  {
   "cell_type": "code",
   "execution_count": 27,
   "metadata": {},
   "outputs": [],
   "source": [
    "### Curvas\n",
    "f(t) = t;\n",
    "f_1t(t) = -2*sqrt(5)*t^2 + 10*t^2 - 4*sqrt(5)*t + 4*t - 2*sqrt(5) + 10;# v1**2\n",
    "g_1t(t) = -2*sqrt(5)*t^2 + 10*t^2 + 4*sqrt(5)*t - 4*t - 2*sqrt(5) + 10;# u1**2\n",
    "f_2t(t) = -2*sqrt(5)*t^2 + 10*t^2 - 4*sqrt(5)*t + 20*t - 2*sqrt(5) + 10 # v2**2\n",
    "g_2t(t) = -2*sqrt(5)*t^2 + 10*t^2 + 4*sqrt(5)*t - 20*t - 2*sqrt(5) + 10 # u2**2"
   ]
  },
  {
   "cell_type": "code",
   "execution_count": 28,
   "metadata": {},
   "outputs": [],
   "source": [
    "curvas = [g_1t,g_2t,f_1t,f_2t];\n",
    "poly = polinomio_simples;"
   ]
  },
  {
   "cell_type": "code",
   "execution_count": 29,
   "metadata": {},
   "outputs": [],
   "source": [
    "#### RODA ATE AQUI E PAUSA"
   ]
  },
  {
   "cell_type": "code",
   "execution_count": 30,
   "metadata": {},
   "outputs": [],
   "source": [
    "s5 = particao5([((0,1), False)], curvas);"
   ]
  },
  {
   "cell_type": "code",
   "execution_count": 31,
   "metadata": {},
   "outputs": [
    {
     "data": {
      "text/html": [
       "<html>\\(\\displaystyle \\left[\\left(\\left(0, \\frac{1}{2}\\right), \\mathrm{False}\\right), \\left(\\left(\\frac{1}{2}, 1\\right), \\mathrm{False}\\right)\\right]\\)</html>"
      ],
      "text/latex": [
       "$\\displaystyle \\left[\\left(\\left(0, \\frac{1}{2}\\right), \\mathrm{False}\\right), \\left(\\left(\\frac{1}{2}, 1\\right), \\mathrm{False}\\right)\\right]$"
      ],
      "text/plain": [
       "[((0, 1/2), False), ((1/2, 1), False)]"
      ]
     },
     "metadata": {},
     "output_type": "display_data"
    }
   ],
   "source": [
    "show(s5)"
   ]
  },
  {
   "cell_type": "code",
   "execution_count": 32,
   "metadata": {},
   "outputs": [],
   "source": [
    "s6 = particao5(s5, curvas)"
   ]
  },
  {
   "cell_type": "code",
   "execution_count": 33,
   "metadata": {},
   "outputs": [
    {
     "data": {
      "text/html": [
       "<html>\\(\\displaystyle \\left[\\left(\\left(0, \\frac{1}{4}\\right), \\mathrm{False}\\right), \\left(\\left(\\frac{1}{4}, \\frac{1}{2}\\right), \\mathrm{False}\\right), \\left(\\left(\\frac{1}{2}, \\frac{3}{4}\\right), \\mathrm{False}\\right), \\left(\\left(\\frac{3}{4}, 1\\right), \\mathrm{False}\\right)\\right]\\)</html>"
      ],
      "text/latex": [
       "$\\displaystyle \\left[\\left(\\left(0, \\frac{1}{4}\\right), \\mathrm{False}\\right), \\left(\\left(\\frac{1}{4}, \\frac{1}{2}\\right), \\mathrm{False}\\right), \\left(\\left(\\frac{1}{2}, \\frac{3}{4}\\right), \\mathrm{False}\\right), \\left(\\left(\\frac{3}{4}, 1\\right), \\mathrm{False}\\right)\\right]$"
      ],
      "text/plain": [
       "[((0, 1/4), False),\n",
       " ((1/4, 1/2), False),\n",
       " ((1/2, 3/4), False),\n",
       " ((3/4, 1), False)]"
      ]
     },
     "metadata": {},
     "output_type": "display_data"
    }
   ],
   "source": [
    "show(s6)"
   ]
  },
  {
   "cell_type": "code",
   "execution_count": 34,
   "metadata": {},
   "outputs": [
    {
     "ename": "KeyboardInterrupt",
     "evalue": "ECL says: Console interrupt.",
     "output_type": "error",
     "traceback": [
      "\u001b[0;31m---------------------------------------------------------------------------\u001b[0m",
      "\u001b[0;31mKeyboardInterrupt\u001b[0m                         Traceback (most recent call last)",
      "Cell \u001b[0;32mIn[34], line 1\u001b[0m\n\u001b[0;32m----> 1\u001b[0m s7 \u001b[38;5;241m=\u001b[39m \u001b[43mparticao5\u001b[49m\u001b[43m(\u001b[49m\u001b[43ms6\u001b[49m\u001b[43m,\u001b[49m\u001b[43m \u001b[49m\u001b[43mcurvas\u001b[49m\u001b[43m)\u001b[49m\n",
      "Cell \u001b[0;32mIn[26], line 50\u001b[0m, in \u001b[0;36mparticao5\u001b[0;34m(lista_de_intervalos, curvas)\u001b[0m\n\u001b[1;32m     48\u001b[0m \u001b[38;5;28;01mfor\u001b[39;00m graus \u001b[38;5;129;01min\u001b[39;00m n_uplas:\n\u001b[1;32m     49\u001b[0m     ultimo_coeficiente \u001b[38;5;241m=\u001b[39m cmsvv(poly, graus, e_p, dicionario);\n\u001b[0;32m---> 50\u001b[0m     u_c \u001b[38;5;241m=\u001b[39m Set([sign(\u001b[43multimo_coeficiente\u001b[49m\u001b[38;5;241;43m.\u001b[39;49m\u001b[43msimplify_full\u001b[49m\u001b[43m(\u001b[49m\u001b[43m)\u001b[49m)]);\n\u001b[1;32m     51\u001b[0m     coefs \u001b[38;5;241m=\u001b[39m coefs\u001b[38;5;241m.\u001b[39munion(u_c);\n\u001b[1;32m     52\u001b[0m     \u001b[38;5;28;01mif\u001b[39;00m um_e_menos_um\u001b[38;5;241m.\u001b[39missubset(coefs):\n",
      "File \u001b[0;32m~/miniconda3/envs/sage/lib/python3.12/site-packages/sage/symbolic/expression.pyx:10742\u001b[0m, in \u001b[0;36msage.symbolic.expression.Expression.simplify_full (build/cythonized/sage/symbolic/expression.cpp:103699)\u001b[0;34m()\u001b[0m\n\u001b[1;32m  10740\u001b[0m x = x.simplify_trig()\n\u001b[1;32m  10741\u001b[0m x = x.simplify_rational()\n\u001b[0;32m> 10742\u001b[0m x = x.expand_sum()\n\u001b[1;32m  10743\u001b[0m return x\n\u001b[1;32m  10744\u001b[0m \n",
      "File \u001b[0;32m~/miniconda3/envs/sage/lib/python3.12/site-packages/sage/symbolic/expression.pyx:11321\u001b[0m, in \u001b[0;36msage.symbolic.expression.Expression.expand_sum (build/cythonized/sage/symbolic/expression.cpp:107883)\u001b[0;34m()\u001b[0m\n\u001b[1;32m  11319\u001b[0m         31.7752256945384\n\u001b[1;32m  11320\u001b[0m     \"\"\"\n\u001b[0;32m> 11321\u001b[0m     return self.parent()(self._maxima_().simplify_sum())\n\u001b[1;32m  11322\u001b[0m \n\u001b[1;32m  11323\u001b[0m def canonicalize_radical(self):\n",
      "File \u001b[0;32m~/miniconda3/envs/sage/lib/python3.12/site-packages/sage/symbolic/expression.pyx:1228\u001b[0m, in \u001b[0;36msage.symbolic.expression.Expression._maxima_ (build/cythonized/sage/symbolic/expression.cpp:47022)\u001b[0;34m()\u001b[0m\n\u001b[1;32m   1226\u001b[0m     # Maybe not such a great idea because the \"default\" interface is another one\n\u001b[1;32m   1227\u001b[0m     from sage.calculus.calculus import maxima\n\u001b[0;32m-> 1228\u001b[0m     return super()._interface_(maxima)\n\u001b[1;32m   1229\u001b[0m else:\n\u001b[1;32m   1230\u001b[0m     return super()._interface_(session)\n",
      "File \u001b[0;32m~/miniconda3/envs/sage/lib/python3.12/site-packages/sage/structure/sage_object.pyx:725\u001b[0m, in \u001b[0;36msage.structure.sage_object.SageObject._interface_ (build/cythonized/sage/structure/sage_object.c:8181)\u001b[0;34m()\u001b[0m\n\u001b[1;32m    723\u001b[0m     except Exception:\n\u001b[1;32m    724\u001b[0m         raise NotImplementedError(\"coercion of object %s to %s not implemented:\\n%s\\n%s\" % (repr(self), I))\n\u001b[0;32m--> 725\u001b[0m X = I(s)\n\u001b[1;32m    726\u001b[0m if c:\n\u001b[1;32m    727\u001b[0m     try:\n",
      "File \u001b[0;32m~/miniconda3/envs/sage/lib/python3.12/site-packages/sage/interfaces/interface.py:299\u001b[0m, in \u001b[0;36mInterface.__call__\u001b[0;34m(self, x, name)\u001b[0m\n\u001b[1;32m    296\u001b[0m         \u001b[38;5;28;01mpass\u001b[39;00m\n\u001b[1;32m    298\u001b[0m \u001b[38;5;28;01mif\u001b[39;00m \u001b[38;5;28misinstance\u001b[39m(x, \u001b[38;5;28mstr\u001b[39m):\n\u001b[0;32m--> 299\u001b[0m     \u001b[38;5;28;01mreturn\u001b[39;00m \u001b[38;5;28;43mcls\u001b[39;49m\u001b[43m(\u001b[49m\u001b[38;5;28;43mself\u001b[39;49m\u001b[43m,\u001b[49m\u001b[43m \u001b[49m\u001b[43mx\u001b[49m\u001b[43m,\u001b[49m\u001b[43m \u001b[49m\u001b[43mname\u001b[49m\u001b[38;5;241;43m=\u001b[39;49m\u001b[43mname\u001b[49m\u001b[43m)\u001b[49m\n\u001b[1;32m    300\u001b[0m \u001b[38;5;28;01mtry\u001b[39;00m:\n\u001b[1;32m    301\u001b[0m     \u001b[38;5;66;03m# Special methods do not and should not have an option to\u001b[39;00m\n\u001b[1;32m    302\u001b[0m     \u001b[38;5;66;03m# set the name directly, as the identifier assigned by the\u001b[39;00m\n\u001b[1;32m    303\u001b[0m     \u001b[38;5;66;03m# interface should stay consistent. An identifier with a\u001b[39;00m\n\u001b[1;32m    304\u001b[0m     \u001b[38;5;66;03m# user-assigned name might change its value, so we return a\u001b[39;00m\n\u001b[1;32m    305\u001b[0m     \u001b[38;5;66;03m# new element.\u001b[39;00m\n\u001b[1;32m    306\u001b[0m     result \u001b[38;5;241m=\u001b[39m \u001b[38;5;28mself\u001b[39m\u001b[38;5;241m.\u001b[39m_coerce_from_special_method(x)\n",
      "File \u001b[0;32m~/miniconda3/envs/sage/lib/python3.12/site-packages/sage/interfaces/interface.py:749\u001b[0m, in \u001b[0;36mInterfaceElement.__init__\u001b[0;34m(self, parent, value, is_name, name)\u001b[0m\n\u001b[1;32m    747\u001b[0m \u001b[38;5;28;01melse\u001b[39;00m:\n\u001b[1;32m    748\u001b[0m     \u001b[38;5;28;01mtry\u001b[39;00m:\n\u001b[0;32m--> 749\u001b[0m         \u001b[38;5;28mself\u001b[39m\u001b[38;5;241m.\u001b[39m_name \u001b[38;5;241m=\u001b[39m \u001b[43mparent\u001b[49m\u001b[38;5;241;43m.\u001b[39;49m\u001b[43m_create\u001b[49m\u001b[43m(\u001b[49m\u001b[43mvalue\u001b[49m\u001b[43m,\u001b[49m\u001b[43m \u001b[49m\u001b[43mname\u001b[49m\u001b[38;5;241;43m=\u001b[39;49m\u001b[43mname\u001b[49m\u001b[43m)\u001b[49m\n\u001b[1;32m    750\u001b[0m     \u001b[38;5;28;01mexcept\u001b[39;00m (\u001b[38;5;167;01mTypeError\u001b[39;00m, \u001b[38;5;167;01mRuntimeError\u001b[39;00m, \u001b[38;5;167;01mValueError\u001b[39;00m) \u001b[38;5;28;01mas\u001b[39;00m x:\n\u001b[1;32m    751\u001b[0m         \u001b[38;5;28;01mraise\u001b[39;00m \u001b[38;5;167;01mTypeError\u001b[39;00m(x)\n",
      "File \u001b[0;32m~/miniconda3/envs/sage/lib/python3.12/site-packages/sage/interfaces/maxima_lib.py:632\u001b[0m, in \u001b[0;36mMaximaLib._create\u001b[0;34m(self, value, name)\u001b[0m\n\u001b[1;32m    630\u001b[0m         maxima_eval([[msetq], cadadr(\u001b[38;5;124m\"\u001b[39m\u001b[38;5;124m#$\u001b[39m\u001b[38;5;132;01m%s\u001b[39;00m\u001b[38;5;124m$#$\u001b[39m\u001b[38;5;124m\"\u001b[39m \u001b[38;5;241m%\u001b[39m name), value])\n\u001b[1;32m    631\u001b[0m     \u001b[38;5;28;01melse\u001b[39;00m:\n\u001b[0;32m--> 632\u001b[0m         \u001b[38;5;28;43mself\u001b[39;49m\u001b[38;5;241;43m.\u001b[39;49m\u001b[43mset\u001b[49m\u001b[43m(\u001b[49m\u001b[43mname\u001b[49m\u001b[43m,\u001b[49m\u001b[43m \u001b[49m\u001b[43mvalue\u001b[49m\u001b[43m)\u001b[49m\n\u001b[1;32m    633\u001b[0m \u001b[38;5;28;01mexcept\u001b[39;00m \u001b[38;5;167;01mRuntimeError\u001b[39;00m \u001b[38;5;28;01mas\u001b[39;00m error:\n\u001b[1;32m    634\u001b[0m     s \u001b[38;5;241m=\u001b[39m \u001b[38;5;28mstr\u001b[39m(error)\n",
      "File \u001b[0;32m~/miniconda3/envs/sage/lib/python3.12/site-packages/sage/interfaces/maxima_lib.py:540\u001b[0m, in \u001b[0;36mMaximaLib.set\u001b[0;34m(self, var, value)\u001b[0m\n\u001b[1;32m    538\u001b[0m     \u001b[38;5;28;01mraise\u001b[39;00m \u001b[38;5;167;01mTypeError\u001b[39;00m\n\u001b[1;32m    539\u001b[0m cmd \u001b[38;5;241m=\u001b[39m \u001b[38;5;124m'\u001b[39m\u001b[38;5;132;01m%s\u001b[39;00m\u001b[38;5;124m : \u001b[39m\u001b[38;5;132;01m%s\u001b[39;00m\u001b[38;5;124m$\u001b[39m\u001b[38;5;124m'\u001b[39m \u001b[38;5;241m%\u001b[39m (var, value\u001b[38;5;241m.\u001b[39mrstrip(\u001b[38;5;124m'\u001b[39m\u001b[38;5;124m;\u001b[39m\u001b[38;5;124m'\u001b[39m))\n\u001b[0;32m--> 540\u001b[0m \u001b[38;5;28;43mself\u001b[39;49m\u001b[38;5;241;43m.\u001b[39;49m\u001b[43meval\u001b[49m\u001b[43m(\u001b[49m\u001b[43mcmd\u001b[49m\u001b[43m)\u001b[49m\n",
      "File \u001b[0;32m~/miniconda3/envs/sage/lib/python3.12/site-packages/sage/interfaces/maxima_lib.py:486\u001b[0m, in \u001b[0;36mMaximaLib._eval_line\u001b[0;34m(self, line, locals, reformat, **kwds)\u001b[0m\n\u001b[1;32m    484\u001b[0m         line \u001b[38;5;241m=\u001b[39m line[ind_dollar \u001b[38;5;241m+\u001b[39m \u001b[38;5;241m1\u001b[39m:]\n\u001b[1;32m    485\u001b[0m         \u001b[38;5;28;01mif\u001b[39;00m statement:\n\u001b[0;32m--> 486\u001b[0m             \u001b[43mmaxima_eval\u001b[49m\u001b[43m(\u001b[49m\u001b[38;5;124;43m\"\u001b[39;49m\u001b[38;5;124;43m#$\u001b[39;49m\u001b[38;5;132;43;01m%s\u001b[39;49;00m\u001b[38;5;124;43m$\u001b[39;49m\u001b[38;5;124;43m\"\u001b[39;49m\u001b[43m \u001b[49m\u001b[38;5;241;43m%\u001b[39;49m\u001b[43m \u001b[49m\u001b[43mstatement\u001b[49m\u001b[43m)\u001b[49m\n\u001b[1;32m    487\u001b[0m \u001b[38;5;28;01mif\u001b[39;00m \u001b[38;5;129;01mnot\u001b[39;00m reformat:\n\u001b[1;32m    488\u001b[0m     \u001b[38;5;28;01mreturn\u001b[39;00m result\n",
      "File \u001b[0;32m~/miniconda3/envs/sage/lib/python3.12/site-packages/sage/libs/ecl.pyx:837\u001b[0m, in \u001b[0;36msage.libs.ecl.EclObject.__call__ (build/cythonized/sage/libs/ecl.c:11729)\u001b[0;34m()\u001b[0m\n\u001b[1;32m    835\u001b[0m \n\u001b[1;32m    836\u001b[0m         \"\"\"\n\u001b[0;32m--> 837\u001b[0m         lispargs = EclObject(list(args))\n\u001b[1;32m    838\u001b[0m         return ecl_wrap(ecl_safe_apply(self.obj, (<EclObject>lispargs).obj))\n\u001b[1;32m    839\u001b[0m \n",
      "File \u001b[0;32m~/miniconda3/envs/sage/lib/python3.12/site-packages/sage/libs/ecl.pyx:698\u001b[0m, in \u001b[0;36msage.libs.ecl.EclObject.__init__ (build/cythonized/sage/libs/ecl.c:11128)\u001b[0;34m()\u001b[0m\n\u001b[1;32m    696\u001b[0m     return\n\u001b[1;32m    697\u001b[0m elif len(args) == 1:\n\u001b[0;32m--> 698\u001b[0m     self.set_obj(python_to_ecl(args[0], True))\n\u001b[1;32m    699\u001b[0m elif len(args) == 2:\n\u001b[1;32m    700\u001b[0m     self.set_obj(python_to_ecl(args[0], args[1]))\n",
      "File \u001b[0;32m~/miniconda3/envs/sage/lib/python3.12/site-packages/sage/libs/ecl.pyx:481\u001b[0m, in \u001b[0;36msage.libs.ecl.python_to_ecl (build/cythonized/sage/libs/ecl.c:10316)\u001b[0;34m()\u001b[0m\n\u001b[1;32m    479\u001b[0m     L = ECL_NIL\n\u001b[1;32m    480\u001b[0m     for i in range(len(pyobj) - 1, -1, -1):\n\u001b[0;32m--> 481\u001b[0m         L = cl_cons(python_to_ecl(pyobj[i], read_strings), L)\n\u001b[1;32m    482\u001b[0m     return L\n\u001b[1;32m    483\u001b[0m elif isinstance(pyobj, tuple):\n",
      "File \u001b[0;32m~/miniconda3/envs/sage/lib/python3.12/site-packages/sage/libs/ecl.pyx:458\u001b[0m, in \u001b[0;36msage.libs.ecl.python_to_ecl (build/cythonized/sage/libs/ecl.c:9956)\u001b[0;34m()\u001b[0m\n\u001b[1;32m    456\u001b[0m \n\u001b[1;32m    457\u001b[0m         if read_strings:\n\u001b[0;32m--> 458\u001b[0m             return ecl_safe_funcall(read_from_string_clobj, o)\n\u001b[1;32m    459\u001b[0m         else:\n\u001b[1;32m    460\u001b[0m             return o\n",
      "File \u001b[0;32m~/miniconda3/envs/sage/lib/python3.12/site-packages/sage/libs/ecl.pyx:340\u001b[0m, in \u001b[0;36msage.libs.ecl.ecl_safe_funcall (build/cythonized/sage/libs/ecl.c:8981)\u001b[0;34m()\u001b[0m\n\u001b[1;32m    338\u001b[0m message = ecl_string_to_python(error)\n\u001b[1;32m    339\u001b[0m if \"Console interrupt\" in message:\n\u001b[0;32m--> 340\u001b[0m     raise KeyboardInterrupt(\"ECL says: {}\".format(message))\n\u001b[1;32m    341\u001b[0m else:\n\u001b[1;32m    342\u001b[0m     raise RuntimeError(\"ECL says: {}\".format(message))\n",
      "\u001b[0;31mKeyboardInterrupt\u001b[0m: ECL says: Console interrupt."
     ]
    }
   ],
   "source": [
    "s7 = particao5(s6, curvas)"
   ]
  },
  {
   "cell_type": "code",
   "execution_count": null,
   "metadata": {},
   "outputs": [],
   "source": [
    "show(s7)"
   ]
  },
  {
   "cell_type": "code",
   "execution_count": 31,
   "metadata": {},
   "outputs": [
    {
     "name": "stdout",
     "output_type": "stream",
     "text": [
      "CPU times: user 8min 46s, sys: 580 ms, total: 8min 46s\n",
      "Wall time: 8min 46s\n"
     ]
    }
   ],
   "source": [
    "%time s8 = particao5(s7, curvas)"
   ]
  },
  {
   "cell_type": "code",
   "execution_count": 32,
   "metadata": {},
   "outputs": [
    {
     "data": {
      "text/html": [
       "<html><script type=\"math/tex; mode=display\">\\newcommand{\\Bold}[1]{\\mathbf{#1}}\\left[\\left(\\left(0, \\frac{1}{4}\\right), \\mathrm{True}\\right), \\left(\\left(\\frac{1}{4}, \\frac{1}{2}\\right), \\mathrm{True}\\right), \\left(\\left(\\frac{1}{2}, \\frac{3}{4}\\right), \\mathrm{True}\\right), \\left(\\left(\\frac{3}{4}, \\frac{7}{8}\\right), \\mathrm{True}\\right), \\left(\\left(\\frac{7}{8}, \\frac{15}{16}\\right), \\mathrm{False}\\right), \\left(\\left(\\frac{15}{16}, 1\\right), \\mathrm{False}\\right)\\right]</script></html>"
      ],
      "text/latex": [
       "$$\\newcommand{\\Bold}[1]{\\mathbf{#1}}\\left[\\left(\\left(0, \\frac{1}{4}\\right), \\mathrm{True}\\right), \\left(\\left(\\frac{1}{4}, \\frac{1}{2}\\right), \\mathrm{True}\\right), \\left(\\left(\\frac{1}{2}, \\frac{3}{4}\\right), \\mathrm{True}\\right), \\left(\\left(\\frac{3}{4}, \\frac{7}{8}\\right), \\mathrm{True}\\right), \\left(\\left(\\frac{7}{8}, \\frac{15}{16}\\right), \\mathrm{False}\\right), \\left(\\left(\\frac{15}{16}, 1\\right), \\mathrm{False}\\right)\\right]$$"
      ],
      "text/plain": [
       "[((0, 1/4), True),\n",
       " ((1/4, 1/2), True),\n",
       " ((1/2, 3/4), True),\n",
       " ((3/4, 7/8), True),\n",
       " ((7/8, 15/16), False),\n",
       " ((15/16, 1), False)]"
      ]
     },
     "metadata": {},
     "output_type": "display_data"
    }
   ],
   "source": [
    "show(s8)"
   ]
  },
  {
   "cell_type": "code",
   "execution_count": 34,
   "metadata": {},
   "outputs": [
    {
     "name": "stdout",
     "output_type": "stream",
     "text": [
      "CPU times: user 8min 46s, sys: 680 ms, total: 8min 46s\n",
      "Wall time: 8min 46s\n"
     ]
    }
   ],
   "source": [
    "%time s9 = particao5(s8, curvas)"
   ]
  },
  {
   "cell_type": "code",
   "execution_count": 35,
   "metadata": {},
   "outputs": [
    {
     "data": {
      "text/html": [
       "<html><script type=\"math/tex; mode=display\">\\newcommand{\\Bold}[1]{\\mathbf{#1}}\\left[\\left(\\left(0, \\frac{1}{4}\\right), \\mathrm{True}\\right), \\left(\\left(\\frac{1}{4}, \\frac{1}{2}\\right), \\mathrm{True}\\right), \\left(\\left(\\frac{1}{2}, \\frac{3}{4}\\right), \\mathrm{True}\\right), \\left(\\left(\\frac{3}{4}, \\frac{7}{8}\\right), \\mathrm{True}\\right), \\left(\\left(\\frac{7}{8}, \\frac{15}{16}\\right), \\mathrm{True}\\right), \\left(\\left(\\frac{15}{16}, \\frac{31}{32}\\right), \\mathrm{False}\\right), \\left(\\left(\\frac{31}{32}, 1\\right), \\mathrm{False}\\right)\\right]</script></html>"
      ],
      "text/latex": [
       "$$\\newcommand{\\Bold}[1]{\\mathbf{#1}}\\left[\\left(\\left(0, \\frac{1}{4}\\right), \\mathrm{True}\\right), \\left(\\left(\\frac{1}{4}, \\frac{1}{2}\\right), \\mathrm{True}\\right), \\left(\\left(\\frac{1}{2}, \\frac{3}{4}\\right), \\mathrm{True}\\right), \\left(\\left(\\frac{3}{4}, \\frac{7}{8}\\right), \\mathrm{True}\\right), \\left(\\left(\\frac{7}{8}, \\frac{15}{16}\\right), \\mathrm{True}\\right), \\left(\\left(\\frac{15}{16}, \\frac{31}{32}\\right), \\mathrm{False}\\right), \\left(\\left(\\frac{31}{32}, 1\\right), \\mathrm{False}\\right)\\right]$$"
      ],
      "text/plain": [
       "[((0, 1/4), True),\n",
       " ((1/4, 1/2), True),\n",
       " ((1/2, 3/4), True),\n",
       " ((3/4, 7/8), True),\n",
       " ((7/8, 15/16), True),\n",
       " ((15/16, 31/32), False),\n",
       " ((31/32, 1), False)]"
      ]
     },
     "metadata": {},
     "output_type": "display_data"
    }
   ],
   "source": [
    "show(s9)"
   ]
  },
  {
   "cell_type": "code",
   "execution_count": 33,
   "metadata": {},
   "outputs": [
    {
     "data": {
      "text/plain": [
       "0"
      ]
     },
     "execution_count": 33,
     "metadata": {},
     "output_type": "execute_result"
    }
   ],
   "source": [
    "### Fato importante. Isso garante que o ultimo subintervalo continuara sempre subdividindo.\n",
    "polinomio_simples(t=1, v1 = sqrt(f_1t(1)), u1 = sqrt(g_1t(1)), v2 = sqrt(f_2t(1)), u2 = sqrt(g_2t(1)))"
   ]
  },
  {
   "cell_type": "markdown",
   "metadata": {},
   "source": [
    "#### Tentando inverter o lado."
   ]
  },
  {
   "cell_type": "code",
   "execution_count": 27,
   "metadata": {},
   "outputs": [
    {
     "name": "stdout",
     "output_type": "stream",
     "text": [
      "CPU times: user 3min 7s, sys: 196 ms, total: 3min 7s\n",
      "Wall time: 3min 7s\n"
     ]
    }
   ],
   "source": [
    "%time s5inv = particao5([((1,31/32), False)], curvas);"
   ]
  },
  {
   "cell_type": "code",
   "execution_count": 28,
   "metadata": {},
   "outputs": [
    {
     "data": {
      "text/html": [
       "<html><script type=\"math/tex; mode=display\">\\newcommand{\\Bold}[1]{\\mathbf{#1}}\\left[\\left(\\left(1, \\frac{63}{64}\\right), \\mathrm{False}\\right), \\left(\\left(\\frac{63}{64}, \\frac{31}{32}\\right), \\mathrm{False}\\right)\\right]</script></html>"
      ],
      "text/latex": [
       "$$\\newcommand{\\Bold}[1]{\\mathbf{#1}}\\left[\\left(\\left(1, \\frac{63}{64}\\right), \\mathrm{False}\\right), \\left(\\left(\\frac{63}{64}, \\frac{31}{32}\\right), \\mathrm{False}\\right)\\right]$$"
      ],
      "text/plain": [
       "[((1, 63/64), False), ((63/64, 31/32), False)]"
      ]
     },
     "metadata": {},
     "output_type": "display_data"
    }
   ],
   "source": [
    "show(s5inv)"
   ]
  },
  {
   "cell_type": "code",
   "execution_count": 29,
   "metadata": {},
   "outputs": [
    {
     "name": "stdout",
     "output_type": "stream",
     "text": [
      "CPU times: user 10min 36s, sys: 836 ms, total: 10min 37s\n",
      "Wall time: 10min 37s\n"
     ]
    }
   ],
   "source": [
    "%time s6inv = particao5(s5inv, curvas);"
   ]
  },
  {
   "cell_type": "code",
   "execution_count": 30,
   "metadata": {},
   "outputs": [
    {
     "data": {
      "text/html": [
       "<html><script type=\"math/tex; mode=display\">\\newcommand{\\Bold}[1]{\\mathbf{#1}}\\left[\\left(\\left(1, \\frac{127}{128}\\right), \\mathrm{False}\\right), \\left(\\left(\\frac{127}{128}, \\frac{63}{64}\\right), \\mathrm{False}\\right), \\left(\\left(\\frac{63}{64}, \\frac{31}{32}\\right), \\mathrm{True}\\right)\\right]</script></html>"
      ],
      "text/latex": [
       "$$\\newcommand{\\Bold}[1]{\\mathbf{#1}}\\left[\\left(\\left(1, \\frac{127}{128}\\right), \\mathrm{False}\\right), \\left(\\left(\\frac{127}{128}, \\frac{63}{64}\\right), \\mathrm{False}\\right), \\left(\\left(\\frac{63}{64}, \\frac{31}{32}\\right), \\mathrm{True}\\right)\\right]$$"
      ],
      "text/plain": [
       "[((1, 127/128), False), ((127/128, 63/64), False), ((63/64, 31/32), True)]"
      ]
     },
     "metadata": {},
     "output_type": "display_data"
    }
   ],
   "source": [
    "show(s6inv)"
   ]
  },
  {
   "cell_type": "code",
   "execution_count": 31,
   "metadata": {},
   "outputs": [
    {
     "name": "stdout",
     "output_type": "stream",
     "text": [
      "CPU times: user 10min 34s, sys: 764 ms, total: 10min 34s\n",
      "Wall time: 10min 34s\n"
     ]
    }
   ],
   "source": [
    "%time s7inv = particao5(s6inv, curvas);"
   ]
  },
  {
   "cell_type": "code",
   "execution_count": 32,
   "metadata": {},
   "outputs": [
    {
     "data": {
      "text/html": [
       "<html><script type=\"math/tex; mode=display\">\\newcommand{\\Bold}[1]{\\mathbf{#1}}\\left[\\left(\\left(1, \\frac{255}{256}\\right), \\mathrm{False}\\right), \\left(\\left(\\frac{255}{256}, \\frac{127}{128}\\right), \\mathrm{False}\\right), \\left(\\left(\\frac{127}{128}, \\frac{63}{64}\\right), \\mathrm{True}\\right), \\left(\\left(\\frac{63}{64}, \\frac{31}{32}\\right), \\mathrm{True}\\right)\\right]</script></html>"
      ],
      "text/latex": [
       "$$\\newcommand{\\Bold}[1]{\\mathbf{#1}}\\left[\\left(\\left(1, \\frac{255}{256}\\right), \\mathrm{False}\\right), \\left(\\left(\\frac{255}{256}, \\frac{127}{128}\\right), \\mathrm{False}\\right), \\left(\\left(\\frac{127}{128}, \\frac{63}{64}\\right), \\mathrm{True}\\right), \\left(\\left(\\frac{63}{64}, \\frac{31}{32}\\right), \\mathrm{True}\\right)\\right]$$"
      ],
      "text/plain": [
       "[((1, 255/256), False),\n",
       " ((255/256, 127/128), False),\n",
       " ((127/128, 63/64), True),\n",
       " ((63/64, 31/32), True)]"
      ]
     },
     "metadata": {},
     "output_type": "display_data"
    }
   ],
   "source": [
    "show(s7inv)"
   ]
  },
  {
   "cell_type": "code",
   "execution_count": null,
   "metadata": {},
   "outputs": [],
   "source": []
  },
  {
   "cell_type": "markdown",
   "metadata": {},
   "source": [
    "### Pra baixo eh lixo"
   ]
  },
  {
   "cell_type": "code",
   "execution_count": 37,
   "metadata": {},
   "outputs": [
    {
     "data": {
      "text/html": [
       "<html><script type=\"math/tex; mode=display\">\\newcommand{\\Bold}[1]{\\mathbf{#1}}-10995116277760 \\, \\sqrt{5} t^{4} {\\left(\\sqrt{5} - 3\\right)}^{3} {\\left(\\sqrt{5} - 5\\right)}^{3} + 32985348833280 \\, t^{4} {\\left(\\sqrt{5} - 3\\right)}^{3} {\\left(\\sqrt{5} - 5\\right)}^{3} + 21990232555520 \\, \\sqrt{5} t^{3} {\\left(\\sqrt{5} - 3\\right)}^{3} {\\left(\\sqrt{5} - 5\\right)}^{3} - 65970697666560 \\, t^{3} {\\left(\\sqrt{5} - 3\\right)}^{3} {\\left(\\sqrt{5} - 5\\right)}^{3} - 10995116277760 \\, \\sqrt{5} t^{2} {\\left(\\sqrt{5} - 3\\right)}^{3} {\\left(\\sqrt{5} - 5\\right)}^{3} + 32985348833280 \\, t^{2} {\\left(\\sqrt{5} - 3\\right)}^{3} {\\left(\\sqrt{5} - 5\\right)}^{3}</script></html>"
      ],
      "text/latex": [
       "$$\\newcommand{\\Bold}[1]{\\mathbf{#1}}-10995116277760 \\, \\sqrt{5} t^{4} {\\left(\\sqrt{5} - 3\\right)}^{3} {\\left(\\sqrt{5} - 5\\right)}^{3} + 32985348833280 \\, t^{4} {\\left(\\sqrt{5} - 3\\right)}^{3} {\\left(\\sqrt{5} - 5\\right)}^{3} + 21990232555520 \\, \\sqrt{5} t^{3} {\\left(\\sqrt{5} - 3\\right)}^{3} {\\left(\\sqrt{5} - 5\\right)}^{3} - 65970697666560 \\, t^{3} {\\left(\\sqrt{5} - 3\\right)}^{3} {\\left(\\sqrt{5} - 5\\right)}^{3} - 10995116277760 \\, \\sqrt{5} t^{2} {\\left(\\sqrt{5} - 3\\right)}^{3} {\\left(\\sqrt{5} - 5\\right)}^{3} + 32985348833280 \\, t^{2} {\\left(\\sqrt{5} - 3\\right)}^{3} {\\left(\\sqrt{5} - 5\\right)}^{3}$$"
      ],
      "text/plain": [
       "-10995116277760*sqrt(5)*t^4*(sqrt(5) - 3)^3*(sqrt(5) - 5)^3 + 32985348833280*t^4*(sqrt(5) - 3)^3*(sqrt(5) - 5)^3 + 21990232555520*sqrt(5)*t^3*(sqrt(5) - 3)^3*(sqrt(5) - 5)^3 - 65970697666560*t^3*(sqrt(5) - 3)^3*(sqrt(5) - 5)^3 - 10995116277760*sqrt(5)*t^2*(sqrt(5) - 3)^3*(sqrt(5) - 5)^3 + 32985348833280*t^2*(sqrt(5) - 3)^3*(sqrt(5) - 5)^3"
      ]
     },
     "metadata": {},
     "output_type": "display_data"
    }
   ],
   "source": [
    "show(polinomio_simples( v1 = sqrt(f_1t(1)), u1 = sqrt(g_1t(1)), v2 = sqrt(f_2t(1)), u2 = sqrt(g_2t(1))))"
   ]
  },
  {
   "cell_type": "code",
   "execution_count": 38,
   "metadata": {},
   "outputs": [],
   "source": [
    "p=polinomio_simples( v1 = sqrt(f_1t(1)), u1 = sqrt(g_1t(1)), v2 = sqrt(f_2t(1)), u2 = sqrt(g_2t(1)));"
   ]
  },
  {
   "cell_type": "code",
   "execution_count": 41,
   "metadata": {},
   "outputs": [
    {
     "data": {
      "text/html": [
       "<html><script type=\"math/tex; mode=display\">\\newcommand{\\Bold}[1]{\\mathbf{#1}}-3518437208883200 \\, {\\left(t - 1\\right)}^{2} t^{2} {\\left(199 \\, \\sqrt{5} - 445\\right)}</script></html>"
      ],
      "text/latex": [
       "$$\\newcommand{\\Bold}[1]{\\mathbf{#1}}-3518437208883200 \\, {\\left(t - 1\\right)}^{2} t^{2} {\\left(199 \\, \\sqrt{5} - 445\\right)}$$"
      ],
      "text/plain": [
       "-3518437208883200*(t - 1)^2*t^2*(199*sqrt(5) - 445)"
      ]
     },
     "metadata": {},
     "output_type": "display_data"
    }
   ],
   "source": [
    "show(p.full_simplify().factor())"
   ]
  },
  {
   "cell_type": "code",
   "execution_count": null,
   "metadata": {},
   "outputs": [],
   "source": []
  },
  {
   "cell_type": "code",
   "execution_count": null,
   "metadata": {},
   "outputs": [],
   "source": []
  },
  {
   "cell_type": "code",
   "execution_count": null,
   "metadata": {},
   "outputs": [],
   "source": []
  },
  {
   "cell_type": "code",
   "execution_count": null,
   "metadata": {},
   "outputs": [],
   "source": []
  },
  {
   "cell_type": "markdown",
   "metadata": {},
   "source": []
  },
  {
   "cell_type": "code",
   "execution_count": null,
   "metadata": {},
   "outputs": [],
   "source": [
    "\n",
    "\n"
   ]
  }
 ],
 "metadata": {
  "kernelspec": {
   "display_name": "SageMath 9.5",
   "language": "sage",
   "name": "sagemath"
  },
  "language_info": {
   "codemirror_mode": {
    "name": "ipython",
    "version": 3
   },
   "file_extension": ".py",
   "mimetype": "text/x-python",
   "name": "python",
   "nbconvert_exporter": "python",
   "pygments_lexer": "ipython3",
   "version": "3.10.12"
  },
  "widgets": {
   "application/vnd.jupyter.widget-state+json": {
    "state": {},
    "version_major": 2,
    "version_minor": 0
   }
  }
 },
 "nbformat": 4,
 "nbformat_minor": 4
}
