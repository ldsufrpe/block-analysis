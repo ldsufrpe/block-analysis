{
 "cells": [
  {
   "cell_type": "code",
   "execution_count": 1,
   "metadata": {
    "collapsed": false,
    "jupyter": {
     "outputs_hidden": false
    },
    "pycharm": {
     "name": "#%%\n"
    }
   },
   "outputs": [],
   "source": [
    "load(\"util.sage\")"
   ]
  },
  {
   "cell_type": "markdown",
   "metadata": {
    "collapsed": false,
    "jupyter": {
     "outputs_hidden": false
    },
    "pycharm": {
     "name": "#%% md\n"
    }
   },
   "source": [
    "#### Bloco 1"
   ]
  },
  {
   "cell_type": "code",
   "execution_count": 2,
   "metadata": {
    "collapsed": false,
    "jupyter": {
     "outputs_hidden": false
    },
    "pycharm": {
     "name": "#%%\n"
    }
   },
   "outputs": [
    {
     "data": {
      "text/html": [
       "<html>\\[\\newcommand{\\Bold}[1]{\\mathbf{#1}}\\left(\\begin{array}{rr}\n",
       "24 \\, c - \\frac{1}{12} \\, \\sqrt{3} - \\frac{3}{8} \\, \\sqrt{2} - \\frac{3}{4} & 24 \\, c - \\frac{\\sqrt{3} t + \\sqrt{3}}{3 \\, {\\left(t^{3} + 3 \\, t^{2} + 3 \\, t + 1\\right)}} - \\frac{3 \\, {\\left(t + 3\\right)}}{{\\left(3 \\, t^{2} + 2 \\, t + 3\\right)}^{\\frac{3}{2}}} + \\frac{3 \\, {\\left(t - 3\\right)}}{{\\left(3 \\, t^{2} - 2 \\, t + 3\\right)}^{\\frac{3}{2}}} - \\frac{\\sqrt{3} t - \\sqrt{3}}{3 \\, {\\left(t - 1\\right)}^{3}} \\\\\n",
       "24 \\, c t - \\frac{\\sqrt{3} t + \\sqrt{3}}{3 \\, {\\left(t^{3} + 3 \\, t^{2} + 3 \\, t + 1\\right)}} - \\frac{3 \\, {\\left(3 \\, t + 1\\right)}}{{\\left(3 \\, t^{2} + 2 \\, t + 3\\right)}^{\\frac{3}{2}}} - \\frac{3 \\, {\\left(3 \\, t - 1\\right)}}{{\\left(3 \\, t^{2} - 2 \\, t + 3\\right)}^{\\frac{3}{2}}} + \\frac{\\sqrt{3} t - \\sqrt{3}}{3 \\, {\\left(t - 1\\right)}^{3}} & 24 \\, c t - \\frac{2 \\, \\sqrt{3} + 9 \\, \\sqrt{2} + 18}{24 \\, t^{2}}\n",
       "\\end{array}\\right)\\]</html>"
      ],
      "text/latex": [
       "$$\\newcommand{\\Bold}[1]{\\mathbf{#1}}\\left(\\begin{array}{rr}\n",
       "24 \\, c - \\frac{1}{12} \\, \\sqrt{3} - \\frac{3}{8} \\, \\sqrt{2} - \\frac{3}{4} & 24 \\, c - \\frac{\\sqrt{3} t + \\sqrt{3}}{3 \\, {\\left(t^{3} + 3 \\, t^{2} + 3 \\, t + 1\\right)}} - \\frac{3 \\, {\\left(t + 3\\right)}}{{\\left(3 \\, t^{2} + 2 \\, t + 3\\right)}^{\\frac{3}{2}}} + \\frac{3 \\, {\\left(t - 3\\right)}}{{\\left(3 \\, t^{2} - 2 \\, t + 3\\right)}^{\\frac{3}{2}}} - \\frac{\\sqrt{3} t - \\sqrt{3}}{3 \\, {\\left(t - 1\\right)}^{3}} \\\\\n",
       "24 \\, c t - \\frac{\\sqrt{3} t + \\sqrt{3}}{3 \\, {\\left(t^{3} + 3 \\, t^{2} + 3 \\, t + 1\\right)}} - \\frac{3 \\, {\\left(3 \\, t + 1\\right)}}{{\\left(3 \\, t^{2} + 2 \\, t + 3\\right)}^{\\frac{3}{2}}} - \\frac{3 \\, {\\left(3 \\, t - 1\\right)}}{{\\left(3 \\, t^{2} - 2 \\, t + 3\\right)}^{\\frac{3}{2}}} + \\frac{\\sqrt{3} t - \\sqrt{3}}{3 \\, {\\left(t - 1\\right)}^{3}} & 24 \\, c t - \\frac{2 \\, \\sqrt{3} + 9 \\, \\sqrt{2} + 18}{24 \\, t^{2}}\n",
       "\\end{array}\\right)$$"
      ],
      "text/plain": [
       "[                                                                                                                                     24*c - 1/12*sqrt(3) - 3/8*sqrt(2) - 3/4       24*c - 1/3*(sqrt(3)*t + sqrt(3))/(t^3 + 3*t^2 + 3*t + 1) - 3*(t + 3)/(3*t^2 + 2*t + 3)^(3/2) + 3*(t - 3)/(3*t^2 - 2*t + 3)^(3/2) - 1/3*(sqrt(3)*t - sqrt(3))/(t - 1)^3]\n",
       "[24*c*t - 1/3*(sqrt(3)*t + sqrt(3))/(t^3 + 3*t^2 + 3*t + 1) - 3*(3*t + 1)/(3*t^2 + 2*t + 3)^(3/2) - 3*(3*t - 1)/(3*t^2 - 2*t + 3)^(3/2) + 1/3*(sqrt(3)*t - sqrt(3))/(t - 1)^3                                                                                                                               24*c*t - 1/24*(2*sqrt(3) + 9*sqrt(2) + 18)/t^2]"
      ]
     },
     "execution_count": 2,
     "metadata": {},
     "output_type": "execute_result"
    }
   ],
   "source": [
    "B1 = load('blocos/bloco_1_linear_cubo'); ##Isso na formula  6.28 secao 6.4.1\n",
    "\n",
    "B1 = B1.apply_map(lambda x: x.simplify_real().combine())\n",
    "show(B1)\n"
   ]
  },
  {
   "cell_type": "code",
   "execution_count": 3,
   "metadata": {
    "collapsed": false,
    "jupyter": {
     "outputs_hidden": false
    },
    "pycharm": {
     "name": "#%%\n"
    }
   },
   "outputs": [
    {
     "name": "stdout",
     "output_type": "stream",
     "text": [
      "True\n"
     ]
    },
    {
     "data": {
      "text/html": [
       "<html>\\[\\newcommand{\\Bold}[1]{\\mathbf{#1}}-{\\left(2 \\, \\sqrt{3} t + 9 \\, \\sqrt{2} t + 18 \\, t - \\frac{72 \\, {\\left(t^{2} + 6 \\, t + 1\\right)}}{{\\left(3 \\, t^{2} + 2 \\, t + 3\\right)}^{\\frac{3}{2}}} + \\frac{72 \\, {\\left(t^{2} - 6 \\, t + 1\\right)}}{{\\left(3 \\, t^{2} - 2 \\, t + 3\\right)}^{\\frac{3}{2}}} - \\frac{8 \\, \\sqrt{3}}{t + 1} - \\frac{8 \\, \\sqrt{3}}{t - 1} + \\frac{2 \\, \\sqrt{3} + 9 \\, \\sqrt{2} + 18}{t^{2}}\\right)} c - \\frac{9 \\, {\\left(3 \\, t + 1\\right)} {\\left(t + 3\\right)}}{{\\left(3 \\, t^{2} + 2 \\, t + 3\\right)}^{3}} + \\frac{9 \\, {\\left(3 \\, t - 1\\right)} {\\left(t - 3\\right)}}{{\\left(3 \\, t^{2} - 2 \\, t + 3\\right)}^{3}} + \\frac{6 \\, \\sqrt{3} \\sqrt{2} + 12 \\, \\sqrt{3} + 54 \\, \\sqrt{2} + 83}{96 \\, t^{2}} - \\frac{4 \\, \\sqrt{3}}{{\\left(3 \\, t^{2} + 2 \\, t + 3\\right)}^{\\frac{3}{2}} {\\left(t + 1\\right)}} - \\frac{2 \\, \\sqrt{3}}{{\\left(3 \\, t^{2} - 2 \\, t + 3\\right)}^{\\frac{3}{2}} {\\left(t + 1\\right)}} - \\frac{2 \\, \\sqrt{3}}{{\\left(3 \\, t^{2} + 2 \\, t + 3\\right)}^{\\frac{3}{2}} {\\left(t - 1\\right)}} - \\frac{4 \\, \\sqrt{3}}{{\\left(3 \\, t^{2} - 2 \\, t + 3\\right)}^{\\frac{3}{2}} {\\left(t - 1\\right)}} - \\frac{144 \\, t}{{\\left(3 \\, t^{2} + 2 \\, t + 3\\right)}^{\\frac{3}{2}} {\\left(3 \\, t^{2} - 2 \\, t + 3\\right)}^{\\frac{3}{2}}} - \\frac{1}{3 \\, {\\left(t + 1\\right)}^{4}} + \\frac{1}{3 \\, {\\left(t - 1\\right)}^{4}}\\]</html>"
      ],
      "text/latex": [
       "$$\\newcommand{\\Bold}[1]{\\mathbf{#1}}-{\\left(2 \\, \\sqrt{3} t + 9 \\, \\sqrt{2} t + 18 \\, t - \\frac{72 \\, {\\left(t^{2} + 6 \\, t + 1\\right)}}{{\\left(3 \\, t^{2} + 2 \\, t + 3\\right)}^{\\frac{3}{2}}} + \\frac{72 \\, {\\left(t^{2} - 6 \\, t + 1\\right)}}{{\\left(3 \\, t^{2} - 2 \\, t + 3\\right)}^{\\frac{3}{2}}} - \\frac{8 \\, \\sqrt{3}}{t + 1} - \\frac{8 \\, \\sqrt{3}}{t - 1} + \\frac{2 \\, \\sqrt{3} + 9 \\, \\sqrt{2} + 18}{t^{2}}\\right)} c - \\frac{9 \\, {\\left(3 \\, t + 1\\right)} {\\left(t + 3\\right)}}{{\\left(3 \\, t^{2} + 2 \\, t + 3\\right)}^{3}} + \\frac{9 \\, {\\left(3 \\, t - 1\\right)} {\\left(t - 3\\right)}}{{\\left(3 \\, t^{2} - 2 \\, t + 3\\right)}^{3}} + \\frac{6 \\, \\sqrt{3} \\sqrt{2} + 12 \\, \\sqrt{3} + 54 \\, \\sqrt{2} + 83}{96 \\, t^{2}} - \\frac{4 \\, \\sqrt{3}}{{\\left(3 \\, t^{2} + 2 \\, t + 3\\right)}^{\\frac{3}{2}} {\\left(t + 1\\right)}} - \\frac{2 \\, \\sqrt{3}}{{\\left(3 \\, t^{2} - 2 \\, t + 3\\right)}^{\\frac{3}{2}} {\\left(t + 1\\right)}} - \\frac{2 \\, \\sqrt{3}}{{\\left(3 \\, t^{2} + 2 \\, t + 3\\right)}^{\\frac{3}{2}} {\\left(t - 1\\right)}} - \\frac{4 \\, \\sqrt{3}}{{\\left(3 \\, t^{2} - 2 \\, t + 3\\right)}^{\\frac{3}{2}} {\\left(t - 1\\right)}} - \\frac{144 \\, t}{{\\left(3 \\, t^{2} + 2 \\, t + 3\\right)}^{\\frac{3}{2}} {\\left(3 \\, t^{2} - 2 \\, t + 3\\right)}^{\\frac{3}{2}}} - \\frac{1}{3 \\, {\\left(t + 1\\right)}^{4}} + \\frac{1}{3 \\, {\\left(t - 1\\right)}^{4}}$$"
      ],
      "text/plain": [
       "-(2*sqrt(3)*t + 9*sqrt(2)*t + 18*t - 72*(t^2 + 6*t + 1)/(3*t^2 + 2*t + 3)^(3/2) + 72*(t^2 - 6*t + 1)/(3*t^2 - 2*t + 3)^(3/2) - 8*sqrt(3)/(t + 1) - 8*sqrt(3)/(t - 1) + (2*sqrt(3) + 9*sqrt(2) + 18)/t^2)*c - 9*(3*t + 1)*(t + 3)/(3*t^2 + 2*t + 3)^3 + 9*(3*t - 1)*(t - 3)/(3*t^2 - 2*t + 3)^3 + 1/96*(6*sqrt(3)*sqrt(2) + 12*sqrt(3) + 54*sqrt(2) + 83)/t^2 - 4*sqrt(3)/((3*t^2 + 2*t + 3)^(3/2)*(t + 1)) - 2*sqrt(3)/((3*t^2 - 2*t + 3)^(3/2)*(t + 1)) - 2*sqrt(3)/((3*t^2 + 2*t + 3)^(3/2)*(t - 1)) - 4*sqrt(3)/((3*t^2 - 2*t + 3)^(3/2)*(t - 1)) - 144*t/((3*t^2 + 2*t + 3)^(3/2)*(3*t^2 - 2*t + 3)^(3/2)) - 1/3/(t + 1)^4 + 1/3/(t - 1)^4"
      ]
     },
     "execution_count": 3,
     "metadata": {},
     "output_type": "execute_result"
    }
   ],
   "source": [
    "p1_t = simplify_local(B1.det());print(bool(p1_t==B1.det())); show(p1_t)\n"
   ]
  },
  {
   "cell_type": "code",
   "execution_count": 4,
   "metadata": {
    "collapsed": false,
    "jupyter": {
     "outputs_hidden": false
    },
    "pycharm": {
     "name": "#%%\n"
    }
   },
   "outputs": [
    {
     "data": {
      "text/html": [
       "<html>\\[\\newcommand{\\Bold}[1]{\\mathbf{#1}}-\\frac{1}{4} \\, {\\left(18 \\, u^{2} - 18 \\, v^{2} + 2 \\, \\sqrt{3} {\\left(u^{2} - v^{2}\\right)} + 9 \\, \\sqrt{2} {\\left(u^{2} - v^{2}\\right)} - \\frac{128 \\, \\sqrt{3}}{u^{2} - v^{2} + 4} - \\frac{128 \\, \\sqrt{3}}{u^{2} - v^{2} - 4} + \\frac{64 \\, {\\left(2 \\, \\sqrt{3} + 9 \\, \\sqrt{2} + 18\\right)}}{{\\left(u^{2} - v^{2}\\right)}^{2}} - \\frac{18 \\, {\\left({\\left(u^{2} - v^{2}\\right)}^{2} + 24 \\, u^{2} - 24 \\, v^{2} + 16\\right)}}{u^{2} {\\left| u \\right|}} + \\frac{18 \\, {\\left({\\left(u^{2} - v^{2}\\right)}^{2} - 24 \\, u^{2} + 24 \\, v^{2} + 16\\right)}}{v^{2} {\\left| v \\right|}}\\right)} c + \\frac{6 \\, \\sqrt{3} \\sqrt{2} + 12 \\, \\sqrt{3} + 54 \\, \\sqrt{2} + 83}{6 \\, {\\left(u^{2} - v^{2}\\right)}^{2}} - \\frac{16 \\, \\sqrt{3}}{{\\left(u^{2} - v^{2} + 4\\right)} u^{2} {\\left| u \\right|}} - \\frac{8 \\, \\sqrt{3}}{{\\left(u^{2} - v^{2} - 4\\right)} u^{2} {\\left| u \\right|}} - \\frac{8 \\, \\sqrt{3}}{{\\left(u^{2} - v^{2} + 4\\right)} v^{2} {\\left| v \\right|}} - \\frac{16 \\, \\sqrt{3}}{{\\left(u^{2} - v^{2} - 4\\right)} v^{2} {\\left| v \\right|}} - \\frac{256}{3 \\, {\\left(u^{2} - v^{2} + 4\\right)}^{4}} + \\frac{256}{3 \\, {\\left(u^{2} - v^{2} - 4\\right)}^{4}} - \\frac{9 \\, {\\left(3 \\, u^{2} - 3 \\, v^{2} + 4\\right)} {\\left(u^{2} - v^{2} + 12\\right)}}{16 \\, u^{6}} + \\frac{9 \\, {\\left(3 \\, u^{2} - 3 \\, v^{2} - 4\\right)} {\\left(u^{2} - v^{2} - 12\\right)}}{16 \\, v^{6}} - \\frac{36 \\, {\\left(u^{2} - v^{2}\\right)}}{u^{2} v^{2} {\\left| u \\right|} {\\left| v \\right|}}\\]</html>"
      ],
      "text/latex": [
       "$$\\newcommand{\\Bold}[1]{\\mathbf{#1}}-\\frac{1}{4} \\, {\\left(18 \\, u^{2} - 18 \\, v^{2} + 2 \\, \\sqrt{3} {\\left(u^{2} - v^{2}\\right)} + 9 \\, \\sqrt{2} {\\left(u^{2} - v^{2}\\right)} - \\frac{128 \\, \\sqrt{3}}{u^{2} - v^{2} + 4} - \\frac{128 \\, \\sqrt{3}}{u^{2} - v^{2} - 4} + \\frac{64 \\, {\\left(2 \\, \\sqrt{3} + 9 \\, \\sqrt{2} + 18\\right)}}{{\\left(u^{2} - v^{2}\\right)}^{2}} - \\frac{18 \\, {\\left({\\left(u^{2} - v^{2}\\right)}^{2} + 24 \\, u^{2} - 24 \\, v^{2} + 16\\right)}}{u^{2} {\\left| u \\right|}} + \\frac{18 \\, {\\left({\\left(u^{2} - v^{2}\\right)}^{2} - 24 \\, u^{2} + 24 \\, v^{2} + 16\\right)}}{v^{2} {\\left| v \\right|}}\\right)} c + \\frac{6 \\, \\sqrt{3} \\sqrt{2} + 12 \\, \\sqrt{3} + 54 \\, \\sqrt{2} + 83}{6 \\, {\\left(u^{2} - v^{2}\\right)}^{2}} - \\frac{16 \\, \\sqrt{3}}{{\\left(u^{2} - v^{2} + 4\\right)} u^{2} {\\left| u \\right|}} - \\frac{8 \\, \\sqrt{3}}{{\\left(u^{2} - v^{2} - 4\\right)} u^{2} {\\left| u \\right|}} - \\frac{8 \\, \\sqrt{3}}{{\\left(u^{2} - v^{2} + 4\\right)} v^{2} {\\left| v \\right|}} - \\frac{16 \\, \\sqrt{3}}{{\\left(u^{2} - v^{2} - 4\\right)} v^{2} {\\left| v \\right|}} - \\frac{256}{3 \\, {\\left(u^{2} - v^{2} + 4\\right)}^{4}} + \\frac{256}{3 \\, {\\left(u^{2} - v^{2} - 4\\right)}^{4}} - \\frac{9 \\, {\\left(3 \\, u^{2} - 3 \\, v^{2} + 4\\right)} {\\left(u^{2} - v^{2} + 12\\right)}}{16 \\, u^{6}} + \\frac{9 \\, {\\left(3 \\, u^{2} - 3 \\, v^{2} - 4\\right)} {\\left(u^{2} - v^{2} - 12\\right)}}{16 \\, v^{6}} - \\frac{36 \\, {\\left(u^{2} - v^{2}\\right)}}{u^{2} v^{2} {\\left| u \\right|} {\\left| v \\right|}}$$"
      ],
      "text/plain": [
       "-1/4*(18*u^2 - 18*v^2 + 2*sqrt(3)*(u^2 - v^2) + 9*sqrt(2)*(u^2 - v^2) - 128*sqrt(3)/(u^2 - v^2 + 4) - 128*sqrt(3)/(u^2 - v^2 - 4) + 64*(2*sqrt(3) + 9*sqrt(2) + 18)/(u^2 - v^2)^2 - 18*((u^2 - v^2)^2 + 24*u^2 - 24*v^2 + 16)/(u^2*abs(u)) + 18*((u^2 - v^2)^2 - 24*u^2 + 24*v^2 + 16)/(v^2*abs(v)))*c + 1/6*(6*sqrt(3)*sqrt(2) + 12*sqrt(3) + 54*sqrt(2) + 83)/(u^2 - v^2)^2 - 16*sqrt(3)/((u^2 - v^2 + 4)*u^2*abs(u)) - 8*sqrt(3)/((u^2 - v^2 - 4)*u^2*abs(u)) - 8*sqrt(3)/((u^2 - v^2 + 4)*v^2*abs(v)) - 16*sqrt(3)/((u^2 - v^2 - 4)*v^2*abs(v)) - 256/3/(u^2 - v^2 + 4)^4 + 256/3/(u^2 - v^2 - 4)^4 - 9/16*(3*u^2 - 3*v^2 + 4)*(u^2 - v^2 + 12)/u^6 + 9/16*(3*u^2 - 3*v^2 - 4)*(u^2 - v^2 - 12)/v^6 - 36*(u^2 - v^2)/(u^2*v^2*abs(u)*abs(v))"
      ]
     },
     "execution_count": 4,
     "metadata": {},
     "output_type": "execute_result"
    }
   ],
   "source": [
    "u,v=var('u v')\n",
    "# Det(B1) antes depois do levantamento\n",
    "p1t_u_v = p1_t.subs({(3*t^2 - 2*t + 3):v^2}).subs({(3*t^2 + 2*t + 3):u^2}).subs(t=(u^2-v^2)/4).simplify_real().combine(); show(p1t_u_v) # substituindo "
   ]
  },
  {
   "cell_type": "markdown",
   "metadata": {
    "collapsed": false,
    "jupyter": {
     "outputs_hidden": false
    },
    "pycharm": {
     "name": "#%% md\n"
    }
   },
   "source": [
    "1. Vamos mostrar que  $\\alpha_1(t)$ <0 em $t\\in (0,1)$."
   ]
  },
  {
   "cell_type": "code",
   "execution_count": 5,
   "metadata": {
    "collapsed": false,
    "jupyter": {
     "outputs_hidden": false
    },
    "pycharm": {
     "name": "#%%\n"
    }
   },
   "outputs": [
    {
     "data": {
      "text/html": [
       "<html>\\[\\newcommand{\\Bold}[1]{\\mathbf{#1}}-2 \\, \\sqrt{3} t - 9 \\, \\sqrt{2} t - 18 \\, t + \\frac{72 \\, {\\left(t^{2} + 6 \\, t + 1\\right)}}{{\\left(3 \\, t^{2} + 2 \\, t + 3\\right)}^{\\frac{3}{2}}} - \\frac{72 \\, {\\left(t^{2} - 6 \\, t + 1\\right)}}{{\\left(3 \\, t^{2} - 2 \\, t + 3\\right)}^{\\frac{3}{2}}} + \\frac{8 \\, \\sqrt{3}}{t + 1} + \\frac{8 \\, \\sqrt{3}}{t - 1} - \\frac{2 \\, \\sqrt{3} + 9 \\, \\sqrt{2} + 18}{t^{2}}\\]</html>"
      ],
      "text/latex": [
       "$$\\newcommand{\\Bold}[1]{\\mathbf{#1}}-2 \\, \\sqrt{3} t - 9 \\, \\sqrt{2} t - 18 \\, t + \\frac{72 \\, {\\left(t^{2} + 6 \\, t + 1\\right)}}{{\\left(3 \\, t^{2} + 2 \\, t + 3\\right)}^{\\frac{3}{2}}} - \\frac{72 \\, {\\left(t^{2} - 6 \\, t + 1\\right)}}{{\\left(3 \\, t^{2} - 2 \\, t + 3\\right)}^{\\frac{3}{2}}} + \\frac{8 \\, \\sqrt{3}}{t + 1} + \\frac{8 \\, \\sqrt{3}}{t - 1} - \\frac{2 \\, \\sqrt{3} + 9 \\, \\sqrt{2} + 18}{t^{2}}$$"
      ],
      "text/plain": [
       "-2*sqrt(3)*t - 9*sqrt(2)*t - 18*t + 72*(t^2 + 6*t + 1)/(3*t^2 + 2*t + 3)^(3/2) - 72*(t^2 - 6*t + 1)/(3*t^2 - 2*t + 3)^(3/2) + 8*sqrt(3)/(t + 1) + 8*sqrt(3)/(t - 1) - (2*sqrt(3) + 9*sqrt(2) + 18)/t^2"
      ]
     },
     "execution_count": 5,
     "metadata": {},
     "output_type": "execute_result"
    }
   ],
   "source": [
    "α0 = p1_t.coefficients()[0][0]\n",
    "α1 = p1_t.coefficients()[1][0]\n",
    "#latex(α0);\n",
    "show(α1)"
   ]
  },
  {
   "cell_type": "markdown",
   "metadata": {
    "collapsed": false,
    "jupyter": {
     "outputs_hidden": false
    },
    "pycharm": {
     "name": "#%% md\n"
    }
   },
   "source": [
    "_**O gráfico de**_ $\\alpha_1$_:_\n"
   ]
  },
  {
   "cell_type": "code",
   "execution_count": 6,
   "metadata": {
    "collapsed": false,
    "jupyter": {
     "outputs_hidden": false
    },
    "pycharm": {
     "name": "#%%\n"
    }
   },
   "outputs": [
    {
     "data": {
      "image/png": "[encoded data removed]",
      "text/plain": [
       "Graphics object consisting of 1 graphics primitive"
      ]
     },
     "execution_count": 6,
     "metadata": {},
     "output_type": "execute_result"
    }
   ],
   "source": [
    " plot(α1,(x,0.1, 0.99), ymin=-300, legend_label=r'$\\alpha_1$', color='red')"
   ]
  },
  {
   "cell_type": "markdown",
   "metadata": {
    "collapsed": false,
    "jupyter": {
     "outputs_hidden": false
    },
    "pycharm": {
     "name": "#%% md\n"
    }
   },
   "source": [
    "Usando limites\n"
   ]
  },
  {
   "cell_type": "code",
   "execution_count": 7,
   "metadata": {
    "collapsed": false,
    "jupyter": {
     "outputs_hidden": false
    },
    "pycharm": {
     "name": "#%%\n"
    }
   },
   "outputs": [
    {
     "data": {
      "text/plain": [
       "(-Infinity, -Infinity)"
      ]
     },
     "execution_count": 7,
     "metadata": {},
     "output_type": "execute_result"
    }
   ],
   "source": [
    "limit(α1, t=0, dir='+'), limit(α1, t=1, dir='-') # negativos nos extremos"
   ]
  },
  {
   "cell_type": "markdown",
   "metadata": {
    "collapsed": false,
    "jupyter": {
     "outputs_hidden": false
    },
    "pycharm": {
     "name": "#%% md\n"
    }
   },
   "source": [
    "##### Substituindo a expressão $3t^2 - 2t + 3$ por $v^2$,   $3t^2 +2t + 3$ por $u^2$ e $t $ por  $u^2-v^2$\n",
    "\n"
   ]
  },
  {
   "cell_type": "code",
   "execution_count": 8,
   "metadata": {
    "collapsed": false,
    "jupyter": {
     "outputs_hidden": false
    },
    "pycharm": {
     "name": "#%%\n"
    }
   },
   "outputs": [],
   "source": [
    "u, v = var('u, v')\n",
    "var('t')\n",
    "assume(u>0)\n",
    "assume(v>0)"
   ]
  },
  {
   "cell_type": "code",
   "execution_count": 9,
   "metadata": {
    "collapsed": false,
    "jupyter": {
     "outputs_hidden": false
    },
    "pycharm": {
     "name": "#%%\n"
    }
   },
   "outputs": [
    {
     "data": {
      "text/html": [
       "<html>\\[\\newcommand{\\Bold}[1]{\\mathbf{#1}}-2 \\, \\sqrt{3} u^{13} v^{3} - 9 \\, \\sqrt{2} u^{13} v^{3} + 10 \\, \\sqrt{3} u^{11} v^{5} + 45 \\, \\sqrt{2} u^{11} v^{5} - 20 \\, \\sqrt{3} u^{9} v^{7} - 90 \\, \\sqrt{2} u^{9} v^{7} + 20 \\, \\sqrt{3} u^{7} v^{9} + 90 \\, \\sqrt{2} u^{7} v^{9} - 10 \\, \\sqrt{3} u^{5} v^{11} - 45 \\, \\sqrt{2} u^{5} v^{11} + 2 \\, \\sqrt{3} u^{3} v^{13} + 9 \\, \\sqrt{2} u^{3} v^{13} - 18 \\, u^{13} v^{3} + 90 \\, u^{11} v^{5} - 180 \\, u^{9} v^{7} + 180 \\, u^{7} v^{9} - 90 \\, u^{5} v^{11} + 18 \\, u^{3} v^{13} - 18 \\, u^{15} + 108 \\, u^{13} v^{2} + 18 \\, u^{12} v^{3} - 270 \\, u^{11} v^{4} - 108 \\, u^{10} v^{5} + 360 \\, u^{9} v^{6} + 270 \\, u^{8} v^{7} - 270 \\, u^{7} v^{8} - 360 \\, u^{6} v^{9} + 108 \\, u^{5} v^{10} + 270 \\, u^{4} v^{11} - 18 \\, u^{3} v^{12} - 108 \\, u^{2} v^{13} + 18 \\, v^{15} + 432 \\, u^{13} - 2160 \\, u^{11} v^{2} + 432 \\, u^{10} v^{3} + 4320 \\, u^{9} v^{4} - 2160 \\, u^{8} v^{5} - 4320 \\, u^{7} v^{6} + 4320 \\, u^{6} v^{7} + 2160 \\, u^{5} v^{8} - 4320 \\, u^{4} v^{9} - 432 \\, u^{3} v^{10} + 2160 \\, u^{2} v^{11} - 432 \\, v^{13} + 288 \\, \\sqrt{3} u^{9} v^{3} + 144 \\, \\sqrt{2} u^{9} v^{3} - 864 \\, \\sqrt{3} u^{7} v^{5} - 432 \\, \\sqrt{2} u^{7} v^{5} + 864 \\, \\sqrt{3} u^{5} v^{7} + 432 \\, \\sqrt{2} u^{5} v^{7} - 288 \\, \\sqrt{3} u^{3} v^{9} - 144 \\, \\sqrt{2} u^{3} v^{9} + 288 \\, u^{9} v^{3} - 864 \\, u^{7} v^{5} + 864 \\, u^{5} v^{7} - 288 \\, u^{3} v^{9} - 128 \\, \\sqrt{3} u^{7} v^{3} - 576 \\, \\sqrt{2} u^{7} v^{3} + 256 \\, \\sqrt{3} u^{5} v^{5} + 1152 \\, \\sqrt{2} u^{5} v^{5} - 128 \\, \\sqrt{3} u^{3} v^{7} - 576 \\, \\sqrt{2} u^{3} v^{7} - 1152 \\, u^{7} v^{3} + 2304 \\, u^{5} v^{5} - 1152 \\, u^{3} v^{7} - 6912 \\, u^{9} + 20736 \\, u^{7} v^{2} - 6912 \\, u^{6} v^{3} - 20736 \\, u^{5} v^{4} + 20736 \\, u^{4} v^{5} + 6912 \\, u^{3} v^{6} - 20736 \\, u^{2} v^{7} + 6912 \\, v^{9} + 4608 \\, u^{7} - 9216 \\, u^{5} v^{2} - 4608 \\, u^{4} v^{3} + 4608 \\, u^{3} v^{4} + 9216 \\, u^{2} v^{5} - 4608 \\, v^{7} + 2048 \\, \\sqrt{3} u^{3} v^{3} + 9216 \\, \\sqrt{2} u^{3} v^{3} + 18432 \\, u^{3} v^{3}\\]</html>"
      ],
      "text/latex": [
       "$$\\newcommand{\\Bold}[1]{\\mathbf{#1}}-2 \\, \\sqrt{3} u^{13} v^{3} - 9 \\, \\sqrt{2} u^{13} v^{3} + 10 \\, \\sqrt{3} u^{11} v^{5} + 45 \\, \\sqrt{2} u^{11} v^{5} - 20 \\, \\sqrt{3} u^{9} v^{7} - 90 \\, \\sqrt{2} u^{9} v^{7} + 20 \\, \\sqrt{3} u^{7} v^{9} + 90 \\, \\sqrt{2} u^{7} v^{9} - 10 \\, \\sqrt{3} u^{5} v^{11} - 45 \\, \\sqrt{2} u^{5} v^{11} + 2 \\, \\sqrt{3} u^{3} v^{13} + 9 \\, \\sqrt{2} u^{3} v^{13} - 18 \\, u^{13} v^{3} + 90 \\, u^{11} v^{5} - 180 \\, u^{9} v^{7} + 180 \\, u^{7} v^{9} - 90 \\, u^{5} v^{11} + 18 \\, u^{3} v^{13} - 18 \\, u^{15} + 108 \\, u^{13} v^{2} + 18 \\, u^{12} v^{3} - 270 \\, u^{11} v^{4} - 108 \\, u^{10} v^{5} + 360 \\, u^{9} v^{6} + 270 \\, u^{8} v^{7} - 270 \\, u^{7} v^{8} - 360 \\, u^{6} v^{9} + 108 \\, u^{5} v^{10} + 270 \\, u^{4} v^{11} - 18 \\, u^{3} v^{12} - 108 \\, u^{2} v^{13} + 18 \\, v^{15} + 432 \\, u^{13} - 2160 \\, u^{11} v^{2} + 432 \\, u^{10} v^{3} + 4320 \\, u^{9} v^{4} - 2160 \\, u^{8} v^{5} - 4320 \\, u^{7} v^{6} + 4320 \\, u^{6} v^{7} + 2160 \\, u^{5} v^{8} - 4320 \\, u^{4} v^{9} - 432 \\, u^{3} v^{10} + 2160 \\, u^{2} v^{11} - 432 \\, v^{13} + 288 \\, \\sqrt{3} u^{9} v^{3} + 144 \\, \\sqrt{2} u^{9} v^{3} - 864 \\, \\sqrt{3} u^{7} v^{5} - 432 \\, \\sqrt{2} u^{7} v^{5} + 864 \\, \\sqrt{3} u^{5} v^{7} + 432 \\, \\sqrt{2} u^{5} v^{7} - 288 \\, \\sqrt{3} u^{3} v^{9} - 144 \\, \\sqrt{2} u^{3} v^{9} + 288 \\, u^{9} v^{3} - 864 \\, u^{7} v^{5} + 864 \\, u^{5} v^{7} - 288 \\, u^{3} v^{9} - 128 \\, \\sqrt{3} u^{7} v^{3} - 576 \\, \\sqrt{2} u^{7} v^{3} + 256 \\, \\sqrt{3} u^{5} v^{5} + 1152 \\, \\sqrt{2} u^{5} v^{5} - 128 \\, \\sqrt{3} u^{3} v^{7} - 576 \\, \\sqrt{2} u^{3} v^{7} - 1152 \\, u^{7} v^{3} + 2304 \\, u^{5} v^{5} - 1152 \\, u^{3} v^{7} - 6912 \\, u^{9} + 20736 \\, u^{7} v^{2} - 6912 \\, u^{6} v^{3} - 20736 \\, u^{5} v^{4} + 20736 \\, u^{4} v^{5} + 6912 \\, u^{3} v^{6} - 20736 \\, u^{2} v^{7} + 6912 \\, v^{9} + 4608 \\, u^{7} - 9216 \\, u^{5} v^{2} - 4608 \\, u^{4} v^{3} + 4608 \\, u^{3} v^{4} + 9216 \\, u^{2} v^{5} - 4608 \\, v^{7} + 2048 \\, \\sqrt{3} u^{3} v^{3} + 9216 \\, \\sqrt{2} u^{3} v^{3} + 18432 \\, u^{3} v^{3}$$"
      ],
      "text/plain": [
       "-2*sqrt(3)*u^13*v^3 - 9*sqrt(2)*u^13*v^3 + 10*sqrt(3)*u^11*v^5 + 45*sqrt(2)*u^11*v^5 - 20*sqrt(3)*u^9*v^7 - 90*sqrt(2)*u^9*v^7 + 20*sqrt(3)*u^7*v^9 + 90*sqrt(2)*u^7*v^9 - 10*sqrt(3)*u^5*v^11 - 45*sqrt(2)*u^5*v^11 + 2*sqrt(3)*u^3*v^13 + 9*sqrt(2)*u^3*v^13 - 18*u^13*v^3 + 90*u^11*v^5 - 180*u^9*v^7 + 180*u^7*v^9 - 90*u^5*v^11 + 18*u^3*v^13 - 18*u^15 + 108*u^13*v^2 + 18*u^12*v^3 - 270*u^11*v^4 - 108*u^10*v^5 + 360*u^9*v^6 + 270*u^8*v^7 - 270*u^7*v^8 - 360*u^6*v^9 + 108*u^5*v^10 + 270*u^4*v^11 - 18*u^3*v^12 - 108*u^2*v^13 + 18*v^15 + 432*u^13 - 2160*u^11*v^2 + 432*u^10*v^3 + 4320*u^9*v^4 - 2160*u^8*v^5 - 4320*u^7*v^6 + 4320*u^6*v^7 + 2160*u^5*v^8 - 4320*u^4*v^9 - 432*u^3*v^10 + 2160*u^2*v^11 - 432*v^13 + 288*sqrt(3)*u^9*v^3 + 144*sqrt(2)*u^9*v^3 - 864*sqrt(3)*u^7*v^5 - 432*sqrt(2)*u^7*v^5 + 864*sqrt(3)*u^5*v^7 + 432*sqrt(2)*u^5*v^7 - 288*sqrt(3)*u^3*v^9 - 144*sqrt(2)*u^3*v^9 + 288*u^9*v^3 - 864*u^7*v^5 + 864*u^5*v^7 - 288*u^3*v^9 - 128*sqrt(3)*u^7*v^3 - 576*sqrt(2)*u^7*v^3 + 256*sqrt(3)*u^5*v^5 + 1152*sqrt(2)*u^5*v^5 - 128*sqrt(3)*u^3*v^7 - 576*sqrt(2)*u^3*v^7 - 1152*u^7*v^3 + 2304*u^5*v^5 - 1152*u^3*v^7 - 6912*u^9 + 20736*u^7*v^2 - 6912*u^6*v^3 - 20736*u^5*v^4 + 20736*u^4*v^5 + 6912*u^3*v^6 - 20736*u^2*v^7 + 6912*v^9 + 4608*u^7 - 9216*u^5*v^2 - 4608*u^4*v^3 + 4608*u^3*v^4 + 9216*u^2*v^5 - 4608*v^7 + 2048*sqrt(3)*u^3*v^3 + 9216*sqrt(2)*u^3*v^3 + 18432*u^3*v^3"
      ]
     },
     "execution_count": 9,
     "metadata": {},
     "output_type": "execute_result"
    }
   ],
   "source": [
    "##Substituicao do Lemma 4 do Artigo\n",
    "α11_u_v = α1.subs({(3*t^2 - 2*t + 3):v^2}).subs({(3*t^2 + 2*t + 3):u^2}).subs(t=(u^2-v^2)/4).factor().numerator(); show(α11_u_v) # substituindo "
   ]
  },
  {
   "cell_type": "code",
   "execution_count": 10,
   "metadata": {
    "collapsed": false,
    "jupyter": {
     "outputs_hidden": false
    },
    "pycharm": {
     "name": "#%%\n"
    }
   },
   "outputs": [
    {
     "data": {
      "text/plain": [
       "(sqrt(3), 2*sqrt(2), 2*sqrt(2/3), 2)"
      ]
     },
     "execution_count": 10,
     "metadata": {},
     "output_type": "execute_result"
    }
   ],
   "source": [
    "#Resolve 3*t^2 + 2*t + 3=u^2 em relação a u\n",
    "sol_u = solve(u**2 == 3*t^2 + 2*t + 3, u)[0].rhs() \n",
    "\n",
    "#Resolve 3*t^2 - 2*t + 3=v^2 em relação a v\n",
    "sol_v = solve(v**2 == 3*t^2 - 2*t + 3, v)[0].rhs()\n",
    "\n",
    "# obtem os valores de u para t=0 e t=1\n",
    "u0 = sol_u(t=0)\n",
    "u1 = sol_u(t=1)\n",
    "\n",
    "# obtem os valores de v para t=1/3 e t=1\n",
    "v0 = sol_v(t=1/3)\n",
    "v1 = sol_v(t=1)\n",
    "\n",
    "u0, u1, v0, v1"
   ]
  },
  {
   "cell_type": "code",
   "execution_count": 11,
   "metadata": {
    "collapsed": false,
    "jupyter": {
     "outputs_hidden": false
    },
    "pycharm": {
     "name": "#%%\n"
    }
   },
   "outputs": [
    {
     "data": {
      "text/html": [
       "<html>\\[\\newcommand{\\Bold}[1]{\\mathbf{#1}}\\frac{3955952}{27} \\, \\sqrt{3} \\sqrt{2} \\sqrt{\\frac{2}{3}} + \\frac{7911904}{27} \\, \\sqrt{3} \\sqrt{\\frac{2}{3}} + \\frac{20878}{27} \\, \\sqrt{3} + \\frac{22853312}{243} \\, \\sqrt{\\frac{2}{3}}\\]</html>"
      ],
      "text/latex": [
       "$$\\newcommand{\\Bold}[1]{\\mathbf{#1}}\\frac{3955952}{27} \\, \\sqrt{3} \\sqrt{2} \\sqrt{\\frac{2}{3}} + \\frac{7911904}{27} \\, \\sqrt{3} \\sqrt{\\frac{2}{3}} + \\frac{20878}{27} \\, \\sqrt{3} + \\frac{22853312}{243} \\, \\sqrt{\\frac{2}{3}}$$"
      ],
      "text/plain": [
       "3955952/27*sqrt(3)*sqrt(2)*sqrt(2/3) + 7911904/27*sqrt(3)*sqrt(2/3) + 20878/27*sqrt(3) + 22853312/243*sqrt(2/3)"
      ]
     },
     "execution_count": 11,
     "metadata": {},
     "output_type": "execute_result"
    },
    {
     "data": {
      "text/html": [
       "<html>\\[\\newcommand{\\Bold}[1]{\\mathbf{#1}}2097152 \\, \\sqrt{3} \\sqrt{2}\\]</html>"
      ],
      "text/latex": [
       "$$\\newcommand{\\Bold}[1]{\\mathbf{#1}}2097152 \\, \\sqrt{3} \\sqrt{2}$$"
      ],
      "text/plain": [
       "2097152*sqrt(3)*sqrt(2)"
      ]
     },
     "execution_count": 11,
     "metadata": {},
     "output_type": "execute_result"
    }
   ],
   "source": [
    "teste_t0=α11_u_v.subs(u=u0, v=v0);\n",
    "teste_t1=α11_u_v.subs(u=u1, v=v1);\n",
    "show(teste_t0)\n",
    "show(teste_t1)\n",
    "#α11_u_v_real_numerator()=α11_u_v\n",
    "#α11_u_v_real_denominator()"
   ]
  },
  {
   "cell_type": "code",
   "execution_count": 12,
   "metadata": {
    "collapsed": false,
    "jupyter": {
     "outputs_hidden": false
    },
    "pycharm": {
     "name": "#%%\n"
    }
   },
   "outputs": [],
   "source": [
    "new_poly_u_v = subs_mobius_2d_uv(α11_u_v, u0, u1, v0, v1)\n"
   ]
  },
  {
   "cell_type": "code",
   "execution_count": 13,
   "metadata": {
    "collapsed": false,
    "jupyter": {
     "outputs_hidden": false
    },
    "pycharm": {
     "name": "#%%\n"
    },
    "scrolled": true
   },
   "outputs": [
    {
     "data": {
      "text/plain": [
       "False"
      ]
     },
     "execution_count": 13,
     "metadata": {},
     "output_type": "execute_result"
    }
   ],
   "source": [
    "has_signal_variations_u_v(new_poly_u_v)"
   ]
  },
  {
   "cell_type": "markdown",
   "metadata": {
    "collapsed": false,
    "jupyter": {
     "outputs_hidden": false
    },
    "pycharm": {
     "name": "#%% md\n"
    }
   },
   "source": [
    "#### Provar Lema 1\n",
    "2. Provar que $c(t) = -\\dfrac{\\alpha_0(t)}{\\alpha_1(t)}>0$ em $(0,1)$.\n",
    "- Vamos provar que $\\alpha_0(t)>0$ já que  $\\alpha_1(t)<0$ (ver item anterior)"
   ]
  },
  {
   "cell_type": "markdown",
   "metadata": {
    "collapsed": false,
    "jupyter": {
     "outputs_hidden": false
    },
    "pycharm": {
     "name": "#%% md\n"
    }
   },
   "source": [
    "O gráfico de $\\alpha_0$"
   ]
  },
  {
   "cell_type": "code",
   "execution_count": 14,
   "metadata": {
    "collapsed": false,
    "jupyter": {
     "outputs_hidden": false
    },
    "pycharm": {
     "name": "#%%\n"
    }
   },
   "outputs": [
    {
     "data": {
      "image/png": "[encoded data removed]",
      "text/plain": [
       "Graphics object consisting of 1 graphics primitive"
      ]
     },
     "execution_count": 14,
     "metadata": {},
     "output_type": "execute_result"
    }
   ],
   "source": [
    "plot(α0,(x,0.1, 0.99),ymin=0, ymax=30, legend_label=r'$\\alpha_0$', color='blue')"
   ]
  },
  {
   "cell_type": "markdown",
   "metadata": {
    "collapsed": false,
    "jupyter": {
     "outputs_hidden": false
    },
    "pycharm": {
     "name": "#%% md\n"
    }
   },
   "source": [
    "Calculando os limites"
   ]
  },
  {
   "cell_type": "code",
   "execution_count": 15,
   "metadata": {
    "collapsed": false,
    "jupyter": {
     "outputs_hidden": false
    },
    "pycharm": {
     "name": "#%%\n"
    }
   },
   "outputs": [
    {
     "data": {
      "text/plain": [
       "(+Infinity, +Infinity)"
      ]
     },
     "execution_count": 15,
     "metadata": {},
     "output_type": "execute_result"
    }
   ],
   "source": [
    "limit(α0, t=0, dir='+'), limit(α0, t=1, dir='-') # negativos nos extremos"
   ]
  },
  {
   "cell_type": "code",
   "execution_count": 16,
   "metadata": {
    "collapsed": false,
    "jupyter": {
     "outputs_hidden": false
    },
    "pycharm": {
     "name": "#%%\n"
    }
   },
   "outputs": [],
   "source": [
    "#Lema 4 do Artigo\n",
    "α10_u_v = α0.subs({(3*t^2 - 2*t + 3):v^2}).subs({(3*t^2 + 2*t + 3):u^2}).subs(t=(u^2-v^2)/4).factor().numerator(); #show(α10_u_v)"
   ]
  },
  {
   "cell_type": "code",
   "execution_count": 17,
   "metadata": {
    "collapsed": false,
    "jupyter": {
     "outputs_hidden": false
    },
    "pycharm": {
     "name": "#%%\n"
    }
   },
   "outputs": [],
   "source": [
    "def has_signal_variations_u_v_correted_optimize(poly):\n",
    "    \"\"\"Verifica se o polinomio nas variaveis u e v tem variacoes de sinais\"\"\"\n",
    "    \n",
    "    coeffs_v = poly.coefficients(v);\n",
    "    coeffs_u_and_grades = [x[0].coefficients(u) for x in coeffs_v];\n",
    "    coeffs = [item[0] for items in coeffs_u_and_grades for item in items];\n",
    "    for j in range(1, len(coeffs)):\n",
    "        if sign(coeffs[j-1])*sign(coeffs[j])<0:\n",
    "            return True\n",
    "\n",
    "    return False"
   ]
  },
  {
   "cell_type": "code",
   "execution_count": 23,
   "metadata": {
    "collapsed": false,
    "jupyter": {
     "outputs_hidden": false
    },
    "pycharm": {
     "name": "#%%\n"
    }
   },
   "outputs": [
    {
     "name": "stdout",
     "output_type": "stream",
     "text": [
      "sqrt(3) 2*sqrt(2) 2*sqrt(2/3) 2\n",
      "1.73205080756888 2.82842712474619 1.63299316185545 2.00000000000000\n",
      "1 3 1 2\n"
     ]
    }
   ],
   "source": [
    "#Caixa original\n",
    "print(u0, u1, v0, v1)\n",
    "print(n(u0),n(u1),n(v0),n(v1))\n",
    "#Caixa Maior com entradas inteiras cobrindo a outra\n",
    "print(floor(u0),floor(u1)+1,floor(v0),v1)\n"
   ]
  },
  {
   "cell_type": "code",
   "execution_count": 36,
   "metadata": {
    "collapsed": false,
    "jupyter": {
     "outputs_hidden": false
    },
    "pycharm": {
     "name": "#%%\n"
    }
   },
   "outputs": [],
   "source": [
    "U0=0#QQ(17/10);\n",
    "U1=u1#QQ(29/100);\n",
    "V0=0#QQ(16/10);\n",
    "V1=QQ(2)"
   ]
  },
  {
   "cell_type": "code",
   "execution_count": 37,
   "metadata": {
    "collapsed": false,
    "jupyter": {
     "outputs_hidden": false
    },
    "pycharm": {
     "name": "#%%\n"
    }
   },
   "outputs": [
    {
     "ename": "KeyboardInterrupt",
     "evalue": "",
     "output_type": "error",
     "traceback": [
      "\u001B[0;31m---------------------------------------------------------------------------\u001B[0m",
      "\u001B[0;31mKeyboardInterrupt\u001B[0m                         Traceback (most recent call last)",
      "\u001B[0;32m<timed exec>\u001B[0m in \u001B[0;36m<module>\u001B[0;34m\u001B[0m\n",
      "\u001B[0;32m<string>\u001B[0m in \u001B[0;36msubs_mobius_2d_uv\u001B[0;34m(poly, a, b, c, d)\u001B[0m\n",
      "\u001B[0;32m/ext/sage/9.4/local/lib/python3.9/site-packages/sage/symbolic/expression.pyx\u001B[0m in \u001B[0;36msage.symbolic.expression.Expression.numerator (build/cythonized/sage/symbolic/expression.cpp:50613)\u001B[0;34m()\u001B[0m\n\u001B[1;32m   9723\u001B[0m         \u001B[0mcdef\u001B[0m \u001B[0mGEx\u001B[0m \u001B[0moper\u001B[0m\u001B[0;34m,\u001B[0m \u001B[0mpower\u001B[0m\u001B[0;34m,\u001B[0m \u001B[0mex\u001B[0m\u001B[0;34m\u001B[0m\u001B[0;34m\u001B[0m\u001B[0m\n\u001B[1;32m   9724\u001B[0m         \u001B[0;32mif\u001B[0m \u001B[0mnormalize\u001B[0m\u001B[0;34m:\u001B[0m\u001B[0;34m\u001B[0m\u001B[0;34m\u001B[0m\u001B[0m\n\u001B[0;32m-> 9725\u001B[0;31m             \u001B[0msig_on\u001B[0m\u001B[0;34m(\u001B[0m\u001B[0;34m)\u001B[0m\u001B[0;34m\u001B[0m\u001B[0;34m\u001B[0m\u001B[0m\n\u001B[0m\u001B[1;32m   9726\u001B[0m             \u001B[0;32mtry\u001B[0m\u001B[0;34m:\u001B[0m\u001B[0;34m\u001B[0m\u001B[0;34m\u001B[0m\u001B[0m\n\u001B[1;32m   9727\u001B[0m                 \u001B[0mex\u001B[0m \u001B[0;34m=\u001B[0m \u001B[0mself\u001B[0m\u001B[0;34m.\u001B[0m\u001B[0m_gobj\u001B[0m\u001B[0;34m.\u001B[0m\u001B[0mnumer\u001B[0m\u001B[0;34m(\u001B[0m\u001B[0;34m)\u001B[0m\u001B[0;34m\u001B[0m\u001B[0;34m\u001B[0m\u001B[0m\n",
      "\u001B[0;31mKeyboardInterrupt\u001B[0m: "
     ]
    }
   ],
   "source": [
    "time new_poly_u_v_α10 = subs_mobius_2d_uv(α10_u_v, u0, u1, v0, v1); #new_poly_u_v_α10 "
   ]
  },
  {
   "cell_type": "code",
   "execution_count": 38,
   "metadata": {
    "collapsed": false,
    "jupyter": {
     "outputs_hidden": false
    },
    "pycharm": {
     "name": "#%%\n"
    }
   },
   "outputs": [
    {
     "name": "stdout",
     "output_type": "stream",
     "text": [
      "CPU times: user 2.08 s, sys: 23.6 ms, total: 2.11 s\n",
      "Wall time: 2.23 s\n"
     ]
    }
   ],
   "source": [
    "%time new_poly_u_v_α100 = subs_mobius_2d_uv(α10_u_v, U0, U1, V0, V1); #new_poly_u_v_α10 "
   ]
  },
  {
   "cell_type": "code",
   "execution_count": 32,
   "metadata": {
    "collapsed": false,
    "jupyter": {
     "outputs_hidden": false
    },
    "pycharm": {
     "name": "#%%\n"
    }
   },
   "outputs": [],
   "source": [
    "def has_signal_variations_u_v(poly):\n",
    "    \"\"\"Verifica se o polinomio nas variaveis x e y tem variacoes de sinais\"\"\"\n",
    "    coeffs_v = poly.coefficients(v);\n",
    "    \n",
    "    for i in range(len(coeffs_v)):\n",
    "        coeffs_u=coeffs_v[i][0].coefficients(u)\n",
    "        \n",
    "        for j in range(len(coeffs_u)):\n",
    "            if bool(coeffs_u[j-1][0]*coeffs_u[j][0]<0):\n",
    "                return True\n",
    "\n",
    "    return False\n",
    "\n",
    "def has_signal_variations_u_v_correted_optimize_gpt(poly):\n",
    "    \"\"\"Verifica se o polinomio nas variaveis u e v tem variacoes de sinais\"\"\"\n",
    "   \n",
    "    coeffs_v = poly.coefficients(v)\n",
    "   \n",
    "    coeffs_u_and_grades = [x[0].coefficients(u) for x in coeffs_v]\n",
    "   \n",
    "    coeffs = [item[0] for items in coeffs_u_and_grades for item in items]\n",
    "    \n",
    "    \n",
    "    sinais = [sign(RR(coef)) for coef in coeffs]\n",
    "    \n",
    "   \n",
    "    mudancas = sum([1 for i in range(1, len(sinais)) if sinais[i] != sinais[i-1]])\n",
    "    print(mudancas)\n",
    "    \n",
    "    if mudancas!=0:\n",
    "        return True\n",
    "    else:    \n",
    "        return False"
   ]
  },
  {
   "cell_type": "code",
   "execution_count": null,
   "metadata": {
    "collapsed": false,
    "jupyter": {
     "outputs_hidden": false
    },
    "pycharm": {
     "name": "#%%\n"
    }
   },
   "outputs": [],
   "source": [
    "#%time  has_signal_variations_u_v_correted_optimize_gpt(new_poly_u_v_α10)"
   ]
  },
  {
   "cell_type": "code",
   "execution_count": null,
   "metadata": {
    "collapsed": false,
    "jupyter": {
     "outputs_hidden": false
    },
    "pycharm": {
     "name": "#%%\n"
    }
   },
   "outputs": [],
   "source": [
    "#%time has_signal_variations_u_v_correted_optimize_gpt(new_poly_u_v_α100)"
   ]
  },
  {
   "cell_type": "code",
   "execution_count": null,
   "metadata": {
    "collapsed": false,
    "jupyter": {
     "outputs_hidden": false
    },
    "pycharm": {
     "name": "#%%\n"
    }
   },
   "outputs": [],
   "source": [
    "#%time  has_signal_variations_u_v_correted_optimize_gpt(new_poly_u_v_α100)"
   ]
  },
  {
   "cell_type": "code",
   "execution_count": null,
   "metadata": {
    "collapsed": false,
    "jupyter": {
     "outputs_hidden": false
    },
    "pycharm": {
     "name": "#%%\n"
    }
   },
   "outputs": [],
   "source": [
    "%time has_signal_variations_u_v_correted_optimize(new_poly_u_v_α100)"
   ]
  },
  {
   "cell_type": "code",
   "execution_count": null,
   "metadata": {
    "collapsed": false,
    "jupyter": {
     "outputs_hidden": false
    },
    "pycharm": {
     "name": "#%%\n"
    }
   },
   "outputs": [],
   "source": [
    "new_poly_u_v_α100"
   ]
  },
  {
   "cell_type": "code",
   "execution_count": null,
   "metadata": {
    "collapsed": false,
    "jupyter": {
     "outputs_hidden": false
    },
    "pycharm": {
     "name": "#%%\n"
    }
   },
   "outputs": [],
   "source": [
    "B11 = B1[0,0].subs(c = -α0/α1)   # (O1)11(c(t), t)"
   ]
  },
  {
   "cell_type": "code",
   "execution_count": 1,
   "metadata": {
    "collapsed": false,
    "jupyter": {
     "outputs_hidden": false
    },
    "pycharm": {
     "name": "#%%\n"
    }
   },
   "outputs": [
    {
     "ename": "NameError",
     "evalue": "name 'B1' is not defined",
     "output_type": "error",
     "traceback": [
      "\u001B[0;31m---------------------------------------------------------------------------\u001B[0m",
      "\u001B[0;31mNameError\u001B[0m                                 Traceback (most recent call last)",
      "Input \u001B[0;32mIn [1]\u001B[0m, in \u001B[0;36m<cell line: 1>\u001B[0;34m()\u001B[0m\n\u001B[0;32m----> 1\u001B[0m B11 \u001B[38;5;241m=\u001B[39m \u001B[43mB1\u001B[49m[\u001B[38;5;241m0\u001B[39m,\u001B[38;5;241m0\u001B[39m]\u001B[38;5;241m.\u001B[39msubs(c \u001B[38;5;241m=\u001B[39m \u001B[38;5;241m-\u001B[39mα0\u001B[38;5;241m/\u001B[39mα1)\n",
      "\u001B[0;31mNameError\u001B[0m: name 'B1' is not defined"
     ]
    }
   ],
   "source": [
    "B11 = B1[0,0].subs(c = -α0/α1)   # (O1)11(c(t), t)"
   ]
  },
  {
   "cell_type": "code",
   "execution_count": null,
   "metadata": {
    "pycharm": {
     "name": "#%%\n"
    }
   },
   "outputs": [],
   "source": []
  }
 ],
 "metadata": {
  "kernelspec": {
   "display_name": "Python 3 (ipykernel)",
   "language": "python",
   "name": "python3"
  },
  "language_info": {
   "codemirror_mode": {
    "name": "ipython",
    "version": 3
   },
   "file_extension": ".py",
   "mimetype": "text/x-python",
   "name": "python",
   "nbconvert_exporter": "python",
   "pygments_lexer": "ipython3",
   "version": "3.11.4"
  }
 },
 "nbformat": 4,
 "nbformat_minor": 4
}