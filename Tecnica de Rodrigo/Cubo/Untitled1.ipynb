{
 "cells": [
  {
   "cell_type": "code",
   "execution_count": 5,
   "metadata": {},
   "outputs": [
    {
     "name": "stdout",
     "output_type": "stream",
     "text": [
      "SageMath: Tempo médio para binomial(13456, 345) em 1000 iterações: 0.000045 segundos\n"
     ]
    }
   ],
   "source": [
    "import time\n",
    "\n",
    "def benchmark_sage(n, k, iterations):\n",
    "    times = []\n",
    "    for _ in range(iterations):\n",
    "        start_time = time.time()\n",
    "        binomial(n, k)\n",
    "        end_time = time.time()\n",
    "        times.append(end_time - start_time)\n",
    "    \n",
    "    avg_time = sum(times) / iterations\n",
    "    print(f\"SageMath: Tempo médio para binomial({n}, {k}) em {iterations} iterações: {avg_time:.6f} segundos\")\n",
    "\n",
    "# Parâmetros do benchmark\n",
    "n = 13456\n",
    "k = 345\n",
    "iterations = 1000\n",
    "\n",
    "benchmark_sage(n, k, iterations)"
   ]
  },
  {
   "cell_type": "code",
   "execution_count": 6,
   "metadata": {},
   "outputs": [
    {
     "name": "stdout",
     "output_type": "stream",
     "text": [
      "Python: Tempo médio para comb(13456, 345) em 1000 iterações: 0.000112 segundos\n"
     ]
    }
   ],
   "source": [
    "import time\n",
    "from scipy.special import comb\n",
    "\n",
    "def benchmark_python(n, k, iterations):\n",
    "    times = []\n",
    "    for _ in range(iterations):\n",
    "        start_time = time.time()\n",
    "        comb(n, k, exact=True)\n",
    "        end_time = time.time()\n",
    "        times.append(end_time - start_time)\n",
    "    \n",
    "    avg_time = sum(times) / iterations\n",
    "    print(f\"Python: Tempo médio para comb({n}, {k}) em {iterations} iterações: {avg_time:.6f} segundos\")\n",
    "\n",
    "# Parâmetros do benchmark\n",
    "n = 13456\n",
    "k = 345\n",
    "iterations = 1000\n",
    "\n",
    "benchmark_python(n, k, iterations)"
   ]
  },
  {
   "cell_type": "code",
   "execution_count": 4,
   "metadata": {},
   "outputs": [],
   "source": [
    "load(\"util.sage\")\n",
    "def coeff_de_moebius(poly, graus, graus_total, chaves, extremos, novo_coefsxy):    \n",
    "    soma_total = 0\n",
    "\n",
    "    binomials_cache = {}\n",
    "    powers_cache = {}\n",
    "\n",
    "    for chave in chaves:\n",
    "        somas = []\n",
    "        for k in range(len(chave)):\n",
    "            ck = chave[k]\n",
    "            gt = graus_total[k]\n",
    "            gks = graus[k]\n",
    "            a_k = extremos[k][0]\n",
    "            b_k = extremos[k][1]\n",
    "\n",
    "            somak = 0\n",
    "            for pp in range(ck + 1):\n",
    "                binom_ck_pp = binomials_cache.get((ck, pp))\n",
    "                if binom_ck_pp is None:\n",
    "                    binom_ck_pp = binomial(ck, pp)\n",
    "                    binomials_cache[(ck, pp)] = binom_ck_pp\n",
    "\n",
    "                binom_gtck_gkspp = binomials_cache.get((gt - ck, gks - pp))\n",
    "                if binom_gtck_gkspp is None:\n",
    "                    binom_gtck_gkspp = binomial(gt - ck, gks - pp)\n",
    "                    binomials_cache[(gt - ck, gks - pp)] = binom_gtck_gkspp\n",
    "\n",
    "                a_k_pp = powers_cache.get((a_k, pp))\n",
    "                if a_k_pp is None:\n",
    "                    a_k_pp = pow(a_k, pp)\n",
    "                    powers_cache[(a_k, pp)] = a_k_pp\n",
    "\n",
    "                b_k_ck_pp = powers_cache.get((b_k, ck - pp))\n",
    "                if b_k_ck_pp is None:\n",
    "                    b_k_ck_pp = pow(b_k,(ck - pp))\n",
    "                    powers_cache[(b_k, ck - pp)] = b_k_ck_pp\n",
    "\n",
    "                somak += binom_ck_pp * binom_gtck_gkspp * a_k_pp * b_k_ck_pp\n",
    "\n",
    "            somas.append(somak)\n",
    "        somas_e_valor = somas + [novo_coefsxy[chave]]\n",
    "        soma_total += reduce(lambda a, b: a * b, somas_e_valor)\n",
    "\n",
    "    return soma_total"
   ]
  },
  {
   "cell_type": "code",
   "execution_count": 5,
   "metadata": {},
   "outputs": [
    {
     "ename": "TypeError",
     "evalue": "coeff_de_moebius() missing 2 required positional arguments: 'extremos' and 'novo_coefsxy'",
     "output_type": "error",
     "traceback": [
      "\u001b[0;31m---------------------------------------------------------------------------\u001b[0m",
      "\u001b[0;31mTypeError\u001b[0m                                 Traceback (most recent call last)",
      "Cell \u001b[0;32mIn[5], line 6\u001b[0m\n\u001b[1;32m      4\u001b[0m bounds_test \u001b[38;5;241m=\u001b[39m [(Integer(\u001b[38;5;241m3\u001b[39m), Integer(\u001b[38;5;241m5\u001b[39m)), (Integer(\u001b[38;5;241m7\u001b[39m), Integer(\u001b[38;5;241m11\u001b[39m))]\n\u001b[1;32m      5\u001b[0m new_coeffs_xy_test \u001b[38;5;241m=\u001b[39m polynomial_to_dict(poly_test)  \u001b[38;5;66;03m# Must be a global variable\u001b[39;00m\n\u001b[0;32m----> 6\u001b[0m c \u001b[38;5;241m=\u001b[39m \u001b[43mcoeff_de_moebius\u001b[49m\u001b[43m(\u001b[49m\u001b[43mpoly_test\u001b[49m\u001b[43m,\u001b[49m\u001b[43m \u001b[49m\u001b[43mdegrees_test\u001b[49m\u001b[43m,\u001b[49m\u001b[43m \u001b[49m\u001b[43mbounds_test\u001b[49m\u001b[43m,\u001b[49m\u001b[43m \u001b[49m\u001b[43mnew_coeffs_xy_test\u001b[49m\u001b[43m)\u001b[49m\n\u001b[1;32m      7\u001b[0m c\n",
      "\u001b[0;31mTypeError\u001b[0m: coeff_de_moebius() missing 2 required positional arguments: 'extremos' and 'novo_coefsxy'"
     ]
    }
   ],
   "source": [
    "sage: u, v = var('u v')\n",
    "sage: poly_test = 23*u^2*v^3 + 21*u^2*v + 11*u*v + 10*u + 4\n",
    "sage: degrees_test = [1, 2]  # To find the coefficient of (x_1)^1 * (x_2)^2\n",
    "sage: bounds_test = [(3, 5), (7, 11)]\n",
    "sage: new_coeffs_xy_test = polynomial_to_dict(poly_test)  # Must be a global variable\n",
    "sage: c = coeff_de_moebius(poly_test, degrees_test, bounds_test, new_coeffs_xy_test)\n",
    "sage: c"
   ]
  },
  {
   "cell_type": "code",
   "execution_count": 4,
   "metadata": {},
   "outputs": [
    {
     "data": {
      "text/plain": [
       "{(0, 0): 4, (1, 0): 10, (1, 1): 11, (2, 1): 21, (2, 3): 23}"
      ]
     },
     "execution_count": 4,
     "metadata": {},
     "output_type": "execute_result"
    }
   ],
   "source": [
    "sage: u, v = var('u v')\n",
    "sage: p3 = 23*u^2*v^3 + 21*u^2*v + 11*u*v + 10*u + 4\n",
    "sage: polynomial_to_dict(p3)"
   ]
  },
  {
   "cell_type": "code",
   "execution_count": 7,
   "metadata": {},
   "outputs": [],
   "source": [
    "var('u, x, v, y, z')\n",
    "poly = (2100*u^2*x+2020*u^2*y^2)*z^0+(3031*u^3*y^3+1101*u*x)*z+(3022*u^3*y^2+202*x^2)*z^2\n",
    "variaveis = poly.free_variables()\n",
    "extremos_teste_2 = [(3,5),(7,11),(13,17),(19,23)];\n",
    "novo_coefsxy_teste = polynomial_to_dict(poly)"
   ]
  },
  {
   "cell_type": "code",
   "execution_count": 9,
   "metadata": {},
   "outputs": [
    {
     "data": {
      "text/plain": [
       "43188488958"
      ]
     },
     "execution_count": 9,
     "metadata": {},
     "output_type": "execute_result"
    }
   ],
   "source": [
    "moebius_coefficients(poly, [0, 0, 1, 0], extremos_teste_2, novo_coefsxy_teste)"
   ]
  },
  {
   "cell_type": "code",
   "execution_count": 12,
   "metadata": {},
   "outputs": [],
   "source": [
    "def coeficientes_de_moebius_simbolico_varias_variaveis(poly, graus, extremos, novo_coefsxy ):\n",
    "    \"\"\"INPUTS -\n",
    "    poly- Um polinomio como expressão simbolica na classe  <class 'sage.symbolic.expression.Expression'>;\n",
    "    graus - Uma lista com naturais representando o multigrau do monomio que voce quer o coeficiente.\n",
    "            Importante - A sua lista de graus deve estar na ordem que o Sage ordena as variaveis.\n",
    "    extremos - Uma lista com pares (a_i,b_i) que dão o intervalo da substituição de Moebius para\n",
    "    a variavel x_i, isto é,    x_i---> x_i = (a_i*u_i+b_i)/(u_i+1) para a variavel u_i.\n",
    "    OUTPUT - O coeficiente do monomio com multigrau dado pela lista graus depois da substituicao de Moebius\n",
    "    Exemplo - 1\n",
    "    sage: poly_teste = 23*u^2*v^3 + 21*u^2*v + 11*u*v + 10*u + 4;\n",
    "    sage: graus_teste = [1,2]; ## para acahar o coeficiente de (x_1)^1*(x_2)^2\n",
    "    sage: extremos_teste = [(3, 5), (7, 11)];\n",
    "    sage: novo_coefsxy_teste = dicionario_geral(poly_teste); # virar variável global;\n",
    "    sage: c = coeficientes_de_moebius_simbolico_varias_variaveis(poly_teste, graus_teste, extremos_teste, novo_coefsxy_teste)\n",
    "        1133944\n",
    "    Exemplo - 2\n",
    "    sage: poly = (2100*u^2*x+2020*u^2*y^2)*z^0+(3031*u^3*y^3+1101*u*x)*z+(3022*u^3*y^2+202*x^2)*z^2\n",
    "    sage: variaveis = poly.free_variables(); variaveis\n",
    "    sage: extremos_teste_2 = [(3,5),(7,11),(13,17),(19,23)];\n",
    "    sage: ru, rx, ry, rz = var('ru, rx, ry, rz')\n",
    "    sage: variaveis_r = [ru, rx, ry, rz]\n",
    "    sage: novo_coefsxy_teste_2 = dicionario_geral(poly); \n",
    "    sage: c = coeficientes_de_moebius_simbolico_varias_variaveis(poly, [0, 0, 1, 0], extremos_teste_2, novo_coefsxy_teste_2) ## Procurando o coeficiente de ru^0 * rx^0 * ry^1 * rz^0\n",
    "    sage: show(c)\n",
    "     244374065874\n",
    "       \n",
    "       OBSERVACAO: Para mais detalhes veja o arquivo /Artigo_de_Aplicacoes/Reuniao-casa-marcelo-26-07/Icosaedro-bloco-2-reunião-casa-marcelo/Funcao_Para_Coeficientes_Com_Varias_Variaveis_Versao_Final.ipynb\n",
    "        \"\"\"\n",
    "    #variaveis = (poly).free_variables(); Modifiquei aqui\n",
    "    variaveis = (poly).variables()\n",
    "    graus_total = [poly.degree(x) for x in variaveis];\n",
    "    chaves = novo_coefsxy.keys()\n",
    "    soma_total = 0\n",
    "    for chave in chaves:\n",
    "        somas = []\n",
    "        for k in range(len(chave)):\n",
    "            somak = 0\n",
    "            ck = chave[k]\n",
    "            gt = graus_total[k]\n",
    "            gks = graus[k]\n",
    "            a_k = extremos[k][0]\n",
    "            b_k = extremos[k][1]\n",
    "            for pp in range(ck+1):\n",
    "                somak = somak+((binomial(ck,pp))*(binomial(gt-ck, gks-pp))*((a_k)^(pp))*((b_k)^(ck-pp)))\n",
    "            somas.append(somak)\n",
    "        somas_e_valor = somas + [novo_coefsxy[chave]]\n",
    "        soma_total = soma_total + reduce(lambda a, b: a*b, somas_e_valor)\n",
    "    return soma_total\n",
    "\n",
    "from functools import reduce\n",
    "from sage.all import binomial\n",
    "\n",
    "def dicionario_geral_gpt(poly):\n",
    "    def nova_lista(lista, var):\n",
    "        new_lista = []\n",
    "        for item in lista:\n",
    "            sublista = item[0].coefficients(var)\n",
    "            for coef, monom in sublista:\n",
    "                new_lista.append([coef, monom + item[-1]])\n",
    "        return new_lista\n",
    "\n",
    "    variaveis = poly.variables()\n",
    "    variavel_1 = variaveis[0]\n",
    "    l_variavel_1 = poly.coefficients(variavel_1)\n",
    "    l = [[item[0], item[1:]] for item in l_variavel_1]\n",
    "    for var in variaveis[1:]:\n",
    "        l = nova_lista(l, var)\n",
    "    dicionario = {tuple(reversed(j[1])): j[0] for j in l}\n",
    "    return dicionario\n",
    "\n",
    "def coeficientes_de_moebius_simbolico_varias_variaveis_gpt(poly, graus, extremos, novo_coefsxy):\n",
    "    variaveis = poly.variables()\n",
    "    graus_total = [poly.degree(x) for x in variaveis]\n",
    "    chaves = novo_coefsxy.keys()\n",
    "    soma_total = 0\n",
    "\n",
    "    binomials_cache = {}\n",
    "    powers_cache = {}\n",
    "\n",
    "    for chave in chaves:\n",
    "        somas = []\n",
    "        for k in range(len(chave)):\n",
    "            ck = chave[k]\n",
    "            gt = graus_total[k]\n",
    "            gks = graus[k]\n",
    "            a_k = extremos[k][0]\n",
    "            b_k = extremos[k][1]\n",
    "\n",
    "            somak = 0\n",
    "            for pp in range(ck + 1):\n",
    "                binom_ck_pp = binomials_cache.get((ck, pp))\n",
    "                if binom_ck_pp is None:\n",
    "                    binom_ck_pp = binomial(ck, pp)\n",
    "                    binomials_cache[(ck, pp)] = binom_ck_pp\n",
    "\n",
    "                binom_gtck_gkspp = binomials_cache.get((gt - ck, gks - pp))\n",
    "                if binom_gtck_gkspp is None:\n",
    "                    binom_gtck_gkspp = binomial(gt - ck, gks - pp)\n",
    "                    binomials_cache[(gt - ck, gks - pp)] = binom_gtck_gkspp\n",
    "\n",
    "                a_k_pp = powers_cache.get((a_k, pp))\n",
    "                if a_k_pp is None:\n",
    "                    a_k_pp = a_k^pp\n",
    "                    powers_cache[(a_k, pp)] = a_k_pp\n",
    "\n",
    "                b_k_ck_pp = powers_cache.get((b_k, ck - pp))\n",
    "                if b_k_ck_pp is None:\n",
    "                    b_k_ck_pp = b_k^(ck - pp)\n",
    "                    powers_cache[(b_k, ck - pp)] = b_k_ck_pp\n",
    "\n",
    "                somak += binom_ck_pp * binom_gtck_gkspp * a_k_pp * b_k_ck_pp\n",
    "\n",
    "            somas.append(somak)\n",
    "        somas_e_valor = somas + [novo_coefsxy[chave]]\n",
    "        soma_total += reduce(lambda a, b: a * b, somas_e_valor)\n",
    "\n",
    "    return soma_total\n",
    "\n",
    "from functools import reduce\n",
    "\n",
    "def dicionario_geral(poly):\n",
    "    \"\"\"INPUT - poly- Um polinomio como expressão simbolica na classe <class 'sage.symbolic.expression.Expression'>\n",
    "    OUTPUT - Um dicionario com CHAVE do tipo tupla multigrau (d1,d2,...,dl) correpondendo ao monomio \n",
    "    variavel1^(d1)*variavel2^(d2)*...*variavell^(dl) e VALOR sendo o coeficiente deste monomio.\n",
    "    OBSERVACAO- A ordem das variaveis imspota pelo SAGE manda na ordem das chaves do dicionario. \n",
    "    Exemplo-\n",
    "    sage: z, y, x, u = var('z y x u')\n",
    "    sage: p = (2100*u^2*x+2020*u^2*y^2)*z^0+(3031*u^3*y^3+1101*u*x)*z+(3022*u^3*y^2+202*x^2)*z^2\n",
    "    sage: variaveis = p.free_variables(); variaveis\n",
    "        (u,x,y,z)\n",
    "    sage: dicionario_geral(p)\n",
    "        {(0, 2, 0, 2): 202,\n",
    "         (1, 1, 0, 1): 1101,\n",
    "         (2, 0, 2, 0): 2020,\n",
    "         (2, 1, 0, 0): 2100,\n",
    "         (3, 0, 2, 2): 3022,\n",
    "         (3, 0, 3, 1): 3031}\n",
    "        \n",
    "        \n",
    "    sage: u,v = var('u v')\n",
    "    sage: p3 = 23*u^2*v^3+21*u^2*v+11*u*v+10*u+4;\n",
    "    sage: dicionario_geral(p3)\n",
    "      {(0, 0): 4, (1, 0): 10, (1, 1): 11, (2, 1): 21, (2, 3): 23}\n",
    "    \"\"\"\n",
    "    def nova_lista(lista, var):\n",
    "        new_lista = [];\n",
    "        for item in lista:\n",
    "            sublista = item[0].coefficients(var)\n",
    "            for subitem in sublista:\n",
    "                subitem = [subitem[0],subitem[1:]+item[-1]]\n",
    "                new_lista.append(subitem)\n",
    "        return  new_lista\n",
    "\n",
    "    #variaveis = (poly).free_variables(); Modifiquei aqui\n",
    "    variaveis = (poly).variables()\n",
    "#####################################################################\n",
    "    variavel_1 = variaveis[0];\n",
    "    l_variavel_1 = (poly).coefficients(variavel_1);\n",
    "    l = [[item[0],item[1:]] for item in l_variavel_1]\n",
    "    for var in variaveis[1:]:\n",
    "        l = nova_lista(l, var)\n",
    "    dicionario = {tuple(list(reversed(j[1]))) : j[0] for j in l}\n",
    "    return dicionario\n",
    "\n"
   ]
  },
  {
   "cell_type": "code",
   "execution_count": 13,
   "metadata": {},
   "outputs": [
    {
     "data": {
      "text/html": [
       "<html>\\(\\displaystyle 244374065874\\)</html>"
      ],
      "text/latex": [
       "$\\displaystyle 244374065874$"
      ],
      "text/plain": [
       "244374065874"
      ]
     },
     "metadata": {},
     "output_type": "display_data"
    }
   ],
   "source": [
    "sage: poly = (2100*u^2*x+2020*u^2*y^2)*z^0+(3031*u^3*y^3+1101*u*x)*z+(3022*u^3*y^2+202*x^2)*z^2\n",
    "sage: variaveis = poly.free_variables(); variaveis\n",
    "sage: extremos_teste_2 = [(3,5),(7,11),(13,17),(19,23)];\n",
    "sage: ru, rx, ry, rz = var('ru, rx, ry, rz')\n",
    "sage: variaveis_r = [ru, rx, ry, rz]\n",
    "sage: novo_coefsxy_teste_2 = dicionario_geral(poly); \n",
    "sage: c = coeficientes_de_moebius_simbolico_varias_variaveis(poly, [0, 0, 1, 0], extremos_teste_2, novo_coefsxy_teste_2) ## Procurando o coeficiente de ru^0 * rx^0 * ry^1 * rz^0\n",
    "sage: show(c)"
   ]
  },
  {
   "cell_type": "code",
   "execution_count": null,
   "metadata": {},
   "outputs": [],
   "source": []
  }
 ],
 "metadata": {
  "kernelspec": {
   "display_name": "SageMath 10.3",
   "language": "sage",
   "name": "sagemath"
  },
  "language_info": {
   "codemirror_mode": {
    "name": "ipython",
    "version": 3
   },
   "file_extension": ".py",
   "mimetype": "text/x-python",
   "name": "python",
   "nbconvert_exporter": "python",
   "pygments_lexer": "ipython3",
   "version": "3.12.3"
  },
  "widgets": {
   "application/vnd.jupyter.widget-state+json": {
    "state": {},
    "version_major": 2,
    "version_minor": 0
   }
  }
 },
 "nbformat": 4,
 "nbformat_minor": 4
}
