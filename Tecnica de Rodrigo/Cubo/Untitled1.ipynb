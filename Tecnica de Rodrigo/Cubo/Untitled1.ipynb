{
 "cells": [
  {
   "cell_type": "code",
   "execution_count": 5,
   "metadata": {},
   "outputs": [
    {
     "name": "stdout",
     "output_type": "stream",
     "text": [
      "SageMath: Tempo médio para binomial(13456, 345) em 1000 iterações: 0.000045 segundos\n"
     ]
    }
   ],
   "source": [
    "import time\n",
    "\n",
    "def benchmark_sage(n, k, iterations):\n",
    "    times = []\n",
    "    for _ in range(iterations):\n",
    "        start_time = time.time()\n",
    "        binomial(n, k)\n",
    "        end_time = time.time()\n",
    "        times.append(end_time - start_time)\n",
    "    \n",
    "    avg_time = sum(times) / iterations\n",
    "    print(f\"SageMath: Tempo médio para binomial({n}, {k}) em {iterations} iterações: {avg_time:.6f} segundos\")\n",
    "\n",
    "# Parâmetros do benchmark\n",
    "n = 13456\n",
    "k = 345\n",
    "iterations = 1000\n",
    "\n",
    "benchmark_sage(n, k, iterations)"
   ]
  },
  {
   "cell_type": "code",
   "execution_count": 6,
   "metadata": {},
   "outputs": [
    {
     "name": "stdout",
     "output_type": "stream",
     "text": [
      "Python: Tempo médio para comb(13456, 345) em 1000 iterações: 0.000112 segundos\n"
     ]
    }
   ],
   "source": [
    "import time\n",
    "from scipy.special import comb\n",
    "\n",
    "def benchmark_python(n, k, iterations):\n",
    "    times = []\n",
    "    for _ in range(iterations):\n",
    "        start_time = time.time()\n",
    "        comb(n, k, exact=True)\n",
    "        end_time = time.time()\n",
    "        times.append(end_time - start_time)\n",
    "    \n",
    "    avg_time = sum(times) / iterations\n",
    "    print(f\"Python: Tempo médio para comb({n}, {k}) em {iterations} iterações: {avg_time:.6f} segundos\")\n",
    "\n",
    "# Parâmetros do benchmark\n",
    "n = 13456\n",
    "k = 345\n",
    "iterations = 1000\n",
    "\n",
    "benchmark_python(n, k, iterations)"
   ]
  },
  {
   "cell_type": "code",
   "execution_count": null,
   "metadata": {},
   "outputs": [],
   "source": []
  }
 ],
 "metadata": {
  "kernelspec": {
   "display_name": "SageMath 9.2",
   "language": "sage",
   "name": "sagemath"
  },
  "language_info": {
   "codemirror_mode": {
    "name": "ipython",
    "version": 3
   },
   "file_extension": ".py",
   "mimetype": "text/x-python",
   "name": "python",
   "nbconvert_exporter": "python",
   "pygments_lexer": "ipython3",
   "version": "3.9.1"
  },
  "widgets": {
   "application/vnd.jupyter.widget-state+json": {
    "state": {},
    "version_major": 2,
    "version_minor": 0
   }
  }
 },
 "nbformat": 4,
 "nbformat_minor": 4
}
