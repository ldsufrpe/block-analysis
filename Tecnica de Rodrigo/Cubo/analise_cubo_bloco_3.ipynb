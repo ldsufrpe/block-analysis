{
 "cells": [
  {
   "cell_type": "code",
   "execution_count": 4,
   "metadata": {
    "collapsed": false
   },
   "outputs": [
    {
     "name": "stderr",
     "output_type": "stream",
     "text": [
      "<ipython-input-4-1ebbe62461d8>:2: DeprecationWarning: PY_SSIZE_T_CLEAN will be required for '#' formats\n",
      "  B3 = load('blocos/bloco_3_linear_cubo.sobj')\n"
     ]
    }
   ],
   "source": [
    "load(\"util.sage\")\n",
    "B3 = load('blocos/bloco_3_linear_cubo.sobj')"
   ]
  },
  {
   "cell_type": "code",
   "execution_count": 5,
   "metadata": {
    "collapsed": false
   },
   "outputs": [
   ],
   "source": [
    "submatrizes_2x2_dets = B3.minors(2)\n",
    "p3 = submatrizes_2x2_dets[0].expand().combine().simplify()"
   ]
  },
  {
   "cell_type": "code",
   "execution_count": 6,
   "metadata": {
    "collapsed": false
   },
   "outputs": [
    {
     "data": {
      "text/html": [
       "<html><script type=\"math/tex; mode=display\">\\newcommand{\\Bold}[1]{\\mathbf{#1}}-\\frac{\\sqrt{3} \\sqrt{2} t - 4 \\, \\sqrt{3} t + \\sqrt{3} \\sqrt{2} - 4 \\, \\sqrt{3}}{36 \\, {\\left(t^{3} + 3 \\, t^{2} + 3 \\, t + 1\\right)}} + \\frac{8 \\, \\sqrt{3} t - 9 \\, \\sqrt{2} t - 36 \\, t + 9 \\, \\sqrt{2} - 36}{36 \\, {\\left(3 \\, t^{2} + 2 \\, t + 3\\right)}^{\\frac{3}{2}}} - \\frac{8 \\, \\sqrt{3} t - 9 \\, \\sqrt{2} t - 36 \\, t - 9 \\, \\sqrt{2} + 36}{36 \\, {\\left(3 \\, t^{2} - 2 \\, t + 3\\right)}^{\\frac{3}{2}}} - \\frac{\\sqrt{3} \\sqrt{2} t - 4 \\, \\sqrt{3} t - \\sqrt{3} \\sqrt{2} + 4 \\, \\sqrt{3}}{36 \\, {\\left(t - 1\\right)}^{3}}</script></html>"
      ],
      "text/latex": [
       "\\begin{math}\n",
       "\\newcommand{\\Bold}[1]{\\mathbf{#1}}-\\frac{\\sqrt{3} \\sqrt{2} t - 4 \\, \\sqrt{3} t + \\sqrt{3} \\sqrt{2} - 4 \\, \\sqrt{3}}{36 \\, {\\left(t^{3} + 3 \\, t^{2} + 3 \\, t + 1\\right)}} + \\frac{8 \\, \\sqrt{3} t - 9 \\, \\sqrt{2} t - 36 \\, t + 9 \\, \\sqrt{2} - 36}{36 \\, {\\left(3 \\, t^{2} + 2 \\, t + 3\\right)}^{\\frac{3}{2}}} - \\frac{8 \\, \\sqrt{3} t - 9 \\, \\sqrt{2} t - 36 \\, t - 9 \\, \\sqrt{2} + 36}{36 \\, {\\left(3 \\, t^{2} - 2 \\, t + 3\\right)}^{\\frac{3}{2}}} - \\frac{\\sqrt{3} \\sqrt{2} t - 4 \\, \\sqrt{3} t - \\sqrt{3} \\sqrt{2} + 4 \\, \\sqrt{3}}{36 \\, {\\left(t - 1\\right)}^{3}}\n",
       "\\end{math}"
      ],
      "text/plain": [
       "-1/36*(sqrt(3)*sqrt(2)*t - 4*sqrt(3)*t + sqrt(3)*sqrt(2) - 4*sqrt(3))/(t^3 + 3*t^2 + 3*t + 1) + 1/36*(8*sqrt(3)*t - 9*sqrt(2)*t - 36*t + 9*sqrt(2) - 36)/(3*t^2 + 2*t + 3)^(3/2) - 1/36*(8*sqrt(3)*t - 9*sqrt(2)*t - 36*t - 9*sqrt(2) + 36)/(3*t^2 - 2*t + 3)^(3/2) - 1/36*(sqrt(3)*sqrt(2)*t - 4*sqrt(3)*t - sqrt(3)*sqrt(2) + 4*sqrt(3))/(t - 1)^3"
      ]
     },
     "execution_count": 6,
     "metadata": {
     },
     "output_type": "execute_result"
    }
   ],
   "source": [
    "show(p3)"
   ]
  },
  {
   "cell_type": "code",
   "execution_count": 30,
   "metadata": {
    "collapsed": false
   },
   "outputs": [
    {
     "data": {
      "text/html": [
       "<html><script type=\"math/tex; mode=display\">\\newcommand{\\Bold}[1]{\\mathbf{#1}}-8 \\, \\sqrt{3} u^{13} + 9 \\, \\sqrt{2} u^{13} + 40 \\, \\sqrt{3} u^{11} v^{2} - 45 \\, \\sqrt{2} u^{11} v^{2} + 8 \\, \\sqrt{3} u^{10} v^{3} - 9 \\, \\sqrt{2} u^{10} v^{3} - 80 \\, \\sqrt{3} u^{9} v^{4} + 90 \\, \\sqrt{2} u^{9} v^{4} - 40 \\, \\sqrt{3} u^{8} v^{5} + 45 \\, \\sqrt{2} u^{8} v^{5} + 80 \\, \\sqrt{3} u^{7} v^{6} - 90 \\, \\sqrt{2} u^{7} v^{6} + 80 \\, \\sqrt{3} u^{6} v^{7} - 90 \\, \\sqrt{2} u^{6} v^{7} - 40 \\, \\sqrt{3} u^{5} v^{8} + 45 \\, \\sqrt{2} u^{5} v^{8} - 80 \\, \\sqrt{3} u^{4} v^{9} + 90 \\, \\sqrt{2} u^{4} v^{9} + 8 \\, \\sqrt{3} u^{3} v^{10} - 9 \\, \\sqrt{2} u^{3} v^{10} + 40 \\, \\sqrt{3} u^{2} v^{11} - 45 \\, \\sqrt{2} u^{2} v^{11} - 8 \\, \\sqrt{3} v^{13} + 9 \\, \\sqrt{2} v^{13} + 36 \\, u^{13} - 180 \\, u^{11} v^{2} - 36 \\, u^{10} v^{3} + 360 \\, u^{9} v^{4} + 180 \\, u^{8} v^{5} - 360 \\, u^{7} v^{6} - 360 \\, u^{6} v^{7} + 180 \\, u^{5} v^{8} + 360 \\, u^{4} v^{9} - 36 \\, u^{3} v^{10} - 180 \\, u^{2} v^{11} + 36 \\, v^{13} + 36 \\, \\sqrt{2} u^{11} - 144 \\, \\sqrt{2} u^{9} v^{2} + 36 \\, \\sqrt{2} u^{8} v^{3} + 216 \\, \\sqrt{2} u^{7} v^{4} - 144 \\, \\sqrt{2} u^{6} v^{5} - 144 \\, \\sqrt{2} u^{5} v^{6} + 216 \\, \\sqrt{2} u^{4} v^{7} + 36 \\, \\sqrt{2} u^{3} v^{8} - 144 \\, \\sqrt{2} u^{2} v^{9} + 36 \\, \\sqrt{2} v^{11} - 144 \\, u^{11} + 576 \\, u^{9} v^{2} - 128 \\, \\sqrt{3} \\sqrt{2} u^{7} v^{3} - 144 \\, u^{8} v^{3} - 864 \\, u^{7} v^{4} + 256 \\, \\sqrt{3} \\sqrt{2} u^{5} v^{5} + 576 \\, u^{6} v^{5} + 576 \\, u^{5} v^{6} - 128 \\, \\sqrt{3} \\sqrt{2} u^{3} v^{7} - 864 \\, u^{4} v^{7} - 144 \\, u^{3} v^{8} + 576 \\, u^{2} v^{9} - 144 \\, v^{11} + 512 \\, \\sqrt{3} u^{7} v^{3} - 1024 \\, \\sqrt{3} u^{5} v^{5} + 512 \\, \\sqrt{3} u^{3} v^{7} + 256 \\, \\sqrt{3} u^{9} - 288 \\, \\sqrt{2} u^{9} - 768 \\, \\sqrt{3} u^{7} v^{2} + 864 \\, \\sqrt{2} u^{7} v^{2} - 256 \\, \\sqrt{3} u^{6} v^{3} + 288 \\, \\sqrt{2} u^{6} v^{3} + 768 \\, \\sqrt{3} u^{5} v^{4} - 864 \\, \\sqrt{2} u^{5} v^{4} + 768 \\, \\sqrt{3} u^{4} v^{5} - 864 \\, \\sqrt{2} u^{4} v^{5} - 256 \\, \\sqrt{3} u^{3} v^{6} + 288 \\, \\sqrt{2} u^{3} v^{6} - 768 \\, \\sqrt{3} u^{2} v^{7} + 864 \\, \\sqrt{2} u^{2} v^{7} + 256 \\, \\sqrt{3} v^{9} - 288 \\, \\sqrt{2} v^{9} - 1152 \\, u^{9} + 3456 \\, u^{7} v^{2} + 1152 \\, u^{6} v^{3} - 3456 \\, u^{5} v^{4} - 3456 \\, u^{4} v^{5} + 1152 \\, u^{3} v^{6} + 3456 \\, u^{2} v^{7} - 1152 \\, v^{9} - 1152 \\, \\sqrt{2} u^{7} + 2304 \\, \\sqrt{2} u^{5} v^{2} - 1152 \\, \\sqrt{2} u^{4} v^{3} - 1152 \\, \\sqrt{2} u^{3} v^{4} + 2304 \\, \\sqrt{2} u^{2} v^{5} - 1152 \\, \\sqrt{2} v^{7} + 4608 \\, u^{7} - 9216 \\, u^{5} v^{2} - 2048 \\, \\sqrt{3} \\sqrt{2} u^{3} v^{3} + 4608 \\, u^{4} v^{3} + 4608 \\, u^{3} v^{4} - 9216 \\, u^{2} v^{5} + 4608 \\, v^{7} + 8192 \\, \\sqrt{3} u^{3} v^{3} - 2048 \\, \\sqrt{3} u^{5} + 2304 \\, \\sqrt{2} u^{5} + 2048 \\, \\sqrt{3} u^{3} v^{2} - 2304 \\, \\sqrt{2} u^{3} v^{2} + 2048 \\, \\sqrt{3} u^{2} v^{3} - 2304 \\, \\sqrt{2} u^{2} v^{3} - 2048 \\, \\sqrt{3} v^{5} + 2304 \\, \\sqrt{2} v^{5} + 9216 \\, u^{5} - 9216 \\, u^{3} v^{2} - 9216 \\, u^{2} v^{3} + 9216 \\, v^{5} + 9216 \\, \\sqrt{2} u^{3} + 9216 \\, \\sqrt{2} v^{3} - 36864 \\, u^{3} - 36864 \\, v^{3}</script></html>"
      ],
      "text/latex": [
       "\\begin{math}\n",
       "\\newcommand{\\Bold}[1]{\\mathbf{#1}}-8 \\, \\sqrt{3} u^{13} + 9 \\, \\sqrt{2} u^{13} + 40 \\, \\sqrt{3} u^{11} v^{2} - 45 \\, \\sqrt{2} u^{11} v^{2} + 8 \\, \\sqrt{3} u^{10} v^{3} - 9 \\, \\sqrt{2} u^{10} v^{3} - 80 \\, \\sqrt{3} u^{9} v^{4} + 90 \\, \\sqrt{2} u^{9} v^{4} - 40 \\, \\sqrt{3} u^{8} v^{5} + 45 \\, \\sqrt{2} u^{8} v^{5} + 80 \\, \\sqrt{3} u^{7} v^{6} - 90 \\, \\sqrt{2} u^{7} v^{6} + 80 \\, \\sqrt{3} u^{6} v^{7} - 90 \\, \\sqrt{2} u^{6} v^{7} - 40 \\, \\sqrt{3} u^{5} v^{8} + 45 \\, \\sqrt{2} u^{5} v^{8} - 80 \\, \\sqrt{3} u^{4} v^{9} + 90 \\, \\sqrt{2} u^{4} v^{9} + 8 \\, \\sqrt{3} u^{3} v^{10} - 9 \\, \\sqrt{2} u^{3} v^{10} + 40 \\, \\sqrt{3} u^{2} v^{11} - 45 \\, \\sqrt{2} u^{2} v^{11} - 8 \\, \\sqrt{3} v^{13} + 9 \\, \\sqrt{2} v^{13} + 36 \\, u^{13} - 180 \\, u^{11} v^{2} - 36 \\, u^{10} v^{3} + 360 \\, u^{9} v^{4} + 180 \\, u^{8} v^{5} - 360 \\, u^{7} v^{6} - 360 \\, u^{6} v^{7} + 180 \\, u^{5} v^{8} + 360 \\, u^{4} v^{9} - 36 \\, u^{3} v^{10} - 180 \\, u^{2} v^{11} + 36 \\, v^{13} + 36 \\, \\sqrt{2} u^{11} - 144 \\, \\sqrt{2} u^{9} v^{2} + 36 \\, \\sqrt{2} u^{8} v^{3} + 216 \\, \\sqrt{2} u^{7} v^{4} - 144 \\, \\sqrt{2} u^{6} v^{5} - 144 \\, \\sqrt{2} u^{5} v^{6} + 216 \\, \\sqrt{2} u^{4} v^{7} + 36 \\, \\sqrt{2} u^{3} v^{8} - 144 \\, \\sqrt{2} u^{2} v^{9} + 36 \\, \\sqrt{2} v^{11} - 144 \\, u^{11} + 576 \\, u^{9} v^{2} - 128 \\, \\sqrt{3} \\sqrt{2} u^{7} v^{3} - 144 \\, u^{8} v^{3} - 864 \\, u^{7} v^{4} + 256 \\, \\sqrt{3} \\sqrt{2} u^{5} v^{5} + 576 \\, u^{6} v^{5} + 576 \\, u^{5} v^{6} - 128 \\, \\sqrt{3} \\sqrt{2} u^{3} v^{7} - 864 \\, u^{4} v^{7} - 144 \\, u^{3} v^{8} + 576 \\, u^{2} v^{9} - 144 \\, v^{11} + 512 \\, \\sqrt{3} u^{7} v^{3} - 1024 \\, \\sqrt{3} u^{5} v^{5} + 512 \\, \\sqrt{3} u^{3} v^{7} + 256 \\, \\sqrt{3} u^{9} - 288 \\, \\sqrt{2} u^{9} - 768 \\, \\sqrt{3} u^{7} v^{2} + 864 \\, \\sqrt{2} u^{7} v^{2} - 256 \\, \\sqrt{3} u^{6} v^{3} + 288 \\, \\sqrt{2} u^{6} v^{3} + 768 \\, \\sqrt{3} u^{5} v^{4} - 864 \\, \\sqrt{2} u^{5} v^{4} + 768 \\, \\sqrt{3} u^{4} v^{5} - 864 \\, \\sqrt{2} u^{4} v^{5} - 256 \\, \\sqrt{3} u^{3} v^{6} + 288 \\, \\sqrt{2} u^{3} v^{6} - 768 \\, \\sqrt{3} u^{2} v^{7} + 864 \\, \\sqrt{2} u^{2} v^{7} + 256 \\, \\sqrt{3} v^{9} - 288 \\, \\sqrt{2} v^{9} - 1152 \\, u^{9} + 3456 \\, u^{7} v^{2} + 1152 \\, u^{6} v^{3} - 3456 \\, u^{5} v^{4} - 3456 \\, u^{4} v^{5} + 1152 \\, u^{3} v^{6} + 3456 \\, u^{2} v^{7} - 1152 \\, v^{9} - 1152 \\, \\sqrt{2} u^{7} + 2304 \\, \\sqrt{2} u^{5} v^{2} - 1152 \\, \\sqrt{2} u^{4} v^{3} - 1152 \\, \\sqrt{2} u^{3} v^{4} + 2304 \\, \\sqrt{2} u^{2} v^{5} - 1152 \\, \\sqrt{2} v^{7} + 4608 \\, u^{7} - 9216 \\, u^{5} v^{2} - 2048 \\, \\sqrt{3} \\sqrt{2} u^{3} v^{3} + 4608 \\, u^{4} v^{3} + 4608 \\, u^{3} v^{4} - 9216 \\, u^{2} v^{5} + 4608 \\, v^{7} + 8192 \\, \\sqrt{3} u^{3} v^{3} - 2048 \\, \\sqrt{3} u^{5} + 2304 \\, \\sqrt{2} u^{5} + 2048 \\, \\sqrt{3} u^{3} v^{2} - 2304 \\, \\sqrt{2} u^{3} v^{2} + 2048 \\, \\sqrt{3} u^{2} v^{3} - 2304 \\, \\sqrt{2} u^{2} v^{3} - 2048 \\, \\sqrt{3} v^{5} + 2304 \\, \\sqrt{2} v^{5} + 9216 \\, u^{5} - 9216 \\, u^{3} v^{2} - 9216 \\, u^{2} v^{3} + 9216 \\, v^{5} + 9216 \\, \\sqrt{2} u^{3} + 9216 \\, \\sqrt{2} v^{3} - 36864 \\, u^{3} - 36864 \\, v^{3}\n",
       "\\end{math}"
      ],
      "text/plain": [
       "-8*sqrt(3)*u^13 + 9*sqrt(2)*u^13 + 40*sqrt(3)*u^11*v^2 - 45*sqrt(2)*u^11*v^2 + 8*sqrt(3)*u^10*v^3 - 9*sqrt(2)*u^10*v^3 - 80*sqrt(3)*u^9*v^4 + 90*sqrt(2)*u^9*v^4 - 40*sqrt(3)*u^8*v^5 + 45*sqrt(2)*u^8*v^5 + 80*sqrt(3)*u^7*v^6 - 90*sqrt(2)*u^7*v^6 + 80*sqrt(3)*u^6*v^7 - 90*sqrt(2)*u^6*v^7 - 40*sqrt(3)*u^5*v^8 + 45*sqrt(2)*u^5*v^8 - 80*sqrt(3)*u^4*v^9 + 90*sqrt(2)*u^4*v^9 + 8*sqrt(3)*u^3*v^10 - 9*sqrt(2)*u^3*v^10 + 40*sqrt(3)*u^2*v^11 - 45*sqrt(2)*u^2*v^11 - 8*sqrt(3)*v^13 + 9*sqrt(2)*v^13 + 36*u^13 - 180*u^11*v^2 - 36*u^10*v^3 + 360*u^9*v^4 + 180*u^8*v^5 - 360*u^7*v^6 - 360*u^6*v^7 + 180*u^5*v^8 + 360*u^4*v^9 - 36*u^3*v^10 - 180*u^2*v^11 + 36*v^13 + 36*sqrt(2)*u^11 - 144*sqrt(2)*u^9*v^2 + 36*sqrt(2)*u^8*v^3 + 216*sqrt(2)*u^7*v^4 - 144*sqrt(2)*u^6*v^5 - 144*sqrt(2)*u^5*v^6 + 216*sqrt(2)*u^4*v^7 + 36*sqrt(2)*u^3*v^8 - 144*sqrt(2)*u^2*v^9 + 36*sqrt(2)*v^11 - 144*u^11 + 576*u^9*v^2 - 128*sqrt(3)*sqrt(2)*u^7*v^3 - 144*u^8*v^3 - 864*u^7*v^4 + 256*sqrt(3)*sqrt(2)*u^5*v^5 + 576*u^6*v^5 + 576*u^5*v^6 - 128*sqrt(3)*sqrt(2)*u^3*v^7 - 864*u^4*v^7 - 144*u^3*v^8 + 576*u^2*v^9 - 144*v^11 + 512*sqrt(3)*u^7*v^3 - 1024*sqrt(3)*u^5*v^5 + 512*sqrt(3)*u^3*v^7 + 256*sqrt(3)*u^9 - 288*sqrt(2)*u^9 - 768*sqrt(3)*u^7*v^2 + 864*sqrt(2)*u^7*v^2 - 256*sqrt(3)*u^6*v^3 + 288*sqrt(2)*u^6*v^3 + 768*sqrt(3)*u^5*v^4 - 864*sqrt(2)*u^5*v^4 + 768*sqrt(3)*u^4*v^5 - 864*sqrt(2)*u^4*v^5 - 256*sqrt(3)*u^3*v^6 + 288*sqrt(2)*u^3*v^6 - 768*sqrt(3)*u^2*v^7 + 864*sqrt(2)*u^2*v^7 + 256*sqrt(3)*v^9 - 288*sqrt(2)*v^9 - 1152*u^9 + 3456*u^7*v^2 + 1152*u^6*v^3 - 3456*u^5*v^4 - 3456*u^4*v^5 + 1152*u^3*v^6 + 3456*u^2*v^7 - 1152*v^9 - 1152*sqrt(2)*u^7 + 2304*sqrt(2)*u^5*v^2 - 1152*sqrt(2)*u^4*v^3 - 1152*sqrt(2)*u^3*v^4 + 2304*sqrt(2)*u^2*v^5 - 1152*sqrt(2)*v^7 + 4608*u^7 - 9216*u^5*v^2 - 2048*sqrt(3)*sqrt(2)*u^3*v^3 + 4608*u^4*v^3 + 4608*u^3*v^4 - 9216*u^2*v^5 + 4608*v^7 + 8192*sqrt(3)*u^3*v^3 - 2048*sqrt(3)*u^5 + 2304*sqrt(2)*u^5 + 2048*sqrt(3)*u^3*v^2 - 2304*sqrt(2)*u^3*v^2 + 2048*sqrt(3)*u^2*v^3 - 2304*sqrt(2)*u^2*v^3 - 2048*sqrt(3)*v^5 + 2304*sqrt(2)*v^5 + 9216*u^5 - 9216*u^3*v^2 - 9216*u^2*v^3 + 9216*v^5 + 9216*sqrt(2)*u^3 + 9216*sqrt(2)*v^3 - 36864*u^3 - 36864*v^3"
      ]
     },
     "execution_count": 30,
     "metadata": {
     },
     "output_type": "execute_result"
    }
   ],
   "source": [
    "u, v = var('u, v')\n",
    "var('t')\n",
    "assume(u>0)\n",
    "assume(v>0)\n",
    "\n",
    "poly_u_v = p3.subs({3*t^2 + 2*t + 3:u^2,3*t^2 - 2*t + 3:v^2}).subs(t=(u^2-v^2)/4).factor().numerator()\n",
    "show(poly_u_v)"
   ]
  },
  {
   "cell_type": "code",
   "execution_count": 31,
   "metadata": {
    "collapsed": false
   },
   "outputs": [
   ],
   "source": [
    "sol_u = solve(u**2 == 3*t^2 + 2*t + 3, u)[0].rhs() # obtem os valores de u para t=0\n",
    "sol_v = solve(v**2 == 3*t^2 - 2*t + 3, v)[0].rhs() # obtem os valores de u para t=0\n",
    "\n",
    "u0 = sol_u(t=0)\n",
    "u1 = sol_u(t=1)\n",
    "v0 = sol_v(t=0)\n",
    "v1 = sol_v(t=1)\n"
   ]
  },
  {
   "cell_type": "code",
   "execution_count": 34,
   "metadata": {
    "collapsed": false
   },
   "outputs": [
   ],
   "source": [
    "new_poly_u_v = subs_mobius_2d_uv(poly_u_v, u0, u1, v0, v1)"
   ]
  },
  {
   "cell_type": "code",
   "execution_count": 36,
   "metadata": {
    "collapsed": false
   },
   "outputs": [
    {
     "data": {
      "text/plain": [
       "False"
      ]
     },
     "execution_count": 36,
     "metadata": {
     },
     "output_type": "execute_result"
    }
   ],
   "source": [
    "has_signal_variations_u_v(new_poly_u_v) "
   ]
  },
  {
   "cell_type": "code",
   "execution_count": 0,
   "metadata": {
    "collapsed": false
   },
   "outputs": [
   ],
   "source": [
   ]
  }
 ],
 "metadata": {
  "kernelspec": {
   "display_name": "SageMath 9.8",
   "env": {
   },
   "language": "sagemath",
   "metadata": {
    "cocalc": {
     "description": "Open-source mathematical software system",
     "priority": 10,
     "url": "https://www.sagemath.org/"
    }
   },
   "name": "sage-9.8",
   "resource_dir": "/ext/jupyter/kernels/sage-9.8"
  },
  "language_info": {
   "codemirror_mode": {
    "name": "ipython",
    "version": 3
   },
   "file_extension": ".py",
   "mimetype": "text/x-python",
   "name": "python",
   "nbconvert_exporter": "python",
   "pygments_lexer": "ipython3",
   "version": "3.9.1"
  },
  "widgets": {
   "application/vnd.jupyter.widget-state+json": {
    "state": {
    },
    "version_major": 2,
    "version_minor": 0
   }
  }
 },
 "nbformat": 4,
 "nbformat_minor": 4
}