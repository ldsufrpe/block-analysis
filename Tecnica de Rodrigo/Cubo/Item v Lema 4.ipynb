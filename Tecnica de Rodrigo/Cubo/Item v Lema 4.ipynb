{
 "cells": [
  {
   "cell_type": "code",
   "execution_count": 35,
   "id": "420573b1-6761-4960-b024-b2b29de4cc57",
   "metadata": {},
   "outputs": [],
   "source": [
    "B1 = load('blocos/bloco_1_linear_cubo'); ##Isso na formula  6.28 secao 6.4.1\n",
    "B1 = B1.apply_map(lambda x: x.simplify_real().combine())\n",
    "load(\"../util.sage\")"
   ]
  },
  {
   "cell_type": "markdown",
   "id": "94f4395b-3499-4d9e-86ae-637a64c6287a",
   "metadata": {},
   "source": [
    "##### 5. There exits a $\\delta<1$ such $(O_1)_{12}(c(t),t)$ is negative for $t$ in $(0,\\delta)$ and is positive for $t$ in $(\\delta,1)$ ."
   ]
  },
  {
   "cell_type": "code",
   "execution_count": 36,
   "id": "42115595-f69e-4713-bdab-17371e562672",
   "metadata": {},
   "outputs": [],
   "source": [
    "p1_t = B1.det()"
   ]
  },
  {
   "cell_type": "code",
   "execution_count": 37,
   "id": "fe44e0d9-a6ba-4167-be0a-00acad39f72b",
   "metadata": {},
   "outputs": [],
   "source": [
    "α0 = p1_t.coefficients()[0][0]\n",
    "α1 = p1_t.coefficients()[1][0]"
   ]
  },
  {
   "cell_type": "code",
   "execution_count": 38,
   "id": "21b3a030-53b8-4a4f-9a43-dad75d958fa5",
   "metadata": {},
   "outputs": [],
   "source": [
    "α0_new  = α0.simplify_real().combine()"
   ]
  },
  {
   "cell_type": "code",
   "execution_count": 39,
   "id": "f904e733-8030-4bcf-87bc-07801cd368bc",
   "metadata": {},
   "outputs": [],
   "source": [
    "α0_numerator = α0_new.numerator()"
   ]
  },
  {
   "cell_type": "code",
   "execution_count": 40,
   "id": "91aa8961-eb76-409f-bda2-f5294f85fb36",
   "metadata": {},
   "outputs": [],
   "source": [
    "C12 = B1[0,1].subs(c = -α0/α1)\n",
    "C12_diff = diff(C12, t)"
   ]
  },
  {
   "cell_type": "code",
   "execution_count": 41,
   "id": "5e7a5444-c045-43e7-99e0-363dd54aad35",
   "metadata": {},
   "outputs": [],
   "source": [
    "assume(t>0, t<1)\n",
    "C12_new_diff = C12_diff.numerator().simplify_real().expand().combine() # não zera em t=0 nem t=1"
   ]
  },
  {
   "cell_type": "code",
   "execution_count": 42,
   "id": "3294cc7e-273a-425d-bf11-c084aa5394a9",
   "metadata": {},
   "outputs": [],
   "source": [
    "var('u,v')\n",
    "assume(u>0)\n",
    "assume(v>0)"
   ]
  },
  {
   "cell_type": "code",
   "execution_count": 43,
   "id": "982f0a91",
   "metadata": {},
   "outputs": [],
   "source": [
    "#show(C12_new_diff )"
   ]
  },
  {
   "cell_type": "code",
   "execution_count": 44,
   "id": "2c49c1eb-263d-47c4-b190-a3510c09f51c",
   "metadata": {},
   "outputs": [],
   "source": [
    "C12_diff_uvt = C12_new_diff.subs({(3*t^2 - 2*t + 3):v^2}).subs({(3*t^2 + 2*t + 3):u^2}).simplify_real().expand().combine()"
   ]
  },
  {
   "cell_type": "code",
   "execution_count": 45,
   "id": "673d38c4",
   "metadata": {},
   "outputs": [
    {
     "data": {
      "text/plain": [
       "(sqrt(3), 2*sqrt(2), 2*sqrt(2/3), 2)"
      ]
     },
     "execution_count": 45,
     "metadata": {},
     "output_type": "execute_result"
    }
   ],
   "source": [
    "#Resolve 3*t^2 + 2*t + 3=u^2 em relação a u\n",
    "sol_u = solve(u**2 == 3*t^2 + 2*t + 3, u)[0].rhs() \n",
    "\n",
    "#Resolve 3*t^2 - 2*t + 3=v^2 em relação a v\n",
    "sol_v = solve(v**2 == 3*t^2 - 2*t + 3, v)[0].rhs()\n",
    "\n",
    "# obtem os valores de u para t=0 e t=1\n",
    "u0 = sol_u(t=0)\n",
    "u1 = sol_u(t=1)\n",
    "\n",
    "# obtem os valores de v para t=1/3 e t=1\n",
    "v0 = sol_v(t=1/3)\n",
    "v1 = sol_v(t=1)\n",
    "\n",
    "u0, u1, v0, v1"
   ]
  },
  {
   "cell_type": "code",
   "execution_count": 46,
   "id": "7c5b8ceb",
   "metadata": {},
   "outputs": [
    {
     "data": {
      "text/plain": [
       "[11, 11, 59]"
      ]
     },
     "execution_count": 46,
     "metadata": {},
     "output_type": "execute_result"
    }
   ],
   "source": [
    "poly_u_v_ico_num = C12_diff_uvt\n",
    "graus_u_v_t  =  [poly_u_v_ico_num.degree(u), poly_u_v_ico_num.degree(v), poly_u_v_ico_num.degree(t)]\n",
    "graus_u_v_t"
   ]
  },
  {
   "cell_type": "code",
   "execution_count": 50,
   "id": "243a966a",
   "metadata": {},
   "outputs": [],
   "source": [
    "from functools import reduce\n",
    "\n",
    "def dicionario_geral(poly):\n",
    "    \"\"\"INPUT - poly- Um polinomio como expressão simbolica na classe <class 'sage.symbolic.expression.Expression'>\n",
    "    OUTPUT - Um dicionario com CHAVE do tipo tupla multigrau (d1,d2,...,dl) correpondendo ao monomio \n",
    "    variavel1^(d1)*variavel2^(d2)*...*variavell^(dl) e VALOR sendo o coeficiente deste monomio.\n",
    "    OBSERVACAO- A ordem das variaveis imspota pelo SAGE manda na ordem das chaves do dicionario. \n",
    "    Exemplo-\n",
    "    sage: z, y, x, u = var('z y x u')\n",
    "    sage: p = (2100*u^2*x+2020*u^2*y^2)*z^0+(3031*u^3*y^3+1101*u*x)*z+(3022*u^3*y^2+202*x^2)*z^2\n",
    "    sage: variaveis = p.free_variables(); variaveis\n",
    "        (u,x,y,z)\n",
    "    sage: dicionario_geral(p)\n",
    "        {(0, 2, 0, 2): 202,\n",
    "         (1, 1, 0, 1): 1101,\n",
    "         (2, 0, 2, 0): 2020,\n",
    "         (2, 1, 0, 0): 2100,\n",
    "         (3, 0, 2, 2): 3022,\n",
    "         (3, 0, 3, 1): 3031}\n",
    "        \n",
    "        \n",
    "    sage: u,v = var('u v')\n",
    "    sage: p3 = 23*u^2*v^3+21*u^2*v+11*u*v+10*u+4;\n",
    "    sage: dicionario_geral(p3)\n",
    "      {(0, 0): 4, (1, 0): 10, (1, 1): 11, (2, 1): 21, (2, 3): 23}\n",
    "    \"\"\"\n",
    "    def nova_lista(lista, var):\n",
    "        new_lista = [];\n",
    "        for item in lista:\n",
    "            sublista = item[0].coefficients(var)\n",
    "            for subitem in sublista:\n",
    "                subitem = [subitem[0],subitem[1:]+item[-1]]\n",
    "                new_lista.append(subitem)\n",
    "        return  new_lista\n",
    "\n",
    "    #variaveis = (poly).free_variables(); Modifiquei aqui\n",
    "    variaveis = (poly).variables()\n",
    "#####################################################################\n",
    "    variavel_1 = variaveis[0];\n",
    "    l_variavel_1 = (poly).coefficients(variavel_1);\n",
    "    l = [[item[0],item[1:]] for item in l_variavel_1]\n",
    "    for var in variaveis[1:]:\n",
    "        l = nova_lista(l, var)\n",
    "    dicionario = {tuple(list(reversed(j[1]))) : j[0] for j in l}\n",
    "    return dicionario\n",
    "\n",
    "def coeficientes_de_moebius_simbolico_varias_variaveis(poly, graus, extremos, novo_coefsxy ):\n",
    "    \"\"\"INPUTS -\n",
    "    poly- Um polinomio como expressão simbolica na classe  <class 'sage.symbolic.expression.Expression'>;\n",
    "    graus - Uma lista com naturais representando o multigrau do monomio que voce quer o coeficiente.\n",
    "            Importante - A sua lista de graus deve estar na ordem que o Sage ordena as variaveis.\n",
    "    extremos - Uma lista com pares (a_i,b_i) que dão o intervalo da substituição de Moebius para\n",
    "    a variavel x_i, isto é,    x_i---> x_i = (a_i*u_i+b_i)/(u_i+1) para a variavel u_i.\n",
    "    OUTPUT - O coeficiente do monomio com multigrau dado pela lista graus depois da substituicao de Moebius\n",
    "    Exemplo - 1\n",
    "    sage: poly_teste = 23*u^2*v^3 + 21*u^2*v + 11*u*v + 10*u + 4;\n",
    "    sage: graus_teste = [1,2]; ## para acahar o coeficiente de (x_1)^1*(x_2)^2\n",
    "    sage: extremos_teste = [(3, 5), (7, 11)];\n",
    "    sage: novo_coefsxy_teste = dicionario_geral(poly_teste); # virar variável global;\n",
    "    sage: c = coeficientes_de_moebius_simbolico_varias_variaveis(poly_teste, graus_teste, extremos_teste, novo_coefsxy_teste)\n",
    "        1133944\n",
    "    Exemplo - 2\n",
    "    sage: poly = (2100*u^2*x+2020*u^2*y^2)*z^0+(3031*u^3*y^3+1101*u*x)*z+(3022*u^3*y^2+202*x^2)*z^2\n",
    "    sage: variaveis = poly.free_variables(); variaveis\n",
    "    sage: extremos_teste_2 = [(3,5),(7,11),(13,17),(19,23)];\n",
    "    sage: ru, rx, ry, rz = var('ru, rx, ry, rz')\n",
    "    sage: variaveis_r = [ru, rx, ry, rz]\n",
    "    sage: novo_coefsxy_teste_2 = dicionario_geral(poly); \n",
    "    sage: c = coeficientes_de_moebius_simbolico_varias_variaveis(poly, [0, 0, 1, 0], extremos_teste_2, novo_coefsxy_teste_2) ## Procurando o coeficiente de ru^0 * rx^0 * ry^1 * rz^0\n",
    "    sage: show(c)\n",
    "     244374065874\n",
    "       \n",
    "       OBSERVACAO: Para mais detalhes veja o arquivo /Artigo_de_Aplicacoes/Reuniao-casa-marcelo-26-07/Icosaedro-bloco-2-reunião-casa-marcelo/Funcao_Para_Coeficientes_Com_Varias_Variaveis_Versao_Final.ipynb\n",
    "        \"\"\"\n",
    "    #variaveis = (poly).free_variables(); Modifiquei aqui\n",
    "    variaveis = (poly).variables()\n",
    "    graus_total = [poly.degree(x) for x in variaveis];\n",
    "    chaves = novo_coefsxy.keys()\n",
    "    soma_total = 0\n",
    "    for chave in chaves:\n",
    "        somas = []\n",
    "        for k in range(len(chave)):\n",
    "            somak = 0\n",
    "            ck = chave[k]\n",
    "            gt = graus_total[k]\n",
    "            gks = graus[k]\n",
    "            a_k = extremos[k][0]\n",
    "            b_k = extremos[k][1]\n",
    "            for pp in range(ck+1):\n",
    "                somak = somak+((binomial(ck,pp))*(binomial(gt-ck, gks-pp))*((a_k)^(pp))*((b_k)^(ck-pp)))\n",
    "            somas.append(somak)\n",
    "        somas_e_valor = somas + [novo_coefsxy[chave]]\n",
    "        soma_total = soma_total + reduce(lambda a, b: a*b, somas_e_valor)\n",
    "    return soma_total\n",
    "\n",
    "from functools import reduce\n",
    "from sage.all import binomial\n",
    "\n",
    "def dicionario_geral_gpt(poly):\n",
    "    def nova_lista(lista, var):\n",
    "        new_lista = []\n",
    "        for item in lista:\n",
    "            sublista = item[0].coefficients(var)\n",
    "            for coef, monom in sublista:\n",
    "                new_lista.append([coef, monom + item[-1]])\n",
    "        return new_lista\n",
    "\n",
    "    variaveis = poly.variables()\n",
    "    variavel_1 = variaveis[0]\n",
    "    l_variavel_1 = poly.coefficients(variavel_1)\n",
    "    l = [[item[0], item[1:]] for item in l_variavel_1]\n",
    "    for var in variaveis[1:]:\n",
    "        l = nova_lista(l, var)\n",
    "    dicionario = {tuple(reversed(j[1])): j[0] for j in l}\n",
    "    return dicionario\n",
    "\n",
    "def coeficientes_de_moebius_simbolico_varias_variaveis_gpt(poly, graus, extremos, novo_coefsxy):\n",
    "    variaveis = poly.variables()\n",
    "    graus_total = [poly.degree(x) for x in variaveis]\n",
    "    chaves = novo_coefsxy.keys()\n",
    "    soma_total = 0\n",
    "\n",
    "    binomials_cache = {}\n",
    "    powers_cache = {}\n",
    "\n",
    "    for chave in chaves:\n",
    "        somas = []\n",
    "        for k in range(len(chave)):\n",
    "            ck = chave[k]\n",
    "            gt = graus_total[k]\n",
    "            gks = graus[k]\n",
    "            a_k = extremos[k][0]\n",
    "            b_k = extremos[k][1]\n",
    "\n",
    "            somak = 0\n",
    "            for pp in range(ck + 1):\n",
    "                binom_ck_pp = binomials_cache.get((ck, pp))\n",
    "                if binom_ck_pp is None:\n",
    "                    binom_ck_pp = binomial(ck, pp)\n",
    "                    binomials_cache[(ck, pp)] = binom_ck_pp\n",
    "\n",
    "                binom_gtck_gkspp = binomials_cache.get((gt - ck, gks - pp))\n",
    "                if binom_gtck_gkspp is None:\n",
    "                    binom_gtck_gkspp = binomial(gt - ck, gks - pp)\n",
    "                    binomials_cache[(gt - ck, gks - pp)] = binom_gtck_gkspp\n",
    "\n",
    "                a_k_pp = powers_cache.get((a_k, pp))\n",
    "                if a_k_pp is None:\n",
    "                    a_k_pp = a_k^pp\n",
    "                    powers_cache[(a_k, pp)] = a_k_pp\n",
    "\n",
    "                b_k_ck_pp = powers_cache.get((b_k, ck - pp))\n",
    "                if b_k_ck_pp is None:\n",
    "                    b_k_ck_pp = b_k^(ck - pp)\n",
    "                    powers_cache[(b_k, ck - pp)] = b_k_ck_pp\n",
    "\n",
    "                somak += binom_ck_pp * binom_gtck_gkspp * a_k_pp * b_k_ck_pp\n",
    "\n",
    "            somas.append(somak)\n",
    "        somas_e_valor = somas + [novo_coefsxy[chave]]\n",
    "        soma_total += reduce(lambda a, b: a * b, somas_e_valor)\n",
    "\n",
    "    return soma_total\n",
    "\n",
    "\n",
    "\n"
   ]
  },
  {
   "cell_type": "code",
   "execution_count": 51,
   "id": "13a5cd8e",
   "metadata": {},
   "outputs": [],
   "source": [
    "%%cython\n",
    "from libc.math cimport pow\n",
    "from functools import reduce\n",
    "from sage.all import binomial\n",
    "\n",
    "def dicionario_geral(poly):\n",
    "    \"\"\"INPUT - poly- Um polinomio como expressão simbolica na classe <class 'sage.symbolic.expression.Expression'>\n",
    "    OUTPUT - Um dicionario com CHAVE do tipo tupla multigrau (d1,d2,...,dl) correpondendo ao monomio \n",
    "    variavel1^(d1)*variavel2^(d2)*...*variavell^(dl) e VALOR sendo o coeficiente deste monomio.\n",
    "    OBSERVACAO- A ordem das variaveis imspota pelo SAGE manda na ordem das chaves do dicionario. \n",
    "    Exemplo-\n",
    "    sage: z, y, x, u = var('z y x u')\n",
    "    sage: p = (2100*u^2*x+2020*u^2*y^2)*z^0+(3031*u^3*y^3+1101*u*x)*z+(3022*u^3*y^2+202*x^2)*z^2\n",
    "    sage: variaveis = p.free_variables(); variaveis\n",
    "        (u,x,y,z)\n",
    "    sage: dicionario_geral(p)\n",
    "        {(0, 2, 0, 2): 202,\n",
    "         (1, 1, 0, 1): 1101,\n",
    "         (2, 0, 2, 0): 2020,\n",
    "         (2, 1, 0, 0): 2100,\n",
    "         (3, 0, 2, 2): 3022,\n",
    "         (3, 0, 3, 1): 3031}\n",
    "        \n",
    "        \n",
    "    sage: u,v = var('u v')\n",
    "    sage: p3 = 23*u^2*v^3+21*u^2*v+11*u*v+10*u+4;\n",
    "    sage: dicionario_geral(p3)\n",
    "      {(0, 0): 4, (1, 0): 10, (1, 1): 11, (2, 1): 21, (2, 3): 23}\n",
    "    \"\"\"\n",
    "    def nova_lista(lista, var):\n",
    "        new_lista = [];\n",
    "        for item in lista:\n",
    "            sublista = item[0].coefficients(var)\n",
    "            for subitem in sublista:\n",
    "                subitem = [subitem[0],subitem[1:]+item[-1]]\n",
    "                new_lista.append(subitem)\n",
    "        return  new_lista\n",
    "\n",
    "    #variaveis = (poly).free_variables(); Modifiquei aqui\n",
    "    variaveis = (poly).variables()\n",
    "#####################################################################\n",
    "    variavel_1 = variaveis[0];\n",
    "    l_variavel_1 = (poly).coefficients(variavel_1);\n",
    "    l = [[item[0],item[1:]] for item in l_variavel_1]\n",
    "    for var in variaveis[1:]:\n",
    "        l = nova_lista(l, var)\n",
    "    dicionario = {tuple(list(reversed(j[1]))) : j[0] for j in l}\n",
    "    return dicionario\n",
    "from functools import reduce\n",
    "\n",
    "def coeff_de_moebius(poly, graus, graus_total, chaves, extremos, novo_coefsxy):    \n",
    "    soma_total = 0\n",
    "\n",
    "    binomials_cache = {}\n",
    "    powers_cache = {}\n",
    "\n",
    "    for chave in chaves:\n",
    "        somas = []\n",
    "        for k in range(len(chave)):\n",
    "            ck = chave[k]\n",
    "            gt = graus_total[k]\n",
    "            gks = graus[k]\n",
    "            a_k = extremos[k][0]\n",
    "            b_k = extremos[k][1]\n",
    "\n",
    "            somak = 0\n",
    "            for pp in range(ck + 1):\n",
    "                binom_ck_pp = binomials_cache.get((ck, pp))\n",
    "                if binom_ck_pp is None:\n",
    "                    binom_ck_pp = binomial(ck, pp)\n",
    "                    binomials_cache[(ck, pp)] = binom_ck_pp\n",
    "\n",
    "                binom_gtck_gkspp = binomials_cache.get((gt - ck, gks - pp))\n",
    "                if binom_gtck_gkspp is None:\n",
    "                    binom_gtck_gkspp = binomial(gt - ck, gks - pp)\n",
    "                    binomials_cache[(gt - ck, gks - pp)] = binom_gtck_gkspp\n",
    "\n",
    "                a_k_pp = powers_cache.get((a_k, pp))\n",
    "                if a_k_pp is None:\n",
    "                    a_k_pp = pow(a_k, pp)\n",
    "                    powers_cache[(a_k, pp)] = a_k_pp\n",
    "\n",
    "                b_k_ck_pp = powers_cache.get((b_k, ck - pp))\n",
    "                if b_k_ck_pp is None:\n",
    "                    b_k_ck_pp = pow(b_k,(ck - pp))\n",
    "                    powers_cache[(b_k, ck - pp)] = b_k_ck_pp\n",
    "\n",
    "                somak += binom_ck_pp * binom_gtck_gkspp * a_k_pp * b_k_ck_pp\n",
    "\n",
    "            somas.append(somak)\n",
    "        somas_e_valor = somas + [novo_coefsxy[chave]]\n",
    "        soma_total += reduce(lambda a, b: a * b, somas_e_valor)\n",
    "\n",
    "    return soma_total\n"
   ]
  },
  {
   "cell_type": "code",
   "execution_count": 53,
   "id": "c41335cd",
   "metadata": {},
   "outputs": [],
   "source": [
    "dicionario = dicionario_geral(poly_u_v_ico_num)"
   ]
  },
  {
   "cell_type": "code",
   "execution_count": 30,
   "id": "2388f4d4",
   "metadata": {},
   "outputs": [],
   "source": [
    "#dicionario_em_AA = {tuple([ZZ(k) for k in key]) : AA(value) for key, value in  dicionario.items()}\n"
   ]
  },
  {
   "cell_type": "code",
   "execution_count": 54,
   "id": "76e78281",
   "metadata": {},
   "outputs": [
    {
     "data": {
      "text/plain": [
       "8640"
      ]
     },
     "execution_count": 54,
     "metadata": {},
     "output_type": "execute_result"
    }
   ],
   "source": [
    "n_uplas = [[i,j,k] for i in range(graus_u_v_t[0]+1) for j in range(graus_u_v_t[1]+1) for k in range(graus_u_v_t[2]+1)]; len(n_uplas)"
   ]
  },
  {
   "cell_type": "code",
   "execution_count": 55,
   "id": "9fb9c5dd",
   "metadata": {},
   "outputs": [],
   "source": [
    "poly = poly_u_v_ico_num\n",
    "extremos = [(u0, u1), (v0, v1), (0, 1)]\n",
    "variaveis = poly.variables()\n",
    "graus_total = [poly.degree(x) for x in variaveis]\n",
    "chaves = dicionario.keys()\n",
    "novo_coefsxy = dicionario"
   ]
  },
  {
   "cell_type": "code",
   "execution_count": null,
   "id": "eb1459f3",
   "metadata": {},
   "outputs": [
    {
     "name": "stdout",
     "output_type": "stream",
     "text": [
      "0\n",
      "10\n",
      "20\n",
      "30\n",
      "40\n",
      "50\n"
     ]
    }
   ],
   "source": [
    "coeff = []\n",
    "for i, grau in enumerate(n_uplas):\n",
    "    \n",
    "    c = coeff_de_moebius(poly, grau, graus_total, chaves, extremos, novo_coefsxy)\n",
    "    coeff.append(c)\n",
    "    if i%10==0:\n",
    "        print(i)\n",
    "\n",
    "\n",
    "#%time coeff = [coeff_de_moebius(poly, grau, graus_total, chaves, extremos, novo_coefsxy) for grau in n_uplas]"
   ]
  },
  {
   "cell_type": "code",
   "execution_count": null,
   "id": "16e8f38b",
   "metadata": {},
   "outputs": [],
   "source": [
    "coeficientes_em_AA"
   ]
  },
  {
   "cell_type": "code",
   "execution_count": null,
   "id": "b2d24c0f",
   "metadata": {},
   "outputs": [],
   "source": [
    "dicionario_em_AA\n"
   ]
  },
  {
   "cell_type": "code",
   "execution_count": null,
   "id": "7825b819",
   "metadata": {},
   "outputs": [],
   "source": []
  }
 ],
 "metadata": {
  "kernelspec": {
   "display_name": "SageMath 9.5",
   "language": "sage",
   "name": "sagemath"
  },
  "language_info": {
   "codemirror_mode": {
    "name": "ipython",
    "version": 3
   },
   "file_extension": ".py",
   "mimetype": "text/x-python",
   "name": "python",
   "nbconvert_exporter": "python",
   "pygments_lexer": "ipython3",
   "version": "3.10.12"
  }
 },
 "nbformat": 4,
 "nbformat_minor": 5
}
