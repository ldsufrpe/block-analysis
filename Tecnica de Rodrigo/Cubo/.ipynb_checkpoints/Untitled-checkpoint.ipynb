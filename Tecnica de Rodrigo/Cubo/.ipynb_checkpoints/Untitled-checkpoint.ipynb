{
 "cells": [
  {
   "cell_type": "markdown",
   "metadata": {},
   "source": [
    "##### Otimizando função de coeficientes"
   ]
  },
  {
   "cell_type": "code",
   "execution_count": 8,
   "metadata": {},
   "outputs": [],
   "source": [
    "def dicionario_geral(poly):\n",
    "    \"\"\"INPUT - poly- Um polinomio como expressão simbolica na classe <class 'sage.symbolic.expression.Expression'>\n",
    "    OUTPUT - Um dicionario com CHAVE do tipo tupla multigrau (d1,d2,...,dl) correpondendo ao monomio \n",
    "    variavel1^(d1)*variavel2^(d2)*...*variavell^(dl) e VALOR sendo o coeficiente deste monomio.\n",
    "    OBSERVACAO- A ordem das variaveis imspota pelo SAGE manda na ordem das chaves do dicionario. \n",
    "    Exemplo-\n",
    "    sage: z, y, x, u = var('z y x u')\n",
    "    sage: p = (2100*u^2*x+2020*u^2*y^2)*z^0+(3031*u^3*y^3+1101*u*x)*z+(3022*u^3*y^2+202*x^2)*z^2\n",
    "    sage: variaveis = p.free_variables(); variaveis\n",
    "        (u,x,y,z)\n",
    "    sage: dicionario_geral(p)\n",
    "        {(0, 2, 0, 2): 202,\n",
    "         (1, 1, 0, 1): 1101,\n",
    "         (2, 0, 2, 0): 2020,\n",
    "         (2, 1, 0, 0): 2100,\n",
    "         (3, 0, 2, 2): 3022,\n",
    "         (3, 0, 3, 1): 3031}\n",
    "        \n",
    "        \n",
    "    sage: u,v = var('u v')\n",
    "    sage: p3 = 23*u^2*v^3+21*u^2*v+11*u*v+10*u+4;\n",
    "    sage: dicionario_geral(p3)\n",
    "      {(0, 0): 4, (1, 0): 10, (1, 1): 11, (2, 1): 21, (2, 3): 23}\n",
    "    \"\"\"\n",
    "    def nova_lista(lista, var):\n",
    "        new_lista = [];\n",
    "        for item in lista:\n",
    "            sublista = item[0].coefficients(var)\n",
    "            for subitem in sublista:\n",
    "                subitem = [subitem[0],subitem[1:]+item[-1]]\n",
    "                new_lista.append(subitem)\n",
    "        return  new_lista\n",
    "\n",
    "    #variaveis = (poly).free_variables(); Modifiquei aqui\n",
    "    variaveis = (poly).variables()\n",
    "#####################################################################\n",
    "    variavel_1 = variaveis[0];\n",
    "    l_variavel_1 = (poly).coefficients(variavel_1);\n",
    "    l = [[item[0],item[1:]] for item in l_variavel_1]\n",
    "    for var in variaveis[1:]:\n",
    "        l = nova_lista(l, var)\n",
    "    dicionario = {tuple(list(reversed(j[1]))) : j[0] for j in l}\n",
    "    return dicionario\n",
    "\n",
    "\n",
    "def coeff_de_moebius(poly, graus, extremos, novo_coefsxy):    \n",
    "    soma_total = 0\n",
    "\n",
    "    binomials_cache = {}\n",
    "    powers_cache = {}\n",
    "\n",
    "    for chave in chaves:\n",
    "        somas = []\n",
    "        for k in range(len(chave)):\n",
    "            ck = chave[k]\n",
    "            gt = graus_total[k]\n",
    "            gks = graus[k]\n",
    "            a_k = extremos[k][0]\n",
    "            b_k = extremos[k][1]\n",
    "\n",
    "            somak = 0\n",
    "            for pp in range(ck + 1):\n",
    "                binom_ck_pp = binomials_cache.get((ck, pp))\n",
    "                if binom_ck_pp is None:\n",
    "                    binom_ck_pp = binomial(ck, pp)\n",
    "                    binomials_cache[(ck, pp)] = binom_ck_pp\n",
    "\n",
    "                binom_gtck_gkspp = binomials_cache.get((gt - ck, gks - pp))\n",
    "                if binom_gtck_gkspp is None:\n",
    "                    binom_gtck_gkspp = binomial(gt - ck, gks - pp)\n",
    "                    binomials_cache[(gt - ck, gks - pp)] = binom_gtck_gkspp\n",
    "\n",
    "                a_k_pp = powers_cache.get((a_k, pp))\n",
    "                if a_k_pp is None:\n",
    "                    a_k_pp = a_k^pp\n",
    "                    powers_cache[(a_k, pp)] = a_k_pp\n",
    "\n",
    "                b_k_ck_pp = powers_cache.get((b_k, ck - pp))\n",
    "                if b_k_ck_pp is None:\n",
    "                    b_k_ck_pp = b_k^(ck - pp)\n",
    "                    powers_cache[(b_k, ck - pp)] = b_k_ck_pp\n",
    "\n",
    "                somak += binom_ck_pp * binom_gtck_gkspp * a_k_pp * b_k_ck_pp\n",
    "\n",
    "            somas.append(somak)\n",
    "        somas_e_valor = somas + [novo_coefsxy[chave]]\n",
    "        soma_total += reduce(lambda a, b: a * b, somas_e_valor)\n",
    "\n",
    "    return soma_total"
   ]
  },
  {
   "cell_type": "code",
   "execution_count": 4,
   "metadata": {},
   "outputs": [],
   "source": [
    "var('u, x, v, y, z')\n",
    "poly = (2100*u^2*x+2020*u^2*y^2)*z^0+(3031*u^3*y^3+1101*u*x)*z+(3022*u^3*y^2+202*x^2)*z^2"
   ]
  },
  {
   "cell_type": "code",
   "execution_count": 6,
   "metadata": {},
   "outputs": [],
   "source": [
    "variaveis = poly.free_variables()\n",
    "extremos_teste_2 = [(3,5),(7,11),(13,17),(19,23)];"
   ]
  },
  {
   "cell_type": "code",
   "execution_count": 9,
   "metadata": {},
   "outputs": [],
   "source": [
    "novo_coefsxy_teste = dicionario_geral(poly)"
   ]
  },
  {
   "cell_type": "code",
   "execution_count": 13,
   "metadata": {},
   "outputs": [
    {
     "name": "stdout",
     "output_type": "stream",
     "text": [
      "1.07 ms ± 10.2 µs per loop (mean ± std. dev. of 7 runs, 1000 loops each)\n"
     ]
    }
   ],
   "source": [
    "%timeit coeff_de_moebius(poly, [0, 0, 1, 0], extremos_teste_2, novo_coefsxy_teste)"
   ]
  },
  {
   "cell_type": "markdown",
   "metadata": {},
   "source": [
    "#### Teste robusto"
   ]
  },
  {
   "cell_type": "code",
   "execution_count": 19,
   "metadata": {},
   "outputs": [],
   "source": [
    "poly = load(\"poly_uvt\")\n",
    "n_uplas = load(\"n_uplas\")\n",
    "dic = load(\"dic\")\n",
    "extremos = load(\"extremos\")"
   ]
  },
  {
   "cell_type": "code",
   "execution_count": 20,
   "metadata": {},
   "outputs": [],
   "source": [
    "variaveis = poly.variables()\n",
    "graus_total = [poly.degree(x) for x in variaveis]\n",
    "chaves = dic.keys()"
   ]
  },
  {
   "cell_type": "code",
   "execution_count": null,
   "metadata": {},
   "outputs": [],
   "source": []
  }
 ],
 "metadata": {
  "kernelspec": {
   "display_name": "SageMath 9.2",
   "language": "sage",
   "name": "sagemath"
  },
  "language_info": {
   "codemirror_mode": {
    "name": "ipython",
    "version": 3
   },
   "file_extension": ".py",
   "mimetype": "text/x-python",
   "name": "python",
   "nbconvert_exporter": "python",
   "pygments_lexer": "ipython3",
   "version": "3.9.1"
  },
  "widgets": {
   "application/vnd.jupyter.widget-state+json": {
    "state": {},
    "version_major": 2,
    "version_minor": 0
   }
  }
 },
 "nbformat": 4,
 "nbformat_minor": 4
}
