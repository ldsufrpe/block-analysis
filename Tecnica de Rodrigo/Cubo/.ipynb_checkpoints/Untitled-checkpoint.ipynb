{
 "cells": [
  {
   "cell_type": "markdown",
   "metadata": {},
   "source": [
    "##### Otimizando função de coeficientes"
   ]
  },
  {
   "cell_type": "code",
   "execution_count": 3,
   "metadata": {},
   "outputs": [],
   "source": [
    "from functools import reduce\n",
    "from sage.all import binomial\n",
    "def dicionario_geral(poly):\n",
    "    \"\"\"INPUT - poly- Um polinomio como expressão simbolica na classe <class 'sage.symbolic.expression.Expression'>\n",
    "    OUTPUT - Um dicionario com CHAVE do tipo tupla multigrau (d1,d2,...,dl) correpondendo ao monomio \n",
    "    variavel1^(d1)*variavel2^(d2)*...*variavell^(dl) e VALOR sendo o coeficiente deste monomio.\n",
    "    OBSERVACAO- A ordem das variaveis imspota pelo SAGE manda na ordem das chaves do dicionario. \n",
    "    Exemplo-\n",
    "    sage: z, y, x, u = var('z y x u')\n",
    "    sage: p = (2100*u^2*x+2020*u^2*y^2)*z^0+(3031*u^3*y^3+1101*u*x)*z+(3022*u^3*y^2+202*x^2)*z^2\n",
    "    sage: variaveis = p.free_variables(); variaveis\n",
    "        (u,x,y,z)\n",
    "    sage: dicionario_geral(p)\n",
    "        {(0, 2, 0, 2): 202,\n",
    "         (1, 1, 0, 1): 1101,\n",
    "         (2, 0, 2, 0): 2020,\n",
    "         (2, 1, 0, 0): 2100,\n",
    "         (3, 0, 2, 2): 3022,\n",
    "         (3, 0, 3, 1): 3031}\n",
    "        \n",
    "        \n",
    "    sage: u,v = var('u v')\n",
    "    sage: p3 = 23*u^2*v^3+21*u^2*v+11*u*v+10*u+4;\n",
    "    sage: dicionario_geral(p3)\n",
    "      {(0, 0): 4, (1, 0): 10, (1, 1): 11, (2, 1): 21, (2, 3): 23}\n",
    "    \"\"\"\n",
    "    def nova_lista(lista, var):\n",
    "        new_lista = [];\n",
    "        for item in lista:\n",
    "            sublista = item[0].coefficients(var)\n",
    "            for subitem in sublista:\n",
    "                subitem = [subitem[0],subitem[1:]+item[-1]]\n",
    "                new_lista.append(subitem)\n",
    "        return  new_lista\n",
    "\n",
    "    #variaveis = (poly).free_variables(); Modifiquei aqui\n",
    "    variaveis = (poly).variables()\n",
    "#####################################################################\n",
    "    variavel_1 = variaveis[0];\n",
    "    l_variavel_1 = (poly).coefficients(variavel_1);\n",
    "    l = [[item[0],item[1:]] for item in l_variavel_1]\n",
    "    for var in variaveis[1:]:\n",
    "        l = nova_lista(l, var)\n",
    "    dicionario = {tuple(list(reversed(j[1]))) : j[0] for j in l}\n",
    "    return dicionario\n",
    "from functools import reduce\n",
    "\n",
    "def coeff_de_moebius(poly, graus, graus_total, extremos, dic_coeffs):    \n",
    "    soma_total = 0\n",
    "\n",
    "    binomials_cache = {}\n",
    "    powers_cache = {}\n",
    "\n",
    "    for chave in novo_coefsxy.keys():\n",
    "        somas = []\n",
    "        for k in range(len(chave)):\n",
    "            ck = chave[k]\n",
    "            gt = graus_total[k]\n",
    "            gks = graus[k]\n",
    "            a_k = extremos[k][0]\n",
    "            b_k = extremos[k][1]\n",
    "\n",
    "            somak = 0\n",
    "            for pp in range(ck + 1):\n",
    "                binom_ck_pp = binomials_cache.get((ck, pp))\n",
    "                if binom_ck_pp is None:\n",
    "                    binom_ck_pp = binomial(ck, pp)\n",
    "                    binomials_cache[(ck, pp)] = binom_ck_pp\n",
    "\n",
    "                binom_gtck_gkspp = binomials_cache.get((gt - ck, gks - pp))\n",
    "                if binom_gtck_gkspp is None:\n",
    "                    binom_gtck_gkspp = binomial(gt - ck, gks - pp)\n",
    "                    binomials_cache[(gt - ck, gks - pp)] = binom_gtck_gkspp\n",
    "\n",
    "                a_k_pp = powers_cache.get((a_k, pp))\n",
    "                if a_k_pp is None:\n",
    "                    a_k_pp = pow(a_k, pp)\n",
    "                    powers_cache[(a_k, pp)] = a_k_pp\n",
    "\n",
    "                b_k_ck_pp = powers_cache.get((b_k, ck - pp))\n",
    "                if b_k_ck_pp is None:\n",
    "                    b_k_ck_pp = pow(b_k,(ck - pp))\n",
    "                    powers_cache[(b_k, ck - pp)] = b_k_ck_pp\n",
    "\n",
    "                somak += binom_ck_pp * binom_gtck_gkspp * a_k_pp * b_k_ck_pp\n",
    "\n",
    "            somas.append(somak)\n",
    "        somas_e_valor = somas + [novo_coefsxy[chave]]\n",
    "        soma_total += reduce(lambda a, b: a * b, somas_e_valor)\n",
    "\n",
    "    return soma_total"
   ]
  },
  {
   "cell_type": "code",
   "execution_count": null,
   "metadata": {},
   "outputs": [],
   "source": []
  },
  {
   "cell_type": "code",
   "execution_count": 4,
   "metadata": {},
   "outputs": [],
   "source": []
  },
  {
   "cell_type": "code",
   "execution_count": 5,
   "metadata": {},
   "outputs": [],
   "source": []
  },
  {
   "cell_type": "code",
   "execution_count": 15,
   "metadata": {},
   "outputs": [],
   "source": [
    "var('u, x, v, y, z')\n",
    "poly = (2100*u^2*x+2020*u^2*y^2)*z^0+(3031*u^3*y^3+1101*u*x)*z+(3022*u^3*y^2+202*x^2)*z^2\n",
    "dic =polynomial_to_dict(poly)\n",
    "variaveis = poly.variables()\n",
    "graus_total = [poly.degree(x) for x in variaveis]\n",
    "extremos = [(3,5),(7,11),(13,17),(19,23)]\n",
    "novo_coefsxy_teste =  dic"
   ]
  },
  {
   "cell_type": "code",
   "execution_count": 8,
   "metadata": {},
   "outputs": [
    {
     "data": {
      "text/plain": [
       "244374065874"
      ]
     },
     "execution_count": 8,
     "metadata": {},
     "output_type": "execute_result"
    }
   ],
   "source": [
    "coeff_de_moebius(poly, [0, 0, 1, 0] ,graus_total,  extremos, novo_coefsxy_teste)"
   ]
  },
  {
   "cell_type": "code",
   "execution_count": 9,
   "metadata": {},
   "outputs": [],
   "source": [
    "load(\"util.sage\")"
   ]
  },
  {
   "cell_type": "code",
   "execution_count": 11,
   "metadata": {},
   "outputs": [
    {
     "data": {
      "text/plain": [
       "244374065874"
      ]
     },
     "execution_count": 11,
     "metadata": {},
     "output_type": "execute_result"
    }
   ],
   "source": [
    "coeff_de_moebius(poly, [0, 0, 1, 0],graus_total,  extremos_teste_2, novo_coefsxy_teste)"
   ]
  },
  {
   "cell_type": "code",
   "execution_count": 12,
   "metadata": {},
   "outputs": [],
   "source": [
    "sage: u, v = var('u v')\n",
    "sage: poly = 23*u^2*v^3 + 21*u^2*v + 11*u*v + 10*u + 4\n",
    "variaveis = poly.variables()\n",
    "graus_total = [poly.degree(x) for x in variaveis]\n",
    "sage: degrees_test = [1, 2]  # To find the coefficient of (x_1)^1 * (x_2)^2\n",
    "sage: bounds_test = [(3, 5), (7, 11)]\n",
    "sage: new_coeffs_xy_test = polynomial_to_dict(poly)  # Must be a global variable"
   ]
  },
  {
   "cell_type": "code",
   "execution_count": 14,
   "metadata": {},
   "outputs": [
    {
     "data": {
      "text/plain": [
       "1133944"
      ]
     },
     "execution_count": 14,
     "metadata": {},
     "output_type": "execute_result"
    }
   ],
   "source": [
    "coeff_de_moebius(poly,degrees_test, graus_total, bounds_test, new_coeffs_xy_test)"
   ]
  },
  {
   "cell_type": "markdown",
   "metadata": {},
   "source": [
    "#### Teste robusto"
   ]
  },
  {
   "cell_type": "code",
   "execution_count": 16,
   "metadata": {},
   "outputs": [],
   "source": [
    "poly = load(\"poly_uvt\")\n",
    "n_uplas = load(\"n_uplas\")\n",
    "dic = load(\"dic\")\n",
    "extremos = load(\"extremos\")"
   ]
  },
  {
   "cell_type": "code",
   "execution_count": 17,
   "metadata": {},
   "outputs": [],
   "source": [
    "variaveis = poly.variables()\n",
    "graus_total = [poly.degree(x) for x in variaveis]\n",
    "chaves = dic.keys()\n",
    "novo_coefsxy = dic"
   ]
  },
  {
   "cell_type": "code",
   "execution_count": 23,
   "metadata": {},
   "outputs": [
    {
     "name": "stdout",
     "output_type": "stream",
     "text": [
      "11.4 s ± 244 ms per loop (mean ± std. dev. of 7 runs, 1 loop each)\n"
     ]
    }
   ],
   "source": [
    "%timeit coeff = [coeff_de_moebius(poly, grau, graus_total, chaves, extremos, novo_coefsxy) for grau in n_uplas]"
   ]
  },
  {
   "cell_type": "code",
   "execution_count": null,
   "metadata": {},
   "outputs": [],
   "source": []
  },
  {
   "cell_type": "code",
   "execution_count": 19,
   "metadata": {},
   "outputs": [
    {
     "data": {
      "text/plain": [
       "400"
      ]
     },
     "execution_count": 19,
     "metadata": {},
     "output_type": "execute_result"
    }
   ],
   "source": [
    "len(n_uplas)"
   ]
  },
  {
   "cell_type": "code",
   "execution_count": null,
   "metadata": {},
   "outputs": [],
   "source": []
  },
  {
   "cell_type": "code",
   "execution_count": null,
   "metadata": {},
   "outputs": [],
   "source": []
  },
  {
   "cell_type": "code",
   "execution_count": null,
   "metadata": {},
   "outputs": [],
   "source": []
  }
 ],
 "metadata": {
  "kernelspec": {
   "display_name": "SageMath 10.3",
   "language": "sage",
   "name": "sagemath"
  },
  "language_info": {
   "codemirror_mode": {
    "name": "ipython",
    "version": 3
   },
   "file_extension": ".py",
   "mimetype": "text/x-python",
   "name": "python",
   "nbconvert_exporter": "python",
   "pygments_lexer": "ipython3",
   "version": "3.12.3"
  },
  "widgets": {
   "application/vnd.jupyter.widget-state+json": {
    "state": {},
    "version_major": 2,
    "version_minor": 0
   }
  }
 },
 "nbformat": 4,
 "nbformat_minor": 4
}
