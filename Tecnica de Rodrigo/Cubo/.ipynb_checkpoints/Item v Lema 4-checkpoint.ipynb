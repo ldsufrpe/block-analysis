{
 "cells": [
  {
   "cell_type": "code",
   "execution_count": 11,
   "id": "420573b1-6761-4960-b024-b2b29de4cc57",
   "metadata": {},
   "outputs": [],
   "source": [
    "B1 = load('blocos/bloco_1_linear_cubo'); ##Isso na formula  6.28 secao 6.4.1\n",
    "B1 = B1.apply_map(lambda x: x.simplify_real().combine())\n",
    "load(\"../util.sage\")"
   ]
  },
  {
   "cell_type": "markdown",
   "id": "94f4395b-3499-4d9e-86ae-637a64c6287a",
   "metadata": {},
   "source": [
    "##### 5. There exits a $\\delta<1$ such $(O_1)_{12}(c(t),t)$ is negative for $t$ in $(0,\\delta)$ and is positive for $t$ in $(\\delta,1)$ ."
   ]
  },
  {
   "cell_type": "code",
   "execution_count": 12,
   "id": "42115595-f69e-4713-bdab-17371e562672",
   "metadata": {},
   "outputs": [],
   "source": [
    "p1_t = B1.det()"
   ]
  },
  {
   "cell_type": "code",
   "execution_count": 13,
   "id": "fe44e0d9-a6ba-4167-be0a-00acad39f72b",
   "metadata": {},
   "outputs": [],
   "source": [
    "α0 = p1_t.coefficients()[0][0]\n",
    "α1 = p1_t.coefficients()[1][0]"
   ]
  },
  {
   "cell_type": "code",
   "execution_count": 14,
   "id": "21b3a030-53b8-4a4f-9a43-dad75d958fa5",
   "metadata": {},
   "outputs": [],
   "source": [
    "α0_new  = α0.simplify_real().combine()"
   ]
  },
  {
   "cell_type": "code",
   "execution_count": 15,
   "id": "f904e733-8030-4bcf-87bc-07801cd368bc",
   "metadata": {},
   "outputs": [],
   "source": [
    "α0_numerator = α0_new.numerator()"
   ]
  },
  {
   "cell_type": "code",
   "execution_count": 16,
   "id": "91aa8961-eb76-409f-bda2-f5294f85fb36",
   "metadata": {},
   "outputs": [],
   "source": [
    "C12 = B1[0,1].subs(c = -α0/α1)"
   ]
  },
  {
   "cell_type": "code",
   "execution_count": 21,
   "id": "5e7a5444-c045-43e7-99e0-363dd54aad35",
   "metadata": {},
   "outputs": [],
   "source": [
    "C12_new = C12.numerator().simplify_real() # não zera em t=0 nem t=1"
   ]
  },
  {
   "cell_type": "code",
   "execution_count": null,
   "id": "3294cc7e-273a-425d-bf11-c084aa5394a9",
   "metadata": {},
   "outputs": [],
   "source": []
  }
 ],
 "metadata": {
  "kernelspec": {
   "display_name": "SageMath 9.5",
   "language": "sage",
   "name": "sagemath"
  },
  "language_info": {
   "codemirror_mode": {
    "name": "ipython",
    "version": 3
   },
   "file_extension": ".py",
   "mimetype": "text/x-python",
   "name": "python",
   "nbconvert_exporter": "python",
   "pygments_lexer": "ipython3",
   "version": "3.10.12"
  }
 },
 "nbformat": 4,
 "nbformat_minor": 5
}
