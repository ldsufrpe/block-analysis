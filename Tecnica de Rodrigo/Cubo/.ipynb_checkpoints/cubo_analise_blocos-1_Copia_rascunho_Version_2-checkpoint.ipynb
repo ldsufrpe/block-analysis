{
 "cells": [
  {
   "cell_type": "code",
   "execution_count": 1,
   "metadata": {
    "collapsed": false
   },
   "outputs": [
   ],
   "source": [
    "load(\"util.sage\")"
   ]
  },
  {
   "cell_type": "markdown",
   "metadata": {
    "collapsed": false
   },
   "source": [
    "#### Bloco 1"
   ]
  },
  {
   "cell_type": "code",
   "execution_count": 2,
   "metadata": {
    "collapsed": false
   },
   "outputs": [
    {
     "data": {
      "text/html": [
       "<html>\\[\\newcommand{\\Bold}[1]{\\mathbf{#1}}\\left(\\begin{array}{rr}\n",
       "24 \\, c - \\frac{1}{12} \\, \\sqrt{3} - \\frac{3}{8} \\, \\sqrt{2} - \\frac{3}{4} & 24 \\, c - \\frac{\\frac{1}{3} \\, \\sqrt{3} t}{t^{3} + 3 \\, t^{2} + 3 \\, t + 1} - \\frac{\\frac{1}{3} \\, \\sqrt{3}}{t^{3} + 3 \\, t^{2} + 3 \\, t + 1} - \\frac{3 \\, t}{{\\left(3 \\, t^{2} + 2 \\, t + 3\\right)}^{\\frac{3}{2}}} + \\frac{3 \\, t}{{\\left(3 \\, t^{2} - 2 \\, t + 3\\right)}^{\\frac{3}{2}}} - \\frac{9}{{\\left(3 \\, t^{2} + 2 \\, t + 3\\right)}^{\\frac{3}{2}}} - \\frac{9}{{\\left(3 \\, t^{2} - 2 \\, t + 3\\right)}^{\\frac{3}{2}}} + \\frac{\\frac{1}{3} \\, \\sqrt{3} t}{{\\left| t - 1 \\right|}^{3}} - \\frac{\\frac{1}{3} \\, \\sqrt{3}}{{\\left| t - 1 \\right|}^{3}} \\\\\n",
       "24 \\, c t - \\frac{\\frac{1}{3} \\, \\sqrt{3} t}{t^{3} + 3 \\, t^{2} + 3 \\, t + 1} - \\frac{\\frac{1}{3} \\, \\sqrt{3}}{t^{3} + 3 \\, t^{2} + 3 \\, t + 1} - \\frac{9 \\, t}{{\\left(3 \\, t^{2} + 2 \\, t + 3\\right)}^{\\frac{3}{2}}} - \\frac{9 \\, t}{{\\left(3 \\, t^{2} - 2 \\, t + 3\\right)}^{\\frac{3}{2}}} - \\frac{3}{{\\left(3 \\, t^{2} + 2 \\, t + 3\\right)}^{\\frac{3}{2}}} + \\frac{3}{{\\left(3 \\, t^{2} - 2 \\, t + 3\\right)}^{\\frac{3}{2}}} - \\frac{\\frac{1}{3} \\, \\sqrt{3} t}{{\\left| t - 1 \\right|}^{3}} + \\frac{\\frac{1}{3} \\, \\sqrt{3}}{{\\left| t - 1 \\right|}^{3}} & 24 \\, c t - \\frac{\\frac{1}{12} \\, \\sqrt{3}}{t^{2}} - \\frac{\\frac{3}{8} \\, \\sqrt{2}}{t^{2}} - \\frac{\\frac{3}{4}}{t^{2}}\n",
       "\\end{array}\\right)\\]</html>"
      ],
      "text/latex": [
       "$$\\newcommand{\\Bold}[1]{\\mathbf{#1}}\\left(\\begin{array}{rr}\n",
       "24 \\, c - \\frac{1}{12} \\, \\sqrt{3} - \\frac{3}{8} \\, \\sqrt{2} - \\frac{3}{4} & 24 \\, c - \\frac{\\frac{1}{3} \\, \\sqrt{3} t}{t^{3} + 3 \\, t^{2} + 3 \\, t + 1} - \\frac{\\frac{1}{3} \\, \\sqrt{3}}{t^{3} + 3 \\, t^{2} + 3 \\, t + 1} - \\frac{3 \\, t}{{\\left(3 \\, t^{2} + 2 \\, t + 3\\right)}^{\\frac{3}{2}}} + \\frac{3 \\, t}{{\\left(3 \\, t^{2} - 2 \\, t + 3\\right)}^{\\frac{3}{2}}} - \\frac{9}{{\\left(3 \\, t^{2} + 2 \\, t + 3\\right)}^{\\frac{3}{2}}} - \\frac{9}{{\\left(3 \\, t^{2} - 2 \\, t + 3\\right)}^{\\frac{3}{2}}} + \\frac{\\frac{1}{3} \\, \\sqrt{3} t}{{\\left| t - 1 \\right|}^{3}} - \\frac{\\frac{1}{3} \\, \\sqrt{3}}{{\\left| t - 1 \\right|}^{3}} \\\\\n",
       "24 \\, c t - \\frac{\\frac{1}{3} \\, \\sqrt{3} t}{t^{3} + 3 \\, t^{2} + 3 \\, t + 1} - \\frac{\\frac{1}{3} \\, \\sqrt{3}}{t^{3} + 3 \\, t^{2} + 3 \\, t + 1} - \\frac{9 \\, t}{{\\left(3 \\, t^{2} + 2 \\, t + 3\\right)}^{\\frac{3}{2}}} - \\frac{9 \\, t}{{\\left(3 \\, t^{2} - 2 \\, t + 3\\right)}^{\\frac{3}{2}}} - \\frac{3}{{\\left(3 \\, t^{2} + 2 \\, t + 3\\right)}^{\\frac{3}{2}}} + \\frac{3}{{\\left(3 \\, t^{2} - 2 \\, t + 3\\right)}^{\\frac{3}{2}}} - \\frac{\\frac{1}{3} \\, \\sqrt{3} t}{{\\left| t - 1 \\right|}^{3}} + \\frac{\\frac{1}{3} \\, \\sqrt{3}}{{\\left| t - 1 \\right|}^{3}} & 24 \\, c t - \\frac{\\frac{1}{12} \\, \\sqrt{3}}{t^{2}} - \\frac{\\frac{3}{8} \\, \\sqrt{2}}{t^{2}} - \\frac{\\frac{3}{4}}{t^{2}}\n",
       "\\end{array}\\right)$$"
      ],
      "text/plain": [
       "[                                                                                                                                                                                                                         24*c - 1/12*sqrt(3) - 3/8*sqrt(2) - 3/4   24*c - 1/3*sqrt(3)*t/(t^3 + 3*t^2 + 3*t + 1) - 1/3*sqrt(3)/(t^3 + 3*t^2 + 3*t + 1) - 3*t/(3*t^2 + 2*t + 3)^(3/2) + 3*t/(3*t^2 - 2*t + 3)^(3/2) - 9/(3*t^2 + 2*t + 3)^(3/2) - 9/(3*t^2 - 2*t + 3)^(3/2) + 1/3*sqrt(3)*t/abs(t - 1)^3 - 1/3*sqrt(3)/abs(t - 1)^3]\n",
       "[24*c*t - 1/3*sqrt(3)*t/(t^3 + 3*t^2 + 3*t + 1) - 1/3*sqrt(3)/(t^3 + 3*t^2 + 3*t + 1) - 9*t/(3*t^2 + 2*t + 3)^(3/2) - 9*t/(3*t^2 - 2*t + 3)^(3/2) - 3/(3*t^2 + 2*t + 3)^(3/2) + 3/(3*t^2 - 2*t + 3)^(3/2) - 1/3*sqrt(3)*t/abs(t - 1)^3 + 1/3*sqrt(3)/abs(t - 1)^3                                                                                                                                                                                                            24*c*t - 1/12*sqrt(3)/t^2 - 3/8*sqrt(2)/t^2 - 3/4/t^2]"
      ]
     },
     "execution_count": 2,
     "metadata": {
     },
     "output_type": "execute_result"
    }
   ],
   "source": [
    "B1 = load('blocos/bloco_1_linear_cubo'); show(B1) ##Isso na formula  6.28 secao 6.4.1"
   ]
  },
  {
   "cell_type": "code",
   "execution_count": 3,
   "metadata": {
    "collapsed": false
   },
   "outputs": [
    {
     "name": "stdout",
     "output_type": "stream",
     "text": [
      "True\n"
     ]
    },
    {
     "data": {
      "text/html": [
       "<html>\\[\\newcommand{\\Bold}[1]{\\mathbf{#1}}-{\\left(2 \\, \\sqrt{3} t + 9 \\, \\sqrt{2} t + 18 \\, t - \\frac{72 \\, {\\left(t^{2} + 6 \\, t + 1\\right)}}{{\\left(3 \\, t^{2} + 2 \\, t + 3\\right)}^{\\frac{3}{2}}} + \\frac{72 \\, {\\left(t^{2} - 6 \\, t + 1\\right)}}{{\\left(3 \\, t^{2} - 2 \\, t + 3\\right)}^{\\frac{3}{2}}} - \\frac{8 \\, \\sqrt{3}}{t + 1} - \\frac{8 \\, \\sqrt{3}}{t - 1} + \\frac{2 \\, \\sqrt{3} + 9 \\, \\sqrt{2} + 18}{t^{2}}\\right)} c - \\frac{9 \\, {\\left(3 \\, t + 1\\right)} {\\left(t + 3\\right)}}{{\\left(3 \\, t^{2} + 2 \\, t + 3\\right)}^{3}} + \\frac{9 \\, {\\left(3 \\, t - 1\\right)} {\\left(t - 3\\right)}}{{\\left(3 \\, t^{2} - 2 \\, t + 3\\right)}^{3}} + \\frac{6 \\, \\sqrt{3} \\sqrt{2} + 12 \\, \\sqrt{3} + 54 \\, \\sqrt{2} + 83}{96 \\, t^{2}} - \\frac{4 \\, \\sqrt{3}}{{\\left(3 \\, t^{2} + 2 \\, t + 3\\right)}^{\\frac{3}{2}} {\\left(t + 1\\right)}} - \\frac{2 \\, \\sqrt{3}}{{\\left(3 \\, t^{2} - 2 \\, t + 3\\right)}^{\\frac{3}{2}} {\\left(t + 1\\right)}} - \\frac{2 \\, \\sqrt{3}}{{\\left(3 \\, t^{2} + 2 \\, t + 3\\right)}^{\\frac{3}{2}} {\\left(t - 1\\right)}} - \\frac{4 \\, \\sqrt{3}}{{\\left(3 \\, t^{2} - 2 \\, t + 3\\right)}^{\\frac{3}{2}} {\\left(t - 1\\right)}} - \\frac{144 \\, t}{{\\left(3 \\, t^{2} + 2 \\, t + 3\\right)}^{\\frac{3}{2}} {\\left(3 \\, t^{2} - 2 \\, t + 3\\right)}^{\\frac{3}{2}}} - \\frac{1}{3 \\, {\\left(t + 1\\right)}^{4}} + \\frac{1}{3 \\, {\\left(t - 1\\right)}^{4}}\\]</html>"
      ],
      "text/latex": [
       "$$\\newcommand{\\Bold}[1]{\\mathbf{#1}}-{\\left(2 \\, \\sqrt{3} t + 9 \\, \\sqrt{2} t + 18 \\, t - \\frac{72 \\, {\\left(t^{2} + 6 \\, t + 1\\right)}}{{\\left(3 \\, t^{2} + 2 \\, t + 3\\right)}^{\\frac{3}{2}}} + \\frac{72 \\, {\\left(t^{2} - 6 \\, t + 1\\right)}}{{\\left(3 \\, t^{2} - 2 \\, t + 3\\right)}^{\\frac{3}{2}}} - \\frac{8 \\, \\sqrt{3}}{t + 1} - \\frac{8 \\, \\sqrt{3}}{t - 1} + \\frac{2 \\, \\sqrt{3} + 9 \\, \\sqrt{2} + 18}{t^{2}}\\right)} c - \\frac{9 \\, {\\left(3 \\, t + 1\\right)} {\\left(t + 3\\right)}}{{\\left(3 \\, t^{2} + 2 \\, t + 3\\right)}^{3}} + \\frac{9 \\, {\\left(3 \\, t - 1\\right)} {\\left(t - 3\\right)}}{{\\left(3 \\, t^{2} - 2 \\, t + 3\\right)}^{3}} + \\frac{6 \\, \\sqrt{3} \\sqrt{2} + 12 \\, \\sqrt{3} + 54 \\, \\sqrt{2} + 83}{96 \\, t^{2}} - \\frac{4 \\, \\sqrt{3}}{{\\left(3 \\, t^{2} + 2 \\, t + 3\\right)}^{\\frac{3}{2}} {\\left(t + 1\\right)}} - \\frac{2 \\, \\sqrt{3}}{{\\left(3 \\, t^{2} - 2 \\, t + 3\\right)}^{\\frac{3}{2}} {\\left(t + 1\\right)}} - \\frac{2 \\, \\sqrt{3}}{{\\left(3 \\, t^{2} + 2 \\, t + 3\\right)}^{\\frac{3}{2}} {\\left(t - 1\\right)}} - \\frac{4 \\, \\sqrt{3}}{{\\left(3 \\, t^{2} - 2 \\, t + 3\\right)}^{\\frac{3}{2}} {\\left(t - 1\\right)}} - \\frac{144 \\, t}{{\\left(3 \\, t^{2} + 2 \\, t + 3\\right)}^{\\frac{3}{2}} {\\left(3 \\, t^{2} - 2 \\, t + 3\\right)}^{\\frac{3}{2}}} - \\frac{1}{3 \\, {\\left(t + 1\\right)}^{4}} + \\frac{1}{3 \\, {\\left(t - 1\\right)}^{4}}$$"
      ],
      "text/plain": [
       "-(2*sqrt(3)*t + 9*sqrt(2)*t + 18*t - 72*(t^2 + 6*t + 1)/(3*t^2 + 2*t + 3)^(3/2) + 72*(t^2 - 6*t + 1)/(3*t^2 - 2*t + 3)^(3/2) - 8*sqrt(3)/(t + 1) - 8*sqrt(3)/(t - 1) + (2*sqrt(3) + 9*sqrt(2) + 18)/t^2)*c - 9*(3*t + 1)*(t + 3)/(3*t^2 + 2*t + 3)^3 + 9*(3*t - 1)*(t - 3)/(3*t^2 - 2*t + 3)^3 + 1/96*(6*sqrt(3)*sqrt(2) + 12*sqrt(3) + 54*sqrt(2) + 83)/t^2 - 4*sqrt(3)/((3*t^2 + 2*t + 3)^(3/2)*(t + 1)) - 2*sqrt(3)/((3*t^2 - 2*t + 3)^(3/2)*(t + 1)) - 2*sqrt(3)/((3*t^2 + 2*t + 3)^(3/2)*(t - 1)) - 4*sqrt(3)/((3*t^2 - 2*t + 3)^(3/2)*(t - 1)) - 144*t/((3*t^2 + 2*t + 3)^(3/2)*(3*t^2 - 2*t + 3)^(3/2)) - 1/3/(t + 1)^4 + 1/3/(t - 1)^4"
      ]
     },
     "execution_count": 3,
     "metadata": {
     },
     "output_type": "execute_result"
    }
   ],
   "source": [
    "p1_t = simplify_local(B1.det());print(bool(p1_t==B1.det())); show(p1_t)\n"
   ]
  },
  {
   "cell_type": "code",
   "execution_count": 4,
   "metadata": {
    "collapsed": false
   },
   "outputs": [
   ],
   "source": [
    "#latex(p1_t)"
   ]
  },
  {
   "cell_type": "markdown",
   "metadata": {
    "collapsed": false
   },
   "source": [
    "1. Estudar se $\\alpha_1$ se anula e o sinal."
   ]
  },
  {
   "cell_type": "code",
   "execution_count": 5,
   "metadata": {
    "collapsed": false
   },
   "outputs": [
    {
     "data": {
      "text/html": [
       "<html>\\[\\newcommand{\\Bold}[1]{\\mathbf{#1}}-2 \\, \\sqrt{3} t - 9 \\, \\sqrt{2} t - 18 \\, t + \\frac{72 \\, {\\left(t^{2} + 6 \\, t + 1\\right)}}{{\\left(3 \\, t^{2} + 2 \\, t + 3\\right)}^{\\frac{3}{2}}} - \\frac{72 \\, {\\left(t^{2} - 6 \\, t + 1\\right)}}{{\\left(3 \\, t^{2} - 2 \\, t + 3\\right)}^{\\frac{3}{2}}} + \\frac{8 \\, \\sqrt{3}}{t + 1} + \\frac{8 \\, \\sqrt{3}}{t - 1} - \\frac{2 \\, \\sqrt{3} + 9 \\, \\sqrt{2} + 18}{t^{2}}\\]</html>"
      ],
      "text/latex": [
       "$$\\newcommand{\\Bold}[1]{\\mathbf{#1}}-2 \\, \\sqrt{3} t - 9 \\, \\sqrt{2} t - 18 \\, t + \\frac{72 \\, {\\left(t^{2} + 6 \\, t + 1\\right)}}{{\\left(3 \\, t^{2} + 2 \\, t + 3\\right)}^{\\frac{3}{2}}} - \\frac{72 \\, {\\left(t^{2} - 6 \\, t + 1\\right)}}{{\\left(3 \\, t^{2} - 2 \\, t + 3\\right)}^{\\frac{3}{2}}} + \\frac{8 \\, \\sqrt{3}}{t + 1} + \\frac{8 \\, \\sqrt{3}}{t - 1} - \\frac{2 \\, \\sqrt{3} + 9 \\, \\sqrt{2} + 18}{t^{2}}$$"
      ],
      "text/plain": [
       "-2*sqrt(3)*t - 9*sqrt(2)*t - 18*t + 72*(t^2 + 6*t + 1)/(3*t^2 + 2*t + 3)^(3/2) - 72*(t^2 - 6*t + 1)/(3*t^2 - 2*t + 3)^(3/2) + 8*sqrt(3)/(t + 1) + 8*sqrt(3)/(t - 1) - (2*sqrt(3) + 9*sqrt(2) + 18)/t^2"
      ]
     },
     "execution_count": 5,
     "metadata": {
     },
     "output_type": "execute_result"
    }
   ],
   "source": [
    "α0 = p1_t.coefficients()[0][0]\n",
    "α1 = p1_t.coefficients()[1][0]\n",
    "#latex(α0);\n",
    "show(α1)"
   ]
  },
  {
   "cell_type": "markdown",
   "metadata": {
    "collapsed": false
   },
   "source": [
    "_**O gráfico de**_ $\\alpha_1$_:_\n"
   ]
  },
  {
   "cell_type": "code",
   "execution_count": 6,
   "metadata": {
    "collapsed": false
   },
   "outputs": [
    {
     "data": {
      "image/png": "[encoded data removed]",
      "text/plain": [
       "Graphics object consisting of 1 graphics primitive"
      ]
     },
     "execution_count": 6,
     "metadata": {
     },
     "output_type": "execute_result"
    }
   ],
   "source": [
    " plot(α1,(x,0.1, 0.99), ymin=-300, legend_label=r'$\\alpha_1$', color='red')"
   ]
  },
  {
   "cell_type": "markdown",
   "metadata": {
    "collapsed": false
   },
   "source": [
    "Usando limites\n"
   ]
  },
  {
   "cell_type": "markdown",
   "metadata": {
    "collapsed": false
   },
   "source": [
    "##### Substituindo a expressão por $u$ e $v$.\n",
    "\n"
   ]
  },
  {
   "cell_type": "code",
   "execution_count": 7,
   "metadata": {
    "collapsed": false
   },
   "outputs": [
   ],
   "source": [
    "u, v = var('u, v')\n",
    "var('t')\n",
    "assume(u>0)\n",
    "assume(v>0)"
   ]
  },
  {
   "cell_type": "code",
   "execution_count": 8,
   "metadata": {
    "collapsed": false
   },
   "outputs": [
    {
     "data": {
      "text/html": [
       "<html>\\[\\newcommand{\\Bold}[1]{\\mathbf{#1}}-2 \\, \\sqrt{3} u^{13} v^{3} - 9 \\, \\sqrt{2} u^{13} v^{3} + 10 \\, \\sqrt{3} u^{11} v^{5} + 45 \\, \\sqrt{2} u^{11} v^{5} - 20 \\, \\sqrt{3} u^{9} v^{7} - 90 \\, \\sqrt{2} u^{9} v^{7} + 20 \\, \\sqrt{3} u^{7} v^{9} + 90 \\, \\sqrt{2} u^{7} v^{9} - 10 \\, \\sqrt{3} u^{5} v^{11} - 45 \\, \\sqrt{2} u^{5} v^{11} + 2 \\, \\sqrt{3} u^{3} v^{13} + 9 \\, \\sqrt{2} u^{3} v^{13} - 18 \\, u^{13} v^{3} + 90 \\, u^{11} v^{5} - 180 \\, u^{9} v^{7} + 180 \\, u^{7} v^{9} - 90 \\, u^{5} v^{11} + 18 \\, u^{3} v^{13} - 18 \\, u^{15} + 108 \\, u^{13} v^{2} + 18 \\, u^{12} v^{3} - 270 \\, u^{11} v^{4} - 108 \\, u^{10} v^{5} + 360 \\, u^{9} v^{6} + 270 \\, u^{8} v^{7} - 270 \\, u^{7} v^{8} - 360 \\, u^{6} v^{9} + 108 \\, u^{5} v^{10} + 270 \\, u^{4} v^{11} - 18 \\, u^{3} v^{12} - 108 \\, u^{2} v^{13} + 18 \\, v^{15} + 432 \\, u^{13} - 2160 \\, u^{11} v^{2} + 432 \\, u^{10} v^{3} + 4320 \\, u^{9} v^{4} - 2160 \\, u^{8} v^{5} - 4320 \\, u^{7} v^{6} + 4320 \\, u^{6} v^{7} + 2160 \\, u^{5} v^{8} - 4320 \\, u^{4} v^{9} - 432 \\, u^{3} v^{10} + 2160 \\, u^{2} v^{11} - 432 \\, v^{13} + 288 \\, \\sqrt{3} u^{9} v^{3} + 144 \\, \\sqrt{2} u^{9} v^{3} - 864 \\, \\sqrt{3} u^{7} v^{5} - 432 \\, \\sqrt{2} u^{7} v^{5} + 864 \\, \\sqrt{3} u^{5} v^{7} + 432 \\, \\sqrt{2} u^{5} v^{7} - 288 \\, \\sqrt{3} u^{3} v^{9} - 144 \\, \\sqrt{2} u^{3} v^{9} + 288 \\, u^{9} v^{3} - 864 \\, u^{7} v^{5} + 864 \\, u^{5} v^{7} - 288 \\, u^{3} v^{9} - 128 \\, \\sqrt{3} u^{7} v^{3} - 576 \\, \\sqrt{2} u^{7} v^{3} + 256 \\, \\sqrt{3} u^{5} v^{5} + 1152 \\, \\sqrt{2} u^{5} v^{5} - 128 \\, \\sqrt{3} u^{3} v^{7} - 576 \\, \\sqrt{2} u^{3} v^{7} - 1152 \\, u^{7} v^{3} + 2304 \\, u^{5} v^{5} - 1152 \\, u^{3} v^{7} - 6912 \\, u^{9} + 20736 \\, u^{7} v^{2} - 6912 \\, u^{6} v^{3} - 20736 \\, u^{5} v^{4} + 20736 \\, u^{4} v^{5} + 6912 \\, u^{3} v^{6} - 20736 \\, u^{2} v^{7} + 6912 \\, v^{9} + 4608 \\, u^{7} - 9216 \\, u^{5} v^{2} - 4608 \\, u^{4} v^{3} + 4608 \\, u^{3} v^{4} + 9216 \\, u^{2} v^{5} - 4608 \\, v^{7} + 2048 \\, \\sqrt{3} u^{3} v^{3} + 9216 \\, \\sqrt{2} u^{3} v^{3} + 18432 \\, u^{3} v^{3}\\]</html>"
      ],
      "text/latex": [
       "$$\\newcommand{\\Bold}[1]{\\mathbf{#1}}-2 \\, \\sqrt{3} u^{13} v^{3} - 9 \\, \\sqrt{2} u^{13} v^{3} + 10 \\, \\sqrt{3} u^{11} v^{5} + 45 \\, \\sqrt{2} u^{11} v^{5} - 20 \\, \\sqrt{3} u^{9} v^{7} - 90 \\, \\sqrt{2} u^{9} v^{7} + 20 \\, \\sqrt{3} u^{7} v^{9} + 90 \\, \\sqrt{2} u^{7} v^{9} - 10 \\, \\sqrt{3} u^{5} v^{11} - 45 \\, \\sqrt{2} u^{5} v^{11} + 2 \\, \\sqrt{3} u^{3} v^{13} + 9 \\, \\sqrt{2} u^{3} v^{13} - 18 \\, u^{13} v^{3} + 90 \\, u^{11} v^{5} - 180 \\, u^{9} v^{7} + 180 \\, u^{7} v^{9} - 90 \\, u^{5} v^{11} + 18 \\, u^{3} v^{13} - 18 \\, u^{15} + 108 \\, u^{13} v^{2} + 18 \\, u^{12} v^{3} - 270 \\, u^{11} v^{4} - 108 \\, u^{10} v^{5} + 360 \\, u^{9} v^{6} + 270 \\, u^{8} v^{7} - 270 \\, u^{7} v^{8} - 360 \\, u^{6} v^{9} + 108 \\, u^{5} v^{10} + 270 \\, u^{4} v^{11} - 18 \\, u^{3} v^{12} - 108 \\, u^{2} v^{13} + 18 \\, v^{15} + 432 \\, u^{13} - 2160 \\, u^{11} v^{2} + 432 \\, u^{10} v^{3} + 4320 \\, u^{9} v^{4} - 2160 \\, u^{8} v^{5} - 4320 \\, u^{7} v^{6} + 4320 \\, u^{6} v^{7} + 2160 \\, u^{5} v^{8} - 4320 \\, u^{4} v^{9} - 432 \\, u^{3} v^{10} + 2160 \\, u^{2} v^{11} - 432 \\, v^{13} + 288 \\, \\sqrt{3} u^{9} v^{3} + 144 \\, \\sqrt{2} u^{9} v^{3} - 864 \\, \\sqrt{3} u^{7} v^{5} - 432 \\, \\sqrt{2} u^{7} v^{5} + 864 \\, \\sqrt{3} u^{5} v^{7} + 432 \\, \\sqrt{2} u^{5} v^{7} - 288 \\, \\sqrt{3} u^{3} v^{9} - 144 \\, \\sqrt{2} u^{3} v^{9} + 288 \\, u^{9} v^{3} - 864 \\, u^{7} v^{5} + 864 \\, u^{5} v^{7} - 288 \\, u^{3} v^{9} - 128 \\, \\sqrt{3} u^{7} v^{3} - 576 \\, \\sqrt{2} u^{7} v^{3} + 256 \\, \\sqrt{3} u^{5} v^{5} + 1152 \\, \\sqrt{2} u^{5} v^{5} - 128 \\, \\sqrt{3} u^{3} v^{7} - 576 \\, \\sqrt{2} u^{3} v^{7} - 1152 \\, u^{7} v^{3} + 2304 \\, u^{5} v^{5} - 1152 \\, u^{3} v^{7} - 6912 \\, u^{9} + 20736 \\, u^{7} v^{2} - 6912 \\, u^{6} v^{3} - 20736 \\, u^{5} v^{4} + 20736 \\, u^{4} v^{5} + 6912 \\, u^{3} v^{6} - 20736 \\, u^{2} v^{7} + 6912 \\, v^{9} + 4608 \\, u^{7} - 9216 \\, u^{5} v^{2} - 4608 \\, u^{4} v^{3} + 4608 \\, u^{3} v^{4} + 9216 \\, u^{2} v^{5} - 4608 \\, v^{7} + 2048 \\, \\sqrt{3} u^{3} v^{3} + 9216 \\, \\sqrt{2} u^{3} v^{3} + 18432 \\, u^{3} v^{3}$$"
      ],
      "text/plain": [
       "-2*sqrt(3)*u^13*v^3 - 9*sqrt(2)*u^13*v^3 + 10*sqrt(3)*u^11*v^5 + 45*sqrt(2)*u^11*v^5 - 20*sqrt(3)*u^9*v^7 - 90*sqrt(2)*u^9*v^7 + 20*sqrt(3)*u^7*v^9 + 90*sqrt(2)*u^7*v^9 - 10*sqrt(3)*u^5*v^11 - 45*sqrt(2)*u^5*v^11 + 2*sqrt(3)*u^3*v^13 + 9*sqrt(2)*u^3*v^13 - 18*u^13*v^3 + 90*u^11*v^5 - 180*u^9*v^7 + 180*u^7*v^9 - 90*u^5*v^11 + 18*u^3*v^13 - 18*u^15 + 108*u^13*v^2 + 18*u^12*v^3 - 270*u^11*v^4 - 108*u^10*v^5 + 360*u^9*v^6 + 270*u^8*v^7 - 270*u^7*v^8 - 360*u^6*v^9 + 108*u^5*v^10 + 270*u^4*v^11 - 18*u^3*v^12 - 108*u^2*v^13 + 18*v^15 + 432*u^13 - 2160*u^11*v^2 + 432*u^10*v^3 + 4320*u^9*v^4 - 2160*u^8*v^5 - 4320*u^7*v^6 + 4320*u^6*v^7 + 2160*u^5*v^8 - 4320*u^4*v^9 - 432*u^3*v^10 + 2160*u^2*v^11 - 432*v^13 + 288*sqrt(3)*u^9*v^3 + 144*sqrt(2)*u^9*v^3 - 864*sqrt(3)*u^7*v^5 - 432*sqrt(2)*u^7*v^5 + 864*sqrt(3)*u^5*v^7 + 432*sqrt(2)*u^5*v^7 - 288*sqrt(3)*u^3*v^9 - 144*sqrt(2)*u^3*v^9 + 288*u^9*v^3 - 864*u^7*v^5 + 864*u^5*v^7 - 288*u^3*v^9 - 128*sqrt(3)*u^7*v^3 - 576*sqrt(2)*u^7*v^3 + 256*sqrt(3)*u^5*v^5 + 1152*sqrt(2)*u^5*v^5 - 128*sqrt(3)*u^3*v^7 - 576*sqrt(2)*u^3*v^7 - 1152*u^7*v^3 + 2304*u^5*v^5 - 1152*u^3*v^7 - 6912*u^9 + 20736*u^7*v^2 - 6912*u^6*v^3 - 20736*u^5*v^4 + 20736*u^4*v^5 + 6912*u^3*v^6 - 20736*u^2*v^7 + 6912*v^9 + 4608*u^7 - 9216*u^5*v^2 - 4608*u^4*v^3 + 4608*u^3*v^4 + 9216*u^2*v^5 - 4608*v^7 + 2048*sqrt(3)*u^3*v^3 + 9216*sqrt(2)*u^3*v^3 + 18432*u^3*v^3"
      ]
     },
     "execution_count": 8,
     "metadata": {
     },
     "output_type": "execute_result"
    }
   ],
   "source": [
    "##Substituicao do Lemma 4 do Artigo\n",
    "α11_u_v = α1.subs({(3*t^2 - 2*t + 3):v^2}).subs({(3*t^2 + 2*t + 3):u^2}).subs(t=(u^2-v^2)/4).factor().numerator(); show(α11_u_v) # substituindo "
   ]
  },
  {
   "cell_type": "code",
   "execution_count": 9,
   "metadata": {
    "collapsed": false
   },
   "outputs": [
    {
     "data": {
      "text/plain": [
       "(sqrt(3), 2*sqrt(2), 2*sqrt(2/3), 2)"
      ]
     },
     "execution_count": 9,
     "metadata": {
     },
     "output_type": "execute_result"
    }
   ],
   "source": [
    "#Resolve 3*t^2 + 2*t + 3=u^2 em relação a u\n",
    "sol_u = solve(u**2 == 3*t^2 + 2*t + 3, u)[0].rhs() \n",
    "\n",
    "#Resolve 3*t^2 - 2*t + 3=v^2 em relação a v\n",
    "sol_v = solve(v**2 == 3*t^2 - 2*t + 3, v)[0].rhs()\n",
    "\n",
    "# obtem os valores de u para t=0 e t=1\n",
    "u0 = sol_u(t=0)\n",
    "u1 = sol_u(t=1)\n",
    "\n",
    "# obtem os valores de v para t=1/3 e t=1\n",
    "v0 = sol_v(t=1/3)\n",
    "v1 = sol_v(t=1)\n",
    "\n",
    "u0, u1, v0, v1"
   ]
  },
  {
   "cell_type": "code",
   "execution_count": 10,
   "metadata": {
    "collapsed": false
   },
   "outputs": [
   ],
   "source": [
    "new_poly_u_v = subs_mobius_2d_uv(α11_u_v, u0, u1, v0, v1)\n",
    "#ESSE CARA LEON"
   ]
  },
  {
   "cell_type": "code",
   "execution_count": 11,
   "metadata": {
    "collapsed": false
   },
   "outputs": [
    {
     "name": "stderr",
     "output_type": "stream",
     "text": [
      "WARNING: Some output was deleted.\n"
     ]
    }
   ],
   "source": [
    "show(new_poly_u_v)"
   ]
  },
  {
   "cell_type": "code",
   "execution_count": 12,
   "metadata": {
    "collapsed": false,
    "scrolled": true
   },
   "outputs": [
   ],
   "source": [
    "# term = u^15 * v^15\n",
    "# uv15 = new_poly_u_v.coefficient(term)\n",
    "# new_uv15 = uv15.simplify_real().canonicalize_radical()\n",
    "\n",
    "# bool(new_uv15==uv15)\n",
    "# show(new_uv15)\n"
   ]
  },
  {
   "cell_type": "code",
   "execution_count": 13,
   "metadata": {
    "collapsed": false,
    "scrolled": true
   },
   "outputs": [
    {
     "data": {
      "text/plain": [
       "False"
      ]
     },
     "execution_count": 13,
     "metadata": {
     },
     "output_type": "execute_result"
    }
   ],
   "source": [
    "has_signal_variations_u_v(new_poly_u_v)"
   ]
  },
  {
   "cell_type": "markdown",
   "metadata": {
    "collapsed": false
   },
   "source": [
    "Estudando o Sinal de $\\alpha_0$"
   ]
  },
  {
   "cell_type": "markdown",
   "metadata": {
    "collapsed": false
   },
   "source": [
    "O gráfico de $\\alpha_0$"
   ]
  },
  {
   "cell_type": "code",
   "execution_count": 14,
   "metadata": {
    "collapsed": false
   },
   "outputs": [
    {
     "data": {
      "image/png": "[encoded data removed]",
      "text/plain": [
       "Graphics object consisting of 1 graphics primitive"
      ]
     },
     "execution_count": 14,
     "metadata": {
     },
     "output_type": "execute_result"
    }
   ],
   "source": [
    "plot(α0,(x,0.1, 0.99), ymax=30, legend_label=r'$\\alpha_0$', color='blue')"
   ]
  },
  {
   "cell_type": "code",
   "execution_count": 15,
   "metadata": {
    "collapsed": false
   },
   "outputs": [
   ],
   "source": [
    "#Lema 4 do Artigo\n",
    "α10_u_v = α0.subs({(3*t^2 - 2*t + 3):v^2}).subs({(3*t^2 + 2*t + 3):u^2}).subs(t=(u^2-v^2)/4).factor().numerator(); #show(α10_u_v)"
   ]
  },
  {
   "cell_type": "code",
   "execution_count": 16,
   "metadata": {
    "collapsed": false
   },
   "outputs": [
   ],
   "source": [
    "new_poly_u_v_α10 = subs_mobius_2d_uv(α10_u_v, u0, u1, v0, v1)"
   ]
  },
  {
   "cell_type": "code",
   "execution_count": 17,
   "metadata": {
    "collapsed": false
   },
   "outputs": [
    {
     "data": {
      "text/plain": [
       "False"
      ]
     },
     "execution_count": 17,
     "metadata": {
     },
     "output_type": "execute_result"
    }
   ],
   "source": [
    "has_signal_variations_u_v(new_poly_u_v_α10)"
   ]
  }
 ],
 "metadata": {
  "kernelspec": {
   "argv": [
    "sage-9.8",
    "--python",
    "-m",
    "sage.repl.ipython_kernel",
    "--matplotlib=inline",
    "-f",
    "{connection_file}"
   ],
   "display_name": "SageMath 9.8",
   "env": {
   },
   "language": "sagemath",
   "metadata": {
    "cocalc": {
     "description": "Open-source mathematical software system",
     "priority": 1,
     "url": "https://www.sagemath.org/"
    }
   },
   "name": "sage-9.8",
   "resource_dir": "/ext/jupyter/kernels/sage-9.8"
  },
  "language_info": {
   "codemirror_mode": {
    "name": "ipython",
    "version": 3
   },
   "file_extension": ".py",
   "mimetype": "text/x-python",
   "name": "python",
   "nbconvert_exporter": "python",
   "pygments_lexer": "ipython3",
   "version": "3.9.5"
  }
 },
 "nbformat": 4,
 "nbformat_minor": 4
}