{
 "cells": [
  {
   "cell_type": "code",
   "execution_count": 3,
   "metadata": {},
   "outputs": [
    {
     "name": "stderr",
     "output_type": "stream",
     "text": [
      "<ipython-input-3-2290f850540a>:1: DeprecationWarning: PY_SSIZE_T_CLEAN will be required for '#' formats\n",
      "  B3 = load('blocos/bloco_3_linear_cubo.sobj');\n",
      "<ipython-input-3-2290f850540a>:2: DeprecationWarning: PY_SSIZE_T_CLEAN will be required for '#' formats\n",
      "  B4 = load('blocos/bloco_4_linear_cubo.sobj');\n",
      "<ipython-input-3-2290f850540a>:3: DeprecationWarning: PY_SSIZE_T_CLEAN will be required for '#' formats\n",
      "  B5 = load('blocos/bloco_5_linear_cubo.sobj');\n",
      "<ipython-input-3-2290f850540a>:4: DeprecationWarning: PY_SSIZE_T_CLEAN will be required for '#' formats\n",
      "  B6 = load('blocos/bloco_6_linear_cubo.sobj');\n",
      "<ipython-input-3-2290f850540a>:5: DeprecationWarning: PY_SSIZE_T_CLEAN will be required for '#' formats\n",
      "  B7 = load('blocos/bloco_7_linear_cubo.sobj');\n",
      "<ipython-input-3-2290f850540a>:6: DeprecationWarning: PY_SSIZE_T_CLEAN will be required for '#' formats\n",
      "  B8 = load('blocos/bloco_8_linear_cubo.sobj');\n"
     ]
    }
   ],
   "source": [
    "B3 = load('blocos/bloco_3_linear_cubo.sobj');\n",
    "B4 = load('blocos/bloco_4_linear_cubo.sobj');\n",
    "B5 = load('blocos/bloco_5_linear_cubo.sobj');\n",
    "B6 = load('blocos/bloco_6_linear_cubo.sobj');\n",
    "B7 = load('blocos/bloco_7_linear_cubo.sobj');\n",
    "B8 = load('blocos/bloco_8_linear_cubo.sobj');"
   ]
  },
  {
   "cell_type": "code",
   "execution_count": 8,
   "metadata": {},
   "outputs": [
    {
     "name": "stdout",
     "output_type": "stream",
     "text": [
      "True\n",
      "True\n"
     ]
    }
   ],
   "source": [
    "print(bool(B3==B4))\n",
    "print(bool(B3==B5))"
   ]
  },
  {
   "cell_type": "code",
   "execution_count": 10,
   "metadata": {},
   "outputs": [
    {
     "name": "stdout",
     "output_type": "stream",
     "text": [
      "True\n",
      "True\n"
     ]
    }
   ],
   "source": [
    "print(bool(B6==B7))\n",
    "print(bool(B6==B8))"
   ]
  },
  {
   "cell_type": "markdown",
   "metadata": {},
   "source": [
    "##### Blocos a serem analisados: B2, B3, B6\n",
    "\n"
   ]
  },
  {
   "cell_type": "code",
   "execution_count": null,
   "metadata": {},
   "outputs": [],
   "source": []
  }
 ],
 "metadata": {
  "kernelspec": {
   "display_name": "SageMath 9.2",
   "language": "sage",
   "name": "sagemath"
  },
  "language_info": {
   "codemirror_mode": {
    "name": "ipython",
    "version": 3
   },
   "file_extension": ".py",
   "mimetype": "text/x-python",
   "name": "python",
   "nbconvert_exporter": "python",
   "pygments_lexer": "ipython3",
   "version": "3.9.1"
  },
  "widgets": {
   "application/vnd.jupyter.widget-state+json": {
    "state": {},
    "version_major": 2,
    "version_minor": 0
   }
  }
 },
 "nbformat": 4,
 "nbformat_minor": 4
}
