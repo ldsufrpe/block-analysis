{
 "cells": [
  {
   "cell_type": "code",
   "execution_count": 6,
   "metadata": {
    "collapsed": false,
    "jupyter": {
     "outputs_hidden": false
    }
   },
   "outputs": [
    {
     "name": "stderr",
     "output_type": "stream",
     "text": [
      "<ipython-input-6-d978371e27a2>:2: DeprecationWarning: PY_SSIZE_T_CLEAN will be required for '#' formats\n",
      "  B1 = load('blocos/bloco_1_linear_cubo'); ##Isso na formula  6.28 secao 6.4.1\n"
     ]
    }
   ],
   "source": [
    "load(\"util.sage\")\n",
    "B1 = load('blocos/bloco_1_linear_cubo'); ##Isso na formula  6.28 secao 6.4.1\n",
    "\n",
    "B1 = B1.apply_map(lambda x: x.simplify_real().combine())\n",
    "#show(B1)"
   ]
  },
  {
   "cell_type": "code",
   "execution_count": 7,
   "metadata": {
    "collapsed": false,
    "jupyter": {
     "outputs_hidden": false
    }
   },
   "outputs": [],
   "source": [
    "p1_t = B1.det();# show(p1_t)"
   ]
  },
  {
   "cell_type": "code",
   "execution_count": 11,
   "metadata": {
    "collapsed": false,
    "jupyter": {
     "outputs_hidden": false
    }
   },
   "outputs": [],
   "source": [
    "α0 = p1_t.coefficients()[0][0]\n",
    "α1 = p1_t.coefficients()[1][0]"
   ]
  },
  {
   "cell_type": "code",
   "execution_count": 12,
   "metadata": {
    "collapsed": false,
    "jupyter": {
     "outputs_hidden": false
    }
   },
   "outputs": [],
   "source": [
    "t = α0.variables()[0]\n"
   ]
  },
  {
   "cell_type": "code",
   "execution_count": 13,
   "metadata": {
    "collapsed": false,
    "jupyter": {
     "outputs_hidden": false
    }
   },
   "outputs": [],
   "source": [
    "#α0_new  = α0.simplify_real().combine()"
   ]
  },
  {
   "cell_type": "code",
   "execution_count": 14,
   "metadata": {
    "collapsed": false,
    "jupyter": {
     "outputs_hidden": false
    }
   },
   "outputs": [],
   "source": [
    "#α0_numerator = α0_new.numerator()"
   ]
  },
  {
   "cell_type": "code",
   "execution_count": 15,
   "metadata": {
    "collapsed": false,
    "jupyter": {
     "outputs_hidden": false
    }
   },
   "outputs": [],
   "source": [
    "B11 = B1[0,0].subs(c = -α0/α1)"
   ]
  },
  {
   "cell_type": "code",
   "execution_count": 12,
   "metadata": {
    "collapsed": false,
    "jupyter": {
     "outputs_hidden": false
    }
   },
   "outputs": [
    {
     "data": {
      "text/plain": [
       "0"
      ]
     },
     "execution_count": 12,
     "metadata": {},
     "output_type": "execute_result"
    }
   ],
   "source": [
    "B11.numerator()(t=0)"
   ]
  },
  {
   "cell_type": "code",
   "execution_count": 13,
   "metadata": {
    "collapsed": false,
    "jupyter": {
     "outputs_hidden": false
    },
    "scrolled": true
   },
   "outputs": [
    {
     "data": {
      "text/plain": [
       "0"
      ]
     },
     "execution_count": 13,
     "metadata": {},
     "output_type": "execute_result"
    }
   ],
   "source": [
    "\n",
    "B11_new = B11.numerator().simplify_real(); B11_new(t=0)"
   ]
  },
  {
   "cell_type": "code",
   "execution_count": 16,
   "metadata": {
    "collapsed": false,
    "jupyter": {
     "outputs_hidden": false
    }
   },
   "outputs": [],
   "source": [
    "var('u,v')\n",
    "assume(u>0)\n",
    "assume(v>0)\n",
    "B11_uv_t = B11_new.subs({(3*t^2 - 2*t + 3):v^2}).subs({(3*t^2 + 2*t + 3):u^2}).subs(t=(u^2-v^2)/4).simplify_real().combine()"
   ]
  },
  {
   "cell_type": "code",
   "execution_count": 17,
   "metadata": {
    "collapsed": false,
    "jupyter": {
     "outputs_hidden": false
    }
   },
   "outputs": [],
   "source": [
    "B11_uv_t = B11_uv_t.expand()"
   ]
  },
  {
   "cell_type": "code",
   "execution_count": 18,
   "metadata": {
    "collapsed": false,
    "jupyter": {
     "outputs_hidden": false
    }
   },
   "outputs": [
    {
     "data": {
      "text/plain": [
       "(sqrt(3), 2*sqrt(2), 2*sqrt(2/3), 2)"
      ]
     },
     "execution_count": 18,
     "metadata": {},
     "output_type": "execute_result"
    }
   ],
   "source": [
    "#Resolve 3*t^2 + 2*t + 3=u^2 em relação a u\n",
    "sol_u = solve(u**2 == 3*t^2 + 2*t + 3, u)[0].rhs() \n",
    "\n",
    "#Resolve 3*t^2 - 2*t + 3=v^2 em relação a v\n",
    "sol_v = solve(v**2 == 3*t^2 - 2*t + 3, v)[0].rhs()\n",
    "\n",
    "# obtem os valores de u para t=0 e t=1\n",
    "u0 = sol_u(t=0)\n",
    "u1 = sol_u(t=1)\n",
    "\n",
    "# obtem os valores de v para t=1/3 e t=1\n",
    "v0 = sol_v(t=1/3)\n",
    "v1 = sol_v(t=1)\n",
    "\n",
    "u0, u1, v0, v1"
   ]
  },
  {
   "cell_type": "code",
   "execution_count": null,
   "metadata": {
    "collapsed": false,
    "jupyter": {
     "outputs_hidden": false
    }
   },
   "outputs": [],
   "source": [
    "\n"
   ]
  },
  {
   "cell_type": "code",
   "execution_count": 1,
   "metadata": {},
   "outputs": [],
   "source": [
    "\n"
   ]
  },
  {
   "cell_type": "code",
   "execution_count": null,
   "metadata": {
    "collapsed": false,
    "jupyter": {
     "outputs_hidden": false
    }
   },
   "outputs": [],
   "source": [
    "#%time new_poly_u_v = subs_mobius_2d_uv(B11_uv_t, u0, u1, v0, v1)"
   ]
  },
  {
   "cell_type": "code",
   "execution_count": null,
   "metadata": {},
   "outputs": [],
   "source": [
    "#has_signal_variations_u_v(new_poly_u_v)"
   ]
  },
  {
   "cell_type": "code",
   "execution_count": 15,
   "metadata": {},
   "outputs": [
    {
     "data": {
      "text/plain": [
       "[3, 3, 24]"
      ]
     },
     "execution_count": 15,
     "metadata": {},
     "output_type": "execute_result"
    }
   ],
   "source": [
    "graus_u_v_t  =  [poly_u_v_ico_num.degree(u), poly_u_v_ico_num.degree(v), poly_u_v_ico_num.degree(t)]\n",
    "graus_u_v_t"
   ]
  },
  {
   "cell_type": "code",
   "execution_count": 16,
   "metadata": {},
   "outputs": [],
   "source": [
    "from functools import reduce\n",
    "\n",
    "def dicionario_geral(poly):\n",
    "    \"\"\"INPUT - poly- Um polinomio como expressão simbolica na classe <class 'sage.symbolic.expression.Expression'>\n",
    "    OUTPUT - Um dicionario com CHAVE do tipo tupla multigrau (d1,d2,...,dl) correpondendo ao monomio \n",
    "    variavel1^(d1)*variavel2^(d2)*...*variavell^(dl) e VALOR sendo o coeficiente deste monomio.\n",
    "    OBSERVACAO- A ordem das variaveis imspota pelo SAGE manda na ordem das chaves do dicionario. \n",
    "    Exemplo-\n",
    "    sage: z, y, x, u = var('z y x u')\n",
    "    sage: p = (2100*u^2*x+2020*u^2*y^2)*z^0+(3031*u^3*y^3+1101*u*x)*z+(3022*u^3*y^2+202*x^2)*z^2\n",
    "    sage: variaveis = p.free_variables(); variaveis\n",
    "        (u,x,y,z)\n",
    "    sage: dicionario_geral(p)\n",
    "        {(0, 2, 0, 2): 202,\n",
    "         (1, 1, 0, 1): 1101,\n",
    "         (2, 0, 2, 0): 2020,\n",
    "         (2, 1, 0, 0): 2100,\n",
    "         (3, 0, 2, 2): 3022,\n",
    "         (3, 0, 3, 1): 3031}\n",
    "        \n",
    "        \n",
    "    sage: u,v = var('u v')\n",
    "    sage: p3 = 23*u^2*v^3+21*u^2*v+11*u*v+10*u+4;\n",
    "    sage: dicionario_geral(p3)\n",
    "      {(0, 0): 4, (1, 0): 10, (1, 1): 11, (2, 1): 21, (2, 3): 23}\n",
    "    \"\"\"\n",
    "    def nova_lista(lista, var):\n",
    "        new_lista = [];\n",
    "        for item in lista:\n",
    "            sublista = item[0].coefficients(var)\n",
    "            for subitem in sublista:\n",
    "                subitem = [subitem[0],subitem[1:]+item[-1]]\n",
    "                new_lista.append(subitem)\n",
    "        return  new_lista\n",
    "\n",
    "    #variaveis = (poly).free_variables(); Modifiquei aqui\n",
    "    variaveis = (poly).variables()\n",
    "#####################################################################\n",
    "    variavel_1 = variaveis[0];\n",
    "    l_variavel_1 = (poly).coefficients(variavel_1);\n",
    "    l = [[item[0],item[1:]] for item in l_variavel_1]\n",
    "    for var in variaveis[1:]:\n",
    "        l = nova_lista(l, var)\n",
    "    dicionario = {tuple(list(reversed(j[1]))) : j[0] for j in l}\n",
    "    return dicionario\n",
    "\n",
    "def coeficientes_de_moebius_simbolico_varias_variaveis(poly, graus, extremos, novo_coefsxy ):\n",
    "    \"\"\"INPUTS -\n",
    "    poly- Um polinomio como expressão simbolica na classe  <class 'sage.symbolic.expression.Expression'>;\n",
    "    graus - Uma lista com naturais representando o multigrau do monomio que voce quer o coeficiente.\n",
    "            Importante - A sua lista de graus deve estar na ordem que o Sage ordena as variaveis.\n",
    "    extremos - Uma lista com pares (a_i,b_i) que dão o intervalo da substituição de Moebius para\n",
    "    a variavel x_i, isto é,    x_i---> x_i = (a_i*u_i+b_i)/(u_i+1) para a variavel u_i.\n",
    "    OUTPUT - O coeficiente do monomio com multigrau dado pela lista graus depois da substituicao de Moebius\n",
    "    Exemplo - 1\n",
    "    sage: poly_teste = 23*u^2*v^3 + 21*u^2*v + 11*u*v + 10*u + 4;\n",
    "    sage: graus_teste = [1,2]; ## para acahar o coeficiente de (x_1)^1*(x_2)^2\n",
    "    sage: extremos_teste = [(3, 5), (7, 11)];\n",
    "    sage: novo_coefsxy_teste = dicionario_geral(poly_teste); # virar variável global;\n",
    "    sage: c = coeficientes_de_moebius_simbolico_varias_variaveis(poly_teste, graus_teste, extremos_teste, novo_coefsxy_teste)\n",
    "        1133944\n",
    "    Exemplo - 2\n",
    "    sage: poly = (2100*u^2*x+2020*u^2*y^2)*z^0+(3031*u^3*y^3+1101*u*x)*z+(3022*u^3*y^2+202*x^2)*z^2\n",
    "    sage: variaveis = poly.free_variables(); variaveis\n",
    "    sage: extremos_teste_2 = [(3,5),(7,11),(13,17),(19,23)];\n",
    "    sage: ru, rx, ry, rz = var('ru, rx, ry, rz')\n",
    "    sage: variaveis_r = [ru, rx, ry, rz]\n",
    "    sage: novo_coefsxy_teste_2 = dicionario_geral(poly); \n",
    "    sage: c = coeficientes_de_moebius_simbolico_varias_variaveis(poly, [0, 0, 1, 0], extremos_teste_2, novo_coefsxy_teste_2) ## Procurando o coeficiente de ru^0 * rx^0 * ry^1 * rz^0\n",
    "    sage: show(c)\n",
    "     244374065874\n",
    "       \n",
    "       OBSERVACAO: Para mais detalhes veja o arquivo /Artigo_de_Aplicacoes/Reuniao-casa-marcelo-26-07/Icosaedro-bloco-2-reunião-casa-marcelo/Funcao_Para_Coeficientes_Com_Varias_Variaveis_Versao_Final.ipynb\n",
    "        \"\"\"\n",
    "    #variaveis = (poly).free_variables(); Modifiquei aqui\n",
    "    variaveis = (poly).variables()\n",
    "    graus_total = [poly.degree(x) for x in variaveis];\n",
    "    chaves = novo_coefsxy.keys()\n",
    "    soma_total = 0\n",
    "    for chave in chaves:\n",
    "        somas = []\n",
    "        for k in range(len(chave)):\n",
    "            somak = 0\n",
    "            ck = chave[k]\n",
    "            gt = graus_total[k]\n",
    "            gks = graus[k]\n",
    "            a_k = extremos[k][0]\n",
    "            b_k = extremos[k][1]\n",
    "            for pp in range(ck+1):\n",
    "                somak = somak+((binomial(ck,pp))*(binomial(gt-ck, gks-pp))*((a_k)^(pp))*((b_k)^(ck-pp)))\n",
    "            somas.append(somak)\n",
    "        somas_e_valor = somas + [novo_coefsxy[chave]]\n",
    "        soma_total = soma_total + reduce(lambda a, b: a*b, somas_e_valor)\n",
    "    return soma_total\n",
    "\n",
    "\n"
   ]
  },
  {
   "cell_type": "code",
   "execution_count": 17,
   "metadata": {},
   "outputs": [],
   "source": [
    "dicionario = dicionario_geral(poly_u_v_ico_num)"
   ]
  },
  {
   "cell_type": "code",
   "execution_count": 18,
   "metadata": {},
   "outputs": [],
   "source": [
    "dicionario_em_AA = {tuple([ZZ(k) for k in key]) : AA(value) for key, value in  dicionario.items()}\n"
   ]
  },
  {
   "cell_type": "code",
   "execution_count": 19,
   "metadata": {},
   "outputs": [],
   "source": [
    "n_uplas = [[i,j,k] for i in range(graus_u_v_t[0]+1) for j in range(graus_u_v_t[1]+1) for k in range(graus_u_v_t[2]+1)]"
   ]
  },
  {
   "cell_type": "code",
   "execution_count": 20,
   "metadata": {},
   "outputs": [],
   "source": [
    "extremos_u_v_ico_bloco_2_em_AA = [(AA(u0), AA(u1)), (AA(v0), AA(v1)), (0, 1)]\n"
   ]
  },
  {
   "cell_type": "code",
   "execution_count": 21,
   "metadata": {},
   "outputs": [
    {
     "name": "stdout",
     "output_type": "stream",
     "text": [
      "CPU times: user 54.1 s, sys: 0 ns, total: 54.1 s\n",
      "Wall time: 54.1 s\n"
     ]
    }
   ],
   "source": [
    "%time coeficientes_em_AA = [coeficientes_de_moebius_simbolico_varias_variaveis(poly_u_v_ico_num, grau, extremos_u_v_ico_bloco_2_em_AA, dicionario_em_AA ) for grau in n_uplas]"
   ]
  },
  {
   "cell_type": "code",
   "execution_count": 22,
   "metadata": {},
   "outputs": [],
   "source": [
    "numericos = [sign(c) for c in coeficientes_em_AA]"
   ]
  },
  {
   "cell_type": "code",
   "execution_count": 23,
   "metadata": {},
   "outputs": [],
   "source": [
    "sinal = set([sign(c) for c in coeficientes_em_AA])"
   ]
  },
  {
   "cell_type": "code",
   "execution_count": 24,
   "metadata": {},
   "outputs": [
    {
     "data": {
      "text/plain": [
       "{-1, 0}"
      ]
     },
     "execution_count": 24,
     "metadata": {},
     "output_type": "execute_result"
    }
   ],
   "source": [
    "sinal"
   ]
  },
  {
   "cell_type": "code",
   "execution_count": null,
   "metadata": {},
   "outputs": [],
   "source": []
  }
 ],
 "metadata": {
  "kernelspec": {
   "display_name": "SageMath 9.2",
   "language": "sage",
   "name": "sagemath"
  },
  "language_info": {
   "codemirror_mode": {
    "name": "ipython",
    "version": 3
   },
   "file_extension": ".py",
   "mimetype": "text/x-python",
   "name": "python",
   "nbconvert_exporter": "python",
   "pygments_lexer": "ipython3",
   "version": "3.9.1"
  },
  "widgets": {
   "application/vnd.jupyter.widget-state+json": {
    "state": {},
    "version_major": 2,
    "version_minor": 0
   }
  }
 },
 "nbformat": 4,
 "nbformat_minor": 4
}
