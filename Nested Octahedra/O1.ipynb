{
 "cells": [
  {
   "cell_type": "markdown",
   "id": "d00bda77-f8a9-43ab-8b0b-5b75b71e3ad5",
   "metadata": {},
   "source": [
    "## Analyzing the block $O_1$ for the Octahedra"
   ]
  },
  {
   "cell_type": "code",
   "execution_count": 59,
   "id": "717a12bf-4e4b-4b8e-aa2f-aea263d256d5",
   "metadata": {},
   "outputs": [],
   "source": [
    "load(\"../util.sage\")"
   ]
  },
  {
   "cell_type": "code",
   "execution_count": 60,
   "id": "eaa2867f-3d20-41cc-bb6f-0d8af6cf4aa0",
   "metadata": {},
   "outputs": [],
   "source": [
    "O1 = load('blocks/linear_block_1')"
   ]
  },
  {
   "cell_type": "code",
   "execution_count": 61,
   "id": "333fb36a-718d-4139-8973-7e448847fc30",
   "metadata": {},
   "outputs": [
    {
     "name": "stdout",
     "output_type": "stream",
     "text": [
      "True\n"
     ]
    }
   ],
   "source": [
    "p1 = simplify_expression(T1.det())\n",
    "\n",
    "# checks if p1 was modified after simplification\n",
    "print(bool(p1==T1.det()))"
   ]
  },
  {
   "cell_type": "markdown",
   "id": "835abe35-3e90-42c7-a24e-80b02b010503",
   "metadata": {},
   "source": [
    "### Proof Lemma 5:\n",
    "#### 1. $\\alpha_1(t)$ is negative for $t$ in $(0,1)$."
   ]
  },
  {
   "cell_type": "code",
   "execution_count": 62,
   "id": "489ef1ad-be79-4aab-8901-19975bb7b88a",
   "metadata": {},
   "outputs": [],
   "source": [
    "α1 = p1.coefficients()[1][0] # α1(t)"
   ]
  },
  {
   "cell_type": "markdown",
   "id": "20174486-389c-4b40-9311-60b0f0911ed6",
   "metadata": {},
   "source": [
    "##### Change of variables:   $t=\\frac{1}{2}(u-1/u)$"
   ]
  },
  {
   "cell_type": "code",
   "execution_count": 63,
   "id": "a41ead35-9dfd-4a5e-86d4-8006e8da6c06",
   "metadata": {},
   "outputs": [],
   "source": [
    "# Change variable to express α1(t) in terms of u and simplify\n",
    "var('u')\n",
    "assume(u>0)\n",
    "# To simplify, we first apply the variable change\n",
    "α1_u = α1.subs(t^2+1==((1/2)*(u+1/u))^2).subs(t == (1/2)*(u-1/u))\n",
    "α1_u_numerator = α1_u.expand().factor().canonicalize_radical().numerator()"
   ]
  },
  {
   "cell_type": "code",
   "execution_count": 64,
   "id": "6e66a643-6279-42bc-8620-4f43206f73ae",
   "metadata": {},
   "outputs": [
    {
     "data": {
      "text/html": [
       "<html><script type=\"math/tex; mode=display\">\\newcommand{\\Bold}[1]{\\mathbf{#1}}1</script></html>"
      ],
      "text/latex": [
       "$$\\newcommand{\\Bold}[1]{\\mathbf{#1}}1$$"
      ],
      "text/plain": [
       "1"
      ]
     },
     "metadata": {},
     "output_type": "display_data"
    },
    {
     "data": {
      "text/html": [
       "<html><script type=\"math/tex; mode=display\">\\newcommand{\\Bold}[1]{\\mathbf{#1}}\\sqrt{2} + 1</script></html>"
      ],
      "text/latex": [
       "$$\\newcommand{\\Bold}[1]{\\mathbf{#1}}\\sqrt{2} + 1$$"
      ],
      "text/plain": [
       "sqrt(2) + 1"
      ]
     },
     "metadata": {},
     "output_type": "display_data"
    }
   ],
   "source": [
    "# Calculate the values of u for t = 0 and t = 1\n",
    "st0 = solve(0 == (1/2)*(u-1/u), u)\n",
    "st1 = solve(1 == (1/2)*(u-1/u), u)\n",
    "\n",
    "# Extract the positive values for u0 and u1\n",
    "u0 = st0[0].rhs()\n",
    "u1 = st1[0].rhs() \n",
    "\n",
    "show(u0); show(u1)"
   ]
  },
  {
   "cell_type": "markdown",
   "id": "27883601-6c4d-4da5-8b7d-39cda521096c",
   "metadata": {},
   "source": [
    "##### Apply Sturm's Theorem"
   ]
  },
  {
   "cell_type": "code",
   "execution_count": 65,
   "id": "f7c9b888-610b-4edf-b175-2714ae5e16ad",
   "metadata": {},
   "outputs": [],
   "source": [
    "# Converts an expression to a polynomial in Ring AA \n",
    "α1_AA = expr_to_poly(α1_u_numerator, AA)"
   ]
  },
  {
   "cell_type": "code",
   "execution_count": 66,
   "id": "9da77b21-3512-4359-9cd1-bd0e984de95e",
   "metadata": {},
   "outputs": [
    {
     "data": {
      "text/plain": [
       "0"
      ]
     },
     "execution_count": 66,
     "metadata": {},
     "output_type": "execute_result"
    }
   ],
   "source": [
    "# Apply Sturm's theorem to determine the number of roots of α1_AA in (u0, u1)\n",
    "sturm(α1_AA, AA(u0), AA(u1))"
   ]
  },
  {
   "cell_type": "markdown",
   "id": "fdf40387-a0c3-47f8-a636-64bfe5a23788",
   "metadata": {},
   "source": [
    "##### Limit at the extremes"
   ]
  },
  {
   "cell_type": "code",
   "execution_count": 67,
   "id": "a2eaa28d-f399-4347-98fe-2f7d19d3cf43",
   "metadata": {},
   "outputs": [
    {
     "data": {
      "text/plain": [
       "(-Infinity, -Infinity)"
      ]
     },
     "execution_count": 67,
     "metadata": {},
     "output_type": "execute_result"
    }
   ],
   "source": [
    "limit(α1, t=0, dir='+'), limit(α1, t=1, dir='-')"
   ]
  },
  {
   "cell_type": "markdown",
   "id": "18cb530a-57bf-4c1d-b746-fa57f6685c4b",
   "metadata": {},
   "source": [
    "#### 2. $\\alpha_0(t)$ is positive for $t$ in $(0,1)$."
   ]
  },
  {
   "cell_type": "code",
   "execution_count": 68,
   "id": "18f11adc-c171-47a1-bbca-f1d169348064",
   "metadata": {},
   "outputs": [],
   "source": [
    "α0 = p1.coefficients()[0][0] # α0(t) "
   ]
  },
  {
   "cell_type": "markdown",
   "id": "20e6965e-6ebf-41e6-9b4c-16e47cf70add",
   "metadata": {},
   "source": [
    "##### Change of variables:   $t=\\frac{1}{2}(u-1/u)$"
   ]
  },
  {
   "cell_type": "code",
   "execution_count": 69,
   "id": "8b10a559-c3a0-4da0-ae1d-b76e8d45592e",
   "metadata": {},
   "outputs": [],
   "source": [
    "# Change variable to express α0(t) in terms of u and simplify\n",
    "α0_u = α0.subs(t^2+1==((1/2)*(u+1/u))^2).subs(t == (1/2)*(u-1/u))\n",
    "α0_u_numerator = α0_u.expand().factor().canonicalize_radical().numerator().simplify_full()"
   ]
  },
  {
   "cell_type": "markdown",
   "id": "4ce7beda-b359-4bfd-a7b1-2c59294883cb",
   "metadata": {},
   "source": [
    "##### Apply Sturm's Theorem"
   ]
  },
  {
   "cell_type": "code",
   "execution_count": 70,
   "id": "ca4a8535-8da2-405d-835b-0a340a348fbd",
   "metadata": {},
   "outputs": [],
   "source": [
    "# Converts an expression to a polynomial in Ring AA \n",
    "α0_AA = expr_to_poly(α0_u_numerator, AA)  "
   ]
  },
  {
   "cell_type": "code",
   "execution_count": 71,
   "id": "3f40c71b-3bdd-47a2-b591-c3222e274f86",
   "metadata": {},
   "outputs": [
    {
     "data": {
      "text/plain": [
       "0"
      ]
     },
     "execution_count": 71,
     "metadata": {},
     "output_type": "execute_result"
    }
   ],
   "source": [
    "# Apply Sturm's theorem to determine the number of roots of α0_AA in (u0, u1)\n",
    "sturm(α0_AA, AA(u0), AA(u1))"
   ]
  },
  {
   "cell_type": "markdown",
   "id": "8185082b-7e2b-4c3a-8c3c-a7a353ca17bc",
   "metadata": {},
   "source": [
    "##### Limit at the extremes"
   ]
  },
  {
   "cell_type": "code",
   "execution_count": 72,
   "id": "bd36be81-35c4-4169-9779-ae43004f7510",
   "metadata": {},
   "outputs": [
    {
     "data": {
      "text/plain": [
       "(+Infinity, +Infinity)"
      ]
     },
     "execution_count": 72,
     "metadata": {},
     "output_type": "execute_result"
    }
   ],
   "source": [
    "limit(α0, t=0, dir='+'), limit(α0, t=1, dir='-') "
   ]
  },
  {
   "cell_type": "markdown",
   "id": "109a7d26-2801-400c-abbd-dcb4085d24cc",
   "metadata": {},
   "source": [
    "#### 3. $(O_1)_{11}(c(t),t)$ is positive for  $t$ in $(0,1)$."
   ]
  },
  {
   "cell_type": "markdown",
   "id": "0be0104c-06fd-4f2c-99ef-eb7b9afed270",
   "metadata": {},
   "source": [
    "##### Change of variables:   $t=\\frac{1}{2}(u-1/u)$"
   ]
  },
  {
   "cell_type": "code",
   "execution_count": 73,
   "id": "ba6e5309-8c99-431f-9d44-26a7cfe32d03",
   "metadata": {},
   "outputs": [],
   "source": [
    "O11 = O1[0,0].subs(c = -α0/α1)   # (O1)11(c(t), t)"
   ]
  },
  {
   "cell_type": "code",
   "execution_count": 74,
   "id": "866080ec-afb3-44cb-a7fa-2ce89391441a",
   "metadata": {},
   "outputs": [],
   "source": [
    "O11_u = O11.simplify_full().subs(t^2+1==((1/2)*(u+1/u))^2).subs(t == (1/2)*(u-1/u))\n",
    "O11_u_numerator= O11_u.expand().factor().canonicalize_radical().numerator().simplify_full()"
   ]
  },
  {
   "cell_type": "markdown",
   "id": "265dbbe8-d81e-4ab1-b0f8-13da6a580ffd",
   "metadata": {},
   "source": [
    "##### Apply Sturm's Theorem"
   ]
  },
  {
   "cell_type": "code",
   "execution_count": 75,
   "id": "93607985-b178-4451-86bb-e5b6c291c41d",
   "metadata": {},
   "outputs": [],
   "source": [
    "# Converts an expression to a polynomial in Ring AA \n",
    "O11_u_AA = expr_to_poly(O11_u_numerator, AA)  "
   ]
  },
  {
   "cell_type": "code",
   "execution_count": 76,
   "id": "dbecd733-6c67-4d39-a0e7-f10ab8fb0019",
   "metadata": {},
   "outputs": [
    {
     "data": {
      "text/plain": [
       "1"
      ]
     },
     "execution_count": 76,
     "metadata": {},
     "output_type": "execute_result"
    }
   ],
   "source": [
    "sturm(O11_u_AA, AA(1/2), AA(u1))"
   ]
  },
  {
   "cell_type": "code",
   "execution_count": 77,
   "id": "0e8a2863-cdc3-4fc9-be54-1e8cae8dd9cb",
   "metadata": {},
   "outputs": [
    {
     "data": {
      "text/plain": [
       "True"
      ]
     },
     "execution_count": 77,
     "metadata": {},
     "output_type": "execute_result"
    }
   ],
   "source": [
    "# Check if u1 is a root of O11_u_AA\n",
    "O11_u_AA(u0).is_zero() "
   ]
  },
  {
   "cell_type": "markdown",
   "id": "07b14d96-0049-4abc-918e-5c94e60acd35",
   "metadata": {},
   "source": [
    "##### Limit at the extremes"
   ]
  },
  {
   "cell_type": "code",
   "execution_count": 78,
   "id": "71731f64-bbbe-4b5c-9d6b-e6e5484bf5aa",
   "metadata": {},
   "outputs": [
    {
     "data": {
      "text/plain": [
       "(0, +Infinity)"
      ]
     },
     "execution_count": 78,
     "metadata": {},
     "output_type": "execute_result"
    }
   ],
   "source": [
    "limit(O11, t=0, dir='+'), limit(O11, t=1, dir='-') "
   ]
  },
  {
   "cell_type": "markdown",
   "id": "cfd1253a-14b1-44d0-a831-d11e5e90105e",
   "metadata": {},
   "source": [
    "##### 5. There exits a $\\delta<1$ such $(O_1)_{12}(c(t),t)$ is negative for $t$ in $(0,\\delta)$ and is positive for $t$ in $(\\delta,1)$ ."
   ]
  },
  {
   "cell_type": "code",
   "execution_count": 79,
   "id": "308c8678-bd60-40e1-9989-2a54160f9147",
   "metadata": {},
   "outputs": [],
   "source": [
    "O1_12 = T1[0,1].subs(c = -α0/α1) # (O1)12(c(t), t)"
   ]
  },
  {
   "cell_type": "markdown",
   "id": "626e010d-f2d9-4414-a717-79a8c0b4f70e",
   "metadata": {},
   "source": [
    "##### Change of variables:   $t=\\frac{1}{2}(u-1/u)$"
   ]
  },
  {
   "cell_type": "code",
   "execution_count": 80,
   "id": "7e7a18aa-d3f9-4f35-8bab-573a6a3f7897",
   "metadata": {},
   "outputs": [],
   "source": [
    "# Change variable to express T11 in terms of u and simplify\n",
    "O1_12u = O1_12.simplify_full().subs(t^2+1==((1/2)*(u+1/u))^2).subs(t == (1/2)*(u-1/u)) \n",
    "O1_12u_numerator = O1_12u.expand().factor().canonicalize_radical().numerator().simplify_full()"
   ]
  },
  {
   "cell_type": "markdown",
   "id": "41758f33-12f1-4ab2-957a-4562bd55fee0",
   "metadata": {},
   "source": [
    "##### Apply Sturm's Theorem"
   ]
  },
  {
   "cell_type": "code",
   "execution_count": 81,
   "id": "62bbac78-f730-4a90-88cf-9b785db3edf8",
   "metadata": {},
   "outputs": [],
   "source": [
    "#Converts an expression to a polynomial in Ring AA \n",
    "O1_12u_AA = expr_to_poly(O1_12u_numerator, AA) "
   ]
  },
  {
   "cell_type": "code",
   "execution_count": 82,
   "id": "53a9d233-aeda-4cb0-af1a-b55a6904141a",
   "metadata": {},
   "outputs": [
    {
     "data": {
      "text/plain": [
       "1"
      ]
     },
     "execution_count": 82,
     "metadata": {},
     "output_type": "execute_result"
    }
   ],
   "source": [
    "#Apply Sturm's theorem to determine the number of roots of O1_12u_AA in (u0, u1)\n",
    "sturm(O1_12u_AA, AA(u0), AA(u1))"
   ]
  },
  {
   "cell_type": "markdown",
   "id": "be27bc0f-0330-49a8-b3a9-642bf108aa3d",
   "metadata": {},
   "source": [
    "##### Limit at the extremes"
   ]
  },
  {
   "cell_type": "code",
   "execution_count": 83,
   "id": "39f89d39-80ae-4826-9548-87ee21a5104b",
   "metadata": {},
   "outputs": [],
   "source": [
    "l1, l2 = limit(O1_12, t=0, dir='+'), limit(O1_12, t=1, dir='-') "
   ]
  },
  {
   "cell_type": "code",
   "execution_count": 84,
   "id": "05001264-6e4e-4d1b-badf-f35d886bf666",
   "metadata": {},
   "outputs": [
    {
     "data": {
      "text/plain": [
       "(True, True)"
      ]
     },
     "execution_count": 84,
     "metadata": {},
     "output_type": "execute_result"
    }
   ],
   "source": [
    "# check the limit sign at the extremes of the interval\n",
    "bool(l1<0), bool(l2>0)"
   ]
  },
  {
   "cell_type": "code",
   "execution_count": null,
   "id": "59ed37cb-a640-4816-83e9-ce8df7ce5d37",
   "metadata": {},
   "outputs": [],
   "source": []
  }
 ],
 "metadata": {
  "kernelspec": {
   "display_name": "SageMath 9.5",
   "language": "sage",
   "name": "sagemath"
  },
  "language_info": {
   "codemirror_mode": {
    "name": "ipython",
    "version": 3
   },
   "file_extension": ".py",
   "mimetype": "text/x-python",
   "name": "python",
   "nbconvert_exporter": "python",
   "pygments_lexer": "ipython3",
   "version": "3.10.12"
  }
 },
 "nbformat": 4,
 "nbformat_minor": 5
}
