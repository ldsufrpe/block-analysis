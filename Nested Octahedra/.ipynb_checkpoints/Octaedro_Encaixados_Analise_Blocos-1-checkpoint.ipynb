{
 "cells": [
  {
   "cell_type": "code",
   "execution_count": 141,
   "metadata": {
    "collapsed": false
   },
   "outputs": [
   ],
   "source": [
    "var('c')\n",
    "var('t')\n",
    "assume(t>0,t<1)\n",
    "assume(c>0)\n",
    "\n",
    "def simplify_local(p, repeat=2):\n",
    "    c = var('c')    \n",
    "    i=0\n",
    "    while i<repeat:\n",
    "        p = p.collect(c).combine(deep=True).simplify_real()\n",
    "        lst0 = p.coefficients(c)    \n",
    "        lst = []    \n",
    "        for l0 in lst0:\n",
    "            expr0, k = l0\n",
    "            lst1 = expr0.operands()\n",
    "            if len(lst1)<2:\n",
    "                lst.append(expr0*c^k)\n",
    "            for expr1 in lst1:\n",
    "                try:\n",
    "                    expr1 = expr1.canonicalize_radical().factor()\n",
    "                except AttributeError:\n",
    "                    continue\n",
    "                #if len(p.variables())==1:\n",
    "                #    pass\n",
    "                expr1 = expr1*c^k\n",
    "                lst.append(expr1)\n",
    "        p = sum(lst).collect(c).combine(deep=True)\n",
    "        i+=1\n",
    "    return p\n",
    "\n",
    "def count_sign_changes(p):\n",
    "    l = [c for c in p if not c.is_zero()]\n",
    "    changes = [l[i]*l[i + 1] < 0 for i in range(len(l) - 1)]\n",
    "\n",
    "    return changes.count(True)\n",
    "\n",
    "def sturm(p, a, b):\n",
    "    assert p.degree()> 2\n",
    "    assert not (p(a) == 0)\n",
    "    assert not (p(b) == 0)\n",
    "    assert a <= b\n",
    "    remains = [p, diff(p)]\n",
    "    \n",
    "    for i in range(p.degree() - 1):\n",
    "        r = -(remains[i] % remains[i + 1])\n",
    "        if r.is_zero():\n",
    "            #print (r)\n",
    "            break\n",
    "            \n",
    "        remains.append(r)\n",
    "    evals = [[], []]\n",
    "    for q in remains:\n",
    "        evals[0].append(q(a))\n",
    "        evals[1].append(q(b))\n",
    "    return count_sign_changes(evals[0])-count_sign_changes(evals[1])\n",
    "\n",
    "\n",
    "def expr_to_poly(p, ring):    \n",
    "    cc = p.coefficients()\n",
    "    Q = 0\n",
    "    y = polygen(ring, 'y')\n",
    "    for c, i in cc:        \n",
    "        Q+= ring(c)*y^i\n",
    "    return Q"
   ]
  },
  {
   "cell_type": "markdown",
   "metadata": {
    "collapsed": false
   },
   "source": [
    "#### Bloco 1"
   ]
  },
  {
   "cell_type": "code",
   "execution_count": 142,
   "metadata": {
    "collapsed": false
   },
   "outputs": [
    {
     "data": {
      "text/html": [
       "<html>\\[\\newcommand{\\Bold}[1]{\\mathbf{#1}}\\left(\\begin{array}{rr}\n",
       "6 \\, c - \\sqrt{2} - \\frac{1}{4} & 6 \\, c - \\frac{t}{t^{3} + 3 \\, t^{2} + 3 \\, t + 1} - \\frac{1}{t^{3} + 3 \\, t^{2} + 3 \\, t + 1} - \\frac{4}{{\\left(t^{2} + 1\\right)}^{\\frac{3}{2}}} + \\frac{t}{{\\left| t - 1 \\right|}^{3}} - \\frac{1}{{\\left| t - 1 \\right|}^{3}} \\\\\n",
       "6 \\, c t - \\frac{t}{t^{3} + 3 \\, t^{2} + 3 \\, t + 1} - \\frac{4 \\, t}{{\\left(t^{2} + 1\\right)}^{\\frac{3}{2}}} - \\frac{1}{t^{3} + 3 \\, t^{2} + 3 \\, t + 1} - \\frac{t}{{\\left| t - 1 \\right|}^{3}} + \\frac{1}{{\\left| t - 1 \\right|}^{3}} & 6 \\, c t - \\frac{\\sqrt{2}}{t^{2}} - \\frac{\\frac{1}{4}}{t^{2}}\n",
       "\\end{array}\\right)\\]</html>"
      ],
      "text/latex": [
       "$$\\newcommand{\\Bold}[1]{\\mathbf{#1}}\\left(\\begin{array}{rr}\n",
       "6 \\, c - \\sqrt{2} - \\frac{1}{4} & 6 \\, c - \\frac{t}{t^{3} + 3 \\, t^{2} + 3 \\, t + 1} - \\frac{1}{t^{3} + 3 \\, t^{2} + 3 \\, t + 1} - \\frac{4}{{\\left(t^{2} + 1\\right)}^{\\frac{3}{2}}} + \\frac{t}{{\\left| t - 1 \\right|}^{3}} - \\frac{1}{{\\left| t - 1 \\right|}^{3}} \\\\\n",
       "6 \\, c t - \\frac{t}{t^{3} + 3 \\, t^{2} + 3 \\, t + 1} - \\frac{4 \\, t}{{\\left(t^{2} + 1\\right)}^{\\frac{3}{2}}} - \\frac{1}{t^{3} + 3 \\, t^{2} + 3 \\, t + 1} - \\frac{t}{{\\left| t - 1 \\right|}^{3}} + \\frac{1}{{\\left| t - 1 \\right|}^{3}} & 6 \\, c t - \\frac{\\sqrt{2}}{t^{2}} - \\frac{\\frac{1}{4}}{t^{2}}\n",
       "\\end{array}\\right)$$"
      ],
      "text/plain": [
       "[                                                                                                  6*c - sqrt(2) - 1/4     6*c - t/(t^3 + 3*t^2 + 3*t + 1) - 1/(t^3 + 3*t^2 + 3*t + 1) - 4/(t^2 + 1)^(3/2) + t/abs(t - 1)^3 - 1/abs(t - 1)^3]\n",
       "[6*c*t - t/(t^3 + 3*t^2 + 3*t + 1) - 4*t/(t^2 + 1)^(3/2) - 1/(t^3 + 3*t^2 + 3*t + 1) - t/abs(t - 1)^3 + 1/abs(t - 1)^3                                                                                         6*c*t - sqrt(2)/t^2 - 1/4/t^2]"
      ]
     },
     "execution_count": 142,
     "metadata": {
     },
     "output_type": "execute_result"
    }
   ],
   "source": [
    "B1 = load('blocos/bloco_1_linear_octaedro'); show(B1)"
   ]
  },
  {
   "cell_type": "code",
   "execution_count": 0,
   "metadata": {
    "collapsed": false
   },
   "outputs": [
   ],
   "source": [
   ]
  },
  {
   "cell_type": "code",
   "execution_count": 143,
   "metadata": {
    "collapsed": false
   },
   "outputs": [
   ],
   "source": [
    "# b00, b01, b10, b11 = B1[0,0], B1[0,1], B1[1,0], B1[1,1]\n",
    "# print(latex(simplify_local(b01))); print(bool(simplify_local(b01)==b01))\n",
    "# print(latex((b10.combine().simplify()))); bool(b10.combine().simplify()==b10)"
   ]
  },
  {
   "cell_type": "code",
   "execution_count": 144,
   "metadata": {
    "collapsed": false
   },
   "outputs": [
    {
     "name": "stdout",
     "output_type": "stream",
     "text": [
      "True\n"
     ]
    },
    {
     "data": {
      "text/html": [
       "<html>\\[\\newcommand{\\Bold}[1]{\\mathbf{#1}}-\\frac{3}{2} \\, {\\left(4 \\, \\sqrt{2} t + t - \\frac{32 \\, t}{{\\left(t^{2} + 1\\right)}^{\\frac{3}{2}}} - \\frac{4}{t + 1} - \\frac{4}{t - 1} + \\frac{4 \\, \\sqrt{2} + 1}{t^{2}}\\right)} c + \\frac{8 \\, \\sqrt{2} + 33}{16 \\, t^{2}} - \\frac{16 \\, t}{{\\left(t^{2} + 1\\right)}^{3}} - \\frac{4}{{\\left(t^{2} + 1\\right)}^{\\frac{3}{2}} {\\left(t + 1\\right)}} - \\frac{4}{{\\left(t^{2} + 1\\right)}^{\\frac{3}{2}} {\\left(t - 1\\right)}} - \\frac{1}{{\\left(t + 1\\right)}^{4}} + \\frac{1}{{\\left(t - 1\\right)}^{4}}\\]</html>"
      ],
      "text/latex": [
       "$$\\newcommand{\\Bold}[1]{\\mathbf{#1}}-\\frac{3}{2} \\, {\\left(4 \\, \\sqrt{2} t + t - \\frac{32 \\, t}{{\\left(t^{2} + 1\\right)}^{\\frac{3}{2}}} - \\frac{4}{t + 1} - \\frac{4}{t - 1} + \\frac{4 \\, \\sqrt{2} + 1}{t^{2}}\\right)} c + \\frac{8 \\, \\sqrt{2} + 33}{16 \\, t^{2}} - \\frac{16 \\, t}{{\\left(t^{2} + 1\\right)}^{3}} - \\frac{4}{{\\left(t^{2} + 1\\right)}^{\\frac{3}{2}} {\\left(t + 1\\right)}} - \\frac{4}{{\\left(t^{2} + 1\\right)}^{\\frac{3}{2}} {\\left(t - 1\\right)}} - \\frac{1}{{\\left(t + 1\\right)}^{4}} + \\frac{1}{{\\left(t - 1\\right)}^{4}}$$"
      ],
      "text/plain": [
       "-3/2*(4*sqrt(2)*t + t - 32*t/(t^2 + 1)^(3/2) - 4/(t + 1) - 4/(t - 1) + (4*sqrt(2) + 1)/t^2)*c + 1/16*(8*sqrt(2) + 33)/t^2 - 16*t/(t^2 + 1)^3 - 4/((t^2 + 1)^(3/2)*(t + 1)) - 4/((t^2 + 1)^(3/2)*(t - 1)) - 1/(t + 1)^4 + 1/(t - 1)^4"
      ]
     },
     "execution_count": 144,
     "metadata": {
     },
     "output_type": "execute_result"
    }
   ],
   "source": [
    "p1 = simplify_local(B1.det());print(bool(p1==B1.det())); show(p1)\n"
   ]
  },
  {
   "cell_type": "markdown",
   "metadata": {
    "collapsed": false
   },
   "source": [
    "### Provar Lema 2\n",
    "\n",
    "1. Estudar se $\\alpha_1$ se anula e o sinal."
   ]
  },
  {
   "cell_type": "code",
   "execution_count": 145,
   "metadata": {
    "collapsed": false
   },
   "outputs": [
    {
     "data": {
      "text/html": [
       "<html>\\[\\newcommand{\\Bold}[1]{\\mathbf{#1}}\\frac{8 \\, \\sqrt{2} + 33}{16 \\, t^{2}} - \\frac{16 \\, t}{{\\left(t^{2} + 1\\right)}^{3}} - \\frac{4}{{\\left(t^{2} + 1\\right)}^{\\frac{3}{2}} {\\left(t + 1\\right)}} - \\frac{4}{{\\left(t^{2} + 1\\right)}^{\\frac{3}{2}} {\\left(t - 1\\right)}} - \\frac{1}{{\\left(t + 1\\right)}^{4}} + \\frac{1}{{\\left(t - 1\\right)}^{4}}\\]</html>"
      ],
      "text/latex": [
       "$$\\newcommand{\\Bold}[1]{\\mathbf{#1}}\\frac{8 \\, \\sqrt{2} + 33}{16 \\, t^{2}} - \\frac{16 \\, t}{{\\left(t^{2} + 1\\right)}^{3}} - \\frac{4}{{\\left(t^{2} + 1\\right)}^{\\frac{3}{2}} {\\left(t + 1\\right)}} - \\frac{4}{{\\left(t^{2} + 1\\right)}^{\\frac{3}{2}} {\\left(t - 1\\right)}} - \\frac{1}{{\\left(t + 1\\right)}^{4}} + \\frac{1}{{\\left(t - 1\\right)}^{4}}$$"
      ],
      "text/plain": [
       "1/16*(8*sqrt(2) + 33)/t^2 - 16*t/(t^2 + 1)^3 - 4/((t^2 + 1)^(3/2)*(t + 1)) - 4/((t^2 + 1)^(3/2)*(t - 1)) - 1/(t + 1)^4 + 1/(t - 1)^4"
      ]
     },
     "execution_count": 145,
     "metadata": {
     },
     "output_type": "execute_result"
    },
    {
     "data": {
      "text/html": [
       "<html>\\[\\newcommand{\\Bold}[1]{\\mathbf{#1}}-6 \\, \\sqrt{2} t - \\frac{3}{2} \\, t + \\frac{48 \\, t}{{\\left(t^{2} + 1\\right)}^{\\frac{3}{2}}} + \\frac{6}{t + 1} + \\frac{6}{t - 1} - \\frac{3 \\, {\\left(4 \\, \\sqrt{2} + 1\\right)}}{2 \\, t^{2}}\\]</html>"
      ],
      "text/latex": [
       "$$\\newcommand{\\Bold}[1]{\\mathbf{#1}}-6 \\, \\sqrt{2} t - \\frac{3}{2} \\, t + \\frac{48 \\, t}{{\\left(t^{2} + 1\\right)}^{\\frac{3}{2}}} + \\frac{6}{t + 1} + \\frac{6}{t - 1} - \\frac{3 \\, {\\left(4 \\, \\sqrt{2} + 1\\right)}}{2 \\, t^{2}}$$"
      ],
      "text/plain": [
       "-6*sqrt(2)*t - 3/2*t + 48*t/(t^2 + 1)^(3/2) + 6/(t + 1) + 6/(t - 1) - 3/2*(4*sqrt(2) + 1)/t^2"
      ]
     },
     "execution_count": 145,
     "metadata": {
     },
     "output_type": "execute_result"
    }
   ],
   "source": [
    "α0 = p1.coefficients()[0][0]\n",
    "α1 = p1.coefficients()[1][0]\n",
    "\n",
    "show(α0); show(α1)"
   ]
  },
  {
   "cell_type": "markdown",
   "metadata": {
    "collapsed": false
   },
   "source": [
    "#### O gráfico de $\\alpha_1$:"
   ]
  },
  {
   "cell_type": "code",
   "execution_count": 146,
   "metadata": {
    "collapsed": false
   },
   "outputs": [
    {
     "data": {
      "image/png": "[encoded data removed]",
      "text/plain": [
       "Graphics object consisting of 1 graphics primitive"
      ]
     },
     "execution_count": 146,
     "metadata": {
     },
     "output_type": "execute_result"
    }
   ],
   "source": [
    "show(plot(α1, (x,0.1, 0.99), legend_label=r'$\\alpha_1$'))"
   ]
  },
  {
   "cell_type": "markdown",
   "metadata": {
    "collapsed": false
   },
   "source": [
    "#### Usando limites"
   ]
  },
  {
   "cell_type": "code",
   "execution_count": 147,
   "metadata": {
    "collapsed": false
   },
   "outputs": [
    {
     "data": {
      "text/plain": [
       "(-Infinity, -Infinity)"
      ]
     },
     "execution_count": 147,
     "metadata": {
     },
     "output_type": "execute_result"
    }
   ],
   "source": [
    "limit(α1, t=0, dir='+'), limit(α1, t=1, dir='-') # negativos nos extremos"
   ]
  },
  {
   "cell_type": "markdown",
   "metadata": {
    "collapsed": false
   },
   "source": [
    "#### Mudança de variável:  $t=\\frac{1}{2}(u-1/u)$"
   ]
  },
  {
   "cell_type": "code",
   "execution_count": 148,
   "metadata": {
    "collapsed": false
   },
   "outputs": [
    {
     "data": {
      "text/html": [
       "<html>\\[\\newcommand{\\Bold}[1]{\\mathbf{#1}}-3 \\, u^{16} {\\left(4 \\, \\sqrt{2} + 1\\right)} + 6 \\, u^{14} {\\left(12 \\, \\sqrt{2} + 19\\right)} - 24 \\, u^{13} {\\left(4 \\, \\sqrt{2} - 31\\right)} + 6 \\, u^{12} {\\left(4 \\, \\sqrt{2} + 1\\right)} + 72 \\, u^{11} {\\left(4 \\, \\sqrt{2} - 95\\right)} - 18 \\, u^{10} {\\left(12 \\, \\sqrt{2} + 19\\right)} + 48 \\, u^{9} {\\left(28 \\, \\sqrt{2} + 359\\right)} + 48 \\, u^{7} {\\left(28 \\, \\sqrt{2} - 345\\right)} + 18 \\, u^{6} {\\left(12 \\, \\sqrt{2} + 19\\right)} + 72 \\, u^{5} {\\left(4 \\, \\sqrt{2} + 97\\right)} - 6 \\, u^{4} {\\left(4 \\, \\sqrt{2} + 1\\right)} - 24 \\, u^{3} {\\left(4 \\, \\sqrt{2} + 33\\right)} - 6 \\, u^{2} {\\left(12 \\, \\sqrt{2} + 19\\right)} + 12 \\, \\sqrt{2} + 3\\]</html>"
      ],
      "text/latex": [
       "$$\\newcommand{\\Bold}[1]{\\mathbf{#1}}-3 \\, u^{16} {\\left(4 \\, \\sqrt{2} + 1\\right)} + 6 \\, u^{14} {\\left(12 \\, \\sqrt{2} + 19\\right)} - 24 \\, u^{13} {\\left(4 \\, \\sqrt{2} - 31\\right)} + 6 \\, u^{12} {\\left(4 \\, \\sqrt{2} + 1\\right)} + 72 \\, u^{11} {\\left(4 \\, \\sqrt{2} - 95\\right)} - 18 \\, u^{10} {\\left(12 \\, \\sqrt{2} + 19\\right)} + 48 \\, u^{9} {\\left(28 \\, \\sqrt{2} + 359\\right)} + 48 \\, u^{7} {\\left(28 \\, \\sqrt{2} - 345\\right)} + 18 \\, u^{6} {\\left(12 \\, \\sqrt{2} + 19\\right)} + 72 \\, u^{5} {\\left(4 \\, \\sqrt{2} + 97\\right)} - 6 \\, u^{4} {\\left(4 \\, \\sqrt{2} + 1\\right)} - 24 \\, u^{3} {\\left(4 \\, \\sqrt{2} + 33\\right)} - 6 \\, u^{2} {\\left(12 \\, \\sqrt{2} + 19\\right)} + 12 \\, \\sqrt{2} + 3$$"
      ],
      "text/plain": [
       "-3*u^16*(4*sqrt(2) + 1) + 6*u^14*(12*sqrt(2) + 19) - 24*u^13*(4*sqrt(2) - 31) + 6*u^12*(4*sqrt(2) + 1) + 72*u^11*(4*sqrt(2) - 95) - 18*u^10*(12*sqrt(2) + 19) + 48*u^9*(28*sqrt(2) + 359) + 48*u^7*(28*sqrt(2) - 345) + 18*u^6*(12*sqrt(2) + 19) + 72*u^5*(4*sqrt(2) + 97) - 6*u^4*(4*sqrt(2) + 1) - 24*u^3*(4*sqrt(2) + 33) - 6*u^2*(12*sqrt(2) + 19) + 12*sqrt(2) + 3"
      ]
     },
     "execution_count": 148,
     "metadata": {
     },
     "output_type": "execute_result"
    }
   ],
   "source": [
    "var('u')\n",
    "assume(u>0)\n",
    "α1_u = α1.subs(t^2+1==((1/2)*(u+1/u))^2).subs(t == (1/2)*(u-1/u)) # para facilitar aplicamos primeiro a mudança de variável t^2+1==((1/2)*(u+1/u))^2.\n",
    "α1_u = α1_u.expand().factor().canonicalize_radical().numerator(); show(α1_u.canonicalize_radical().simplify_full())\n"
   ]
  },
  {
   "cell_type": "code",
   "execution_count": 149,
   "metadata": {
    "collapsed": false
   },
   "outputs": [
    {
     "data": {
      "text/html": [
       "<html>\\[\\newcommand{\\Bold}[1]{\\mathbf{#1}}\\left[u = 1\\right]\\]</html>"
      ],
      "text/latex": [
       "$$\\newcommand{\\Bold}[1]{\\mathbf{#1}}\\left[u = 1\\right]$$"
      ],
      "text/plain": [
       "[u == 1]"
      ]
     },
     "execution_count": 149,
     "metadata": {
     },
     "output_type": "execute_result"
    },
    {
     "data": {
      "text/html": [
       "<html>\\[\\newcommand{\\Bold}[1]{\\mathbf{#1}}\\left[u = \\sqrt{2} + 1\\right]\\]</html>"
      ],
      "text/latex": [
       "$$\\newcommand{\\Bold}[1]{\\mathbf{#1}}\\left[u = \\sqrt{2} + 1\\right]$$"
      ],
      "text/plain": [
       "[u == sqrt(2) + 1]"
      ]
     },
     "execution_count": 149,
     "metadata": {
     },
     "output_type": "execute_result"
    }
   ],
   "source": [
    "α1_AA = expr_to_poly(α1_u, AA) # transforma os coeficientes para AA\n",
    "st0 = solve(0 == (1/2)*(u-1/u), u) # obtem os valores de u para t=0\n",
    "st1 = solve(1 == (1/2)*(u-1/u), u) # obtem os valores de u para t=1\n",
    "show(st0); show(st1)"
   ]
  },
  {
   "cell_type": "markdown",
   "metadata": {
    "collapsed": false
   },
   "source": [
    "### Teorema de Sturn"
   ]
  },
  {
   "cell_type": "code",
   "execution_count": 150,
   "metadata": {
    "collapsed": false
   },
   "outputs": [
    {
     "data": {
      "text/plain": [
       "0"
      ]
     },
     "execution_count": 150,
     "metadata": {
     },
     "output_type": "execute_result"
    }
   ],
   "source": [
    "u0 = st0[0].rhs() # positivo\n",
    "u1 = st1[0].rhs() # positivo\n",
    "sturm(α1_AA, AA(u0), AA(u1))"
   ]
  },
  {
   "cell_type": "markdown",
   "metadata": {
    "collapsed": false
   },
   "source": [
    "### Conclusão"
   ]
  },
  {
   "cell_type": "markdown",
   "metadata": {
    "collapsed": false
   },
   "source": [
    "-  Após a mudança de variável $t=\\frac{1}{2}(u-1/u)$ obtemos um polinômio  na variável $u$. **Teorema de Sturm** afirma que não existe raízes entre $1$ e $\\sqrt{2}+ 1$. Consequentemente, não se anula entre $0 < t < 1$. Além disso, $\\alpha_1(t)<0$ nesse intervalo, já que $\\displaystyle\\lim_{t \\to 0^+}\\alpha_1(t)=\\displaystyle\\lim_{t \\to 1^-}\\alpha_1(t)=-\\infty$."
   ]
  },
  {
   "cell_type": "markdown",
   "metadata": {
    "collapsed": false
   },
   "source": [
    "#### Provar Lema 1\n",
    "2. Provar que $c(t) = -\\dfrac{\\alpha_0(t)}{\\alpha_1(t)}>0$ em $(0,1)$.\n",
    "- Vamos provar que $\\alpha_0(t)>0$ já que  $\\alpha_1(t)<0$ (ver item anterior)"
   ]
  },
  {
   "cell_type": "code",
   "execution_count": 151,
   "metadata": {
    "collapsed": false
   },
   "outputs": [
    {
     "data": {
      "image/png": "[encoded data removed]",
      "text/plain": [
       "Graphics object consisting of 1 graphics primitive"
      ]
     },
     "execution_count": 151,
     "metadata": {
     },
     "output_type": "execute_result"
    }
   ],
   "source": [
    "show(plot(α0, (x,0, 0.9), ymax=100, legend_label=r'$\\alpha_0(t)$'))"
   ]
  },
  {
   "cell_type": "markdown",
   "metadata": {
    "collapsed": false
   },
   "source": [
    "#### Usando limites"
   ]
  },
  {
   "cell_type": "code",
   "execution_count": 152,
   "metadata": {
    "collapsed": false
   },
   "outputs": [
    {
     "data": {
      "text/plain": [
       "(+Infinity, +Infinity)"
      ]
     },
     "execution_count": 152,
     "metadata": {
     },
     "output_type": "execute_result"
    }
   ],
   "source": [
    "limit(α0, t=0, dir='+'), limit(α0, t=1, dir='-') # sempre positivo nos extremos"
   ]
  },
  {
   "cell_type": "markdown",
   "metadata": {
    "collapsed": false
   },
   "source": [
    "#### Mudança de variável:  $t=\\frac{1}{2}(u-1/u)$"
   ]
  },
  {
   "cell_type": "code",
   "execution_count": 0,
   "metadata": {
    "collapsed": false
   },
   "outputs": [
   ],
   "source": [
   ]
  },
  {
   "cell_type": "code",
   "execution_count": 153,
   "metadata": {
    "collapsed": false
   },
   "outputs": [
    {
     "data": {
      "text/html": [
       "<html>\\[\\newcommand{\\Bold}[1]{\\mathbf{#1}}u^{30} {\\left(8 \\, \\sqrt{2} + 33\\right)} - 2 \\, u^{28} {\\left(72 \\, \\sqrt{2} + 553\\right)} - 1024 \\, u^{27} + u^{26} {\\left(728 \\, \\sqrt{2} + 12219\\right)} + 60416 \\, u^{25} + 4 \\, u^{24} {\\left(88 \\, \\sqrt{2} - 13461\\right)} - 596992 \\, u^{23} - 3 \\, u^{22} {\\left(2792 \\, \\sqrt{2} - 22275\\right)} + 3412992 \\, u^{21} - 2 \\, u^{20} {\\left(2104 \\, \\sqrt{2} - 47385\\right)} - 10725376 \\, u^{19} + u^{18} {\\left(40408 \\, \\sqrt{2} - 183525\\right)} + 18757632 \\, u^{17} + 9192 \\, u^{16} {\\left(8 \\, \\sqrt{2} + 33\\right)} - 18757632 \\, u^{15} + u^{14} {\\left(40408 \\, \\sqrt{2} + 516891\\right)} + 10725376 \\, u^{13} - 2 \\, u^{12} {\\left(2104 \\, \\sqrt{2} + 64743\\right)} - 3412992 \\, u^{11} - 3 \\, u^{10} {\\left(2792 \\, \\sqrt{2} + 45309\\right)} + 596992 \\, u^{9} + 4 \\, u^{8} {\\left(88 \\, \\sqrt{2} + 14187\\right)} - 60416 \\, u^{7} + u^{6} {\\left(728 \\, \\sqrt{2} - 6213\\right)} + 1024 \\, u^{5} - 2 \\, u^{4} {\\left(72 \\, \\sqrt{2} + 41\\right)} + u^{2} {\\left(8 \\, \\sqrt{2} + 33\\right)}\\]</html>"
      ],
      "text/latex": [
       "$$\\newcommand{\\Bold}[1]{\\mathbf{#1}}u^{30} {\\left(8 \\, \\sqrt{2} + 33\\right)} - 2 \\, u^{28} {\\left(72 \\, \\sqrt{2} + 553\\right)} - 1024 \\, u^{27} + u^{26} {\\left(728 \\, \\sqrt{2} + 12219\\right)} + 60416 \\, u^{25} + 4 \\, u^{24} {\\left(88 \\, \\sqrt{2} - 13461\\right)} - 596992 \\, u^{23} - 3 \\, u^{22} {\\left(2792 \\, \\sqrt{2} - 22275\\right)} + 3412992 \\, u^{21} - 2 \\, u^{20} {\\left(2104 \\, \\sqrt{2} - 47385\\right)} - 10725376 \\, u^{19} + u^{18} {\\left(40408 \\, \\sqrt{2} - 183525\\right)} + 18757632 \\, u^{17} + 9192 \\, u^{16} {\\left(8 \\, \\sqrt{2} + 33\\right)} - 18757632 \\, u^{15} + u^{14} {\\left(40408 \\, \\sqrt{2} + 516891\\right)} + 10725376 \\, u^{13} - 2 \\, u^{12} {\\left(2104 \\, \\sqrt{2} + 64743\\right)} - 3412992 \\, u^{11} - 3 \\, u^{10} {\\left(2792 \\, \\sqrt{2} + 45309\\right)} + 596992 \\, u^{9} + 4 \\, u^{8} {\\left(88 \\, \\sqrt{2} + 14187\\right)} - 60416 \\, u^{7} + u^{6} {\\left(728 \\, \\sqrt{2} - 6213\\right)} + 1024 \\, u^{5} - 2 \\, u^{4} {\\left(72 \\, \\sqrt{2} + 41\\right)} + u^{2} {\\left(8 \\, \\sqrt{2} + 33\\right)}$$"
      ],
      "text/plain": [
       "u^30*(8*sqrt(2) + 33) - 2*u^28*(72*sqrt(2) + 553) - 1024*u^27 + u^26*(728*sqrt(2) + 12219) + 60416*u^25 + 4*u^24*(88*sqrt(2) - 13461) - 596992*u^23 - 3*u^22*(2792*sqrt(2) - 22275) + 3412992*u^21 - 2*u^20*(2104*sqrt(2) - 47385) - 10725376*u^19 + u^18*(40408*sqrt(2) - 183525) + 18757632*u^17 + 9192*u^16*(8*sqrt(2) + 33) - 18757632*u^15 + u^14*(40408*sqrt(2) + 516891) + 10725376*u^13 - 2*u^12*(2104*sqrt(2) + 64743) - 3412992*u^11 - 3*u^10*(2792*sqrt(2) + 45309) + 596992*u^9 + 4*u^8*(88*sqrt(2) + 14187) - 60416*u^7 + u^6*(728*sqrt(2) - 6213) + 1024*u^5 - 2*u^4*(72*sqrt(2) + 41) + u^2*(8*sqrt(2) + 33)"
      ]
     },
     "execution_count": 153,
     "metadata": {
     },
     "output_type": "execute_result"
    }
   ],
   "source": [
    "var('u')\n",
    "assume(u>0)\n",
    "α0_u = α0.subs(t^2+1==((1/2)*(u+1/u))^2).subs(t == (1/2)*(u-1/u))\n",
    "α0_u = α0_u.expand().factor().canonicalize_radical().numerator().simplify_full(); show(α0_u)"
   ]
  },
  {
   "cell_type": "code",
   "execution_count": 154,
   "metadata": {
    "collapsed": false
   },
   "outputs": [
    {
     "data": {
      "text/html": [
       "<html>\\[\\newcommand{\\Bold}[1]{\\mathbf{#1}}\\left[u = 1\\right]\\]</html>"
      ],
      "text/latex": [
       "$$\\newcommand{\\Bold}[1]{\\mathbf{#1}}\\left[u = 1\\right]$$"
      ],
      "text/plain": [
       "[u == 1]"
      ]
     },
     "execution_count": 154,
     "metadata": {
     },
     "output_type": "execute_result"
    },
    {
     "data": {
      "text/html": [
       "<html>\\[\\newcommand{\\Bold}[1]{\\mathbf{#1}}\\left[u = \\sqrt{2} + 1\\right]\\]</html>"
      ],
      "text/latex": [
       "$$\\newcommand{\\Bold}[1]{\\mathbf{#1}}\\left[u = \\sqrt{2} + 1\\right]$$"
      ],
      "text/plain": [
       "[u == sqrt(2) + 1]"
      ]
     },
     "execution_count": 154,
     "metadata": {
     },
     "output_type": "execute_result"
    }
   ],
   "source": [
    "α0_AA = expr_to_poly(α0_u, AA)                 # transforma os coeficientes para AA\n",
    "st0 = solve(0 == (1/2)*(u-1/u), u) # obtem os valores de u para t=0\n",
    "st1 = solve(1 == (1/2)*(u-1/u), u) # obtem os valores de u para t=1\n",
    "show(st0); show(st1)"
   ]
  },
  {
   "cell_type": "markdown",
   "metadata": {
    "collapsed": false
   },
   "source": [
    "#### Teorema de Sturn"
   ]
  },
  {
   "cell_type": "code",
   "execution_count": 155,
   "metadata": {
    "collapsed": false
   },
   "outputs": [
    {
     "data": {
      "text/plain": [
       "0"
      ]
     },
     "execution_count": 155,
     "metadata": {
     },
     "output_type": "execute_result"
    }
   ],
   "source": [
    "u00 = st0[0].rhs() # positivo\n",
    "u10 = st1[0].rhs()\n",
    "sturm(α0_AA, AA(u00), AA(u10)) "
   ]
  },
  {
   "cell_type": "code",
   "execution_count": 156,
   "metadata": {
    "collapsed": false
   },
   "outputs": [
    {
     "data": {
      "text/plain": [
       "False"
      ]
     },
     "execution_count": 156,
     "metadata": {
     },
     "output_type": "execute_result"
    }
   ],
   "source": [
    "α0_AA(u00).is_zero() "
   ]
  },
  {
   "cell_type": "markdown",
   "metadata": {
    "collapsed": false
   },
   "source": [
    "#### Conclusão\n",
    "\n",
    "-  Após a mudança de variável $t=\\frac{1}{2}(u-1/u)$ obtemos um polinômio  na variável $u$. O **Teorema de Sturn** garante que não existe apenas uma raiz entre $1$ e $\\sqrt{2}$. Consequentemente, $\\alpha_0(t)$ não se anula em  $t\\in (0,1)$. Além disso, $\\alpha_1(t)>0$ nesse intervalo, já que $\\displaystyle\\lim_{t \\to 0^+}\\alpha_0(t)=\\displaystyle\\lim_{t \\to 1^-}\\alpha_0(t)=+\\infty$. Portanto, uma vez que $\\alpha_1(t)<0$ nesse intervalo, provamos que $c(t) = -\\dfrac{\\alpha_0(t)}{\\alpha_1(t)}>0$ em $(0,1)$."
   ]
  },
  {
   "cell_type": "markdown",
   "metadata": {
    "collapsed": false
   },
   "source": [
    "#### Provar Lema 2.\n",
    "\n",
    "3. Provar que $a_{11}(c,t)$ é diferente de zero para todo $t\\in (0, 1)$.\n"
   ]
  },
  {
   "cell_type": "markdown",
   "metadata": {
    "collapsed": false
   },
   "source": [
    "#### Mudança de variável:  $t=\\frac{1}{2}(u-1/u)$"
   ]
  },
  {
   "cell_type": "code",
   "execution_count": 157,
   "metadata": {
    "collapsed": false
   },
   "outputs": [
    {
     "data": {
      "text/html": [
       "<html>\\[\\newcommand{\\Bold}[1]{\\mathbf{#1}}-u^{34} {\\left(8 \\, \\sqrt{2} + 33\\right)} + u^{32} {\\left(296 \\, \\sqrt{2} + 725\\right)} + 256 \\, u^{31} {\\left(4 \\, \\sqrt{2} + 1\\right)} - 4 \\, u^{30} {\\left(776 \\, \\sqrt{2} + 1341\\right)} - 2048 \\, u^{29} {\\left(12 \\, \\sqrt{2} + 5\\right)} + 4 \\, u^{28} {\\left(2392 \\, \\sqrt{2} + 751\\right)} + 256 \\, u^{27} {\\left(868 \\, \\sqrt{2} + 505\\right)} + 8 \\, u^{26} {\\left(2056 \\, \\sqrt{2} + 64371\\right)} - 221184 \\, u^{25} {\\left(4 \\, \\sqrt{2} + 3\\right)} - 64 \\, u^{24} {\\left(1346 \\, \\sqrt{2} + 76247\\right)} + 768 \\, u^{23} {\\left(1436 \\, \\sqrt{2} + 1415\\right)} - 12 \\, u^{22} {\\left(7192 \\, \\sqrt{2} - 2264633\\right)} + 6144 \\, u^{21} {\\left(300 \\, \\sqrt{2} + 221\\right)} + 4 \\, u^{20} {\\left(51288 \\, \\sqrt{2} - 21387617\\right)} - 768 \\, u^{19} {\\left(5764 \\, \\sqrt{2} + 5089\\right)} + 6 \\, u^{18} {\\left(33640 \\, \\sqrt{2} + 25053957\\right)} - 6 \\, u^{16} {\\left(33640 \\, \\sqrt{2} + 25053957\\right)} + 768 \\, u^{15} {\\left(5764 \\, \\sqrt{2} + 5089\\right)} - 4 \\, u^{14} {\\left(51288 \\, \\sqrt{2} - 21387617\\right)} - 6144 \\, u^{13} {\\left(300 \\, \\sqrt{2} + 221\\right)} + 12 \\, u^{12} {\\left(7192 \\, \\sqrt{2} - 2264633\\right)} - 768 \\, u^{11} {\\left(1436 \\, \\sqrt{2} + 1415\\right)} + 64 \\, u^{10} {\\left(1346 \\, \\sqrt{2} + 76247\\right)} + 221184 \\, u^{9} {\\left(4 \\, \\sqrt{2} + 3\\right)} - 8 \\, u^{8} {\\left(2056 \\, \\sqrt{2} + 64371\\right)} - 256 \\, u^{7} {\\left(868 \\, \\sqrt{2} + 505\\right)} - 4 \\, u^{6} {\\left(2392 \\, \\sqrt{2} + 751\\right)} + 2048 \\, u^{5} {\\left(12 \\, \\sqrt{2} + 5\\right)} + 4 \\, u^{4} {\\left(776 \\, \\sqrt{2} + 1341\\right)} - 256 \\, u^{3} {\\left(4 \\, \\sqrt{2} + 1\\right)} - u^{2} {\\left(296 \\, \\sqrt{2} + 725\\right)} + 8 \\, \\sqrt{2} + 33\\]</html>"
      ],
      "text/latex": [
       "$$\\newcommand{\\Bold}[1]{\\mathbf{#1}}-u^{34} {\\left(8 \\, \\sqrt{2} + 33\\right)} + u^{32} {\\left(296 \\, \\sqrt{2} + 725\\right)} + 256 \\, u^{31} {\\left(4 \\, \\sqrt{2} + 1\\right)} - 4 \\, u^{30} {\\left(776 \\, \\sqrt{2} + 1341\\right)} - 2048 \\, u^{29} {\\left(12 \\, \\sqrt{2} + 5\\right)} + 4 \\, u^{28} {\\left(2392 \\, \\sqrt{2} + 751\\right)} + 256 \\, u^{27} {\\left(868 \\, \\sqrt{2} + 505\\right)} + 8 \\, u^{26} {\\left(2056 \\, \\sqrt{2} + 64371\\right)} - 221184 \\, u^{25} {\\left(4 \\, \\sqrt{2} + 3\\right)} - 64 \\, u^{24} {\\left(1346 \\, \\sqrt{2} + 76247\\right)} + 768 \\, u^{23} {\\left(1436 \\, \\sqrt{2} + 1415\\right)} - 12 \\, u^{22} {\\left(7192 \\, \\sqrt{2} - 2264633\\right)} + 6144 \\, u^{21} {\\left(300 \\, \\sqrt{2} + 221\\right)} + 4 \\, u^{20} {\\left(51288 \\, \\sqrt{2} - 21387617\\right)} - 768 \\, u^{19} {\\left(5764 \\, \\sqrt{2} + 5089\\right)} + 6 \\, u^{18} {\\left(33640 \\, \\sqrt{2} + 25053957\\right)} - 6 \\, u^{16} {\\left(33640 \\, \\sqrt{2} + 25053957\\right)} + 768 \\, u^{15} {\\left(5764 \\, \\sqrt{2} + 5089\\right)} - 4 \\, u^{14} {\\left(51288 \\, \\sqrt{2} - 21387617\\right)} - 6144 \\, u^{13} {\\left(300 \\, \\sqrt{2} + 221\\right)} + 12 \\, u^{12} {\\left(7192 \\, \\sqrt{2} - 2264633\\right)} - 768 \\, u^{11} {\\left(1436 \\, \\sqrt{2} + 1415\\right)} + 64 \\, u^{10} {\\left(1346 \\, \\sqrt{2} + 76247\\right)} + 221184 \\, u^{9} {\\left(4 \\, \\sqrt{2} + 3\\right)} - 8 \\, u^{8} {\\left(2056 \\, \\sqrt{2} + 64371\\right)} - 256 \\, u^{7} {\\left(868 \\, \\sqrt{2} + 505\\right)} - 4 \\, u^{6} {\\left(2392 \\, \\sqrt{2} + 751\\right)} + 2048 \\, u^{5} {\\left(12 \\, \\sqrt{2} + 5\\right)} + 4 \\, u^{4} {\\left(776 \\, \\sqrt{2} + 1341\\right)} - 256 \\, u^{3} {\\left(4 \\, \\sqrt{2} + 1\\right)} - u^{2} {\\left(296 \\, \\sqrt{2} + 725\\right)} + 8 \\, \\sqrt{2} + 33$$"
      ],
      "text/plain": [
       "-u^34*(8*sqrt(2) + 33) + u^32*(296*sqrt(2) + 725) + 256*u^31*(4*sqrt(2) + 1) - 4*u^30*(776*sqrt(2) + 1341) - 2048*u^29*(12*sqrt(2) + 5) + 4*u^28*(2392*sqrt(2) + 751) + 256*u^27*(868*sqrt(2) + 505) + 8*u^26*(2056*sqrt(2) + 64371) - 221184*u^25*(4*sqrt(2) + 3) - 64*u^24*(1346*sqrt(2) + 76247) + 768*u^23*(1436*sqrt(2) + 1415) - 12*u^22*(7192*sqrt(2) - 2264633) + 6144*u^21*(300*sqrt(2) + 221) + 4*u^20*(51288*sqrt(2) - 21387617) - 768*u^19*(5764*sqrt(2) + 5089) + 6*u^18*(33640*sqrt(2) + 25053957) - 6*u^16*(33640*sqrt(2) + 25053957) + 768*u^15*(5764*sqrt(2) + 5089) - 4*u^14*(51288*sqrt(2) - 21387617) - 6144*u^13*(300*sqrt(2) + 221) + 12*u^12*(7192*sqrt(2) - 2264633) - 768*u^11*(1436*sqrt(2) + 1415) + 64*u^10*(1346*sqrt(2) + 76247) + 221184*u^9*(4*sqrt(2) + 3) - 8*u^8*(2056*sqrt(2) + 64371) - 256*u^7*(868*sqrt(2) + 505) - 4*u^6*(2392*sqrt(2) + 751) + 2048*u^5*(12*sqrt(2) + 5) + 4*u^4*(776*sqrt(2) + 1341) - 256*u^3*(4*sqrt(2) + 1) - u^2*(296*sqrt(2) + 725) + 8*sqrt(2) + 33"
      ]
     },
     "execution_count": 157,
     "metadata": {
     },
     "output_type": "execute_result"
    }
   ],
   "source": [
    "assume(u>0)\n",
    "a11 = B1[0,0].subs(c = -α0/α1); \n",
    "a11_u = a11.simplify_full().subs(t^2+1==((1/2)*(u+1/u))^2).subs(t == (1/2)*(u-1/u)) #show(simplify_local(a11))\n",
    "a11_u = a11_u.expand().factor().canonicalize_radical().numerator().simplify_full(); show(a11_u)"
   ]
  },
  {
   "cell_type": "code",
   "execution_count": 158,
   "metadata": {
    "collapsed": false
   },
   "outputs": [
    {
     "data": {
      "text/html": [
       "<html>\\[\\newcommand{\\Bold}[1]{\\mathbf{#1}}\\left[u = 1\\right]\\]</html>"
      ],
      "text/latex": [
       "$$\\newcommand{\\Bold}[1]{\\mathbf{#1}}\\left[u = 1\\right]$$"
      ],
      "text/plain": [
       "[u == 1]"
      ]
     },
     "execution_count": 158,
     "metadata": {
     },
     "output_type": "execute_result"
    },
    {
     "data": {
      "text/html": [
       "<html>\\[\\newcommand{\\Bold}[1]{\\mathbf{#1}}\\left[u = \\sqrt{2} + 1\\right]\\]</html>"
      ],
      "text/latex": [
       "$$\\newcommand{\\Bold}[1]{\\mathbf{#1}}\\left[u = \\sqrt{2} + 1\\right]$$"
      ],
      "text/plain": [
       "[u == sqrt(2) + 1]"
      ]
     },
     "execution_count": 158,
     "metadata": {
     },
     "output_type": "execute_result"
    }
   ],
   "source": [
    "a11_AA = expr_to_poly(a11_u, AA)                 # transforma os coeficientes para AA\n",
    "st0 = solve(0 == (1/2)*(u-1/u), u) # obtem os valores de u para t=0\n",
    "st1 = solve(1 == (1/2)*(u-1/u), u) # obtem os valores de u para t=1\n",
    "show(st0); show(st1)"
   ]
  },
  {
   "cell_type": "markdown",
   "metadata": {
    "collapsed": false
   },
   "source": [
    "#### Teorema de Sturn"
   ]
  },
  {
   "cell_type": "code",
   "execution_count": 159,
   "metadata": {
    "collapsed": false
   },
   "outputs": [
    {
     "data": {
      "text/plain": [
       "1"
      ]
     },
     "execution_count": 159,
     "metadata": {
     },
     "output_type": "execute_result"
    }
   ],
   "source": [
    "u011 = st0[0].rhs() # positivo\n",
    "u111 = st1[0].rhs()\n",
    "sturm(a11_AA, AA(1/2), AA(u111)) # possui raíz em  u011 =1"
   ]
  },
  {
   "cell_type": "code",
   "execution_count": 160,
   "metadata": {
    "collapsed": false
   },
   "outputs": [
    {
     "data": {
      "text/plain": [
       "True"
      ]
     },
     "execution_count": 160,
     "metadata": {
     },
     "output_type": "execute_result"
    }
   ],
   "source": [
    "bool(a11_AA(u011)==0) # u=1 é raíz do polinômio."
   ]
  },
  {
   "cell_type": "markdown",
   "metadata": {
    "collapsed": false
   },
   "source": [
    "#### Conclusão\n",
    "\n",
    "- $u=1$ é raíz do polinômio a11_AA(u). O **Teorema de Sturn** garante que existe apenas uma raiz entre $1/2 < 1$ e $\\sqrt{2}+1$. Logo, não existe raiz entre  $1$ e $\\sqrt{2} + 1$. Consequentemente, $a_{11}(c(t),t)$ não se anula em  $t\\in (0,1)$."
   ]
  },
  {
   "cell_type": "markdown",
   "metadata": {
    "collapsed": false
   },
   "source": [
    "### Prova Lema 2\n",
    "4. Estudar o sinal de $a_{12}(c(t), t)$."
   ]
  },
  {
   "cell_type": "code",
   "execution_count": 161,
   "metadata": {
    "collapsed": false
   },
   "outputs": [
   ],
   "source": [
    "a12 = B1[0,1].subs(c = -α0/α1);"
   ]
  },
  {
   "cell_type": "markdown",
   "metadata": {
    "collapsed": false
   },
   "source": [
    "##### Analisando os limites"
   ]
  },
  {
   "cell_type": "code",
   "execution_count": 162,
   "metadata": {
    "collapsed": false
   },
   "outputs": [
    {
     "data": {
      "text/plain": [
       "(True, True)"
      ]
     },
     "execution_count": 162,
     "metadata": {
     },
     "output_type": "execute_result"
    }
   ],
   "source": [
    "l1, l2 = limit(a12, t=0, dir='+'), limit(a12, t=1, dir='-') # negativo à esquerda e positivo à direita\n",
    "bool(l1<0), bool(l2>0)"
   ]
  },
  {
   "cell_type": "code",
   "execution_count": 163,
   "metadata": {
    "collapsed": false
   },
   "outputs": [
    {
     "data": {
      "image/png": "[encoded data removed]",
      "text/plain": [
       "Graphics object consisting of 1 graphics primitive"
      ]
     },
     "execution_count": 163,
     "metadata": {
     },
     "output_type": "execute_result"
    }
   ],
   "source": [
    "plot(a12, (x,0,1), ymin=-20, ymax=60)"
   ]
  },
  {
   "cell_type": "code",
   "execution_count": 164,
   "metadata": {
    "collapsed": false
   },
   "outputs": [
    {
     "data": {
      "text/html": [
       "<html>\\[\\newcommand{\\Bold}[1]{\\mathbf{#1}}-u^{34} {\\left(8 \\, \\sqrt{2} + 33\\right)} + u^{32} {\\left(296 \\, \\sqrt{2} + 725\\right)} + 256 \\, u^{31} {\\left(4 \\, \\sqrt{2} + 1\\right)} - 4 \\, u^{30} {\\left(776 \\, \\sqrt{2} + 1341\\right)} - 2048 \\, u^{29} {\\left(12 \\, \\sqrt{2} + 5\\right)} + 4 \\, u^{28} {\\left(2392 \\, \\sqrt{2} + 751\\right)} + 256 \\, u^{27} {\\left(868 \\, \\sqrt{2} + 505\\right)} + 8 \\, u^{26} {\\left(2056 \\, \\sqrt{2} + 64371\\right)} - 221184 \\, u^{25} {\\left(4 \\, \\sqrt{2} + 3\\right)} - 64 \\, u^{24} {\\left(1346 \\, \\sqrt{2} + 76247\\right)} + 768 \\, u^{23} {\\left(1436 \\, \\sqrt{2} + 1415\\right)} - 12 \\, u^{22} {\\left(7192 \\, \\sqrt{2} - 2264633\\right)} + 6144 \\, u^{21} {\\left(300 \\, \\sqrt{2} + 221\\right)} + 4 \\, u^{20} {\\left(51288 \\, \\sqrt{2} - 21387617\\right)} - 768 \\, u^{19} {\\left(5764 \\, \\sqrt{2} + 5089\\right)} + 6 \\, u^{18} {\\left(33640 \\, \\sqrt{2} + 25053957\\right)} - 6 \\, u^{16} {\\left(33640 \\, \\sqrt{2} + 25053957\\right)} + 768 \\, u^{15} {\\left(5764 \\, \\sqrt{2} + 5089\\right)} - 4 \\, u^{14} {\\left(51288 \\, \\sqrt{2} - 21387617\\right)} - 6144 \\, u^{13} {\\left(300 \\, \\sqrt{2} + 221\\right)} + 12 \\, u^{12} {\\left(7192 \\, \\sqrt{2} - 2264633\\right)} - 768 \\, u^{11} {\\left(1436 \\, \\sqrt{2} + 1415\\right)} + 64 \\, u^{10} {\\left(1346 \\, \\sqrt{2} + 76247\\right)} + 221184 \\, u^{9} {\\left(4 \\, \\sqrt{2} + 3\\right)} - 8 \\, u^{8} {\\left(2056 \\, \\sqrt{2} + 64371\\right)} - 256 \\, u^{7} {\\left(868 \\, \\sqrt{2} + 505\\right)} - 4 \\, u^{6} {\\left(2392 \\, \\sqrt{2} + 751\\right)} + 2048 \\, u^{5} {\\left(12 \\, \\sqrt{2} + 5\\right)} + 4 \\, u^{4} {\\left(776 \\, \\sqrt{2} + 1341\\right)} - 256 \\, u^{3} {\\left(4 \\, \\sqrt{2} + 1\\right)} - u^{2} {\\left(296 \\, \\sqrt{2} + 725\\right)} + 8 \\, \\sqrt{2} + 33\\]</html>"
      ],
      "text/latex": [
       "$$\\newcommand{\\Bold}[1]{\\mathbf{#1}}-u^{34} {\\left(8 \\, \\sqrt{2} + 33\\right)} + u^{32} {\\left(296 \\, \\sqrt{2} + 725\\right)} + 256 \\, u^{31} {\\left(4 \\, \\sqrt{2} + 1\\right)} - 4 \\, u^{30} {\\left(776 \\, \\sqrt{2} + 1341\\right)} - 2048 \\, u^{29} {\\left(12 \\, \\sqrt{2} + 5\\right)} + 4 \\, u^{28} {\\left(2392 \\, \\sqrt{2} + 751\\right)} + 256 \\, u^{27} {\\left(868 \\, \\sqrt{2} + 505\\right)} + 8 \\, u^{26} {\\left(2056 \\, \\sqrt{2} + 64371\\right)} - 221184 \\, u^{25} {\\left(4 \\, \\sqrt{2} + 3\\right)} - 64 \\, u^{24} {\\left(1346 \\, \\sqrt{2} + 76247\\right)} + 768 \\, u^{23} {\\left(1436 \\, \\sqrt{2} + 1415\\right)} - 12 \\, u^{22} {\\left(7192 \\, \\sqrt{2} - 2264633\\right)} + 6144 \\, u^{21} {\\left(300 \\, \\sqrt{2} + 221\\right)} + 4 \\, u^{20} {\\left(51288 \\, \\sqrt{2} - 21387617\\right)} - 768 \\, u^{19} {\\left(5764 \\, \\sqrt{2} + 5089\\right)} + 6 \\, u^{18} {\\left(33640 \\, \\sqrt{2} + 25053957\\right)} - 6 \\, u^{16} {\\left(33640 \\, \\sqrt{2} + 25053957\\right)} + 768 \\, u^{15} {\\left(5764 \\, \\sqrt{2} + 5089\\right)} - 4 \\, u^{14} {\\left(51288 \\, \\sqrt{2} - 21387617\\right)} - 6144 \\, u^{13} {\\left(300 \\, \\sqrt{2} + 221\\right)} + 12 \\, u^{12} {\\left(7192 \\, \\sqrt{2} - 2264633\\right)} - 768 \\, u^{11} {\\left(1436 \\, \\sqrt{2} + 1415\\right)} + 64 \\, u^{10} {\\left(1346 \\, \\sqrt{2} + 76247\\right)} + 221184 \\, u^{9} {\\left(4 \\, \\sqrt{2} + 3\\right)} - 8 \\, u^{8} {\\left(2056 \\, \\sqrt{2} + 64371\\right)} - 256 \\, u^{7} {\\left(868 \\, \\sqrt{2} + 505\\right)} - 4 \\, u^{6} {\\left(2392 \\, \\sqrt{2} + 751\\right)} + 2048 \\, u^{5} {\\left(12 \\, \\sqrt{2} + 5\\right)} + 4 \\, u^{4} {\\left(776 \\, \\sqrt{2} + 1341\\right)} - 256 \\, u^{3} {\\left(4 \\, \\sqrt{2} + 1\\right)} - u^{2} {\\left(296 \\, \\sqrt{2} + 725\\right)} + 8 \\, \\sqrt{2} + 33$$"
      ],
      "text/plain": [
       "-u^34*(8*sqrt(2) + 33) + u^32*(296*sqrt(2) + 725) + 256*u^31*(4*sqrt(2) + 1) - 4*u^30*(776*sqrt(2) + 1341) - 2048*u^29*(12*sqrt(2) + 5) + 4*u^28*(2392*sqrt(2) + 751) + 256*u^27*(868*sqrt(2) + 505) + 8*u^26*(2056*sqrt(2) + 64371) - 221184*u^25*(4*sqrt(2) + 3) - 64*u^24*(1346*sqrt(2) + 76247) + 768*u^23*(1436*sqrt(2) + 1415) - 12*u^22*(7192*sqrt(2) - 2264633) + 6144*u^21*(300*sqrt(2) + 221) + 4*u^20*(51288*sqrt(2) - 21387617) - 768*u^19*(5764*sqrt(2) + 5089) + 6*u^18*(33640*sqrt(2) + 25053957) - 6*u^16*(33640*sqrt(2) + 25053957) + 768*u^15*(5764*sqrt(2) + 5089) - 4*u^14*(51288*sqrt(2) - 21387617) - 6144*u^13*(300*sqrt(2) + 221) + 12*u^12*(7192*sqrt(2) - 2264633) - 768*u^11*(1436*sqrt(2) + 1415) + 64*u^10*(1346*sqrt(2) + 76247) + 221184*u^9*(4*sqrt(2) + 3) - 8*u^8*(2056*sqrt(2) + 64371) - 256*u^7*(868*sqrt(2) + 505) - 4*u^6*(2392*sqrt(2) + 751) + 2048*u^5*(12*sqrt(2) + 5) + 4*u^4*(776*sqrt(2) + 1341) - 256*u^3*(4*sqrt(2) + 1) - u^2*(296*sqrt(2) + 725) + 8*sqrt(2) + 33"
      ]
     },
     "execution_count": 164,
     "metadata": {
     },
     "output_type": "execute_result"
    }
   ],
   "source": [
    "assume(u>0)\n",
    "a12_u = a12.simplify_full().subs(t^2+1==((1/2)*(u+1/u))^2).subs(t == (1/2)*(u-1/u)) #show(simplify_local(a11))\n",
    "a12_u = a12_u.expand().factor().canonicalize_radical().numerator().simplify_full(); show(a11_u)"
   ]
  },
  {
   "cell_type": "code",
   "execution_count": 165,
   "metadata": {
    "collapsed": false
   },
   "outputs": [
    {
     "data": {
      "text/html": [
       "<html>\\[\\newcommand{\\Bold}[1]{\\mathbf{#1}}\\left[u = 1\\right]\\]</html>"
      ],
      "text/latex": [
       "$$\\newcommand{\\Bold}[1]{\\mathbf{#1}}\\left[u = 1\\right]$$"
      ],
      "text/plain": [
       "[u == 1]"
      ]
     },
     "execution_count": 165,
     "metadata": {
     },
     "output_type": "execute_result"
    },
    {
     "data": {
      "text/html": [
       "<html>\\[\\newcommand{\\Bold}[1]{\\mathbf{#1}}\\left[u = \\sqrt{2} + 1\\right]\\]</html>"
      ],
      "text/latex": [
       "$$\\newcommand{\\Bold}[1]{\\mathbf{#1}}\\left[u = \\sqrt{2} + 1\\right]$$"
      ],
      "text/plain": [
       "[u == sqrt(2) + 1]"
      ]
     },
     "execution_count": 165,
     "metadata": {
     },
     "output_type": "execute_result"
    }
   ],
   "source": [
    "a12_AA = expr_to_poly(a12_u, AA)                 # transforma os coeficientes para AA\n",
    "st0 = solve(0 == (1/2)*(u-1/u), u) # obtem os valores de u para t=0\n",
    "st1 = solve(1 == (1/2)*(u-1/u), u) # obtem os valores de u para t=1\n",
    "show(st0); show(st1)"
   ]
  },
  {
   "cell_type": "code",
   "execution_count": 166,
   "metadata": {
    "collapsed": false
   },
   "outputs": [
    {
     "data": {
      "text/plain": [
       "1"
      ]
     },
     "execution_count": 166,
     "metadata": {
     },
     "output_type": "execute_result"
    }
   ],
   "source": [
    "u012 = st0[0].rhs() # positivo\n",
    "u112 = st1[0].rhs()\n",
    "sturm(a12_AA, AA(u012), AA(u112)) # possui raíz r entre 1 e 1+ sqrt(2)"
   ]
  },
  {
   "cell_type": "markdown",
   "metadata": {
    "collapsed": false
   },
   "source": [
    "#### Conclusão\n",
    "\n",
    "- O polinômio a12_AA tem apenas uma raiz $r_u$ entre $1$ e $\\sqrt{2} + 1\\,$. Consequentemente, existe um único $r$ que anula $a_{11}(c(t),t)$ para $0 < t < 1$.  Já que $\\displaystyle\\lim_{t \\to 0^+}a_{11}(c(t),t)<0$ e $\\displaystyle\\lim_{t \\to 1^-}a_{11}(c(t),t)=+\\infty$, então $a_{11}(c(t),t)<0$ em (0, r) e $a_{11}(c(t),t)>0$ em $(r, 1)$."
   ]
  },
  {
   "cell_type": "markdown",
   "metadata": {
    "collapsed": false
   },
   "source": [
    "#### Análise do Bloco 2"
   ]
  },
  {
   "cell_type": "code",
   "execution_count": 1,
   "metadata": {
    "collapsed": false
   },
   "outputs": [
    {
     "data": {
      "text/html": [
       "<html>\\[\\newcommand{\\Bold}[1]{\\mathbf{#1}}\\left(\\begin{array}{rr}\n",
       "\\frac{1}{2} \\, \\sqrt{2} - \\frac{1}{4} & -\\frac{t}{t^{3} + 3 \\, t^{2} + 3 \\, t + 1} - \\frac{1}{t^{3} + 3 \\, t^{2} + 3 \\, t + 1} + \\frac{2}{{\\left(t^{2} + 1\\right)}^{\\frac{3}{2}}} + \\frac{t}{{\\left| t - 1 \\right|}^{3}} - \\frac{1}{{\\left| t - 1 \\right|}^{3}} \\\\\n",
       "-\\frac{t}{t^{3} + 3 \\, t^{2} + 3 \\, t + 1} + \\frac{2 \\, t}{{\\left(t^{2} + 1\\right)}^{\\frac{3}{2}}} - \\frac{1}{t^{3} + 3 \\, t^{2} + 3 \\, t + 1} - \\frac{t}{{\\left| t - 1 \\right|}^{3}} + \\frac{1}{{\\left| t - 1 \\right|}^{3}} & \\frac{\\sqrt{2}}{2 \\, t^{2}} - \\frac{\\frac{1}{4}}{t^{2}}\n",
       "\\end{array}\\right)\\]</html>"
      ],
      "text/latex": [
       "$$\\newcommand{\\Bold}[1]{\\mathbf{#1}}\\left(\\begin{array}{rr}\n",
       "\\frac{1}{2} \\, \\sqrt{2} - \\frac{1}{4} & -\\frac{t}{t^{3} + 3 \\, t^{2} + 3 \\, t + 1} - \\frac{1}{t^{3} + 3 \\, t^{2} + 3 \\, t + 1} + \\frac{2}{{\\left(t^{2} + 1\\right)}^{\\frac{3}{2}}} + \\frac{t}{{\\left| t - 1 \\right|}^{3}} - \\frac{1}{{\\left| t - 1 \\right|}^{3}} \\\\\n",
       "-\\frac{t}{t^{3} + 3 \\, t^{2} + 3 \\, t + 1} + \\frac{2 \\, t}{{\\left(t^{2} + 1\\right)}^{\\frac{3}{2}}} - \\frac{1}{t^{3} + 3 \\, t^{2} + 3 \\, t + 1} - \\frac{t}{{\\left| t - 1 \\right|}^{3}} + \\frac{1}{{\\left| t - 1 \\right|}^{3}} & \\frac{\\sqrt{2}}{2 \\, t^{2}} - \\frac{\\frac{1}{4}}{t^{2}}\n",
       "\\end{array}\\right)$$"
      ],
      "text/plain": [
       "[                                                                                             1/2*sqrt(2) - 1/4   -t/(t^3 + 3*t^2 + 3*t + 1) - 1/(t^3 + 3*t^2 + 3*t + 1) + 2/(t^2 + 1)^(3/2) + t/abs(t - 1)^3 - 1/abs(t - 1)^3]\n",
       "[-t/(t^3 + 3*t^2 + 3*t + 1) + 2*t/(t^2 + 1)^(3/2) - 1/(t^3 + 3*t^2 + 3*t + 1) - t/abs(t - 1)^3 + 1/abs(t - 1)^3                                                                                      1/2*sqrt(2)/t^2 - 1/4/t^2]"
      ]
     },
     "execution_count": 1,
     "metadata": {
     },
     "output_type": "execute_result"
    }
   ],
   "source": [
    "B2 = load('blocos/bloco_2_linear_octaedro'); show(B2)"
   ]
  },
  {
   "cell_type": "code",
   "execution_count": 168,
   "metadata": {
    "collapsed": false
   },
   "outputs": [
   ],
   "source": [
    "submatrizes_2x2_dets = B2.minors(2)"
   ]
  },
  {
   "cell_type": "code",
   "execution_count": 169,
   "metadata": {
    "collapsed": false
   },
   "outputs": [
    {
     "data": {
      "text/html": [
       "<html>\\[\\newcommand{\\Bold}[1]{\\mathbf{#1}}-{\\left(\\frac{t}{t^{3} + 3 \\, t^{2} + 3 \\, t + 1} - \\frac{2 \\, t}{{\\left(t^{2} + 1\\right)}^{\\frac{3}{2}}} + \\frac{1}{t^{3} + 3 \\, t^{2} + 3 \\, t + 1} + \\frac{t}{{\\left| t - 1 \\right|}^{3}} - \\frac{1}{{\\left| t - 1 \\right|}^{3}}\\right)} {\\left(\\frac{t}{t^{3} + 3 \\, t^{2} + 3 \\, t + 1} + \\frac{1}{t^{3} + 3 \\, t^{2} + 3 \\, t + 1} - \\frac{2}{{\\left(t^{2} + 1\\right)}^{\\frac{3}{2}}} - \\frac{t}{{\\left| t - 1 \\right|}^{3}} + \\frac{1}{{\\left| t - 1 \\right|}^{3}}\\right)} + \\frac{1}{4} \\, {\\left(\\sqrt{2} - \\frac{1}{2}\\right)} {\\left(\\frac{\\sqrt{2}}{t^{2}} - \\frac{\\frac{1}{2}}{t^{2}}\\right)}\\]</html>"
      ],
      "text/latex": [
       "$$\\newcommand{\\Bold}[1]{\\mathbf{#1}}-{\\left(\\frac{t}{t^{3} + 3 \\, t^{2} + 3 \\, t + 1} - \\frac{2 \\, t}{{\\left(t^{2} + 1\\right)}^{\\frac{3}{2}}} + \\frac{1}{t^{3} + 3 \\, t^{2} + 3 \\, t + 1} + \\frac{t}{{\\left| t - 1 \\right|}^{3}} - \\frac{1}{{\\left| t - 1 \\right|}^{3}}\\right)} {\\left(\\frac{t}{t^{3} + 3 \\, t^{2} + 3 \\, t + 1} + \\frac{1}{t^{3} + 3 \\, t^{2} + 3 \\, t + 1} - \\frac{2}{{\\left(t^{2} + 1\\right)}^{\\frac{3}{2}}} - \\frac{t}{{\\left| t - 1 \\right|}^{3}} + \\frac{1}{{\\left| t - 1 \\right|}^{3}}\\right)} + \\frac{1}{4} \\, {\\left(\\sqrt{2} - \\frac{1}{2}\\right)} {\\left(\\frac{\\sqrt{2}}{t^{2}} - \\frac{\\frac{1}{2}}{t^{2}}\\right)}$$"
      ],
      "text/plain": [
       "-(t/(t^3 + 3*t^2 + 3*t + 1) - 2*t/(t^2 + 1)^(3/2) + 1/(t^3 + 3*t^2 + 3*t + 1) + t/abs(t - 1)^3 - 1/abs(t - 1)^3)*(t/(t^3 + 3*t^2 + 3*t + 1) + 1/(t^3 + 3*t^2 + 3*t + 1) - 2/(t^2 + 1)^(3/2) - t/abs(t - 1)^3 + 1/abs(t - 1)^3) + 1/4*(sqrt(2) - 1/2)*(sqrt(2)/t^2 - 1/2/t^2)"
      ]
     },
     "execution_count": 169,
     "metadata": {
     },
     "output_type": "execute_result"
    }
   ],
   "source": [
    "for m in submatrizes_2x2_dets:\n",
    "    show(m)"
   ]
  },
  {
   "cell_type": "code",
   "execution_count": 170,
   "metadata": {
    "collapsed": false
   },
   "outputs": [
    {
     "data": {
      "text/html": [
       "<html>\\[\\newcommand{\\Bold}[1]{\\mathbf{#1}}-\\frac{t^{14} {\\left(4 \\, \\sqrt{2} - 9\\right)} - t^{12} {\\left(4 \\, \\sqrt{2} - 9\\right)} - 64 \\, t^{11} - 3 \\, t^{10} {\\left(4 \\, \\sqrt{2} - 9\\right)} - 768 \\, t^{9} + 3 \\, t^{8} {\\left(4 \\, \\sqrt{2} - 9\\right)} - 384 \\, t^{7} + 3 \\, t^{6} {\\left(4 \\, \\sqrt{2} - 9\\right)} - 768 \\, t^{5} - 3 \\, t^{4} {\\left(4 \\, \\sqrt{2} - 9\\right)} - 64 \\, t^{3} - t^{2} {\\left(4 \\, \\sqrt{2} - 9\\right)} - 64 \\, {\\left(t^{11} - 2 \\, t^{9} + 2 \\, t^{5} - t^{3}\\right)} \\sqrt{t^{2} + 1} + 4 \\, \\sqrt{2} - 9}{16 \\, {\\left(t^{16} - t^{14} - 3 \\, t^{12} + 3 \\, t^{10} + 3 \\, t^{8} - 3 \\, t^{6} - t^{4} + t^{2}\\right)}}\\]</html>"
      ],
      "text/latex": [
       "$$\\newcommand{\\Bold}[1]{\\mathbf{#1}}-\\frac{t^{14} {\\left(4 \\, \\sqrt{2} - 9\\right)} - t^{12} {\\left(4 \\, \\sqrt{2} - 9\\right)} - 64 \\, t^{11} - 3 \\, t^{10} {\\left(4 \\, \\sqrt{2} - 9\\right)} - 768 \\, t^{9} + 3 \\, t^{8} {\\left(4 \\, \\sqrt{2} - 9\\right)} - 384 \\, t^{7} + 3 \\, t^{6} {\\left(4 \\, \\sqrt{2} - 9\\right)} - 768 \\, t^{5} - 3 \\, t^{4} {\\left(4 \\, \\sqrt{2} - 9\\right)} - 64 \\, t^{3} - t^{2} {\\left(4 \\, \\sqrt{2} - 9\\right)} - 64 \\, {\\left(t^{11} - 2 \\, t^{9} + 2 \\, t^{5} - t^{3}\\right)} \\sqrt{t^{2} + 1} + 4 \\, \\sqrt{2} - 9}{16 \\, {\\left(t^{16} - t^{14} - 3 \\, t^{12} + 3 \\, t^{10} + 3 \\, t^{8} - 3 \\, t^{6} - t^{4} + t^{2}\\right)}}$$"
      ],
      "text/plain": [
       "-1/16*(t^14*(4*sqrt(2) - 9) - t^12*(4*sqrt(2) - 9) - 64*t^11 - 3*t^10*(4*sqrt(2) - 9) - 768*t^9 + 3*t^8*(4*sqrt(2) - 9) - 384*t^7 + 3*t^6*(4*sqrt(2) - 9) - 768*t^5 - 3*t^4*(4*sqrt(2) - 9) - 64*t^3 - t^2*(4*sqrt(2) - 9) - 64*(t^11 - 2*t^9 + 2*t^5 - t^3)*sqrt(t^2 + 1) + 4*sqrt(2) - 9)/(t^16 - t^14 - 3*t^12 + 3*t^10 + 3*t^8 - 3*t^6 - t^4 + t^2)"
      ]
     },
     "execution_count": 170,
     "metadata": {
     },
     "output_type": "execute_result"
    },
    {
     "name": "stdout",
     "output_type": "stream",
     "text": [
      "True\n"
     ]
    }
   ],
   "source": [
    "p2 = submatrizes_2x2_dets[0].simplify_full();show(p2)\n",
    "print(bool(p2 == submatrizes_2x2_dets[0]))"
   ]
  },
  {
   "cell_type": "code",
   "execution_count": 171,
   "metadata": {
    "collapsed": false
   },
   "outputs": [
    {
     "data": {
      "text/html": [
       "<html>\\[\\newcommand{\\Bold}[1]{\\mathbf{#1}}-u^{30} {\\left(4 \\, \\sqrt{2} - 9\\right)} + 2 \\, u^{28} {\\left(36 \\, \\sqrt{2} + 47\\right)} + 512 \\, u^{27} - u^{26} {\\left(364 \\, \\sqrt{2} + 3789\\right)} + 18944 \\, u^{25} - 4 \\, u^{24} {\\left(44 \\, \\sqrt{2} - 7011\\right)} - 143872 \\, u^{23} + 3 \\, u^{22} {\\left(1396 \\, \\sqrt{2} - 20037\\right)} + 849408 \\, u^{21} + 2 \\, u^{20} {\\left(1052 \\, \\sqrt{2} - 30399\\right)} - 2698240 \\, u^{19} - u^{18} {\\left(20204 \\, \\sqrt{2} - 220563\\right)} + 4678656 \\, u^{17} - 9192 \\, u^{16} {\\left(4 \\, \\sqrt{2} - 9\\right)} - 4678656 \\, u^{15} - u^{14} {\\left(20204 \\, \\sqrt{2} + 129645\\right)} + 2698240 \\, u^{13} + 2 \\, u^{12} {\\left(1052 \\, \\sqrt{2} + 25665\\right)} - 849408 \\, u^{11} + 3 \\, u^{10} {\\left(1396 \\, \\sqrt{2} + 13755\\right)} + 143872 \\, u^{9} - 4 \\, u^{8} {\\left(44 \\, \\sqrt{2} + 6813\\right)} - 18944 \\, u^{7} - u^{6} {\\left(364 \\, \\sqrt{2} - 5427\\right)} - 512 \\, u^{5} + 2 \\, u^{4} {\\left(36 \\, \\sqrt{2} - 209\\right)} - u^{2} {\\left(4 \\, \\sqrt{2} - 9\\right)}\\]</html>"
      ],
      "text/latex": [
       "$$\\newcommand{\\Bold}[1]{\\mathbf{#1}}-u^{30} {\\left(4 \\, \\sqrt{2} - 9\\right)} + 2 \\, u^{28} {\\left(36 \\, \\sqrt{2} + 47\\right)} + 512 \\, u^{27} - u^{26} {\\left(364 \\, \\sqrt{2} + 3789\\right)} + 18944 \\, u^{25} - 4 \\, u^{24} {\\left(44 \\, \\sqrt{2} - 7011\\right)} - 143872 \\, u^{23} + 3 \\, u^{22} {\\left(1396 \\, \\sqrt{2} - 20037\\right)} + 849408 \\, u^{21} + 2 \\, u^{20} {\\left(1052 \\, \\sqrt{2} - 30399\\right)} - 2698240 \\, u^{19} - u^{18} {\\left(20204 \\, \\sqrt{2} - 220563\\right)} + 4678656 \\, u^{17} - 9192 \\, u^{16} {\\left(4 \\, \\sqrt{2} - 9\\right)} - 4678656 \\, u^{15} - u^{14} {\\left(20204 \\, \\sqrt{2} + 129645\\right)} + 2698240 \\, u^{13} + 2 \\, u^{12} {\\left(1052 \\, \\sqrt{2} + 25665\\right)} - 849408 \\, u^{11} + 3 \\, u^{10} {\\left(1396 \\, \\sqrt{2} + 13755\\right)} + 143872 \\, u^{9} - 4 \\, u^{8} {\\left(44 \\, \\sqrt{2} + 6813\\right)} - 18944 \\, u^{7} - u^{6} {\\left(364 \\, \\sqrt{2} - 5427\\right)} - 512 \\, u^{5} + 2 \\, u^{4} {\\left(36 \\, \\sqrt{2} - 209\\right)} - u^{2} {\\left(4 \\, \\sqrt{2} - 9\\right)}$$"
      ],
      "text/plain": [
       "-u^30*(4*sqrt(2) - 9) + 2*u^28*(36*sqrt(2) + 47) + 512*u^27 - u^26*(364*sqrt(2) + 3789) + 18944*u^25 - 4*u^24*(44*sqrt(2) - 7011) - 143872*u^23 + 3*u^22*(1396*sqrt(2) - 20037) + 849408*u^21 + 2*u^20*(1052*sqrt(2) - 30399) - 2698240*u^19 - u^18*(20204*sqrt(2) - 220563) + 4678656*u^17 - 9192*u^16*(4*sqrt(2) - 9) - 4678656*u^15 - u^14*(20204*sqrt(2) + 129645) + 2698240*u^13 + 2*u^12*(1052*sqrt(2) + 25665) - 849408*u^11 + 3*u^10*(1396*sqrt(2) + 13755) + 143872*u^9 - 4*u^8*(44*sqrt(2) + 6813) - 18944*u^7 - u^6*(364*sqrt(2) - 5427) - 512*u^5 + 2*u^4*(36*sqrt(2) - 209) - u^2*(4*sqrt(2) - 9)"
      ]
     },
     "execution_count": 171,
     "metadata": {
     },
     "output_type": "execute_result"
    }
   ],
   "source": [
    "assume(u>0)\n",
    "p2_u = p2.simplify_full().subs(t^2+1==((1/2)*(u+1/u))^2).subs(t == (1/2)*(u-1/u))\n",
    "p2_u = p2_u.expand().factor().canonicalize_radical().numerator().simplify_full(); show(p2_u)"
   ]
  },
  {
   "cell_type": "code",
   "execution_count": 172,
   "metadata": {
    "collapsed": false
   },
   "outputs": [
    {
     "data": {
      "text/html": [
       "<html>\\[\\newcommand{\\Bold}[1]{\\mathbf{#1}}\\left[u = 1\\right]\\]</html>"
      ],
      "text/latex": [
       "$$\\newcommand{\\Bold}[1]{\\mathbf{#1}}\\left[u = 1\\right]$$"
      ],
      "text/plain": [
       "[u == 1]"
      ]
     },
     "execution_count": 172,
     "metadata": {
     },
     "output_type": "execute_result"
    },
    {
     "data": {
      "text/html": [
       "<html>\\[\\newcommand{\\Bold}[1]{\\mathbf{#1}}\\left[u = \\sqrt{2} + 1\\right]\\]</html>"
      ],
      "text/latex": [
       "$$\\newcommand{\\Bold}[1]{\\mathbf{#1}}\\left[u = \\sqrt{2} + 1\\right]$$"
      ],
      "text/plain": [
       "[u == sqrt(2) + 1]"
      ]
     },
     "execution_count": 172,
     "metadata": {
     },
     "output_type": "execute_result"
    }
   ],
   "source": [
    "p2_AA = expr_to_poly(p2_u, AA)                 # transforma os coeficientes para AA\n",
    "st0 = solve(0 == (1/2)*(u-1/u), u) # obtem os valores de u para t=0\n",
    "st1 = solve(1 == (1/2)*(u-1/u), u) # obtem os valores de u para t=1\n",
    "show(st0); show(st1)"
   ]
  },
  {
   "cell_type": "markdown",
   "metadata": {
    "collapsed": false
   },
   "source": [
    "##### Teorema de Sturm"
   ]
  },
  {
   "cell_type": "code",
   "execution_count": 173,
   "metadata": {
    "collapsed": false
   },
   "outputs": [
    {
     "data": {
      "text/plain": [
       "0"
      ]
     },
     "execution_count": 173,
     "metadata": {
     },
     "output_type": "execute_result"
    }
   ],
   "source": [
    "u0 = st0[0].rhs() # positivo\n",
    "u1 = st1[0].rhs() # positivo\n",
    "sturm(p2_AA, AA(u0), AA(u1))"
   ]
  },
  {
   "cell_type": "markdown",
   "metadata": {
    "collapsed": false
   },
   "source": [
    "#### Conclusão Bloco 2\n",
    "-  Após a mudança de variável $t=\\frac{1}{2}(u-1/u)$ obtemos um polinômio  na variável $u$. O **Teorema de Sturn** garante que existe apenas uma raiz entre $1$ e $ \\sqrt{2} + 1$. Consequentemente, $p2(t)$ não se anula em  $t\\in (0,1)$."
   ]
  },
  {
   "cell_type": "markdown",
   "metadata": {
    "collapsed": false
   },
   "source": [
    "### Análise do B4"
   ]
  },
  {
   "cell_type": "code",
   "execution_count": 174,
   "metadata": {
    "collapsed": false
   },
   "outputs": [
    {
     "data": {
      "text/html": [
       "<html>\\[\\newcommand{\\Bold}[1]{\\mathbf{#1}}\\left(\\begin{array}{rr}\n",
       "-2 \\, c + \\frac{1}{4} & -2 \\, c t + \\frac{t}{t^{3} + 3 \\, t^{2} + 3 \\, t + 1} + \\frac{1}{t^{3} + 3 \\, t^{2} + 3 \\, t + 1} + \\frac{t}{{\\left| t - 1 \\right|}^{3}} - \\frac{1}{{\\left| t - 1 \\right|}^{3}} \\\\\n",
       "-4 \\, c + \\sqrt{2} & -4 \\, c t + \\frac{4 \\, t}{{\\left(t^{2} + 1\\right)}^{\\frac{3}{2}}} \\\\\n",
       "-2 \\, c + \\frac{t}{t^{3} + 3 \\, t^{2} + 3 \\, t + 1} + \\frac{1}{t^{3} + 3 \\, t^{2} + 3 \\, t + 1} - \\frac{t}{{\\left| t - 1 \\right|}^{3}} + \\frac{1}{{\\left| t - 1 \\right|}^{3}} & -2 \\, c t + \\frac{\\frac{1}{4}}{t^{2}} \\\\\n",
       "-4 \\, c + \\frac{4}{{\\left(t^{2} + 1\\right)}^{\\frac{3}{2}}} & -4 \\, c t + \\frac{\\sqrt{2}}{t^{2}}\n",
       "\\end{array}\\right)\\]</html>"
      ],
      "text/latex": [
       "$$\\newcommand{\\Bold}[1]{\\mathbf{#1}}\\left(\\begin{array}{rr}\n",
       "-2 \\, c + \\frac{1}{4} & -2 \\, c t + \\frac{t}{t^{3} + 3 \\, t^{2} + 3 \\, t + 1} + \\frac{1}{t^{3} + 3 \\, t^{2} + 3 \\, t + 1} + \\frac{t}{{\\left| t - 1 \\right|}^{3}} - \\frac{1}{{\\left| t - 1 \\right|}^{3}} \\\\\n",
       "-4 \\, c + \\sqrt{2} & -4 \\, c t + \\frac{4 \\, t}{{\\left(t^{2} + 1\\right)}^{\\frac{3}{2}}} \\\\\n",
       "-2 \\, c + \\frac{t}{t^{3} + 3 \\, t^{2} + 3 \\, t + 1} + \\frac{1}{t^{3} + 3 \\, t^{2} + 3 \\, t + 1} - \\frac{t}{{\\left| t - 1 \\right|}^{3}} + \\frac{1}{{\\left| t - 1 \\right|}^{3}} & -2 \\, c t + \\frac{\\frac{1}{4}}{t^{2}} \\\\\n",
       "-4 \\, c + \\frac{4}{{\\left(t^{2} + 1\\right)}^{\\frac{3}{2}}} & -4 \\, c t + \\frac{\\sqrt{2}}{t^{2}}\n",
       "\\end{array}\\right)$$"
      ],
      "text/plain": [
       "[                                                                                      -2*c + 1/4 -2*c*t + t/(t^3 + 3*t^2 + 3*t + 1) + 1/(t^3 + 3*t^2 + 3*t + 1) + t/abs(t - 1)^3 - 1/abs(t - 1)^3]\n",
       "[                                                                                  -4*c + sqrt(2)                                                                     -4*c*t + 4*t/(t^2 + 1)^(3/2)]\n",
       "[  -2*c + t/(t^3 + 3*t^2 + 3*t + 1) + 1/(t^3 + 3*t^2 + 3*t + 1) - t/abs(t - 1)^3 + 1/abs(t - 1)^3                                                                                 -2*c*t + 1/4/t^2]\n",
       "[                                                                        -4*c + 4/(t^2 + 1)^(3/2)                                                                             -4*c*t + sqrt(2)/t^2]"
      ]
     },
     "execution_count": 174,
     "metadata": {
     },
     "output_type": "execute_result"
    }
   ],
   "source": [
    "B4 = load('blocos/bloco_4_linear_octaedro'); show(B4)"
   ]
  },
  {
   "cell_type": "code",
   "execution_count": 175,
   "metadata": {
    "collapsed": false
   },
   "outputs": [
   ],
   "source": [
    "submatrizes_2x2_dets = B4.minors(2)"
   ]
  },
  {
   "cell_type": "code",
   "execution_count": 176,
   "metadata": {
    "collapsed": false
   },
   "outputs": [
    {
     "data": {
      "text/html": [
       "<html>\\[\\newcommand{\\Bold}[1]{\\mathbf{#1}}{\\left(2 \\, \\sqrt{2} t - t - \\frac{8 \\, t}{{\\left(t^{2} + 1\\right)}^{\\frac{3}{2}}} + \\frac{4}{{\\left(t + 1\\right)}^{2}} - \\frac{4}{{\\left(t - 1\\right)}^{2}}\\right)} c + \\frac{t}{{\\left(t^{2} + 1\\right)}^{\\frac{3}{2}}} - \\frac{\\sqrt{2}}{{\\left(t + 1\\right)}^{2}} + \\frac{\\sqrt{2}}{{\\left(t - 1\\right)}^{2}}\\]</html>"
      ],
      "text/latex": [
       "$$\\newcommand{\\Bold}[1]{\\mathbf{#1}}{\\left(2 \\, \\sqrt{2} t - t - \\frac{8 \\, t}{{\\left(t^{2} + 1\\right)}^{\\frac{3}{2}}} + \\frac{4}{{\\left(t + 1\\right)}^{2}} - \\frac{4}{{\\left(t - 1\\right)}^{2}}\\right)} c + \\frac{t}{{\\left(t^{2} + 1\\right)}^{\\frac{3}{2}}} - \\frac{\\sqrt{2}}{{\\left(t + 1\\right)}^{2}} + \\frac{\\sqrt{2}}{{\\left(t - 1\\right)}^{2}}$$"
      ],
      "text/plain": [
       "(2*sqrt(2)*t - t - 8*t/(t^2 + 1)^(3/2) + 4/(t + 1)^2 - 4/(t - 1)^2)*c + t/(t^2 + 1)^(3/2) - sqrt(2)/(t + 1)^2 + sqrt(2)/(t - 1)^2"
      ]
     },
     "execution_count": 176,
     "metadata": {
     },
     "output_type": "execute_result"
    },
    {
     "data": {
      "text/html": [
       "<html>\\[\\newcommand{\\Bold}[1]{\\mathbf{#1}}-\\frac{1}{2} \\, c {\\left(t - \\frac{4}{t + 1} - \\frac{4}{t - 1} + \\frac{1}{t^{2}}\\right)} + \\frac{1}{16 \\, t^{2}} - \\frac{1}{{\\left(t + 1\\right)}^{4}} + \\frac{1}{{\\left(t - 1\\right)}^{4}}\\]</html>"
      ],
      "text/latex": [
       "$$\\newcommand{\\Bold}[1]{\\mathbf{#1}}-\\frac{1}{2} \\, c {\\left(t - \\frac{4}{t + 1} - \\frac{4}{t - 1} + \\frac{1}{t^{2}}\\right)} + \\frac{1}{16 \\, t^{2}} - \\frac{1}{{\\left(t + 1\\right)}^{4}} + \\frac{1}{{\\left(t - 1\\right)}^{4}}$$"
      ],
      "text/plain": [
       "-1/2*c*(t - 4/(t + 1) - 4/(t - 1) + 1/t^2) + 1/16/t^2 - 1/(t + 1)^4 + 1/(t - 1)^4"
      ]
     },
     "execution_count": 176,
     "metadata": {
     },
     "output_type": "execute_result"
    },
    {
     "data": {
      "text/html": [
       "<html>\\[\\newcommand{\\Bold}[1]{\\mathbf{#1}}-c {\\left(t - \\frac{8 \\, t}{{\\left(t^{2} + 1\\right)}^{\\frac{3}{2}}} + \\frac{2 \\, \\sqrt{2}}{t^{2}} - \\frac{4}{{\\left(t + 1\\right)}^{2}} + \\frac{4}{{\\left(t - 1\\right)}^{2}}\\right)} + \\frac{\\sqrt{2}}{4 \\, t^{2}} - \\frac{4}{{\\left(t^{2} + 1\\right)}^{\\frac{3}{2}} {\\left(t + 1\\right)}^{2}} + \\frac{4}{{\\left(t^{2} + 1\\right)}^{\\frac{3}{2}} {\\left(t - 1\\right)}^{2}}\\]</html>"
      ],
      "text/latex": [
       "$$\\newcommand{\\Bold}[1]{\\mathbf{#1}}-c {\\left(t - \\frac{8 \\, t}{{\\left(t^{2} + 1\\right)}^{\\frac{3}{2}}} + \\frac{2 \\, \\sqrt{2}}{t^{2}} - \\frac{4}{{\\left(t + 1\\right)}^{2}} + \\frac{4}{{\\left(t - 1\\right)}^{2}}\\right)} + \\frac{\\sqrt{2}}{4 \\, t^{2}} - \\frac{4}{{\\left(t^{2} + 1\\right)}^{\\frac{3}{2}} {\\left(t + 1\\right)}^{2}} + \\frac{4}{{\\left(t^{2} + 1\\right)}^{\\frac{3}{2}} {\\left(t - 1\\right)}^{2}}$$"
      ],
      "text/plain": [
       "-c*(t - 8*t/(t^2 + 1)^(3/2) + 2*sqrt(2)/t^2 - 4/(t + 1)^2 + 4/(t - 1)^2) + 1/4*sqrt(2)/t^2 - 4/((t^2 + 1)^(3/2)*(t + 1)^2) + 4/((t^2 + 1)^(3/2)*(t - 1)^2)"
      ]
     },
     "execution_count": 176,
     "metadata": {
     },
     "output_type": "execute_result"
    },
    {
     "data": {
      "text/html": [
       "<html>\\[\\newcommand{\\Bold}[1]{\\mathbf{#1}}-{\\left(2 \\, \\sqrt{2} t - \\frac{8 \\, t}{{\\left(t^{2} + 1\\right)}^{\\frac{3}{2}}} - \\frac{4 \\, t}{{\\left(t + 1\\right)}^{2}} - \\frac{4 \\, t}{{\\left(t - 1\\right)}^{2}} + \\frac{1}{t^{2}}\\right)} c + \\frac{\\sqrt{2}}{4 \\, t^{2}} - \\frac{4 \\, t}{{\\left(t^{2} + 1\\right)}^{\\frac{3}{2}} {\\left(t + 1\\right)}^{2}} - \\frac{4 \\, t}{{\\left(t^{2} + 1\\right)}^{\\frac{3}{2}} {\\left(t - 1\\right)}^{2}}\\]</html>"
      ],
      "text/latex": [
       "$$\\newcommand{\\Bold}[1]{\\mathbf{#1}}-{\\left(2 \\, \\sqrt{2} t - \\frac{8 \\, t}{{\\left(t^{2} + 1\\right)}^{\\frac{3}{2}}} - \\frac{4 \\, t}{{\\left(t + 1\\right)}^{2}} - \\frac{4 \\, t}{{\\left(t - 1\\right)}^{2}} + \\frac{1}{t^{2}}\\right)} c + \\frac{\\sqrt{2}}{4 \\, t^{2}} - \\frac{4 \\, t}{{\\left(t^{2} + 1\\right)}^{\\frac{3}{2}} {\\left(t + 1\\right)}^{2}} - \\frac{4 \\, t}{{\\left(t^{2} + 1\\right)}^{\\frac{3}{2}} {\\left(t - 1\\right)}^{2}}$$"
      ],
      "text/plain": [
       "-(2*sqrt(2)*t - 8*t/(t^2 + 1)^(3/2) - 4*t/(t + 1)^2 - 4*t/(t - 1)^2 + 1/t^2)*c + 1/4*sqrt(2)/t^2 - 4*t/((t^2 + 1)^(3/2)*(t + 1)^2) - 4*t/((t^2 + 1)^(3/2)*(t - 1)^2)"
      ]
     },
     "execution_count": 176,
     "metadata": {
     },
     "output_type": "execute_result"
    },
    {
     "data": {
      "text/html": [
       "<html>\\[\\newcommand{\\Bold}[1]{\\mathbf{#1}}-4 \\, {\\left(\\sqrt{2} t - \\frac{8 \\, t}{{\\left(t^{2} + 1\\right)}^{\\frac{3}{2}}} + \\frac{\\sqrt{2}}{t^{2}}\\right)} c + \\frac{2}{t^{2}} - \\frac{16 \\, t}{{\\left(t^{2} + 1\\right)}^{3}}\\]</html>"
      ],
      "text/latex": [
       "$$\\newcommand{\\Bold}[1]{\\mathbf{#1}}-4 \\, {\\left(\\sqrt{2} t - \\frac{8 \\, t}{{\\left(t^{2} + 1\\right)}^{\\frac{3}{2}}} + \\frac{\\sqrt{2}}{t^{2}}\\right)} c + \\frac{2}{t^{2}} - \\frac{16 \\, t}{{\\left(t^{2} + 1\\right)}^{3}}$$"
      ],
      "text/plain": [
       "-4*(sqrt(2)*t - 8*t/(t^2 + 1)^(3/2) + sqrt(2)/t^2)*c + 2/t^2 - 16*t/(t^2 + 1)^3"
      ]
     },
     "execution_count": 176,
     "metadata": {
     },
     "output_type": "execute_result"
    },
    {
     "data": {
      "text/html": [
       "<html>\\[\\newcommand{\\Bold}[1]{\\mathbf{#1}}c {\\left(\\frac{8 \\, t}{{\\left(t^{2} + 1\\right)}^{\\frac{3}{2}}} - \\frac{4 \\, t}{{\\left(t + 1\\right)}^{2}} - \\frac{4 \\, t}{{\\left(t - 1\\right)}^{2}} - \\frac{2 \\, \\sqrt{2} - 1}{t^{2}}\\right)} - \\frac{1}{{\\left(t^{2} + 1\\right)}^{\\frac{3}{2}} t^{2}} + \\frac{\\sqrt{2}}{{\\left(t + 1\\right)}^{3} t} + \\frac{\\sqrt{2}}{{\\left(t - 1\\right)}^{3} t} + \\frac{\\sqrt{2}}{{\\left(t + 1\\right)}^{3} t^{2}} - \\frac{\\sqrt{2}}{{\\left(t - 1\\right)}^{3} t^{2}}\\]</html>"
      ],
      "text/latex": [
       "$$\\newcommand{\\Bold}[1]{\\mathbf{#1}}c {\\left(\\frac{8 \\, t}{{\\left(t^{2} + 1\\right)}^{\\frac{3}{2}}} - \\frac{4 \\, t}{{\\left(t + 1\\right)}^{2}} - \\frac{4 \\, t}{{\\left(t - 1\\right)}^{2}} - \\frac{2 \\, \\sqrt{2} - 1}{t^{2}}\\right)} - \\frac{1}{{\\left(t^{2} + 1\\right)}^{\\frac{3}{2}} t^{2}} + \\frac{\\sqrt{2}}{{\\left(t + 1\\right)}^{3} t} + \\frac{\\sqrt{2}}{{\\left(t - 1\\right)}^{3} t} + \\frac{\\sqrt{2}}{{\\left(t + 1\\right)}^{3} t^{2}} - \\frac{\\sqrt{2}}{{\\left(t - 1\\right)}^{3} t^{2}}$$"
      ],
      "text/plain": [
       "c*(8*t/(t^2 + 1)^(3/2) - 4*t/(t + 1)^2 - 4*t/(t - 1)^2 - (2*sqrt(2) - 1)/t^2) - 1/((t^2 + 1)^(3/2)*t^2) + sqrt(2)/((t + 1)^3*t) + sqrt(2)/((t - 1)^3*t) + sqrt(2)/((t + 1)^3*t^2) - sqrt(2)/((t - 1)^3*t^2)"
      ]
     },
     "execution_count": 176,
     "metadata": {
     },
     "output_type": "execute_result"
    }
   ],
   "source": [
    "for m in submatrizes_2x2_dets:\n",
    "    show(simplify_local(m))"
   ]
  },
  {
   "cell_type": "code",
   "execution_count": 177,
   "metadata": {
    "collapsed": false
   },
   "outputs": [
    {
     "name": "stdout",
     "output_type": "stream",
     "text": [
      "True\n",
      "True\n"
     ]
    }
   ],
   "source": [
    "p41 = simplify_local(submatrizes_2x2_dets[1]); print(bool(p41==submatrizes_2x2_dets[1])) # teste depois da simplificação\n",
    "p42 = simplify_local(submatrizes_2x2_dets[2]); print(bool(p42==submatrizes_2x2_dets[2])) # teste depois da simplificação"
   ]
  },
  {
   "cell_type": "code",
   "execution_count": 178,
   "metadata": {
    "collapsed": false
   },
   "outputs": [
    {
     "data": {
      "text/html": [
       "<html>\\[\\newcommand{\\Bold}[1]{\\mathbf{#1}}-\\frac{1}{2} \\, c {\\left(t - \\frac{4}{t + 1} - \\frac{4}{t - 1} + \\frac{1}{t^{2}}\\right)} + \\frac{1}{16 \\, t^{2}} - \\frac{1}{{\\left(t + 1\\right)}^{4}} + \\frac{1}{{\\left(t - 1\\right)}^{4}}\\]</html>"
      ],
      "text/latex": [
       "$$\\newcommand{\\Bold}[1]{\\mathbf{#1}}-\\frac{1}{2} \\, c {\\left(t - \\frac{4}{t + 1} - \\frac{4}{t - 1} + \\frac{1}{t^{2}}\\right)} + \\frac{1}{16 \\, t^{2}} - \\frac{1}{{\\left(t + 1\\right)}^{4}} + \\frac{1}{{\\left(t - 1\\right)}^{4}}$$"
      ],
      "text/plain": [
       "-1/2*c*(t - 4/(t + 1) - 4/(t - 1) + 1/t^2) + 1/16/t^2 - 1/(t + 1)^4 + 1/(t - 1)^4"
      ]
     },
     "execution_count": 178,
     "metadata": {
     },
     "output_type": "execute_result"
    },
    {
     "data": {
      "text/html": [
       "<html>\\[\\newcommand{\\Bold}[1]{\\mathbf{#1}}-c {\\left(t - \\frac{8 \\, t}{{\\left(t^{2} + 1\\right)}^{\\frac{3}{2}}} + \\frac{2 \\, \\sqrt{2}}{t^{2}} - \\frac{4}{{\\left(t + 1\\right)}^{2}} + \\frac{4}{{\\left(t - 1\\right)}^{2}}\\right)} + \\frac{\\sqrt{2}}{4 \\, t^{2}} - \\frac{4}{{\\left(t^{2} + 1\\right)}^{\\frac{3}{2}} {\\left(t + 1\\right)}^{2}} + \\frac{4}{{\\left(t^{2} + 1\\right)}^{\\frac{3}{2}} {\\left(t - 1\\right)}^{2}}\\]</html>"
      ],
      "text/latex": [
       "$$\\newcommand{\\Bold}[1]{\\mathbf{#1}}-c {\\left(t - \\frac{8 \\, t}{{\\left(t^{2} + 1\\right)}^{\\frac{3}{2}}} + \\frac{2 \\, \\sqrt{2}}{t^{2}} - \\frac{4}{{\\left(t + 1\\right)}^{2}} + \\frac{4}{{\\left(t - 1\\right)}^{2}}\\right)} + \\frac{\\sqrt{2}}{4 \\, t^{2}} - \\frac{4}{{\\left(t^{2} + 1\\right)}^{\\frac{3}{2}} {\\left(t + 1\\right)}^{2}} + \\frac{4}{{\\left(t^{2} + 1\\right)}^{\\frac{3}{2}} {\\left(t - 1\\right)}^{2}}$$"
      ],
      "text/plain": [
       "-c*(t - 8*t/(t^2 + 1)^(3/2) + 2*sqrt(2)/t^2 - 4/(t + 1)^2 + 4/(t - 1)^2) + 1/4*sqrt(2)/t^2 - 4/((t^2 + 1)^(3/2)*(t + 1)^2) + 4/((t^2 + 1)^(3/2)*(t - 1)^2)"
      ]
     },
     "execution_count": 178,
     "metadata": {
     },
     "output_type": "execute_result"
    }
   ],
   "source": [
    "show(p41); show(p42)"
   ]
  },
  {
   "cell_type": "code",
   "execution_count": 179,
   "metadata": {
    "collapsed": false
   },
   "outputs": [
   ],
   "source": [
    "c0 = solve(p41, c)[0].rhs() # isolando c em p44 e obter c(t)"
   ]
  },
  {
   "cell_type": "code",
   "execution_count": 180,
   "metadata": {
    "collapsed": false
   },
   "outputs": [
    {
     "data": {
      "text/html": [
       "<html>\\[\\newcommand{\\Bold}[1]{\\mathbf{#1}}-u^{34} {\\left(\\sqrt{2} - 4\\right)} + 2 \\, u^{32} {\\left(17 \\, \\sqrt{2} - 132\\right)} - 960 \\, \\sqrt{2} u^{31} + 2 \\, u^{30} {\\left(659 \\, \\sqrt{2} + 2740\\right)} + 8896 \\, \\sqrt{2} u^{29} - 2 \\, u^{28} {\\left(24151 \\, \\sqrt{2} + 42724\\right)} - 231040 \\, \\sqrt{2} u^{27} + 2 \\, u^{26} {\\left(563513 \\, \\sqrt{2} + 255772\\right)} - 1066368 \\, \\sqrt{2} u^{25} - 10 \\, u^{24} {\\left(1226559 \\, \\sqrt{2} + 30020\\right)} + 6829248 \\, \\sqrt{2} u^{23} + 2 \\, u^{22} {\\left(31200727 \\, \\sqrt{2} - 1494620\\right)} - 22940096 \\, \\sqrt{2} u^{21} - 2 \\, u^{20} {\\left(77962259 \\, \\sqrt{2} + 1284852\\right)} + 51493120 \\, \\sqrt{2} u^{19} + 208461824 \\, \\sqrt{2} u^{18} - 55040256 \\, \\sqrt{2} u^{17} - 6 \\, u^{16} {\\left(25780559 \\, \\sqrt{2} - 428284\\right)} + 25383360 \\, \\sqrt{2} u^{15} + 2 \\, u^{14} {\\left(31154729 \\, \\sqrt{2} + 1494620\\right)} - 4508864 \\, \\sqrt{2} u^{13} - 10 \\, u^{12} {\\left(1255617 \\, \\sqrt{2} - 30020\\right)} + 398720 \\, \\sqrt{2} u^{11} + 2 \\, u^{10} {\\left(620231 \\, \\sqrt{2} - 255772\\right)} - 338304 \\, \\sqrt{2} u^{9} - 2 \\, u^{8} {\\left(33193 \\, \\sqrt{2} - 42724\\right)} + 13632 \\, \\sqrt{2} u^{7} + 2 \\, u^{6} {\\left(1389 \\, \\sqrt{2} - 2740\\right)} - 1088 \\, \\sqrt{2} u^{5} - 2 \\, u^{4} {\\left(17 \\, \\sqrt{2} - 132\\right)} + u^{2} {\\left(\\sqrt{2} - 4\\right)}\\]</html>"
      ],
      "text/latex": [
       "$$\\newcommand{\\Bold}[1]{\\mathbf{#1}}-u^{34} {\\left(\\sqrt{2} - 4\\right)} + 2 \\, u^{32} {\\left(17 \\, \\sqrt{2} - 132\\right)} - 960 \\, \\sqrt{2} u^{31} + 2 \\, u^{30} {\\left(659 \\, \\sqrt{2} + 2740\\right)} + 8896 \\, \\sqrt{2} u^{29} - 2 \\, u^{28} {\\left(24151 \\, \\sqrt{2} + 42724\\right)} - 231040 \\, \\sqrt{2} u^{27} + 2 \\, u^{26} {\\left(563513 \\, \\sqrt{2} + 255772\\right)} - 1066368 \\, \\sqrt{2} u^{25} - 10 \\, u^{24} {\\left(1226559 \\, \\sqrt{2} + 30020\\right)} + 6829248 \\, \\sqrt{2} u^{23} + 2 \\, u^{22} {\\left(31200727 \\, \\sqrt{2} - 1494620\\right)} - 22940096 \\, \\sqrt{2} u^{21} - 2 \\, u^{20} {\\left(77962259 \\, \\sqrt{2} + 1284852\\right)} + 51493120 \\, \\sqrt{2} u^{19} + 208461824 \\, \\sqrt{2} u^{18} - 55040256 \\, \\sqrt{2} u^{17} - 6 \\, u^{16} {\\left(25780559 \\, \\sqrt{2} - 428284\\right)} + 25383360 \\, \\sqrt{2} u^{15} + 2 \\, u^{14} {\\left(31154729 \\, \\sqrt{2} + 1494620\\right)} - 4508864 \\, \\sqrt{2} u^{13} - 10 \\, u^{12} {\\left(1255617 \\, \\sqrt{2} - 30020\\right)} + 398720 \\, \\sqrt{2} u^{11} + 2 \\, u^{10} {\\left(620231 \\, \\sqrt{2} - 255772\\right)} - 338304 \\, \\sqrt{2} u^{9} - 2 \\, u^{8} {\\left(33193 \\, \\sqrt{2} - 42724\\right)} + 13632 \\, \\sqrt{2} u^{7} + 2 \\, u^{6} {\\left(1389 \\, \\sqrt{2} - 2740\\right)} - 1088 \\, \\sqrt{2} u^{5} - 2 \\, u^{4} {\\left(17 \\, \\sqrt{2} - 132\\right)} + u^{2} {\\left(\\sqrt{2} - 4\\right)}$$"
      ],
      "text/plain": [
       "-u^34*(sqrt(2) - 4) + 2*u^32*(17*sqrt(2) - 132) - 960*sqrt(2)*u^31 + 2*u^30*(659*sqrt(2) + 2740) + 8896*sqrt(2)*u^29 - 2*u^28*(24151*sqrt(2) + 42724) - 231040*sqrt(2)*u^27 + 2*u^26*(563513*sqrt(2) + 255772) - 1066368*sqrt(2)*u^25 - 10*u^24*(1226559*sqrt(2) + 30020) + 6829248*sqrt(2)*u^23 + 2*u^22*(31200727*sqrt(2) - 1494620) - 22940096*sqrt(2)*u^21 - 2*u^20*(77962259*sqrt(2) + 1284852) + 51493120*sqrt(2)*u^19 + 208461824*sqrt(2)*u^18 - 55040256*sqrt(2)*u^17 - 6*u^16*(25780559*sqrt(2) - 428284) + 25383360*sqrt(2)*u^15 + 2*u^14*(31154729*sqrt(2) + 1494620) - 4508864*sqrt(2)*u^13 - 10*u^12*(1255617*sqrt(2) - 30020) + 398720*sqrt(2)*u^11 + 2*u^10*(620231*sqrt(2) - 255772) - 338304*sqrt(2)*u^9 - 2*u^8*(33193*sqrt(2) - 42724) + 13632*sqrt(2)*u^7 + 2*u^6*(1389*sqrt(2) - 2740) - 1088*sqrt(2)*u^5 - 2*u^4*(17*sqrt(2) - 132) + u^2*(sqrt(2) - 4)"
      ]
     },
     "execution_count": 180,
     "metadata": {
     },
     "output_type": "execute_result"
    }
   ],
   "source": [
    "u = var('u')\n",
    "assume(u>0)\n",
    "p4 = p42.subs(c=c0); # substitui c0 no polinômio p42 \n",
    "p4_u = p4.simplify_full().subs(t^2+1==((1/2)*(u+1/u))^2).subs(t == (1/2)*(u-1/u))\n",
    "p4_u = p4_u.expand().factor().canonicalize_radical().numerator().simplify_full()\n",
    "show(p4_u)"
   ]
  },
  {
   "cell_type": "code",
   "execution_count": 181,
   "metadata": {
    "collapsed": false
   },
   "outputs": [
    {
     "data": {
      "text/html": [
       "<html>\\[\\newcommand{\\Bold}[1]{\\mathbf{#1}}\\left[u = 1\\right]\\]</html>"
      ],
      "text/latex": [
       "$$\\newcommand{\\Bold}[1]{\\mathbf{#1}}\\left[u = 1\\right]$$"
      ],
      "text/plain": [
       "[u == 1]"
      ]
     },
     "execution_count": 181,
     "metadata": {
     },
     "output_type": "execute_result"
    },
    {
     "data": {
      "text/html": [
       "<html>\\[\\newcommand{\\Bold}[1]{\\mathbf{#1}}\\left[u = \\sqrt{2} + 1\\right]\\]</html>"
      ],
      "text/latex": [
       "$$\\newcommand{\\Bold}[1]{\\mathbf{#1}}\\left[u = \\sqrt{2} + 1\\right]$$"
      ],
      "text/plain": [
       "[u == sqrt(2) + 1]"
      ]
     },
     "execution_count": 181,
     "metadata": {
     },
     "output_type": "execute_result"
    }
   ],
   "source": [
    "p4_AA = expr_to_poly(p4_u, AA)                 # transforma os coeficientes para AA\n",
    "st0 = solve(0 == (1/2)*(u-1/u), u) # obtem os valores de u para t=0\n",
    "st1 = solve(1 == (1/2)*(u-1/u), u) # obtem os valores de u para t=1\n",
    "show(st0); show(st1)"
   ]
  },
  {
   "cell_type": "markdown",
   "metadata": {
    "collapsed": false
   },
   "source": [
    "##### Terema de Sturm"
   ]
  },
  {
   "cell_type": "code",
   "execution_count": 182,
   "metadata": {
    "collapsed": false
   },
   "outputs": [
    {
     "data": {
      "text/plain": [
       "1"
      ]
     },
     "execution_count": 182,
     "metadata": {
     },
     "output_type": "execute_result"
    }
   ],
   "source": [
    "u04 = st0[0].rhs() # positivo\n",
    "u14 = st1[0].rhs() # positivo\n",
    "sturm(p4_AA, AA(2/3), AA(u14)) # p4_AA possui raíz em u04 =  1"
   ]
  },
  {
   "cell_type": "code",
   "execution_count": 183,
   "metadata": {
    "collapsed": false
   },
   "outputs": [
    {
     "data": {
      "text/plain": [
       "True"
      ]
     },
     "execution_count": 183,
     "metadata": {
     },
     "output_type": "execute_result"
    }
   ],
   "source": [
    "bool(p4_AA(u04)==0)"
   ]
  },
  {
   "cell_type": "markdown",
   "metadata": {
    "collapsed": false
   },
   "source": [
    "##### Conclusão\n",
    "- $u=1$ é raíz do polinômio p4_AA(u). O **Teorema de Sturn** garante que existe apenas uma raiz entre $2/3 < 1$ e $\\sqrt{2}+1$. Logo, não existe raiz entre  $1$ e $\\sqrt{2} + 1$. Consequentemente, $p4(t)$ não se anula em  $t\\in (0,1)$."
   ]
  },
  {
   "cell_type": "code",
   "execution_count": 190,
   "metadata": {
    "collapsed": false
   },
   "outputs": [
    {
     "data": {
      "image/png": "[encoded data removed]",
      "text/plain": [
       "Graphics object consisting of 1 graphics primitive"
      ]
     },
     "execution_count": 190,
     "metadata": {
     },
     "output_type": "execute_result"
    }
   ],
   "source": [
    "plot(p4, 0, 0.9, ymin=-50)"
   ]
  },
  {
   "cell_type": "code",
   "execution_count": 0,
   "metadata": {
    "collapsed": false
   },
   "outputs": [
   ],
   "source": [
   ]
  }
 ],
 "metadata": {
  "kernelspec": {
   "argv": [
    "sage-9.8",
    "--python",
    "-m",
    "sage.repl.ipython_kernel",
    "--matplotlib=inline",
    "-f",
    "{connection_file}"
   ],
   "display_name": "SageMath 9.8",
   "env": {
   },
   "language": "sagemath",
   "metadata": {
    "cocalc": {
     "description": "Open-source mathematical software system",
     "priority": 1,
     "url": "https://www.sagemath.org/"
    }
   },
   "name": "sage-9.8",
   "resource_dir": "/ext/jupyter/kernels/sage-9.8"
  },
  "language_info": {
   "codemirror_mode": {
    "name": "ipython",
    "version": 3
   },
   "file_extension": ".py",
   "mimetype": "text/x-python",
   "name": "python",
   "nbconvert_exporter": "python",
   "pygments_lexer": "ipython3",
   "version": "3.9.5"
  }
 },
 "nbformat": 4,
 "nbformat_minor": 4
}