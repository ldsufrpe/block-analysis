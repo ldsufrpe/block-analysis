{
 "cells": [
  {
   "cell_type": "markdown",
   "id": "d00bda77-f8a9-43ab-8b0b-5b75b71e3ad5",
   "metadata": {},
   "source": [
    "## Analyzing the block $O_1$ for the Octahedra"
   ]
  },
  {
   "cell_type": "code",
   "execution_count": 1,
   "id": "717a12bf-4e4b-4b8e-aa2f-aea263d256d5",
   "metadata": {},
   "outputs": [],
   "source": [
    "load(\"../util.sage\")"
   ]
  },
  {
   "cell_type": "code",
   "execution_count": 2,
   "id": "eaa2867f-3d20-41cc-bb6f-0d8af6cf4aa0",
   "metadata": {},
   "outputs": [
    {
     "data": {
      "text/html": [
       "<html><script type=\"math/tex; mode=display\">\\newcommand{\\Bold}[1]{\\mathbf{#1}}\\left(\\begin{array}{rr}\n",
       "6 \\, c - \\sqrt{2} - \\frac{1}{4} & 6 \\, c - \\frac{t + 1}{t^{3} + 3 \\, t^{2} + 3 \\, t + 1} - \\frac{4}{{\\left(t^{2} + 1\\right)}^{\\frac{3}{2}}} - \\frac{1}{{\\left(t - 1\\right)}^{2}} \\\\\n",
       "6 \\, c t - \\frac{t + 1}{t^{3} + 3 \\, t^{2} + 3 \\, t + 1} - \\frac{4 \\, t}{{\\left(t^{2} + 1\\right)}^{\\frac{3}{2}}} + \\frac{1}{{\\left(t - 1\\right)}^{2}} & 6 \\, c t - \\frac{4 \\, \\sqrt{2} + 1}{4 \\, t^{2}}\n",
       "\\end{array}\\right)</script></html>"
      ],
      "text/latex": [
       "$$\\newcommand{\\Bold}[1]{\\mathbf{#1}}\\left(\\begin{array}{rr}\n",
       "6 \\, c - \\sqrt{2} - \\frac{1}{4} & 6 \\, c - \\frac{t + 1}{t^{3} + 3 \\, t^{2} + 3 \\, t + 1} - \\frac{4}{{\\left(t^{2} + 1\\right)}^{\\frac{3}{2}}} - \\frac{1}{{\\left(t - 1\\right)}^{2}} \\\\\n",
       "6 \\, c t - \\frac{t + 1}{t^{3} + 3 \\, t^{2} + 3 \\, t + 1} - \\frac{4 \\, t}{{\\left(t^{2} + 1\\right)}^{\\frac{3}{2}}} + \\frac{1}{{\\left(t - 1\\right)}^{2}} & 6 \\, c t - \\frac{4 \\, \\sqrt{2} + 1}{4 \\, t^{2}}\n",
       "\\end{array}\\right)$$"
      ],
      "text/plain": [
       "[                                                        6*c - sqrt(2) - 1/4     6*c - (t + 1)/(t^3 + 3*t^2 + 3*t + 1) - 4/(t^2 + 1)^(3/2) - 1/(t - 1)^2]\n",
       "[6*c*t - (t + 1)/(t^3 + 3*t^2 + 3*t + 1) - 4*t/(t^2 + 1)^(3/2) + 1/(t - 1)^2                                             6*c*t - 1/4*(4*sqrt(2) + 1)/t^2]"
      ]
     },
     "metadata": {},
     "output_type": "display_data"
    }
   ],
   "source": [
    "O1 = load('blocks/linear_block_1')\n",
    "O1 = O1.apply_map(lambda x: x.simplify_real().combine()); show(O1)"
   ]
  },
  {
   "cell_type": "code",
   "execution_count": 3,
   "id": "333fb36a-718d-4139-8973-7e448847fc30",
   "metadata": {},
   "outputs": [
    {
     "name": "stdout",
     "output_type": "stream",
     "text": [
      "True\n"
     ]
    }
   ],
   "source": [
    "p1 = simplify_expression(O1.det())\n",
    "\n",
    "# checks if p1 was modified after simplification\n",
    "print(bool(p1==O1.det()))"
   ]
  },
  {
   "cell_type": "code",
   "execution_count": 4,
   "id": "489ef1ad-be79-4aab-8901-19975bb7b88a",
   "metadata": {},
   "outputs": [],
   "source": [
    "α1 = p1.coefficients()[1][0] # α1(t)"
   ]
  },
  {
   "cell_type": "code",
   "execution_count": 5,
   "id": "18f11adc-c171-47a1-bbca-f1d169348064",
   "metadata": {},
   "outputs": [],
   "source": [
    "α0 = p1.coefficients()[0][0] # α0(t) "
   ]
  },
  {
   "cell_type": "markdown",
   "id": "cfd1253a-14b1-44d0-a831-d11e5e90105e",
   "metadata": {},
   "source": [
    "##### 5. There exits a $\\delta<1$ such $(O_1)_{12}(c(t),t)$ is negative for $t$ in $(0,\\delta)$ and is positive for $t$ in $(\\delta,1)$ ."
   ]
  },
  {
   "cell_type": "code",
   "execution_count": 6,
   "id": "308c8678-bd60-40e1-9989-2a54160f9147",
   "metadata": {},
   "outputs": [],
   "source": [
    "O1_12 = O1[0,1].subs(c = -α0/α1) # (O1)12(c(t), t)"
   ]
  },
  {
   "cell_type": "code",
   "execution_count": 8,
   "id": "59ed37cb-a640-4816-83e9-ce8df7ce5d37",
   "metadata": {},
   "outputs": [
    {
     "data": {
      "image/png": "[encoded data removed]",
      "text/plain": [
       "Graphics object consisting of 1 graphics primitive"
      ]
     },
     "execution_count": 8,
     "metadata": {},
     "output_type": "execute_result"
    }
   ],
   "source": [
    "plot(O1_12, (t, 0.5, 0.6), ymax=1, ymin=-1)"
   ]
  },
  {
   "cell_type": "code",
   "execution_count": null,
   "id": "d54e49c7",
   "metadata": {},
   "outputs": [],
   "source": []
  }
 ],
 "metadata": {
  "kernelspec": {
   "display_name": "SageMath 9.5",
   "language": "sage",
   "name": "sagemath"
  },
  "language_info": {
   "codemirror_mode": {
    "name": "ipython",
    "version": 3
   },
   "file_extension": ".py",
   "mimetype": "text/x-python",
   "name": "python",
   "nbconvert_exporter": "python",
   "pygments_lexer": "ipython3",
   "version": "3.10.12"
  },
  "widgets": {
   "application/vnd.jupyter.widget-state+json": {
    "state": {},
    "version_major": 2,
    "version_minor": 0
   }
  }
 },
 "nbformat": 4,
 "nbformat_minor": 5
}
