{
 "cells": [
  {
   "cell_type": "markdown",
   "id": "ffb21dcf-562e-4877-869c-d6ef91c85ed9",
   "metadata": {},
   "source": [
    "## Analyzing the block $o_5$ for the Octahedra"
   ]
  },
  {
   "cell_type": "code",
   "execution_count": 70,
   "id": "ea18d897-af44-4d88-a6b8-dd3a0c15945e",
   "metadata": {},
   "outputs": [],
   "source": [
    "load(\"../util.sage\")"
   ]
  },
  {
   "cell_type": "code",
   "execution_count": 71,
   "id": "505c5354-b2f9-4814-9d5d-c034001c7d38",
   "metadata": {},
   "outputs": [],
   "source": [
    "o5 = load('blocks/linear_block_2')"
   ]
  },
  {
   "cell_type": "code",
   "execution_count": 72,
   "id": "f530e900-1e91-424c-9f6b-2c4e869c81de",
   "metadata": {},
   "outputs": [],
   "source": [
    "# List of all 2 x 2 minors of t4\n",
    "minors = o5.minors(2) "
   ]
  },
  {
   "cell_type": "code",
   "execution_count": 73,
   "id": "56075ad7-d9ba-4e57-bc31-82f55aa947a7",
   "metadata": {},
   "outputs": [],
   "source": [
    "p5 = minors[0].simplify_full()"
   ]
  },
  {
   "cell_type": "markdown",
   "id": "870044ec-aee1-49eb-86e2-c33319ba485b",
   "metadata": {},
   "source": [
    "##### Change of variables:   $t=\\frac{1}{2}(u-1/u)$"
   ]
  },
  {
   "cell_type": "code",
   "execution_count": 74,
   "id": "2d9c43a3-0475-4e85-bc73-ee76c3b4f4c6",
   "metadata": {},
   "outputs": [],
   "source": [
    "# Change variable to express α1(t) in terms of u and simplify\n",
    "var('u')\n",
    "assume(u>0)\n",
    "p5_u = p5.simplify_full().subs(t^2+1==((1/2)*(u+1/u))^2).subs(t == (1/2)*(u-1/u))\n",
    "p5_u_numerator = p5_u.expand().factor().canonicalize_radical().numerator().simplify_full()"
   ]
  },
  {
   "cell_type": "code",
   "execution_count": 75,
   "id": "db0ea798-1ce4-415c-8364-bc349690a016",
   "metadata": {},
   "outputs": [
    {
     "data": {
      "text/html": [
       "<html><script type=\"math/tex; mode=display\">\\newcommand{\\Bold}[1]{\\mathbf{#1}}1</script></html>"
      ],
      "text/latex": [
       "$$\\newcommand{\\Bold}[1]{\\mathbf{#1}}1$$"
      ],
      "text/plain": [
       "1"
      ]
     },
     "metadata": {},
     "output_type": "display_data"
    },
    {
     "data": {
      "text/html": [
       "<html><script type=\"math/tex; mode=display\">\\newcommand{\\Bold}[1]{\\mathbf{#1}}\\sqrt{2} + 1</script></html>"
      ],
      "text/latex": [
       "$$\\newcommand{\\Bold}[1]{\\mathbf{#1}}\\sqrt{2} + 1$$"
      ],
      "text/plain": [
       "sqrt(2) + 1"
      ]
     },
     "metadata": {},
     "output_type": "display_data"
    }
   ],
   "source": [
    "# Calculate the values of u for t = 0 and t = 1\n",
    "st0 =  solve(0 == (1/2)*(u-1/u), u)\n",
    "st1 = solve(1 == (1/2)*(u-1/u), u)\n",
    "\n",
    "#Extract the positive values for u0 and u1\n",
    "u0 = st0[0].rhs()\n",
    "u1 = st1[0].rhs() \n",
    "\n",
    "show(u0); show(u1)"
   ]
  },
  {
   "cell_type": "markdown",
   "id": "92129462-8820-4f1c-b880-6730293d20c5",
   "metadata": {},
   "source": [
    "##### Apply Sturm's Theorem"
   ]
  },
  {
   "cell_type": "code",
   "execution_count": 76,
   "id": "8f217403-b06f-4be8-b06e-f1f5fed28dc5",
   "metadata": {},
   "outputs": [],
   "source": [
    "# Converts an expression to a polynomial in Ring AA \n",
    "p5_AA = expr_to_poly(p5_u_numerator, AA)          "
   ]
  },
  {
   "cell_type": "code",
   "execution_count": 77,
   "id": "3ffca03c-21d9-4c74-aa28-ab24150a70a7",
   "metadata": {},
   "outputs": [
    {
     "data": {
      "text/plain": [
       "0"
      ]
     },
     "execution_count": 77,
     "metadata": {},
     "output_type": "execute_result"
    }
   ],
   "source": [
    "# Apply Sturm's theorem to determine the number of roots of q5_AA in (u0, u1)\n",
    "sturm(p5_AA, AA(u0), AA(u1))"
   ]
  }
 ],
 "metadata": {
  "kernelspec": {
   "display_name": "SageMath 10.3",
   "language": "sage",
   "name": "sagemath"
  },
  "language_info": {
   "codemirror_mode": {
    "name": "ipython",
    "version": 3
   },
   "file_extension": ".py",
   "mimetype": "text/x-python",
   "name": "python",
   "nbconvert_exporter": "python",
   "pygments_lexer": "ipython3",
   "version": "3.12.3"
  },
  "widgets": {
   "application/vnd.jupyter.widget-state+json": {
    "state": {},
    "version_major": 2,
    "version_minor": 0
   }
  }
 },
 "nbformat": 4,
 "nbformat_minor": 5
}
