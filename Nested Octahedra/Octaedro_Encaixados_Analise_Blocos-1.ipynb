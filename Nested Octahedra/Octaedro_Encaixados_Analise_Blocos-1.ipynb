{
 "cells": [
  {
   "cell_type": "markdown",
   "metadata": {
    "collapsed": false,
    "jupyter": {
     "outputs_hidden": false
    }
   },
   "source": [
    "#### Bloco 1"
   ]
  },
  {
   "cell_type": "markdown",
   "metadata": {
    "collapsed": false,
    "jupyter": {
     "outputs_hidden": false
    }
   },
   "source": [
    "#### Bloco 1"
   ]
  },
  {
   "cell_type": "code",
   "execution_count": 1,
   "metadata": {
    "collapsed": false,
    "jupyter": {
     "outputs_hidden": false
    }
   },
   "outputs": [
    {
     "data": {
      "text/html": [
       "<html><script type=\"math/tex; mode=display\">\\newcommand{\\Bold}[1]{\\mathbf{#1}}\\left(\\begin{array}{rr}\n",
       "6 \\, c - \\sqrt{2} - \\frac{1}{4} & 6 \\, c - \\frac{t}{t^{3} + 3 \\, t^{2} + 3 \\, t + 1} - \\frac{1}{t^{3} + 3 \\, t^{2} + 3 \\, t + 1} - \\frac{4}{{\\left(t^{2} + 1\\right)}^{\\frac{3}{2}}} + \\frac{t}{{\\left| t - 1 \\right|}^{3}} - \\frac{1}{{\\left| t - 1 \\right|}^{3}} \\\\\n",
       "6 \\, c t - \\frac{t}{t^{3} + 3 \\, t^{2} + 3 \\, t + 1} - \\frac{4 \\, t}{{\\left(t^{2} + 1\\right)}^{\\frac{3}{2}}} - \\frac{1}{t^{3} + 3 \\, t^{2} + 3 \\, t + 1} - \\frac{t}{{\\left| t - 1 \\right|}^{3}} + \\frac{1}{{\\left| t - 1 \\right|}^{3}} & 6 \\, c t - \\frac{\\sqrt{2}}{t^{2}} - \\frac{\\frac{1}{4}}{t^{2}}\n",
       "\\end{array}\\right)</script></html>"
      ],
      "text/latex": [
       "$$\\newcommand{\\Bold}[1]{\\mathbf{#1}}\\left(\\begin{array}{rr}\n",
       "6 \\, c - \\sqrt{2} - \\frac{1}{4} & 6 \\, c - \\frac{t}{t^{3} + 3 \\, t^{2} + 3 \\, t + 1} - \\frac{1}{t^{3} + 3 \\, t^{2} + 3 \\, t + 1} - \\frac{4}{{\\left(t^{2} + 1\\right)}^{\\frac{3}{2}}} + \\frac{t}{{\\left| t - 1 \\right|}^{3}} - \\frac{1}{{\\left| t - 1 \\right|}^{3}} \\\\\n",
       "6 \\, c t - \\frac{t}{t^{3} + 3 \\, t^{2} + 3 \\, t + 1} - \\frac{4 \\, t}{{\\left(t^{2} + 1\\right)}^{\\frac{3}{2}}} - \\frac{1}{t^{3} + 3 \\, t^{2} + 3 \\, t + 1} - \\frac{t}{{\\left| t - 1 \\right|}^{3}} + \\frac{1}{{\\left| t - 1 \\right|}^{3}} & 6 \\, c t - \\frac{\\sqrt{2}}{t^{2}} - \\frac{\\frac{1}{4}}{t^{2}}\n",
       "\\end{array}\\right)$$"
      ],
      "text/plain": [
       "[                                                                                                  6*c - sqrt(2) - 1/4     6*c - t/(t^3 + 3*t^2 + 3*t + 1) - 1/(t^3 + 3*t^2 + 3*t + 1) - 4/(t^2 + 1)^(3/2) + t/abs(t - 1)^3 - 1/abs(t - 1)^3]\n",
       "[6*c*t - t/(t^3 + 3*t^2 + 3*t + 1) - 4*t/(t^2 + 1)^(3/2) - 1/(t^3 + 3*t^2 + 3*t + 1) - t/abs(t - 1)^3 + 1/abs(t - 1)^3                                                                                         6*c*t - sqrt(2)/t^2 - 1/4/t^2]"
      ]
     },
     "metadata": {},
     "output_type": "display_data"
    }
   ],
   "source": [
    "B1 = load('blocks/linear_block_1'); show(B1)"
   ]
  },
  {
   "cell_type": "code",
   "execution_count": 8,
   "metadata": {
    "collapsed": false,
    "jupyter": {
     "outputs_hidden": false
    }
   },
   "outputs": [],
   "source": [
    "load(\"../util.sage\")"
   ]
  },
  {
   "cell_type": "code",
   "execution_count": 5,
   "metadata": {
    "collapsed": false,
    "jupyter": {
     "outputs_hidden": false
    }
   },
   "outputs": [],
   "source": [
    "# b00, b01, b10, b11 = B1[0,0], B1[0,1], B1[1,0], B1[1,1]\n",
    "# print(latex(simplify_local(b01))); print(bool(simplify_local(b01)==b01))\n",
    "# print(latex((b10.combine().simplify()))); bool(b10.combine().simplify()==b10)"
   ]
  },
  {
   "cell_type": "code",
   "execution_count": 9,
   "metadata": {
    "collapsed": false,
    "jupyter": {
     "outputs_hidden": false
    }
   },
   "outputs": [
    {
     "ename": "NameError",
     "evalue": "name 'simplify_local' is not defined",
     "output_type": "error",
     "traceback": [
      "\u001b[0;31m---------------------------------------------------------------------------\u001b[0m",
      "\u001b[0;31mNameError\u001b[0m                                 Traceback (most recent call last)",
      "\u001b[0;32m/tmp/ipykernel_2948/2644863621.py\u001b[0m in \u001b[0;36m<module>\u001b[0;34m\u001b[0m\n\u001b[0;32m----> 1\u001b[0;31m \u001b[0mp1\u001b[0m \u001b[0;34m=\u001b[0m \u001b[0msimplify_local\u001b[0m\u001b[0;34m(\u001b[0m\u001b[0mB1\u001b[0m\u001b[0;34m.\u001b[0m\u001b[0mdet\u001b[0m\u001b[0;34m(\u001b[0m\u001b[0;34m)\u001b[0m\u001b[0;34m)\u001b[0m\u001b[0;34m;\u001b[0m\u001b[0mprint\u001b[0m\u001b[0;34m(\u001b[0m\u001b[0mbool\u001b[0m\u001b[0;34m(\u001b[0m\u001b[0mp1\u001b[0m\u001b[0;34m==\u001b[0m\u001b[0mB1\u001b[0m\u001b[0;34m.\u001b[0m\u001b[0mdet\u001b[0m\u001b[0;34m(\u001b[0m\u001b[0;34m)\u001b[0m\u001b[0;34m)\u001b[0m\u001b[0;34m)\u001b[0m\u001b[0;34m;\u001b[0m \u001b[0mshow\u001b[0m\u001b[0;34m(\u001b[0m\u001b[0mp1\u001b[0m\u001b[0;34m)\u001b[0m\u001b[0;34m\u001b[0m\u001b[0;34m\u001b[0m\u001b[0m\n\u001b[0m",
      "\u001b[0;31mNameError\u001b[0m: name 'simplify_local' is not defined"
     ]
    }
   ],
   "source": [
    "p1 = simplify_local(B1.det());print(bool(p1==B1.det())); show(p1)\n"
   ]
  },
  {
   "cell_type": "markdown",
   "metadata": {
    "collapsed": false,
    "jupyter": {
     "outputs_hidden": false
    }
   },
   "source": [
    "### Provar Lema 2\n",
    "\n",
    "1. Estudar se $\\alpha_1$ se anula e o sinal."
   ]
  },
  {
   "cell_type": "code",
   "execution_count": 7,
   "metadata": {
    "collapsed": false,
    "jupyter": {
     "outputs_hidden": false
    }
   },
   "outputs": [
    {
     "ename": "NameError",
     "evalue": "name 'p1' is not defined",
     "output_type": "error",
     "traceback": [
      "\u001b[0;31m---------------------------------------------------------------------------\u001b[0m",
      "\u001b[0;31mNameError\u001b[0m                                 Traceback (most recent call last)",
      "\u001b[0;32m/tmp/ipykernel_2948/2259592969.py\u001b[0m in \u001b[0;36m<module>\u001b[0;34m\u001b[0m\n\u001b[0;32m----> 1\u001b[0;31m \u001b[0mα0\u001b[0m \u001b[0;34m=\u001b[0m \u001b[0mp1\u001b[0m\u001b[0;34m.\u001b[0m\u001b[0mcoefficients\u001b[0m\u001b[0;34m(\u001b[0m\u001b[0;34m)\u001b[0m\u001b[0;34m[\u001b[0m\u001b[0mInteger\u001b[0m\u001b[0;34m(\u001b[0m\u001b[0;36m0\u001b[0m\u001b[0;34m)\u001b[0m\u001b[0;34m]\u001b[0m\u001b[0;34m[\u001b[0m\u001b[0mInteger\u001b[0m\u001b[0;34m(\u001b[0m\u001b[0;36m0\u001b[0m\u001b[0;34m)\u001b[0m\u001b[0;34m]\u001b[0m\u001b[0;34m\u001b[0m\u001b[0;34m\u001b[0m\u001b[0m\n\u001b[0m\u001b[1;32m      2\u001b[0m \u001b[0mα1\u001b[0m \u001b[0;34m=\u001b[0m \u001b[0mp1\u001b[0m\u001b[0;34m.\u001b[0m\u001b[0mcoefficients\u001b[0m\u001b[0;34m(\u001b[0m\u001b[0;34m)\u001b[0m\u001b[0;34m[\u001b[0m\u001b[0mInteger\u001b[0m\u001b[0;34m(\u001b[0m\u001b[0;36m1\u001b[0m\u001b[0;34m)\u001b[0m\u001b[0;34m]\u001b[0m\u001b[0;34m[\u001b[0m\u001b[0mInteger\u001b[0m\u001b[0;34m(\u001b[0m\u001b[0;36m0\u001b[0m\u001b[0;34m)\u001b[0m\u001b[0;34m]\u001b[0m\u001b[0;34m\u001b[0m\u001b[0;34m\u001b[0m\u001b[0m\n\u001b[1;32m      3\u001b[0m \u001b[0;34m\u001b[0m\u001b[0m\n\u001b[1;32m      4\u001b[0m \u001b[0mshow\u001b[0m\u001b[0;34m(\u001b[0m\u001b[0mα0\u001b[0m\u001b[0;34m)\u001b[0m\u001b[0;34m;\u001b[0m \u001b[0mshow\u001b[0m\u001b[0;34m(\u001b[0m\u001b[0mα1\u001b[0m\u001b[0;34m)\u001b[0m\u001b[0;34m\u001b[0m\u001b[0;34m\u001b[0m\u001b[0m\n",
      "\u001b[0;31mNameError\u001b[0m: name 'p1' is not defined"
     ]
    }
   ],
   "source": [
    "α0 = p1.coefficients()[0][0]\n",
    "α1 = p1.coefficients()[1][0]\n",
    "\n",
    "show(α0); show(α1)"
   ]
  },
  {
   "cell_type": "markdown",
   "metadata": {
    "collapsed": false,
    "jupyter": {
     "outputs_hidden": false
    }
   },
   "source": [
    "#### O gráfico de $\\alpha_1$:"
   ]
  },
  {
   "cell_type": "code",
   "execution_count": null,
   "metadata": {
    "collapsed": false,
    "jupyter": {
     "outputs_hidden": false
    }
   },
   "outputs": [],
   "source": [
    "show(plot(α1, (x,0.1, 0.99), legend_label=r'$\\alpha_1$'))"
   ]
  },
  {
   "cell_type": "markdown",
   "metadata": {
    "collapsed": false,
    "jupyter": {
     "outputs_hidden": false
    }
   },
   "source": [
    "#### Usando limites"
   ]
  },
  {
   "cell_type": "code",
   "execution_count": null,
   "metadata": {
    "collapsed": false,
    "jupyter": {
     "outputs_hidden": false
    }
   },
   "outputs": [],
   "source": [
    "limit(α1, t=0, dir='+'), limit(α1, t=1, dir='-') # negativos nos extremos"
   ]
  },
  {
   "cell_type": "markdown",
   "metadata": {
    "collapsed": false,
    "jupyter": {
     "outputs_hidden": false
    }
   },
   "source": [
    "#### Mudança de variável:  $t=\\frac{1}{2}(u-1/u)$"
   ]
  },
  {
   "cell_type": "code",
   "execution_count": null,
   "metadata": {
    "collapsed": false,
    "jupyter": {
     "outputs_hidden": false
    }
   },
   "outputs": [],
   "source": [
    "var('u')\n",
    "assume(u>0)\n",
    "α1_u = α1.subs(t^2+1==((1/2)*(u+1/u))^2).subs(t == (1/2)*(u-1/u)) # para facilitar aplicamos primeiro a mudança de variável t^2+1==((1/2)*(u+1/u))^2.\n",
    "α1_u = α1_u.expand().factor().canonicalize_radical().numerator(); show(α1_u.canonicalize_radical().simplify_full())\n"
   ]
  },
  {
   "cell_type": "code",
   "execution_count": null,
   "metadata": {
    "collapsed": false,
    "jupyter": {
     "outputs_hidden": false
    }
   },
   "outputs": [],
   "source": [
    "α1_AA = expr_to_poly(α1_u, AA) # transforma os coeficientes para AA\n",
    "st0 = solve(0 == (1/2)*(u-1/u), u) # obtem os valores de u para t=0\n",
    "st1 = solve(1 == (1/2)*(u-1/u), u) # obtem os valores de u para t=1\n",
    "show(st0); show(st1)"
   ]
  },
  {
   "cell_type": "markdown",
   "metadata": {
    "collapsed": false,
    "jupyter": {
     "outputs_hidden": false
    }
   },
   "source": [
    "### Teorema de Sturn"
   ]
  },
  {
   "cell_type": "code",
   "execution_count": null,
   "metadata": {
    "collapsed": false,
    "jupyter": {
     "outputs_hidden": false
    }
   },
   "outputs": [],
   "source": [
    "u0 = st0[0].rhs() # positivo\n",
    "u1 = st1[0].rhs() # positivo\n",
    "sturm(α1_AA, AA(u0), AA(u1))"
   ]
  },
  {
   "cell_type": "markdown",
   "metadata": {
    "collapsed": false,
    "jupyter": {
     "outputs_hidden": false
    }
   },
   "source": [
    "### Conclusão"
   ]
  },
  {
   "cell_type": "markdown",
   "metadata": {
    "collapsed": false,
    "jupyter": {
     "outputs_hidden": false
    }
   },
   "source": [
    "-  Após a mudança de variável $t=\\frac{1}{2}(u-1/u)$ obtemos um polinômio  na variável $u$. **Teorema de Sturm** afirma que não existe raízes entre $1$ e $\\sqrt{2}+ 1$. Consequentemente, não se anula entre $0 < t < 1$. Além disso, $\\alpha_1(t)<0$ nesse intervalo, já que $\\displaystyle\\lim_{t \\to 0^+}\\alpha_1(t)=\\displaystyle\\lim_{t \\to 1^-}\\alpha_1(t)=-\\infty$."
   ]
  },
  {
   "cell_type": "markdown",
   "metadata": {
    "collapsed": false,
    "jupyter": {
     "outputs_hidden": false
    }
   },
   "source": [
    "#### Provar Lema 1\n",
    "2. Provar que $c(t) = -\\dfrac{\\alpha_0(t)}{\\alpha_1(t)}>0$ em $(0,1)$.\n",
    "- Vamos provar que $\\alpha_0(t)>0$ já que  $\\alpha_1(t)<0$ (ver item anterior)"
   ]
  },
  {
   "cell_type": "code",
   "execution_count": null,
   "metadata": {
    "collapsed": false,
    "jupyter": {
     "outputs_hidden": false
    }
   },
   "outputs": [],
   "source": [
    "show(plot(α0, (x,0, 0.9), ymax=100, legend_label=r'$\\alpha_0(t)$'))"
   ]
  },
  {
   "cell_type": "markdown",
   "metadata": {
    "collapsed": false,
    "jupyter": {
     "outputs_hidden": false
    }
   },
   "source": [
    "#### Usando limites"
   ]
  },
  {
   "cell_type": "code",
   "execution_count": null,
   "metadata": {
    "collapsed": false,
    "jupyter": {
     "outputs_hidden": false
    }
   },
   "outputs": [],
   "source": [
    "limit(α0, t=0, dir='+'), limit(α0, t=1, dir='-') # sempre positivo nos extremos"
   ]
  },
  {
   "cell_type": "markdown",
   "metadata": {
    "collapsed": false,
    "jupyter": {
     "outputs_hidden": false
    }
   },
   "source": [
    "#### Mudança de variável:  $t=\\frac{1}{2}(u-1/u)$"
   ]
  },
  {
   "cell_type": "code",
   "execution_count": null,
   "metadata": {
    "collapsed": false,
    "jupyter": {
     "outputs_hidden": false
    }
   },
   "outputs": [],
   "source": []
  },
  {
   "cell_type": "code",
   "execution_count": null,
   "metadata": {
    "collapsed": false,
    "jupyter": {
     "outputs_hidden": false
    }
   },
   "outputs": [],
   "source": [
    "var('u')\n",
    "assume(u>0)\n",
    "α0_u = α0.subs(t^2+1==((1/2)*(u+1/u))^2).subs(t == (1/2)*(u-1/u))\n",
    "α0_u = α0_u.expand().factor().canonicalize_radical().numerator().simplify_full(); show(α0_u)"
   ]
  },
  {
   "cell_type": "code",
   "execution_count": null,
   "metadata": {
    "collapsed": false,
    "jupyter": {
     "outputs_hidden": false
    }
   },
   "outputs": [],
   "source": [
    "α0_AA = expr_to_poly(α0_u, AA)                 # transforma os coeficientes para AA\n",
    "st0 = solve(0 == (1/2)*(u-1/u), u) # obtem os valores de u para t=0\n",
    "st1 = solve(1 == (1/2)*(u-1/u), u) # obtem os valores de u para t=1\n",
    "show(st0); show(st1)"
   ]
  },
  {
   "cell_type": "markdown",
   "metadata": {
    "collapsed": false,
    "jupyter": {
     "outputs_hidden": false
    }
   },
   "source": [
    "#### Teorema de Sturn"
   ]
  },
  {
   "cell_type": "code",
   "execution_count": null,
   "metadata": {
    "collapsed": false,
    "jupyter": {
     "outputs_hidden": false
    }
   },
   "outputs": [],
   "source": [
    "u00 = st0[0].rhs() # positivo\n",
    "u10 = st1[0].rhs()\n",
    "sturm(α0_AA, AA(u00), AA(u10)) "
   ]
  },
  {
   "cell_type": "code",
   "execution_count": null,
   "metadata": {
    "collapsed": false,
    "jupyter": {
     "outputs_hidden": false
    }
   },
   "outputs": [],
   "source": [
    "α0_AA(u00).is_zero() "
   ]
  },
  {
   "cell_type": "markdown",
   "metadata": {
    "collapsed": false,
    "jupyter": {
     "outputs_hidden": false
    }
   },
   "source": [
    "#### Conclusão\n",
    "\n",
    "-  Após a mudança de variável $t=\\frac{1}{2}(u-1/u)$ obtemos um polinômio  na variável $u$. O **Teorema de Sturn** garante que não existe apenas uma raiz entre $1$ e $\\sqrt{2}$. Consequentemente, $\\alpha_0(t)$ não se anula em  $t\\in (0,1)$. Além disso, $\\alpha_1(t)>0$ nesse intervalo, já que $\\displaystyle\\lim_{t \\to 0^+}\\alpha_0(t)=\\displaystyle\\lim_{t \\to 1^-}\\alpha_0(t)=+\\infty$. Portanto, uma vez que $\\alpha_1(t)<0$ nesse intervalo, provamos que $c(t) = -\\dfrac{\\alpha_0(t)}{\\alpha_1(t)}>0$ em $(0,1)$."
   ]
  },
  {
   "cell_type": "markdown",
   "metadata": {
    "collapsed": false,
    "jupyter": {
     "outputs_hidden": false
    }
   },
   "source": [
    "#### Provar Lema 2.\n",
    "\n",
    "3. Provar que $a_{11}(c,t)$ é diferente de zero para todo $t\\in (0, 1)$.\n"
   ]
  },
  {
   "cell_type": "markdown",
   "metadata": {
    "collapsed": false,
    "jupyter": {
     "outputs_hidden": false
    }
   },
   "source": [
    "#### Mudança de variável:  $t=\\frac{1}{2}(u-1/u)$"
   ]
  },
  {
   "cell_type": "code",
   "execution_count": null,
   "metadata": {
    "collapsed": false,
    "jupyter": {
     "outputs_hidden": false
    }
   },
   "outputs": [],
   "source": [
    "assume(u>0)\n",
    "a11 = B1[0,0].subs(c = -α0/α1); \n",
    "a11_u = a11.simplify_full().subs(t^2+1==((1/2)*(u+1/u))^2).subs(t == (1/2)*(u-1/u)) #show(simplify_local(a11))\n",
    "a11_u = a11_u.expand().factor().canonicalize_radical().numerator().simplify_full(); show(a11_u)"
   ]
  },
  {
   "cell_type": "code",
   "execution_count": null,
   "metadata": {
    "collapsed": false,
    "jupyter": {
     "outputs_hidden": false
    }
   },
   "outputs": [],
   "source": [
    "a11_AA = expr_to_poly(a11_u, AA)                 # transforma os coeficientes para AA\n",
    "st0 = solve(0 == (1/2)*(u-1/u), u) # obtem os valores de u para t=0\n",
    "st1 = solve(1 == (1/2)*(u-1/u), u) # obtem os valores de u para t=1\n",
    "show(st0); show(st1)"
   ]
  },
  {
   "cell_type": "markdown",
   "metadata": {
    "collapsed": false,
    "jupyter": {
     "outputs_hidden": false
    }
   },
   "source": [
    "#### Teorema de Sturn"
   ]
  },
  {
   "cell_type": "code",
   "execution_count": null,
   "metadata": {
    "collapsed": false,
    "jupyter": {
     "outputs_hidden": false
    }
   },
   "outputs": [],
   "source": [
    "u011 = st0[0].rhs() # positivo\n",
    "u111 = st1[0].rhs()\n",
    "sturm(a11_AA, AA(1/2), AA(u111)) # possui raíz em  u011 =1"
   ]
  },
  {
   "cell_type": "code",
   "execution_count": null,
   "metadata": {
    "collapsed": false,
    "jupyter": {
     "outputs_hidden": false
    }
   },
   "outputs": [],
   "source": [
    "bool(a11_AA(u011)==0) # u=1 é raíz do polinômio."
   ]
  },
  {
   "cell_type": "markdown",
   "metadata": {
    "collapsed": false,
    "jupyter": {
     "outputs_hidden": false
    }
   },
   "source": [
    "#### Conclusão\n",
    "\n",
    "- $u=1$ é raíz do polinômio a11_AA(u). O **Teorema de Sturn** garante que existe apenas uma raiz entre $1/2 < 1$ e $\\sqrt{2}+1$. Logo, não existe raiz entre  $1$ e $\\sqrt{2} + 1$. Consequentemente, $a_{11}(c(t),t)$ não se anula em  $t\\in (0,1)$."
   ]
  },
  {
   "cell_type": "markdown",
   "metadata": {
    "collapsed": false,
    "jupyter": {
     "outputs_hidden": false
    }
   },
   "source": [
    "### Prova Lema 2\n",
    "4. Estudar o sinal de $a_{12}(c(t), t)$."
   ]
  },
  {
   "cell_type": "code",
   "execution_count": null,
   "metadata": {
    "collapsed": false,
    "jupyter": {
     "outputs_hidden": false
    }
   },
   "outputs": [],
   "source": [
    "a12 = B1[0,1].subs(c = -α0/α1);"
   ]
  },
  {
   "cell_type": "markdown",
   "metadata": {
    "collapsed": false,
    "jupyter": {
     "outputs_hidden": false
    }
   },
   "source": [
    "##### Analisando os limites"
   ]
  },
  {
   "cell_type": "code",
   "execution_count": null,
   "metadata": {
    "collapsed": false,
    "jupyter": {
     "outputs_hidden": false
    }
   },
   "outputs": [],
   "source": [
    "l1, l2 = limit(a12, t=0, dir='+'), limit(a12, t=1, dir='-') # negativo à esquerda e positivo à direita\n",
    "bool(l1<0), bool(l2>0)"
   ]
  },
  {
   "cell_type": "code",
   "execution_count": null,
   "metadata": {
    "collapsed": false,
    "jupyter": {
     "outputs_hidden": false
    }
   },
   "outputs": [],
   "source": [
    "plot(a12, (x,0,1), ymin=-20, ymax=60)"
   ]
  },
  {
   "cell_type": "code",
   "execution_count": null,
   "metadata": {
    "collapsed": false,
    "jupyter": {
     "outputs_hidden": false
    }
   },
   "outputs": [],
   "source": [
    "assume(u>0)\n",
    "a12_u = a12.simplify_full().subs(t^2+1==((1/2)*(u+1/u))^2).subs(t == (1/2)*(u-1/u)) #show(simplify_local(a11))\n",
    "a12_u = a12_u.expand().factor().canonicalize_radical().numerator().simplify_full(); show(a11_u)"
   ]
  },
  {
   "cell_type": "code",
   "execution_count": null,
   "metadata": {
    "collapsed": false,
    "jupyter": {
     "outputs_hidden": false
    }
   },
   "outputs": [],
   "source": [
    "a12_AA = expr_to_poly(a12_u, AA)                 # transforma os coeficientes para AA\n",
    "st0 = solve(0 == (1/2)*(u-1/u), u) # obtem os valores de u para t=0\n",
    "st1 = solve(1 == (1/2)*(u-1/u), u) # obtem os valores de u para t=1\n",
    "show(st0); show(st1)"
   ]
  },
  {
   "cell_type": "code",
   "execution_count": null,
   "metadata": {
    "collapsed": false,
    "jupyter": {
     "outputs_hidden": false
    }
   },
   "outputs": [],
   "source": [
    "u012 = st0[0].rhs() # positivo\n",
    "u112 = st1[0].rhs()\n",
    "sturm(a12_AA, AA(u012), AA(u112)) # possui raíz r entre 1 e 1+ sqrt(2)"
   ]
  },
  {
   "cell_type": "markdown",
   "metadata": {
    "collapsed": false,
    "jupyter": {
     "outputs_hidden": false
    }
   },
   "source": [
    "#### Conclusão\n",
    "\n",
    "- O polinômio a12_AA tem apenas uma raiz $r_u$ entre $1$ e $\\sqrt{2} + 1\\,$. Consequentemente, existe um único $r$ que anula $a_{11}(c(t),t)$ para $0 < t < 1$.  Já que $\\displaystyle\\lim_{t \\to 0^+}a_{11}(c(t),t)<0$ e $\\displaystyle\\lim_{t \\to 1^-}a_{11}(c(t),t)=+\\infty$, então $a_{11}(c(t),t)<0$ em (0, r) e $a_{11}(c(t),t)>0$ em $(r, 1)$."
   ]
  },
  {
   "cell_type": "markdown",
   "metadata": {
    "collapsed": false,
    "jupyter": {
     "outputs_hidden": false
    }
   },
   "source": [
    "#### Análise do Bloco 2"
   ]
  },
  {
   "cell_type": "code",
   "execution_count": null,
   "metadata": {
    "collapsed": false,
    "jupyter": {
     "outputs_hidden": false
    }
   },
   "outputs": [],
   "source": [
    "B2 = load('blocos/bloco_2_linear_octaedro'); show(B2)"
   ]
  },
  {
   "cell_type": "code",
   "execution_count": null,
   "metadata": {
    "collapsed": false,
    "jupyter": {
     "outputs_hidden": false
    }
   },
   "outputs": [],
   "source": [
    "submatrizes_2x2_dets = B2.minors(2)"
   ]
  },
  {
   "cell_type": "code",
   "execution_count": null,
   "metadata": {
    "collapsed": false,
    "jupyter": {
     "outputs_hidden": false
    }
   },
   "outputs": [],
   "source": [
    "for m in submatrizes_2x2_dets:\n",
    "    show(m)"
   ]
  },
  {
   "cell_type": "code",
   "execution_count": null,
   "metadata": {
    "collapsed": false,
    "jupyter": {
     "outputs_hidden": false
    }
   },
   "outputs": [],
   "source": [
    "p2 = submatrizes_2x2_dets[0].simplify_full();show(p2)\n",
    "print(bool(p2 == submatrizes_2x2_dets[0]))"
   ]
  },
  {
   "cell_type": "code",
   "execution_count": null,
   "metadata": {
    "collapsed": false,
    "jupyter": {
     "outputs_hidden": false
    }
   },
   "outputs": [],
   "source": [
    "assume(u>0)\n",
    "p2_u = p2.simplify_full().subs(t^2+1==((1/2)*(u+1/u))^2).subs(t == (1/2)*(u-1/u))\n",
    "p2_u = p2_u.expand().factor().canonicalize_radical().numerator().simplify_full(); show(p2_u)"
   ]
  },
  {
   "cell_type": "code",
   "execution_count": null,
   "metadata": {
    "collapsed": false,
    "jupyter": {
     "outputs_hidden": false
    }
   },
   "outputs": [],
   "source": [
    "p2_AA = expr_to_poly(p2_u, AA)                 # transforma os coeficientes para AA\n",
    "st0 = solve(0 == (1/2)*(u-1/u), u) # obtem os valores de u para t=0\n",
    "st1 = solve(1 == (1/2)*(u-1/u), u) # obtem os valores de u para t=1\n",
    "show(st0); show(st1)"
   ]
  },
  {
   "cell_type": "markdown",
   "metadata": {
    "collapsed": false,
    "jupyter": {
     "outputs_hidden": false
    }
   },
   "source": [
    "##### Teorema de Sturm"
   ]
  },
  {
   "cell_type": "code",
   "execution_count": null,
   "metadata": {
    "collapsed": false,
    "jupyter": {
     "outputs_hidden": false
    }
   },
   "outputs": [],
   "source": [
    "u0 = st0[0].rhs() # positivo\n",
    "u1 = st1[0].rhs() # positivo\n",
    "sturm(p2_AA, AA(u0), AA(u1))"
   ]
  },
  {
   "cell_type": "markdown",
   "metadata": {
    "collapsed": false,
    "jupyter": {
     "outputs_hidden": false
    }
   },
   "source": [
    "#### Conclusão Bloco 2\n",
    "-  Após a mudança de variável $t=\\frac{1}{2}(u-1/u)$ obtemos um polinômio  na variável $u$. O **Teorema de Sturn** garante que existe apenas uma raiz entre $1$ e $ \\sqrt{2} + 1$. Consequentemente, $p2(t)$ não se anula em  $t\\in (0,1)$."
   ]
  },
  {
   "cell_type": "markdown",
   "metadata": {
    "collapsed": false,
    "jupyter": {
     "outputs_hidden": false
    }
   },
   "source": [
    "### Análise do B4"
   ]
  },
  {
   "cell_type": "code",
   "execution_count": null,
   "metadata": {
    "collapsed": false,
    "jupyter": {
     "outputs_hidden": false
    }
   },
   "outputs": [],
   "source": [
    "B4 = load('blocos/bloco_4_linear_octaedro'); show(B4)"
   ]
  },
  {
   "cell_type": "code",
   "execution_count": null,
   "metadata": {
    "collapsed": false,
    "jupyter": {
     "outputs_hidden": false
    }
   },
   "outputs": [],
   "source": [
    "submatrizes_2x2_dets = B4.minors(2)"
   ]
  },
  {
   "cell_type": "code",
   "execution_count": null,
   "metadata": {
    "collapsed": false,
    "jupyter": {
     "outputs_hidden": false
    }
   },
   "outputs": [],
   "source": [
    "for m in submatrizes_2x2_dets:\n",
    "    show(simplify_local(m))"
   ]
  },
  {
   "cell_type": "code",
   "execution_count": null,
   "metadata": {
    "collapsed": false,
    "jupyter": {
     "outputs_hidden": false
    }
   },
   "outputs": [],
   "source": [
    "p41 = simplify_local(submatrizes_2x2_dets[1]); print(bool(p41==submatrizes_2x2_dets[1])) # teste depois da simplificação\n",
    "p42 = simplify_local(submatrizes_2x2_dets[2]); print(bool(p42==submatrizes_2x2_dets[2])) # teste depois da simplificação"
   ]
  },
  {
   "cell_type": "code",
   "execution_count": null,
   "metadata": {
    "collapsed": false,
    "jupyter": {
     "outputs_hidden": false
    }
   },
   "outputs": [],
   "source": [
    "show(p41); show(p42)"
   ]
  },
  {
   "cell_type": "code",
   "execution_count": null,
   "metadata": {
    "collapsed": false,
    "jupyter": {
     "outputs_hidden": false
    }
   },
   "outputs": [],
   "source": [
    "c0 = solve(p41, c)[0].rhs() # isolando c em p44 e obter c(t)"
   ]
  },
  {
   "cell_type": "code",
   "execution_count": null,
   "metadata": {
    "collapsed": false,
    "jupyter": {
     "outputs_hidden": false
    }
   },
   "outputs": [],
   "source": [
    "u = var('u')\n",
    "assume(u>0)\n",
    "p4 = p42.subs(c=c0); # substitui c0 no polinômio p42 \n",
    "p4_u = p4.simplify_full().subs(t^2+1==((1/2)*(u+1/u))^2).subs(t == (1/2)*(u-1/u))\n",
    "p4_u = p4_u.expand().factor().canonicalize_radical().numerator().simplify_full()\n",
    "show(p4_u)"
   ]
  },
  {
   "cell_type": "code",
   "execution_count": null,
   "metadata": {
    "collapsed": false,
    "jupyter": {
     "outputs_hidden": false
    }
   },
   "outputs": [],
   "source": [
    "p4_AA = expr_to_poly(p4_u, AA)                 # transforma os coeficientes para AA\n",
    "st0 = solve(0 == (1/2)*(u-1/u), u) # obtem os valores de u para t=0\n",
    "st1 = solve(1 == (1/2)*(u-1/u), u) # obtem os valores de u para t=1\n",
    "show(st0); show(st1)"
   ]
  },
  {
   "cell_type": "markdown",
   "metadata": {
    "collapsed": false,
    "jupyter": {
     "outputs_hidden": false
    }
   },
   "source": [
    "##### Terema de Sturm"
   ]
  },
  {
   "cell_type": "code",
   "execution_count": null,
   "metadata": {
    "collapsed": false,
    "jupyter": {
     "outputs_hidden": false
    }
   },
   "outputs": [],
   "source": [
    "u04 = st0[0].rhs() # positivo\n",
    "u14 = st1[0].rhs() # positivo\n",
    "sturm(p4_AA, AA(2/3), AA(u14)) # p4_AA possui raíz em u04 =  1"
   ]
  },
  {
   "cell_type": "code",
   "execution_count": null,
   "metadata": {
    "collapsed": false,
    "jupyter": {
     "outputs_hidden": false
    }
   },
   "outputs": [],
   "source": [
    "bool(p4_AA(u04)==0)"
   ]
  },
  {
   "cell_type": "markdown",
   "metadata": {
    "collapsed": false,
    "jupyter": {
     "outputs_hidden": false
    }
   },
   "source": [
    "##### Conclusão\n",
    "- $u=1$ é raíz do polinômio p4_AA(u). O **Teorema de Sturn** garante que existe apenas uma raiz entre $2/3 < 1$ e $\\sqrt{2}+1$. Logo, não existe raiz entre  $1$ e $\\sqrt{2} + 1$. Consequentemente, $p4(t)$ não se anula em  $t\\in (0,1)$."
   ]
  },
  {
   "cell_type": "code",
   "execution_count": null,
   "metadata": {
    "collapsed": false,
    "jupyter": {
     "outputs_hidden": false
    }
   },
   "outputs": [],
   "source": [
    "plot(p4, 0, 0.9, ymin=-50)"
   ]
  },
  {
   "cell_type": "code",
   "execution_count": null,
   "metadata": {
    "collapsed": false,
    "jupyter": {
     "outputs_hidden": false
    }
   },
   "outputs": [],
   "source": []
  }
 ],
 "metadata": {
  "kernelspec": {
   "display_name": "SageMath 9.5",
   "language": "sage",
   "name": "sagemath"
  },
  "language_info": {
   "codemirror_mode": {
    "name": "ipython",
    "version": 3
   },
   "file_extension": ".py",
   "mimetype": "text/x-python",
   "name": "python",
   "nbconvert_exporter": "python",
   "pygments_lexer": "ipython3",
   "version": "3.10.12"
  }
 },
 "nbformat": 4,
 "nbformat_minor": 4
}
