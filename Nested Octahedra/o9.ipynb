{
 "cells": [
  {
   "cell_type": "markdown",
   "id": "ffb21dcf-562e-4877-869c-d6ef91c85ed9",
   "metadata": {},
   "source": [
    "## Analyzing the block $o_9$ for the Octahedra"
   ]
  },
  {
   "cell_type": "code",
   "execution_count": 15,
   "id": "ea18d897-af44-4d88-a6b8-dd3a0c15945e",
   "metadata": {},
   "outputs": [],
   "source": [
    "load(\"../util.sage\")"
   ]
  },
  {
   "cell_type": "code",
   "execution_count": 16,
   "id": "505c5354-b2f9-4814-9d5d-c034001c7d38",
   "metadata": {},
   "outputs": [
    {
     "data": {
      "text/html": [
       "<html>\\(\\displaystyle \\left(\\begin{array}{rr}\n",
       "-2 \\, c + \\frac{1}{4} & -2 \\, c t + \\frac{t + 1}{t^{3} + 3 \\, t^{2} + 3 \\, t + 1} - \\frac{1}{{\\left(t - 1\\right)}^{2}} \\\\\n",
       "-4 \\, c + \\sqrt{2} & -4 \\, c t + \\frac{4 \\, t}{{\\left(t^{2} + 1\\right)}^{\\frac{3}{2}}} \\\\\n",
       "-2 \\, c + \\frac{t + 1}{t^{3} + 3 \\, t^{2} + 3 \\, t + 1} + \\frac{1}{{\\left(t - 1\\right)}^{2}} & -2 \\, c t + \\frac{1}{4 \\, t^{2}} \\\\\n",
       "-4 \\, c + \\frac{4}{{\\left(t^{2} + 1\\right)}^{\\frac{3}{2}}} & -4 \\, c t + \\frac{\\sqrt{2}}{t^{2}}\n",
       "\\end{array}\\right)\\)</html>"
      ],
      "text/latex": [
       "$\\displaystyle \\left(\\begin{array}{rr}\n",
       "-2 \\, c + \\frac{1}{4} & -2 \\, c t + \\frac{t + 1}{t^{3} + 3 \\, t^{2} + 3 \\, t + 1} - \\frac{1}{{\\left(t - 1\\right)}^{2}} \\\\\n",
       "-4 \\, c + \\sqrt{2} & -4 \\, c t + \\frac{4 \\, t}{{\\left(t^{2} + 1\\right)}^{\\frac{3}{2}}} \\\\\n",
       "-2 \\, c + \\frac{t + 1}{t^{3} + 3 \\, t^{2} + 3 \\, t + 1} + \\frac{1}{{\\left(t - 1\\right)}^{2}} & -2 \\, c t + \\frac{1}{4 \\, t^{2}} \\\\\n",
       "-4 \\, c + \\frac{4}{{\\left(t^{2} + 1\\right)}^{\\frac{3}{2}}} & -4 \\, c t + \\frac{\\sqrt{2}}{t^{2}}\n",
       "\\end{array}\\right)$"
      ],
      "text/plain": [
       "[                                            -2*c + 1/4 -2*c*t + (t + 1)/(t^3 + 3*t^2 + 3*t + 1) - 1/(t - 1)^2]\n",
       "[                                        -4*c + sqrt(2)                           -4*c*t + 4*t/(t^2 + 1)^(3/2)]\n",
       "[  -2*c + (t + 1)/(t^3 + 3*t^2 + 3*t + 1) + 1/(t - 1)^2                                       -2*c*t + 1/4/t^2]\n",
       "[                              -4*c + 4/(t^2 + 1)^(3/2)                                   -4*c*t + sqrt(2)/t^2]"
      ]
     },
     "metadata": {},
     "output_type": "display_data"
    }
   ],
   "source": [
    "o9 = load('blocks/linear_block_4')\n",
    "o9 = o9.apply_map(lambda x: x.simplify_real().combine()); show(o9)"
   ]
  },
  {
   "cell_type": "code",
   "execution_count": 17,
   "id": "f530e900-1e91-424c-9f6b-2c4e869c81de",
   "metadata": {},
   "outputs": [],
   "source": [
    "# List of all 2 x 2 minors of o9\n",
    "minors = o9.minors(2) "
   ]
  },
  {
   "cell_type": "code",
   "execution_count": 18,
   "id": "56075ad7-d9ba-4e57-bc31-82f55aa947a7",
   "metadata": {},
   "outputs": [],
   "source": [
    "# Choose one of the minors of o9 and obtain the simplified expression\n",
    "# checks if p1 was modified after simplification\n",
    "p91 = simplify_expression(minors[1]) # p91(c, t)\n",
    "p92 = simplify_expression(minors[2]) # p92(c, t)\n"
   ]
  },
  {
   "cell_type": "code",
   "execution_count": 19,
   "id": "18405f2d-4387-4986-b8d0-e99684a0532b",
   "metadata": {},
   "outputs": [
    {
     "name": "stdout",
     "output_type": "stream",
     "text": [
      "True\n",
      "True\n"
     ]
    }
   ],
   "source": [
    "# checks if p1 was modified after simplification\n",
    "print(bool(p91==minors[1])) \n",
    "print(bool(p92==minors[2])) "
   ]
  },
  {
   "cell_type": "code",
   "execution_count": 20,
   "id": "894bc77a-ec3e-4314-889d-52ed97259e2f",
   "metadata": {},
   "outputs": [],
   "source": [
    "# Isolating c in p91 to obtain c(t)\n",
    "c0 = solve(p91, c)[0].rhs() "
   ]
  },
  {
   "cell_type": "code",
   "execution_count": 21,
   "id": "a8ff4e6f-1e2d-4bb0-9ce3-064a0b2058dc",
   "metadata": {},
   "outputs": [],
   "source": [
    "# Replaces c0 in the polynomial p92\n",
    "p9 = p92.subs(c=c0); "
   ]
  },
  {
   "cell_type": "markdown",
   "id": "870044ec-aee1-49eb-86e2-c33319ba485b",
   "metadata": {},
   "source": [
    "##### Change of variables:   $t=\\frac{1}{2}(u-1/u)$"
   ]
  },
  {
   "cell_type": "code",
   "execution_count": 22,
   "id": "e3dabb62-9dcf-4a1f-b575-0ddee1a0cfff",
   "metadata": {},
   "outputs": [],
   "source": [
    "u = var('u')\n",
    "assume(u>0)\n",
    "p9_u = p9.simplify_full().subs(t^2+1==((1/2)*(u+1/u))^2).subs(t == (1/2)*(u-1/u))\n",
    "p9_u_numerator = p9_u.expand().factor().canonicalize_radical().numerator().simplify_full()\n"
   ]
  },
  {
   "cell_type": "code",
   "execution_count": 23,
   "id": "878e5a5f-ce4f-4a83-9e94-e4a073274792",
   "metadata": {},
   "outputs": [],
   "source": [
    "# Calculate the values of u for t = 0 and t = 1\n",
    "st0 =  solve(0 == (1/2)*(u-1/u), u)\n",
    "st1 = solve(1 == (1/2)*(u-1/u), u)\n",
    "\n",
    "#Extract the positive values for u0 and u1\n",
    "u0 = st0[0].rhs()\n",
    "u1 = st1[0].rhs() \n"
   ]
  },
  {
   "cell_type": "markdown",
   "id": "92129462-8820-4f1c-b880-6730293d20c5",
   "metadata": {},
   "source": [
    "##### Apply Sturm's Theorem"
   ]
  },
  {
   "cell_type": "code",
   "execution_count": 24,
   "id": "8f217403-b06f-4be8-b06e-f1f5fed28dc5",
   "metadata": {},
   "outputs": [],
   "source": [
    "# Converts an expression to a polynomial in Ring AA \n",
    "p9_u_numerator_AA = expr_to_poly(p9_u_numerator, AA)          "
   ]
  },
  {
   "cell_type": "code",
   "execution_count": 25,
   "id": "3ffca03c-21d9-4c74-aa28-ab24150a70a7",
   "metadata": {},
   "outputs": [
    {
     "data": {
      "text/plain": [
       "1"
      ]
     },
     "execution_count": 25,
     "metadata": {},
     "output_type": "execute_result"
    }
   ],
   "source": [
    "# Apply Sturm's theorem to determine the number of roots of q4_AA in (13/10, u1)\n",
    "sturm(p9_u_numerator_AA, AA(2/3), AA(u1))"
   ]
  },
  {
   "cell_type": "code",
   "execution_count": 26,
   "id": "96bc8153-990a-47bb-b6c3-b56d4a7f39f3",
   "metadata": {},
   "outputs": [
    {
     "data": {
      "text/plain": [
       "True"
      ]
     },
     "execution_count": 26,
     "metadata": {},
     "output_type": "execute_result"
    }
   ],
   "source": [
    "bool(u0 > 2/3) # u0 in (2/3, u1)"
   ]
  },
  {
   "cell_type": "code",
   "execution_count": 27,
   "id": "c393d78b-1f17-414d-9aab-0793f947245c",
   "metadata": {},
   "outputs": [
    {
     "data": {
      "text/plain": [
       "True"
      ]
     },
     "execution_count": 27,
     "metadata": {},
     "output_type": "execute_result"
    }
   ],
   "source": [
    "# Check if u1 is a root of p9_AA\n",
    "p9_u_numerator_AA(u0).is_zero() "
   ]
  },
  {
   "cell_type": "code",
   "execution_count": null,
   "id": "34e6c2a4-ef7c-4e92-aaf0-28d7b3eae247",
   "metadata": {},
   "outputs": [],
   "source": []
  },
  {
   "cell_type": "code",
   "execution_count": null,
   "id": "909fe250-aef4-435b-a2ca-0d49d9bdd01c",
   "metadata": {},
   "outputs": [],
   "source": []
  }
 ],
 "metadata": {
  "kernelspec": {
   "display_name": "SageMath 10.3",
   "language": "sage",
   "name": "sagemath"
  },
  "language_info": {
   "codemirror_mode": {
    "name": "ipython",
    "version": 3
   },
   "file_extension": ".py",
   "mimetype": "text/x-python",
   "name": "python",
   "nbconvert_exporter": "python",
   "pygments_lexer": "ipython3",
   "version": "3.12.3"
  },
  "widgets": {
   "application/vnd.jupyter.widget-state+json": {
    "state": {},
    "version_major": 2,
    "version_minor": 0
   }
  }
 },
 "nbformat": 4,
 "nbformat_minor": 5
}
